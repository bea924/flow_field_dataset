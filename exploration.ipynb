{
 "cells": [
  {
   "cell_type": "code",
   "execution_count": 8,
   "metadata": {},
   "outputs": [
    {
     "name": "stdout",
     "output_type": "stream",
     "text": [
      "The autoreload extension is already loaded. To reload it, use:\n",
      "  %reload_ext autoreload\n"
     ]
    }
   ],
   "source": [
    "%load_ext autoreload\n",
    "%autoreload 2"
   ]
  },
  {
   "cell_type": "code",
   "execution_count": 44,
   "metadata": {},
   "outputs": [
    {
     "name": "stdout",
     "output_type": "stream",
     "text": [
      "3\n"
     ]
    },
    {
     "name": "stderr",
     "output_type": "stream",
     "text": [
      "\u001b[0m\u001b[33m2025-01-20 18:08:23.650 (1703.298s) [           BD528]      vtkCGNSReader.cxx:4266  WARN| vtkCGNSReader (0x31c1bf9d0): Skipping BC_t node: BC_t type 'BCInflow' not supported yet.\u001b[0m\n",
      "\u001b[0m\u001b[33m2025-01-20 18:08:23.650 (1703.299s) [           BD528]      vtkCGNSReader.cxx:4266  WARN| vtkCGNSReader (0x31c1bf9d0): Skipping BC_t node: BC_t type 'BCSymmetryPlane' not supported yet.\u001b[0m\n",
      "\u001b[0m\u001b[33m2025-01-20 18:08:23.650 (1703.299s) [           BD528]      vtkCGNSReader.cxx:4266  WARN| vtkCGNSReader (0x31c1bf9d0): Skipping BC_t node: BC_t type 'BCTunnelOutflow' not supported yet.\u001b[0m\n"
     ]
    },
    {
     "data": {
      "text/html": [
       "<table style='width: 100%;'><tr><th>Header</th><th>Data Arrays</th></tr><tr><td>\n",
       "<table style='width: 100%;'>\n",
       "<tr><th>UnstructuredGrid</th><th>Information</th></tr>\n",
       "<tr><td>N Cells</td><td>19727</td></tr>\n",
       "<tr><td>N Points</td><td>20413</td></tr>\n",
       "<tr><td>X Bounds</td><td>0.000e+00, 4.000e-01</td></tr>\n",
       "<tr><td>Y Bounds</td><td>-6.558e-02, 3.442e-02</td></tr>\n",
       "<tr><td>Z Bounds</td><td>0.000e+00, 2.000e-02</td></tr>\n",
       "<tr><td>N Arrays</td><td>10</td></tr>\n",
       "</table>\n",
       "\n",
       "</td><td>\n",
       "<table style='width: 100%;'>\n",
       "<tr><th>Name</th><th>Field</th><th>Type</th><th>N Comp</th><th>Min</th><th>Max</th></tr>\n",
       "<tr><td>SkinFriction</td><td>Cells</td><td>float64</td><td>3</td><td>-6.834e-01</td><td>1.144e+00</td></tr>\n",
       "<tr><td>AreaMagnitude</td><td>Cells</td><td>float64</td><td>1</td><td>8.608e-07</td><td>5.793e-06</td></tr>\n",
       "<tr><td>Pressure</td><td>Cells</td><td>float64</td><td>1</td><td>-5.857e+00</td><td>3.182e+01</td></tr>\n",
       "<tr><td>Temperature</td><td>Cells</td><td>float64</td><td>1</td><td>2.932e+02</td><td>2.932e+02</td></tr>\n",
       "<tr><td>WallShearStressMagnitude</td><td>Cells</td><td>float64</td><td>1</td><td>1.326e-03</td><td>1.144e+00</td></tr>\n",
       "<tr><td>WallShearStress_0</td><td>Cells</td><td>float64</td><td>1</td><td>-2.809e-01</td><td>1.144e+00</td></tr>\n",
       "<tr><td>WallShearStress_1</td><td>Cells</td><td>float64</td><td>1</td><td>-6.834e-01</td><td>6.529e-01</td></tr>\n",
       "<tr><td>WallShearStress_2</td><td>Cells</td><td>float64</td><td>1</td><td>-7.798e-09</td><td>7.776e-09</td></tr>\n",
       "<tr><td>Base/Zone</td><td>Fields</td><td><U14</td><td>1</td><td>nan</td><td>nan</td></tr>\n",
       "<tr><td>ispatch</td><td>Fields</td><td>int32</td><td>1</td><td>0.000e+00</td><td>0.000e+00</td></tr>\n",
       "</table>\n",
       "\n",
       "</td></tr> </table>"
      ],
      "text/plain": [
       "UnstructuredGrid (0x112156440)\n",
       "  N Cells:    19727\n",
       "  N Points:   20413\n",
       "  X Bounds:   0.000e+00, 4.000e-01\n",
       "  Y Bounds:   -6.558e-02, 3.442e-02\n",
       "  Z Bounds:   0.000e+00, 2.000e-02\n",
       "  N Arrays:   10"
      ]
     },
     "execution_count": 44,
     "metadata": {},
     "output_type": "execute_result"
    }
   ],
   "source": [
    "from src.pyvista_flow_field_dataset import PyvistaFlowFieldDataset\n",
    "\n",
    "ds = PyvistaFlowFieldDataset(\"datasets/Example cgns volume + surface/\")\n",
    "print(len(ds))\n",
    "p=ds[2]\n",
    "p.volume_data[0][0][0].cell_data\n",
    "p.surface_data[0][0]"
   ]
  },
  {
   "cell_type": "code",
   "execution_count": 70,
   "metadata": {},
   "outputs": [
    {
     "data": {
      "text/html": [
       "<table style='width: 100%;'><tr><th>Header</th><th>Data Arrays</th></tr><tr><td>\n",
       "<table style='width: 100%;'>\n",
       "<tr><th>UnstructuredGrid</th><th>Information</th></tr>\n",
       "<tr><td>N Cells</td><td>165805</td></tr>\n",
       "<tr><td>N Points</td><td>181548</td></tr>\n",
       "<tr><td>X Bounds</td><td>0.000e+00, 4.000e-01</td></tr>\n",
       "<tr><td>Y Bounds</td><td>-6.558e-02, 3.442e-02</td></tr>\n",
       "<tr><td>Z Bounds</td><td>0.000e+00, 2.000e-02</td></tr>\n",
       "<tr><td>N Arrays</td><td>11</td></tr>\n",
       "</table>\n",
       "\n",
       "</td><td>\n",
       "<table style='width: 100%;'>\n",
       "<tr><th>Name</th><th>Field</th><th>Type</th><th>N Comp</th><th>Min</th><th>Max</th></tr>\n",
       "<tr><td>Velocity</td><td>Cells</td><td>float64</td><td>3</td><td>-4.992e+00</td><td>8.562e+00</td></tr>\n",
       "<tr><td>Pressure</td><td>Cells</td><td>float64</td><td>1</td><td>-2.311e+01</td><td>4.451e+01</td></tr>\n",
       "<tr><td>Temperature</td><td>Cells</td><td>float64</td><td>1</td><td>2.931e+02</td><td>2.932e+02</td></tr>\n",
       "<tr><td>TotalSolverCPUTimeReport</td><td>Cells</td><td>float64</td><td>1</td><td>4.167e+02</td><td>4.167e+02</td></tr>\n",
       "<tr><td>VelocityMagnitude</td><td>Cells</td><td>float64</td><td>1</td><td>9.990e-03</td><td>8.589e+00</td></tr>\n",
       "<tr><td>Velocity_0</td><td>Cells</td><td>float64</td><td>1</td><td>-1.999e+00</td><td>8.562e+00</td></tr>\n",
       "<tr><td>Velocity_1</td><td>Cells</td><td>float64</td><td>1</td><td>-4.992e+00</td><td>5.329e+00</td></tr>\n",
       "<tr><td>Velocity_2</td><td>Cells</td><td>float64</td><td>1</td><td>-1.899e+00</td><td>5.083e+00</td></tr>\n",
       "<tr><td>Volume</td><td>Cells</td><td>float64</td><td>1</td><td>7.065e-11</td><td>8.000e-09</td></tr>\n",
       "<tr><td>Base/Zone</td><td>Fields</td><td><U9</td><td>1</td><td>nan</td><td>nan</td></tr>\n",
       "<tr><td>ispatch</td><td>Fields</td><td>int32</td><td>1</td><td>0.000e+00</td><td>0.000e+00</td></tr>\n",
       "</table>\n",
       "\n",
       "</td></tr> </table>"
      ],
      "text/plain": [
       "UnstructuredGrid (0x1126d18a0)\n",
       "  N Cells:    165805\n",
       "  N Points:   181548\n",
       "  X Bounds:   0.000e+00, 4.000e-01\n",
       "  Y Bounds:   -6.558e-02, 3.442e-02\n",
       "  Z Bounds:   0.000e+00, 2.000e-02\n",
       "  N Arrays:   11"
      ]
     },
     "execution_count": 70,
     "metadata": {},
     "output_type": "execute_result"
    }
   ],
   "source": [
    "p.volume_data[0][0][0]"
   ]
  },
  {
   "cell_type": "code",
   "execution_count": 74,
   "metadata": {},
   "outputs": [
    {
     "data": {
      "application/vnd.jupyter.widget-view+json": {
       "model_id": "947475bec2df4667b1f9de565d74d8cf",
       "version_major": 2,
       "version_minor": 0
      },
      "text/plain": [
       "Widget(value='<iframe src=\"http://localhost:55634/index.html?ui=P_0x32f4a2950_11&reconnect=auto\" class=\"pyvist…"
      ]
     },
     "metadata": {},
     "output_type": "display_data"
    }
   ],
   "source": [
    "p.plot_volume('Velocity')"
   ]
  },
  {
   "cell_type": "code",
   "execution_count": 65,
   "metadata": {},
   "outputs": [
    {
     "data": {
      "application/vnd.jupyter.widget-view+json": {
       "model_id": "8297398554e34ff8a29ba1e95f2be5be",
       "version_major": 2,
       "version_minor": 0
      },
      "text/plain": [
       "Widget(value='<iframe src=\"http://localhost:55634/index.html?ui=P_0x1111de1d0_6&reconnect=auto\" class=\"pyvista…"
      ]
     },
     "metadata": {},
     "output_type": "display_data"
    }
   ],
   "source": [
    "p.surface_data.plot(scalars=\"Pressure\")"
   ]
  },
  {
   "cell_type": "code",
   "execution_count": 56,
   "metadata": {},
   "outputs": [],
   "source": [
    "from src.dgl_flow_field_dataset import DGLSurfaceFlowFieldDataset\n",
    "dglds = DGLSurfaceFlowFieldDataset(\"datasets/dgl_surface\",ds)"
   ]
  },
  {
   "cell_type": "code",
   "execution_count": 57,
   "metadata": {},
   "outputs": [
    {
     "data": {
      "text/plain": [
       "Graph(num_nodes=19598, num_edges=153554,\n",
       "      ndata_schemes={'ShearStress': Scheme(shape=(3,), dtype=torch.float32), 'Position': Scheme(shape=(3,), dtype=torch.float32), 'Pressure': Scheme(shape=(), dtype=torch.float32)}\n",
       "      edata_schemes={'dx': Scheme(shape=(3,), dtype=torch.float32)})"
      ]
     },
     "execution_count": 57,
     "metadata": {},
     "output_type": "execute_result"
    }
   ],
   "source": [
    "dglds[0]"
   ]
  },
  {
   "cell_type": "code",
   "execution_count": 39,
   "metadata": {},
   "outputs": [],
   "source": [
    "import pyvista as pv\n",
    "grid = pv.ImageData()"
   ]
  },
  {
   "cell_type": "code",
   "execution_count": 40,
   "metadata": {},
   "outputs": [
    {
     "ename": "ValueError",
     "evalue": "Empty meshes cannot be plotted. Input mesh has zero points. To allow plotting empty meshes, set `pv.global_theme.allow_empty_mesh = True`",
     "output_type": "error",
     "traceback": [
      "\u001b[0;31m---------------------------------------------------------------------------\u001b[0m",
      "\u001b[0;31mValueError\u001b[0m                                Traceback (most recent call last)",
      "Cell \u001b[0;32mIn[40], line 4\u001b[0m\n\u001b[1;32m      2\u001b[0m grid_size \u001b[38;5;241m=\u001b[39m [\u001b[38;5;241m50\u001b[39m, \u001b[38;5;241m50\u001b[39m, \u001b[38;5;241m50\u001b[39m]  \u001b[38;5;66;03m# Specify resolution of the voxel grid\u001b[39;00m\n\u001b[1;32m      3\u001b[0m voxelized \u001b[38;5;241m=\u001b[39m pv\u001b[38;5;241m.\u001b[39mvoxelize(ug, density\u001b[38;5;241m=\u001b[39mgrid_size)\n\u001b[0;32m----> 4\u001b[0m \u001b[43mvoxelized\u001b[49m\u001b[38;5;241;43m.\u001b[39;49m\u001b[43mplot\u001b[49m\u001b[43m(\u001b[49m\u001b[43mshow_edges\u001b[49m\u001b[38;5;241;43m=\u001b[39;49m\u001b[38;5;28;43;01mTrue\u001b[39;49;00m\u001b[43m)\u001b[49m\n",
      "File \u001b[0;32m/opt/homebrew/lib/python3.11/site-packages/pyvista/_plot.py:266\u001b[0m, in \u001b[0;36mplot\u001b[0;34m(var_item, off_screen, full_screen, screenshot, interactive, cpos, window_size, show_bounds, show_axes, notebook, background, text, return_img, eye_dome_lighting, volume, parallel_projection, jupyter_backend, return_viewer, return_cpos, jupyter_kwargs, theme, anti_aliasing, zoom, border, border_color, border_width, ssao, **kwargs)\u001b[0m\n\u001b[1;32m    264\u001b[0m         pl\u001b[38;5;241m.\u001b[39madd_composite(var_item, \u001b[38;5;241m*\u001b[39m\u001b[38;5;241m*\u001b[39mkwargs)\n\u001b[1;32m    265\u001b[0m     \u001b[38;5;28;01melse\u001b[39;00m:\n\u001b[0;32m--> 266\u001b[0m         \u001b[43mpl\u001b[49m\u001b[38;5;241;43m.\u001b[39;49m\u001b[43madd_mesh\u001b[49m\u001b[43m(\u001b[49m\u001b[43mvar_item\u001b[49m\u001b[43m,\u001b[49m\u001b[43m \u001b[49m\u001b[38;5;241;43m*\u001b[39;49m\u001b[38;5;241;43m*\u001b[39;49m\u001b[43mkwargs\u001b[49m\u001b[43m)\u001b[49m\n\u001b[1;32m    268\u001b[0m \u001b[38;5;28;01mif\u001b[39;00m text:\n\u001b[1;32m    269\u001b[0m     pl\u001b[38;5;241m.\u001b[39madd_text(text)\n",
      "File \u001b[0;32m/opt/homebrew/lib/python3.11/site-packages/pyvista/plotting/plotter.py:3515\u001b[0m, in \u001b[0;36mBasePlotter.add_mesh\u001b[0;34m(self, mesh, color, style, scalars, clim, show_edges, edge_color, point_size, line_width, opacity, flip_scalars, lighting, n_colors, interpolate_before_map, cmap, label, reset_camera, scalar_bar_args, show_scalar_bar, multi_colors, name, texture, render_points_as_spheres, render_lines_as_tubes, smooth_shading, split_sharp_edges, ambient, diffuse, specular, specular_power, nan_color, nan_opacity, culling, rgb, categories, silhouette, use_transparency, below_color, above_color, annotations, pickable, preference, log_scale, pbr, metallic, roughness, render, user_matrix, component, emissive, copy_mesh, backface_params, show_vertices, edge_opacity, **kwargs)\u001b[0m\n\u001b[1;32m   3511\u001b[0m         \u001b[38;5;28;01mraise\u001b[39;00m \u001b[38;5;167;01mValueError\u001b[39;00m(\u001b[38;5;124m'\u001b[39m\u001b[38;5;124mRGB array must be n_points/n_cells by 3/4 in shape.\u001b[39m\u001b[38;5;124m'\u001b[39m)\n\u001b[1;32m   3513\u001b[0m \u001b[38;5;28;01mif\u001b[39;00m algo \u001b[38;5;129;01mis\u001b[39;00m \u001b[38;5;28;01mNone\u001b[39;00m \u001b[38;5;129;01mand\u001b[39;00m \u001b[38;5;129;01mnot\u001b[39;00m \u001b[38;5;28mself\u001b[39m\u001b[38;5;241m.\u001b[39mtheme\u001b[38;5;241m.\u001b[39mallow_empty_mesh \u001b[38;5;129;01mand\u001b[39;00m \u001b[38;5;129;01mnot\u001b[39;00m mesh\u001b[38;5;241m.\u001b[39mn_points:\n\u001b[1;32m   3514\u001b[0m     \u001b[38;5;66;03m# Algorithms may initialize with an empty mesh\u001b[39;00m\n\u001b[0;32m-> 3515\u001b[0m     \u001b[38;5;28;01mraise\u001b[39;00m \u001b[38;5;167;01mValueError\u001b[39;00m(\n\u001b[1;32m   3516\u001b[0m         \u001b[38;5;124m'\u001b[39m\u001b[38;5;124mEmpty meshes cannot be plotted. Input mesh has zero points. To allow plotting empty meshes, set `pv.global_theme.allow_empty_mesh = True`\u001b[39m\u001b[38;5;124m'\u001b[39m\n\u001b[1;32m   3517\u001b[0m     )\n\u001b[1;32m   3519\u001b[0m \u001b[38;5;66;03m# set main values\u001b[39;00m\n\u001b[1;32m   3520\u001b[0m \u001b[38;5;28mself\u001b[39m\u001b[38;5;241m.\u001b[39mmesh \u001b[38;5;241m=\u001b[39m mesh\n",
      "\u001b[0;31mValueError\u001b[0m: Empty meshes cannot be plotted. Input mesh has zero points. To allow plotting empty meshes, set `pv.global_theme.allow_empty_mesh = True`"
     ]
    }
   ],
   "source": [
    "ug = p.volume_data[0][0]\n",
    "grid_size = [50, 50, 50]  # Specify resolution of the voxel grid\n",
    "voxelized = pv.voxelize(ug, density=grid_size)\n",
    "voxelized.plot(show_edges=True)\n"
   ]
  },
  {
   "cell_type": "code",
   "execution_count": 3,
   "metadata": {},
   "outputs": [
    {
     "ename": "FileNotFoundError",
     "evalue": "Cannot find DGL C++ graphbolt library at /Users/ole/Library/Caches/pypoetry/virtualenvs/flow-field-dataset-67TwDG7U-py3.12/lib/python3.12/site-packages/dgl/graphbolt/libgraphbolt_pytorch_2.3.1.dylib",
     "output_type": "error",
     "traceback": [
      "\u001b[0;31m---------------------------------------------------------------------------\u001b[0m",
      "\u001b[0;31mFileNotFoundError\u001b[0m                         Traceback (most recent call last)",
      "Cell \u001b[0;32mIn[3], line 1\u001b[0m\n\u001b[0;32m----> 1\u001b[0m \u001b[38;5;28;01mfrom\u001b[39;00m\u001b[38;5;250m \u001b[39m\u001b[38;5;21;01msrc\u001b[39;00m\u001b[38;5;21;01m.\u001b[39;00m\u001b[38;5;21;01mdgl_flow_field_dataset\u001b[39;00m\u001b[38;5;250m \u001b[39m\u001b[38;5;28;01mimport\u001b[39;00m DGLVolumeFlowFieldDataset\n\u001b[1;32m      2\u001b[0m ds_dgl \u001b[38;5;241m=\u001b[39m DGLVolumeFlowFieldDataset(\u001b[38;5;124m\"\u001b[39m\u001b[38;5;124mdatasets/dgl_volume\u001b[39m\u001b[38;5;124m\"\u001b[39m,ds)\n",
      "File \u001b[0;32m~/Documents/software/flow_field_dataset/src/dgl_flow_field_dataset.py:2\u001b[0m\n\u001b[1;32m      1\u001b[0m \u001b[38;5;28;01mimport\u001b[39;00m\u001b[38;5;250m \u001b[39m\u001b[38;5;21;01mos\u001b[39;00m\n\u001b[0;32m----> 2\u001b[0m \u001b[38;5;28;01mimport\u001b[39;00m\u001b[38;5;250m \u001b[39m\u001b[38;5;21;01mdgl\u001b[39;00m\n\u001b[1;32m      3\u001b[0m \u001b[38;5;28;01mimport\u001b[39;00m\u001b[38;5;250m \u001b[39m\u001b[38;5;21;01mtorch\u001b[39;00m\n\u001b[1;32m      4\u001b[0m \u001b[38;5;28;01mimport\u001b[39;00m\u001b[38;5;250m \u001b[39m\u001b[38;5;21;01mpyvista\u001b[39;00m\u001b[38;5;250m \u001b[39m\u001b[38;5;28;01mas\u001b[39;00m\u001b[38;5;250m \u001b[39m\u001b[38;5;21;01mpv\u001b[39;00m\n",
      "File \u001b[0;32m~/Library/Caches/pypoetry/virtualenvs/flow-field-dataset-67TwDG7U-py3.12/lib/python3.12/site-packages/dgl/__init__.py:16\u001b[0m\n\u001b[1;32m     13\u001b[0m \u001b[38;5;28;01mfrom\u001b[39;00m\u001b[38;5;250m \u001b[39m\u001b[38;5;21;01m.\u001b[39;00m\u001b[38;5;21;01mlogging\u001b[39;00m\u001b[38;5;250m \u001b[39m\u001b[38;5;28;01mimport\u001b[39;00m enable_verbose_logging  \u001b[38;5;66;03m# usort: skip\u001b[39;00m\n\u001b[1;32m     14\u001b[0m \u001b[38;5;28;01mfrom\u001b[39;00m\u001b[38;5;250m \u001b[39m\u001b[38;5;21;01m.\u001b[39;00m\u001b[38;5;21;01mbackend\u001b[39;00m\u001b[38;5;250m \u001b[39m\u001b[38;5;28;01mimport\u001b[39;00m backend_name, load_backend  \u001b[38;5;66;03m# usort: skip\u001b[39;00m\n\u001b[0;32m---> 16\u001b[0m \u001b[38;5;28;01mfrom\u001b[39;00m\u001b[38;5;250m \u001b[39m\u001b[38;5;21;01m.\u001b[39;00m\u001b[38;5;250m \u001b[39m\u001b[38;5;28;01mimport\u001b[39;00m (\n\u001b[1;32m     17\u001b[0m     container,\n\u001b[1;32m     18\u001b[0m     cuda,\n\u001b[1;32m     19\u001b[0m     dataloading,\n\u001b[1;32m     20\u001b[0m     function,\n\u001b[1;32m     21\u001b[0m     ops,\n\u001b[1;32m     22\u001b[0m     random,\n\u001b[1;32m     23\u001b[0m     sampling,\n\u001b[1;32m     24\u001b[0m     storages,\n\u001b[1;32m     25\u001b[0m )\n\u001b[1;32m     26\u001b[0m \u001b[38;5;28;01mfrom\u001b[39;00m\u001b[38;5;250m \u001b[39m\u001b[38;5;21;01m.\u001b[39;00m\u001b[38;5;21;01m_ffi\u001b[39;00m\u001b[38;5;21;01m.\u001b[39;00m\u001b[38;5;21;01mbase\u001b[39;00m\u001b[38;5;250m \u001b[39m\u001b[38;5;28;01mimport\u001b[39;00m __version__, DGLError\n\u001b[1;32m     27\u001b[0m \u001b[38;5;28;01mfrom\u001b[39;00m\u001b[38;5;250m \u001b[39m\u001b[38;5;21;01m.\u001b[39;00m\u001b[38;5;21;01m_ffi\u001b[39;00m\u001b[38;5;21;01m.\u001b[39;00m\u001b[38;5;21;01mfunction\u001b[39;00m\u001b[38;5;250m \u001b[39m\u001b[38;5;28;01mimport\u001b[39;00m (\n\u001b[1;32m     28\u001b[0m     extract_ext_funcs,\n\u001b[1;32m     29\u001b[0m     get_global_func,\n\u001b[1;32m     30\u001b[0m     list_global_func_names,\n\u001b[1;32m     31\u001b[0m     register_func,\n\u001b[1;32m     32\u001b[0m )\n",
      "File \u001b[0;32m~/Library/Caches/pypoetry/virtualenvs/flow-field-dataset-67TwDG7U-py3.12/lib/python3.12/site-packages/dgl/dataloading/__init__.py:13\u001b[0m\n\u001b[1;32m     11\u001b[0m \u001b[38;5;28;01mif\u001b[39;00m F\u001b[38;5;241m.\u001b[39mget_preferred_backend() \u001b[38;5;241m==\u001b[39m \u001b[38;5;124m\"\u001b[39m\u001b[38;5;124mpytorch\u001b[39m\u001b[38;5;124m\"\u001b[39m:\n\u001b[1;32m     12\u001b[0m     \u001b[38;5;28;01mfrom\u001b[39;00m\u001b[38;5;250m \u001b[39m\u001b[38;5;21;01m.\u001b[39;00m\u001b[38;5;21;01mspot_target\u001b[39;00m\u001b[38;5;250m \u001b[39m\u001b[38;5;28;01mimport\u001b[39;00m \u001b[38;5;241m*\u001b[39m\n\u001b[0;32m---> 13\u001b[0m     \u001b[38;5;28;01mfrom\u001b[39;00m\u001b[38;5;250m \u001b[39m\u001b[38;5;21;01m.\u001b[39;00m\u001b[38;5;21;01mdataloader\u001b[39;00m\u001b[38;5;250m \u001b[39m\u001b[38;5;28;01mimport\u001b[39;00m \u001b[38;5;241m*\u001b[39m\n\u001b[1;32m     14\u001b[0m     \u001b[38;5;28;01mfrom\u001b[39;00m\u001b[38;5;250m \u001b[39m\u001b[38;5;21;01m.\u001b[39;00m\u001b[38;5;21;01mdist_dataloader\u001b[39;00m\u001b[38;5;250m \u001b[39m\u001b[38;5;28;01mimport\u001b[39;00m \u001b[38;5;241m*\u001b[39m\n",
      "File \u001b[0;32m~/Library/Caches/pypoetry/virtualenvs/flow-field-dataset-67TwDG7U-py3.12/lib/python3.12/site-packages/dgl/dataloading/dataloader.py:27\u001b[0m\n\u001b[1;32m     25\u001b[0m \u001b[38;5;28;01mfrom\u001b[39;00m\u001b[38;5;250m \u001b[39m\u001b[38;5;21;01m.\u001b[39;00m\u001b[38;5;21;01m.\u001b[39;00m\u001b[38;5;21;01mbatch\u001b[39;00m\u001b[38;5;250m \u001b[39m\u001b[38;5;28;01mimport\u001b[39;00m batch \u001b[38;5;28;01mas\u001b[39;00m batch_graphs\n\u001b[1;32m     26\u001b[0m \u001b[38;5;28;01mfrom\u001b[39;00m\u001b[38;5;250m \u001b[39m\u001b[38;5;21;01m.\u001b[39;00m\u001b[38;5;21;01m.\u001b[39;00m\u001b[38;5;21;01mcuda\u001b[39;00m\u001b[38;5;250m \u001b[39m\u001b[38;5;28;01mimport\u001b[39;00m GPUCache\n\u001b[0;32m---> 27\u001b[0m \u001b[38;5;28;01mfrom\u001b[39;00m\u001b[38;5;250m \u001b[39m\u001b[38;5;21;01m.\u001b[39;00m\u001b[38;5;21;01m.\u001b[39;00m\u001b[38;5;21;01mdistributed\u001b[39;00m\u001b[38;5;250m \u001b[39m\u001b[38;5;28;01mimport\u001b[39;00m DistGraph\n\u001b[1;32m     28\u001b[0m \u001b[38;5;28;01mfrom\u001b[39;00m\u001b[38;5;250m \u001b[39m\u001b[38;5;21;01m.\u001b[39;00m\u001b[38;5;21;01m.\u001b[39;00m\u001b[38;5;21;01mframe\u001b[39;00m\u001b[38;5;250m \u001b[39m\u001b[38;5;28;01mimport\u001b[39;00m LazyFeature\n\u001b[1;32m     29\u001b[0m \u001b[38;5;28;01mfrom\u001b[39;00m\u001b[38;5;250m \u001b[39m\u001b[38;5;21;01m.\u001b[39;00m\u001b[38;5;21;01m.\u001b[39;00m\u001b[38;5;21;01mheterograph\u001b[39;00m\u001b[38;5;250m \u001b[39m\u001b[38;5;28;01mimport\u001b[39;00m DGLGraph\n",
      "File \u001b[0;32m~/Library/Caches/pypoetry/virtualenvs/flow-field-dataset-67TwDG7U-py3.12/lib/python3.12/site-packages/dgl/distributed/__init__.py:5\u001b[0m\n\u001b[1;32m      3\u001b[0m \u001b[38;5;28;01mfrom\u001b[39;00m\u001b[38;5;250m \u001b[39m\u001b[38;5;21;01m.\u001b[39;00m\u001b[38;5;21;01mdist_context\u001b[39;00m\u001b[38;5;250m \u001b[39m\u001b[38;5;28;01mimport\u001b[39;00m exit_client, initialize\n\u001b[1;32m      4\u001b[0m \u001b[38;5;28;01mfrom\u001b[39;00m\u001b[38;5;250m \u001b[39m\u001b[38;5;21;01m.\u001b[39;00m\u001b[38;5;21;01mdist_dataloader\u001b[39;00m\u001b[38;5;250m \u001b[39m\u001b[38;5;28;01mimport\u001b[39;00m DistDataLoader\n\u001b[0;32m----> 5\u001b[0m \u001b[38;5;28;01mfrom\u001b[39;00m\u001b[38;5;250m \u001b[39m\u001b[38;5;21;01m.\u001b[39;00m\u001b[38;5;21;01mdist_graph\u001b[39;00m\u001b[38;5;250m \u001b[39m\u001b[38;5;28;01mimport\u001b[39;00m DistGraph, DistGraphServer, edge_split, node_split\n\u001b[1;32m      6\u001b[0m \u001b[38;5;28;01mfrom\u001b[39;00m\u001b[38;5;250m \u001b[39m\u001b[38;5;21;01m.\u001b[39;00m\u001b[38;5;21;01mdist_tensor\u001b[39;00m\u001b[38;5;250m \u001b[39m\u001b[38;5;28;01mimport\u001b[39;00m DistTensor\n\u001b[1;32m      7\u001b[0m \u001b[38;5;28;01mfrom\u001b[39;00m\u001b[38;5;250m \u001b[39m\u001b[38;5;21;01m.\u001b[39;00m\u001b[38;5;21;01mgraph_partition_book\u001b[39;00m\u001b[38;5;250m \u001b[39m\u001b[38;5;28;01mimport\u001b[39;00m GraphPartitionBook, PartitionPolicy\n",
      "File \u001b[0;32m~/Library/Caches/pypoetry/virtualenvs/flow-field-dataset-67TwDG7U-py3.12/lib/python3.12/site-packages/dgl/distributed/dist_graph.py:11\u001b[0m\n\u001b[1;32m      7\u001b[0m \u001b[38;5;28;01mfrom\u001b[39;00m\u001b[38;5;250m \u001b[39m\u001b[38;5;21;01mcollections\u001b[39;00m\u001b[38;5;21;01m.\u001b[39;00m\u001b[38;5;21;01mabc\u001b[39;00m\u001b[38;5;250m \u001b[39m\u001b[38;5;28;01mimport\u001b[39;00m MutableMapping\n\u001b[1;32m      9\u001b[0m \u001b[38;5;28;01mimport\u001b[39;00m\u001b[38;5;250m \u001b[39m\u001b[38;5;21;01mnumpy\u001b[39;00m\u001b[38;5;250m \u001b[39m\u001b[38;5;28;01mas\u001b[39;00m\u001b[38;5;250m \u001b[39m\u001b[38;5;21;01mnp\u001b[39;00m\n\u001b[0;32m---> 11\u001b[0m \u001b[38;5;28;01mfrom\u001b[39;00m\u001b[38;5;250m \u001b[39m\u001b[38;5;21;01m.\u001b[39;00m\u001b[38;5;21;01m.\u001b[39;00m\u001b[38;5;250m \u001b[39m\u001b[38;5;28;01mimport\u001b[39;00m backend \u001b[38;5;28;01mas\u001b[39;00m F, graphbolt \u001b[38;5;28;01mas\u001b[39;00m gb, heterograph_index\n\u001b[1;32m     12\u001b[0m \u001b[38;5;28;01mfrom\u001b[39;00m\u001b[38;5;250m \u001b[39m\u001b[38;5;21;01m.\u001b[39;00m\u001b[38;5;21;01m.\u001b[39;00m\u001b[38;5;21;01m_ffi\u001b[39;00m\u001b[38;5;21;01m.\u001b[39;00m\u001b[38;5;21;01mndarray\u001b[39;00m\u001b[38;5;250m \u001b[39m\u001b[38;5;28;01mimport\u001b[39;00m empty_shared_mem\n\u001b[1;32m     13\u001b[0m \u001b[38;5;28;01mfrom\u001b[39;00m\u001b[38;5;250m \u001b[39m\u001b[38;5;21;01m.\u001b[39;00m\u001b[38;5;21;01m.\u001b[39;00m\u001b[38;5;21;01mbase\u001b[39;00m\u001b[38;5;250m \u001b[39m\u001b[38;5;28;01mimport\u001b[39;00m ALL, DGLError, EID, ETYPE, is_all, NID\n",
      "File \u001b[0;32m~/Library/Caches/pypoetry/virtualenvs/flow-field-dataset-67TwDG7U-py3.12/lib/python3.12/site-packages/dgl/graphbolt/__init__.py:36\u001b[0m\n\u001b[1;32m     32\u001b[0m     \u001b[38;5;28;01mexcept\u001b[39;00m \u001b[38;5;167;01mException\u001b[39;00m:  \u001b[38;5;66;03m# pylint: disable=W0703\u001b[39;00m\n\u001b[1;32m     33\u001b[0m         \u001b[38;5;28;01mraise\u001b[39;00m \u001b[38;5;167;01mImportError\u001b[39;00m(\u001b[38;5;124m\"\u001b[39m\u001b[38;5;124mCannot load Graphbolt C++ library\u001b[39m\u001b[38;5;124m\"\u001b[39m)\n\u001b[0;32m---> 36\u001b[0m \u001b[43mload_graphbolt\u001b[49m\u001b[43m(\u001b[49m\u001b[43m)\u001b[49m\n\u001b[1;32m     38\u001b[0m \u001b[38;5;66;03m# pylint: disable=wrong-import-position\u001b[39;00m\n\u001b[1;32m     39\u001b[0m \u001b[38;5;28;01mfrom\u001b[39;00m\u001b[38;5;250m \u001b[39m\u001b[38;5;21;01m.\u001b[39;00m\u001b[38;5;21;01mbase\u001b[39;00m\u001b[38;5;250m \u001b[39m\u001b[38;5;28;01mimport\u001b[39;00m \u001b[38;5;241m*\u001b[39m\n",
      "File \u001b[0;32m~/Library/Caches/pypoetry/virtualenvs/flow-field-dataset-67TwDG7U-py3.12/lib/python3.12/site-packages/dgl/graphbolt/__init__.py:26\u001b[0m, in \u001b[0;36mload_graphbolt\u001b[0;34m()\u001b[0m\n\u001b[1;32m     24\u001b[0m path \u001b[38;5;241m=\u001b[39m os\u001b[38;5;241m.\u001b[39mpath\u001b[38;5;241m.\u001b[39mjoin(dirname, \u001b[38;5;124m\"\u001b[39m\u001b[38;5;124mgraphbolt\u001b[39m\u001b[38;5;124m\"\u001b[39m, basename)\n\u001b[1;32m     25\u001b[0m \u001b[38;5;28;01mif\u001b[39;00m \u001b[38;5;129;01mnot\u001b[39;00m os\u001b[38;5;241m.\u001b[39mpath\u001b[38;5;241m.\u001b[39mexists(path):\n\u001b[0;32m---> 26\u001b[0m     \u001b[38;5;28;01mraise\u001b[39;00m \u001b[38;5;167;01mFileNotFoundError\u001b[39;00m(\n\u001b[1;32m     27\u001b[0m         \u001b[38;5;124mf\u001b[39m\u001b[38;5;124m\"\u001b[39m\u001b[38;5;124mCannot find DGL C++ graphbolt library at \u001b[39m\u001b[38;5;132;01m{\u001b[39;00mpath\u001b[38;5;132;01m}\u001b[39;00m\u001b[38;5;124m\"\u001b[39m\n\u001b[1;32m     28\u001b[0m     )\n\u001b[1;32m     30\u001b[0m \u001b[38;5;28;01mtry\u001b[39;00m:\n\u001b[1;32m     31\u001b[0m     torch\u001b[38;5;241m.\u001b[39mclasses\u001b[38;5;241m.\u001b[39mload_library(path)\n",
      "\u001b[0;31mFileNotFoundError\u001b[0m: Cannot find DGL C++ graphbolt library at /Users/ole/Library/Caches/pypoetry/virtualenvs/flow-field-dataset-67TwDG7U-py3.12/lib/python3.12/site-packages/dgl/graphbolt/libgraphbolt_pytorch_2.3.1.dylib"
     ]
    }
   ],
   "source": [
    "from src.dgl_flow_field_dataset import DGLVolumeFlowFieldDataset\n",
    "ds_dgl = DGLVolumeFlowFieldDataset(\"datasets/dgl_volume\",ds)"
   ]
  },
  {
   "cell_type": "code",
   "execution_count": 41,
   "metadata": {},
   "outputs": [
    {
     "name": "stderr",
     "output_type": "stream",
     "text": [
      "\u001b[0m\u001b[33m2025-01-20 12:25:48.685 (1404.513s) [           6913B]      vtkCGNSReader.cxx:4268  WARN| vtkCGNSReader (0x308c63280): Skipping BC_t node: BC_t type 'BCInflow' not supported yet.\u001b[0m\n",
      "\u001b[0m\u001b[33m2025-01-20 12:25:48.685 (1404.513s) [           6913B]      vtkCGNSReader.cxx:4268  WARN| vtkCGNSReader (0x308c63280): Skipping BC_t node: BC_t type 'BCSymmetryPlane' not supported yet.\u001b[0m\n",
      "\u001b[0m\u001b[33m2025-01-20 12:25:48.686 (1404.513s) [           6913B]      vtkCGNSReader.cxx:4268  WARN| vtkCGNSReader (0x308c63280): Skipping BC_t node: BC_t type 'BCTunnelOutflow' not supported yet.\u001b[0m\n"
     ]
    },
    {
     "data": {
      "application/vnd.jupyter.widget-view+json": {
       "model_id": "419e324edd2c4847a9855a9ef0444e40",
       "version_major": 2,
       "version_minor": 0
      },
      "text/plain": [
       "Widget(value='<iframe src=\"http://localhost:65320/index.html?ui=P_0x1733da6f0_10&reconnect=auto\" class=\"pyvist…"
      ]
     },
     "metadata": {},
     "output_type": "display_data"
    }
   ],
   "source": [
    "p.plot_volume('Pressure')"
   ]
  },
  {
   "cell_type": "code",
   "execution_count": 42,
   "metadata": {},
   "outputs": [
    {
     "data": {
      "application/vnd.jupyter.widget-view+json": {
       "model_id": "afeb1d4f88b24823b928916b5a983f01",
       "version_major": 2,
       "version_minor": 0
      },
      "text/plain": [
       "Widget(value='<iframe src=\"http://localhost:65320/index.html?ui=P_0x30dd8f4d0_11&reconnect=auto\" class=\"pyvist…"
      ]
     },
     "metadata": {},
     "output_type": "display_data"
    }
   ],
   "source": [
    "p.plot_surface('shear_stress')"
   ]
  },
  {
   "cell_type": "code",
   "execution_count": 27,
   "metadata": {},
   "outputs": [
    {
     "data": {
      "application/vnd.jupyter.widget-view+json": {
       "model_id": "f03cff0001ae413b816d841e6bd592c4",
       "version_major": 2,
       "version_minor": 0
      },
      "text/plain": [
       "Widget(value='<iframe src=\"http://localhost:65320/index.html?ui=P_0x1733d92e0_7&reconnect=auto\" class=\"pyvista…"
      ]
     },
     "metadata": {},
     "output_type": "display_data"
    }
   ],
   "source": [
    "p.load()\n",
    "p.plot_volume(\"Temperature\")"
   ]
  },
  {
   "cell_type": "code",
   "execution_count": 3,
   "metadata": {},
   "outputs": [
    {
     "name": "stderr",
     "output_type": "stream",
     "text": [
      "\u001b[0m\u001b[33m2025-01-20 11:30:42.934 (   1.550s) [           6194C]      vtkCGNSReader.cxx:4268  WARN| vtkCGNSReader (0x1356afe10): Skipping BC_t node: BC_t type 'BCInflow' not supported yet.\u001b[0m\n",
      "\u001b[0m\u001b[33m2025-01-20 11:30:42.934 (   1.551s) [           6194C]      vtkCGNSReader.cxx:4268  WARN| vtkCGNSReader (0x1356afe10): Skipping BC_t node: BC_t type 'BCSymmetryPlane' not supported yet.\u001b[0m\n",
      "\u001b[0m\u001b[33m2025-01-20 11:30:42.934 (   1.551s) [           6194C]      vtkCGNSReader.cxx:4268  WARN| vtkCGNSReader (0x1356afe10): Skipping BC_t node: BC_t type 'BCTunnelOutflow' not supported yet.\u001b[0m\n"
     ]
    },
    {
     "data": {
      "application/vnd.jupyter.widget-view+json": {
       "model_id": "9ffc629cac4c4123a5913ce959311fa3",
       "version_major": 2,
       "version_minor": 0
      },
      "text/plain": [
       "Widget(value='<iframe src=\"http://localhost:64646/index.html?ui=P_0x107d06a80_1&reconnect=auto\" class=\"pyvista…"
      ]
     },
     "metadata": {},
     "output_type": "display_data"
    }
   ],
   "source": [
    "ds[1].data.plot(\"Velocity_1\")"
   ]
  },
  {
   "cell_type": "code",
   "execution_count": 4,
   "metadata": {},
   "outputs": [
    {
     "name": "stderr",
     "output_type": "stream",
     "text": [
      "\u001b[0m\u001b[33m2025-01-20 11:30:43.375 (   1.992s) [           6194C]      vtkCGNSReader.cxx:4268  WARN| vtkCGNSReader (0x145274990): Skipping BC_t node: BC_t type 'BCInflow' not supported yet.\u001b[0m\n",
      "\u001b[0m\u001b[33m2025-01-20 11:30:43.375 (   1.992s) [           6194C]      vtkCGNSReader.cxx:4268  WARN| vtkCGNSReader (0x145274990): Skipping BC_t node: BC_t type 'BCSymmetryPlane' not supported yet.\u001b[0m\n",
      "\u001b[0m\u001b[33m2025-01-20 11:30:43.375 (   1.992s) [           6194C]      vtkCGNSReader.cxx:4268  WARN| vtkCGNSReader (0x145274990): Skipping BC_t node: BC_t type 'BCTunnelOutflow' not supported yet.\u001b[0m\n"
     ]
    }
   ],
   "source": [
    "import pyvista as pv\n",
    "\n",
    "sample = pv.read(\"/Users/ole/Downloads/Filesize test data/design_2.cgns\")"
   ]
  },
  {
   "cell_type": "code",
   "execution_count": 5,
   "metadata": {},
   "outputs": [
    {
     "data": {
      "text/plain": [
       "pyvista DataSetAttributes\n",
       "Association     : CELL\n",
       "Active Scalars  : None\n",
       "Active Vectors  : None\n",
       "Active Texture  : None\n",
       "Active Normals  : None\n",
       "Contains arrays : None"
      ]
     },
     "execution_count": 5,
     "metadata": {},
     "output_type": "execute_result"
    }
   ],
   "source": [
    "b=sample[0][0].GetBlock(0)\n",
    "b.surface_indices()\n",
    "b.cell_data"
   ]
  },
  {
   "cell_type": "code",
   "execution_count": 6,
   "metadata": {},
   "outputs": [
    {
     "data": {
      "application/vnd.jupyter.widget-view+json": {
       "model_id": "883adea43cff4210beb2f3ebd51d6422",
       "version_major": 2,
       "version_minor": 0
      },
      "text/plain": [
       "Widget(value='<iframe src=\"http://localhost:64646/index.html?ui=P_0x13794b290_2&reconnect=auto\" class=\"pyvista…"
      ]
     },
     "metadata": {},
     "output_type": "display_data"
    }
   ],
   "source": [
    "sample.plot()"
   ]
  }
 ],
 "metadata": {
  "kernelspec": {
   "display_name": "Python 3",
   "language": "python",
   "name": "python3"
  },
  "language_info": {
   "codemirror_mode": {
    "name": "ipython",
    "version": 3
   },
   "file_extension": ".py",
   "mimetype": "text/x-python",
   "name": "python",
   "nbconvert_exporter": "python",
   "pygments_lexer": "ipython3",
   "version": "3.11.11"
  }
 },
 "nbformat": 4,
 "nbformat_minor": 2
}
