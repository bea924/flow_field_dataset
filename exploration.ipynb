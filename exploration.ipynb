{
 "cells": [
  {
   "cell_type": "code",
   "execution_count": 1,
   "metadata": {},
   "outputs": [],
   "source": [
    "%load_ext autoreload\n",
    "%autoreload 2"
   ]
  },
  {
   "cell_type": "code",
   "execution_count": 14,
   "metadata": {},
   "outputs": [
    {
     "name": "stdout",
     "output_type": "stream",
     "text": [
      "2\n"
     ]
    },
    {
     "name": "stderr",
     "output_type": "stream",
     "text": [
      "\u001b[0m\u001b[33m2025-01-17 19:51:38.186 ( 504.847s) [            C594]      vtkCGNSReader.cxx:4268  WARN| vtkCGNSReader (0x313f4b2a0): Skipping BC_t node: BC_t type 'BCInflow' not supported yet.\u001b[0m\n",
      "\u001b[0m\u001b[33m2025-01-17 19:51:38.187 ( 504.847s) [            C594]      vtkCGNSReader.cxx:4268  WARN| vtkCGNSReader (0x313f4b2a0): Skipping BC_t node: BC_t type 'BCSymmetryPlane' not supported yet.\u001b[0m\n",
      "\u001b[0m\u001b[33m2025-01-17 19:51:38.187 ( 504.847s) [            C594]      vtkCGNSReader.cxx:4268  WARN| vtkCGNSReader (0x313f4b2a0): Skipping BC_t node: BC_t type 'BCTunnelOutflow' not supported yet.\u001b[0m\n"
     ]
    },
    {
     "data": {
      "application/vnd.jupyter.widget-view+json": {
       "model_id": "87570ca1f7e440aeab92408e9dd8f069",
       "version_major": 2,
       "version_minor": 0
      },
      "text/plain": [
       "Widget(value='<iframe src=\"http://localhost:51878/index.html?ui=P_0x314111f40_12&reconnect=auto\" class=\"pyvist…"
      ]
     },
     "metadata": {},
     "output_type": "display_data"
    }
   ],
   "source": [
    "from src.pyvista_flow_field_dataset import PyvistaFlowFieldDataset\n",
    "\n",
    "ds = PyvistaFlowFieldDataset(\"datasets/sample_volumetric\")\n",
    "print(len(ds))\n",
    "ds[0].plot_volume(\"Velocity\")"
   ]
  },
  {
   "cell_type": "code",
   "execution_count": 4,
   "metadata": {},
   "outputs": [
    {
     "name": "stderr",
     "output_type": "stream",
     "text": [
      "\u001b[0m\u001b[33m2025-01-17 19:44:00.002 (  46.670s) [            C594]      vtkCGNSReader.cxx:4268  WARN| vtkCGNSReader (0x15f173cd0): Skipping BC_t node: BC_t type 'BCInflow' not supported yet.\u001b[0m\n",
      "\u001b[0m\u001b[33m2025-01-17 19:44:00.003 (  46.670s) [            C594]      vtkCGNSReader.cxx:4268  WARN| vtkCGNSReader (0x15f173cd0): Skipping BC_t node: BC_t type 'BCSymmetryPlane' not supported yet.\u001b[0m\n",
      "\u001b[0m\u001b[33m2025-01-17 19:44:00.003 (  46.670s) [            C594]      vtkCGNSReader.cxx:4268  WARN| vtkCGNSReader (0x15f173cd0): Skipping BC_t node: BC_t type 'BCTunnelOutflow' not supported yet.\u001b[0m\n"
     ]
    },
    {
     "data": {
      "application/vnd.jupyter.widget-view+json": {
       "model_id": "a2e99f0e5043400ab3a61bc664ceb6b6",
       "version_major": 2,
       "version_minor": 0
      },
      "text/plain": [
       "Widget(value='<iframe src=\"http://localhost:51878/index.html?ui=P_0x14ec4d4f0_2&reconnect=auto\" class=\"pyvista…"
      ]
     },
     "metadata": {},
     "output_type": "display_data"
    }
   ],
   "source": [
    "ds[1].data.plot(\"Velocity_1\")"
   ]
  },
  {
   "cell_type": "code",
   "execution_count": null,
   "metadata": {},
   "outputs": [
    {
     "name": "stderr",
     "output_type": "stream",
     "text": [
      "\u001b[0m\u001b[33m2025-01-17 18:33:50.712 (   1.869s) [            387C]      vtkCGNSReader.cxx:4268  WARN| vtkCGNSReader (0x15455cb20): Skipping BC_t node: BC_t type 'BCInflow' not supported yet.\u001b[0m\n",
      "\u001b[0m\u001b[33m2025-01-17 18:33:50.713 (   1.869s) [            387C]      vtkCGNSReader.cxx:4268  WARN| vtkCGNSReader (0x15455cb20): Skipping BC_t node: BC_t type 'BCSymmetryPlane' not supported yet.\u001b[0m\n",
      "\u001b[0m\u001b[33m2025-01-17 18:33:50.713 (   1.869s) [            387C]      vtkCGNSReader.cxx:4268  WARN| vtkCGNSReader (0x15455cb20): Skipping BC_t node: BC_t type 'BCTunnelOutflow' not supported yet.\u001b[0m\n"
     ]
    }
   ],
   "source": [
    "import pyvista as pv\n",
    "\n",
    "sample = pv.read(\"/Users/ole/Downloads/Filesize test data/design_2.cgns\")"
   ]
  },
  {
   "cell_type": "code",
   "execution_count": 2,
   "metadata": {},
   "outputs": [
    {
     "data": {
      "text/plain": [
       "pyvista DataSetAttributes\n",
       "Association     : CELL\n",
       "Active Scalars  : None\n",
       "Active Vectors  : None\n",
       "Active Texture  : None\n",
       "Active Normals  : None\n",
       "Contains arrays : None"
      ]
     },
     "execution_count": 2,
     "metadata": {},
     "output_type": "execute_result"
    }
   ],
   "source": [
    "b=sample[0][0].GetBlock(0)\n",
    "b.surface_indices()\n",
    "b.cell_data"
   ]
  },
  {
   "cell_type": "code",
   "execution_count": null,
   "metadata": {},
   "outputs": [
    {
     "data": {
      "application/vnd.jupyter.widget-view+json": {
       "model_id": "c22561fc30384932bdef96d6bdb84c0f",
       "version_major": 2,
       "version_minor": 0
      },
      "text/plain": [
       "Widget(value='<iframe src=\"http://localhost:49685/index.html?ui=P_0x15492c4a0_0&reconnect=auto\" class=\"pyvista…"
      ]
     },
     "metadata": {},
     "output_type": "display_data"
    }
   ],
   "source": [
    "sample.plot()"
   ]
  }
 ],
 "metadata": {
  "kernelspec": {
   "display_name": "flow-field-dataset-67TwDG7U-py3.12",
   "language": "python",
   "name": "python3"
  },
  "language_info": {
   "codemirror_mode": {
    "name": "ipython",
    "version": 3
   },
   "file_extension": ".py",
   "mimetype": "text/x-python",
   "name": "python",
   "nbconvert_exporter": "python",
   "pygments_lexer": "ipython3",
   "version": "3.12.8"
  }
 },
 "nbformat": 4,
 "nbformat_minor": 2
}
