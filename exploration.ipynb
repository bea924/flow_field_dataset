{
 "cells": [
  {
   "cell_type": "code",
   "execution_count": 1,
   "metadata": {},
   "outputs": [],
   "source": [
    "%load_ext autoreload\n",
    "%autoreload 2"
   ]
  },
  {
   "cell_type": "code",
   "execution_count": 40,
   "metadata": {},
   "outputs": [
    {
     "name": "stdout",
     "output_type": "stream",
     "text": [
      "3\n"
     ]
    }
   ],
   "source": [
    "from src.pyvista_flow_field_dataset import PyvistaFlowFieldDataset\n",
    "\n",
    "ds = PyvistaFlowFieldDataset(\"datasets/Example cgns volume + surface/\")\n",
    "print(len(ds))\n",
    "p=ds[2]\n"
   ]
  },
  {
   "cell_type": "code",
   "execution_count": 41,
   "metadata": {},
   "outputs": [
    {
     "name": "stderr",
     "output_type": "stream",
     "text": [
      "\u001b[0m\u001b[33m2025-01-20 12:25:48.685 (1404.513s) [           6913B]      vtkCGNSReader.cxx:4268  WARN| vtkCGNSReader (0x308c63280): Skipping BC_t node: BC_t type 'BCInflow' not supported yet.\u001b[0m\n",
      "\u001b[0m\u001b[33m2025-01-20 12:25:48.685 (1404.513s) [           6913B]      vtkCGNSReader.cxx:4268  WARN| vtkCGNSReader (0x308c63280): Skipping BC_t node: BC_t type 'BCSymmetryPlane' not supported yet.\u001b[0m\n",
      "\u001b[0m\u001b[33m2025-01-20 12:25:48.686 (1404.513s) [           6913B]      vtkCGNSReader.cxx:4268  WARN| vtkCGNSReader (0x308c63280): Skipping BC_t node: BC_t type 'BCTunnelOutflow' not supported yet.\u001b[0m\n"
     ]
    },
    {
     "data": {
      "application/vnd.jupyter.widget-view+json": {
       "model_id": "419e324edd2c4847a9855a9ef0444e40",
       "version_major": 2,
       "version_minor": 0
      },
      "text/plain": [
       "Widget(value='<iframe src=\"http://localhost:65320/index.html?ui=P_0x1733da6f0_10&reconnect=auto\" class=\"pyvist…"
      ]
     },
     "metadata": {},
     "output_type": "display_data"
    }
   ],
   "source": [
    "p.plot_volume('Pressure')"
   ]
  },
  {
   "cell_type": "code",
   "execution_count": 42,
   "metadata": {},
   "outputs": [
    {
     "data": {
      "application/vnd.jupyter.widget-view+json": {
       "model_id": "afeb1d4f88b24823b928916b5a983f01",
       "version_major": 2,
       "version_minor": 0
      },
      "text/plain": [
       "Widget(value='<iframe src=\"http://localhost:65320/index.html?ui=P_0x30dd8f4d0_11&reconnect=auto\" class=\"pyvist…"
      ]
     },
     "metadata": {},
     "output_type": "display_data"
    }
   ],
   "source": [
    "p.plot_surface('shear_stress')"
   ]
  },
  {
   "cell_type": "code",
   "execution_count": 27,
   "metadata": {},
   "outputs": [
    {
     "data": {
      "application/vnd.jupyter.widget-view+json": {
       "model_id": "f03cff0001ae413b816d841e6bd592c4",
       "version_major": 2,
       "version_minor": 0
      },
      "text/plain": [
       "Widget(value='<iframe src=\"http://localhost:65320/index.html?ui=P_0x1733d92e0_7&reconnect=auto\" class=\"pyvista…"
      ]
     },
     "metadata": {},
     "output_type": "display_data"
    }
   ],
   "source": [
    "p.load()\n",
    "p.plot_volume(\"Temperature\")"
   ]
  },
  {
   "cell_type": "code",
   "execution_count": 3,
   "metadata": {},
   "outputs": [
    {
     "name": "stderr",
     "output_type": "stream",
     "text": [
      "\u001b[0m\u001b[33m2025-01-20 11:30:42.934 (   1.550s) [           6194C]      vtkCGNSReader.cxx:4268  WARN| vtkCGNSReader (0x1356afe10): Skipping BC_t node: BC_t type 'BCInflow' not supported yet.\u001b[0m\n",
      "\u001b[0m\u001b[33m2025-01-20 11:30:42.934 (   1.551s) [           6194C]      vtkCGNSReader.cxx:4268  WARN| vtkCGNSReader (0x1356afe10): Skipping BC_t node: BC_t type 'BCSymmetryPlane' not supported yet.\u001b[0m\n",
      "\u001b[0m\u001b[33m2025-01-20 11:30:42.934 (   1.551s) [           6194C]      vtkCGNSReader.cxx:4268  WARN| vtkCGNSReader (0x1356afe10): Skipping BC_t node: BC_t type 'BCTunnelOutflow' not supported yet.\u001b[0m\n"
     ]
    },
    {
     "data": {
      "application/vnd.jupyter.widget-view+json": {
       "model_id": "9ffc629cac4c4123a5913ce959311fa3",
       "version_major": 2,
       "version_minor": 0
      },
      "text/plain": [
       "Widget(value='<iframe src=\"http://localhost:64646/index.html?ui=P_0x107d06a80_1&reconnect=auto\" class=\"pyvista…"
      ]
     },
     "metadata": {},
     "output_type": "display_data"
    }
   ],
   "source": [
    "ds[1].data.plot(\"Velocity_1\")"
   ]
  },
  {
   "cell_type": "code",
   "execution_count": 4,
   "metadata": {},
   "outputs": [
    {
     "name": "stderr",
     "output_type": "stream",
     "text": [
      "\u001b[0m\u001b[33m2025-01-20 11:30:43.375 (   1.992s) [           6194C]      vtkCGNSReader.cxx:4268  WARN| vtkCGNSReader (0x145274990): Skipping BC_t node: BC_t type 'BCInflow' not supported yet.\u001b[0m\n",
      "\u001b[0m\u001b[33m2025-01-20 11:30:43.375 (   1.992s) [           6194C]      vtkCGNSReader.cxx:4268  WARN| vtkCGNSReader (0x145274990): Skipping BC_t node: BC_t type 'BCSymmetryPlane' not supported yet.\u001b[0m\n",
      "\u001b[0m\u001b[33m2025-01-20 11:30:43.375 (   1.992s) [           6194C]      vtkCGNSReader.cxx:4268  WARN| vtkCGNSReader (0x145274990): Skipping BC_t node: BC_t type 'BCTunnelOutflow' not supported yet.\u001b[0m\n"
     ]
    }
   ],
   "source": [
    "import pyvista as pv\n",
    "\n",
    "sample = pv.read(\"/Users/ole/Downloads/Filesize test data/design_2.cgns\")"
   ]
  },
  {
   "cell_type": "code",
   "execution_count": 5,
   "metadata": {},
   "outputs": [
    {
     "data": {
      "text/plain": [
       "pyvista DataSetAttributes\n",
       "Association     : CELL\n",
       "Active Scalars  : None\n",
       "Active Vectors  : None\n",
       "Active Texture  : None\n",
       "Active Normals  : None\n",
       "Contains arrays : None"
      ]
     },
     "execution_count": 5,
     "metadata": {},
     "output_type": "execute_result"
    }
   ],
   "source": [
    "b=sample[0][0].GetBlock(0)\n",
    "b.surface_indices()\n",
    "b.cell_data"
   ]
  },
  {
   "cell_type": "code",
   "execution_count": 6,
   "metadata": {},
   "outputs": [
    {
     "data": {
      "application/vnd.jupyter.widget-view+json": {
       "model_id": "883adea43cff4210beb2f3ebd51d6422",
       "version_major": 2,
       "version_minor": 0
      },
      "text/plain": [
       "Widget(value='<iframe src=\"http://localhost:64646/index.html?ui=P_0x13794b290_2&reconnect=auto\" class=\"pyvista…"
      ]
     },
     "metadata": {},
     "output_type": "display_data"
    }
   ],
   "source": [
    "sample.plot()"
   ]
  }
 ],
 "metadata": {
  "kernelspec": {
   "display_name": "flow-field-dataset-67TwDG7U-py3.12",
   "language": "python",
   "name": "python3"
  },
  "language_info": {
   "codemirror_mode": {
    "name": "ipython",
    "version": 3
   },
   "file_extension": ".py",
   "mimetype": "text/x-python",
   "name": "python",
   "nbconvert_exporter": "python",
   "pygments_lexer": "ipython3",
   "version": "3.12.8"
  }
 },
 "nbformat": 4,
 "nbformat_minor": 2
}
