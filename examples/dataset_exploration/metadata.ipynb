{
 "cells": [
  {
   "cell_type": "code",
   "execution_count": 7,
   "id": "19f4511a",
   "metadata": {},
   "outputs": [
    {
     "name": "stdout",
     "output_type": "stream",
     "text": [
      "The autoreload extension is already loaded. To reload it, use:\n",
      "  %reload_ext autoreload\n"
     ]
    }
   ],
   "source": [
    "%load_ext autoreload\n",
    "%autoreload 2"
   ]
  },
  {
   "cell_type": "code",
   "execution_count": 8,
   "id": "3661739d",
   "metadata": {},
   "outputs": [],
   "source": [
    "import sys\n",
    "base_path = '../../'\n",
    "sys.path.append(base_path)"
   ]
  },
  {
   "cell_type": "code",
   "execution_count": 18,
   "id": "4b06eded",
   "metadata": {},
   "outputs": [
    {
     "name": "stdout",
     "output_type": "stream",
     "text": [
      "Loaded 10 samples from '/Users/ole/Documents/software/flow_field_dataset/examples/dataset_exploration/datasets/pyvista'.\n",
      "Loaded 10 samples from 'datasets/pyvista'.\n"
     ]
    }
   ],
   "source": [
    "from src.pyvista_flow_field_dataset import PyvistaFlowFieldDataset\n",
    "ds_pv = PyvistaFlowFieldDataset.load_from_huggingface(num_samples=10, data_dir='datasets/pyvista')"
   ]
  },
  {
   "cell_type": "code",
   "execution_count": 36,
   "id": "6b192d08",
   "metadata": {},
   "outputs": [
    {
     "data": {
      "text/html": [
       "<div style=\"font-family: Arial, sans-serif; margin: 10px; padding: 10px; border: 1px solid #e0e0e0; border-radius: 5px; background-color: #fdfdfd;\">\n",
       "  <h4 style=\"margin-top:0; margin-bottom: 10px; color: #333;\">Design ID: 125002</h4>\n",
       "  <svg width=\"300\" height=\"200\" viewBox=\"-0.02500000000000001 -0.02500000000000001 0.5500000000000002 0.14999999999999997\" style=\"border:1px solid #ccc; background-color: #ffffff;\">\n",
       "    <defs>\n",
       "      <clipPath id=\"clipPath_PyvistaSample_125002_a48310\">\n",
       "        <rect x=\"-4.336808689942018e-19\" y=\"0.0\" width=\"0.5000000000000001\" height=\"0.09999999999999996\" />\n",
       "      </clipPath>\n",
       "    </defs>\n",
       "    <rect x=\"-4.336808689942018e-19\" y=\"0.0\" width=\"0.5000000000000001\" height=\"0.09999999999999996\" fill=\"none\" stroke=\"#bbbbbb\" stroke-width=\"0.0025000000000000005\" stroke-dasharray=\"0.005000000000000001,0.005000000000000001\" />\n",
       "    <g clip-path=\"url(#clipPath_PyvistaSample_125002_a48310)\">\n",
       "      <rect x=\"-0.05887523768661474\" y=\"0.03861360938769974\" width=\"0.1542503652893203\" height=\"0.05499632681045156\" fill=\"#1f77b4\" fill-opacity=\"0.6\" stroke=\"#1f77b4\" stroke-opacity=\"0.9\" stroke-width=\"0.0012500000000000002\">\n",
       "        <title>Quader 1\\nTemp: 24.8\\nPos: (0.02, 0.07)\\nSize: (0.15, 0.05)</title>\n",
       "      </rect>\n",
       "      <rect x=\"0.015407776365248468\" y=\"0.05874398841686613\" width=\"0.13550081561748564\" height=\"0.05539239193604516\" fill=\"#ff7f0e\" fill-opacity=\"0.6\" stroke=\"#ff7f0e\" stroke-opacity=\"0.9\" stroke-width=\"0.0012500000000000002\">\n",
       "        <title>Quader 2\\nTemp: 72.1\\nPos: (0.08, 0.09)\\nSize: (0.14, 0.06)</title>\n",
       "      </rect>\n",
       "      <rect x=\"0.17784435799780887\" y=\"0.9952433770733221\" width=\"0.05244352457224315\" height=\"0.009513245853355834\" fill=\"#2ca02c\" fill-opacity=\"0.6\" stroke=\"#2ca02c\" stroke-opacity=\"0.9\" stroke-width=\"0.0012500000000000002\">\n",
       "        <title>Quader 3\\nTemp: 40.7\\nPos: (0.20, 1.00)\\nSize: (0.05, 0.01)</title>\n",
       "      </rect>\n",
       "      <rect x=\"0.08072975460149406\" y=\"0.02020616446736425\" width=\"0.08232690355562347\" height=\"0.012072830018052226\" fill=\"#d62728\" fill-opacity=\"0.6\" stroke=\"#d62728\" stroke-opacity=\"0.9\" stroke-width=\"0.0012500000000000002\">\n",
       "        <title>Quader 4\\nTemp: 29.5\\nPos: (0.12, 0.03)\\nSize: (0.08, 0.01)</title>\n",
       "      </rect>\n",
       "      <circle cx=\"0.06680530419385315\" cy=\"1.0\" r=\"0.00340009194521868\" fill=\"#17becf\" fill-opacity=\"0.6\" stroke=\"#17becf\" stroke-opacity=\"0.9\" stroke-width=\"0.0012500000000000002\">\n",
       "        <title>Cylinder 1\\nTemp: 70.8\\nPos: (0.07, 1.00)\\nRadius: 0.00</title>\n",
       "      </circle>\n",
       "      <circle cx=\"0.11484837821122404\" cy=\"1.0\" r=\"0.009343639447153376\" fill=\"#bcbd22\" fill-opacity=\"0.6\" stroke=\"#bcbd22\" stroke-opacity=\"0.9\" stroke-width=\"0.0012500000000000002\">\n",
       "        <title>Cylinder 2\\nTemp: 79.8\\nPos: (0.11, 1.00)\\nRadius: 0.01</title>\n",
       "      </circle>\n",
       "    </g>\n",
       "  </svg>\n",
       "  <p style=\"font-size: 0.8em; color: #666; margin-top: 8px; margin-bottom: 0;\">Bounding Box (xmin, xmax, ymin, ymax): (-0.00, 0.50, 0.00, 0.10)</p>\n",
       "</div>"
      ],
      "text/plain": [
       "<src.pyvista_flow_field_dataset.PyvistaSample at 0x322a48310>"
      ]
     },
     "execution_count": 36,
     "metadata": {},
     "output_type": "execute_result"
    }
   ],
   "source": [
    "ds_pv[0]"
   ]
  },
  {
   "cell_type": "code",
   "execution_count": 13,
   "id": "63b4a718",
   "metadata": {},
   "outputs": [
    {
     "name": "stderr",
     "output_type": "stream",
     "text": [
      "\u001b[0m\u001b[33m2025-06-02 09:36:53.847 (47740.693s) [           CDC2E]      vtkCGNSReader.cxx:4267  WARN| vtkCGNSReader (0x30bf8bff0): Skipping BC_t node: BC_t type 'BCInflow' not supported yet.\u001b[0m\n",
      "\u001b[0m\u001b[33m2025-06-02 09:36:53.847 (47740.694s) [           CDC2E]      vtkCGNSReader.cxx:4267  WARN| vtkCGNSReader (0x30bf8bff0): Skipping BC_t node: BC_t type 'BCSymmetryPlane' not supported yet.\u001b[0m\n",
      "\u001b[0m\u001b[33m2025-06-02 09:36:53.847 (47740.694s) [           CDC2E]      vtkCGNSReader.cxx:4267  WARN| vtkCGNSReader (0x30bf8bff0): Skipping BC_t node: BC_t type 'BCTunnelOutflow' not supported yet.\u001b[0m\n"
     ]
    },
    {
     "data": {
      "application/vnd.jupyter.widget-view+json": {
       "model_id": "3e898027921546968b353aa971b17290",
       "version_major": 2,
       "version_minor": 0
      },
      "text/plain": [
       "Widget(value='<iframe src=\"http://localhost:52884/index.html?ui=P_0x17bc64b10_1&reconnect=auto\" class=\"pyvista…"
      ]
     },
     "metadata": {},
     "output_type": "display_data"
    }
   ],
   "source": [
    "ds_pv[0].plot_volume(\"Pressure\")"
   ]
  },
  {
   "cell_type": "code",
   "execution_count": 5,
   "id": "af51afe1",
   "metadata": {},
   "outputs": [
    {
     "data": {
      "text/plain": [
       "SystemParameters(V=6.649704829993396, Quads=[Quader(T=27.431745561695564, Pos=Position(x=0.2529554568622975, y=0.010998077124956785, z=0.0), Size=(0.017929974351452934,0.0811006054512141,0.004593632067598083)), Quader(T=73.56599983187456, Pos=Position(x=0.042264237397314, y=0.052817420256945774, z=0.0), Size=(0.2470981049536163,0.09754702609619845,0.009341759740707677)), Quader(T=41.47208193898771, Pos=Position(x=0.24283328079511024, y=1.0, z=0.0), Size=(0.026220302301664764,0.07898892131202402,0.00887176686132575)), Quader(T=75.23829637679786, Pos=Position(x=0.10372524778479524, y=1.0, z=0.0), Size=(0.19181215729154183,0.06505509407165959,0.008355894628710864))], Cylinders=[Cylinder(T=36.9502074871104, Pos=Position(x=0.03592147626059582, y=1.0, z=0.0), R=0.07226771100195185, H=0.007048774090178702), Cylinder(T=65.09575433318419, Pos=Position(x=0.18280670639983967, y=1.0, z=0.0), R=0.08802365565371063, H=0.007129325874588058)])"
      ]
     },
     "execution_count": 5,
     "metadata": {},
     "output_type": "execute_result"
    }
   ],
   "source": [
    "ds_pv[4].metadata"
   ]
  },
  {
   "cell_type": "code",
   "execution_count": 6,
   "id": "95a584c3",
   "metadata": {},
   "outputs": [
    {
     "data": {
      "application/vnd.jupyter.widget-view+json": {
       "model_id": "e102888d856f44e5aa6bbbe53ace57cb",
       "version_major": 2,
       "version_minor": 0
      },
      "text/plain": [
       "Widget(value='<iframe src=\"http://localhost:52805/index.html?ui=P_0x3080fd110_0&reconnect=auto\" class=\"pyvista…"
      ]
     },
     "metadata": {},
     "output_type": "display_data"
    }
   ],
   "source": [
    "ds_pv[4].plot_surface(\"Temperature\")"
   ]
  }
 ],
 "metadata": {
  "kernelspec": {
   "display_name": ".venv",
   "language": "python",
   "name": "python3"
  },
  "language_info": {
   "codemirror_mode": {
    "name": "ipython",
    "version": 3
   },
   "file_extension": ".py",
   "mimetype": "text/x-python",
   "name": "python",
   "nbconvert_exporter": "python",
   "pygments_lexer": "ipython3",
   "version": "3.11.12"
  }
 },
 "nbformat": 4,
 "nbformat_minor": 5
}
