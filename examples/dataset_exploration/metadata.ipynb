{
 "cells": [
  {
   "cell_type": "code",
   "execution_count": 1,
   "id": "19f4511a",
   "metadata": {},
   "outputs": [],
   "source": [
    "%load_ext autoreload\n",
    "%autoreload 2"
   ]
  },
  {
   "cell_type": "code",
   "execution_count": 2,
   "id": "3661739d",
   "metadata": {},
   "outputs": [],
   "source": [
    "import sys\n",
    "base_path = '../../'\n",
    "sys.path.append(base_path)"
   ]
  },
  {
   "cell_type": "code",
   "execution_count": 3,
   "id": "4b06eded",
   "metadata": {},
   "outputs": [
    {
     "name": "stdout",
     "output_type": "stream",
     "text": [
      "Loaded 10 samples from '/Users/ole/Documents/software/flow_field_dataset/examples/dataset_exploration/datasets/pyvista'.\n",
      "Loaded 10 samples from 'datasets/pyvista'.\n"
     ]
    }
   ],
   "source": [
    "from src.pyvista_flow_field_dataset import PyvistaFlowFieldDataset\n",
    "ds_pv = PyvistaFlowFieldDataset.load_from_huggingface(num_samples=10, data_dir='datasets/pyvista')"
   ]
  },
  {
   "cell_type": "code",
   "execution_count": 4,
   "id": "6b192d08",
   "metadata": {},
   "outputs": [
    {
     "data": {
      "text/plain": [
       "125002"
      ]
     },
     "execution_count": 4,
     "metadata": {},
     "output_type": "execute_result"
    }
   ],
   "source": [
    "ds_pv[0].design_id"
   ]
  },
  {
   "cell_type": "code",
   "execution_count": 5,
   "id": "af51afe1",
   "metadata": {},
   "outputs": [
    {
     "data": {
      "text/plain": [
       "SystemParameters(V=6.649704829993396, Quads=[Quader(T=27.431745561695564, Pos=Position(x=0.2529554568622975, y=0.010998077124956785, z=0.0), Size=(0.017929974351452934,0.0811006054512141,0.004593632067598083)), Quader(T=73.56599983187456, Pos=Position(x=0.042264237397314, y=0.052817420256945774, z=0.0), Size=(0.2470981049536163,0.09754702609619845,0.009341759740707677)), Quader(T=41.47208193898771, Pos=Position(x=0.24283328079511024, y=1.0, z=0.0), Size=(0.026220302301664764,0.07898892131202402,0.00887176686132575)), Quader(T=75.23829637679786, Pos=Position(x=0.10372524778479524, y=1.0, z=0.0), Size=(0.19181215729154183,0.06505509407165959,0.008355894628710864))], Cylinders=[Cylinder(T=36.9502074871104, Pos=Position(x=0.03592147626059582, y=1.0, z=0.0), R=0.07226771100195185, H=0.007048774090178702), Cylinder(T=65.09575433318419, Pos=Position(x=0.18280670639983967, y=1.0, z=0.0), R=0.08802365565371063, H=0.007129325874588058)])"
      ]
     },
     "execution_count": 5,
     "metadata": {},
     "output_type": "execute_result"
    }
   ],
   "source": [
    "ds_pv[4].metadata"
   ]
  },
  {
   "cell_type": "code",
   "execution_count": 6,
   "id": "95a584c3",
   "metadata": {},
   "outputs": [
    {
     "data": {
      "application/vnd.jupyter.widget-view+json": {
       "model_id": "a06312cf51a94572a24514ad9aa672bd",
       "version_major": 2,
       "version_minor": 0
      },
      "text/plain": [
       "Widget(value='<iframe src=\"http://localhost:52760/index.html?ui=P_0x30348e690_0&reconnect=auto\" class=\"pyvista…"
      ]
     },
     "metadata": {},
     "output_type": "display_data"
    }
   ],
   "source": [
    "ds_pv[4].plot_surface(\"Temperature\")"
   ]
  }
 ],
 "metadata": {
  "kernelspec": {
   "display_name": ".venv",
   "language": "python",
   "name": "python3"
  },
  "language_info": {
   "codemirror_mode": {
    "name": "ipython",
    "version": 3
   },
   "file_extension": ".py",
   "mimetype": "text/x-python",
   "name": "python",
   "nbconvert_exporter": "python",
   "pygments_lexer": "ipython3",
   "version": "3.11.12"
  }
 },
 "nbformat": 4,
 "nbformat_minor": 5
}
