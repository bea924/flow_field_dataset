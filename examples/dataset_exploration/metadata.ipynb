{
 "cells": [
  {
   "cell_type": "code",
   "execution_count": 1,
   "id": "19f4511a",
   "metadata": {},
   "outputs": [],
   "source": [
    "%load_ext autoreload\n",
    "%autoreload 2"
   ]
  },
  {
   "cell_type": "code",
   "execution_count": 2,
   "id": "3661739d",
   "metadata": {},
   "outputs": [],
   "source": [
    "import sys\n",
    "base_path = '../../'\n",
    "sys.path.append(base_path)"
   ]
  },
  {
   "cell_type": "code",
   "execution_count": 3,
   "id": "4b06eded",
   "metadata": {},
   "outputs": [
    {
     "name": "stdout",
     "output_type": "stream",
     "text": [
      "Loaded 12 samples from '/Users/ole/Documents/software/flow_field_dataset/examples/dataset_exploration/datasets/pyvista'.\n",
      "Loaded 12 samples from 'datasets/pyvista'.\n"
     ]
    }
   ],
   "source": [
    "from cooldata.pyvista_flow_field_dataset import PyvistaFlowFieldDataset\n",
    "ds_pv = PyvistaFlowFieldDataset.load_from_huggingface(num_samples=12, data_dir='datasets/pyvista')"
   ]
  },
  {
   "cell_type": "code",
   "execution_count": 4,
   "id": "6b192d08",
   "metadata": {},
   "outputs": [
    {
     "name": "stderr",
     "output_type": "stream",
     "text": [
      "\u001b[0m\u001b[33m2025-06-04 13:17:00.005 (   1.459s) [          4ACB5D]      vtkCGNSReader.cxx:4267  WARN| vtkCGNSReader (0x16e4bb0d0): Skipping BC_t node: BC_t type 'BCInflow' not supported yet.\u001b[0m\n",
      "\u001b[0m\u001b[33m2025-06-04 13:17:00.006 (   1.460s) [          4ACB5D]      vtkCGNSReader.cxx:4267  WARN| vtkCGNSReader (0x16e4bb0d0): Skipping BC_t node: BC_t type 'BCSymmetryPlane' not supported yet.\u001b[0m\n",
      "\u001b[0m\u001b[33m2025-06-04 13:17:00.006 (   1.460s) [          4ACB5D]      vtkCGNSReader.cxx:4267  WARN| vtkCGNSReader (0x16e4bb0d0): Skipping BC_t node: BC_t type 'BCTunnelOutflow' not supported yet.\u001b[0m\n"
     ]
    },
    {
     "data": {
      "text/html": [
       "<div style=\"font-family: Arial, sans-serif; margin: 10px; padding: 10px; border: 1px solid #e0e0e0; border-radius: 5px; background-color: #fdfdfd;\">\n",
       "  <h4 style=\"margin-top:0; margin-bottom: 10px; color: #333;\">Design ID: 125017</h4>\n",
       "  <svg width=\"300\" height=\"200\" viewBox=\"-0.02500000000000001 -0.02500000000000001 0.5500000000000002 0.15\" style=\"border:1px solid #ccc; background-color: #ffffff;\">\n",
       "    <defs>\n",
       "      <clipPath id=\"clipPath_PyvistaSample_125017_07e410\">\n",
       "        <rect x=\"0.0\" y=\"-4.336808689942018e-19\" width=\"0.5000000000000001\" height=\"0.09999999999999998\" />\n",
       "      </clipPath>\n",
       "    </defs>\n",
       "    <rect x=\"0.0\" y=\"-4.336808689942018e-19\" width=\"0.5000000000000001\" height=\"0.09999999999999998\" fill=\"none\" stroke=\"#bbbbbb\" stroke-width=\"0.0025000000000000005\" stroke-dasharray=\"0.005000000000000001,0.005000000000000001\" />\n",
       "    <g clip-path=\"url(#clipPath_PyvistaSample_125017_07e410)\">\n",
       "      <rect x=\"0.11447051049714452\" y=\"0.011030368643365679\" width=\"0.040014149628151814\" height=\"0.09834408512629733\" fill=\"#1f77b4\" fill-opacity=\"0.6\" stroke=\"#1f77b4\" stroke-opacity=\"0.9\" stroke-width=\"0.0012500000000000002\">\n",
       "        <title>Quader 1\\nTemp: 75.5\\nPos: (0.13, 0.06)\\nSize: (0.04, 0.10)</title>\n",
       "      </rect>\n",
       "      <rect x=\"0.04133778651513785\" y=\"0.06499174240850333\" width=\"0.13674941519107287\" height=\"0.050597855712895726\" fill=\"#ff7f0e\" fill-opacity=\"0.6\" stroke=\"#ff7f0e\" stroke-opacity=\"0.9\" stroke-width=\"0.0012500000000000002\">\n",
       "        <title>Quader 2\\nTemp: 46.2\\nPos: (0.11, 0.09)\\nSize: (0.14, 0.05)</title>\n",
       "      </rect>\n",
       "      <rect x=\"0.1442401883179598\" y=\"0.9771368674925403\" width=\"0.13345024202283484\" height=\"0.04572626501491949\" fill=\"#2ca02c\" fill-opacity=\"0.6\" stroke=\"#2ca02c\" stroke-opacity=\"0.9\" stroke-width=\"0.0012500000000000002\">\n",
       "        <title>Quader 3\\nTemp: 41.4\\nPos: (0.21, 1.00)\\nSize: (0.13, 0.05)</title>\n",
       "      </rect>\n",
       "      <rect x=\"-0.03665501529122303\" y=\"0.060508181605850066\" width=\"0.12173646936847768\" height=\"0.03257027159205912\" fill=\"#d62728\" fill-opacity=\"0.6\" stroke=\"#d62728\" stroke-opacity=\"0.9\" stroke-width=\"0.0012500000000000002\">\n",
       "        <title>Quader 4\\nTemp: 67.3\\nPos: (0.02, 0.08)\\nSize: (0.12, 0.03)</title>\n",
       "      </rect>\n",
       "      <circle cx=\"0.013009071198485076\" cy=\"0.018451481443595815\" r=\"0.08924986270973533\" fill=\"#17becf\" fill-opacity=\"0.6\" stroke=\"#17becf\" stroke-opacity=\"0.9\" stroke-width=\"0.0012500000000000002\">\n",
       "        <title>Cylinder 1\\nTemp: 69.0\\nPos: (0.01, 0.02)\\nRadius: 0.09</title>\n",
       "      </circle>\n",
       "      <circle cx=\"0.03418233804286368\" cy=\"0.01733522067212657\" r=\"0.06809786630284767\" fill=\"#bcbd22\" fill-opacity=\"0.6\" stroke=\"#bcbd22\" stroke-opacity=\"0.9\" stroke-width=\"0.0012500000000000002\">\n",
       "        <title>Cylinder 2\\nTemp: 52.7\\nPos: (0.03, 0.02)\\nRadius: 0.07</title>\n",
       "      </circle>\n",
       "    </g>\n",
       "  </svg>\n",
       "  <p style=\"font-size: 0.8em; color: #666; margin-top: 8px; margin-bottom: 0;\">Bounding Box (xmin, xmax, ymin, ymax): (0.00, 0.50, -0.00, 0.10)</p>\n",
       "</div>"
      ],
      "text/plain": [
       "<cooldata.pyvista_flow_field_dataset.PyvistaSample at 0x17707e410>"
      ]
     },
     "execution_count": 4,
     "metadata": {},
     "output_type": "execute_result"
    }
   ],
   "source": [
    "ds_pv[11]"
   ]
  },
  {
   "cell_type": "code",
   "execution_count": 5,
   "id": "63b4a718",
   "metadata": {},
   "outputs": [
    {
     "name": "stderr",
     "output_type": "stream",
     "text": [
      "\u001b[0m\u001b[33m2025-06-04 13:17:00.208 (   1.662s) [          4ACB5D]      vtkCGNSReader.cxx:4267  WARN| vtkCGNSReader (0x178c32280): Skipping BC_t node: BC_t type 'BCInflow' not supported yet.\u001b[0m\n",
      "\u001b[0m\u001b[33m2025-06-04 13:17:00.208 (   1.662s) [          4ACB5D]      vtkCGNSReader.cxx:4267  WARN| vtkCGNSReader (0x178c32280): Skipping BC_t node: BC_t type 'BCSymmetryPlane' not supported yet.\u001b[0m\n",
      "\u001b[0m\u001b[33m2025-06-04 13:17:00.209 (   1.663s) [          4ACB5D]      vtkCGNSReader.cxx:4267  WARN| vtkCGNSReader (0x178c32280): Skipping BC_t node: BC_t type 'BCTunnelOutflow' not supported yet.\u001b[0m\n"
     ]
    },
    {
     "data": {
      "application/vnd.jupyter.widget-view+json": {
       "model_id": "63293cd3c4b946009dbab6f605ddec36",
       "version_major": 2,
       "version_minor": 0
      },
      "text/plain": [
       "Widget(value='<iframe src=\"http://localhost:52886/index.html?ui=P_0x304b46f10_0&reconnect=auto\" class=\"pyvista…"
      ]
     },
     "metadata": {},
     "output_type": "display_data"
    }
   ],
   "source": [
    "ds_pv[11].plot_volume(\"TurbulentDissipationRate\")"
   ]
  },
  {
   "cell_type": "code",
   "execution_count": 6,
   "id": "af51afe1",
   "metadata": {},
   "outputs": [
    {
     "data": {
      "text/plain": [
       "SystemParameters(V=6.649704829993396, Quads=[Quader(T=27.431745561695564, Pos=Position(x=0.2529554568622975, y=0.010998077124956785, z=0.0), Size=(0.017929974351452934,0.0811006054512141,0.004593632067598083)), Quader(T=73.56599983187456, Pos=Position(x=0.042264237397314, y=0.052817420256945774, z=0.0), Size=(0.2470981049536163,0.09754702609619845,0.009341759740707677)), Quader(T=41.47208193898771, Pos=Position(x=0.24283328079511024, y=1.0, z=0.0), Size=(0.026220302301664764,0.07898892131202402,0.00887176686132575)), Quader(T=75.23829637679786, Pos=Position(x=0.10372524778479524, y=1.0, z=0.0), Size=(0.19181215729154183,0.06505509407165959,0.008355894628710864))], Cylinders=[Cylinder(T=36.9502074871104, Pos=Position(x=0.03592147626059582, y=1.0, z=0.0), R=0.07226771100195185, H=0.007048774090178702), Cylinder(T=65.09575433318419, Pos=Position(x=0.18280670639983967, y=1.0, z=0.0), R=0.08802365565371063, H=0.007129325874588058)])"
      ]
     },
     "execution_count": 6,
     "metadata": {},
     "output_type": "execute_result"
    }
   ],
   "source": [
    "ds_pv[4].metadata"
   ]
  },
  {
   "cell_type": "code",
   "execution_count": 13,
   "id": "2ad91f77",
   "metadata": {},
   "outputs": [
    {
     "data": {
      "text/html": [
       "<table style='width: 100%;'><tr><th>Header</th><th>Data Arrays</th></tr><tr><td>\n",
       "<table style='width: 100%;'>\n",
       "<tr><th>UnstructuredGrid</th><th>Information</th></tr>\n",
       "<tr><td>N Cells</td><td>5168</td></tr>\n",
       "<tr><td>N Points</td><td>5309</td></tr>\n",
       "<tr><td>X Bounds</td><td>0.000e+00, 1.658e-01</td></tr>\n",
       "<tr><td>Y Bounds</td><td>4.044e-03, 1.000e-01</td></tr>\n",
       "<tr><td>Z Bounds</td><td>0.000e+00, 1.500e-02</td></tr>\n",
       "<tr><td>N Arrays</td><td>12</td></tr>\n",
       "</table>\n",
       "\n",
       "</td><td>\n",
       "<table style='width: 100%;'>\n",
       "<tr><th>Name</th><th>Field</th><th>Type</th><th>N Comp</th><th>Min</th><th>Max</th></tr>\n",
       "<tr><td>AreaMagnitude</td><td>Cells</td><td>float64</td><td>1</td><td>2.956e-07</td><td>4.569e-06</td></tr>\n",
       "<tr><td>HeatTransferCoefficient</td><td>Cells</td><td>float64</td><td>1</td><td>6.691e+00</td><td>3.101e+02</td></tr>\n",
       "<tr><td>Normal_0</td><td>Cells</td><td>float64</td><td>1</td><td>-1.000e+00</td><td>5.443e-15</td></tr>\n",
       "<tr><td>Normal_1</td><td>Cells</td><td>float64</td><td>1</td><td>-5.261e-14</td><td>1.000e+00</td></tr>\n",
       "<tr><td>Normal_2</td><td>Cells</td><td>float64</td><td>1</td><td>-1.000e+00</td><td>4.915e-14</td></tr>\n",
       "<tr><td>Pressure</td><td>Cells</td><td>float64</td><td>1</td><td>-2.297e+01</td><td>2.131e+01</td></tr>\n",
       "<tr><td>Temperature</td><td>Cells</td><td>float64</td><td>1</td><td>3.467e+02</td><td>3.467e+02</td></tr>\n",
       "<tr><td>WallShearStress_0</td><td>Cells</td><td>float64</td><td>1</td><td>-9.725e-09</td><td>1.315e+00</td></tr>\n",
       "<tr><td>WallShearStress_1</td><td>Cells</td><td>float64</td><td>1</td><td>-3.044e-01</td><td>2.201e-01</td></tr>\n",
       "<tr><td>WallShearStress_2</td><td>Cells</td><td>float64</td><td>1</td><td>-5.981e-02</td><td>3.768e-01</td></tr>\n",
       "<tr><td>Base/Zone</td><td>Fields</td><td><U16</td><td>1</td><td>nan</td><td>nan</td></tr>\n",
       "<tr><td>ispatch</td><td>Fields</td><td>int32</td><td>1</td><td>0.000e+00</td><td>0.000e+00</td></tr>\n",
       "</table>\n",
       "\n",
       "</td></tr> </table>"
      ],
      "text/plain": [
       "UnstructuredGrid (0x105af8fa0)\n",
       "  N Cells:    5168\n",
       "  N Points:   5309\n",
       "  X Bounds:   0.000e+00, 1.658e-01\n",
       "  Y Bounds:   4.044e-03, 1.000e-01\n",
       "  Z Bounds:   0.000e+00, 1.500e-02\n",
       "  N Arrays:   12"
      ]
     },
     "execution_count": 13,
     "metadata": {},
     "output_type": "execute_result"
    }
   ],
   "source": [
    "ds_pv[4].surface_data[0][1]"
   ]
  },
  {
   "cell_type": "code",
   "execution_count": 7,
   "id": "95a584c3",
   "metadata": {},
   "outputs": [
    {
     "data": {
      "application/vnd.jupyter.widget-view+json": {
       "model_id": "7300fe735b3d4b4fad8e8987df43acbc",
       "version_major": 2,
       "version_minor": 0
      },
      "text/plain": [
       "Widget(value='<iframe src=\"http://localhost:52886/index.html?ui=P_0x305d74150_1&reconnect=auto\" class=\"pyvista…"
      ]
     },
     "metadata": {},
     "output_type": "display_data"
    }
   ],
   "source": [
    "ds_pv[4].plot_surface(\"Temperature\")"
   ]
  },
  {
   "cell_type": "code",
   "execution_count": 8,
   "id": "bf21eeba",
   "metadata": {},
   "outputs": [
    {
     "name": "stderr",
     "output_type": "stream",
     "text": [
      "Voxelizing samples: 100%|██████████| 12/12 [00:04<00:00,  2.50it/s]\n"
     ]
    }
   ],
   "source": [
    "from cooldata.voxel_flow_field_dataset import VoxelFlowFieldDataset, VoxelFlowFieldDatasetConfig\n",
    "\n",
    "ds_voxel = VoxelFlowFieldDataset(\"datasets/voxel\",VoxelFlowFieldDatasetConfig(\n",
    "    pyvista_dataset=ds_pv,\n",
    "    resolution=(32,16,16)\n",
    "))"
   ]
  },
  {
   "cell_type": "code",
   "execution_count": 9,
   "id": "8c7587b0",
   "metadata": {},
   "outputs": [
    {
     "data": {
      "application/vnd.jupyter.widget-view+json": {
       "model_id": "eda9d83e2ead4c2d8d9e8fc396d764c3",
       "version_major": 2,
       "version_minor": 0
      },
      "text/plain": [
       "interactive(children=(IntSlider(value=8, description='slice_idx', max=15), Output()), _dom_classes=('widget-in…"
      ]
     },
     "metadata": {},
     "output_type": "display_data"
    }
   ],
   "source": [
    "ds_voxel[11].plot_slice_interactively(\"Velocity\")"
   ]
  }
 ],
 "metadata": {
  "kernelspec": {
   "display_name": ".venv",
   "language": "python",
   "name": "python3"
  },
  "language_info": {
   "codemirror_mode": {
    "name": "ipython",
    "version": 3
   },
   "file_extension": ".py",
   "mimetype": "text/x-python",
   "name": "python",
   "nbconvert_exporter": "python",
   "pygments_lexer": "ipython3",
   "version": "3.11.12"
  }
 },
 "nbformat": 4,
 "nbformat_minor": 5
}
