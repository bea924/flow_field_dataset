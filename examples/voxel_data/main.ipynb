{
 "cells": [
  {
   "cell_type": "code",
   "execution_count": 1,
   "metadata": {},
   "outputs": [],
   "source": [
    "%load_ext autoreload\n",
    "%autoreload 2"
   ]
  },
  {
   "cell_type": "code",
   "execution_count": 2,
   "metadata": {},
   "outputs": [],
   "source": [
    "import sys\n",
    "import os\n",
    "base_path = '../../'\n",
    "sys.path.append(base_path)"
   ]
  },
  {
   "cell_type": "code",
   "execution_count": 3,
   "metadata": {},
   "outputs": [
    {
     "name": "stdout",
     "output_type": "stream",
     "text": [
      "Found 333 files in repository 'peteole/CoolMucSmall'.\n",
      "Downloading 666 files from repository 'peteole/CoolMucSmall' to 'datasets/ds_huggingface'.\n",
      "File 1/6: volume_design_1.cgns already exists. Skipping download.\n",
      "File 2/6: volume_design_10.cgns already exists. Skipping download.\n",
      "File 3/6: volume_design_1001.cgns already exists. Skipping download.\n",
      "File 4/6: surface_design_1.cgns already exists. Skipping download.\n",
      "File 5/6: surface_design_10.cgns already exists. Skipping download.\n",
      "File 6/6: surface_design_1001.cgns already exists. Skipping download.\n",
      "All files have been downloaded to 'datasets/ds_huggingface'.\n"
     ]
    }
   ],
   "source": [
    "from src.pyvista_flow_field_dataset import PyvistaFlowFieldDataset\n",
    "ds_pv = PyvistaFlowFieldDataset.load_from_huggingface(num_samples=3)"
   ]
  },
  {
   "cell_type": "code",
   "execution_count": 4,
   "metadata": {},
   "outputs": [
    {
     "name": "stderr",
     "output_type": "stream",
     "text": [
      "\u001b[0m\u001b[33m2025-03-23 11:36:50.096 (   3.451s) [    7F6EC350C740]      vtkCGNSReader.cxx:4268  WARN| vtkCGNSReader (0x5639a406f2d0): Skipping BC_t node: BC_t type 'BCInflow' not supported yet.\u001b[0m\n",
      "\u001b[0m\u001b[33m2025-03-23 11:36:50.097 (   3.452s) [    7F6EC350C740]      vtkCGNSReader.cxx:4268  WARN| vtkCGNSReader (0x5639a406f2d0): Skipping BC_t node: BC_t type 'BCSymmetryPlane' not supported yet.\u001b[0m\n",
      "\u001b[0m\u001b[33m2025-03-23 11:36:50.097 (   3.452s) [    7F6EC350C740]      vtkCGNSReader.cxx:4268  WARN| vtkCGNSReader (0x5639a406f2d0): Skipping BC_t node: BC_t type 'BCTunnelOutflow' not supported yet.\u001b[0m\n"
     ]
    },
    {
     "data": {
      "text/html": [
       "<table style='width: 100%;'><tr><th>Header</th><th>Data Arrays</th></tr><tr><td>\n",
       "<table style='width: 100%;'>\n",
       "<tr><th>UnstructuredGrid</th><th>Information</th></tr>\n",
       "<tr><td>N Cells</td><td>151598</td></tr>\n",
       "<tr><td>N Points</td><td>166546</td></tr>\n",
       "<tr><td>X Bounds</td><td>0.000e+00, 4.000e-01</td></tr>\n",
       "<tr><td>Y Bounds</td><td>-6.558e-02, 3.442e-02</td></tr>\n",
       "<tr><td>Z Bounds</td><td>0.000e+00, 2.000e-02</td></tr>\n",
       "<tr><td>N Arrays</td><td>11</td></tr>\n",
       "</table>\n",
       "\n",
       "</td><td>\n",
       "<table style='width: 100%;'>\n",
       "<tr><th>Name</th><th>Field</th><th>Type</th><th>N Comp</th><th>Min</th><th>Max</th></tr>\n",
       "<tr><td>Velocity</td><td>Cells</td><td>float64</td><td>3</td><td>-5.745e+00</td><td>8.187e+00</td></tr>\n",
       "<tr><td>Pressure</td><td>Cells</td><td>float64</td><td>1</td><td>-3.345e+01</td><td>3.262e+01</td></tr>\n",
       "<tr><td>Temperature</td><td>Cells</td><td>float64</td><td>1</td><td>2.931e+02</td><td>3.103e+02</td></tr>\n",
       "<tr><td>TotalSolverCPUTimeReport</td><td>Cells</td><td>float64</td><td>1</td><td>2.210e+02</td><td>2.210e+02</td></tr>\n",
       "<tr><td>VelocityMagnitude</td><td>Cells</td><td>float64</td><td>1</td><td>1.151e-03</td><td>8.187e+00</td></tr>\n",
       "<tr><td>Velocity_0</td><td>Cells</td><td>float64</td><td>1</td><td>-2.775e+00</td><td>8.187e+00</td></tr>\n",
       "<tr><td>Velocity_1</td><td>Cells</td><td>float64</td><td>1</td><td>-5.745e+00</td><td>5.469e+00</td></tr>\n",
       "<tr><td>Velocity_2</td><td>Cells</td><td>float64</td><td>1</td><td>-1.908e+00</td><td>6.857e+00</td></tr>\n",
       "<tr><td>Volume</td><td>Cells</td><td>float64</td><td>1</td><td>2.831e-11</td><td>9.516e-09</td></tr>\n",
       "<tr><td>Base/Zone</td><td>Fields</td><td><U9</td><td>1</td><td>nan</td><td>nan</td></tr>\n",
       "<tr><td>ispatch</td><td>Fields</td><td>int32</td><td>1</td><td>0.000e+00</td><td>0.000e+00</td></tr>\n",
       "</table>\n",
       "\n",
       "</td></tr> </table>"
      ],
      "text/plain": [
       "UnstructuredGrid (0x7f6e8011d0c0)\n",
       "  N Cells:    151598\n",
       "  N Points:   166546\n",
       "  X Bounds:   0.000e+00, 4.000e-01\n",
       "  Y Bounds:   -6.558e-02, 3.442e-02\n",
       "  Z Bounds:   0.000e+00, 2.000e-02\n",
       "  N Arrays:   11"
      ]
     },
     "execution_count": 4,
     "metadata": {},
     "output_type": "execute_result"
    }
   ],
   "source": [
    "volume_pv = ds_pv[0].volume_data[0][0][0]\n",
    "volume_pv"
   ]
  },
  {
   "cell_type": "code",
   "execution_count": 5,
   "metadata": {},
   "outputs": [],
   "source": [
    "import numpy as np\n",
    "import pyvista as pv"
   ]
  },
  {
   "cell_type": "code",
   "execution_count": 6,
   "metadata": {},
   "outputs": [],
   "source": [
    "nx,ny,nz = 100,50,20\n",
    "x, y, z = np.mgrid[0:0.4:complex(nx), \n",
    "                    -0.1:0.1:complex(ny), \n",
    "                    0:0.02:complex(nz)]\n",
    "grid = pv.StructuredGrid(x, y, z)\n",
    "interpolated_grid = grid.sample(volume_pv)"
   ]
  },
  {
   "cell_type": "code",
   "execution_count": 7,
   "metadata": {},
   "outputs": [
    {
     "data": {
      "text/html": [
       "<table style='width: 100%;'><tr><th>Header</th><th>Data Arrays</th></tr><tr><td>\n",
       "<table style='width: 100%;'>\n",
       "<tr><th>StructuredGrid</th><th>Information</th></tr>\n",
       "<tr><td>N Cells</td><td>92169</td></tr>\n",
       "<tr><td>N Points</td><td>100000</td></tr>\n",
       "<tr><td>X Bounds</td><td>0.000e+00, 4.000e-01</td></tr>\n",
       "<tr><td>Y Bounds</td><td>-1.000e-01, 1.000e-01</td></tr>\n",
       "<tr><td>Z Bounds</td><td>0.000e+00, 2.000e-02</td></tr>\n",
       "<tr><td>Dimensions</td><td>100, 50, 20</td></tr>\n",
       "<tr><td>N Arrays</td><td>12</td></tr>\n",
       "</table>\n",
       "\n",
       "</td><td>\n",
       "<table style='width: 100%;'>\n",
       "<tr><th>Name</th><th>Field</th><th>Type</th><th>N Comp</th><th>Min</th><th>Max</th></tr>\n",
       "<tr><td>Pressure</td><td>Points</td><td>float64</td><td>1</td><td>-2.206e+01</td><td>3.192e+01</td></tr>\n",
       "<tr><td>Temperature</td><td>Points</td><td>float64</td><td>1</td><td>0.000e+00</td><td>3.034e+02</td></tr>\n",
       "<tr><td>TotalSolverCPUTimeReport</td><td>Points</td><td>float64</td><td>1</td><td>0.000e+00</td><td>2.210e+02</td></tr>\n",
       "<tr><td>Velocity</td><td>Points</td><td>float64</td><td>3</td><td>-4.036e+00</td><td>8.180e+00</td></tr>\n",
       "<tr><td>VelocityMagnitude</td><td>Points</td><td>float64</td><td>1</td><td>0.000e+00</td><td>8.181e+00</td></tr>\n",
       "<tr><td>Velocity_0</td><td>Points</td><td>float64</td><td>1</td><td>-1.400e+00</td><td>8.180e+00</td></tr>\n",
       "<tr><td>Velocity_1</td><td>Points</td><td>float64</td><td>1</td><td>-4.036e+00</td><td>5.032e+00</td></tr>\n",
       "<tr><td>Velocity_2</td><td>Points</td><td>float64</td><td>1</td><td>-1.005e+00</td><td>3.986e+00</td></tr>\n",
       "<tr><td>Volume</td><td>Points</td><td>float64</td><td>1</td><td>0.000e+00</td><td>9.516e-09</td></tr>\n",
       "<tr><td>vtkValidPointMask</td><td>Points</td><td>int8</td><td>1</td><td>0.000e+00</td><td>1.000e+00</td></tr>\n",
       "<tr><td>vtkGhostType</td><td>Points</td><td>uint8</td><td>1</td><td>0.000e+00</td><td>2.000e+00</td></tr>\n",
       "<tr><td>vtkGhostType</td><td>Cells</td><td>uint8</td><td>1</td><td>0.000e+00</td><td>3.200e+01</td></tr>\n",
       "</table>\n",
       "\n",
       "</td></tr> </table>"
      ],
      "text/plain": [
       "StructuredGrid (0x7f6e8011d120)\n",
       "  N Cells:      92169\n",
       "  N Points:     100000\n",
       "  X Bounds:     0.000e+00, 4.000e-01\n",
       "  Y Bounds:     -1.000e-01, 1.000e-01\n",
       "  Z Bounds:     0.000e+00, 2.000e-02\n",
       "  Dimensions:   100, 50, 20\n",
       "  N Arrays:     12"
      ]
     },
     "execution_count": 7,
     "metadata": {},
     "output_type": "execute_result"
    }
   ],
   "source": [
    "interpolated_grid"
   ]
  },
  {
   "cell_type": "code",
   "execution_count": 8,
   "metadata": {},
   "outputs": [
    {
     "data": {
      "application/vnd.jupyter.widget-view+json": {
       "model_id": "efad62736b964ef1a5998116d71ff136",
       "version_major": 2,
       "version_minor": 0
      },
      "text/plain": [
       "Widget(value='<iframe src=\"http://localhost:37243/index.html?ui=P_0x7f6e8015e5d0_0&reconnect=auto\" class=\"pyvi…"
      ]
     },
     "metadata": {},
     "output_type": "display_data"
    }
   ],
   "source": [
    "interpolated_grid.plot(scalars='Pressure')"
   ]
  },
  {
   "cell_type": "code",
   "execution_count": null,
   "metadata": {},
   "outputs": [],
   "source": []
  },
  {
   "cell_type": "code",
   "execution_count": 9,
   "metadata": {},
   "outputs": [
    {
     "data": {
      "image/png": "[encoded data removed]",
      "text/plain": [
       "<Figure size 640x480 with 1 Axes>"
      ]
     },
     "metadata": {},
     "output_type": "display_data"
    }
   ],
   "source": [
    "import matplotlib.pyplot as plt\n",
    "data=interpolated_grid['Velocity'].reshape((nx,ny,nz,3), order='F')\n",
    "plt.imshow(data[:,:,5,2])\n",
    "plt.show()"
   ]
  },
  {
   "cell_type": "code",
   "execution_count": 10,
   "metadata": {},
   "outputs": [
    {
     "data": {
      "application/vnd.jupyter.widget-view+json": {
       "model_id": "5db77778e26a47ac9e15e54edf341882",
       "version_major": 2,
       "version_minor": 0
      },
      "text/plain": [
       "Widget(value='<iframe src=\"http://localhost:37243/index.html?ui=P_0x7f6e79d793d0_1&reconnect=auto\" class=\"pyvi…"
      ]
     },
     "metadata": {},
     "output_type": "display_data"
    }
   ],
   "source": [
    "volume_pv.plot(scalars='Pressure')"
   ]
  },
  {
   "cell_type": "code",
   "execution_count": 11,
   "metadata": {},
   "outputs": [
    {
     "name": "stderr",
     "output_type": "stream",
     "text": [
      "Clipping input data to the valid range for imshow with RGB data ([0..1] for floats or [0..255] for integers). Got range [-1.7214126586914062..3.147486686706543].\n"
     ]
    },
    {
     "data": {
      "image/png": "[encoded data removed]",
      "text/plain": [
       "<Figure size 640x480 with 2 Axes>"
      ]
     },
     "metadata": {},
     "output_type": "display_data"
    }
   ],
   "source": [
    "plt.imshow(data[:,:,0])\n",
    "plt.colorbar()\n",
    "plt.show()"
   ]
  },
  {
   "cell_type": "code",
   "execution_count": 12,
   "metadata": {},
   "outputs": [
    {
     "data": {
      "text/plain": [
       "np.float64(-1.7214126586914062)"
      ]
     },
     "execution_count": 12,
     "metadata": {},
     "output_type": "execute_result"
    }
   ],
   "source": [
    "data[:,:,0].min()"
   ]
  },
  {
   "cell_type": "code",
   "execution_count": 13,
   "metadata": {},
   "outputs": [
    {
     "data": {
      "text/plain": [
       "np.int64(0)"
      ]
     },
     "execution_count": 13,
     "metadata": {},
     "output_type": "execute_result"
    }
   ],
   "source": [
    "# check for nans\n",
    "np.isnan(data).sum()"
   ]
  },
  {
   "cell_type": "code",
   "execution_count": 14,
   "metadata": {},
   "outputs": [
    {
     "data": {
      "text/plain": [
       "pyvista_ndarray([0., 0., 0., 0., 0., 0., 0., 0., 0., 0., 0., 0., 0., 0.,\n",
       "                 0., 0., 0., 0., 0., 0., 0., 0., 0., 0., 0., 0., 0., 0.,\n",
       "                 0., 0., 0., 0., 0., 0., 0., 0., 0., 0., 0., 0., 0., 0.,\n",
       "                 0., 0., 0., 0., 0., 0., 0., 0., 0., 0., 0., 0., 0., 0.,\n",
       "                 0., 0., 0., 0., 0., 0., 0., 0., 0., 0., 0., 0., 0., 0.,\n",
       "                 0., 0., 0., 0., 0., 0., 0., 0., 0., 0., 0., 0., 0., 0.,\n",
       "                 0., 0., 0., 0., 0., 0., 0., 0., 0., 0., 0., 0., 0., 0.,\n",
       "                 0., 0.])"
      ]
     },
     "execution_count": 14,
     "metadata": {},
     "output_type": "execute_result"
    }
   ],
   "source": [
    "interpolated_grid['Pressure'][:nx]"
   ]
  },
  {
   "cell_type": "code",
   "execution_count": 15,
   "metadata": {},
   "outputs": [
    {
     "data": {
      "image/png": "[encoded data removed]",
      "text/plain": [
       "<Figure size 640x480 with 2 Axes>"
      ]
     },
     "metadata": {},
     "output_type": "display_data"
    }
   ],
   "source": [
    "\n",
    "mask=interpolated_grid['vtkValidPointMask'].reshape(nx,ny,nz, order='F')\n",
    "plt.imshow(mask[:,:,5])\n",
    "plt.colorbar()\n",
    "plt.show()"
   ]
  },
  {
   "cell_type": "code",
   "execution_count": 16,
   "metadata": {},
   "outputs": [
    {
     "name": "stderr",
     "output_type": "stream",
     "text": [
      "\u001b[0m\u001b[33m2025-03-23 11:37:01.064 (  14.419s) [    7F6EC350C740]      vtkCGNSReader.cxx:4268  WARN| vtkCGNSReader (0x5639ac14b880): Skipping BC_t node: BC_t type 'BCInflow' not supported yet.\u001b[0m\n",
      "\u001b[0m\u001b[33m2025-03-23 11:37:01.065 (  14.419s) [    7F6EC350C740]      vtkCGNSReader.cxx:4268  WARN| vtkCGNSReader (0x5639ac14b880): Skipping BC_t node: BC_t type 'BCSymmetryPlane' not supported yet.\u001b[0m\n",
      "\u001b[0m\u001b[33m2025-03-23 11:37:01.065 (  14.420s) [    7F6EC350C740]      vtkCGNSReader.cxx:4268  WARN| vtkCGNSReader (0x5639ac14b880): Skipping BC_t node: BC_t type 'BCTunnelOutflow' not supported yet.\u001b[0m\n",
      "\u001b[0m\u001b[33m2025-03-23 11:37:01.342 (  14.697s) [    7F6EC350C740]      vtkCGNSReader.cxx:4268  WARN| vtkCGNSReader (0x5639aa34c4b0): Skipping BC_t node: BC_t type 'BCInflow' not supported yet.\u001b[0m\n",
      "\u001b[0m\u001b[33m2025-03-23 11:37:01.342 (  14.697s) [    7F6EC350C740]      vtkCGNSReader.cxx:4268  WARN| vtkCGNSReader (0x5639aa34c4b0): Skipping BC_t node: BC_t type 'BCSymmetryPlane' not supported yet.\u001b[0m\n",
      "\u001b[0m\u001b[33m2025-03-23 11:37:01.342 (  14.697s) [    7F6EC350C740]      vtkCGNSReader.cxx:4268  WARN| vtkCGNSReader (0x5639aa34c4b0): Skipping BC_t node: BC_t type 'BCTunnelOutflow' not supported yet.\u001b[0m\n"
     ]
    },
    {
     "data": {
      "text/plain": [
       "(0.0,\n",
       " 0.40000000000000013,\n",
       " -0.06557989546912942,\n",
       " 0.034420104530870646,\n",
       " 0.0,\n",
       " 0.020000000000000007)"
      ]
     },
     "execution_count": 16,
     "metadata": {},
     "output_type": "execute_result"
    }
   ],
   "source": [
    "ds_pv.get_bounds()"
   ]
  },
  {
   "cell_type": "code",
   "execution_count": 32,
   "metadata": {},
   "outputs": [],
   "source": [
    "from src.voxel_flow_field_dataset import VoxelFlowFieldDataset\n",
    "ds_voxel = VoxelFlowFieldDataset('datasets/voxels',ds_pv,resolution=(50,20,10))"
   ]
  },
  {
   "cell_type": "code",
   "execution_count": null,
   "metadata": {},
   "outputs": [
    {
     "data": {
      "text/plain": [
       "MemoryMappedTensor([[[[ 0.0000e+00,  0.0000e+00,  0.0000e+00,  0.0000e+00,\n",
       "                        0.0000e+00],\n",
       "                      [ 0.0000e+00,  0.0000e+00,  0.0000e+00,  0.0000e+00,\n",
       "                        0.0000e+00],\n",
       "                      [ 0.0000e+00,  0.0000e+00,  0.0000e+00,  0.0000e+00,\n",
       "                        0.0000e+00],\n",
       "                      ...,\n",
       "                      [ 0.0000e+00,  0.0000e+00,  0.0000e+00,  0.0000e+00,\n",
       "                        0.0000e+00],\n",
       "                      [ 0.0000e+00,  0.0000e+00,  0.0000e+00,  0.0000e+00,\n",
       "                        0.0000e+00],\n",
       "                      [ 0.0000e+00,  0.0000e+00,  0.0000e+00,  0.0000e+00,\n",
       "                        0.0000e+00]],\n",
       "\n",
       "                     [[ 3.1450e+00,  2.9578e-03,  1.5024e-01,  2.8392e+01,\n",
       "                        2.9315e+02],\n",
       "                      [ 3.9569e+00,  2.9790e-03,  3.9975e-02,  2.7720e+01,\n",
       "                        2.9315e+02],\n",
       "                      [ 3.9445e+00,  3.0000e-03,  1.7110e-02,  2.7519e+01,\n",
       "                        2.9315e+02],\n",
       "                      ...,\n",
       "                      [ 3.9439e+00,  3.0309e-03, -1.2862e-02,  2.7458e+01,\n",
       "                        2.9315e+02],\n",
       "                      [ 3.9533e+00,  3.0009e-03, -3.2732e-02,  2.7626e+01,\n",
       "                        2.9315e+02],\n",
       "                      [ 0.0000e+00,  0.0000e+00,  0.0000e+00,  0.0000e+00,\n",
       "                        0.0000e+00]],\n",
       "\n",
       "                     [[ 3.1452e+00,  6.4757e-03,  1.5027e-01,  2.8259e+01,\n",
       "                        2.9315e+02],\n",
       "                      [ 3.9569e+00,  6.5797e-03,  4.0142e-02,  2.7586e+01,\n",
       "                        2.9315e+02],\n",
       "                      [ 3.9446e+00,  6.6019e-03,  1.6757e-02,  2.7384e+01,\n",
       "                        2.9315e+02],\n",
       "                      ...,\n",
       "                      [ 3.9439e+00,  6.5467e-03, -1.2579e-02,  2.7323e+01,\n",
       "                        2.9315e+02],\n",
       "                      [ 3.9533e+00,  6.6248e-03, -3.2809e-02,  2.7491e+01,\n",
       "                        2.9315e+02],\n",
       "                      [ 0.0000e+00,  0.0000e+00,  0.0000e+00,  0.0000e+00,\n",
       "                        0.0000e+00]],\n",
       "\n",
       "                     ...,\n",
       "\n",
       "                     [[ 3.1469e+00,  8.7885e-03,  1.5026e-01,  2.1314e+01,\n",
       "                        2.9315e+02],\n",
       "                      [ 3.9592e+00,  8.8588e-03,  3.9353e-02,  2.0649e+01,\n",
       "                        2.9315e+02],\n",
       "                      [ 3.9467e+00,  8.9374e-03,  1.5401e-02,  2.0456e+01,\n",
       "                        2.9315e+02],\n",
       "                      ...,\n",
       "                      [ 3.9453e+00,  8.7210e-03, -1.3352e-02,  2.0436e+01,\n",
       "                        2.9315e+02],\n",
       "                      [ 3.9554e+00,  8.8968e-03, -3.3054e-02,  2.0607e+01,\n",
       "                        2.9315e+02],\n",
       "                      [ 0.0000e+00,  0.0000e+00,  0.0000e+00,  0.0000e+00,\n",
       "                        0.0000e+00]],\n",
       "\n",
       "                     [[ 3.1472e+00,  3.7629e-03,  1.5002e-01,  2.1133e+01,\n",
       "                        2.9315e+02],\n",
       "                      [ 3.9592e+00,  4.0122e-03,  3.9359e-02,  2.0469e+01,\n",
       "                        2.9315e+02],\n",
       "                      [ 3.9467e+00,  4.0577e-03,  1.5633e-02,  2.0276e+01,\n",
       "                        2.9315e+02],\n",
       "                      ...,\n",
       "                      [ 3.9456e+00,  4.0909e-03, -1.3531e-02,  2.0254e+01,\n",
       "                        2.9315e+02],\n",
       "                      [ 3.9554e+00,  4.0781e-03, -3.3026e-02,  2.0425e+01,\n",
       "                        2.9315e+02],\n",
       "                      [ 0.0000e+00,  0.0000e+00,  0.0000e+00,  0.0000e+00,\n",
       "                        0.0000e+00]],\n",
       "\n",
       "                     [[ 0.0000e+00,  0.0000e+00,  0.0000e+00,  0.0000e+00,\n",
       "                        0.0000e+00],\n",
       "                      [ 0.0000e+00,  0.0000e+00,  0.0000e+00,  0.0000e+00,\n",
       "                        0.0000e+00],\n",
       "                      [ 0.0000e+00,  0.0000e+00,  0.0000e+00,  0.0000e+00,\n",
       "                        0.0000e+00],\n",
       "                      ...,\n",
       "                      [ 0.0000e+00,  0.0000e+00,  0.0000e+00,  0.0000e+00,\n",
       "                        0.0000e+00],\n",
       "                      [ 0.0000e+00,  0.0000e+00,  0.0000e+00,  0.0000e+00,\n",
       "                        0.0000e+00],\n",
       "                      [ 0.0000e+00,  0.0000e+00,  0.0000e+00,  0.0000e+00,\n",
       "                        0.0000e+00]]],\n",
       "\n",
       "\n",
       "                    [[[ 0.0000e+00,  0.0000e+00,  0.0000e+00,  0.0000e+00,\n",
       "                        0.0000e+00],\n",
       "                      [ 0.0000e+00,  0.0000e+00,  0.0000e+00,  0.0000e+00,\n",
       "                        0.0000e+00],\n",
       "                      [ 0.0000e+00,  0.0000e+00,  0.0000e+00,  0.0000e+00,\n",
       "                        0.0000e+00],\n",
       "                      ...,\n",
       "                      [ 0.0000e+00,  0.0000e+00,  0.0000e+00,  0.0000e+00,\n",
       "                        0.0000e+00],\n",
       "                      [ 0.0000e+00,  0.0000e+00,  0.0000e+00,  0.0000e+00,\n",
       "                        0.0000e+00],\n",
       "                      [ 0.0000e+00,  0.0000e+00,  0.0000e+00,  0.0000e+00,\n",
       "                        0.0000e+00]],\n",
       "\n",
       "                     [[ 8.3149e-01,  1.7824e-02,  1.6223e-04,  2.7223e+01,\n",
       "                        2.9316e+02],\n",
       "                      [ 4.0621e+00,  2.6386e-02,  5.5974e-02,  2.7261e+01,\n",
       "                        2.9315e+02],\n",
       "                      [ 3.9987e+00,  2.6533e-02,  4.5081e-02,  2.7280e+01,\n",
       "                        2.9315e+02],\n",
       "                      ...,\n",
       "                      [ 4.0031e+00,  2.6911e-02, -2.6680e-02,  2.7194e+01,\n",
       "                        2.9315e+02],\n",
       "                      [ 4.0613e+00,  2.6256e-02, -4.4132e-02,  2.7150e+01,\n",
       "                        2.9315e+02],\n",
       "                      [ 0.0000e+00,  0.0000e+00,  0.0000e+00,  0.0000e+00,\n",
       "                        0.0000e+00]],\n",
       "\n",
       "                     [[ 8.0711e-01,  3.9305e-02, -2.1655e-04,  2.7093e+01,\n",
       "                        2.9316e+02],\n",
       "                      [ 4.0620e+00,  5.7713e-02,  5.6306e-02,  2.7128e+01,\n",
       "                        2.9315e+02],\n",
       "                      [ 3.9985e+00,  5.8650e-02,  4.4755e-02,  2.7146e+01,\n",
       "                        2.9315e+02],\n",
       "                      ...,\n",
       "                      [ 4.0030e+00,  5.8845e-02, -2.6306e-02,  2.7059e+01,\n",
       "                        2.9315e+02],\n",
       "                      [ 4.0611e+00,  5.8099e-02, -4.4003e-02,  2.7017e+01,\n",
       "                        2.9315e+02],\n",
       "                      [ 0.0000e+00,  0.0000e+00,  0.0000e+00,  0.0000e+00,\n",
       "                        0.0000e+00]],\n",
       "\n",
       "                     ...,\n",
       "\n",
       "                     [[ 8.8024e-01,  5.4413e-02, -9.4277e-04,  1.9858e+01,\n",
       "                        2.9316e+02],\n",
       "                      [ 4.1223e+00,  7.8613e-02,  4.7633e-02,  1.9914e+01,\n",
       "                        2.9315e+02],\n",
       "                      [ 4.0591e+00,  7.9894e-02,  3.3840e-02,  1.9947e+01,\n",
       "                        2.9315e+02],\n",
       "                      ...,\n",
       "                      [ 4.0533e+00,  8.0175e-02, -3.2618e-02,  1.9944e+01,\n",
       "                        2.9315e+02],\n",
       "                      [ 4.1099e+00,  7.9200e-02, -4.6967e-02,  1.9911e+01,\n",
       "                        2.9315e+02],\n",
       "                      [ 0.0000e+00,  0.0000e+00,  0.0000e+00,  0.0000e+00,\n",
       "                        0.0000e+00]],\n",
       "\n",
       "                     [[ 9.1104e-01,  2.5557e-02, -1.7711e-03,  1.9674e+01,\n",
       "                        2.9316e+02],\n",
       "                      [ 4.1236e+00,  3.5719e-02,  4.9547e-02,  1.9729e+01,\n",
       "                        2.9315e+02],\n",
       "                      [ 4.0603e+00,  3.6429e-02,  3.5057e-02,  1.9760e+01,\n",
       "                        2.9315e+02],\n",
       "                      ...,\n",
       "                      [ 4.0541e+00,  3.6675e-02, -3.2842e-02,  1.9758e+01,\n",
       "                        2.9315e+02],\n",
       "                      [ 4.1107e+00,  3.6376e-02, -4.7078e-02,  1.9725e+01,\n",
       "                        2.9315e+02],\n",
       "                      [ 0.0000e+00,  0.0000e+00,  0.0000e+00,  0.0000e+00,\n",
       "                        0.0000e+00]],\n",
       "\n",
       "                     [[ 0.0000e+00,  0.0000e+00,  0.0000e+00,  0.0000e+00,\n",
       "                        0.0000e+00],\n",
       "                      [ 0.0000e+00,  0.0000e+00,  0.0000e+00,  0.0000e+00,\n",
       "                        0.0000e+00],\n",
       "                      [ 0.0000e+00,  0.0000e+00,  0.0000e+00,  0.0000e+00,\n",
       "                        0.0000e+00],\n",
       "                      ...,\n",
       "                      [ 0.0000e+00,  0.0000e+00,  0.0000e+00,  0.0000e+00,\n",
       "                        0.0000e+00],\n",
       "                      [ 0.0000e+00,  0.0000e+00,  0.0000e+00,  0.0000e+00,\n",
       "                        0.0000e+00],\n",
       "                      [ 0.0000e+00,  0.0000e+00,  0.0000e+00,  0.0000e+00,\n",
       "                        0.0000e+00]]],\n",
       "\n",
       "\n",
       "                    [[[ 0.0000e+00,  0.0000e+00,  0.0000e+00,  0.0000e+00,\n",
       "                        0.0000e+00],\n",
       "                      [ 0.0000e+00,  0.0000e+00,  0.0000e+00,  0.0000e+00,\n",
       "                        0.0000e+00],\n",
       "                      [ 0.0000e+00,  0.0000e+00,  0.0000e+00,  0.0000e+00,\n",
       "                        0.0000e+00],\n",
       "                      ...,\n",
       "                      [ 0.0000e+00,  0.0000e+00,  0.0000e+00,  0.0000e+00,\n",
       "                        0.0000e+00],\n",
       "                      [ 0.0000e+00,  0.0000e+00,  0.0000e+00,  0.0000e+00,\n",
       "                        0.0000e+00],\n",
       "                      [ 0.0000e+00,  0.0000e+00,  0.0000e+00,  0.0000e+00,\n",
       "                        0.0000e+00]],\n",
       "\n",
       "                     [[ 5.6502e-01,  2.5203e-02,  1.1694e-03,  2.7523e+01,\n",
       "                        2.9316e+02],\n",
       "                      [ 4.0220e+00,  4.8648e-02,  6.4035e-02,  2.7482e+01,\n",
       "                        2.9315e+02],\n",
       "                      [ 3.9653e+00,  4.9373e-02,  6.1852e-02,  2.7440e+01,\n",
       "                        2.9315e+02],\n",
       "                      ...,\n",
       "                      [ 4.0096e+00,  4.9885e-02,  5.4985e-03,  2.7163e+01,\n",
       "                        2.9315e+02],\n",
       "                      [ 4.0723e+00,  4.8786e-02, -1.3900e-02,  2.7116e+01,\n",
       "                        2.9315e+02],\n",
       "                      [ 0.0000e+00,  0.0000e+00,  0.0000e+00,  0.0000e+00,\n",
       "                        0.0000e+00]],\n",
       "\n",
       "                     [[ 5.4252e-01,  5.3870e-02,  1.0833e-03,  2.7393e+01,\n",
       "                        2.9316e+02],\n",
       "                      [ 4.0209e+00,  1.0727e-01,  6.4497e-02,  2.7348e+01,\n",
       "                        2.9315e+02],\n",
       "                      [ 3.9650e+00,  1.0920e-01,  6.1989e-02,  2.7307e+01,\n",
       "                        2.9315e+02],\n",
       "                      ...,\n",
       "                      [ 4.0094e+00,  1.0934e-01,  5.6691e-03,  2.7029e+01,\n",
       "                        2.9315e+02],\n",
       "                      [ 4.0721e+00,  1.0794e-01, -1.3499e-02,  2.6983e+01,\n",
       "                        2.9315e+02],\n",
       "                      [ 0.0000e+00,  0.0000e+00,  0.0000e+00,  0.0000e+00,\n",
       "                        0.0000e+00]],\n",
       "\n",
       "                     ...,\n",
       "\n",
       "                     [[ 7.5639e-01,  8.0322e-02,  3.4893e-04,  1.9318e+01,\n",
       "                        2.9316e+02],\n",
       "                      [ 4.2453e+00,  1.5207e-01,  3.4431e-02,  1.9333e+01,\n",
       "                        2.9315e+02],\n",
       "                      [ 4.1845e+00,  1.5478e-01,  2.5452e-02,  1.9339e+01,\n",
       "                        2.9315e+02],\n",
       "                      ...,\n",
       "                      [ 4.1816e+00,  1.5368e-01, -2.0842e-02,  1.9323e+01,\n",
       "                        2.9315e+02],\n",
       "                      [ 4.2368e+00,  1.5146e-01, -2.9613e-02,  1.9312e+01,\n",
       "                        2.9315e+02],\n",
       "                      [ 0.0000e+00,  0.0000e+00,  0.0000e+00,  0.0000e+00,\n",
       "                        0.0000e+00]],\n",
       "\n",
       "                     [[ 7.9540e-01,  3.9481e-02,  1.7274e-03,  1.9109e+01,\n",
       "                        2.9316e+02],\n",
       "                      [ 4.2512e+00,  7.0923e-02,  3.3844e-02,  1.9127e+01,\n",
       "                        2.9315e+02],\n",
       "                      [ 4.1889e+00,  7.1101e-02,  2.4994e-02,  1.9138e+01,\n",
       "                        2.9315e+02],\n",
       "                      ...,\n",
       "                      [ 4.1835e+00,  7.0150e-02, -2.1467e-02,  1.9131e+01,\n",
       "                        2.9315e+02],\n",
       "                      [ 4.2387e+00,  6.9265e-02, -2.9976e-02,  1.9121e+01,\n",
       "                        2.9315e+02],\n",
       "                      [ 0.0000e+00,  0.0000e+00,  0.0000e+00,  0.0000e+00,\n",
       "                        0.0000e+00]],\n",
       "\n",
       "                     [[ 0.0000e+00,  0.0000e+00,  0.0000e+00,  0.0000e+00,\n",
       "                        0.0000e+00],\n",
       "                      [ 0.0000e+00,  0.0000e+00,  0.0000e+00,  0.0000e+00,\n",
       "                        0.0000e+00],\n",
       "                      [ 0.0000e+00,  0.0000e+00,  0.0000e+00,  0.0000e+00,\n",
       "                        0.0000e+00],\n",
       "                      ...,\n",
       "                      [ 0.0000e+00,  0.0000e+00,  0.0000e+00,  0.0000e+00,\n",
       "                        0.0000e+00],\n",
       "                      [ 0.0000e+00,  0.0000e+00,  0.0000e+00,  0.0000e+00,\n",
       "                        0.0000e+00],\n",
       "                      [ 0.0000e+00,  0.0000e+00,  0.0000e+00,  0.0000e+00,\n",
       "                        0.0000e+00]]],\n",
       "\n",
       "\n",
       "                    ...,\n",
       "\n",
       "\n",
       "                    [[[ 0.0000e+00,  0.0000e+00,  0.0000e+00,  0.0000e+00,\n",
       "                        0.0000e+00],\n",
       "                      [ 0.0000e+00,  0.0000e+00,  0.0000e+00,  0.0000e+00,\n",
       "                        0.0000e+00],\n",
       "                      [ 0.0000e+00,  0.0000e+00,  0.0000e+00,  0.0000e+00,\n",
       "                        0.0000e+00],\n",
       "                      ...,\n",
       "                      [ 0.0000e+00,  0.0000e+00,  0.0000e+00,  0.0000e+00,\n",
       "                        0.0000e+00],\n",
       "                      [ 0.0000e+00,  0.0000e+00,  0.0000e+00,  0.0000e+00,\n",
       "                        0.0000e+00],\n",
       "                      [ 0.0000e+00,  0.0000e+00,  0.0000e+00,  0.0000e+00,\n",
       "                        0.0000e+00]],\n",
       "\n",
       "                     [[ 6.3538e-01, -1.8411e-02,  1.7804e-04,  2.2365e-01,\n",
       "                        2.9398e+02],\n",
       "                      [ 4.8638e+00, -2.2494e-01,  1.0948e-01,  2.4423e-01,\n",
       "                        2.9401e+02],\n",
       "                      [ 5.1219e+00, -1.5920e-01,  1.7530e-01,  2.4143e-01,\n",
       "                        2.9404e+02],\n",
       "                      ...,\n",
       "                      [ 5.3092e+00,  1.2424e-01,  1.4238e-01,  2.3052e-01,\n",
       "                        2.9402e+02],\n",
       "                      [ 5.2900e+00,  1.5540e-01,  9.8144e-02,  2.7047e-01,\n",
       "                        2.9400e+02],\n",
       "                      [ 0.0000e+00,  0.0000e+00,  0.0000e+00,  0.0000e+00,\n",
       "                        0.0000e+00]],\n",
       "\n",
       "                     [[ 7.5159e-01, -5.9418e-02,  6.4761e-04,  1.5624e-01,\n",
       "                        2.9378e+02],\n",
       "                      [ 5.5120e+00, -4.0535e-01,  6.4598e-02,  1.6158e-01,\n",
       "                        2.9388e+02],\n",
       "                      [ 5.6152e+00, -2.7921e-01,  9.2790e-02,  1.5840e-01,\n",
       "                        2.9393e+02],\n",
       "                      ...,\n",
       "                      [ 5.4128e+00,  2.3127e-01,  8.0994e-02,  1.7014e-01,\n",
       "                        2.9398e+02],\n",
       "                      [ 5.3444e+00,  2.9507e-01,  5.2198e-02,  1.9315e-01,\n",
       "                        2.9397e+02],\n",
       "                      [ 0.0000e+00,  0.0000e+00,  0.0000e+00,  0.0000e+00,\n",
       "                        0.0000e+00]],\n",
       "\n",
       "                     ...,\n",
       "\n",
       "                     [[ 0.0000e+00,  0.0000e+00,  0.0000e+00,  0.0000e+00,\n",
       "                        0.0000e+00],\n",
       "                      [ 0.0000e+00,  0.0000e+00,  0.0000e+00,  0.0000e+00,\n",
       "                        0.0000e+00],\n",
       "                      [ 0.0000e+00,  0.0000e+00,  0.0000e+00,  0.0000e+00,\n",
       "                        0.0000e+00],\n",
       "                      ...,\n",
       "                      [ 5.7973e+00, -3.0311e-02, -3.7295e-02, -5.8825e-01,\n",
       "                        2.9437e+02],\n",
       "                      [ 5.9402e+00, -4.0283e-02, -2.4999e-02, -5.2378e-01,\n",
       "                        2.9370e+02],\n",
       "                      [ 0.0000e+00,  0.0000e+00,  0.0000e+00,  0.0000e+00,\n",
       "                        0.0000e+00]],\n",
       "\n",
       "                     [[ 0.0000e+00,  0.0000e+00,  0.0000e+00,  0.0000e+00,\n",
       "                        0.0000e+00],\n",
       "                      [ 0.0000e+00,  0.0000e+00,  0.0000e+00,  0.0000e+00,\n",
       "                        0.0000e+00],\n",
       "                      [ 0.0000e+00,  0.0000e+00,  0.0000e+00,  0.0000e+00,\n",
       "                        0.0000e+00],\n",
       "                      ...,\n",
       "                      [ 5.7672e+00, -1.4282e-02, -3.5923e-02, -5.8267e-01,\n",
       "                        2.9439e+02],\n",
       "                      [ 5.9132e+00, -1.8894e-02, -2.4110e-02, -5.2121e-01,\n",
       "                        2.9373e+02],\n",
       "                      [ 0.0000e+00,  0.0000e+00,  0.0000e+00,  0.0000e+00,\n",
       "                        0.0000e+00]],\n",
       "\n",
       "                     [[ 0.0000e+00,  0.0000e+00,  0.0000e+00,  0.0000e+00,\n",
       "                        0.0000e+00],\n",
       "                      [ 0.0000e+00,  0.0000e+00,  0.0000e+00,  0.0000e+00,\n",
       "                        0.0000e+00],\n",
       "                      [ 0.0000e+00,  0.0000e+00,  0.0000e+00,  0.0000e+00,\n",
       "                        0.0000e+00],\n",
       "                      ...,\n",
       "                      [ 5.7595e+00, -2.9206e-03, -3.5392e-02, -5.7970e-01,\n",
       "                        2.9440e+02],\n",
       "                      [ 5.9063e+00, -3.8163e-03, -2.3803e-02, -5.1983e-01,\n",
       "                        2.9373e+02],\n",
       "                      [ 0.0000e+00,  0.0000e+00,  0.0000e+00,  0.0000e+00,\n",
       "                        0.0000e+00]]],\n",
       "\n",
       "\n",
       "                    [[[ 0.0000e+00,  0.0000e+00,  0.0000e+00,  0.0000e+00,\n",
       "                        0.0000e+00],\n",
       "                      [ 0.0000e+00,  0.0000e+00,  0.0000e+00,  0.0000e+00,\n",
       "                        0.0000e+00],\n",
       "                      [ 0.0000e+00,  0.0000e+00,  0.0000e+00,  0.0000e+00,\n",
       "                        0.0000e+00],\n",
       "                      ...,\n",
       "                      [ 0.0000e+00,  0.0000e+00,  0.0000e+00,  0.0000e+00,\n",
       "                        0.0000e+00],\n",
       "                      [ 0.0000e+00,  0.0000e+00,  0.0000e+00,  0.0000e+00,\n",
       "                        0.0000e+00],\n",
       "                      [ 0.0000e+00,  0.0000e+00,  0.0000e+00,  0.0000e+00,\n",
       "                        0.0000e+00]],\n",
       "\n",
       "                     [[ 6.3130e-01, -1.6434e-02,  2.8882e-04,  1.0081e-01,\n",
       "                        2.9397e+02],\n",
       "                      [ 4.8634e+00, -2.1668e-01,  1.0547e-01,  1.2184e-01,\n",
       "                        2.9400e+02],\n",
       "                      [ 5.1325e+00, -1.5546e-01,  1.7018e-01,  1.2026e-01,\n",
       "                        2.9403e+02],\n",
       "                      ...,\n",
       "                      [ 5.3189e+00,  1.2160e-01,  1.4035e-01,  1.1275e-01,\n",
       "                        2.9402e+02],\n",
       "                      [ 5.2946e+00,  1.5230e-01,  9.6823e-02,  1.4904e-01,\n",
       "                        2.9400e+02],\n",
       "                      [ 0.0000e+00,  0.0000e+00,  0.0000e+00,  0.0000e+00,\n",
       "                        0.0000e+00]],\n",
       "\n",
       "                     [[ 7.4447e-01, -5.5267e-02,  8.1051e-04,  3.6108e-02,\n",
       "                        2.9378e+02],\n",
       "                      [ 5.5116e+00, -3.8991e-01,  6.1019e-02,  4.4847e-02,\n",
       "                        2.9387e+02],\n",
       "                      [ 5.6309e+00, -2.7026e-01,  8.8517e-02,  4.6193e-02,\n",
       "                        2.9392e+02],\n",
       "                      ...,\n",
       "                      [ 5.4214e+00,  2.2732e-01,  7.8944e-02,  6.7905e-02,\n",
       "                        2.9398e+02],\n",
       "                      [ 5.3451e+00,  2.9108e-01,  5.0739e-02,  8.8615e-02,\n",
       "                        2.9397e+02],\n",
       "                      [ 0.0000e+00,  0.0000e+00,  0.0000e+00,  0.0000e+00,\n",
       "                        0.0000e+00]],\n",
       "\n",
       "                     ...,\n",
       "\n",
       "                     [[ 2.0284e-03, -3.4051e-04, -8.7958e-05, -5.0820e-02,\n",
       "                        3.0143e+02],\n",
       "                      [-8.5866e-02, -9.7092e-05,  7.7969e-02, -4.8286e-02,\n",
       "                        3.0128e+02],\n",
       "                      [-1.5947e-01, -6.5483e-03,  2.1533e-01, -5.9698e-02,\n",
       "                        3.0038e+02],\n",
       "                      ...,\n",
       "                      [ 5.7033e+00, -3.1030e-02, -7.6212e-02, -2.1861e-01,\n",
       "                        2.9442e+02],\n",
       "                      [ 5.8295e+00, -3.8987e-02, -4.1473e-02, -2.8222e-01,\n",
       "                        2.9376e+02],\n",
       "                      [ 0.0000e+00,  0.0000e+00,  0.0000e+00,  0.0000e+00,\n",
       "                        0.0000e+00]],\n",
       "\n",
       "                     [[ 1.7756e-03, -2.7038e-04, -1.0114e-04, -5.0271e-02,\n",
       "                        3.0160e+02],\n",
       "                      [-7.7330e-02, -1.0843e-03,  7.7826e-02, -4.8206e-02,\n",
       "                        3.0148e+02],\n",
       "                      [-1.4608e-01, -3.1258e-03,  2.2101e-01, -5.9758e-02,\n",
       "                        3.0068e+02],\n",
       "                      ...,\n",
       "                      [ 5.6735e+00, -1.5316e-02, -7.2711e-02, -2.1365e-01,\n",
       "                        2.9444e+02],\n",
       "                      [ 5.8030e+00, -1.8747e-02, -3.9452e-02, -2.7732e-01,\n",
       "                        2.9378e+02],\n",
       "                      [ 0.0000e+00,  0.0000e+00,  0.0000e+00,  0.0000e+00,\n",
       "                        0.0000e+00]],\n",
       "\n",
       "                     [[ 1.9321e-03, -7.5204e-05, -1.2709e-04, -5.0053e-02,\n",
       "                        3.0168e+02],\n",
       "                      [-8.1631e-02, -1.3269e-03,  8.0649e-02, -4.7692e-02,\n",
       "                        3.0143e+02],\n",
       "                      [-1.5202e-01,  1.6979e-03,  2.1040e-01, -5.9609e-02,\n",
       "                        3.0065e+02],\n",
       "                      ...,\n",
       "                      [ 5.6662e+00, -3.1670e-03, -7.0494e-02, -2.1336e-01,\n",
       "                        2.9444e+02],\n",
       "                      [ 5.7963e+00, -3.8640e-03, -3.8838e-02, -2.7523e-01,\n",
       "                        2.9379e+02],\n",
       "                      [ 0.0000e+00,  0.0000e+00,  0.0000e+00,  0.0000e+00,\n",
       "                        0.0000e+00]]],\n",
       "\n",
       "\n",
       "                    [[[ 0.0000e+00,  0.0000e+00,  0.0000e+00,  0.0000e+00,\n",
       "                        0.0000e+00],\n",
       "                      [ 0.0000e+00,  0.0000e+00,  0.0000e+00,  0.0000e+00,\n",
       "                        0.0000e+00],\n",
       "                      [ 0.0000e+00,  0.0000e+00,  0.0000e+00,  0.0000e+00,\n",
       "                        0.0000e+00],\n",
       "                      ...,\n",
       "                      [ 0.0000e+00,  0.0000e+00,  0.0000e+00,  0.0000e+00,\n",
       "                        0.0000e+00],\n",
       "                      [ 0.0000e+00,  0.0000e+00,  0.0000e+00,  0.0000e+00,\n",
       "                        0.0000e+00],\n",
       "                      [ 0.0000e+00,  0.0000e+00,  0.0000e+00,  0.0000e+00,\n",
       "                        0.0000e+00]],\n",
       "\n",
       "                     [[ 0.0000e+00,  0.0000e+00,  0.0000e+00,  0.0000e+00,\n",
       "                        0.0000e+00],\n",
       "                      [ 0.0000e+00,  0.0000e+00,  0.0000e+00,  0.0000e+00,\n",
       "                        0.0000e+00],\n",
       "                      [ 0.0000e+00,  0.0000e+00,  0.0000e+00,  0.0000e+00,\n",
       "                        0.0000e+00],\n",
       "                      ...,\n",
       "                      [ 0.0000e+00,  0.0000e+00,  0.0000e+00,  0.0000e+00,\n",
       "                        0.0000e+00],\n",
       "                      [ 0.0000e+00,  0.0000e+00,  0.0000e+00,  0.0000e+00,\n",
       "                        0.0000e+00],\n",
       "                      [ 0.0000e+00,  0.0000e+00,  0.0000e+00,  0.0000e+00,\n",
       "                        0.0000e+00]],\n",
       "\n",
       "                     [[ 0.0000e+00,  0.0000e+00,  0.0000e+00,  0.0000e+00,\n",
       "                        0.0000e+00],\n",
       "                      [ 0.0000e+00,  0.0000e+00,  0.0000e+00,  0.0000e+00,\n",
       "                        0.0000e+00],\n",
       "                      [ 0.0000e+00,  0.0000e+00,  0.0000e+00,  0.0000e+00,\n",
       "                        0.0000e+00],\n",
       "                      ...,\n",
       "                      [ 0.0000e+00,  0.0000e+00,  0.0000e+00,  0.0000e+00,\n",
       "                        0.0000e+00],\n",
       "                      [ 0.0000e+00,  0.0000e+00,  0.0000e+00,  0.0000e+00,\n",
       "                        0.0000e+00],\n",
       "                      [ 0.0000e+00,  0.0000e+00,  0.0000e+00,  0.0000e+00,\n",
       "                        0.0000e+00]],\n",
       "\n",
       "                     ...,\n",
       "\n",
       "                     [[ 0.0000e+00,  0.0000e+00,  0.0000e+00,  0.0000e+00,\n",
       "                        0.0000e+00],\n",
       "                      [ 0.0000e+00,  0.0000e+00,  0.0000e+00,  0.0000e+00,\n",
       "                        0.0000e+00],\n",
       "                      [ 0.0000e+00,  0.0000e+00,  0.0000e+00,  0.0000e+00,\n",
       "                        0.0000e+00],\n",
       "                      ...,\n",
       "                      [ 0.0000e+00,  0.0000e+00,  0.0000e+00,  0.0000e+00,\n",
       "                        0.0000e+00],\n",
       "                      [ 0.0000e+00,  0.0000e+00,  0.0000e+00,  0.0000e+00,\n",
       "                        0.0000e+00],\n",
       "                      [ 0.0000e+00,  0.0000e+00,  0.0000e+00,  0.0000e+00,\n",
       "                        0.0000e+00]],\n",
       "\n",
       "                     [[ 0.0000e+00,  0.0000e+00,  0.0000e+00,  0.0000e+00,\n",
       "                        0.0000e+00],\n",
       "                      [ 0.0000e+00,  0.0000e+00,  0.0000e+00,  0.0000e+00,\n",
       "                        0.0000e+00],\n",
       "                      [ 0.0000e+00,  0.0000e+00,  0.0000e+00,  0.0000e+00,\n",
       "                        0.0000e+00],\n",
       "                      ...,\n",
       "                      [ 0.0000e+00,  0.0000e+00,  0.0000e+00,  0.0000e+00,\n",
       "                        0.0000e+00],\n",
       "                      [ 0.0000e+00,  0.0000e+00,  0.0000e+00,  0.0000e+00,\n",
       "                        0.0000e+00],\n",
       "                      [ 0.0000e+00,  0.0000e+00,  0.0000e+00,  0.0000e+00,\n",
       "                        0.0000e+00]],\n",
       "\n",
       "                     [[ 0.0000e+00,  0.0000e+00,  0.0000e+00,  0.0000e+00,\n",
       "                        0.0000e+00],\n",
       "                      [ 0.0000e+00,  0.0000e+00,  0.0000e+00,  0.0000e+00,\n",
       "                        0.0000e+00],\n",
       "                      [ 0.0000e+00,  0.0000e+00,  0.0000e+00,  0.0000e+00,\n",
       "                        0.0000e+00],\n",
       "                      ...,\n",
       "                      [ 0.0000e+00,  0.0000e+00,  0.0000e+00,  0.0000e+00,\n",
       "                        0.0000e+00],\n",
       "                      [ 0.0000e+00,  0.0000e+00,  0.0000e+00,  0.0000e+00,\n",
       "                        0.0000e+00],\n",
       "                      [ 0.0000e+00,  0.0000e+00,  0.0000e+00,  0.0000e+00,\n",
       "                        0.0000e+00]]]])"
      ]
     },
     "execution_count": 36,
     "metadata": {},
     "output_type": "execute_result"
    }
   ],
   "source": [
    "ds_voxel[0].mask"
   ]
  }
 ],
 "metadata": {
  "kernelspec": {
   "display_name": ".venv",
   "language": "python",
   "name": "python3"
  },
  "language_info": {
   "codemirror_mode": {
    "name": "ipython",
    "version": 3
   },
   "file_extension": ".py",
   "mimetype": "text/x-python",
   "name": "python",
   "nbconvert_exporter": "python",
   "pygments_lexer": "ipython3",
   "version": "3.11.11"
  }
 },
 "nbformat": 4,
 "nbformat_minor": 2
}
