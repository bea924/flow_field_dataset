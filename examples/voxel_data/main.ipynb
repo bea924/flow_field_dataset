{
 "cells": [
  {
   "cell_type": "code",
   "execution_count": 1,
   "metadata": {},
   "outputs": [],
   "source": [
    "%load_ext autoreload\n",
    "%autoreload 2"
   ]
  },
  {
   "cell_type": "code",
   "execution_count": 2,
   "metadata": {},
   "outputs": [],
   "source": [
    "import sys\n",
    "base_path = '../../'\n",
    "sys.path.append(base_path)"
   ]
  },
  {
   "cell_type": "code",
   "execution_count": 4,
   "metadata": {},
   "outputs": [
    {
     "data": {
      "application/vnd.jupyter.widget-view+json": {
       "model_id": "8550ec23ef1b4cb98110c30b526eac8a",
       "version_major": 2,
       "version_minor": 0
      },
      "text/plain": [
       "(…)gce/cooldata/production_run1/batch_0.zip:   0%|          | 0.00/113M [00:00<?, ?B/s]"
      ]
     },
     "metadata": {},
     "output_type": "display_data"
    }
   ],
   "source": [
    "from src.pyvista_flow_field_dataset import PyvistaFlowFieldDataset\n",
    "ds_pv = PyvistaFlowFieldDataset.load_from_huggingface(\"cooldata\",num_samples=3)"
   ]
  },
  {
   "cell_type": "code",
   "execution_count": 5,
   "metadata": {},
   "outputs": [
    {
     "name": "stderr",
     "output_type": "stream",
     "text": [
      "\u001b[0m\u001b[33m2025-05-19 07:37:57.547 (  34.608s) [          21EACF]      vtkCGNSReader.cxx:4268  WARN| vtkCGNSReader (0x15dc2e2d0): Skipping BC_t node: BC_t type 'BCInflow' not supported yet.\u001b[0m\n",
      "\u001b[0m\u001b[33m2025-05-19 07:37:57.547 (  34.609s) [          21EACF]      vtkCGNSReader.cxx:4268  WARN| vtkCGNSReader (0x15dc2e2d0): Skipping BC_t node: BC_t type 'BCSymmetryPlane' not supported yet.\u001b[0m\n",
      "\u001b[0m\u001b[33m2025-05-19 07:37:57.547 (  34.609s) [          21EACF]      vtkCGNSReader.cxx:4268  WARN| vtkCGNSReader (0x15dc2e2d0): Skipping BC_t node: BC_t type 'BCTunnelOutflow' not supported yet.\u001b[0m\n"
     ]
    },
    {
     "data": {
      "text/html": [
       "<table style='width: 100%;'><tr><th>Header</th><th>Data Arrays</th></tr><tr><td>\n",
       "<table style='width: 100%;'>\n",
       "<tr><th>UnstructuredGrid</th><th>Information</th></tr>\n",
       "<tr><td>N Cells</td><td>185136</td></tr>\n",
       "<tr><td>N Points</td><td>203036</td></tr>\n",
       "<tr><td>X Bounds</td><td>-4.337e-19, 5.000e-01</td></tr>\n",
       "<tr><td>Y Bounds</td><td>-4.337e-19, 1.000e-01</td></tr>\n",
       "<tr><td>Z Bounds</td><td>-1.316e-04, 2.000e-02</td></tr>\n",
       "<tr><td>N Arrays</td><td>7</td></tr>\n",
       "</table>\n",
       "\n",
       "</td><td>\n",
       "<table style='width: 100%;'>\n",
       "<tr><th>Name</th><th>Field</th><th>Type</th><th>N Comp</th><th>Min</th><th>Max</th></tr>\n",
       "<tr><td>Temperature</td><td>Cells</td><td>float64</td><td>1</td><td>2.930e+02</td><td>3.390e+02</td></tr>\n",
       "<tr><td>Velocity_0</td><td>Cells</td><td>float64</td><td>1</td><td>-1.747e+00</td><td>7.223e+00</td></tr>\n",
       "<tr><td>Velocity_1</td><td>Cells</td><td>float64</td><td>1</td><td>-4.226e+00</td><td>2.918e+00</td></tr>\n",
       "<tr><td>Velocity_2</td><td>Cells</td><td>float64</td><td>1</td><td>-8.487e-01</td><td>5.833e+00</td></tr>\n",
       "<tr><td>Volume</td><td>Cells</td><td>float64</td><td>1</td><td>1.201e-14</td><td>1.889e-08</td></tr>\n",
       "<tr><td>Base/Zone</td><td>Fields</td><td><U9</td><td>1</td><td>nan</td><td>nan</td></tr>\n",
       "<tr><td>ispatch</td><td>Fields</td><td>int32</td><td>1</td><td>0.000e+00</td><td>0.000e+00</td></tr>\n",
       "</table>\n",
       "\n",
       "</td></tr> </table>"
      ],
      "text/plain": [
       "UnstructuredGrid (0x15d105c60)\n",
       "  N Cells:    185136\n",
       "  N Points:   203036\n",
       "  X Bounds:   -4.337e-19, 5.000e-01\n",
       "  Y Bounds:   -4.337e-19, 1.000e-01\n",
       "  Z Bounds:   -1.316e-04, 2.000e-02\n",
       "  N Arrays:   7"
      ]
     },
     "execution_count": 5,
     "metadata": {},
     "output_type": "execute_result"
    }
   ],
   "source": [
    "volume_pv = ds_pv[0].volume_data[0][0][0]\n",
    "volume_pv"
   ]
  },
  {
   "cell_type": "code",
   "execution_count": 6,
   "metadata": {},
   "outputs": [],
   "source": [
    "import numpy as np\n",
    "import pyvista as pv"
   ]
  },
  {
   "cell_type": "code",
   "execution_count": 7,
   "metadata": {},
   "outputs": [],
   "source": [
    "nx,ny,nz = 50,20,10\n",
    "x, y, z = np.mgrid[0:0.4:complex(nx), \n",
    "                    -0.1:0.1:complex(ny), \n",
    "                    0:0.02:complex(nz)]\n",
    "grid = pv.StructuredGrid(x, y, z)\n",
    "interpolated_grid = grid.sample(volume_pv, pass_cell_data=True)"
   ]
  },
  {
   "cell_type": "code",
   "execution_count": 7,
   "metadata": {},
   "outputs": [
    {
     "data": {
      "text/html": [
       "<table style='width: 100%;'><tr><th>Header</th><th>Data Arrays</th></tr><tr><td>\n",
       "<table style='width: 100%;'>\n",
       "<tr><th>StructuredGrid</th><th>Information</th></tr>\n",
       "<tr><td>N Cells</td><td>8379</td></tr>\n",
       "<tr><td>N Points</td><td>10000</td></tr>\n",
       "<tr><td>X Bounds</td><td>0.000e+00, 4.000e-01</td></tr>\n",
       "<tr><td>Y Bounds</td><td>-1.000e-01, 1.000e-01</td></tr>\n",
       "<tr><td>Z Bounds</td><td>0.000e+00, 2.000e-02</td></tr>\n",
       "<tr><td>Dimensions</td><td>50, 20, 10</td></tr>\n",
       "<tr><td>N Arrays</td><td>12</td></tr>\n",
       "</table>\n",
       "\n",
       "</td><td>\n",
       "<table style='width: 100%;'>\n",
       "<tr><th>Name</th><th>Field</th><th>Type</th><th>N Comp</th><th>Min</th><th>Max</th></tr>\n",
       "<tr><td>Pressure</td><td>Points</td><td>float64</td><td>1</td><td>-2.010e+01</td><td>3.188e+01</td></tr>\n",
       "<tr><td>Temperature</td><td>Points</td><td>float64</td><td>1</td><td>0.000e+00</td><td>3.015e+02</td></tr>\n",
       "<tr><td>TotalSolverCPUTimeReport</td><td>Points</td><td>float64</td><td>1</td><td>0.000e+00</td><td>2.210e+02</td></tr>\n",
       "<tr><td>Velocity</td><td>Points</td><td>float64</td><td>3</td><td>-3.173e+00</td><td>8.166e+00</td></tr>\n",
       "<tr><td>VelocityMagnitude</td><td>Points</td><td>float64</td><td>1</td><td>0.000e+00</td><td>8.173e+00</td></tr>\n",
       "<tr><td>Velocity_0</td><td>Points</td><td>float64</td><td>1</td><td>-1.748e+00</td><td>8.166e+00</td></tr>\n",
       "<tr><td>Velocity_1</td><td>Points</td><td>float64</td><td>1</td><td>-3.173e+00</td><td>4.864e+00</td></tr>\n",
       "<tr><td>Velocity_2</td><td>Points</td><td>float64</td><td>1</td><td>-8.759e-01</td><td>4.437e+00</td></tr>\n",
       "<tr><td>Volume</td><td>Points</td><td>float64</td><td>1</td><td>0.000e+00</td><td>9.231e-09</td></tr>\n",
       "<tr><td>vtkValidPointMask</td><td>Points</td><td>int8</td><td>1</td><td>0.000e+00</td><td>1.000e+00</td></tr>\n",
       "<tr><td>vtkGhostType</td><td>Points</td><td>uint8</td><td>1</td><td>0.000e+00</td><td>2.000e+00</td></tr>\n",
       "<tr><td>vtkGhostType</td><td>Cells</td><td>uint8</td><td>1</td><td>0.000e+00</td><td>3.200e+01</td></tr>\n",
       "</table>\n",
       "\n",
       "</td></tr> </table>"
      ],
      "text/plain": [
       "StructuredGrid (0x127a2be80)\n",
       "  N Cells:      8379\n",
       "  N Points:     10000\n",
       "  X Bounds:     0.000e+00, 4.000e-01\n",
       "  Y Bounds:     -1.000e-01, 1.000e-01\n",
       "  Z Bounds:     0.000e+00, 2.000e-02\n",
       "  Dimensions:   50, 20, 10\n",
       "  N Arrays:     12"
      ]
     },
     "execution_count": 7,
     "metadata": {},
     "output_type": "execute_result"
    }
   ],
   "source": [
    "interpolated_grid"
   ]
  },
  {
   "cell_type": "code",
   "execution_count": 8,
   "metadata": {},
   "outputs": [
    {
     "data": {
      "text/plain": [
       "pyvista_ndarray([0, 0, 0, ..., 0, 0, 0], shape=(10000,), dtype=int8)"
      ]
     },
     "execution_count": 8,
     "metadata": {},
     "output_type": "execute_result"
    }
   ],
   "source": [
    "interpolated_grid['vtkValidPointMask']"
   ]
  },
  {
   "cell_type": "code",
   "execution_count": 9,
   "metadata": {},
   "outputs": [
    {
     "data": {
      "text/plain": [
       "pyvista DataSetAttributes\n",
       "Association     : CELL\n",
       "Active Scalars  : None\n",
       "Active Vectors  : None\n",
       "Active Texture  : None\n",
       "Active Normals  : None\n",
       "Contains arrays :\n",
       "    vtkGhostType            uint8      (8379,)"
      ]
     },
     "execution_count": 9,
     "metadata": {},
     "output_type": "execute_result"
    }
   ],
   "source": [
    "interpolated_grid.cell_data"
   ]
  },
  {
   "cell_type": "code",
   "execution_count": 10,
   "metadata": {},
   "outputs": [
    {
     "data": {
      "application/vnd.jupyter.widget-view+json": {
       "model_id": "9387dd188c6a4979a70e43b195ec14ad",
       "version_major": 2,
       "version_minor": 0
      },
      "text/plain": [
       "Widget(value='<iframe src=\"http://localhost:58897/index.html?ui=P_0x127a9dd90_0&reconnect=auto\" class=\"pyvista…"
      ]
     },
     "metadata": {},
     "output_type": "display_data"
    }
   ],
   "source": [
    "interpolated_grid.plot(scalars='Pressure')"
   ]
  },
  {
   "cell_type": "code",
   "execution_count": 11,
   "metadata": {},
   "outputs": [
    {
     "data": {
      "text/plain": [
       "pyvista_ndarray([32, 32, 32, ..., 32, 32, 32], shape=(8379,), dtype=uint8)"
      ]
     },
     "execution_count": 11,
     "metadata": {},
     "output_type": "execute_result"
    }
   ],
   "source": [
    "interpolated_grid.cell_data['vtkGhostType']"
   ]
  },
  {
   "cell_type": "code",
   "execution_count": 12,
   "metadata": {},
   "outputs": [
    {
     "data": {
      "image/png": "[encoded data removed]",
      "text/plain": [
       "<Figure size 640x480 with 1 Axes>"
      ]
     },
     "metadata": {},
     "output_type": "display_data"
    }
   ],
   "source": [
    "import matplotlib.pyplot as plt\n",
    "data=interpolated_grid['Velocity'].reshape((nx,ny,nz,3), order='F')\n",
    "plt.imshow(data[:,:,5,2])\n",
    "plt.show()"
   ]
  },
  {
   "cell_type": "code",
   "execution_count": 13,
   "metadata": {},
   "outputs": [
    {
     "data": {
      "application/vnd.jupyter.widget-view+json": {
       "model_id": "97caa0472150402eb62912d16dc3a1ea",
       "version_major": 2,
       "version_minor": 0
      },
      "text/plain": [
       "Widget(value='<iframe src=\"http://localhost:58897/index.html?ui=P_0x167fa20d0_1&reconnect=auto\" class=\"pyvista…"
      ]
     },
     "metadata": {},
     "output_type": "display_data"
    }
   ],
   "source": [
    "volume_pv.plot(scalars='Pressure')"
   ]
  },
  {
   "cell_type": "code",
   "execution_count": 14,
   "metadata": {},
   "outputs": [
    {
     "name": "stderr",
     "output_type": "stream",
     "text": [
      "Clipping input data to the valid range for imshow with RGB data ([0..1] for floats or [0..255] for integers). Got range [-1.3959184885025024..3.146939754486084].\n"
     ]
    },
    {
     "data": {
      "image/png": "[encoded data removed]",
      "text/plain": [
       "<Figure size 640x480 with 2 Axes>"
      ]
     },
     "metadata": {},
     "output_type": "display_data"
    }
   ],
   "source": [
    "plt.imshow(data[:,:,0])\n",
    "plt.colorbar()\n",
    "plt.show()"
   ]
  },
  {
   "cell_type": "code",
   "execution_count": 15,
   "metadata": {},
   "outputs": [
    {
     "data": {
      "text/plain": [
       "np.float64(-1.3959184885025024)"
      ]
     },
     "execution_count": 15,
     "metadata": {},
     "output_type": "execute_result"
    }
   ],
   "source": [
    "data[:,:,0].min()"
   ]
  },
  {
   "cell_type": "code",
   "execution_count": 16,
   "metadata": {},
   "outputs": [
    {
     "data": {
      "text/plain": [
       "np.int64(0)"
      ]
     },
     "execution_count": 16,
     "metadata": {},
     "output_type": "execute_result"
    }
   ],
   "source": [
    "# check for nans\n",
    "np.isnan(data).sum()"
   ]
  },
  {
   "cell_type": "code",
   "execution_count": 17,
   "metadata": {},
   "outputs": [
    {
     "data": {
      "text/plain": [
       "pyvista_ndarray([0., 0., 0., 0., 0., 0., 0., 0., 0., 0., 0., 0., 0., 0.,\n",
       "                 0., 0., 0., 0., 0., 0., 0., 0., 0., 0., 0., 0., 0., 0.,\n",
       "                 0., 0., 0., 0., 0., 0., 0., 0., 0., 0., 0., 0., 0., 0.,\n",
       "                 0., 0., 0., 0., 0., 0., 0., 0.])"
      ]
     },
     "execution_count": 17,
     "metadata": {},
     "output_type": "execute_result"
    }
   ],
   "source": [
    "interpolated_grid['Pressure'][:nx]"
   ]
  },
  {
   "cell_type": "code",
   "execution_count": 18,
   "metadata": {},
   "outputs": [
    {
     "data": {
      "image/png": "[encoded data removed]",
      "text/plain": [
       "<Figure size 640x480 with 2 Axes>"
      ]
     },
     "metadata": {},
     "output_type": "display_data"
    }
   ],
   "source": [
    "\n",
    "mask=interpolated_grid['vtkValidPointMask'].reshape(nx,ny,nz, order='F')\n",
    "plt.imshow(mask[:,:,5])\n",
    "plt.colorbar()\n",
    "plt.show()"
   ]
  },
  {
   "cell_type": "code",
   "execution_count": 19,
   "metadata": {},
   "outputs": [
    {
     "name": "stderr",
     "output_type": "stream",
     "text": [
      "\u001b[0m\u001b[33m2025-03-26 07:38:05.224 (  24.928s) [          4B4B68]      vtkCGNSReader.cxx:4268  WARN| vtkCGNSReader (0x1126fc0f0): Skipping BC_t node: BC_t type 'BCInflow' not supported yet.\u001b[0m\n",
      "\u001b[0m\u001b[33m2025-03-26 07:38:05.224 (  24.928s) [          4B4B68]      vtkCGNSReader.cxx:4268  WARN| vtkCGNSReader (0x1126fc0f0): Skipping BC_t node: BC_t type 'BCSymmetryPlane' not supported yet.\u001b[0m\n",
      "\u001b[0m\u001b[33m2025-03-26 07:38:05.224 (  24.928s) [          4B4B68]      vtkCGNSReader.cxx:4268  WARN| vtkCGNSReader (0x1126fc0f0): Skipping BC_t node: BC_t type 'BCTunnelOutflow' not supported yet.\u001b[0m\n",
      "\u001b[0m\u001b[33m2025-03-26 07:38:05.541 (  25.245s) [          4B4B68]      vtkCGNSReader.cxx:4268  WARN| vtkCGNSReader (0x1278a12a0): Skipping BC_t node: BC_t type 'BCInflow' not supported yet.\u001b[0m\n",
      "\u001b[0m\u001b[33m2025-03-26 07:38:05.541 (  25.245s) [          4B4B68]      vtkCGNSReader.cxx:4268  WARN| vtkCGNSReader (0x1278a12a0): Skipping BC_t node: BC_t type 'BCSymmetryPlane' not supported yet.\u001b[0m\n",
      "\u001b[0m\u001b[33m2025-03-26 07:38:05.542 (  25.246s) [          4B4B68]      vtkCGNSReader.cxx:4268  WARN| vtkCGNSReader (0x1278a12a0): Skipping BC_t node: BC_t type 'BCTunnelOutflow' not supported yet.\u001b[0m\n"
     ]
    },
    {
     "data": {
      "text/plain": [
       "(0.0,\n",
       " 0.40000000000000013,\n",
       " -0.06557989546912942,\n",
       " 0.034420104530870646,\n",
       " 0.0,\n",
       " 0.020000000000000007)"
      ]
     },
     "execution_count": 19,
     "metadata": {},
     "output_type": "execute_result"
    }
   ],
   "source": [
    "ds_pv.get_bounds()"
   ]
  },
  {
   "cell_type": "code",
   "execution_count": 8,
   "metadata": {},
   "outputs": [],
   "source": [
    "from src.voxel_flow_field_dataset import VoxelFlowFieldDataset, VoxelFlowFieldDatasetConfig\n",
    "#ds_voxel = VoxelFlowFieldDataset('datasets/voxels',VoxelFlowFieldDatasetConfig(ds_pv))\n",
    "ds_voxel = VoxelFlowFieldDataset('datasets/voxels')"
   ]
  },
  {
   "cell_type": "code",
   "execution_count": 9,
   "metadata": {},
   "outputs": [
    {
     "data": {
      "text/plain": [
       "tensor([1.4160, 1.0842, 1.1579, 1.4145, 0.9652])"
      ]
     },
     "execution_count": 9,
     "metadata": {},
     "output_type": "execute_result"
    }
   ],
   "source": [
    "ds_voxel.normalize()\n",
    "ds_voxel[2].Y.std(dim=(0,1,2))"
   ]
  },
  {
   "cell_type": "code",
   "execution_count": 15,
   "metadata": {},
   "outputs": [
    {
     "data": {
      "text/plain": [
       "tensor([ 1.3220e+00, -1.8618e-02,  1.1447e-03])"
      ]
     },
     "execution_count": 15,
     "metadata": {},
     "output_type": "execute_result"
    }
   ],
   "source": [
    "ds_voxel.unnormalize()\n",
    "ds_voxel[1].get_field('Velocity').mean(dim=(0,1,2))"
   ]
  },
  {
   "cell_type": "code",
   "execution_count": 17,
   "metadata": {},
   "outputs": [
    {
     "data": {
      "text/plain": [
       "TensorDict(\n",
       "    fields={\n",
       "        Mask: MemoryMappedTensor(shape=torch.Size([32, 32, 32]), device=cpu, dtype=torch.bool, is_shared=True),\n",
       "        Position: MemoryMappedTensor(shape=torch.Size([32, 32, 32, 3]), device=cpu, dtype=torch.float32, is_shared=True),\n",
       "        Pressure: MemoryMappedTensor(shape=torch.Size([32, 32, 32]), device=cpu, dtype=torch.float32, is_shared=True),\n",
       "        Temperature: MemoryMappedTensor(shape=torch.Size([32, 32, 32]), device=cpu, dtype=torch.float32, is_shared=True),\n",
       "        Velocity: MemoryMappedTensor(shape=torch.Size([32, 32, 32, 3]), device=cpu, dtype=torch.float32, is_shared=True)},\n",
       "    batch_size=torch.Size([]),\n",
       "    device=cpu,\n",
       "    is_shared=False)"
      ]
     },
     "execution_count": 17,
     "metadata": {},
     "output_type": "execute_result"
    }
   ],
   "source": [
    "ds_voxel[0].data"
   ]
  },
  {
   "cell_type": "code",
   "execution_count": 11,
   "metadata": {},
   "outputs": [
    {
     "data": {
      "text/html": [
       "<table style='width: 100%;'><tr><th>Header</th><th>Data Arrays</th></tr><tr><td>\n",
       "<table style='width: 100%;'>\n",
       "<tr><th>StructuredGrid</th><th>Information</th></tr>\n",
       "<tr><td>N Cells</td><td>29791</td></tr>\n",
       "<tr><td>N Points</td><td>32768</td></tr>\n",
       "<tr><td>X Bounds</td><td>0.000e+00, 4.000e-01</td></tr>\n",
       "<tr><td>Y Bounds</td><td>-6.558e-02, 3.442e-02</td></tr>\n",
       "<tr><td>Z Bounds</td><td>0.000e+00, 2.000e-02</td></tr>\n",
       "<tr><td>Dimensions</td><td>32, 32, 32</td></tr>\n",
       "<tr><td>N Arrays</td><td>6</td></tr>\n",
       "</table>\n",
       "\n",
       "</td><td>\n",
       "<table style='width: 100%;'>\n",
       "<tr><th>Name</th><th>Field</th><th>Type</th><th>N Comp</th><th>Min</th><th>Max</th></tr>\n",
       "<tr><td><b>Pressure</b></td><td>Points</td><td>float32</td><td>1</td><td>-2.072e+01</td><td>3.050e+01</td></tr>\n",
       "<tr><td>Temperature</td><td>Points</td><td>float32</td><td>1</td><td>0.000e+00</td><td>3.064e+02</td></tr>\n",
       "<tr><td>Velocity</td><td>Points</td><td>float32</td><td>3</td><td>-3.467e+00</td><td>8.074e+00</td></tr>\n",
       "<tr><td>vtkValidPointMask</td><td>Points</td><td>int8</td><td>1</td><td>0.000e+00</td><td>1.000e+00</td></tr>\n",
       "<tr><td>vtkGhostType</td><td>Points</td><td>uint8</td><td>1</td><td>0.000e+00</td><td>3.200e+01</td></tr>\n",
       "<tr><td>vtkGhostType</td><td>Cells</td><td>uint8</td><td>1</td><td>0.000e+00</td><td>3.200e+01</td></tr>\n",
       "</table>\n",
       "\n",
       "</td></tr> </table>"
      ],
      "text/plain": [
       "StructuredGrid (0x31c60ef20)\n",
       "  N Cells:      29791\n",
       "  N Points:     32768\n",
       "  X Bounds:     0.000e+00, 4.000e-01\n",
       "  Y Bounds:     -6.558e-02, 3.442e-02\n",
       "  Z Bounds:     0.000e+00, 2.000e-02\n",
       "  Dimensions:   32, 32, 32\n",
       "  N Arrays:     6"
      ]
     },
     "execution_count": 11,
     "metadata": {},
     "output_type": "execute_result"
    }
   ],
   "source": [
    "gpv=ds_voxel[0].to_pyvista()\n",
    "gpv"
   ]
  },
  {
   "cell_type": "code",
   "execution_count": 14,
   "metadata": {},
   "outputs": [
    {
     "data": {
      "application/vnd.jupyter.widget-view+json": {
       "model_id": "33b86ce235d6498aba72e14a7fb20cfc",
       "version_major": 2,
       "version_minor": 0
      },
      "text/plain": [
       "Widget(value='<iframe src=\"http://localhost:56196/index.html?ui=P_0x320653ed0_2&reconnect=auto\" class=\"pyvista…"
      ]
     },
     "metadata": {},
     "output_type": "display_data"
    }
   ],
   "source": [
    "gpv.plot(scalars='Velocity')"
   ]
  },
  {
   "cell_type": "code",
   "execution_count": null,
   "metadata": {},
   "outputs": [
    {
     "data": {
      "text/plain": [
       "pyvista_ndarray([0, 0, 0, ..., 0, 0, 0], shape=(10000,), dtype=int8)"
      ]
     },
     "execution_count": 23,
     "metadata": {},
     "output_type": "execute_result"
    }
   ],
   "source": [
    "gpv['vtkValidPointMask']"
   ]
  },
  {
   "cell_type": "code",
   "execution_count": null,
   "metadata": {},
   "outputs": [
    {
     "data": {
      "text/plain": [
       "np.int64(0)"
      ]
     },
     "execution_count": 30,
     "metadata": {},
     "output_type": "execute_result"
    }
   ],
   "source": [
    "(~ interpolated_grid['vtkValidPointMask'] == gpv['vtkValidPointMask']).sum()"
   ]
  },
  {
   "cell_type": "code",
   "execution_count": null,
   "metadata": {},
   "outputs": [
    {
     "data": {
      "text/plain": [
       "pyvista_ndarray([ 0, 32], dtype=uint8)"
      ]
     },
     "execution_count": 36,
     "metadata": {},
     "output_type": "execute_result"
    }
   ],
   "source": [
    "np.unique(interpolated_grid.cell_data['vtkGhostType'] )"
   ]
  },
  {
   "cell_type": "code",
   "execution_count": null,
   "metadata": {},
   "outputs": [
    {
     "data": {
      "text/plain": [
       "pyvista_ndarray([ 0, 32], dtype=uint8)"
      ]
     },
     "execution_count": 37,
     "metadata": {},
     "output_type": "execute_result"
    }
   ],
   "source": [
    "np.unique(gpv.cell_data['vtkGhostType'])"
   ]
  },
  {
   "cell_type": "code",
   "execution_count": null,
   "metadata": {},
   "outputs": [
    {
     "data": {
      "text/plain": [
       "pyvista_ndarray([32, 32, 32, ..., 32, 32, 32], shape=(8379,), dtype=uint8)"
      ]
     },
     "execution_count": 40,
     "metadata": {},
     "output_type": "execute_result"
    }
   ],
   "source": [
    "interpolated_grid.cell_data['vtkGhostType']"
   ]
  },
  {
   "cell_type": "code",
   "execution_count": null,
   "metadata": {},
   "outputs": [
    {
     "data": {
      "text/plain": [
       "pyvista_ndarray([ 0,  0,  0, ..., 32, 32, 32], shape=(8379,), dtype=uint8)"
      ]
     },
     "execution_count": 41,
     "metadata": {},
     "output_type": "execute_result"
    }
   ],
   "source": [
    "gpv.cell_data['vtkGhostType']"
   ]
  },
  {
   "cell_type": "code",
   "execution_count": null,
   "metadata": {},
   "outputs": [
    {
     "data": {
      "text/plain": [
       "np.int64(4260)"
      ]
     },
     "execution_count": 39,
     "metadata": {},
     "output_type": "execute_result"
    }
   ],
   "source": [
    "(interpolated_grid.cell_data['vtkGhostType'] != gpv.cell_data['vtkGhostType']).sum()"
   ]
  },
  {
   "cell_type": "code",
   "execution_count": null,
   "metadata": {},
   "outputs": [
    {
     "data": {
      "text/plain": [
       "pyvista_ndarray([254, 254, 254, ..., 255, 255, 255],\n",
       "                shape=(8379,), dtype=uint8)"
      ]
     },
     "execution_count": 66,
     "metadata": {},
     "output_type": "execute_result"
    }
   ],
   "source": []
  }
 ],
 "metadata": {
  "kernelspec": {
   "display_name": ".venv",
   "language": "python",
   "name": "python3"
  },
  "language_info": {
   "codemirror_mode": {
    "name": "ipython",
    "version": 3
   },
   "file_extension": ".py",
   "mimetype": "text/x-python",
   "name": "python",
   "nbconvert_exporter": "python",
   "pygments_lexer": "ipython3",
   "version": "3.11.12"
  }
 },
 "nbformat": 4,
 "nbformat_minor": 2
}
