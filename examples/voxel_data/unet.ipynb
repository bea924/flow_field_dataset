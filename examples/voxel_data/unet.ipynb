{
 "cells": [
  {
   "cell_type": "code",
   "execution_count": 1,
   "metadata": {},
   "outputs": [],
   "source": [
    "%load_ext autoreload\n",
    "%autoreload 2"
   ]
  },
  {
   "cell_type": "code",
   "execution_count": 2,
   "metadata": {},
   "outputs": [],
   "source": [
    "import sys\n",
    "base_path = '../../'\n",
    "sys.path.append(base_path)"
   ]
  },
  {
   "cell_type": "code",
   "execution_count": 3,
   "metadata": {},
   "outputs": [],
   "source": [
    "from torch import nn\n",
    "import torch\n",
    "\n",
    "\"\"\"\n",
    "3D U-Net: Learning Dense Volumetric Segmentation from Sparse Annotation\n",
    "Paper URL: https://arxiv.org/abs/1606.06650\n",
    "Author: Amir Aghdam\n",
    "\"\"\"\n",
    "\n",
    "\n",
    "class Conv3DBlock(nn.Module):\n",
    "    \"\"\"\n",
    "    The basic block for double 3x3x3 convolutions in the analysis path\n",
    "    -- __init__()\n",
    "    :param in_channels -> number of input channels\n",
    "    :param out_channels -> desired number of output channels\n",
    "    :param bottleneck -> specifies the bottlneck block\n",
    "    -- forward()\n",
    "    :param input -> input Tensor to be convolved\n",
    "    :return -> Tensor\n",
    "    \"\"\"\n",
    "\n",
    "    def __init__(self, in_channels, out_channels, bottleneck=False) -> None:\n",
    "        super(Conv3DBlock, self).__init__()\n",
    "        self.conv1 = nn.Conv3d(\n",
    "            in_channels=in_channels,\n",
    "            out_channels=out_channels // 2,\n",
    "            kernel_size=(3, 3, 3),\n",
    "            padding=1,\n",
    "        )\n",
    "        self.bn1 = nn.BatchNorm3d(num_features=out_channels // 2)\n",
    "        self.conv2 = nn.Conv3d(\n",
    "            in_channels=out_channels // 2,\n",
    "            out_channels=out_channels,\n",
    "            kernel_size=(3, 3, 3),\n",
    "            padding=1,\n",
    "            stride=1,\n",
    "        )\n",
    "        self.bn2 = nn.BatchNorm3d(num_features=out_channels)\n",
    "        self.relu = nn.ReLU()\n",
    "        self.bottleneck = bottleneck\n",
    "        if not bottleneck:\n",
    "            self.pooling = nn.MaxPool3d(kernel_size=(2, 2, 2), stride=2)\n",
    "\n",
    "    def forward(self, input):\n",
    "        res = self.relu(self.bn1(self.conv1(input)))\n",
    "        res = self.relu(self.bn2(self.conv2(res)))\n",
    "        out = None\n",
    "        if not self.bottleneck:\n",
    "            out = self.pooling(res)\n",
    "        else:\n",
    "            out = res\n",
    "        return out, res\n",
    "\n",
    "\n",
    "class UpConv3DBlock(nn.Module):\n",
    "    \"\"\"\n",
    "    The basic block for upsampling followed by double 3x3x3 convolutions in the synthesis path\n",
    "    -- __init__()\n",
    "    :param in_channels -> number of input channels\n",
    "    :param out_channels -> number of residual connections' channels to be concatenated\n",
    "    :param last_layer -> specifies the last output layer\n",
    "    :param num_classes -> specifies the number of output channels for dispirate classes\n",
    "    -- forward()\n",
    "    :param input -> input Tensor\n",
    "    :param residual -> residual connection to be concatenated with input\n",
    "    :return -> Tensor\n",
    "    \"\"\"\n",
    "\n",
    "    def __init__(\n",
    "        self, in_channels, res_channels=0, last_layer=False, num_classes=None\n",
    "    ) -> None:\n",
    "        super(UpConv3DBlock, self).__init__()\n",
    "        assert (last_layer == False and num_classes == None) or (\n",
    "            last_layer == True and num_classes != None\n",
    "        ), \"Invalid arguments\"\n",
    "        self.upconv1 = nn.ConvTranspose3d(\n",
    "            in_channels=in_channels,\n",
    "            out_channels=in_channels,\n",
    "            kernel_size=(2, 2, 2),\n",
    "            stride=2,\n",
    "        )\n",
    "        self.relu = nn.ReLU()\n",
    "        self.bn = nn.BatchNorm3d(num_features=in_channels // 2)\n",
    "        self.conv1 = nn.Conv3d(\n",
    "            in_channels=in_channels + res_channels,\n",
    "            out_channels=in_channels // 2,\n",
    "            kernel_size=(3, 3, 3),\n",
    "            padding=(1, 1, 1),\n",
    "        )\n",
    "        self.conv2 = nn.Conv3d(\n",
    "            in_channels=in_channels // 2,\n",
    "            out_channels=in_channels // 2,\n",
    "            kernel_size=(3, 3, 3),\n",
    "            padding=(1, 1, 1),\n",
    "            stride=1,\n",
    "        )\n",
    "        self.last_layer = last_layer\n",
    "        if last_layer:\n",
    "            self.conv3 = nn.Conv3d(\n",
    "                in_channels=in_channels // 2,\n",
    "                out_channels=num_classes,\n",
    "                kernel_size=(1, 1, 1),\n",
    "            )\n",
    "\n",
    "    def forward(self, input, residual=None):\n",
    "        out = self.upconv1(input)\n",
    "        if residual != None:\n",
    "            out = torch.cat((out, residual), 1)\n",
    "        out = self.relu(self.bn(self.conv1(out)))\n",
    "        out = self.relu(self.bn(self.conv2(out)))\n",
    "        if self.last_layer:\n",
    "            out = self.conv3(out)\n",
    "        return out\n",
    "\n",
    "\n",
    "class UNet3D(nn.Module):\n",
    "    \"\"\"\n",
    "    The 3D UNet model\n",
    "    -- __init__()\n",
    "    :param in_channels -> number of input channels\n",
    "    :param num_classes -> specifies the number of output channels or masks for different classes\n",
    "    :param level_channels -> the number of channels at each level (count top-down)\n",
    "    :param bottleneck_channel -> the number of bottleneck channels\n",
    "    -- forward()\n",
    "    :param input -> input Tensor\n",
    "    :return -> Tensor\n",
    "    \"\"\"\n",
    "\n",
    "    def __init__(\n",
    "        self,\n",
    "        in_channels,\n",
    "        num_classes,\n",
    "        level_channels=[64, 128, 256, 512],\n",
    "    ) -> None:\n",
    "        super(UNet3D, self).__init__()\n",
    "        self.level_channels = level_channels\n",
    "        bottleneck_channel = level_channels[-1] *2\n",
    "        self.num_levels = len(level_channels)\n",
    "\n",
    "        # Analysis path\n",
    "        self.analysis_blocks = nn.ModuleList()\n",
    "        for i in range(self.num_levels):\n",
    "            in_ch = in_channels if i == 0 else level_channels[i-1]\n",
    "            out_ch = level_channels[i]\n",
    "            self.analysis_blocks.append(\n",
    "                Conv3DBlock(in_channels=in_ch, out_channels=out_ch)\n",
    "            )\n",
    "\n",
    "        # Bottleneck\n",
    "        self.bottleNeck = Conv3DBlock(\n",
    "            in_channels=level_channels[-1], out_channels=bottleneck_channel, bottleneck=True\n",
    "        )\n",
    "\n",
    "        # Synthesis path\n",
    "        self.synthesis_blocks = nn.ModuleList()\n",
    "        reversed_levels = list(reversed(range(self.num_levels)))\n",
    "        for idx, i in enumerate(reversed_levels):\n",
    "            in_ch = bottleneck_channel if idx == 0 else level_channels[i+1]\n",
    "            res_ch = level_channels[i]\n",
    "            last_layer = (i == 0)\n",
    "            block_kwargs = {\n",
    "                \"in_channels\": in_ch,\n",
    "                \"res_channels\": res_ch,\n",
    "                \"last_layer\": last_layer,\n",
    "            }\n",
    "            if last_layer:\n",
    "                block_kwargs[\"num_classes\"] = num_classes\n",
    "            self.synthesis_blocks.append(\n",
    "                UpConv3DBlock(**block_kwargs)\n",
    "            )\n",
    "\n",
    "    def forward(self, input):\n",
    "        # Analysis path forward feed\n",
    "        residuals = []\n",
    "        out = input\n",
    "        for block in self.analysis_blocks:\n",
    "            out, res = block(out)\n",
    "            residuals.append(res)\n",
    "        out, _ = self.bottleNeck(out)\n",
    "\n",
    "        # Synthesis path forward feed\n",
    "        for idx, block in enumerate(self.synthesis_blocks):\n",
    "            res = residuals[-(idx+1)]\n",
    "            out = block(out, res)\n",
    "        return out\n",
    "\n",
    "model = UNet3D(\n",
    "    in_channels=1,\n",
    "    num_classes=5,\n",
    "    level_channels=[16, 32, 64],\n",
    ")\n"
   ]
  },
  {
   "cell_type": "code",
   "execution_count": null,
   "metadata": {},
   "outputs": [
    {
     "name": "stdout",
     "output_type": "stream",
     "text": [
      "Loaded 10000 samples from 'datasets/pyvista'.\n"
     ]
    },
    {
     "name": "stderr",
     "output_type": "stream",
     "text": [
      "\u001b[0m\u001b[33m2025-05-26 07:06:24.288 (   0.695s) [    7DEBDB7AA740]      vtkCGNSReader.cxx:4268  WARN| vtkCGNSReader (0x60a3de461b30): Skipping BC_t node: BC_t type 'BCInflow' not supported yet.\u001b[0m\n",
      "\u001b[0m\u001b[33m2025-05-26 07:06:24.288 (   0.695s) [    7DEBDB7AA740]      vtkCGNSReader.cxx:4268  WARN| vtkCGNSReader (0x60a3de461b30): Skipping BC_t node: BC_t type 'BCSymmetryPlane' not supported yet.\u001b[0m\n",
      "\u001b[0m\u001b[33m2025-05-26 07:06:24.288 (   0.695s) [    7DEBDB7AA740]      vtkCGNSReader.cxx:4268  WARN| vtkCGNSReader (0x60a3de461b30): Skipping BC_t node: BC_t type 'BCTunnelOutflow' not supported yet.\u001b[0m\n"
     ]
    },
    {
     "data": {
      "application/vnd.jupyter.widget-view+json": {
       "model_id": "3ed9365efe3a49cca19da17c507a6d3d",
       "version_major": 2,
       "version_minor": 0
      },
      "text/plain": [
       "Widget(value='<iframe src=\"http://localhost:32959/index.html?ui=P_0x7deaa0bfce50_0&reconnect=auto\" class=\"pyvi…"
      ]
     },
     "metadata": {},
     "output_type": "display_data"
    },
    {
     "name": "stderr",
     "output_type": "stream",
     "text": [
      "Exception raised\n",
      "KeyError('a33727b2dba4ff789b86c65734abf2fb_106041d')\n",
      "Traceback (most recent call last):\n",
      "  File \"/home/olep/Documents/flow_field_dataset/.venv/lib/python3.11/site-packages/wslink/protocol.py\", line 313, in onCompleteMessage\n",
      "    results = func(*args, **kwargs)\n",
      "              ^^^^^^^^^^^^^^^^^^^^^\n",
      "  File \"/home/olep/Documents/flow_field_dataset/.venv/lib/python3.11/site-packages/trame_vtk/modules/vtk/protocols/local_rendering.py\", line 33, in get_array\n",
      "    self.context.get_cached_data_array(data_hash, binary)\n",
      "  File \"/home/olep/Documents/flow_field_dataset/.venv/lib/python3.11/site-packages/trame_vtk/modules/vtk/serializers/synchronization_context.py\", line 35, in get_cached_data_array\n",
      "    cache_obj = self.data_array_cache[p_md5]\n",
      "                ~~~~~~~~~~~~~~~~~~~~~^^^^^^^\n",
      "KeyError: 'a33727b2dba4ff789b86c65734abf2fb_106041d'\n",
      "\n",
      "Exception raised\n",
      "KeyError('0f5fdd87795167f39fee85b5858458a2_176791L')\n",
      "Traceback (most recent call last):\n",
      "  File \"/home/olep/Documents/flow_field_dataset/.venv/lib/python3.11/site-packages/wslink/protocol.py\", line 313, in onCompleteMessage\n",
      "    results = func(*args, **kwargs)\n",
      "              ^^^^^^^^^^^^^^^^^^^^^\n",
      "  File \"/home/olep/Documents/flow_field_dataset/.venv/lib/python3.11/site-packages/trame_vtk/modules/vtk/protocols/local_rendering.py\", line 33, in get_array\n",
      "    self.context.get_cached_data_array(data_hash, binary)\n",
      "  File \"/home/olep/Documents/flow_field_dataset/.venv/lib/python3.11/site-packages/trame_vtk/modules/vtk/serializers/synchronization_context.py\", line 35, in get_cached_data_array\n",
      "    cache_obj = self.data_array_cache[p_md5]\n",
      "                ~~~~~~~~~~~~~~~~~~~~~^^^^^^^\n",
      "KeyError: '0f5fdd87795167f39fee85b5858458a2_176791L'\n",
      "\n",
      "Exception raised\n",
      "KeyError('f8bf1da4f23d10bc4d3545e69fd0f309_35367d')\n",
      "Traceback (most recent call last):\n",
      "  File \"/home/olep/Documents/flow_field_dataset/.venv/lib/python3.11/site-packages/wslink/protocol.py\", line 313, in onCompleteMessage\n",
      "    results = func(*args, **kwargs)\n",
      "              ^^^^^^^^^^^^^^^^^^^^^\n",
      "  File \"/home/olep/Documents/flow_field_dataset/.venv/lib/python3.11/site-packages/trame_vtk/modules/vtk/protocols/local_rendering.py\", line 33, in get_array\n",
      "    self.context.get_cached_data_array(data_hash, binary)\n",
      "  File \"/home/olep/Documents/flow_field_dataset/.venv/lib/python3.11/site-packages/trame_vtk/modules/vtk/serializers/synchronization_context.py\", line 35, in get_cached_data_array\n",
      "    cache_obj = self.data_array_cache[p_md5]\n",
      "                ~~~~~~~~~~~~~~~~~~~~~^^^^^^^\n",
      "KeyError: 'f8bf1da4f23d10bc4d3545e69fd0f309_35367d'\n",
      "\n"
     ]
    }
   ],
   "source": [
    "from src.pyvista_flow_field_dataset import PyvistaFlowFieldDataset\n",
    "ds_pv = PyvistaFlowFieldDataset.load_from_huggingface(num_samples=10000, data_dir='datasets/pyvista')\n",
    "#ds_pv= PyvistnormalizationaFlowFieldDataset.try_from_directory(\"datasets/pyvista\",1000)\n",
    "ds_pv[800].plot_volume(\"Pressure\")"
   ]
  },
  {
   "cell_type": "code",
   "execution_count": 5,
   "metadata": {},
   "outputs": [
    {
     "name": "stderr",
     "output_type": "stream",
     "text": [
      "Voxelizing samples: 100%|██████████| 10000/10000 [00:01<00:00, 9105.71it/s]\n"
     ]
    },
    {
     "data": {
      "text/plain": [
       "<src.voxel_flow_field_dataset.VoxelFlowFieldDataset at 0x7dea773fa3d0>"
      ]
     },
     "execution_count": 5,
     "metadata": {},
     "output_type": "execute_result"
    }
   ],
   "source": [
    "from src.voxel_flow_field_dataset import VoxelFlowFieldDataset, VoxelFlowFieldDatasetConfig\n",
    "import torch.utils.data\n",
    "ds_voxel = VoxelFlowFieldDataset('datasets/voxels',VoxelFlowFieldDatasetConfig(ds_pv, resolution=(32,16,16)))\n",
    "#s_voxel = VoxelFlowFieldDataset('datasets/voxels')\n",
    "ds_voxel.normalize()"
   ]
  },
  {
   "cell_type": "code",
   "execution_count": 6,
   "metadata": {},
   "outputs": [],
   "source": [
    "num_train_samples = int(len(ds_voxel) * 0.8)\n",
    "num_val_samples = len(ds_voxel) - num_train_samples\n",
    "ds_voxel.shuffle()\n",
    "train_dataset = ds_voxel[:num_train_samples]\n",
    "val_dataset = ds_voxel[num_train_samples:]"
   ]
  },
  {
   "cell_type": "code",
   "execution_count": 198,
   "metadata": {},
   "outputs": [
    {
     "data": {
      "image/png": "[encoded data removed]",
      "text/plain": [
       "<Figure size 640x480 with 2 Axes>"
      ]
     },
     "metadata": {},
     "output_type": "display_data"
    }
   ],
   "source": [
    "val_dataset[0].plot_slice(\"Pressure\",slice_idx=3)"
   ]
  },
  {
   "cell_type": "code",
   "execution_count": 8,
   "metadata": {},
   "outputs": [
    {
     "data": {
      "text/plain": [
       "(8000, 2000)"
      ]
     },
     "execution_count": 8,
     "metadata": {},
     "output_type": "execute_result"
    }
   ],
   "source": [
    "\n",
    "import torch.utils.data as data\n",
    "train_dataloader = data.DataLoader(train_dataset.get_default_loadable_dataset(), batch_size=128, shuffle=True, num_workers=0, pin_memory=True)\n",
    "val_dataloader = data.DataLoader(val_dataset.get_default_loadable_dataset(), batch_size=128, shuffle=False, num_workers=0, pin_memory=True)\n",
    "device = torch.device(\"cuda\" if torch.cuda.is_available() else \"cpu\")\n",
    "len(train_dataset), len(val_dataset)"
   ]
  },
  {
   "cell_type": "code",
   "execution_count": 9,
   "metadata": {},
   "outputs": [
    {
     "data": {
      "text/plain": [
       "torch.Size([128, 32, 16, 16])"
      ]
     },
     "execution_count": 9,
     "metadata": {},
     "output_type": "execute_result"
    }
   ],
   "source": [
    "next(iter(train_dataloader))[0].shape"
   ]
  },
  {
   "cell_type": "code",
   "execution_count": 10,
   "metadata": {},
   "outputs": [
    {
     "name": "stdout",
     "output_type": "stream",
     "text": [
      "Using device: cuda\n",
      "Epoch 0/200, Loss: 3.6134869200842723, Val Loss: 3.164834603667259\n",
      "Epoch 0/200, Loss: 3.560906453738137\n",
      "Epoch 1/200, Loss: 3.1954583345897616\n",
      "Epoch 2/200, Loss: 3.019903374096704\n",
      "Epoch 3/200, Loss: 2.9105865255234735\n",
      "Epoch 4/200, Loss: 2.8327623132675415\n",
      "Epoch 5/200, Loss: 2.758321143331982\n",
      "Epoch 6/200, Loss: 2.714306408450717\n",
      "Epoch 7/200, Loss: 2.674267876715887\n",
      "Epoch 8/200, Loss: 2.7187785487326366\n",
      "Epoch 9/200, Loss: 2.602241871848939\n",
      "Epoch 10/200, Loss: 2.9841583191402377, Val Loss: 2.926117055118084\n",
      "Epoch 10/200, Loss: 2.498798482001774\n",
      "Epoch 11/200, Loss: 2.490558375441839\n",
      "Epoch 12/200, Loss: 2.444765734294104\n",
      "Epoch 13/200, Loss: 2.4577250140053883\n",
      "Epoch 14/200, Loss: 2.5063747971776933\n",
      "Epoch 15/200, Loss: 2.3990036192394437\n",
      "Epoch 16/200, Loss: 2.413437005073305\n",
      "Epoch 17/200, Loss: 2.302029623871758\n",
      "Epoch 18/200, Loss: 2.3449802531136408\n",
      "Epoch 19/200, Loss: 2.2592798812048778\n",
      "Epoch 20/200, Loss: 2.7207383466145347, Val Loss: 2.881507121026516\n",
      "Epoch 20/200, Loss: 2.301428182730599\n",
      "Epoch 21/200, Loss: 2.2952820242397367\n",
      "Epoch 22/200, Loss: 2.2337419986724854\n",
      "Epoch 23/200, Loss: 2.2028820401146296\n",
      "Epoch 24/200, Loss: 2.217462748762161\n",
      "Epoch 25/200, Loss: 2.1742940611309476\n",
      "Epoch 26/200, Loss: 2.1566551223633783\n",
      "Epoch 27/200, Loss: 2.1537333670116605\n",
      "Epoch 28/200, Loss: 2.1557498432341076\n",
      "Epoch 29/200, Loss: 2.2127584559576854\n",
      "Epoch 30/200, Loss: 2.5256793366538153, Val Loss: 2.801369644701481\n",
      "Epoch 30/200, Loss: 2.1074441084786066\n",
      "Epoch 31/200, Loss: 2.1583367453681097\n",
      "Epoch 32/200, Loss: 2.0800837013456555\n",
      "Epoch 33/200, Loss: 2.0347684725882513\n",
      "Epoch 34/200, Loss: 2.0474890177212064\n",
      "Epoch 35/200, Loss: 2.0600402042979287\n",
      "Epoch 36/200, Loss: 1.9426939440152002\n",
      "Epoch 37/200, Loss: 1.9939431377819605\n",
      "Epoch 38/200, Loss: 1.9213640169491844\n",
      "Epoch 39/200, Loss: 1.9496319606190635\n",
      "Epoch 40/200, Loss: 2.233955845000252, Val Loss: 2.7500100657343864\n",
      "Epoch 40/200, Loss: 1.9159177295745364\n",
      "Epoch 41/200, Loss: 1.9108141963444059\n",
      "Epoch 42/200, Loss: 1.8197506391812885\n",
      "Epoch 43/200, Loss: 1.8766916091479953\n",
      "Epoch 44/200, Loss: 1.8603718337558566\n",
      "Epoch 45/200, Loss: 1.8260585675163874\n",
      "Epoch 46/200, Loss: 1.8518115963254655\n",
      "Epoch 47/200, Loss: 1.8028613887135945\n",
      "Epoch 48/200, Loss: 1.8334051626069205\n",
      "Epoch 49/200, Loss: 1.781611742481353\n",
      "Epoch 50/200, Loss: 1.8573424645832606, Val Loss: 2.5552533641457558\n",
      "Epoch 50/200, Loss: 1.736062537110041\n",
      "Epoch 51/200, Loss: 1.7621489602421958\n",
      "Epoch 52/200, Loss: 1.7176412287212552\n",
      "Epoch 53/200, Loss: 1.7756296434099712\n",
      "Epoch 54/200, Loss: 1.7517196044089303\n",
      "Epoch 55/200, Loss: 1.6910476249361794\n",
      "Epoch 56/200, Loss: 1.6967230174276564\n",
      "Epoch 57/200, Loss: 1.674736882012988\n",
      "Epoch 58/200, Loss: 1.7404738286184886\n",
      "Epoch 59/200, Loss: 1.6880456559241763\n",
      "Epoch 60/200, Loss: 1.7641365717327784, Val Loss: 2.4910988956689835\n",
      "Epoch 60/200, Loss: 1.6696587469842699\n",
      "Epoch 61/200, Loss: 1.6431326374175057\n",
      "Epoch 62/200, Loss: 1.6209120570667206\n",
      "Epoch 63/200, Loss: 1.6091142930681743\n",
      "Epoch 64/200, Loss: 1.6243396439249553\n",
      "Epoch 65/200, Loss: 1.598052181894817\n",
      "Epoch 66/200, Loss: 1.5823920615135678\n",
      "Epoch 67/200, Loss: 1.577578211587573\n",
      "Epoch 68/200, Loss: 1.5871775263831729\n",
      "Epoch 69/200, Loss: 1.5735125267316425\n",
      "Epoch 70/200, Loss: 1.2118220849642678, Val Loss: 2.257725015282631\n",
      "Epoch 70/200, Loss: 1.5664075887392437\n",
      "Epoch 71/200, Loss: 1.5666928698146154\n",
      "Epoch 72/200, Loss: 1.607739023746006\n",
      "Epoch 73/200, Loss: 1.5312987116594163\n",
      "Epoch 74/200, Loss: 1.5208528240521748\n",
      "Epoch 75/200, Loss: 1.481092355554066\n",
      "Epoch 76/200, Loss: 1.5227697955237494\n",
      "Epoch 77/200, Loss: 1.4763792109867884\n",
      "Epoch 78/200, Loss: 1.4605188502205744\n",
      "Epoch 79/200, Loss: 1.4934615303599645\n",
      "Epoch 80/200, Loss: 1.2241914906199016, Val Loss: 2.251804329454899\n",
      "Epoch 80/200, Loss: 1.4545890934883603\n",
      "Epoch 81/200, Loss: 1.4947695344213456\n",
      "Epoch 82/200, Loss: 1.4617634954906644\n",
      "Epoch 83/200, Loss: 1.45361018843121\n",
      "Epoch 84/200, Loss: 1.4216296975574796\n",
      "Epoch 85/200, Loss: 1.4597679764505416\n",
      "Epoch 86/200, Loss: 1.431310478657011\n",
      "Epoch 87/200, Loss: 1.3751262587214272\n",
      "Epoch 88/200, Loss: 1.3806057515598478\n",
      "Epoch 89/200, Loss: 1.3906644601670524\n",
      "Epoch 90/200, Loss: 1.4130079717863173, Val Loss: 2.33854840695858\n",
      "Epoch 90/200, Loss: 1.3790817090443201\n",
      "Epoch 91/200, Loss: 1.392174794560387\n",
      "Epoch 92/200, Loss: 1.360892233394441\n",
      "Epoch 93/200, Loss: 1.4033681485388014\n",
      "Epoch 94/200, Loss: 1.3461510170073736\n",
      "Epoch 95/200, Loss: 1.3298433612263392\n",
      "Epoch 96/200, Loss: 1.3457209439504714\n",
      "Epoch 97/200, Loss: 1.3116958491385928\n",
      "Epoch 98/200, Loss: 1.3388204659734453\n",
      "Epoch 99/200, Loss: 1.3322215373553927\n",
      "Epoch 100/200, Loss: 1.1848933573753115, Val Loss: 2.2452963143587112\n",
      "Epoch 100/200, Loss: 1.2783870820015195\n",
      "Epoch 101/200, Loss: 1.294856613117551\n",
      "Epoch 102/200, Loss: 1.2930198605098422\n",
      "Epoch 103/200, Loss: 1.283275849762417\n",
      "Epoch 104/200, Loss: 1.3533538229881772\n",
      "Epoch 105/200, Loss: 1.2889355671784235\n",
      "Epoch 106/200, Loss: 1.2455319161452945\n",
      "Epoch 107/200, Loss: 1.2521454285061548\n",
      "Epoch 108/200, Loss: 1.2699041877474104\n",
      "Epoch 109/200, Loss: 1.2216798890204656\n",
      "Epoch 110/200, Loss: 1.1840223017193021, Val Loss: 2.3271147310733795\n",
      "Epoch 110/200, Loss: 1.2442867500441415\n",
      "Epoch 111/200, Loss: 1.2771333834481617\n",
      "Epoch 112/200, Loss: 1.3060448524497805\n",
      "Epoch 113/200, Loss: 1.216512882520282\n",
      "Epoch 114/200, Loss: 1.2464426443690346\n",
      "Epoch 115/200, Loss: 1.1852131519052718\n",
      "Epoch 116/200, Loss: 1.2808851585501717\n",
      "Epoch 117/200, Loss: 1.1703697778875866\n",
      "Epoch 118/200, Loss: 1.2922064609943875\n",
      "Epoch 119/200, Loss: 1.227553701589978\n",
      "Epoch 120/200, Loss: 1.2330756083367362, Val Loss: 2.3581489101052284\n",
      "Epoch 120/200, Loss: 1.2042113868963151\n",
      "Epoch 121/200, Loss: 1.1524132755067613\n",
      "Epoch 122/200, Loss: 1.1901281277338664\n",
      "Epoch 123/200, Loss: 1.150775855968869\n",
      "Epoch 124/200, Loss: 1.2430668700309027\n",
      "Epoch 125/200, Loss: 1.1852250435049572\n",
      "Epoch 126/200, Loss: 1.1875930300780706\n",
      "Epoch 127/200, Loss: 1.1804017921288807\n",
      "Epoch 128/200, Loss: 1.1143465084689004\n",
      "Epoch 129/200, Loss: 1.2837024681151858\n",
      "Epoch 130/200, Loss: 1.3861204366835336, Val Loss: 2.368519075214863\n",
      "Epoch 130/200, Loss: 1.1522455068807753\n",
      "Epoch 131/200, Loss: 1.1444209473473685\n",
      "Epoch 132/200, Loss: 1.123754362265269\n",
      "Epoch 133/200, Loss: 1.1271099391437711\n",
      "Epoch 134/200, Loss: 1.128176448837159\n",
      "Epoch 135/200, Loss: 1.1171829761966827\n",
      "Epoch 136/200, Loss: 1.1700693742623405\n",
      "Epoch 137/200, Loss: 1.1373563016217851\n",
      "Epoch 138/200, Loss: 1.1248006688223944\n",
      "Epoch 139/200, Loss: 1.0951691109036643\n",
      "Epoch 140/200, Loss: 1.3078986264410473, Val Loss: 2.508705213665962\n",
      "Epoch 140/200, Loss: 1.0950588498796736\n",
      "Epoch 141/200, Loss: 1.1128411695124611\n",
      "Epoch 142/200, Loss: 1.0795297159088983\n",
      "Epoch 143/200, Loss: 1.0905530414884053\n",
      "Epoch 144/200, Loss: 1.1881840167537567\n",
      "Epoch 145/200, Loss: 1.048261322672405\n",
      "Epoch 146/200, Loss: 1.1289883885118697\n",
      "Epoch 147/200, Loss: 1.0698095522229634\n",
      "Epoch 148/200, Loss: 1.0901152217198933\n",
      "Epoch 149/200, Loss: 1.0436436330515242\n",
      "Epoch 150/200, Loss: 1.333583845032586, Val Loss: 2.4883632510900497\n",
      "Epoch 150/200, Loss: 1.0533200980178894\n",
      "Epoch 151/200, Loss: 1.0674190213755956\n",
      "Epoch 152/200, Loss: 1.057427982489268\n",
      "Epoch 153/200, Loss: 1.0045634233762348\n",
      "Epoch 154/200, Loss: 1.0240587417095426\n",
      "Epoch 155/200, Loss: 1.0555181418146407\n",
      "Epoch 156/200, Loss: 0.9894068373574151\n",
      "Epoch 157/200, Loss: 1.0985358343237923\n",
      "Epoch 158/200, Loss: 1.0402037283730885\n",
      "Epoch 159/200, Loss: 0.9838417721173119\n",
      "Epoch 160/200, Loss: 1.6604855079499503, Val Loss: 2.9007022082805634\n",
      "Epoch 160/200, Loss: 0.967711833734361\n",
      "Epoch 161/200, Loss: 0.9788964764466361\n",
      "Epoch 162/200, Loss: 0.9763104291189284\n",
      "Epoch 163/200, Loss: 0.9820575751955547\n",
      "Epoch 164/200, Loss: 1.0068627028238206\n",
      "Epoch 165/200, Loss: 1.0576439310633947\n",
      "Epoch 166/200, Loss: 0.9750396240325201\n",
      "Epoch 167/200, Loss: 0.9667454044970255\n",
      "Epoch 168/200, Loss: 0.9274854906021602\n",
      "Epoch 169/200, Loss: 0.9753989558371287\n",
      "Epoch 170/200, Loss: 1.4083093887283689, Val Loss: 2.6230962574481964\n",
      "Epoch 170/200, Loss: 0.9514141276715293\n",
      "Epoch 171/200, Loss: 0.9553503171792106\n",
      "Epoch 172/200, Loss: 0.9764655156741067\n",
      "Epoch 173/200, Loss: 0.9475749456693255\n",
      "Epoch 174/200, Loss: 1.002643545941701\n",
      "Epoch 175/200, Loss: 0.9452507883783371\n",
      "Epoch 176/200, Loss: 0.9828774616831825\n",
      "Epoch 177/200, Loss: 1.0103115330612848\n",
      "Epoch 178/200, Loss: 0.9204992855352069\n",
      "Epoch 179/200, Loss: 0.9629974568647052\n",
      "Epoch 180/200, Loss: 1.3985654229209536, Val Loss: 2.6264664828777313\n",
      "Epoch 180/200, Loss: 0.9013545011717176\n",
      "Epoch 181/200, Loss: 0.9836511943075392\n",
      "Epoch 182/200, Loss: 0.9272035838119568\n",
      "Epoch 183/200, Loss: 0.8853312002287971\n",
      "Epoch 184/200, Loss: 0.9316055140798054\n",
      "Epoch 185/200, Loss: 0.9128235753566499\n",
      "Epoch 186/200, Loss: 0.9621833785185738\n",
      "Epoch 187/200, Loss: 0.9124509351594108\n",
      "Epoch 188/200, Loss: 0.8891180413109916\n",
      "Epoch 189/200, Loss: 0.8805654275984991\n",
      "Epoch 190/200, Loss: 1.4784419820422219, Val Loss: 2.7493790313601494\n",
      "Epoch 190/200, Loss: 0.8873104916678535\n",
      "Epoch 191/200, Loss: 0.8898805214299096\n",
      "Epoch 192/200, Loss: 0.8965153925948672\n",
      "Epoch 193/200, Loss: 0.9146896018868401\n",
      "Epoch 194/200, Loss: 0.9062645979343898\n",
      "Epoch 195/200, Loss: 0.9858374756480021\n",
      "Epoch 196/200, Loss: 0.8455772598584493\n",
      "Epoch 197/200, Loss: 0.8574356843554785\n",
      "Epoch 198/200, Loss: 0.8725234993866512\n",
      "Epoch 199/200, Loss: 0.9328061493616255\n"
     ]
    },
    {
     "data": {
      "image/png": "[encoded data removed]",
      "text/plain": [
       "<Figure size 640x480 with 1 Axes>"
      ]
     },
     "metadata": {},
     "output_type": "display_data"
    }
   ],
   "source": [
    "import torch.optim as optim\n",
    "import torch.optim.lr_scheduler as lr_scheduler\n",
    "from tqdm import tqdm\n",
    "import numpy as np\n",
    "import matplotlib.pyplot as plt\n",
    "print(f\"Using device: {device}\")\n",
    "model.to(device)\n",
    "criterion = nn.MSELoss()\n",
    "lr=2e-5\n",
    "epochs=200\n",
    "optimizer = optim.Adam(model.parameters(), lr=lr)\n",
    "scheduler = lr_scheduler.ExponentialLR(optimizer, gamma=0.999)\n",
    "\n",
    "training_losses = []\n",
    "validation_losses = []\n",
    "\n",
    "    \n",
    "for epoch in range(epochs):\n",
    "    if (epoch) % 10 == 0:\n",
    "        val_loss = 0\n",
    "        train_loss_in_eval = 0\n",
    "        model.eval()\n",
    "        with torch.no_grad():\n",
    "            for x, y in val_dataloader:\n",
    "                x, y = x.to(device), y.to(device)\n",
    "                x = x.float().unsqueeze(-1)\n",
    "                x = x.permute(0, 4, 1, 2, 3)\n",
    "                y = y.permute(0, 4, 1, 2, 3)\n",
    "                outputs = model(x)\n",
    "                loss = criterion(outputs, y)\n",
    "                val_loss += loss.item()\n",
    "            for x, y in train_dataloader:\n",
    "                x, y = x.to(device), y.to(device)\n",
    "                x = x.float().unsqueeze(-1)\n",
    "                x = x.permute(0, 4, 1, 2, 3)\n",
    "                y = y.permute(0, 4, 1, 2, 3)\n",
    "                outputs = model(x)\n",
    "                loss = criterion(outputs, y)\n",
    "                train_loss_in_eval += loss.item()\n",
    "\n",
    "\n",
    "        print(f\"Epoch {epoch}/{epochs}, Loss: {train_loss_in_eval / len(train_dataloader)}, Val Loss: {val_loss / len(val_dataloader)}\")\n",
    "        training_losses.append(train_loss_in_eval / len(train_dataloader))\n",
    "        validation_losses.append(val_loss / len(val_dataloader))\n",
    "    model.train()\n",
    "    epoch_loss = 0\n",
    "    for x,y in train_dataloader:\n",
    "        x, y = x.to(device), y.to(device)\n",
    "        x=x.float().unsqueeze(-1)\n",
    "        x = x.permute(0, 4, 1, 2, 3)  # (N, D, H, W, C) → (N, C, D, H, W)\n",
    "        y = y.permute(0, 4, 1, 2, 3)\n",
    "        optimizer.zero_grad()\n",
    "        outputs = model(x)\n",
    "        loss = criterion(outputs, y)\n",
    "        loss.backward()\n",
    "        optimizer.step()\n",
    "\n",
    "        epoch_loss += loss.item()\n",
    "    scheduler.step()\n",
    "    print(f\"Epoch {epoch}/{epochs}, Loss: {epoch_loss / len(train_dataloader)}\")\n",
    "plt.plot(training_losses, label='Training Loss')\n",
    "plt.plot(validation_losses, label='Validation Loss')\n",
    "plt.legend()\n",
    "plt.xlabel('Epoch')\n",
    "plt.ylabel('Loss')\n",
    "plt.yscale('log')\n",
    "plt.show()\n",
    "# Save the model\n",
    "torch.save(model.state_dict(), 'unet3d.pth')"
   ]
  },
  {
   "cell_type": "code",
   "execution_count": 13,
   "metadata": {},
   "outputs": [
    {
     "data": {
      "text/plain": [
       "UNet3D(\n",
       "  (analysis_blocks): ModuleList(\n",
       "    (0): Conv3DBlock(\n",
       "      (conv1): Conv3d(1, 8, kernel_size=(3, 3, 3), stride=(1, 1, 1), padding=(1, 1, 1))\n",
       "      (bn1): BatchNorm3d(8, eps=1e-05, momentum=0.1, affine=True, track_running_stats=True)\n",
       "      (conv2): Conv3d(8, 16, kernel_size=(3, 3, 3), stride=(1, 1, 1), padding=(1, 1, 1))\n",
       "      (bn2): BatchNorm3d(16, eps=1e-05, momentum=0.1, affine=True, track_running_stats=True)\n",
       "      (relu): ReLU()\n",
       "      (pooling): MaxPool3d(kernel_size=(2, 2, 2), stride=2, padding=0, dilation=1, ceil_mode=False)\n",
       "    )\n",
       "    (1): Conv3DBlock(\n",
       "      (conv1): Conv3d(16, 16, kernel_size=(3, 3, 3), stride=(1, 1, 1), padding=(1, 1, 1))\n",
       "      (bn1): BatchNorm3d(16, eps=1e-05, momentum=0.1, affine=True, track_running_stats=True)\n",
       "      (conv2): Conv3d(16, 32, kernel_size=(3, 3, 3), stride=(1, 1, 1), padding=(1, 1, 1))\n",
       "      (bn2): BatchNorm3d(32, eps=1e-05, momentum=0.1, affine=True, track_running_stats=True)\n",
       "      (relu): ReLU()\n",
       "      (pooling): MaxPool3d(kernel_size=(2, 2, 2), stride=2, padding=0, dilation=1, ceil_mode=False)\n",
       "    )\n",
       "    (2): Conv3DBlock(\n",
       "      (conv1): Conv3d(32, 32, kernel_size=(3, 3, 3), stride=(1, 1, 1), padding=(1, 1, 1))\n",
       "      (bn1): BatchNorm3d(32, eps=1e-05, momentum=0.1, affine=True, track_running_stats=True)\n",
       "      (conv2): Conv3d(32, 64, kernel_size=(3, 3, 3), stride=(1, 1, 1), padding=(1, 1, 1))\n",
       "      (bn2): BatchNorm3d(64, eps=1e-05, momentum=0.1, affine=True, track_running_stats=True)\n",
       "      (relu): ReLU()\n",
       "      (pooling): MaxPool3d(kernel_size=(2, 2, 2), stride=2, padding=0, dilation=1, ceil_mode=False)\n",
       "    )\n",
       "  )\n",
       "  (bottleNeck): Conv3DBlock(\n",
       "    (conv1): Conv3d(64, 64, kernel_size=(3, 3, 3), stride=(1, 1, 1), padding=(1, 1, 1))\n",
       "    (bn1): BatchNorm3d(64, eps=1e-05, momentum=0.1, affine=True, track_running_stats=True)\n",
       "    (conv2): Conv3d(64, 128, kernel_size=(3, 3, 3), stride=(1, 1, 1), padding=(1, 1, 1))\n",
       "    (bn2): BatchNorm3d(128, eps=1e-05, momentum=0.1, affine=True, track_running_stats=True)\n",
       "    (relu): ReLU()\n",
       "  )\n",
       "  (synthesis_blocks): ModuleList(\n",
       "    (0): UpConv3DBlock(\n",
       "      (upconv1): ConvTranspose3d(128, 128, kernel_size=(2, 2, 2), stride=(2, 2, 2))\n",
       "      (relu): ReLU()\n",
       "      (bn): BatchNorm3d(64, eps=1e-05, momentum=0.1, affine=True, track_running_stats=True)\n",
       "      (conv1): Conv3d(192, 64, kernel_size=(3, 3, 3), stride=(1, 1, 1), padding=(1, 1, 1))\n",
       "      (conv2): Conv3d(64, 64, kernel_size=(3, 3, 3), stride=(1, 1, 1), padding=(1, 1, 1))\n",
       "    )\n",
       "    (1): UpConv3DBlock(\n",
       "      (upconv1): ConvTranspose3d(64, 64, kernel_size=(2, 2, 2), stride=(2, 2, 2))\n",
       "      (relu): ReLU()\n",
       "      (bn): BatchNorm3d(32, eps=1e-05, momentum=0.1, affine=True, track_running_stats=True)\n",
       "      (conv1): Conv3d(96, 32, kernel_size=(3, 3, 3), stride=(1, 1, 1), padding=(1, 1, 1))\n",
       "      (conv2): Conv3d(32, 32, kernel_size=(3, 3, 3), stride=(1, 1, 1), padding=(1, 1, 1))\n",
       "    )\n",
       "    (2): UpConv3DBlock(\n",
       "      (upconv1): ConvTranspose3d(32, 32, kernel_size=(2, 2, 2), stride=(2, 2, 2))\n",
       "      (relu): ReLU()\n",
       "      (bn): BatchNorm3d(16, eps=1e-05, momentum=0.1, affine=True, track_running_stats=True)\n",
       "      (conv1): Conv3d(48, 16, kernel_size=(3, 3, 3), stride=(1, 1, 1), padding=(1, 1, 1))\n",
       "      (conv2): Conv3d(16, 16, kernel_size=(3, 3, 3), stride=(1, 1, 1), padding=(1, 1, 1))\n",
       "      (conv3): Conv3d(16, 5, kernel_size=(1, 1, 1), stride=(1, 1, 1))\n",
       "    )\n",
       "  )\n",
       ")"
      ]
     },
     "execution_count": 13,
     "metadata": {},
     "output_type": "execute_result"
    }
   ],
   "source": [
    "model.load_state_dict(torch.load('unet3d.pth', map_location=device))\n",
    "model.to(device)\n",
    "model.eval()"
   ]
  },
  {
   "cell_type": "code",
   "execution_count": 242,
   "metadata": {},
   "outputs": [],
   "source": [
    "mask,y = next(iter(train_dataloader))\n",
    "mask = mask.to(device)\n",
    "y = y.to(device)"
   ]
  },
  {
   "cell_type": "code",
   "execution_count": 243,
   "metadata": {},
   "outputs": [],
   "source": [
    "x=mask.float().unsqueeze(-1)\n",
    "x = x.permute(0, 4, 1, 2, 3)  # (N, D, H, W, C) → (N, C, D, H, W)\n",
    "#y = y.permute(0, 4, 1, 2, 3)\n",
    "y_pred = model(x)\n",
    "y_pred = y_pred.permute(0, 2, 3, 4, 1)  # (N, C, D, H, W) → (N, D, H, W, C)\n"
   ]
  },
  {
   "cell_type": "code",
   "execution_count": 244,
   "metadata": {},
   "outputs": [
    {
     "data": {
      "text/plain": [
       "tensor(0.0104, device='cuda:0')"
      ]
     },
     "execution_count": 244,
     "metadata": {},
     "output_type": "execute_result"
    }
   ],
   "source": [
    "y.mean()"
   ]
  },
  {
   "cell_type": "code",
   "execution_count": 245,
   "metadata": {},
   "outputs": [
    {
     "data": {
      "text/plain": [
       "tensor(-0.0105, device='cuda:0', grad_fn=<MeanBackward0>)"
      ]
     },
     "execution_count": 245,
     "metadata": {},
     "output_type": "execute_result"
    }
   ],
   "source": [
    "y_pred.mean()"
   ]
  },
  {
   "cell_type": "code",
   "execution_count": 246,
   "metadata": {},
   "outputs": [],
   "source": [
    "pred_sample = ds_voxel.prediction_to_sample(mask[0], y_pred[0])"
   ]
  },
  {
   "cell_type": "code",
   "execution_count": 247,
   "metadata": {},
   "outputs": [
    {
     "data": {
      "text/plain": [
       "tensor(-0.0820)"
      ]
     },
     "execution_count": 247,
     "metadata": {},
     "output_type": "execute_result"
    }
   ],
   "source": [
    "pred_sample.get_field(\"Pressure\").mean()"
   ]
  },
  {
   "cell_type": "code",
   "execution_count": 248,
   "metadata": {},
   "outputs": [
    {
     "data": {
      "application/vnd.jupyter.widget-view+json": {
       "model_id": "210c96b47d494d8db99cc935bb3bc794",
       "version_major": 2,
       "version_minor": 0
      },
      "text/plain": [
       "Widget(value='<iframe src=\"http://localhost:32959/index.html?ui=P_0x7de79c29af10_39&reconnect=auto\" class=\"pyv…"
      ]
     },
     "metadata": {},
     "output_type": "display_data"
    }
   ],
   "source": [
    "pred_sample.plot(\"Pressure\")"
   ]
  },
  {
   "cell_type": "code",
   "execution_count": 249,
   "metadata": {},
   "outputs": [
    {
     "data": {
      "application/vnd.jupyter.widget-view+json": {
       "model_id": "fbeeec444dbd48b581234772bc9c8c73",
       "version_major": 2,
       "version_minor": 0
      },
      "text/plain": [
       "Widget(value='<iframe src=\"http://localhost:32959/index.html?ui=P_0x7de5846ae710_40&reconnect=auto\" class=\"pyv…"
      ]
     },
     "metadata": {},
     "output_type": "display_data"
    }
   ],
   "source": [
    "true_sample = ds_voxel.prediction_to_sample(mask[0], y[0])\n",
    "true_sample.plot(\"Pressure\")"
   ]
  },
  {
   "cell_type": "code",
   "execution_count": 250,
   "metadata": {},
   "outputs": [
    {
     "data": {
      "text/plain": [
       "(tensor(0.0993), tensor(-0.0820))"
      ]
     },
     "execution_count": 250,
     "metadata": {},
     "output_type": "execute_result"
    }
   ],
   "source": [
    "true_sample.get_field(\"Pressure\").mean(), pred_sample.get_field(\"Pressure\").mean()"
   ]
  },
  {
   "cell_type": "code",
   "execution_count": 251,
   "metadata": {},
   "outputs": [
    {
     "data": {
      "text/plain": [
       "tensor(17.8941)"
      ]
     },
     "execution_count": 251,
     "metadata": {},
     "output_type": "execute_result"
    }
   ],
   "source": [
    "pred_sample.data[\"Pressure\"].std()"
   ]
  },
  {
   "cell_type": "code",
   "execution_count": 252,
   "metadata": {},
   "outputs": [
    {
     "data": {
      "application/vnd.jupyter.widget-view+json": {
       "model_id": "72f5883be39745b6a4ffc1264330ab2e",
       "version_major": 2,
       "version_minor": 0
      },
      "text/plain": [
       "interactive(children=(IntSlider(value=8, description='slice_idx', max=15), Output()), _dom_classes=('widget-in…"
      ]
     },
     "metadata": {},
     "output_type": "display_data"
    }
   ],
   "source": [
    "pred_sample.plot_slice_interactively(\"Pressure\",axis=\"z\")"
   ]
  },
  {
   "cell_type": "code",
   "execution_count": 253,
   "metadata": {},
   "outputs": [
    {
     "data": {
      "text/plain": [
       "tensor(-59.0414)"
      ]
     },
     "execution_count": 253,
     "metadata": {},
     "output_type": "execute_result"
    }
   ],
   "source": [
    "true_sample.data[\"Pressure\"].min()"
   ]
  },
  {
   "cell_type": "code",
   "execution_count": 254,
   "metadata": {},
   "outputs": [
    {
     "data": {
      "application/vnd.jupyter.widget-view+json": {
       "model_id": "36977040f7bd4fdcb2a05dd36ca026a4",
       "version_major": 2,
       "version_minor": 0
      },
      "text/plain": [
       "interactive(children=(IntSlider(value=8, description='slice_idx', max=15), Output()), _dom_classes=('widget-in…"
      ]
     },
     "metadata": {},
     "output_type": "display_data"
    }
   ],
   "source": [
    "true_sample.plot_slice_interactively(\"Pressure\", axis=\"z\")"
   ]
  }
 ],
 "metadata": {
  "kernelspec": {
   "display_name": ".venv",
   "language": "python",
   "name": "python3"
  },
  "language_info": {
   "codemirror_mode": {
    "name": "ipython",
    "version": 3
   },
   "file_extension": ".py",
   "mimetype": "text/x-python",
   "name": "python",
   "nbconvert_exporter": "python",
   "pygments_lexer": "ipython3",
   "version": "3.11.11"
  }
 },
 "nbformat": 4,
 "nbformat_minor": 2
}
