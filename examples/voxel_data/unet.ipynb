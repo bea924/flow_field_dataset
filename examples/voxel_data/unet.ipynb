{
 "cells": [
  {
   "cell_type": "code",
   "execution_count": 1,
   "metadata": {},
   "outputs": [],
   "source": [
    "%load_ext autoreload\n",
    "%autoreload 2"
   ]
  },
  {
   "cell_type": "code",
   "execution_count": 2,
   "metadata": {},
   "outputs": [],
   "source": [
    "import sys\n",
    "base_path = '../../'\n",
    "sys.path.append(base_path)"
   ]
  },
  {
   "cell_type": "code",
   "execution_count": 3,
   "metadata": {},
   "outputs": [],
   "source": [
    "import torch\n",
    "import torch.nn as nn\n",
    "import torch.optim as optim\n",
    "import torch.utils.data as data\n",
    "import numpy as np\n",
    "from tqdm import tqdm\n",
    "\n",
    "# 3D U-Net with a small parameter count\n",
    "class SmallUNet3D(nn.Module):\n",
    "    def __init__(self, in_channels=1, out_channels=5, base_filters=16):\n",
    "        super(SmallUNet3D, self).__init__()\n",
    "        self.enc1 = nn.Conv3d(in_channels, base_filters, kernel_size=3, padding=1)\n",
    "        self.enc2 = nn.Conv3d(base_filters, base_filters * 2, kernel_size=3, padding=1)\n",
    "        \n",
    "        self.pool = nn.MaxPool3d(2)\n",
    "        self.upsample = nn.Upsample(scale_factor=2, mode='trilinear', align_corners=True)\n",
    "        \n",
    "        self.dec1 = nn.Conv3d(base_filters * 2, base_filters, kernel_size=3, padding=1)\n",
    "        self.dec2 = nn.Conv3d(base_filters, out_channels, kernel_size=1)  # Final regression output\n",
    "\n",
    "        self.act = nn.ReLU()\n",
    "    \n",
    "    def forward(self, x):\n",
    "        e1 = self.act(self.enc1(x))\n",
    "        e2 = self.act(self.enc2(self.pool(e1)))\n",
    "        \n",
    "        d1 = self.act(self.dec1(self.upsample(e2)))\n",
    "        d2 = self.dec2(d1)  # No activation for regression\n",
    "        \n",
    "        return d2\n",
    "\n",
    "\n",
    "\n",
    "\n",
    "# Initialize model and train\n",
    "model = SmallUNet3D()\n"
   ]
  },
  {
   "cell_type": "code",
   "execution_count": 4,
   "metadata": {},
   "outputs": [
    {
     "name": "stdout",
     "output_type": "stream",
     "text": [
      "Found 333 files in repository 'peteole/CoolMucSmall'.\n",
      "Downloading 666 files from repository 'peteole/CoolMucSmall' to 'datasets/ds_huggingface'.\n",
      "File 1/400: volume_design_1.cgns already exists. Skipping download.\n",
      "File 2/400: volume_design_10.cgns already exists. Skipping download.\n",
      "File 3/400: volume_design_1001.cgns already exists. Skipping download.\n",
      "File 4/400: volume_design_1002.cgns already exists. Skipping download.\n",
      "File 5/400: volume_design_1003.cgns already exists. Skipping download.\n",
      "File 6/400: volume_design_1004.cgns already exists. Skipping download.\n",
      "File 7/400: volume_design_1005.cgns already exists. Skipping download.\n",
      "File 8/400: volume_design_1006.cgns already exists. Skipping download.\n",
      "File 9/400: volume_design_1007.cgns already exists. Skipping download.\n",
      "File 10/400: volume_design_1008.cgns already exists. Skipping download.\n",
      "File 11/400: volume_design_1009.cgns already exists. Skipping download.\n",
      "File 12/400: volume_design_101.cgns already exists. Skipping download.\n",
      "File 13/400: volume_design_1010.cgns already exists. Skipping download.\n",
      "File 14/400: volume_design_1011.cgns already exists. Skipping download.\n",
      "File 15/400: volume_design_1012.cgns already exists. Skipping download.\n",
      "File 16/400: volume_design_102.cgns already exists. Skipping download.\n",
      "File 17/400: volume_design_103.cgns already exists. Skipping download.\n",
      "File 18/400: volume_design_104.cgns already exists. Skipping download.\n",
      "File 19/400: volume_design_105.cgns already exists. Skipping download.\n",
      "File 20/400: volume_design_106.cgns already exists. Skipping download.\n",
      "File 21/400: volume_design_107.cgns already exists. Skipping download.\n",
      "File 22/400: volume_design_108.cgns already exists. Skipping download.\n",
      "File 23/400: volume_design_109.cgns already exists. Skipping download.\n",
      "File 24/400: volume_design_110.cgns already exists. Skipping download.\n",
      "File 25/400: volume_design_1101.cgns already exists. Skipping download.\n",
      "File 26/400: volume_design_1102.cgns already exists. Skipping download.\n",
      "File 27/400: volume_design_1103.cgns already exists. Skipping download.\n",
      "File 28/400: volume_design_1104.cgns already exists. Skipping download.\n",
      "File 29/400: volume_design_1105.cgns already exists. Skipping download.\n",
      "File 30/400: volume_design_1106.cgns already exists. Skipping download.\n",
      "File 31/400: volume_design_111.cgns already exists. Skipping download.\n",
      "File 32/400: volume_design_112.cgns already exists. Skipping download.\n",
      "File 33/400: volume_design_1201.cgns already exists. Skipping download.\n",
      "File 34/400: volume_design_1202.cgns already exists. Skipping download.\n",
      "File 35/400: volume_design_1203.cgns already exists. Skipping download.\n",
      "File 36/400: volume_design_1204.cgns already exists. Skipping download.\n",
      "File 37/400: volume_design_1205.cgns already exists. Skipping download.\n",
      "File 38/400: volume_design_1206.cgns already exists. Skipping download.\n",
      "File 39/400: volume_design_1207.cgns already exists. Skipping download.\n",
      "File 40/400: volume_design_1208.cgns already exists. Skipping download.\n",
      "File 41/400: volume_design_1209.cgns already exists. Skipping download.\n",
      "File 42/400: volume_design_1210.cgns already exists. Skipping download.\n",
      "File 43/400: volume_design_1211.cgns already exists. Skipping download.\n",
      "File 44/400: volume_design_1212.cgns already exists. Skipping download.\n",
      "File 45/400: volume_design_1213.cgns already exists. Skipping download.\n",
      "File 46/400: volume_design_1214.cgns already exists. Skipping download.\n",
      "File 47/400: volume_design_1215.cgns already exists. Skipping download.\n",
      "File 48/400: volume_design_1216.cgns already exists. Skipping download.\n",
      "File 49/400: volume_design_1301.cgns already exists. Skipping download.\n",
      "File 50/400: volume_design_1302.cgns already exists. Skipping download.\n",
      "File 51/400: volume_design_1303.cgns already exists. Skipping download.\n",
      "File 52/400: volume_design_1304.cgns already exists. Skipping download.\n",
      "File 53/400: volume_design_1305.cgns already exists. Skipping download.\n",
      "File 54/400: volume_design_1306.cgns already exists. Skipping download.\n",
      "File 55/400: volume_design_1307.cgns already exists. Skipping download.\n",
      "File 56/400: volume_design_1308.cgns already exists. Skipping download.\n",
      "File 57/400: volume_design_1309.cgns already exists. Skipping download.\n",
      "File 58/400: volume_design_1310.cgns already exists. Skipping download.\n",
      "File 59/400: volume_design_1311.cgns already exists. Skipping download.\n",
      "File 60/400: volume_design_1401.cgns already exists. Skipping download.\n",
      "File 61/400: volume_design_1402.cgns already exists. Skipping download.\n",
      "File 62/400: volume_design_1403.cgns already exists. Skipping download.\n",
      "File 63/400: volume_design_1404.cgns already exists. Skipping download.\n",
      "File 64/400: volume_design_1405.cgns already exists. Skipping download.\n",
      "File 65/400: volume_design_1406.cgns already exists. Skipping download.\n",
      "File 66/400: volume_design_1407.cgns already exists. Skipping download.\n",
      "File 67/400: volume_design_1408.cgns already exists. Skipping download.\n",
      "File 68/400: volume_design_1409.cgns already exists. Skipping download.\n",
      "Downloading file 69/400: volume_design_1410.cgns\n",
      "Error downloading file 'volume_design_1410.cgns': 416 Client Error: Requested Range Not Satisfiable for url: https://cdn-lfs-us-1.hf.co/repos/c7/54/c754883874eaaa276c9705654bf68eb433f9cdf659b68f782c8cb0c12ed21b6f/8576444d4da6a02516fe7346fa6c135e4ba1352ecb3b6eff5d4a1d22b0d1be2b?response-content-disposition=inline%3B+filename*%3DUTF-8%27%27volume_design_1410.cgns%3B+filename%3D%22volume_design_1410.cgns%22%3B&Expires=1743058157&Policy=eyJTdGF0ZW1lbnQiOlt7IkNvbmRpdGlvbiI6eyJEYXRlTGVzc1RoYW4iOnsiQVdTOkVwb2NoVGltZSI6MTc0MzA1ODE1N319LCJSZXNvdXJjZSI6Imh0dHBzOi8vY2RuLWxmcy11cy0xLmhmLmNvL3JlcG9zL2M3LzU0L2M3NTQ4ODM4NzRlYWFhMjc2Yzk3MDU2NTRiZjY4ZWI0MzNmOWNkZjY1OWI2OGY3ODJjOGNiMGMxMmVkMjFiNmYvODU3NjQ0NGQ0ZGE2YTAyNTE2ZmU3MzQ2ZmE2YzEzNWU0YmExMzUyZWNiM2I2ZWZmNWQ0YTFkMjJiMGQxYmUyYj9yZXNwb25zZS1jb250ZW50LWRpc3Bvc2l0aW9uPSoifV19&Signature=vQBcjyCUTtxbhQeWK1V6VccCSye8fTAOvG4oH6EVzD60csE4vRu2QZIWvLyy39Omb2HRabRd~NTM1cP1s2vVNO1gEFv97OwKDtvSmsTOomlXDwsAMBrIO8owCG8oHIc-1h-8~PNpN6qmuaSbnlRwcB0ur8bbdVbtzdNWBZaIZYhAGGVZtvNBXedoNGxBGcDV0qDDVfwvJ~AaB8mnhN4UiBJRJn-u0GZnwhhXBgJ70t1qGq7jWfpP1ipvjRBH8mGw9Mp8Oxf0-TtmQBHiH5toY3mA8JvgLuRG0QaO1SnZqbGD8j45lt9s~qoYrnGOInbxEEJcUos6RBafCpzIGy-NRg__&Key-Pair-Id=K24J24Z295AEI9. Requested range: bytes=44791003-. Content-Range: None.\n",
      "File 70/400: volume_design_1411.cgns already exists. Skipping download.\n",
      "Downloading file 71/400: volume_design_1412.cgns\n",
      "Error downloading file 'volume_design_1412.cgns': 416 Client Error: Requested Range Not Satisfiable for url: https://cdn-lfs-us-1.hf.co/repos/c7/54/c754883874eaaa276c9705654bf68eb433f9cdf659b68f782c8cb0c12ed21b6f/cb3d7953b3eaccc8bfd92a9bc427fbc0c08ac011d93942effbf6c93c351ea4dc?response-content-disposition=inline%3B+filename*%3DUTF-8%27%27volume_design_1412.cgns%3B+filename%3D%22volume_design_1412.cgns%22%3B&Expires=1743058158&Policy=eyJTdGF0ZW1lbnQiOlt7IkNvbmRpdGlvbiI6eyJEYXRlTGVzc1RoYW4iOnsiQVdTOkVwb2NoVGltZSI6MTc0MzA1ODE1OH19LCJSZXNvdXJjZSI6Imh0dHBzOi8vY2RuLWxmcy11cy0xLmhmLmNvL3JlcG9zL2M3LzU0L2M3NTQ4ODM4NzRlYWFhMjc2Yzk3MDU2NTRiZjY4ZWI0MzNmOWNkZjY1OWI2OGY3ODJjOGNiMGMxMmVkMjFiNmYvY2IzZDc5NTNiM2VhY2NjOGJmZDkyYTliYzQyN2ZiYzBjMDhhYzAxMWQ5Mzk0MmVmZmJmNmM5M2MzNTFlYTRkYz9yZXNwb25zZS1jb250ZW50LWRpc3Bvc2l0aW9uPSoifV19&Signature=oReNEv75dJbVLkQ57L-1qY-uh3EaEoZ47axgqjxOSyhundBs6r-hv4uM1AgRDEf2aNvg32vbcBQfggrRnWxQTGVWHALbH9qjCeSJlkGAGb8UJ2vFqenJKxIWznGHnH37OpsM9qDM5Jyg~mu-2FAO4ZNTTq8T7l~oDcOQ0OblRBMuldVC13lMlbaar3ar~d7EtFKRwSJ3twW~fZHR~xK9mpt2OkQEjKgfC0oY3ku56SepJJb6DAgmaRmCcUzE-YMJ9l7hDGo5H3v7knbfk1B7IW8fERyQMZjkWt7tYdvLrum4fNVwwWtYAdFXV8D5JR2UyFKvuoeJ6ZUSZiZyeqcoVA__&Key-Pair-Id=K24J24Z295AEI9. Requested range: bytes=45576971-. Content-Range: None.\n",
      "File 72/400: volume_design_1501.cgns already exists. Skipping download.\n",
      "File 73/400: volume_design_1502.cgns already exists. Skipping download.\n",
      "File 74/400: volume_design_1503.cgns already exists. Skipping download.\n",
      "File 75/400: volume_design_1504.cgns already exists. Skipping download.\n",
      "File 76/400: volume_design_1505.cgns already exists. Skipping download.\n",
      "File 77/400: volume_design_1506.cgns already exists. Skipping download.\n",
      "File 78/400: volume_design_1507.cgns already exists. Skipping download.\n",
      "File 79/400: volume_design_1508.cgns already exists. Skipping download.\n",
      "File 80/400: volume_design_1509.cgns already exists. Skipping download.\n",
      "File 81/400: volume_design_1510.cgns already exists. Skipping download.\n",
      "File 82/400: volume_design_1511.cgns already exists. Skipping download.\n",
      "File 83/400: volume_design_1512.cgns already exists. Skipping download.\n",
      "File 84/400: volume_design_1513.cgns already exists. Skipping download.\n",
      "File 85/400: volume_design_1514.cgns already exists. Skipping download.\n",
      "File 86/400: volume_design_1601.cgns already exists. Skipping download.\n",
      "File 87/400: volume_design_1602.cgns already exists. Skipping download.\n",
      "File 88/400: volume_design_1603.cgns already exists. Skipping download.\n",
      "File 89/400: volume_design_1604.cgns already exists. Skipping download.\n",
      "File 90/400: volume_design_1605.cgns already exists. Skipping download.\n",
      "File 91/400: volume_design_1606.cgns already exists. Skipping download.\n",
      "File 92/400: volume_design_1607.cgns already exists. Skipping download.\n",
      "File 93/400: volume_design_1608.cgns already exists. Skipping download.\n",
      "File 94/400: volume_design_1609.cgns already exists. Skipping download.\n",
      "File 95/400: volume_design_1610.cgns already exists. Skipping download.\n",
      "File 96/400: volume_design_1611.cgns already exists. Skipping download.\n",
      "File 97/400: volume_design_1701.cgns already exists. Skipping download.\n",
      "File 98/400: volume_design_1702.cgns already exists. Skipping download.\n",
      "File 99/400: volume_design_1703.cgns already exists. Skipping download.\n",
      "File 100/400: volume_design_1704.cgns already exists. Skipping download.\n",
      "File 101/400: volume_design_1705.cgns already exists. Skipping download.\n",
      "File 102/400: volume_design_1706.cgns already exists. Skipping download.\n",
      "File 103/400: volume_design_1707.cgns already exists. Skipping download.\n",
      "File 104/400: volume_design_1708.cgns already exists. Skipping download.\n",
      "File 105/400: volume_design_1709.cgns already exists. Skipping download.\n",
      "File 106/400: volume_design_1710.cgns already exists. Skipping download.\n",
      "File 107/400: volume_design_1711.cgns already exists. Skipping download.\n",
      "File 108/400: volume_design_1712.cgns already exists. Skipping download.\n",
      "File 109/400: volume_design_1713.cgns already exists. Skipping download.\n",
      "File 110/400: volume_design_1714.cgns already exists. Skipping download.\n",
      "File 111/400: volume_design_1715.cgns already exists. Skipping download.\n",
      "File 112/400: volume_design_1801.cgns already exists. Skipping download.\n",
      "File 113/400: volume_design_1802.cgns already exists. Skipping download.\n",
      "File 114/400: volume_design_1803.cgns already exists. Skipping download.\n",
      "File 115/400: volume_design_1804.cgns already exists. Skipping download.\n",
      "File 116/400: volume_design_1805.cgns already exists. Skipping download.\n",
      "File 117/400: volume_design_1806.cgns already exists. Skipping download.\n",
      "File 118/400: volume_design_1807.cgns already exists. Skipping download.\n",
      "File 119/400: volume_design_1808.cgns already exists. Skipping download.\n",
      "File 120/400: volume_design_1809.cgns already exists. Skipping download.\n",
      "File 121/400: volume_design_1810.cgns already exists. Skipping download.\n",
      "File 122/400: volume_design_1811.cgns already exists. Skipping download.\n",
      "File 123/400: volume_design_1812.cgns already exists. Skipping download.\n",
      "File 124/400: volume_design_1901.cgns already exists. Skipping download.\n",
      "File 125/400: volume_design_1902.cgns already exists. Skipping download.\n",
      "File 126/400: volume_design_1903.cgns already exists. Skipping download.\n",
      "File 127/400: volume_design_1904.cgns already exists. Skipping download.\n",
      "File 128/400: volume_design_1905.cgns already exists. Skipping download.\n",
      "File 129/400: volume_design_1906.cgns already exists. Skipping download.\n",
      "File 130/400: volume_design_1907.cgns already exists. Skipping download.\n",
      "File 131/400: volume_design_1908.cgns already exists. Skipping download.\n",
      "File 132/400: volume_design_1909.cgns already exists. Skipping download.\n",
      "File 133/400: volume_design_1910.cgns already exists. Skipping download.\n",
      "File 134/400: volume_design_1911.cgns already exists. Skipping download.\n",
      "File 135/400: volume_design_1912.cgns already exists. Skipping download.\n",
      "File 136/400: volume_design_1913.cgns already exists. Skipping download.\n",
      "File 137/400: volume_design_1914.cgns already exists. Skipping download.\n",
      "File 138/400: volume_design_1915.cgns already exists. Skipping download.\n",
      "File 139/400: volume_design_2.cgns already exists. Skipping download.\n",
      "File 140/400: volume_design_2001.cgns already exists. Skipping download.\n",
      "File 141/400: volume_design_2002.cgns already exists. Skipping download.\n",
      "File 142/400: volume_design_2003.cgns already exists. Skipping download.\n",
      "File 143/400: volume_design_2004.cgns already exists. Skipping download.\n",
      "File 144/400: volume_design_2005.cgns already exists. Skipping download.\n",
      "File 145/400: volume_design_2006.cgns already exists. Skipping download.\n",
      "File 146/400: volume_design_2007.cgns already exists. Skipping download.\n",
      "File 147/400: volume_design_2008.cgns already exists. Skipping download.\n",
      "File 148/400: volume_design_2009.cgns already exists. Skipping download.\n",
      "File 149/400: volume_design_201.cgns already exists. Skipping download.\n",
      "File 150/400: volume_design_2010.cgns already exists. Skipping download.\n",
      "File 151/400: volume_design_2011.cgns already exists. Skipping download.\n",
      "File 152/400: volume_design_2012.cgns already exists. Skipping download.\n",
      "File 153/400: volume_design_2013.cgns already exists. Skipping download.\n",
      "File 154/400: volume_design_202.cgns already exists. Skipping download.\n",
      "File 155/400: volume_design_203.cgns already exists. Skipping download.\n",
      "File 156/400: volume_design_204.cgns already exists. Skipping download.\n",
      "File 157/400: volume_design_205.cgns already exists. Skipping download.\n",
      "File 158/400: volume_design_206.cgns already exists. Skipping download.\n",
      "File 159/400: volume_design_207.cgns already exists. Skipping download.\n",
      "File 160/400: volume_design_208.cgns already exists. Skipping download.\n",
      "File 161/400: volume_design_209.cgns already exists. Skipping download.\n",
      "File 162/400: volume_design_210.cgns already exists. Skipping download.\n",
      "File 163/400: volume_design_2101.cgns already exists. Skipping download.\n",
      "File 164/400: volume_design_2102.cgns already exists. Skipping download.\n",
      "File 165/400: volume_design_2103.cgns already exists. Skipping download.\n",
      "File 166/400: volume_design_2104.cgns already exists. Skipping download.\n",
      "File 167/400: volume_design_2105.cgns already exists. Skipping download.\n",
      "File 168/400: volume_design_2106.cgns already exists. Skipping download.\n",
      "File 169/400: volume_design_2107.cgns already exists. Skipping download.\n",
      "File 170/400: volume_design_2108.cgns already exists. Skipping download.\n",
      "File 171/400: volume_design_2109.cgns already exists. Skipping download.\n",
      "File 172/400: volume_design_211.cgns already exists. Skipping download.\n",
      "File 173/400: volume_design_2110.cgns already exists. Skipping download.\n",
      "File 174/400: volume_design_2111.cgns already exists. Skipping download.\n",
      "File 175/400: volume_design_2112.cgns already exists. Skipping download.\n",
      "File 176/400: volume_design_212.cgns already exists. Skipping download.\n",
      "File 177/400: volume_design_2201.cgns already exists. Skipping download.\n",
      "File 178/400: volume_design_2202.cgns already exists. Skipping download.\n",
      "File 179/400: volume_design_2203.cgns already exists. Skipping download.\n",
      "File 180/400: volume_design_2204.cgns already exists. Skipping download.\n",
      "File 181/400: volume_design_2205.cgns already exists. Skipping download.\n",
      "File 182/400: volume_design_2206.cgns already exists. Skipping download.\n",
      "File 183/400: volume_design_2207.cgns already exists. Skipping download.\n",
      "File 184/400: volume_design_2208.cgns already exists. Skipping download.\n",
      "File 185/400: volume_design_2301.cgns already exists. Skipping download.\n",
      "File 186/400: volume_design_2302.cgns already exists. Skipping download.\n",
      "File 187/400: volume_design_2303.cgns already exists. Skipping download.\n",
      "File 188/400: volume_design_2304.cgns already exists. Skipping download.\n",
      "File 189/400: volume_design_2305.cgns already exists. Skipping download.\n",
      "File 190/400: volume_design_2306.cgns already exists. Skipping download.\n",
      "File 191/400: volume_design_2307.cgns already exists. Skipping download.\n",
      "File 192/400: volume_design_2308.cgns already exists. Skipping download.\n",
      "File 193/400: volume_design_2309.cgns already exists. Skipping download.\n",
      "File 194/400: volume_design_2310.cgns already exists. Skipping download.\n",
      "File 195/400: volume_design_2311.cgns already exists. Skipping download.\n",
      "File 196/400: volume_design_2312.cgns already exists. Skipping download.\n",
      "File 197/400: volume_design_2313.cgns already exists. Skipping download.\n",
      "File 198/400: volume_design_2314.cgns already exists. Skipping download.\n",
      "File 199/400: volume_design_2401.cgns already exists. Skipping download.\n",
      "File 200/400: volume_design_2402.cgns already exists. Skipping download.\n",
      "File 201/400: surface_design_1.cgns already exists. Skipping download.\n",
      "File 202/400: surface_design_10.cgns already exists. Skipping download.\n",
      "File 203/400: surface_design_1001.cgns already exists. Skipping download.\n",
      "File 204/400: surface_design_1002.cgns already exists. Skipping download.\n",
      "File 205/400: surface_design_1003.cgns already exists. Skipping download.\n",
      "File 206/400: surface_design_1004.cgns already exists. Skipping download.\n",
      "File 207/400: surface_design_1005.cgns already exists. Skipping download.\n",
      "File 208/400: surface_design_1006.cgns already exists. Skipping download.\n",
      "File 209/400: surface_design_1007.cgns already exists. Skipping download.\n",
      "File 210/400: surface_design_1008.cgns already exists. Skipping download.\n",
      "File 211/400: surface_design_1009.cgns already exists. Skipping download.\n",
      "File 212/400: surface_design_101.cgns already exists. Skipping download.\n",
      "File 213/400: surface_design_1010.cgns already exists. Skipping download.\n",
      "File 214/400: surface_design_1011.cgns already exists. Skipping download.\n",
      "File 215/400: surface_design_1012.cgns already exists. Skipping download.\n",
      "File 216/400: surface_design_102.cgns already exists. Skipping download.\n",
      "File 217/400: surface_design_103.cgns already exists. Skipping download.\n",
      "File 218/400: surface_design_104.cgns already exists. Skipping download.\n",
      "File 219/400: surface_design_105.cgns already exists. Skipping download.\n",
      "File 220/400: surface_design_106.cgns already exists. Skipping download.\n",
      "File 221/400: surface_design_107.cgns already exists. Skipping download.\n",
      "File 222/400: surface_design_108.cgns already exists. Skipping download.\n",
      "File 223/400: surface_design_109.cgns already exists. Skipping download.\n",
      "File 224/400: surface_design_110.cgns already exists. Skipping download.\n",
      "File 225/400: surface_design_1101.cgns already exists. Skipping download.\n",
      "File 226/400: surface_design_1102.cgns already exists. Skipping download.\n",
      "File 227/400: surface_design_1103.cgns already exists. Skipping download.\n",
      "File 228/400: surface_design_1104.cgns already exists. Skipping download.\n",
      "File 229/400: surface_design_1105.cgns already exists. Skipping download.\n",
      "File 230/400: surface_design_1106.cgns already exists. Skipping download.\n",
      "File 231/400: surface_design_111.cgns already exists. Skipping download.\n",
      "File 232/400: surface_design_112.cgns already exists. Skipping download.\n",
      "File 233/400: surface_design_1201.cgns already exists. Skipping download.\n",
      "File 234/400: surface_design_1202.cgns already exists. Skipping download.\n",
      "File 235/400: surface_design_1203.cgns already exists. Skipping download.\n",
      "File 236/400: surface_design_1204.cgns already exists. Skipping download.\n",
      "File 237/400: surface_design_1205.cgns already exists. Skipping download.\n",
      "File 238/400: surface_design_1206.cgns already exists. Skipping download.\n",
      "File 239/400: surface_design_1207.cgns already exists. Skipping download.\n",
      "File 240/400: surface_design_1208.cgns already exists. Skipping download.\n",
      "File 241/400: surface_design_1209.cgns already exists. Skipping download.\n",
      "File 242/400: surface_design_1210.cgns already exists. Skipping download.\n",
      "File 243/400: surface_design_1211.cgns already exists. Skipping download.\n",
      "File 244/400: surface_design_1212.cgns already exists. Skipping download.\n",
      "File 245/400: surface_design_1213.cgns already exists. Skipping download.\n",
      "File 246/400: surface_design_1214.cgns already exists. Skipping download.\n",
      "File 247/400: surface_design_1215.cgns already exists. Skipping download.\n",
      "File 248/400: surface_design_1216.cgns already exists. Skipping download.\n",
      "File 249/400: surface_design_1301.cgns already exists. Skipping download.\n",
      "File 250/400: surface_design_1302.cgns already exists. Skipping download.\n",
      "File 251/400: surface_design_1303.cgns already exists. Skipping download.\n",
      "File 252/400: surface_design_1304.cgns already exists. Skipping download.\n",
      "File 253/400: surface_design_1305.cgns already exists. Skipping download.\n",
      "File 254/400: surface_design_1306.cgns already exists. Skipping download.\n",
      "File 255/400: surface_design_1307.cgns already exists. Skipping download.\n",
      "File 256/400: surface_design_1308.cgns already exists. Skipping download.\n",
      "File 257/400: surface_design_1309.cgns already exists. Skipping download.\n",
      "File 258/400: surface_design_1310.cgns already exists. Skipping download.\n",
      "File 259/400: surface_design_1311.cgns already exists. Skipping download.\n",
      "File 260/400: surface_design_1401.cgns already exists. Skipping download.\n",
      "File 261/400: surface_design_1402.cgns already exists. Skipping download.\n",
      "File 262/400: surface_design_1403.cgns already exists. Skipping download.\n",
      "File 263/400: surface_design_1404.cgns already exists. Skipping download.\n",
      "File 264/400: surface_design_1405.cgns already exists. Skipping download.\n",
      "File 265/400: surface_design_1406.cgns already exists. Skipping download.\n",
      "File 266/400: surface_design_1407.cgns already exists. Skipping download.\n",
      "File 267/400: surface_design_1408.cgns already exists. Skipping download.\n",
      "File 268/400: surface_design_1409.cgns already exists. Skipping download.\n",
      "File 269/400: surface_design_1410.cgns already exists. Skipping download.\n",
      "File 270/400: surface_design_1411.cgns already exists. Skipping download.\n",
      "File 271/400: surface_design_1412.cgns already exists. Skipping download.\n",
      "File 272/400: surface_design_1501.cgns already exists. Skipping download.\n",
      "File 273/400: surface_design_1502.cgns already exists. Skipping download.\n",
      "File 274/400: surface_design_1503.cgns already exists. Skipping download.\n",
      "File 275/400: surface_design_1504.cgns already exists. Skipping download.\n",
      "File 276/400: surface_design_1505.cgns already exists. Skipping download.\n",
      "File 277/400: surface_design_1506.cgns already exists. Skipping download.\n",
      "File 278/400: surface_design_1507.cgns already exists. Skipping download.\n",
      "File 279/400: surface_design_1508.cgns already exists. Skipping download.\n",
      "File 280/400: surface_design_1509.cgns already exists. Skipping download.\n",
      "File 281/400: surface_design_1510.cgns already exists. Skipping download.\n",
      "File 282/400: surface_design_1511.cgns already exists. Skipping download.\n",
      "File 283/400: surface_design_1512.cgns already exists. Skipping download.\n",
      "File 284/400: surface_design_1513.cgns already exists. Skipping download.\n",
      "File 285/400: surface_design_1514.cgns already exists. Skipping download.\n",
      "File 286/400: surface_design_1601.cgns already exists. Skipping download.\n",
      "File 287/400: surface_design_1602.cgns already exists. Skipping download.\n",
      "File 288/400: surface_design_1603.cgns already exists. Skipping download.\n",
      "File 289/400: surface_design_1604.cgns already exists. Skipping download.\n",
      "File 290/400: surface_design_1605.cgns already exists. Skipping download.\n",
      "File 291/400: surface_design_1606.cgns already exists. Skipping download.\n",
      "File 292/400: surface_design_1607.cgns already exists. Skipping download.\n",
      "File 293/400: surface_design_1608.cgns already exists. Skipping download.\n",
      "File 294/400: surface_design_1609.cgns already exists. Skipping download.\n",
      "File 295/400: surface_design_1610.cgns already exists. Skipping download.\n",
      "File 296/400: surface_design_1611.cgns already exists. Skipping download.\n",
      "File 297/400: surface_design_1701.cgns already exists. Skipping download.\n",
      "File 298/400: surface_design_1702.cgns already exists. Skipping download.\n",
      "File 299/400: surface_design_1703.cgns already exists. Skipping download.\n",
      "File 300/400: surface_design_1704.cgns already exists. Skipping download.\n",
      "File 301/400: surface_design_1705.cgns already exists. Skipping download.\n",
      "File 302/400: surface_design_1706.cgns already exists. Skipping download.\n",
      "File 303/400: surface_design_1707.cgns already exists. Skipping download.\n",
      "File 304/400: surface_design_1708.cgns already exists. Skipping download.\n",
      "File 305/400: surface_design_1709.cgns already exists. Skipping download.\n",
      "File 306/400: surface_design_1710.cgns already exists. Skipping download.\n",
      "File 307/400: surface_design_1711.cgns already exists. Skipping download.\n",
      "File 308/400: surface_design_1712.cgns already exists. Skipping download.\n",
      "File 309/400: surface_design_1713.cgns already exists. Skipping download.\n",
      "File 310/400: surface_design_1714.cgns already exists. Skipping download.\n",
      "File 311/400: surface_design_1715.cgns already exists. Skipping download.\n",
      "File 312/400: surface_design_1801.cgns already exists. Skipping download.\n",
      "File 313/400: surface_design_1802.cgns already exists. Skipping download.\n",
      "File 314/400: surface_design_1803.cgns already exists. Skipping download.\n",
      "File 315/400: surface_design_1804.cgns already exists. Skipping download.\n",
      "File 316/400: surface_design_1805.cgns already exists. Skipping download.\n",
      "File 317/400: surface_design_1806.cgns already exists. Skipping download.\n",
      "File 318/400: surface_design_1807.cgns already exists. Skipping download.\n",
      "File 319/400: surface_design_1808.cgns already exists. Skipping download.\n",
      "File 320/400: surface_design_1809.cgns already exists. Skipping download.\n",
      "File 321/400: surface_design_1810.cgns already exists. Skipping download.\n",
      "File 322/400: surface_design_1811.cgns already exists. Skipping download.\n",
      "File 323/400: surface_design_1812.cgns already exists. Skipping download.\n",
      "File 324/400: surface_design_1901.cgns already exists. Skipping download.\n",
      "File 325/400: surface_design_1902.cgns already exists. Skipping download.\n",
      "File 326/400: surface_design_1903.cgns already exists. Skipping download.\n",
      "File 327/400: surface_design_1904.cgns already exists. Skipping download.\n",
      "File 328/400: surface_design_1905.cgns already exists. Skipping download.\n",
      "File 329/400: surface_design_1906.cgns already exists. Skipping download.\n",
      "File 330/400: surface_design_1907.cgns already exists. Skipping download.\n",
      "File 331/400: surface_design_1908.cgns already exists. Skipping download.\n",
      "File 332/400: surface_design_1909.cgns already exists. Skipping download.\n",
      "File 333/400: surface_design_1910.cgns already exists. Skipping download.\n",
      "File 334/400: surface_design_1911.cgns already exists. Skipping download.\n",
      "File 335/400: surface_design_1912.cgns already exists. Skipping download.\n",
      "File 336/400: surface_design_1913.cgns already exists. Skipping download.\n",
      "File 337/400: surface_design_1914.cgns already exists. Skipping download.\n",
      "File 338/400: surface_design_1915.cgns already exists. Skipping download.\n",
      "File 339/400: surface_design_2.cgns already exists. Skipping download.\n",
      "File 340/400: surface_design_2001.cgns already exists. Skipping download.\n",
      "File 341/400: surface_design_2002.cgns already exists. Skipping download.\n",
      "File 342/400: surface_design_2003.cgns already exists. Skipping download.\n",
      "File 343/400: surface_design_2004.cgns already exists. Skipping download.\n",
      "File 344/400: surface_design_2005.cgns already exists. Skipping download.\n",
      "File 345/400: surface_design_2006.cgns already exists. Skipping download.\n",
      "File 346/400: surface_design_2007.cgns already exists. Skipping download.\n",
      "File 347/400: surface_design_2008.cgns already exists. Skipping download.\n",
      "File 348/400: surface_design_2009.cgns already exists. Skipping download.\n",
      "File 349/400: surface_design_201.cgns already exists. Skipping download.\n",
      "File 350/400: surface_design_2010.cgns already exists. Skipping download.\n",
      "File 351/400: surface_design_2011.cgns already exists. Skipping download.\n",
      "File 352/400: surface_design_2012.cgns already exists. Skipping download.\n",
      "File 353/400: surface_design_2013.cgns already exists. Skipping download.\n",
      "File 354/400: surface_design_202.cgns already exists. Skipping download.\n",
      "File 355/400: surface_design_203.cgns already exists. Skipping download.\n",
      "File 356/400: surface_design_204.cgns already exists. Skipping download.\n",
      "File 357/400: surface_design_205.cgns already exists. Skipping download.\n",
      "File 358/400: surface_design_206.cgns already exists. Skipping download.\n",
      "File 359/400: surface_design_207.cgns already exists. Skipping download.\n",
      "File 360/400: surface_design_208.cgns already exists. Skipping download.\n",
      "File 361/400: surface_design_209.cgns already exists. Skipping download.\n",
      "File 362/400: surface_design_210.cgns already exists. Skipping download.\n",
      "File 363/400: surface_design_2101.cgns already exists. Skipping download.\n",
      "File 364/400: surface_design_2102.cgns already exists. Skipping download.\n",
      "File 365/400: surface_design_2103.cgns already exists. Skipping download.\n",
      "File 366/400: surface_design_2104.cgns already exists. Skipping download.\n",
      "File 367/400: surface_design_2105.cgns already exists. Skipping download.\n",
      "File 368/400: surface_design_2106.cgns already exists. Skipping download.\n",
      "File 369/400: surface_design_2107.cgns already exists. Skipping download.\n",
      "File 370/400: surface_design_2108.cgns already exists. Skipping download.\n",
      "File 371/400: surface_design_2109.cgns already exists. Skipping download.\n",
      "File 372/400: surface_design_211.cgns already exists. Skipping download.\n",
      "File 373/400: surface_design_2110.cgns already exists. Skipping download.\n",
      "File 374/400: surface_design_2111.cgns already exists. Skipping download.\n",
      "File 375/400: surface_design_2112.cgns already exists. Skipping download.\n",
      "File 376/400: surface_design_212.cgns already exists. Skipping download.\n",
      "File 377/400: surface_design_2201.cgns already exists. Skipping download.\n",
      "File 378/400: surface_design_2202.cgns already exists. Skipping download.\n",
      "File 379/400: surface_design_2203.cgns already exists. Skipping download.\n",
      "File 380/400: surface_design_2204.cgns already exists. Skipping download.\n",
      "File 381/400: surface_design_2205.cgns already exists. Skipping download.\n",
      "File 382/400: surface_design_2206.cgns already exists. Skipping download.\n",
      "File 383/400: surface_design_2207.cgns already exists. Skipping download.\n",
      "File 384/400: surface_design_2208.cgns already exists. Skipping download.\n",
      "File 385/400: surface_design_2301.cgns already exists. Skipping download.\n",
      "File 386/400: surface_design_2302.cgns already exists. Skipping download.\n",
      "File 387/400: surface_design_2303.cgns already exists. Skipping download.\n",
      "File 388/400: surface_design_2304.cgns already exists. Skipping download.\n",
      "File 389/400: surface_design_2305.cgns already exists. Skipping download.\n",
      "File 390/400: surface_design_2306.cgns already exists. Skipping download.\n",
      "File 391/400: surface_design_2307.cgns already exists. Skipping download.\n",
      "File 392/400: surface_design_2308.cgns already exists. Skipping download.\n",
      "File 393/400: surface_design_2309.cgns already exists. Skipping download.\n",
      "File 394/400: surface_design_2310.cgns already exists. Skipping download.\n",
      "File 395/400: surface_design_2311.cgns already exists. Skipping download.\n",
      "File 396/400: surface_design_2312.cgns already exists. Skipping download.\n",
      "File 397/400: surface_design_2313.cgns already exists. Skipping download.\n",
      "File 398/400: surface_design_2314.cgns already exists. Skipping download.\n",
      "File 399/400: surface_design_2401.cgns already exists. Skipping download.\n",
      "File 400/400: surface_design_2402.cgns already exists. Skipping download.\n",
      "All files have been downloaded to 'datasets/ds_huggingface'.\n"
     ]
    },
    {
     "name": "stderr",
     "output_type": "stream",
     "text": [
      "\u001b[0m\u001b[33m2025-03-27 06:49:18.579 (   4.590s) [    77115417B740]      vtkCGNSReader.cxx:4268  WARN| vtkCGNSReader (0x63d100365ed0): Skipping BC_t node: BC_t type 'BCInflow' not supported yet.\u001b[0m\n",
      "\u001b[0m\u001b[33m2025-03-27 06:49:18.579 (   4.590s) [    77115417B740]      vtkCGNSReader.cxx:4268  WARN| vtkCGNSReader (0x63d100365ed0): Skipping BC_t node: BC_t type 'BCSymmetryPlane' not supported yet.\u001b[0m\n",
      "\u001b[0m\u001b[33m2025-03-27 06:49:18.579 (   4.590s) [    77115417B740]      vtkCGNSReader.cxx:4268  WARN| vtkCGNSReader (0x63d100365ed0): Skipping BC_t node: BC_t type 'BCTunnelOutflow' not supported yet.\u001b[0m\n",
      "\u001b[0m\u001b[33m2025-03-27 06:49:18.700 (   4.710s) [    77115417B740]      vtkCGNSReader.cxx:4268  WARN| vtkCGNSReader (0x63d1018ba8b0): Skipping BC_t node: BC_t type 'BCInflow' not supported yet.\u001b[0m\n",
      "\u001b[0m\u001b[33m2025-03-27 06:49:18.700 (   4.710s) [    77115417B740]      vtkCGNSReader.cxx:4268  WARN| vtkCGNSReader (0x63d1018ba8b0): Skipping BC_t node: BC_t type 'BCSymmetryPlane' not supported yet.\u001b[0m\n",
      "\u001b[0m\u001b[33m2025-03-27 06:49:18.700 (   4.710s) [    77115417B740]      vtkCGNSReader.cxx:4268  WARN| vtkCGNSReader (0x63d1018ba8b0): Skipping BC_t node: BC_t type 'BCTunnelOutflow' not supported yet.\u001b[0m\n",
      "\u001b[0m\u001b[33m2025-03-27 06:49:18.828 (   4.839s) [    77115417B740]      vtkCGNSReader.cxx:4268  WARN| vtkCGNSReader (0x63d1008cd290): Skipping BC_t node: BC_t type 'BCInflow' not supported yet.\u001b[0m\n",
      "\u001b[0m\u001b[33m2025-03-27 06:49:18.828 (   4.839s) [    77115417B740]      vtkCGNSReader.cxx:4268  WARN| vtkCGNSReader (0x63d1008cd290): Skipping BC_t node: BC_t type 'BCSymmetryPlane' not supported yet.\u001b[0m\n",
      "\u001b[0m\u001b[33m2025-03-27 06:49:18.828 (   4.839s) [    77115417B740]      vtkCGNSReader.cxx:4268  WARN| vtkCGNSReader (0x63d1008cd290): Skipping BC_t node: BC_t type 'BCTunnelOutflow' not supported yet.\u001b[0m\n",
      "\u001b[0m\u001b[33m2025-03-27 06:49:18.957 (   4.967s) [    77115417B740]      vtkCGNSReader.cxx:4268  WARN| vtkCGNSReader (0x63d1008a3ce0): Skipping BC_t node: BC_t type 'BCInflow' not supported yet.\u001b[0m\n",
      "\u001b[0m\u001b[33m2025-03-27 06:49:18.957 (   4.967s) [    77115417B740]      vtkCGNSReader.cxx:4268  WARN| vtkCGNSReader (0x63d1008a3ce0): Skipping BC_t node: BC_t type 'BCSymmetryPlane' not supported yet.\u001b[0m\n",
      "\u001b[0m\u001b[33m2025-03-27 06:49:18.957 (   4.967s) [    77115417B740]      vtkCGNSReader.cxx:4268  WARN| vtkCGNSReader (0x63d1008a3ce0): Skipping BC_t node: BC_t type 'BCTunnelOutflow' not supported yet.\u001b[0m\n",
      "\u001b[0m\u001b[33m2025-03-27 06:49:19.076 (   5.087s) [    77115417B740]      vtkCGNSReader.cxx:4268  WARN| vtkCGNSReader (0x63d100987400): Skipping BC_t node: BC_t type 'BCInflow' not supported yet.\u001b[0m\n",
      "\u001b[0m\u001b[33m2025-03-27 06:49:19.076 (   5.087s) [    77115417B740]      vtkCGNSReader.cxx:4268  WARN| vtkCGNSReader (0x63d100987400): Skipping BC_t node: BC_t type 'BCSymmetryPlane' not supported yet.\u001b[0m\n",
      "\u001b[0m\u001b[33m2025-03-27 06:49:19.076 (   5.087s) [    77115417B740]      vtkCGNSReader.cxx:4268  WARN| vtkCGNSReader (0x63d100987400): Skipping BC_t node: BC_t type 'BCTunnelOutflow' not supported yet.\u001b[0m\n",
      "\u001b[0m\u001b[33m2025-03-27 06:49:19.201 (   5.211s) [    77115417B740]      vtkCGNSReader.cxx:4268  WARN| vtkCGNSReader (0x63d1009461e0): Skipping BC_t node: BC_t type 'BCInflow' not supported yet.\u001b[0m\n",
      "\u001b[0m\u001b[33m2025-03-27 06:49:19.201 (   5.211s) [    77115417B740]      vtkCGNSReader.cxx:4268  WARN| vtkCGNSReader (0x63d1009461e0): Skipping BC_t node: BC_t type 'BCSymmetryPlane' not supported yet.\u001b[0m\n",
      "\u001b[0m\u001b[33m2025-03-27 06:49:19.201 (   5.211s) [    77115417B740]      vtkCGNSReader.cxx:4268  WARN| vtkCGNSReader (0x63d1009461e0): Skipping BC_t node: BC_t type 'BCTunnelOutflow' not supported yet.\u001b[0m\n",
      "\u001b[0m\u001b[33m2025-03-27 06:49:19.319 (   5.329s) [    77115417B740]      vtkCGNSReader.cxx:4268  WARN| vtkCGNSReader (0x63d1009a7820): Skipping BC_t node: BC_t type 'BCInflow' not supported yet.\u001b[0m\n",
      "\u001b[0m\u001b[33m2025-03-27 06:49:19.319 (   5.329s) [    77115417B740]      vtkCGNSReader.cxx:4268  WARN| vtkCGNSReader (0x63d1009a7820): Skipping BC_t node: BC_t type 'BCSymmetryPlane' not supported yet.\u001b[0m\n",
      "\u001b[0m\u001b[33m2025-03-27 06:49:19.319 (   5.329s) [    77115417B740]      vtkCGNSReader.cxx:4268  WARN| vtkCGNSReader (0x63d1009a7820): Skipping BC_t node: BC_t type 'BCTunnelOutflow' not supported yet.\u001b[0m\n",
      "\u001b[0m\u001b[33m2025-03-27 06:49:19.435 (   5.445s) [    77115417B740]      vtkCGNSReader.cxx:4268  WARN| vtkCGNSReader (0x63d1018cebd0): Skipping BC_t node: BC_t type 'BCInflow' not supported yet.\u001b[0m\n",
      "\u001b[0m\u001b[33m2025-03-27 06:49:19.435 (   5.445s) [    77115417B740]      vtkCGNSReader.cxx:4268  WARN| vtkCGNSReader (0x63d1018cebd0): Skipping BC_t node: BC_t type 'BCSymmetryPlane' not supported yet.\u001b[0m\n",
      "\u001b[0m\u001b[33m2025-03-27 06:49:19.435 (   5.446s) [    77115417B740]      vtkCGNSReader.cxx:4268  WARN| vtkCGNSReader (0x63d1018cebd0): Skipping BC_t node: BC_t type 'BCTunnelOutflow' not supported yet.\u001b[0m\n",
      "\u001b[0m\u001b[33m2025-03-27 06:49:19.556 (   5.566s) [    77115417B740]      vtkCGNSReader.cxx:4268  WARN| vtkCGNSReader (0x63d10088ee80): Skipping BC_t node: BC_t type 'BCInflow' not supported yet.\u001b[0m\n",
      "\u001b[0m\u001b[33m2025-03-27 06:49:19.556 (   5.566s) [    77115417B740]      vtkCGNSReader.cxx:4268  WARN| vtkCGNSReader (0x63d10088ee80): Skipping BC_t node: BC_t type 'BCSymmetryPlane' not supported yet.\u001b[0m\n",
      "\u001b[0m\u001b[33m2025-03-27 06:49:19.556 (   5.566s) [    77115417B740]      vtkCGNSReader.cxx:4268  WARN| vtkCGNSReader (0x63d10088ee80): Skipping BC_t node: BC_t type 'BCTunnelOutflow' not supported yet.\u001b[0m\n",
      "\u001b[0m\u001b[33m2025-03-27 06:49:19.685 (   5.695s) [    77115417B740]      vtkCGNSReader.cxx:4268  WARN| vtkCGNSReader (0x63d1009773f0): Skipping BC_t node: BC_t type 'BCInflow' not supported yet.\u001b[0m\n",
      "\u001b[0m\u001b[33m2025-03-27 06:49:19.685 (   5.695s) [    77115417B740]      vtkCGNSReader.cxx:4268  WARN| vtkCGNSReader (0x63d1009773f0): Skipping BC_t node: BC_t type 'BCSymmetryPlane' not supported yet.\u001b[0m\n",
      "\u001b[0m\u001b[33m2025-03-27 06:49:19.685 (   5.695s) [    77115417B740]      vtkCGNSReader.cxx:4268  WARN| vtkCGNSReader (0x63d1009773f0): Skipping BC_t node: BC_t type 'BCTunnelOutflow' not supported yet.\u001b[0m\n",
      "\u001b[0m\u001b[33m2025-03-27 06:49:19.788 (   5.798s) [    77115417B740]      vtkCGNSReader.cxx:4268  WARN| vtkCGNSReader (0x63d1008a1350): Skipping BC_t node: BC_t type 'BCInflow' not supported yet.\u001b[0m\n",
      "\u001b[0m\u001b[33m2025-03-27 06:49:19.788 (   5.798s) [    77115417B740]      vtkCGNSReader.cxx:4268  WARN| vtkCGNSReader (0x63d1008a1350): Skipping BC_t node: BC_t type 'BCSymmetryPlane' not supported yet.\u001b[0m\n",
      "\u001b[0m\u001b[33m2025-03-27 06:49:19.788 (   5.798s) [    77115417B740]      vtkCGNSReader.cxx:4268  WARN| vtkCGNSReader (0x63d1008a1350): Skipping BC_t node: BC_t type 'BCTunnelOutflow' not supported yet.\u001b[0m\n",
      "\u001b[0m\u001b[33m2025-03-27 06:49:19.892 (   5.903s) [    77115417B740]      vtkCGNSReader.cxx:4268  WARN| vtkCGNSReader (0x63d1008fb560): Skipping BC_t node: BC_t type 'BCInflow' not supported yet.\u001b[0m\n",
      "\u001b[0m\u001b[33m2025-03-27 06:49:19.892 (   5.903s) [    77115417B740]      vtkCGNSReader.cxx:4268  WARN| vtkCGNSReader (0x63d1008fb560): Skipping BC_t node: BC_t type 'BCSymmetryPlane' not supported yet.\u001b[0m\n",
      "\u001b[0m\u001b[33m2025-03-27 06:49:19.892 (   5.903s) [    77115417B740]      vtkCGNSReader.cxx:4268  WARN| vtkCGNSReader (0x63d1008fb560): Skipping BC_t node: BC_t type 'BCTunnelOutflow' not supported yet.\u001b[0m\n",
      "\u001b[0m\u001b[33m2025-03-27 06:49:20.016 (   6.026s) [    77115417B740]      vtkCGNSReader.cxx:4268  WARN| vtkCGNSReader (0x63d1008e31b0): Skipping BC_t node: BC_t type 'BCInflow' not supported yet.\u001b[0m\n",
      "\u001b[0m\u001b[33m2025-03-27 06:49:20.016 (   6.027s) [    77115417B740]      vtkCGNSReader.cxx:4268  WARN| vtkCGNSReader (0x63d1008e31b0): Skipping BC_t node: BC_t type 'BCSymmetryPlane' not supported yet.\u001b[0m\n",
      "\u001b[0m\u001b[33m2025-03-27 06:49:20.016 (   6.027s) [    77115417B740]      vtkCGNSReader.cxx:4268  WARN| vtkCGNSReader (0x63d1008e31b0): Skipping BC_t node: BC_t type 'BCTunnelOutflow' not supported yet.\u001b[0m\n",
      "\u001b[0m\u001b[33m2025-03-27 06:49:20.135 (   6.146s) [    77115417B740]      vtkCGNSReader.cxx:4268  WARN| vtkCGNSReader (0x63d1008e93b0): Skipping BC_t node: BC_t type 'BCInflow' not supported yet.\u001b[0m\n",
      "\u001b[0m\u001b[33m2025-03-27 06:49:20.135 (   6.146s) [    77115417B740]      vtkCGNSReader.cxx:4268  WARN| vtkCGNSReader (0x63d1008e93b0): Skipping BC_t node: BC_t type 'BCSymmetryPlane' not supported yet.\u001b[0m\n",
      "\u001b[0m\u001b[33m2025-03-27 06:49:20.135 (   6.146s) [    77115417B740]      vtkCGNSReader.cxx:4268  WARN| vtkCGNSReader (0x63d1008e93b0): Skipping BC_t node: BC_t type 'BCTunnelOutflow' not supported yet.\u001b[0m\n",
      "\u001b[0m\u001b[33m2025-03-27 06:49:20.241 (   6.251s) [    77115417B740]      vtkCGNSReader.cxx:4268  WARN| vtkCGNSReader (0x63d100921e20): Skipping BC_t node: BC_t type 'BCInflow' not supported yet.\u001b[0m\n",
      "\u001b[0m\u001b[33m2025-03-27 06:49:20.241 (   6.251s) [    77115417B740]      vtkCGNSReader.cxx:4268  WARN| vtkCGNSReader (0x63d100921e20): Skipping BC_t node: BC_t type 'BCSymmetryPlane' not supported yet.\u001b[0m\n",
      "\u001b[0m\u001b[33m2025-03-27 06:49:20.241 (   6.251s) [    77115417B740]      vtkCGNSReader.cxx:4268  WARN| vtkCGNSReader (0x63d100921e20): Skipping BC_t node: BC_t type 'BCTunnelOutflow' not supported yet.\u001b[0m\n",
      "\u001b[0m\u001b[33m2025-03-27 06:49:20.348 (   6.359s) [    77115417B740]      vtkCGNSReader.cxx:4268  WARN| vtkCGNSReader (0x63d102e89730): Skipping BC_t node: BC_t type 'BCInflow' not supported yet.\u001b[0m\n",
      "\u001b[0m\u001b[33m2025-03-27 06:49:20.348 (   6.359s) [    77115417B740]      vtkCGNSReader.cxx:4268  WARN| vtkCGNSReader (0x63d102e89730): Skipping BC_t node: BC_t type 'BCSymmetryPlane' not supported yet.\u001b[0m\n",
      "\u001b[0m\u001b[33m2025-03-27 06:49:20.348 (   6.359s) [    77115417B740]      vtkCGNSReader.cxx:4268  WARN| vtkCGNSReader (0x63d102e89730): Skipping BC_t node: BC_t type 'BCTunnelOutflow' not supported yet.\u001b[0m\n",
      "\u001b[0m\u001b[33m2025-03-27 06:49:20.452 (   6.462s) [    77115417B740]      vtkCGNSReader.cxx:4268  WARN| vtkCGNSReader (0x63d1038036f0): Skipping BC_t node: BC_t type 'BCInflow' not supported yet.\u001b[0m\n",
      "\u001b[0m\u001b[33m2025-03-27 06:49:20.452 (   6.462s) [    77115417B740]      vtkCGNSReader.cxx:4268  WARN| vtkCGNSReader (0x63d1038036f0): Skipping BC_t node: BC_t type 'BCSymmetryPlane' not supported yet.\u001b[0m\n",
      "\u001b[0m\u001b[33m2025-03-27 06:49:20.452 (   6.462s) [    77115417B740]      vtkCGNSReader.cxx:4268  WARN| vtkCGNSReader (0x63d1038036f0): Skipping BC_t node: BC_t type 'BCTunnelOutflow' not supported yet.\u001b[0m\n",
      "\u001b[0m\u001b[33m2025-03-27 06:49:20.570 (   6.580s) [    77115417B740]      vtkCGNSReader.cxx:4268  WARN| vtkCGNSReader (0x63d1008f3610): Skipping BC_t node: BC_t type 'BCInflow' not supported yet.\u001b[0m\n",
      "\u001b[0m\u001b[33m2025-03-27 06:49:20.570 (   6.580s) [    77115417B740]      vtkCGNSReader.cxx:4268  WARN| vtkCGNSReader (0x63d1008f3610): Skipping BC_t node: BC_t type 'BCSymmetryPlane' not supported yet.\u001b[0m\n",
      "\u001b[0m\u001b[33m2025-03-27 06:49:20.570 (   6.581s) [    77115417B740]      vtkCGNSReader.cxx:4268  WARN| vtkCGNSReader (0x63d1008f3610): Skipping BC_t node: BC_t type 'BCTunnelOutflow' not supported yet.\u001b[0m\n",
      "\u001b[0m\u001b[33m2025-03-27 06:49:20.687 (   6.697s) [    77115417B740]      vtkCGNSReader.cxx:4268  WARN| vtkCGNSReader (0x63d1028fff90): Skipping BC_t node: BC_t type 'BCInflow' not supported yet.\u001b[0m\n",
      "\u001b[0m\u001b[33m2025-03-27 06:49:20.687 (   6.697s) [    77115417B740]      vtkCGNSReader.cxx:4268  WARN| vtkCGNSReader (0x63d1028fff90): Skipping BC_t node: BC_t type 'BCSymmetryPlane' not supported yet.\u001b[0m\n",
      "\u001b[0m\u001b[33m2025-03-27 06:49:20.687 (   6.697s) [    77115417B740]      vtkCGNSReader.cxx:4268  WARN| vtkCGNSReader (0x63d1028fff90): Skipping BC_t node: BC_t type 'BCTunnelOutflow' not supported yet.\u001b[0m\n",
      "\u001b[0m\u001b[33m2025-03-27 06:49:20.792 (   6.802s) [    77115417B740]      vtkCGNSReader.cxx:4268  WARN| vtkCGNSReader (0x63d10a439190): Skipping BC_t node: BC_t type 'BCInflow' not supported yet.\u001b[0m\n",
      "\u001b[0m\u001b[33m2025-03-27 06:49:20.792 (   6.802s) [    77115417B740]      vtkCGNSReader.cxx:4268  WARN| vtkCGNSReader (0x63d10a439190): Skipping BC_t node: BC_t type 'BCSymmetryPlane' not supported yet.\u001b[0m\n",
      "\u001b[0m\u001b[33m2025-03-27 06:49:20.792 (   6.802s) [    77115417B740]      vtkCGNSReader.cxx:4268  WARN| vtkCGNSReader (0x63d10a439190): Skipping BC_t node: BC_t type 'BCTunnelOutflow' not supported yet.\u001b[0m\n",
      "\u001b[0m\u001b[33m2025-03-27 06:49:20.899 (   6.909s) [    77115417B740]      vtkCGNSReader.cxx:4268  WARN| vtkCGNSReader (0x63d1038dd400): Skipping BC_t node: BC_t type 'BCInflow' not supported yet.\u001b[0m\n",
      "\u001b[0m\u001b[33m2025-03-27 06:49:20.899 (   6.909s) [    77115417B740]      vtkCGNSReader.cxx:4268  WARN| vtkCGNSReader (0x63d1038dd400): Skipping BC_t node: BC_t type 'BCSymmetryPlane' not supported yet.\u001b[0m\n",
      "\u001b[0m\u001b[33m2025-03-27 06:49:20.899 (   6.909s) [    77115417B740]      vtkCGNSReader.cxx:4268  WARN| vtkCGNSReader (0x63d1038dd400): Skipping BC_t node: BC_t type 'BCTunnelOutflow' not supported yet.\u001b[0m\n",
      "\u001b[0m\u001b[33m2025-03-27 06:49:21.012 (   7.022s) [    77115417B740]      vtkCGNSReader.cxx:4268  WARN| vtkCGNSReader (0x63d10290e200): Skipping BC_t node: BC_t type 'BCInflow' not supported yet.\u001b[0m\n",
      "\u001b[0m\u001b[33m2025-03-27 06:49:21.012 (   7.022s) [    77115417B740]      vtkCGNSReader.cxx:4268  WARN| vtkCGNSReader (0x63d10290e200): Skipping BC_t node: BC_t type 'BCSymmetryPlane' not supported yet.\u001b[0m\n",
      "\u001b[0m\u001b[33m2025-03-27 06:49:21.012 (   7.022s) [    77115417B740]      vtkCGNSReader.cxx:4268  WARN| vtkCGNSReader (0x63d10290e200): Skipping BC_t node: BC_t type 'BCTunnelOutflow' not supported yet.\u001b[0m\n",
      "\u001b[0m\u001b[33m2025-03-27 06:49:21.123 (   7.133s) [    77115417B740]      vtkCGNSReader.cxx:4268  WARN| vtkCGNSReader (0x63d1009573d0): Skipping BC_t node: BC_t type 'BCInflow' not supported yet.\u001b[0m\n",
      "\u001b[0m\u001b[33m2025-03-27 06:49:21.123 (   7.133s) [    77115417B740]      vtkCGNSReader.cxx:4268  WARN| vtkCGNSReader (0x63d1009573d0): Skipping BC_t node: BC_t type 'BCSymmetryPlane' not supported yet.\u001b[0m\n",
      "\u001b[0m\u001b[33m2025-03-27 06:49:21.123 (   7.133s) [    77115417B740]      vtkCGNSReader.cxx:4268  WARN| vtkCGNSReader (0x63d1009573d0): Skipping BC_t node: BC_t type 'BCTunnelOutflow' not supported yet.\u001b[0m\n",
      "\u001b[0m\u001b[33m2025-03-27 06:49:21.234 (   7.245s) [    77115417B740]      vtkCGNSReader.cxx:4268  WARN| vtkCGNSReader (0x63d10096e8f0): Skipping BC_t node: BC_t type 'BCInflow' not supported yet.\u001b[0m\n",
      "\u001b[0m\u001b[33m2025-03-27 06:49:21.234 (   7.245s) [    77115417B740]      vtkCGNSReader.cxx:4268  WARN| vtkCGNSReader (0x63d10096e8f0): Skipping BC_t node: BC_t type 'BCSymmetryPlane' not supported yet.\u001b[0m\n",
      "\u001b[0m\u001b[33m2025-03-27 06:49:21.234 (   7.245s) [    77115417B740]      vtkCGNSReader.cxx:4268  WARN| vtkCGNSReader (0x63d10096e8f0): Skipping BC_t node: BC_t type 'BCTunnelOutflow' not supported yet.\u001b[0m\n",
      "\u001b[0m\u001b[33m2025-03-27 06:49:21.357 (   7.368s) [    77115417B740]      vtkCGNSReader.cxx:4268  WARN| vtkCGNSReader (0x63d100972b90): Skipping BC_t node: BC_t type 'BCInflow' not supported yet.\u001b[0m\n",
      "\u001b[0m\u001b[33m2025-03-27 06:49:21.357 (   7.368s) [    77115417B740]      vtkCGNSReader.cxx:4268  WARN| vtkCGNSReader (0x63d100972b90): Skipping BC_t node: BC_t type 'BCSymmetryPlane' not supported yet.\u001b[0m\n",
      "\u001b[0m\u001b[33m2025-03-27 06:49:21.357 (   7.368s) [    77115417B740]      vtkCGNSReader.cxx:4268  WARN| vtkCGNSReader (0x63d100972b90): Skipping BC_t node: BC_t type 'BCTunnelOutflow' not supported yet.\u001b[0m\n",
      "\u001b[0m\u001b[33m2025-03-27 06:49:21.470 (   7.480s) [    77115417B740]      vtkCGNSReader.cxx:4268  WARN| vtkCGNSReader (0x63d1029007b0): Skipping BC_t node: BC_t type 'BCInflow' not supported yet.\u001b[0m\n",
      "\u001b[0m\u001b[33m2025-03-27 06:49:21.470 (   7.480s) [    77115417B740]      vtkCGNSReader.cxx:4268  WARN| vtkCGNSReader (0x63d1029007b0): Skipping BC_t node: BC_t type 'BCSymmetryPlane' not supported yet.\u001b[0m\n",
      "\u001b[0m\u001b[33m2025-03-27 06:49:21.470 (   7.480s) [    77115417B740]      vtkCGNSReader.cxx:4268  WARN| vtkCGNSReader (0x63d1029007b0): Skipping BC_t node: BC_t type 'BCTunnelOutflow' not supported yet.\u001b[0m\n",
      "\u001b[0m\u001b[33m2025-03-27 06:49:21.581 (   7.591s) [    77115417B740]      vtkCGNSReader.cxx:4268  WARN| vtkCGNSReader (0x63d10b86d1b0): Skipping BC_t node: BC_t type 'BCInflow' not supported yet.\u001b[0m\n",
      "\u001b[0m\u001b[33m2025-03-27 06:49:21.581 (   7.591s) [    77115417B740]      vtkCGNSReader.cxx:4268  WARN| vtkCGNSReader (0x63d10b86d1b0): Skipping BC_t node: BC_t type 'BCSymmetryPlane' not supported yet.\u001b[0m\n",
      "\u001b[0m\u001b[33m2025-03-27 06:49:21.581 (   7.591s) [    77115417B740]      vtkCGNSReader.cxx:4268  WARN| vtkCGNSReader (0x63d10b86d1b0): Skipping BC_t node: BC_t type 'BCTunnelOutflow' not supported yet.\u001b[0m\n",
      "\u001b[0m\u001b[33m2025-03-27 06:49:21.694 (   7.704s) [    77115417B740]      vtkCGNSReader.cxx:4268  WARN| vtkCGNSReader (0x63d107530050): Skipping BC_t node: BC_t type 'BCInflow' not supported yet.\u001b[0m\n",
      "\u001b[0m\u001b[33m2025-03-27 06:49:21.694 (   7.704s) [    77115417B740]      vtkCGNSReader.cxx:4268  WARN| vtkCGNSReader (0x63d107530050): Skipping BC_t node: BC_t type 'BCSymmetryPlane' not supported yet.\u001b[0m\n",
      "\u001b[0m\u001b[33m2025-03-27 06:49:21.694 (   7.704s) [    77115417B740]      vtkCGNSReader.cxx:4268  WARN| vtkCGNSReader (0x63d107530050): Skipping BC_t node: BC_t type 'BCTunnelOutflow' not supported yet.\u001b[0m\n",
      "\u001b[0m\u001b[33m2025-03-27 06:49:21.804 (   7.815s) [    77115417B740]      vtkCGNSReader.cxx:4268  WARN| vtkCGNSReader (0x63d1008e2cf0): Skipping BC_t node: BC_t type 'BCInflow' not supported yet.\u001b[0m\n",
      "\u001b[0m\u001b[33m2025-03-27 06:49:21.804 (   7.815s) [    77115417B740]      vtkCGNSReader.cxx:4268  WARN| vtkCGNSReader (0x63d1008e2cf0): Skipping BC_t node: BC_t type 'BCSymmetryPlane' not supported yet.\u001b[0m\n",
      "\u001b[0m\u001b[33m2025-03-27 06:49:21.804 (   7.815s) [    77115417B740]      vtkCGNSReader.cxx:4268  WARN| vtkCGNSReader (0x63d1008e2cf0): Skipping BC_t node: BC_t type 'BCTunnelOutflow' not supported yet.\u001b[0m\n",
      "\u001b[0m\u001b[33m2025-03-27 06:49:21.924 (   7.934s) [    77115417B740]      vtkCGNSReader.cxx:4268  WARN| vtkCGNSReader (0x63d104406190): Skipping BC_t node: BC_t type 'BCInflow' not supported yet.\u001b[0m\n",
      "\u001b[0m\u001b[33m2025-03-27 06:49:21.924 (   7.934s) [    77115417B740]      vtkCGNSReader.cxx:4268  WARN| vtkCGNSReader (0x63d104406190): Skipping BC_t node: BC_t type 'BCSymmetryPlane' not supported yet.\u001b[0m\n",
      "\u001b[0m\u001b[33m2025-03-27 06:49:21.924 (   7.934s) [    77115417B740]      vtkCGNSReader.cxx:4268  WARN| vtkCGNSReader (0x63d104406190): Skipping BC_t node: BC_t type 'BCTunnelOutflow' not supported yet.\u001b[0m\n",
      "\u001b[0m\u001b[33m2025-03-27 06:49:22.032 (   8.043s) [    77115417B740]      vtkCGNSReader.cxx:4268  WARN| vtkCGNSReader (0x63d10097e000): Skipping BC_t node: BC_t type 'BCInflow' not supported yet.\u001b[0m\n",
      "\u001b[0m\u001b[33m2025-03-27 06:49:22.032 (   8.043s) [    77115417B740]      vtkCGNSReader.cxx:4268  WARN| vtkCGNSReader (0x63d10097e000): Skipping BC_t node: BC_t type 'BCSymmetryPlane' not supported yet.\u001b[0m\n",
      "\u001b[0m\u001b[33m2025-03-27 06:49:22.032 (   8.043s) [    77115417B740]      vtkCGNSReader.cxx:4268  WARN| vtkCGNSReader (0x63d10097e000): Skipping BC_t node: BC_t type 'BCTunnelOutflow' not supported yet.\u001b[0m\n",
      "\u001b[0m\u001b[33m2025-03-27 06:49:22.139 (   8.150s) [    77115417B740]      vtkCGNSReader.cxx:4268  WARN| vtkCGNSReader (0x63d102ad02d0): Skipping BC_t node: BC_t type 'BCInflow' not supported yet.\u001b[0m\n",
      "\u001b[0m\u001b[33m2025-03-27 06:49:22.139 (   8.150s) [    77115417B740]      vtkCGNSReader.cxx:4268  WARN| vtkCGNSReader (0x63d102ad02d0): Skipping BC_t node: BC_t type 'BCSymmetryPlane' not supported yet.\u001b[0m\n",
      "\u001b[0m\u001b[33m2025-03-27 06:49:22.139 (   8.150s) [    77115417B740]      vtkCGNSReader.cxx:4268  WARN| vtkCGNSReader (0x63d102ad02d0): Skipping BC_t node: BC_t type 'BCTunnelOutflow' not supported yet.\u001b[0m\n",
      "\u001b[0m\u001b[33m2025-03-27 06:49:22.249 (   8.259s) [    77115417B740]      vtkCGNSReader.cxx:4268  WARN| vtkCGNSReader (0x63d107524620): Skipping BC_t node: BC_t type 'BCInflow' not supported yet.\u001b[0m\n",
      "\u001b[0m\u001b[33m2025-03-27 06:49:22.249 (   8.259s) [    77115417B740]      vtkCGNSReader.cxx:4268  WARN| vtkCGNSReader (0x63d107524620): Skipping BC_t node: BC_t type 'BCSymmetryPlane' not supported yet.\u001b[0m\n",
      "\u001b[0m\u001b[33m2025-03-27 06:49:22.249 (   8.259s) [    77115417B740]      vtkCGNSReader.cxx:4268  WARN| vtkCGNSReader (0x63d107524620): Skipping BC_t node: BC_t type 'BCTunnelOutflow' not supported yet.\u001b[0m\n",
      "\u001b[0m\u001b[33m2025-03-27 06:49:22.368 (   8.378s) [    77115417B740]      vtkCGNSReader.cxx:4268  WARN| vtkCGNSReader (0x63d105e736a0): Skipping BC_t node: BC_t type 'BCInflow' not supported yet.\u001b[0m\n",
      "\u001b[0m\u001b[33m2025-03-27 06:49:22.368 (   8.378s) [    77115417B740]      vtkCGNSReader.cxx:4268  WARN| vtkCGNSReader (0x63d105e736a0): Skipping BC_t node: BC_t type 'BCSymmetryPlane' not supported yet.\u001b[0m\n",
      "\u001b[0m\u001b[33m2025-03-27 06:49:22.368 (   8.378s) [    77115417B740]      vtkCGNSReader.cxx:4268  WARN| vtkCGNSReader (0x63d105e736a0): Skipping BC_t node: BC_t type 'BCTunnelOutflow' not supported yet.\u001b[0m\n",
      "\u001b[0m\u001b[33m2025-03-27 06:49:22.470 (   8.481s) [    77115417B740]      vtkCGNSReader.cxx:4268  WARN| vtkCGNSReader (0x63d103801620): Skipping BC_t node: BC_t type 'BCInflow' not supported yet.\u001b[0m\n",
      "\u001b[0m\u001b[33m2025-03-27 06:49:22.470 (   8.481s) [    77115417B740]      vtkCGNSReader.cxx:4268  WARN| vtkCGNSReader (0x63d103801620): Skipping BC_t node: BC_t type 'BCSymmetryPlane' not supported yet.\u001b[0m\n",
      "\u001b[0m\u001b[33m2025-03-27 06:49:22.471 (   8.481s) [    77115417B740]      vtkCGNSReader.cxx:4268  WARN| vtkCGNSReader (0x63d103801620): Skipping BC_t node: BC_t type 'BCTunnelOutflow' not supported yet.\u001b[0m\n",
      "\u001b[0m\u001b[33m2025-03-27 06:49:22.576 (   8.587s) [    77115417B740]      vtkCGNSReader.cxx:4268  WARN| vtkCGNSReader (0x63d119e05080): Skipping BC_t node: BC_t type 'BCInflow' not supported yet.\u001b[0m\n",
      "\u001b[0m\u001b[33m2025-03-27 06:49:22.576 (   8.587s) [    77115417B740]      vtkCGNSReader.cxx:4268  WARN| vtkCGNSReader (0x63d119e05080): Skipping BC_t node: BC_t type 'BCSymmetryPlane' not supported yet.\u001b[0m\n",
      "\u001b[0m\u001b[33m2025-03-27 06:49:22.576 (   8.587s) [    77115417B740]      vtkCGNSReader.cxx:4268  WARN| vtkCGNSReader (0x63d119e05080): Skipping BC_t node: BC_t type 'BCTunnelOutflow' not supported yet.\u001b[0m\n",
      "\u001b[0m\u001b[33m2025-03-27 06:49:22.691 (   8.701s) [    77115417B740]      vtkCGNSReader.cxx:4268  WARN| vtkCGNSReader (0x63d10290e290): Skipping BC_t node: BC_t type 'BCInflow' not supported yet.\u001b[0m\n",
      "\u001b[0m\u001b[33m2025-03-27 06:49:22.691 (   8.701s) [    77115417B740]      vtkCGNSReader.cxx:4268  WARN| vtkCGNSReader (0x63d10290e290): Skipping BC_t node: BC_t type 'BCSymmetryPlane' not supported yet.\u001b[0m\n",
      "\u001b[0m\u001b[33m2025-03-27 06:49:22.691 (   8.701s) [    77115417B740]      vtkCGNSReader.cxx:4268  WARN| vtkCGNSReader (0x63d10290e290): Skipping BC_t node: BC_t type 'BCTunnelOutflow' not supported yet.\u001b[0m\n",
      "\u001b[0m\u001b[33m2025-03-27 06:49:22.795 (   8.806s) [    77115417B740]      vtkCGNSReader.cxx:4268  WARN| vtkCGNSReader (0x63d100994550): Skipping BC_t node: BC_t type 'BCInflow' not supported yet.\u001b[0m\n",
      "\u001b[0m\u001b[33m2025-03-27 06:49:22.795 (   8.806s) [    77115417B740]      vtkCGNSReader.cxx:4268  WARN| vtkCGNSReader (0x63d100994550): Skipping BC_t node: BC_t type 'BCSymmetryPlane' not supported yet.\u001b[0m\n",
      "\u001b[0m\u001b[33m2025-03-27 06:49:22.795 (   8.806s) [    77115417B740]      vtkCGNSReader.cxx:4268  WARN| vtkCGNSReader (0x63d100994550): Skipping BC_t node: BC_t type 'BCTunnelOutflow' not supported yet.\u001b[0m\n",
      "\u001b[0m\u001b[33m2025-03-27 06:49:22.903 (   8.914s) [    77115417B740]      vtkCGNSReader.cxx:4268  WARN| vtkCGNSReader (0x63d10098a9a0): Skipping BC_t node: BC_t type 'BCInflow' not supported yet.\u001b[0m\n",
      "\u001b[0m\u001b[33m2025-03-27 06:49:22.903 (   8.914s) [    77115417B740]      vtkCGNSReader.cxx:4268  WARN| vtkCGNSReader (0x63d10098a9a0): Skipping BC_t node: BC_t type 'BCSymmetryPlane' not supported yet.\u001b[0m\n",
      "\u001b[0m\u001b[33m2025-03-27 06:49:22.903 (   8.914s) [    77115417B740]      vtkCGNSReader.cxx:4268  WARN| vtkCGNSReader (0x63d10098a9a0): Skipping BC_t node: BC_t type 'BCTunnelOutflow' not supported yet.\u001b[0m\n",
      "\u001b[0m\u001b[33m2025-03-27 06:49:23.025 (   9.035s) [    77115417B740]      vtkCGNSReader.cxx:4268  WARN| vtkCGNSReader (0x63d1136b7170): Skipping BC_t node: BC_t type 'BCInflow' not supported yet.\u001b[0m\n",
      "\u001b[0m\u001b[33m2025-03-27 06:49:23.025 (   9.035s) [    77115417B740]      vtkCGNSReader.cxx:4268  WARN| vtkCGNSReader (0x63d1136b7170): Skipping BC_t node: BC_t type 'BCSymmetryPlane' not supported yet.\u001b[0m\n",
      "\u001b[0m\u001b[33m2025-03-27 06:49:23.025 (   9.035s) [    77115417B740]      vtkCGNSReader.cxx:4268  WARN| vtkCGNSReader (0x63d1136b7170): Skipping BC_t node: BC_t type 'BCTunnelOutflow' not supported yet.\u001b[0m\n",
      "\u001b[0m\u001b[33m2025-03-27 06:49:23.144 (   9.155s) [    77115417B740]      vtkCGNSReader.cxx:4268  WARN| vtkCGNSReader (0x63d105677260): Skipping BC_t node: BC_t type 'BCInflow' not supported yet.\u001b[0m\n",
      "\u001b[0m\u001b[33m2025-03-27 06:49:23.144 (   9.155s) [    77115417B740]      vtkCGNSReader.cxx:4268  WARN| vtkCGNSReader (0x63d105677260): Skipping BC_t node: BC_t type 'BCSymmetryPlane' not supported yet.\u001b[0m\n",
      "\u001b[0m\u001b[33m2025-03-27 06:49:23.144 (   9.155s) [    77115417B740]      vtkCGNSReader.cxx:4268  WARN| vtkCGNSReader (0x63d105677260): Skipping BC_t node: BC_t type 'BCTunnelOutflow' not supported yet.\u001b[0m\n",
      "\u001b[0m\u001b[33m2025-03-27 06:49:23.260 (   9.270s) [    77115417B740]      vtkCGNSReader.cxx:4268  WARN| vtkCGNSReader (0x63d1009193c0): Skipping BC_t node: BC_t type 'BCInflow' not supported yet.\u001b[0m\n",
      "\u001b[0m\u001b[33m2025-03-27 06:49:23.260 (   9.271s) [    77115417B740]      vtkCGNSReader.cxx:4268  WARN| vtkCGNSReader (0x63d1009193c0): Skipping BC_t node: BC_t type 'BCSymmetryPlane' not supported yet.\u001b[0m\n",
      "\u001b[0m\u001b[33m2025-03-27 06:49:23.260 (   9.271s) [    77115417B740]      vtkCGNSReader.cxx:4268  WARN| vtkCGNSReader (0x63d1009193c0): Skipping BC_t node: BC_t type 'BCTunnelOutflow' not supported yet.\u001b[0m\n",
      "\u001b[0m\u001b[33m2025-03-27 06:49:23.362 (   9.372s) [    77115417B740]      vtkCGNSReader.cxx:4268  WARN| vtkCGNSReader (0x63d119e02a90): Skipping BC_t node: BC_t type 'BCInflow' not supported yet.\u001b[0m\n",
      "\u001b[0m\u001b[33m2025-03-27 06:49:23.362 (   9.372s) [    77115417B740]      vtkCGNSReader.cxx:4268  WARN| vtkCGNSReader (0x63d119e02a90): Skipping BC_t node: BC_t type 'BCSymmetryPlane' not supported yet.\u001b[0m\n",
      "\u001b[0m\u001b[33m2025-03-27 06:49:23.362 (   9.372s) [    77115417B740]      vtkCGNSReader.cxx:4268  WARN| vtkCGNSReader (0x63d119e02a90): Skipping BC_t node: BC_t type 'BCTunnelOutflow' not supported yet.\u001b[0m\n",
      "\u001b[0m\u001b[33m2025-03-27 06:49:23.480 (   9.491s) [    77115417B740]      vtkCGNSReader.cxx:4268  WARN| vtkCGNSReader (0x63d10094f3f0): Skipping BC_t node: BC_t type 'BCInflow' not supported yet.\u001b[0m\n",
      "\u001b[0m\u001b[33m2025-03-27 06:49:23.480 (   9.491s) [    77115417B740]      vtkCGNSReader.cxx:4268  WARN| vtkCGNSReader (0x63d10094f3f0): Skipping BC_t node: BC_t type 'BCSymmetryPlane' not supported yet.\u001b[0m\n",
      "\u001b[0m\u001b[33m2025-03-27 06:49:23.480 (   9.491s) [    77115417B740]      vtkCGNSReader.cxx:4268  WARN| vtkCGNSReader (0x63d10094f3f0): Skipping BC_t node: BC_t type 'BCTunnelOutflow' not supported yet.\u001b[0m\n",
      "\u001b[0m\u001b[33m2025-03-27 06:49:23.596 (   9.606s) [    77115417B740]      vtkCGNSReader.cxx:4268  WARN| vtkCGNSReader (0x63d12e3f0110): Skipping BC_t node: BC_t type 'BCInflow' not supported yet.\u001b[0m\n",
      "\u001b[0m\u001b[33m2025-03-27 06:49:23.596 (   9.606s) [    77115417B740]      vtkCGNSReader.cxx:4268  WARN| vtkCGNSReader (0x63d12e3f0110): Skipping BC_t node: BC_t type 'BCSymmetryPlane' not supported yet.\u001b[0m\n",
      "\u001b[0m\u001b[33m2025-03-27 06:49:23.596 (   9.607s) [    77115417B740]      vtkCGNSReader.cxx:4268  WARN| vtkCGNSReader (0x63d12e3f0110): Skipping BC_t node: BC_t type 'BCTunnelOutflow' not supported yet.\u001b[0m\n",
      "\u001b[0m\u001b[33m2025-03-27 06:49:23.713 (   9.724s) [    77115417B740]      vtkCGNSReader.cxx:4268  WARN| vtkCGNSReader (0x63d12bbe5ea0): Skipping BC_t node: BC_t type 'BCInflow' not supported yet.\u001b[0m\n",
      "\u001b[0m\u001b[33m2025-03-27 06:49:23.713 (   9.724s) [    77115417B740]      vtkCGNSReader.cxx:4268  WARN| vtkCGNSReader (0x63d12bbe5ea0): Skipping BC_t node: BC_t type 'BCSymmetryPlane' not supported yet.\u001b[0m\n",
      "\u001b[0m\u001b[33m2025-03-27 06:49:23.713 (   9.724s) [    77115417B740]      vtkCGNSReader.cxx:4268  WARN| vtkCGNSReader (0x63d12bbe5ea0): Skipping BC_t node: BC_t type 'BCTunnelOutflow' not supported yet.\u001b[0m\n",
      "\u001b[0m\u001b[33m2025-03-27 06:49:23.828 (   9.839s) [    77115417B740]      vtkCGNSReader.cxx:4268  WARN| vtkCGNSReader (0x63d114b73ad0): Skipping BC_t node: BC_t type 'BCInflow' not supported yet.\u001b[0m\n",
      "\u001b[0m\u001b[33m2025-03-27 06:49:23.828 (   9.839s) [    77115417B740]      vtkCGNSReader.cxx:4268  WARN| vtkCGNSReader (0x63d114b73ad0): Skipping BC_t node: BC_t type 'BCSymmetryPlane' not supported yet.\u001b[0m\n",
      "\u001b[0m\u001b[33m2025-03-27 06:49:23.828 (   9.839s) [    77115417B740]      vtkCGNSReader.cxx:4268  WARN| vtkCGNSReader (0x63d114b73ad0): Skipping BC_t node: BC_t type 'BCTunnelOutflow' not supported yet.\u001b[0m\n",
      "\u001b[0m\u001b[33m2025-03-27 06:49:23.937 (   9.947s) [    77115417B740]      vtkCGNSReader.cxx:4268  WARN| vtkCGNSReader (0x63d100960cb0): Skipping BC_t node: BC_t type 'BCInflow' not supported yet.\u001b[0m\n",
      "\u001b[0m\u001b[33m2025-03-27 06:49:23.937 (   9.948s) [    77115417B740]      vtkCGNSReader.cxx:4268  WARN| vtkCGNSReader (0x63d100960cb0): Skipping BC_t node: BC_t type 'BCSymmetryPlane' not supported yet.\u001b[0m\n",
      "\u001b[0m\u001b[33m2025-03-27 06:49:23.937 (   9.948s) [    77115417B740]      vtkCGNSReader.cxx:4268  WARN| vtkCGNSReader (0x63d100960cb0): Skipping BC_t node: BC_t type 'BCTunnelOutflow' not supported yet.\u001b[0m\n",
      "\u001b[0m\u001b[33m2025-03-27 06:49:24.054 (  10.064s) [    77115417B740]      vtkCGNSReader.cxx:4268  WARN| vtkCGNSReader (0x63d1008ee050): Skipping BC_t node: BC_t type 'BCInflow' not supported yet.\u001b[0m\n",
      "\u001b[0m\u001b[33m2025-03-27 06:49:24.054 (  10.064s) [    77115417B740]      vtkCGNSReader.cxx:4268  WARN| vtkCGNSReader (0x63d1008ee050): Skipping BC_t node: BC_t type 'BCSymmetryPlane' not supported yet.\u001b[0m\n",
      "\u001b[0m\u001b[33m2025-03-27 06:49:24.054 (  10.064s) [    77115417B740]      vtkCGNSReader.cxx:4268  WARN| vtkCGNSReader (0x63d1008ee050): Skipping BC_t node: BC_t type 'BCTunnelOutflow' not supported yet.\u001b[0m\n",
      "\u001b[0m\u001b[33m2025-03-27 06:49:24.162 (  10.172s) [    77115417B740]      vtkCGNSReader.cxx:4268  WARN| vtkCGNSReader (0x63d10095fcb0): Skipping BC_t node: BC_t type 'BCInflow' not supported yet.\u001b[0m\n",
      "\u001b[0m\u001b[33m2025-03-27 06:49:24.162 (  10.172s) [    77115417B740]      vtkCGNSReader.cxx:4268  WARN| vtkCGNSReader (0x63d10095fcb0): Skipping BC_t node: BC_t type 'BCSymmetryPlane' not supported yet.\u001b[0m\n",
      "\u001b[0m\u001b[33m2025-03-27 06:49:24.162 (  10.172s) [    77115417B740]      vtkCGNSReader.cxx:4268  WARN| vtkCGNSReader (0x63d10095fcb0): Skipping BC_t node: BC_t type 'BCTunnelOutflow' not supported yet.\u001b[0m\n",
      "\u001b[0m\u001b[33m2025-03-27 06:49:24.292 (  10.302s) [    77115417B740]      vtkCGNSReader.cxx:4268  WARN| vtkCGNSReader (0x63d10092a880): Skipping BC_t node: BC_t type 'BCInflow' not supported yet.\u001b[0m\n",
      "\u001b[0m\u001b[33m2025-03-27 06:49:24.292 (  10.303s) [    77115417B740]      vtkCGNSReader.cxx:4268  WARN| vtkCGNSReader (0x63d10092a880): Skipping BC_t node: BC_t type 'BCSymmetryPlane' not supported yet.\u001b[0m\n",
      "\u001b[0m\u001b[33m2025-03-27 06:49:24.292 (  10.303s) [    77115417B740]      vtkCGNSReader.cxx:4268  WARN| vtkCGNSReader (0x63d10092a880): Skipping BC_t node: BC_t type 'BCTunnelOutflow' not supported yet.\u001b[0m\n",
      "\u001b[0m\u001b[33m2025-03-27 06:49:24.410 (  10.420s) [    77115417B740]      vtkCGNSReader.cxx:4268  WARN| vtkCGNSReader (0x63d10751ec50): Skipping BC_t node: BC_t type 'BCInflow' not supported yet.\u001b[0m\n",
      "\u001b[0m\u001b[33m2025-03-27 06:49:24.410 (  10.420s) [    77115417B740]      vtkCGNSReader.cxx:4268  WARN| vtkCGNSReader (0x63d10751ec50): Skipping BC_t node: BC_t type 'BCSymmetryPlane' not supported yet.\u001b[0m\n",
      "\u001b[0m\u001b[33m2025-03-27 06:49:24.410 (  10.420s) [    77115417B740]      vtkCGNSReader.cxx:4268  WARN| vtkCGNSReader (0x63d10751ec50): Skipping BC_t node: BC_t type 'BCTunnelOutflow' not supported yet.\u001b[0m\n",
      "\u001b[0m\u001b[33m2025-03-27 06:49:24.510 (  10.521s) [    77115417B740]      vtkCGNSReader.cxx:4268  WARN| vtkCGNSReader (0x63d125564720): Skipping BC_t node: BC_t type 'BCInflow' not supported yet.\u001b[0m\n",
      "\u001b[0m\u001b[33m2025-03-27 06:49:24.511 (  10.521s) [    77115417B740]      vtkCGNSReader.cxx:4268  WARN| vtkCGNSReader (0x63d125564720): Skipping BC_t node: BC_t type 'BCSymmetryPlane' not supported yet.\u001b[0m\n",
      "\u001b[0m\u001b[33m2025-03-27 06:49:24.511 (  10.521s) [    77115417B740]      vtkCGNSReader.cxx:4268  WARN| vtkCGNSReader (0x63d125564720): Skipping BC_t node: BC_t type 'BCTunnelOutflow' not supported yet.\u001b[0m\n",
      "\u001b[0m\u001b[33m2025-03-27 06:49:24.615 (  10.626s) [    77115417B740]      vtkCGNSReader.cxx:4268  WARN| vtkCGNSReader (0x63d10564a0d0): Skipping BC_t node: BC_t type 'BCInflow' not supported yet.\u001b[0m\n",
      "\u001b[0m\u001b[33m2025-03-27 06:49:24.615 (  10.626s) [    77115417B740]      vtkCGNSReader.cxx:4268  WARN| vtkCGNSReader (0x63d10564a0d0): Skipping BC_t node: BC_t type 'BCSymmetryPlane' not supported yet.\u001b[0m\n",
      "\u001b[0m\u001b[33m2025-03-27 06:49:24.615 (  10.626s) [    77115417B740]      vtkCGNSReader.cxx:4268  WARN| vtkCGNSReader (0x63d10564a0d0): Skipping BC_t node: BC_t type 'BCTunnelOutflow' not supported yet.\u001b[0m\n",
      "\u001b[0m\u001b[33m2025-03-27 06:49:24.732 (  10.742s) [    77115417B740]      vtkCGNSReader.cxx:4268  WARN| vtkCGNSReader (0x63d102e86020): Skipping BC_t node: BC_t type 'BCInflow' not supported yet.\u001b[0m\n",
      "\u001b[0m\u001b[33m2025-03-27 06:49:24.732 (  10.742s) [    77115417B740]      vtkCGNSReader.cxx:4268  WARN| vtkCGNSReader (0x63d102e86020): Skipping BC_t node: BC_t type 'BCSymmetryPlane' not supported yet.\u001b[0m\n",
      "\u001b[0m\u001b[33m2025-03-27 06:49:24.732 (  10.742s) [    77115417B740]      vtkCGNSReader.cxx:4268  WARN| vtkCGNSReader (0x63d102e86020): Skipping BC_t node: BC_t type 'BCTunnelOutflow' not supported yet.\u001b[0m\n",
      "\u001b[0m\u001b[33m2025-03-27 06:49:24.840 (  10.851s) [    77115417B740]      vtkCGNSReader.cxx:4268  WARN| vtkCGNSReader (0x63d107520610): Skipping BC_t node: BC_t type 'BCInflow' not supported yet.\u001b[0m\n",
      "\u001b[0m\u001b[33m2025-03-27 06:49:24.840 (  10.851s) [    77115417B740]      vtkCGNSReader.cxx:4268  WARN| vtkCGNSReader (0x63d107520610): Skipping BC_t node: BC_t type 'BCSymmetryPlane' not supported yet.\u001b[0m\n",
      "\u001b[0m\u001b[33m2025-03-27 06:49:24.840 (  10.851s) [    77115417B740]      vtkCGNSReader.cxx:4268  WARN| vtkCGNSReader (0x63d107520610): Skipping BC_t node: BC_t type 'BCTunnelOutflow' not supported yet.\u001b[0m\n",
      "\u001b[0m\u001b[33m2025-03-27 06:49:24.957 (  10.967s) [    77115417B740]      vtkCGNSReader.cxx:4268  WARN| vtkCGNSReader (0x63d103887810): Skipping BC_t node: BC_t type 'BCInflow' not supported yet.\u001b[0m\n",
      "\u001b[0m\u001b[33m2025-03-27 06:49:24.957 (  10.967s) [    77115417B740]      vtkCGNSReader.cxx:4268  WARN| vtkCGNSReader (0x63d103887810): Skipping BC_t node: BC_t type 'BCSymmetryPlane' not supported yet.\u001b[0m\n",
      "\u001b[0m\u001b[33m2025-03-27 06:49:24.957 (  10.967s) [    77115417B740]      vtkCGNSReader.cxx:4268  WARN| vtkCGNSReader (0x63d103887810): Skipping BC_t node: BC_t type 'BCTunnelOutflow' not supported yet.\u001b[0m\n",
      "\u001b[0m\u001b[33m2025-03-27 06:49:25.064 (  11.075s) [    77115417B740]      vtkCGNSReader.cxx:4268  WARN| vtkCGNSReader (0x63d114b6d1c0): Skipping BC_t node: BC_t type 'BCInflow' not supported yet.\u001b[0m\n",
      "\u001b[0m\u001b[33m2025-03-27 06:49:25.064 (  11.075s) [    77115417B740]      vtkCGNSReader.cxx:4268  WARN| vtkCGNSReader (0x63d114b6d1c0): Skipping BC_t node: BC_t type 'BCSymmetryPlane' not supported yet.\u001b[0m\n",
      "\u001b[0m\u001b[33m2025-03-27 06:49:25.064 (  11.075s) [    77115417B740]      vtkCGNSReader.cxx:4268  WARN| vtkCGNSReader (0x63d114b6d1c0): Skipping BC_t node: BC_t type 'BCTunnelOutflow' not supported yet.\u001b[0m\n",
      "\u001b[0m\u001b[33m2025-03-27 06:49:25.163 (  11.174s) [    77115417B740]      vtkCGNSReader.cxx:4268  WARN| vtkCGNSReader (0x63d10097f8f0): Skipping BC_t node: BC_t type 'BCInflow' not supported yet.\u001b[0m\n",
      "\u001b[0m\u001b[33m2025-03-27 06:49:25.163 (  11.174s) [    77115417B740]      vtkCGNSReader.cxx:4268  WARN| vtkCGNSReader (0x63d10097f8f0): Skipping BC_t node: BC_t type 'BCSymmetryPlane' not supported yet.\u001b[0m\n",
      "\u001b[0m\u001b[33m2025-03-27 06:49:25.163 (  11.174s) [    77115417B740]      vtkCGNSReader.cxx:4268  WARN| vtkCGNSReader (0x63d10097f8f0): Skipping BC_t node: BC_t type 'BCTunnelOutflow' not supported yet.\u001b[0m\n",
      "\u001b[0m\u001b[33m2025-03-27 06:49:25.281 (  11.292s) [    77115417B740]      vtkCGNSReader.cxx:4268  WARN| vtkCGNSReader (0x63d13201eab0): Skipping BC_t node: BC_t type 'BCInflow' not supported yet.\u001b[0m\n",
      "\u001b[0m\u001b[33m2025-03-27 06:49:25.282 (  11.292s) [    77115417B740]      vtkCGNSReader.cxx:4268  WARN| vtkCGNSReader (0x63d13201eab0): Skipping BC_t node: BC_t type 'BCSymmetryPlane' not supported yet.\u001b[0m\n",
      "\u001b[0m\u001b[33m2025-03-27 06:49:25.282 (  11.292s) [    77115417B740]      vtkCGNSReader.cxx:4268  WARN| vtkCGNSReader (0x63d13201eab0): Skipping BC_t node: BC_t type 'BCTunnelOutflow' not supported yet.\u001b[0m\n",
      "\u001b[0m\u001b[33m2025-03-27 06:49:25.405 (  11.416s) [    77115417B740]      vtkCGNSReader.cxx:4268  WARN| vtkCGNSReader (0x63d100941230): Skipping BC_t node: BC_t type 'BCInflow' not supported yet.\u001b[0m\n",
      "\u001b[0m\u001b[33m2025-03-27 06:49:25.405 (  11.416s) [    77115417B740]      vtkCGNSReader.cxx:4268  WARN| vtkCGNSReader (0x63d100941230): Skipping BC_t node: BC_t type 'BCSymmetryPlane' not supported yet.\u001b[0m\n",
      "\u001b[0m\u001b[33m2025-03-27 06:49:25.405 (  11.416s) [    77115417B740]      vtkCGNSReader.cxx:4268  WARN| vtkCGNSReader (0x63d100941230): Skipping BC_t node: BC_t type 'BCTunnelOutflow' not supported yet.\u001b[0m\n",
      "\u001b[0m\u001b[33m2025-03-27 06:49:25.507 (  11.518s) [    77115417B740]      vtkCGNSReader.cxx:4268  WARN| vtkCGNSReader (0x63d10095fd20): Skipping BC_t node: BC_t type 'BCInflow' not supported yet.\u001b[0m\n",
      "\u001b[0m\u001b[33m2025-03-27 06:49:25.507 (  11.518s) [    77115417B740]      vtkCGNSReader.cxx:4268  WARN| vtkCGNSReader (0x63d10095fd20): Skipping BC_t node: BC_t type 'BCSymmetryPlane' not supported yet.\u001b[0m\n",
      "\u001b[0m\u001b[33m2025-03-27 06:49:25.507 (  11.518s) [    77115417B740]      vtkCGNSReader.cxx:4268  WARN| vtkCGNSReader (0x63d10095fd20): Skipping BC_t node: BC_t type 'BCTunnelOutflow' not supported yet.\u001b[0m\n",
      "\u001b[0m\u001b[33m2025-03-27 06:49:25.617 (  11.627s) [    77115417B740]      vtkCGNSReader.cxx:4268  WARN| vtkCGNSReader (0x63d1008f4470): Skipping BC_t node: BC_t type 'BCInflow' not supported yet.\u001b[0m\n",
      "\u001b[0m\u001b[33m2025-03-27 06:49:25.617 (  11.627s) [    77115417B740]      vtkCGNSReader.cxx:4268  WARN| vtkCGNSReader (0x63d1008f4470): Skipping BC_t node: BC_t type 'BCSymmetryPlane' not supported yet.\u001b[0m\n",
      "\u001b[0m\u001b[33m2025-03-27 06:49:25.617 (  11.627s) [    77115417B740]      vtkCGNSReader.cxx:4268  WARN| vtkCGNSReader (0x63d1008f4470): Skipping BC_t node: BC_t type 'BCTunnelOutflow' not supported yet.\u001b[0m\n",
      "\u001b[0m\u001b[33m2025-03-27 06:49:25.763 (  11.774s) [    77115417B740]      vtkCGNSReader.cxx:4268  WARN| vtkCGNSReader (0x63d100935e50): Skipping BC_t node: BC_t type 'BCInflow' not supported yet.\u001b[0m\n",
      "\u001b[0m\u001b[33m2025-03-27 06:49:25.763 (  11.774s) [    77115417B740]      vtkCGNSReader.cxx:4268  WARN| vtkCGNSReader (0x63d100935e50): Skipping BC_t node: BC_t type 'BCSymmetryPlane' not supported yet.\u001b[0m\n",
      "\u001b[0m\u001b[33m2025-03-27 06:49:25.763 (  11.774s) [    77115417B740]      vtkCGNSReader.cxx:4268  WARN| vtkCGNSReader (0x63d100935e50): Skipping BC_t node: BC_t type 'BCTunnelOutflow' not supported yet.\u001b[0m\n",
      "\u001b[0m\u001b[33m2025-03-27 06:49:25.879 (  11.890s) [    77115417B740]      vtkCGNSReader.cxx:4268  WARN| vtkCGNSReader (0x63d100929ee0): Skipping BC_t node: BC_t type 'BCInflow' not supported yet.\u001b[0m\n",
      "\u001b[0m\u001b[33m2025-03-27 06:49:25.879 (  11.890s) [    77115417B740]      vtkCGNSReader.cxx:4268  WARN| vtkCGNSReader (0x63d100929ee0): Skipping BC_t node: BC_t type 'BCSymmetryPlane' not supported yet.\u001b[0m\n",
      "\u001b[0m\u001b[33m2025-03-27 06:49:25.879 (  11.890s) [    77115417B740]      vtkCGNSReader.cxx:4268  WARN| vtkCGNSReader (0x63d100929ee0): Skipping BC_t node: BC_t type 'BCTunnelOutflow' not supported yet.\u001b[0m\n",
      "\u001b[0m\u001b[33m2025-03-27 06:49:26.000 (  12.010s) [    77115417B740]      vtkCGNSReader.cxx:4268  WARN| vtkCGNSReader (0x63d100959cf0): Skipping BC_t node: BC_t type 'BCInflow' not supported yet.\u001b[0m\n",
      "\u001b[0m\u001b[33m2025-03-27 06:49:26.000 (  12.010s) [    77115417B740]      vtkCGNSReader.cxx:4268  WARN| vtkCGNSReader (0x63d100959cf0): Skipping BC_t node: BC_t type 'BCSymmetryPlane' not supported yet.\u001b[0m\n",
      "\u001b[0m\u001b[33m2025-03-27 06:49:26.000 (  12.010s) [    77115417B740]      vtkCGNSReader.cxx:4268  WARN| vtkCGNSReader (0x63d100959cf0): Skipping BC_t node: BC_t type 'BCTunnelOutflow' not supported yet.\u001b[0m\n",
      "\u001b[0m\u001b[33m2025-03-27 06:49:26.116 (  12.127s) [    77115417B740]      vtkCGNSReader.cxx:4268  WARN| vtkCGNSReader (0x63d1008e6280): Skipping BC_t node: BC_t type 'BCInflow' not supported yet.\u001b[0m\n",
      "\u001b[0m\u001b[33m2025-03-27 06:49:26.116 (  12.127s) [    77115417B740]      vtkCGNSReader.cxx:4268  WARN| vtkCGNSReader (0x63d1008e6280): Skipping BC_t node: BC_t type 'BCSymmetryPlane' not supported yet.\u001b[0m\n",
      "\u001b[0m\u001b[33m2025-03-27 06:49:26.116 (  12.127s) [    77115417B740]      vtkCGNSReader.cxx:4268  WARN| vtkCGNSReader (0x63d1008e6280): Skipping BC_t node: BC_t type 'BCTunnelOutflow' not supported yet.\u001b[0m\n",
      "\u001b[0m\u001b[33m2025-03-27 06:49:26.238 (  12.249s) [    77115417B740]      vtkCGNSReader.cxx:4268  WARN| vtkCGNSReader (0x63d11c467660): Skipping BC_t node: BC_t type 'BCInflow' not supported yet.\u001b[0m\n",
      "\u001b[0m\u001b[33m2025-03-27 06:49:26.238 (  12.249s) [    77115417B740]      vtkCGNSReader.cxx:4268  WARN| vtkCGNSReader (0x63d11c467660): Skipping BC_t node: BC_t type 'BCSymmetryPlane' not supported yet.\u001b[0m\n",
      "\u001b[0m\u001b[33m2025-03-27 06:49:26.238 (  12.249s) [    77115417B740]      vtkCGNSReader.cxx:4268  WARN| vtkCGNSReader (0x63d11c467660): Skipping BC_t node: BC_t type 'BCTunnelOutflow' not supported yet.\u001b[0m\n",
      "\u001b[0m\u001b[33m2025-03-27 06:49:26.359 (  12.369s) [    77115417B740]      vtkCGNSReader.cxx:4268  WARN| vtkCGNSReader (0x63d100929ee0): Skipping BC_t node: BC_t type 'BCInflow' not supported yet.\u001b[0m\n",
      "\u001b[0m\u001b[33m2025-03-27 06:49:26.359 (  12.370s) [    77115417B740]      vtkCGNSReader.cxx:4268  WARN| vtkCGNSReader (0x63d100929ee0): Skipping BC_t node: BC_t type 'BCSymmetryPlane' not supported yet.\u001b[0m\n",
      "\u001b[0m\u001b[33m2025-03-27 06:49:26.359 (  12.370s) [    77115417B740]      vtkCGNSReader.cxx:4268  WARN| vtkCGNSReader (0x63d100929ee0): Skipping BC_t node: BC_t type 'BCTunnelOutflow' not supported yet.\u001b[0m\n",
      "\u001b[0m\u001b[33m2025-03-27 06:49:26.477 (  12.488s) [    77115417B740]      vtkCGNSReader.cxx:4268  WARN| vtkCGNSReader (0x63d105657060): Skipping BC_t node: BC_t type 'BCInflow' not supported yet.\u001b[0m\n",
      "\u001b[0m\u001b[33m2025-03-27 06:49:26.477 (  12.488s) [    77115417B740]      vtkCGNSReader.cxx:4268  WARN| vtkCGNSReader (0x63d105657060): Skipping BC_t node: BC_t type 'BCSymmetryPlane' not supported yet.\u001b[0m\n",
      "\u001b[0m\u001b[33m2025-03-27 06:49:26.478 (  12.488s) [    77115417B740]      vtkCGNSReader.cxx:4268  WARN| vtkCGNSReader (0x63d105657060): Skipping BC_t node: BC_t type 'BCTunnelOutflow' not supported yet.\u001b[0m\n",
      "\u001b[0m\u001b[33m2025-03-27 06:49:26.599 (  12.609s) [    77115417B740]      vtkCGNSReader.cxx:4268  WARN| vtkCGNSReader (0x63d1028f62b0): Skipping BC_t node: BC_t type 'BCInflow' not supported yet.\u001b[0m\n",
      "\u001b[0m\u001b[33m2025-03-27 06:49:26.599 (  12.609s) [    77115417B740]      vtkCGNSReader.cxx:4268  WARN| vtkCGNSReader (0x63d1028f62b0): Skipping BC_t node: BC_t type 'BCSymmetryPlane' not supported yet.\u001b[0m\n",
      "\u001b[0m\u001b[33m2025-03-27 06:49:26.599 (  12.609s) [    77115417B740]      vtkCGNSReader.cxx:4268  WARN| vtkCGNSReader (0x63d1028f62b0): Skipping BC_t node: BC_t type 'BCTunnelOutflow' not supported yet.\u001b[0m\n",
      "\u001b[0m\u001b[33m2025-03-27 06:49:26.718 (  12.728s) [    77115417B740]      vtkCGNSReader.cxx:4268  WARN| vtkCGNSReader (0x63d148aa35d0): Skipping BC_t node: BC_t type 'BCInflow' not supported yet.\u001b[0m\n",
      "\u001b[0m\u001b[33m2025-03-27 06:49:26.718 (  12.728s) [    77115417B740]      vtkCGNSReader.cxx:4268  WARN| vtkCGNSReader (0x63d148aa35d0): Skipping BC_t node: BC_t type 'BCSymmetryPlane' not supported yet.\u001b[0m\n",
      "\u001b[0m\u001b[33m2025-03-27 06:49:26.718 (  12.728s) [    77115417B740]      vtkCGNSReader.cxx:4268  WARN| vtkCGNSReader (0x63d148aa35d0): Skipping BC_t node: BC_t type 'BCTunnelOutflow' not supported yet.\u001b[0m\n",
      "\u001b[0m\u001b[33m2025-03-27 06:49:26.828 (  12.838s) [    77115417B740]      vtkCGNSReader.cxx:4268  WARN| vtkCGNSReader (0x63d1008f4470): Skipping BC_t node: BC_t type 'BCInflow' not supported yet.\u001b[0m\n",
      "\u001b[0m\u001b[33m2025-03-27 06:49:26.828 (  12.838s) [    77115417B740]      vtkCGNSReader.cxx:4268  WARN| vtkCGNSReader (0x63d1008f4470): Skipping BC_t node: BC_t type 'BCSymmetryPlane' not supported yet.\u001b[0m\n",
      "\u001b[0m\u001b[33m2025-03-27 06:49:26.828 (  12.838s) [    77115417B740]      vtkCGNSReader.cxx:4268  WARN| vtkCGNSReader (0x63d1008f4470): Skipping BC_t node: BC_t type 'BCTunnelOutflow' not supported yet.\u001b[0m\n",
      "\u001b[0m\u001b[33m2025-03-27 06:49:26.948 (  12.959s) [    77115417B740]      vtkCGNSReader.cxx:4268  WARN| vtkCGNSReader (0x63d100929ee0): Skipping BC_t node: BC_t type 'BCInflow' not supported yet.\u001b[0m\n",
      "\u001b[0m\u001b[33m2025-03-27 06:49:26.948 (  12.959s) [    77115417B740]      vtkCGNSReader.cxx:4268  WARN| vtkCGNSReader (0x63d100929ee0): Skipping BC_t node: BC_t type 'BCSymmetryPlane' not supported yet.\u001b[0m\n",
      "\u001b[0m\u001b[33m2025-03-27 06:49:26.948 (  12.959s) [    77115417B740]      vtkCGNSReader.cxx:4268  WARN| vtkCGNSReader (0x63d100929ee0): Skipping BC_t node: BC_t type 'BCTunnelOutflow' not supported yet.\u001b[0m\n",
      "\u001b[0m\u001b[33m2025-03-27 06:49:27.062 (  13.072s) [    77115417B740]      vtkCGNSReader.cxx:4268  WARN| vtkCGNSReader (0x63d148aa6280): Skipping BC_t node: BC_t type 'BCInflow' not supported yet.\u001b[0m\n",
      "\u001b[0m\u001b[33m2025-03-27 06:49:27.062 (  13.072s) [    77115417B740]      vtkCGNSReader.cxx:4268  WARN| vtkCGNSReader (0x63d148aa6280): Skipping BC_t node: BC_t type 'BCSymmetryPlane' not supported yet.\u001b[0m\n",
      "\u001b[0m\u001b[33m2025-03-27 06:49:27.062 (  13.072s) [    77115417B740]      vtkCGNSReader.cxx:4268  WARN| vtkCGNSReader (0x63d148aa6280): Skipping BC_t node: BC_t type 'BCTunnelOutflow' not supported yet.\u001b[0m\n",
      "\u001b[0m\u001b[33m2025-03-27 06:49:27.168 (  13.179s) [    77115417B740]      vtkCGNSReader.cxx:4268  WARN| vtkCGNSReader (0x63d1136b1820): Skipping BC_t node: BC_t type 'BCInflow' not supported yet.\u001b[0m\n",
      "\u001b[0m\u001b[33m2025-03-27 06:49:27.168 (  13.179s) [    77115417B740]      vtkCGNSReader.cxx:4268  WARN| vtkCGNSReader (0x63d1136b1820): Skipping BC_t node: BC_t type 'BCSymmetryPlane' not supported yet.\u001b[0m\n",
      "\u001b[0m\u001b[33m2025-03-27 06:49:27.169 (  13.179s) [    77115417B740]      vtkCGNSReader.cxx:4268  WARN| vtkCGNSReader (0x63d1136b1820): Skipping BC_t node: BC_t type 'BCTunnelOutflow' not supported yet.\u001b[0m\n",
      "\u001b[0m\u001b[33m2025-03-27 06:49:27.266 (  13.277s) [    77115417B740]      vtkCGNSReader.cxx:4268  WARN| vtkCGNSReader (0x63d114b6df40): Skipping BC_t node: BC_t type 'BCInflow' not supported yet.\u001b[0m\n",
      "\u001b[0m\u001b[33m2025-03-27 06:49:27.267 (  13.277s) [    77115417B740]      vtkCGNSReader.cxx:4268  WARN| vtkCGNSReader (0x63d114b6df40): Skipping BC_t node: BC_t type 'BCSymmetryPlane' not supported yet.\u001b[0m\n",
      "\u001b[0m\u001b[33m2025-03-27 06:49:27.267 (  13.277s) [    77115417B740]      vtkCGNSReader.cxx:4268  WARN| vtkCGNSReader (0x63d114b6df40): Skipping BC_t node: BC_t type 'BCTunnelOutflow' not supported yet.\u001b[0m\n",
      "\u001b[0m\u001b[33m2025-03-27 06:49:27.379 (  13.390s) [    77115417B740]      vtkCGNSReader.cxx:4268  WARN| vtkCGNSReader (0x63d1056593b0): Skipping BC_t node: BC_t type 'BCInflow' not supported yet.\u001b[0m\n",
      "\u001b[0m\u001b[33m2025-03-27 06:49:27.379 (  13.390s) [    77115417B740]      vtkCGNSReader.cxx:4268  WARN| vtkCGNSReader (0x63d1056593b0): Skipping BC_t node: BC_t type 'BCSymmetryPlane' not supported yet.\u001b[0m\n",
      "\u001b[0m\u001b[33m2025-03-27 06:49:27.379 (  13.390s) [    77115417B740]      vtkCGNSReader.cxx:4268  WARN| vtkCGNSReader (0x63d1056593b0): Skipping BC_t node: BC_t type 'BCTunnelOutflow' not supported yet.\u001b[0m\n",
      "\u001b[0m\u001b[33m2025-03-27 06:49:27.499 (  13.510s) [    77115417B740]      vtkCGNSReader.cxx:4268  WARN| vtkCGNSReader (0x63d10fe12dd0): Skipping BC_t node: BC_t type 'BCInflow' not supported yet.\u001b[0m\n",
      "\u001b[0m\u001b[33m2025-03-27 06:49:27.499 (  13.510s) [    77115417B740]      vtkCGNSReader.cxx:4268  WARN| vtkCGNSReader (0x63d10fe12dd0): Skipping BC_t node: BC_t type 'BCSymmetryPlane' not supported yet.\u001b[0m\n",
      "\u001b[0m\u001b[33m2025-03-27 06:49:27.499 (  13.510s) [    77115417B740]      vtkCGNSReader.cxx:4268  WARN| vtkCGNSReader (0x63d10fe12dd0): Skipping BC_t node: BC_t type 'BCTunnelOutflow' not supported yet.\u001b[0m\n",
      "\u001b[0m\u001b[33m2025-03-27 06:49:27.613 (  13.624s) [    77115417B740]      vtkCGNSReader.cxx:4268  WARN| vtkCGNSReader (0x63d13605bc20): Skipping BC_t node: BC_t type 'BCInflow' not supported yet.\u001b[0m\n",
      "\u001b[0m\u001b[33m2025-03-27 06:49:27.613 (  13.624s) [    77115417B740]      vtkCGNSReader.cxx:4268  WARN| vtkCGNSReader (0x63d13605bc20): Skipping BC_t node: BC_t type 'BCSymmetryPlane' not supported yet.\u001b[0m\n",
      "\u001b[0m\u001b[33m2025-03-27 06:49:27.613 (  13.624s) [    77115417B740]      vtkCGNSReader.cxx:4268  WARN| vtkCGNSReader (0x63d13605bc20): Skipping BC_t node: BC_t type 'BCTunnelOutflow' not supported yet.\u001b[0m\n",
      "\u001b[0m\u001b[33m2025-03-27 06:49:27.723 (  13.733s) [    77115417B740]      vtkCGNSReader.cxx:4268  WARN| vtkCGNSReader (0x63d1075273f0): Skipping BC_t node: BC_t type 'BCInflow' not supported yet.\u001b[0m\n",
      "\u001b[0m\u001b[33m2025-03-27 06:49:27.723 (  13.733s) [    77115417B740]      vtkCGNSReader.cxx:4268  WARN| vtkCGNSReader (0x63d1075273f0): Skipping BC_t node: BC_t type 'BCSymmetryPlane' not supported yet.\u001b[0m\n",
      "\u001b[0m\u001b[33m2025-03-27 06:49:27.723 (  13.733s) [    77115417B740]      vtkCGNSReader.cxx:4268  WARN| vtkCGNSReader (0x63d1075273f0): Skipping BC_t node: BC_t type 'BCTunnelOutflow' not supported yet.\u001b[0m\n",
      "\u001b[0m\u001b[33m2025-03-27 06:49:27.840 (  13.850s) [    77115417B740]      vtkCGNSReader.cxx:4268  WARN| vtkCGNSReader (0x63d1008f4be0): Skipping BC_t node: BC_t type 'BCInflow' not supported yet.\u001b[0m\n",
      "\u001b[0m\u001b[33m2025-03-27 06:49:27.840 (  13.850s) [    77115417B740]      vtkCGNSReader.cxx:4268  WARN| vtkCGNSReader (0x63d1008f4be0): Skipping BC_t node: BC_t type 'BCSymmetryPlane' not supported yet.\u001b[0m\n",
      "\u001b[0m\u001b[33m2025-03-27 06:49:27.840 (  13.850s) [    77115417B740]      vtkCGNSReader.cxx:4268  WARN| vtkCGNSReader (0x63d1008f4be0): Skipping BC_t node: BC_t type 'BCTunnelOutflow' not supported yet.\u001b[0m\n",
      "\u001b[0m\u001b[33m2025-03-27 06:49:27.944 (  13.954s) [    77115417B740]      vtkCGNSReader.cxx:4268  WARN| vtkCGNSReader (0x63d13201a7d0): Skipping BC_t node: BC_t type 'BCInflow' not supported yet.\u001b[0m\n",
      "\u001b[0m\u001b[33m2025-03-27 06:49:27.944 (  13.954s) [    77115417B740]      vtkCGNSReader.cxx:4268  WARN| vtkCGNSReader (0x63d13201a7d0): Skipping BC_t node: BC_t type 'BCSymmetryPlane' not supported yet.\u001b[0m\n",
      "\u001b[0m\u001b[33m2025-03-27 06:49:27.944 (  13.954s) [    77115417B740]      vtkCGNSReader.cxx:4268  WARN| vtkCGNSReader (0x63d13201a7d0): Skipping BC_t node: BC_t type 'BCTunnelOutflow' not supported yet.\u001b[0m\n",
      "\u001b[0m\u001b[33m2025-03-27 06:49:28.058 (  14.069s) [    77115417B740]      vtkCGNSReader.cxx:4268  WARN| vtkCGNSReader (0x63d10fe200b0): Skipping BC_t node: BC_t type 'BCInflow' not supported yet.\u001b[0m\n",
      "\u001b[0m\u001b[33m2025-03-27 06:49:28.058 (  14.069s) [    77115417B740]      vtkCGNSReader.cxx:4268  WARN| vtkCGNSReader (0x63d10fe200b0): Skipping BC_t node: BC_t type 'BCSymmetryPlane' not supported yet.\u001b[0m\n",
      "\u001b[0m\u001b[33m2025-03-27 06:49:28.058 (  14.069s) [    77115417B740]      vtkCGNSReader.cxx:4268  WARN| vtkCGNSReader (0x63d10fe200b0): Skipping BC_t node: BC_t type 'BCTunnelOutflow' not supported yet.\u001b[0m\n",
      "\u001b[0m\u001b[33m2025-03-27 06:49:28.161 (  14.171s) [    77115417B740]      vtkCGNSReader.cxx:4268  WARN| vtkCGNSReader (0x63d1136aaa10): Skipping BC_t node: BC_t type 'BCInflow' not supported yet.\u001b[0m\n",
      "\u001b[0m\u001b[33m2025-03-27 06:49:28.161 (  14.171s) [    77115417B740]      vtkCGNSReader.cxx:4268  WARN| vtkCGNSReader (0x63d1136aaa10): Skipping BC_t node: BC_t type 'BCSymmetryPlane' not supported yet.\u001b[0m\n",
      "\u001b[0m\u001b[33m2025-03-27 06:49:28.161 (  14.171s) [    77115417B740]      vtkCGNSReader.cxx:4268  WARN| vtkCGNSReader (0x63d1136aaa10): Skipping BC_t node: BC_t type 'BCTunnelOutflow' not supported yet.\u001b[0m\n",
      "\u001b[0m\u001b[33m2025-03-27 06:49:28.275 (  14.285s) [    77115417B740]      vtkCGNSReader.cxx:4268  WARN| vtkCGNSReader (0x63d13201cfe0): Skipping BC_t node: BC_t type 'BCInflow' not supported yet.\u001b[0m\n",
      "\u001b[0m\u001b[33m2025-03-27 06:49:28.275 (  14.285s) [    77115417B740]      vtkCGNSReader.cxx:4268  WARN| vtkCGNSReader (0x63d13201cfe0): Skipping BC_t node: BC_t type 'BCSymmetryPlane' not supported yet.\u001b[0m\n",
      "\u001b[0m\u001b[33m2025-03-27 06:49:28.275 (  14.285s) [    77115417B740]      vtkCGNSReader.cxx:4268  WARN| vtkCGNSReader (0x63d13201cfe0): Skipping BC_t node: BC_t type 'BCTunnelOutflow' not supported yet.\u001b[0m\n",
      "\u001b[0m\u001b[33m2025-03-27 06:49:28.386 (  14.396s) [    77115417B740]      vtkCGNSReader.cxx:4268  WARN| vtkCGNSReader (0x63d159796450): Skipping BC_t node: BC_t type 'BCInflow' not supported yet.\u001b[0m\n",
      "\u001b[0m\u001b[33m2025-03-27 06:49:28.386 (  14.396s) [    77115417B740]      vtkCGNSReader.cxx:4268  WARN| vtkCGNSReader (0x63d159796450): Skipping BC_t node: BC_t type 'BCSymmetryPlane' not supported yet.\u001b[0m\n",
      "\u001b[0m\u001b[33m2025-03-27 06:49:28.386 (  14.396s) [    77115417B740]      vtkCGNSReader.cxx:4268  WARN| vtkCGNSReader (0x63d159796450): Skipping BC_t node: BC_t type 'BCTunnelOutflow' not supported yet.\u001b[0m\n",
      "\u001b[0m\u001b[33m2025-03-27 06:49:28.498 (  14.509s) [    77115417B740]      vtkCGNSReader.cxx:4268  WARN| vtkCGNSReader (0x63d112294610): Skipping BC_t node: BC_t type 'BCInflow' not supported yet.\u001b[0m\n",
      "\u001b[0m\u001b[33m2025-03-27 06:49:28.498 (  14.509s) [    77115417B740]      vtkCGNSReader.cxx:4268  WARN| vtkCGNSReader (0x63d112294610): Skipping BC_t node: BC_t type 'BCSymmetryPlane' not supported yet.\u001b[0m\n",
      "\u001b[0m\u001b[33m2025-03-27 06:49:28.498 (  14.509s) [    77115417B740]      vtkCGNSReader.cxx:4268  WARN| vtkCGNSReader (0x63d112294610): Skipping BC_t node: BC_t type 'BCTunnelOutflow' not supported yet.\u001b[0m\n",
      "\u001b[0m\u001b[33m2025-03-27 06:49:28.619 (  14.629s) [    77115417B740]      vtkCGNSReader.cxx:4268  WARN| vtkCGNSReader (0x63d157661220): Skipping BC_t node: BC_t type 'BCInflow' not supported yet.\u001b[0m\n",
      "\u001b[0m\u001b[33m2025-03-27 06:49:28.619 (  14.629s) [    77115417B740]      vtkCGNSReader.cxx:4268  WARN| vtkCGNSReader (0x63d157661220): Skipping BC_t node: BC_t type 'BCSymmetryPlane' not supported yet.\u001b[0m\n",
      "\u001b[0m\u001b[33m2025-03-27 06:49:28.619 (  14.629s) [    77115417B740]      vtkCGNSReader.cxx:4268  WARN| vtkCGNSReader (0x63d157661220): Skipping BC_t node: BC_t type 'BCTunnelOutflow' not supported yet.\u001b[0m\n",
      "\u001b[0m\u001b[33m2025-03-27 06:49:28.738 (  14.749s) [    77115417B740]      vtkCGNSReader.cxx:4268  WARN| vtkCGNSReader (0x63d107525820): Skipping BC_t node: BC_t type 'BCInflow' not supported yet.\u001b[0m\n",
      "\u001b[0m\u001b[33m2025-03-27 06:49:28.739 (  14.749s) [    77115417B740]      vtkCGNSReader.cxx:4268  WARN| vtkCGNSReader (0x63d107525820): Skipping BC_t node: BC_t type 'BCSymmetryPlane' not supported yet.\u001b[0m\n",
      "\u001b[0m\u001b[33m2025-03-27 06:49:28.739 (  14.749s) [    77115417B740]      vtkCGNSReader.cxx:4268  WARN| vtkCGNSReader (0x63d107525820): Skipping BC_t node: BC_t type 'BCTunnelOutflow' not supported yet.\u001b[0m\n",
      "\u001b[0m\u001b[33m2025-03-27 06:49:28.857 (  14.868s) [    77115417B740]      vtkCGNSReader.cxx:4268  WARN| vtkCGNSReader (0x63d1038d6ed0): Skipping BC_t node: BC_t type 'BCInflow' not supported yet.\u001b[0m\n",
      "\u001b[0m\u001b[33m2025-03-27 06:49:28.857 (  14.868s) [    77115417B740]      vtkCGNSReader.cxx:4268  WARN| vtkCGNSReader (0x63d1038d6ed0): Skipping BC_t node: BC_t type 'BCSymmetryPlane' not supported yet.\u001b[0m\n",
      "\u001b[0m\u001b[33m2025-03-27 06:49:28.857 (  14.868s) [    77115417B740]      vtkCGNSReader.cxx:4268  WARN| vtkCGNSReader (0x63d1038d6ed0): Skipping BC_t node: BC_t type 'BCTunnelOutflow' not supported yet.\u001b[0m\n",
      "\u001b[0m\u001b[33m2025-03-27 06:49:28.975 (  14.986s) [    77115417B740]      vtkCGNSReader.cxx:4268  WARN| vtkCGNSReader (0x63d15aa08d00): Skipping BC_t node: BC_t type 'BCInflow' not supported yet.\u001b[0m\n",
      "\u001b[0m\u001b[33m2025-03-27 06:49:28.975 (  14.986s) [    77115417B740]      vtkCGNSReader.cxx:4268  WARN| vtkCGNSReader (0x63d15aa08d00): Skipping BC_t node: BC_t type 'BCSymmetryPlane' not supported yet.\u001b[0m\n",
      "\u001b[0m\u001b[33m2025-03-27 06:49:28.975 (  14.986s) [    77115417B740]      vtkCGNSReader.cxx:4268  WARN| vtkCGNSReader (0x63d15aa08d00): Skipping BC_t node: BC_t type 'BCTunnelOutflow' not supported yet.\u001b[0m\n",
      "\u001b[0m\u001b[33m2025-03-27 06:49:29.089 (  15.099s) [    77115417B740]      vtkCGNSReader.cxx:4268  WARN| vtkCGNSReader (0x63d165f3a7a0): Skipping BC_t node: BC_t type 'BCInflow' not supported yet.\u001b[0m\n",
      "\u001b[0m\u001b[33m2025-03-27 06:49:29.089 (  15.099s) [    77115417B740]      vtkCGNSReader.cxx:4268  WARN| vtkCGNSReader (0x63d165f3a7a0): Skipping BC_t node: BC_t type 'BCSymmetryPlane' not supported yet.\u001b[0m\n",
      "\u001b[0m\u001b[33m2025-03-27 06:49:29.089 (  15.099s) [    77115417B740]      vtkCGNSReader.cxx:4268  WARN| vtkCGNSReader (0x63d165f3a7a0): Skipping BC_t node: BC_t type 'BCTunnelOutflow' not supported yet.\u001b[0m\n",
      "\u001b[0m\u001b[33m2025-03-27 06:49:29.203 (  15.213s) [    77115417B740]      vtkCGNSReader.cxx:4268  WARN| vtkCGNSReader (0x63d107519de0): Skipping BC_t node: BC_t type 'BCInflow' not supported yet.\u001b[0m\n",
      "\u001b[0m\u001b[33m2025-03-27 06:49:29.203 (  15.213s) [    77115417B740]      vtkCGNSReader.cxx:4268  WARN| vtkCGNSReader (0x63d107519de0): Skipping BC_t node: BC_t type 'BCSymmetryPlane' not supported yet.\u001b[0m\n",
      "\u001b[0m\u001b[33m2025-03-27 06:49:29.203 (  15.213s) [    77115417B740]      vtkCGNSReader.cxx:4268  WARN| vtkCGNSReader (0x63d107519de0): Skipping BC_t node: BC_t type 'BCTunnelOutflow' not supported yet.\u001b[0m\n",
      "\u001b[0m\u001b[33m2025-03-27 06:49:29.320 (  15.331s) [    77115417B740]      vtkCGNSReader.cxx:4268  WARN| vtkCGNSReader (0x63d119df7350): Skipping BC_t node: BC_t type 'BCInflow' not supported yet.\u001b[0m\n",
      "\u001b[0m\u001b[33m2025-03-27 06:49:29.320 (  15.331s) [    77115417B740]      vtkCGNSReader.cxx:4268  WARN| vtkCGNSReader (0x63d119df7350): Skipping BC_t node: BC_t type 'BCSymmetryPlane' not supported yet.\u001b[0m\n",
      "\u001b[0m\u001b[33m2025-03-27 06:49:29.320 (  15.331s) [    77115417B740]      vtkCGNSReader.cxx:4268  WARN| vtkCGNSReader (0x63d119df7350): Skipping BC_t node: BC_t type 'BCTunnelOutflow' not supported yet.\u001b[0m\n",
      "\u001b[0m\u001b[33m2025-03-27 06:49:29.436 (  15.447s) [    77115417B740]      vtkCGNSReader.cxx:4268  WARN| vtkCGNSReader (0x63d165f3a7a0): Skipping BC_t node: BC_t type 'BCInflow' not supported yet.\u001b[0m\n",
      "\u001b[0m\u001b[33m2025-03-27 06:49:29.436 (  15.447s) [    77115417B740]      vtkCGNSReader.cxx:4268  WARN| vtkCGNSReader (0x63d165f3a7a0): Skipping BC_t node: BC_t type 'BCSymmetryPlane' not supported yet.\u001b[0m\n",
      "\u001b[0m\u001b[33m2025-03-27 06:49:29.436 (  15.447s) [    77115417B740]      vtkCGNSReader.cxx:4268  WARN| vtkCGNSReader (0x63d165f3a7a0): Skipping BC_t node: BC_t type 'BCTunnelOutflow' not supported yet.\u001b[0m\n",
      "\u001b[0m\u001b[33m2025-03-27 06:49:29.560 (  15.570s) [    77115417B740]      vtkCGNSReader.cxx:4268  WARN| vtkCGNSReader (0x63d1009a0090): Skipping BC_t node: BC_t type 'BCInflow' not supported yet.\u001b[0m\n",
      "\u001b[0m\u001b[33m2025-03-27 06:49:29.560 (  15.570s) [    77115417B740]      vtkCGNSReader.cxx:4268  WARN| vtkCGNSReader (0x63d1009a0090): Skipping BC_t node: BC_t type 'BCSymmetryPlane' not supported yet.\u001b[0m\n",
      "\u001b[0m\u001b[33m2025-03-27 06:49:29.560 (  15.570s) [    77115417B740]      vtkCGNSReader.cxx:4268  WARN| vtkCGNSReader (0x63d1009a0090): Skipping BC_t node: BC_t type 'BCTunnelOutflow' not supported yet.\u001b[0m\n",
      "\u001b[0m\u001b[33m2025-03-27 06:49:29.680 (  15.691s) [    77115417B740]      vtkCGNSReader.cxx:4268  WARN| vtkCGNSReader (0x63d1038d3d70): Skipping BC_t node: BC_t type 'BCInflow' not supported yet.\u001b[0m\n",
      "\u001b[0m\u001b[33m2025-03-27 06:49:29.680 (  15.691s) [    77115417B740]      vtkCGNSReader.cxx:4268  WARN| vtkCGNSReader (0x63d1038d3d70): Skipping BC_t node: BC_t type 'BCSymmetryPlane' not supported yet.\u001b[0m\n",
      "\u001b[0m\u001b[33m2025-03-27 06:49:29.681 (  15.691s) [    77115417B740]      vtkCGNSReader.cxx:4268  WARN| vtkCGNSReader (0x63d1038d3d70): Skipping BC_t node: BC_t type 'BCTunnelOutflow' not supported yet.\u001b[0m\n",
      "\u001b[0m\u001b[33m2025-03-27 06:49:29.800 (  15.810s) [    77115417B740]      vtkCGNSReader.cxx:4268  WARN| vtkCGNSReader (0x63d1038d09c0): Skipping BC_t node: BC_t type 'BCInflow' not supported yet.\u001b[0m\n",
      "\u001b[0m\u001b[33m2025-03-27 06:49:29.800 (  15.810s) [    77115417B740]      vtkCGNSReader.cxx:4268  WARN| vtkCGNSReader (0x63d1038d09c0): Skipping BC_t node: BC_t type 'BCSymmetryPlane' not supported yet.\u001b[0m\n",
      "\u001b[0m\u001b[33m2025-03-27 06:49:29.800 (  15.810s) [    77115417B740]      vtkCGNSReader.cxx:4268  WARN| vtkCGNSReader (0x63d1038d09c0): Skipping BC_t node: BC_t type 'BCTunnelOutflow' not supported yet.\u001b[0m\n",
      "\u001b[0m\u001b[33m2025-03-27 06:49:29.925 (  15.936s) [    77115417B740]      vtkCGNSReader.cxx:4268  WARN| vtkCGNSReader (0x63d10fe1f280): Skipping BC_t node: BC_t type 'BCInflow' not supported yet.\u001b[0m\n",
      "\u001b[0m\u001b[33m2025-03-27 06:49:29.926 (  15.936s) [    77115417B740]      vtkCGNSReader.cxx:4268  WARN| vtkCGNSReader (0x63d10fe1f280): Skipping BC_t node: BC_t type 'BCSymmetryPlane' not supported yet.\u001b[0m\n",
      "\u001b[0m\u001b[33m2025-03-27 06:49:29.926 (  15.936s) [    77115417B740]      vtkCGNSReader.cxx:4268  WARN| vtkCGNSReader (0x63d10fe1f280): Skipping BC_t node: BC_t type 'BCTunnelOutflow' not supported yet.\u001b[0m\n",
      "\u001b[0m\u001b[33m2025-03-27 06:49:30.043 (  16.054s) [    77115417B740]      vtkCGNSReader.cxx:4268  WARN| vtkCGNSReader (0x63d167ac61e0): Skipping BC_t node: BC_t type 'BCInflow' not supported yet.\u001b[0m\n",
      "\u001b[0m\u001b[33m2025-03-27 06:49:30.044 (  16.054s) [    77115417B740]      vtkCGNSReader.cxx:4268  WARN| vtkCGNSReader (0x63d167ac61e0): Skipping BC_t node: BC_t type 'BCSymmetryPlane' not supported yet.\u001b[0m\n",
      "\u001b[0m\u001b[33m2025-03-27 06:49:30.044 (  16.054s) [    77115417B740]      vtkCGNSReader.cxx:4268  WARN| vtkCGNSReader (0x63d167ac61e0): Skipping BC_t node: BC_t type 'BCTunnelOutflow' not supported yet.\u001b[0m\n",
      "\u001b[0m\u001b[33m2025-03-27 06:49:30.158 (  16.168s) [    77115417B740]      vtkCGNSReader.cxx:4268  WARN| vtkCGNSReader (0x63d16ed4e320): Skipping BC_t node: BC_t type 'BCInflow' not supported yet.\u001b[0m\n",
      "\u001b[0m\u001b[33m2025-03-27 06:49:30.158 (  16.169s) [    77115417B740]      vtkCGNSReader.cxx:4268  WARN| vtkCGNSReader (0x63d16ed4e320): Skipping BC_t node: BC_t type 'BCSymmetryPlane' not supported yet.\u001b[0m\n",
      "\u001b[0m\u001b[33m2025-03-27 06:49:30.158 (  16.169s) [    77115417B740]      vtkCGNSReader.cxx:4268  WARN| vtkCGNSReader (0x63d16ed4e320): Skipping BC_t node: BC_t type 'BCTunnelOutflow' not supported yet.\u001b[0m\n",
      "\u001b[0m\u001b[33m2025-03-27 06:49:30.278 (  16.289s) [    77115417B740]      vtkCGNSReader.cxx:4268  WARN| vtkCGNSReader (0x63d105638310): Skipping BC_t node: BC_t type 'BCInflow' not supported yet.\u001b[0m\n",
      "\u001b[0m\u001b[33m2025-03-27 06:49:30.279 (  16.289s) [    77115417B740]      vtkCGNSReader.cxx:4268  WARN| vtkCGNSReader (0x63d105638310): Skipping BC_t node: BC_t type 'BCSymmetryPlane' not supported yet.\u001b[0m\n",
      "\u001b[0m\u001b[33m2025-03-27 06:49:30.279 (  16.289s) [    77115417B740]      vtkCGNSReader.cxx:4268  WARN| vtkCGNSReader (0x63d105638310): Skipping BC_t node: BC_t type 'BCTunnelOutflow' not supported yet.\u001b[0m\n",
      "\u001b[0m\u001b[33m2025-03-27 06:49:30.393 (  16.404s) [    77115417B740]      vtkCGNSReader.cxx:4268  WARN| vtkCGNSReader (0x63d112291350): Skipping BC_t node: BC_t type 'BCInflow' not supported yet.\u001b[0m\n",
      "\u001b[0m\u001b[33m2025-03-27 06:49:30.393 (  16.404s) [    77115417B740]      vtkCGNSReader.cxx:4268  WARN| vtkCGNSReader (0x63d112291350): Skipping BC_t node: BC_t type 'BCSymmetryPlane' not supported yet.\u001b[0m\n",
      "\u001b[0m\u001b[33m2025-03-27 06:49:30.393 (  16.404s) [    77115417B740]      vtkCGNSReader.cxx:4268  WARN| vtkCGNSReader (0x63d112291350): Skipping BC_t node: BC_t type 'BCTunnelOutflow' not supported yet.\u001b[0m\n",
      "\u001b[0m\u001b[33m2025-03-27 06:49:30.510 (  16.520s) [    77115417B740]      vtkCGNSReader.cxx:4268  WARN| vtkCGNSReader (0x63d12fc5c160): Skipping BC_t node: BC_t type 'BCInflow' not supported yet.\u001b[0m\n",
      "\u001b[0m\u001b[33m2025-03-27 06:49:30.510 (  16.520s) [    77115417B740]      vtkCGNSReader.cxx:4268  WARN| vtkCGNSReader (0x63d12fc5c160): Skipping BC_t node: BC_t type 'BCSymmetryPlane' not supported yet.\u001b[0m\n",
      "\u001b[0m\u001b[33m2025-03-27 06:49:30.510 (  16.520s) [    77115417B740]      vtkCGNSReader.cxx:4268  WARN| vtkCGNSReader (0x63d12fc5c160): Skipping BC_t node: BC_t type 'BCTunnelOutflow' not supported yet.\u001b[0m\n",
      "\u001b[0m\u001b[33m2025-03-27 06:49:30.620 (  16.631s) [    77115417B740]      vtkCGNSReader.cxx:4268  WARN| vtkCGNSReader (0x63d125560c00): Skipping BC_t node: BC_t type 'BCInflow' not supported yet.\u001b[0m\n",
      "\u001b[0m\u001b[33m2025-03-27 06:49:30.620 (  16.631s) [    77115417B740]      vtkCGNSReader.cxx:4268  WARN| vtkCGNSReader (0x63d125560c00): Skipping BC_t node: BC_t type 'BCSymmetryPlane' not supported yet.\u001b[0m\n",
      "\u001b[0m\u001b[33m2025-03-27 06:49:30.620 (  16.631s) [    77115417B740]      vtkCGNSReader.cxx:4268  WARN| vtkCGNSReader (0x63d125560c00): Skipping BC_t node: BC_t type 'BCTunnelOutflow' not supported yet.\u001b[0m\n",
      "\u001b[0m\u001b[33m2025-03-27 06:49:30.736 (  16.746s) [    77115417B740]      vtkCGNSReader.cxx:4268  WARN| vtkCGNSReader (0x63d1466c6210): Skipping BC_t node: BC_t type 'BCInflow' not supported yet.\u001b[0m\n",
      "\u001b[0m\u001b[33m2025-03-27 06:49:30.736 (  16.746s) [    77115417B740]      vtkCGNSReader.cxx:4268  WARN| vtkCGNSReader (0x63d1466c6210): Skipping BC_t node: BC_t type 'BCSymmetryPlane' not supported yet.\u001b[0m\n",
      "\u001b[0m\u001b[33m2025-03-27 06:49:30.736 (  16.746s) [    77115417B740]      vtkCGNSReader.cxx:4268  WARN| vtkCGNSReader (0x63d1466c6210): Skipping BC_t node: BC_t type 'BCTunnelOutflow' not supported yet.\u001b[0m\n",
      "\u001b[0m\u001b[33m2025-03-27 06:49:30.851 (  16.862s) [    77115417B740]      vtkCGNSReader.cxx:4268  WARN| vtkCGNSReader (0x63d125561870): Skipping BC_t node: BC_t type 'BCInflow' not supported yet.\u001b[0m\n",
      "\u001b[0m\u001b[33m2025-03-27 06:49:30.851 (  16.862s) [    77115417B740]      vtkCGNSReader.cxx:4268  WARN| vtkCGNSReader (0x63d125561870): Skipping BC_t node: BC_t type 'BCSymmetryPlane' not supported yet.\u001b[0m\n",
      "\u001b[0m\u001b[33m2025-03-27 06:49:30.851 (  16.862s) [    77115417B740]      vtkCGNSReader.cxx:4268  WARN| vtkCGNSReader (0x63d125561870): Skipping BC_t node: BC_t type 'BCTunnelOutflow' not supported yet.\u001b[0m\n",
      "\u001b[0m\u001b[33m2025-03-27 06:49:30.963 (  16.973s) [    77115417B740]      vtkCGNSReader.cxx:4268  WARN| vtkCGNSReader (0x63d100966590): Skipping BC_t node: BC_t type 'BCInflow' not supported yet.\u001b[0m\n",
      "\u001b[0m\u001b[33m2025-03-27 06:49:30.963 (  16.973s) [    77115417B740]      vtkCGNSReader.cxx:4268  WARN| vtkCGNSReader (0x63d100966590): Skipping BC_t node: BC_t type 'BCSymmetryPlane' not supported yet.\u001b[0m\n",
      "\u001b[0m\u001b[33m2025-03-27 06:49:30.963 (  16.973s) [    77115417B740]      vtkCGNSReader.cxx:4268  WARN| vtkCGNSReader (0x63d100966590): Skipping BC_t node: BC_t type 'BCTunnelOutflow' not supported yet.\u001b[0m\n",
      "\u001b[0m\u001b[33m2025-03-27 06:49:31.061 (  17.072s) [    77115417B740]      vtkCGNSReader.cxx:4268  WARN| vtkCGNSReader (0x63d1038d2750): Skipping BC_t node: BC_t type 'BCInflow' not supported yet.\u001b[0m\n",
      "\u001b[0m\u001b[33m2025-03-27 06:49:31.061 (  17.072s) [    77115417B740]      vtkCGNSReader.cxx:4268  WARN| vtkCGNSReader (0x63d1038d2750): Skipping BC_t node: BC_t type 'BCSymmetryPlane' not supported yet.\u001b[0m\n",
      "\u001b[0m\u001b[33m2025-03-27 06:49:31.061 (  17.072s) [    77115417B740]      vtkCGNSReader.cxx:4268  WARN| vtkCGNSReader (0x63d1038d2750): Skipping BC_t node: BC_t type 'BCTunnelOutflow' not supported yet.\u001b[0m\n",
      "\u001b[0m\u001b[33m2025-03-27 06:49:31.171 (  17.182s) [    77115417B740]      vtkCGNSReader.cxx:4268  WARN| vtkCGNSReader (0x63d12fc5bfe0): Skipping BC_t node: BC_t type 'BCInflow' not supported yet.\u001b[0m\n",
      "\u001b[0m\u001b[33m2025-03-27 06:49:31.171 (  17.182s) [    77115417B740]      vtkCGNSReader.cxx:4268  WARN| vtkCGNSReader (0x63d12fc5bfe0): Skipping BC_t node: BC_t type 'BCSymmetryPlane' not supported yet.\u001b[0m\n",
      "\u001b[0m\u001b[33m2025-03-27 06:49:31.171 (  17.182s) [    77115417B740]      vtkCGNSReader.cxx:4268  WARN| vtkCGNSReader (0x63d12fc5bfe0): Skipping BC_t node: BC_t type 'BCTunnelOutflow' not supported yet.\u001b[0m\n",
      "\u001b[0m\u001b[33m2025-03-27 06:49:31.282 (  17.293s) [    77115417B740]      vtkCGNSReader.cxx:4268  WARN| vtkCGNSReader (0x63d107527510): Skipping BC_t node: BC_t type 'BCInflow' not supported yet.\u001b[0m\n",
      "\u001b[0m\u001b[33m2025-03-27 06:49:31.282 (  17.293s) [    77115417B740]      vtkCGNSReader.cxx:4268  WARN| vtkCGNSReader (0x63d107527510): Skipping BC_t node: BC_t type 'BCSymmetryPlane' not supported yet.\u001b[0m\n",
      "\u001b[0m\u001b[33m2025-03-27 06:49:31.282 (  17.293s) [    77115417B740]      vtkCGNSReader.cxx:4268  WARN| vtkCGNSReader (0x63d107527510): Skipping BC_t node: BC_t type 'BCTunnelOutflow' not supported yet.\u001b[0m\n",
      "\u001b[0m\u001b[33m2025-03-27 06:49:31.396 (  17.406s) [    77115417B740]      vtkCGNSReader.cxx:4268  WARN| vtkCGNSReader (0x63d168debd00): Skipping BC_t node: BC_t type 'BCInflow' not supported yet.\u001b[0m\n",
      "\u001b[0m\u001b[33m2025-03-27 06:49:31.396 (  17.406s) [    77115417B740]      vtkCGNSReader.cxx:4268  WARN| vtkCGNSReader (0x63d168debd00): Skipping BC_t node: BC_t type 'BCSymmetryPlane' not supported yet.\u001b[0m\n",
      "\u001b[0m\u001b[33m2025-03-27 06:49:31.396 (  17.406s) [    77115417B740]      vtkCGNSReader.cxx:4268  WARN| vtkCGNSReader (0x63d168debd00): Skipping BC_t node: BC_t type 'BCTunnelOutflow' not supported yet.\u001b[0m\n",
      "\u001b[0m\u001b[33m2025-03-27 06:49:31.506 (  17.517s) [    77115417B740]      vtkCGNSReader.cxx:4268  WARN| vtkCGNSReader (0x63d1136adb50): Skipping BC_t node: BC_t type 'BCInflow' not supported yet.\u001b[0m\n",
      "\u001b[0m\u001b[33m2025-03-27 06:49:31.506 (  17.517s) [    77115417B740]      vtkCGNSReader.cxx:4268  WARN| vtkCGNSReader (0x63d1136adb50): Skipping BC_t node: BC_t type 'BCSymmetryPlane' not supported yet.\u001b[0m\n",
      "\u001b[0m\u001b[33m2025-03-27 06:49:31.506 (  17.517s) [    77115417B740]      vtkCGNSReader.cxx:4268  WARN| vtkCGNSReader (0x63d1136adb50): Skipping BC_t node: BC_t type 'BCTunnelOutflow' not supported yet.\u001b[0m\n",
      "\u001b[0m\u001b[33m2025-03-27 06:49:31.616 (  17.627s) [    77115417B740]      vtkCGNSReader.cxx:4268  WARN| vtkCGNSReader (0x63d168deaa30): Skipping BC_t node: BC_t type 'BCInflow' not supported yet.\u001b[0m\n",
      "\u001b[0m\u001b[33m2025-03-27 06:49:31.616 (  17.627s) [    77115417B740]      vtkCGNSReader.cxx:4268  WARN| vtkCGNSReader (0x63d168deaa30): Skipping BC_t node: BC_t type 'BCSymmetryPlane' not supported yet.\u001b[0m\n",
      "\u001b[0m\u001b[33m2025-03-27 06:49:31.617 (  17.627s) [    77115417B740]      vtkCGNSReader.cxx:4268  WARN| vtkCGNSReader (0x63d168deaa30): Skipping BC_t node: BC_t type 'BCTunnelOutflow' not supported yet.\u001b[0m\n",
      "\u001b[0m\u001b[33m2025-03-27 06:49:31.722 (  17.733s) [    77115417B740]      vtkCGNSReader.cxx:4268  WARN| vtkCGNSReader (0x63d168debd00): Skipping BC_t node: BC_t type 'BCInflow' not supported yet.\u001b[0m\n",
      "\u001b[0m\u001b[33m2025-03-27 06:49:31.722 (  17.733s) [    77115417B740]      vtkCGNSReader.cxx:4268  WARN| vtkCGNSReader (0x63d168debd00): Skipping BC_t node: BC_t type 'BCSymmetryPlane' not supported yet.\u001b[0m\n",
      "\u001b[0m\u001b[33m2025-03-27 06:49:31.722 (  17.733s) [    77115417B740]      vtkCGNSReader.cxx:4268  WARN| vtkCGNSReader (0x63d168debd00): Skipping BC_t node: BC_t type 'BCTunnelOutflow' not supported yet.\u001b[0m\n",
      "\u001b[0m\u001b[33m2025-03-27 06:49:31.834 (  17.844s) [    77115417B740]      vtkCGNSReader.cxx:4268  WARN| vtkCGNSReader (0x63d18b167ef0): Skipping BC_t node: BC_t type 'BCInflow' not supported yet.\u001b[0m\n",
      "\u001b[0m\u001b[33m2025-03-27 06:49:31.834 (  17.844s) [    77115417B740]      vtkCGNSReader.cxx:4268  WARN| vtkCGNSReader (0x63d18b167ef0): Skipping BC_t node: BC_t type 'BCSymmetryPlane' not supported yet.\u001b[0m\n",
      "\u001b[0m\u001b[33m2025-03-27 06:49:31.834 (  17.844s) [    77115417B740]      vtkCGNSReader.cxx:4268  WARN| vtkCGNSReader (0x63d18b167ef0): Skipping BC_t node: BC_t type 'BCTunnelOutflow' not supported yet.\u001b[0m\n",
      "\u001b[0m\u001b[33m2025-03-27 06:49:31.952 (  17.963s) [    77115417B740]      vtkCGNSReader.cxx:4268  WARN| vtkCGNSReader (0x63d119df2b90): Skipping BC_t node: BC_t type 'BCInflow' not supported yet.\u001b[0m\n",
      "\u001b[0m\u001b[33m2025-03-27 06:49:31.952 (  17.963s) [    77115417B740]      vtkCGNSReader.cxx:4268  WARN| vtkCGNSReader (0x63d119df2b90): Skipping BC_t node: BC_t type 'BCSymmetryPlane' not supported yet.\u001b[0m\n",
      "\u001b[0m\u001b[33m2025-03-27 06:49:31.953 (  17.963s) [    77115417B740]      vtkCGNSReader.cxx:4268  WARN| vtkCGNSReader (0x63d119df2b90): Skipping BC_t node: BC_t type 'BCTunnelOutflow' not supported yet.\u001b[0m\n",
      "\u001b[0m\u001b[33m2025-03-27 06:49:32.057 (  18.067s) [    77115417B740]      vtkCGNSReader.cxx:4268  WARN| vtkCGNSReader (0x63d167abf8c0): Skipping BC_t node: BC_t type 'BCInflow' not supported yet.\u001b[0m\n",
      "\u001b[0m\u001b[33m2025-03-27 06:49:32.057 (  18.067s) [    77115417B740]      vtkCGNSReader.cxx:4268  WARN| vtkCGNSReader (0x63d167abf8c0): Skipping BC_t node: BC_t type 'BCSymmetryPlane' not supported yet.\u001b[0m\n",
      "\u001b[0m\u001b[33m2025-03-27 06:49:32.057 (  18.067s) [    77115417B740]      vtkCGNSReader.cxx:4268  WARN| vtkCGNSReader (0x63d167abf8c0): Skipping BC_t node: BC_t type 'BCTunnelOutflow' not supported yet.\u001b[0m\n",
      "\u001b[0m\u001b[33m2025-03-27 06:49:32.170 (  18.180s) [    77115417B740]      vtkCGNSReader.cxx:4268  WARN| vtkCGNSReader (0x63d12555dc30): Skipping BC_t node: BC_t type 'BCInflow' not supported yet.\u001b[0m\n",
      "\u001b[0m\u001b[33m2025-03-27 06:49:32.170 (  18.180s) [    77115417B740]      vtkCGNSReader.cxx:4268  WARN| vtkCGNSReader (0x63d12555dc30): Skipping BC_t node: BC_t type 'BCSymmetryPlane' not supported yet.\u001b[0m\n",
      "\u001b[0m\u001b[33m2025-03-27 06:49:32.170 (  18.180s) [    77115417B740]      vtkCGNSReader.cxx:4268  WARN| vtkCGNSReader (0x63d12555dc30): Skipping BC_t node: BC_t type 'BCTunnelOutflow' not supported yet.\u001b[0m\n",
      "\u001b[0m\u001b[33m2025-03-27 06:49:32.281 (  18.291s) [    77115417B740]      vtkCGNSReader.cxx:4268  WARN| vtkCGNSReader (0x63d10fe0d3f0): Skipping BC_t node: BC_t type 'BCInflow' not supported yet.\u001b[0m\n",
      "\u001b[0m\u001b[33m2025-03-27 06:49:32.281 (  18.291s) [    77115417B740]      vtkCGNSReader.cxx:4268  WARN| vtkCGNSReader (0x63d10fe0d3f0): Skipping BC_t node: BC_t type 'BCSymmetryPlane' not supported yet.\u001b[0m\n",
      "\u001b[0m\u001b[33m2025-03-27 06:49:32.281 (  18.291s) [    77115417B740]      vtkCGNSReader.cxx:4268  WARN| vtkCGNSReader (0x63d10fe0d3f0): Skipping BC_t node: BC_t type 'BCTunnelOutflow' not supported yet.\u001b[0m\n",
      "\u001b[0m\u001b[33m2025-03-27 06:49:32.399 (  18.410s) [    77115417B740]      vtkCGNSReader.cxx:4268  WARN| vtkCGNSReader (0x63d15733c650): Skipping BC_t node: BC_t type 'BCInflow' not supported yet.\u001b[0m\n",
      "\u001b[0m\u001b[33m2025-03-27 06:49:32.399 (  18.410s) [    77115417B740]      vtkCGNSReader.cxx:4268  WARN| vtkCGNSReader (0x63d15733c650): Skipping BC_t node: BC_t type 'BCSymmetryPlane' not supported yet.\u001b[0m\n",
      "\u001b[0m\u001b[33m2025-03-27 06:49:32.399 (  18.410s) [    77115417B740]      vtkCGNSReader.cxx:4268  WARN| vtkCGNSReader (0x63d15733c650): Skipping BC_t node: BC_t type 'BCTunnelOutflow' not supported yet.\u001b[0m\n",
      "\u001b[0m\u001b[33m2025-03-27 06:49:32.515 (  18.526s) [    77115417B740]      vtkCGNSReader.cxx:4268  WARN| vtkCGNSReader (0x63d1038caec0): Skipping BC_t node: BC_t type 'BCInflow' not supported yet.\u001b[0m\n",
      "\u001b[0m\u001b[33m2025-03-27 06:49:32.515 (  18.526s) [    77115417B740]      vtkCGNSReader.cxx:4268  WARN| vtkCGNSReader (0x63d1038caec0): Skipping BC_t node: BC_t type 'BCSymmetryPlane' not supported yet.\u001b[0m\n",
      "\u001b[0m\u001b[33m2025-03-27 06:49:32.515 (  18.526s) [    77115417B740]      vtkCGNSReader.cxx:4268  WARN| vtkCGNSReader (0x63d1038caec0): Skipping BC_t node: BC_t type 'BCTunnelOutflow' not supported yet.\u001b[0m\n",
      "\u001b[0m\u001b[33m2025-03-27 06:49:32.635 (  18.645s) [    77115417B740]      vtkCGNSReader.cxx:4268  WARN| vtkCGNSReader (0x63d105670840): Skipping BC_t node: BC_t type 'BCInflow' not supported yet.\u001b[0m\n",
      "\u001b[0m\u001b[33m2025-03-27 06:49:32.635 (  18.646s) [    77115417B740]      vtkCGNSReader.cxx:4268  WARN| vtkCGNSReader (0x63d105670840): Skipping BC_t node: BC_t type 'BCSymmetryPlane' not supported yet.\u001b[0m\n",
      "\u001b[0m\u001b[33m2025-03-27 06:49:32.635 (  18.646s) [    77115417B740]      vtkCGNSReader.cxx:4268  WARN| vtkCGNSReader (0x63d105670840): Skipping BC_t node: BC_t type 'BCTunnelOutflow' not supported yet.\u001b[0m\n",
      "\u001b[0m\u001b[33m2025-03-27 06:49:32.759 (  18.770s) [    77115417B740]      vtkCGNSReader.cxx:4268  WARN| vtkCGNSReader (0x63d167abf8c0): Skipping BC_t node: BC_t type 'BCInflow' not supported yet.\u001b[0m\n",
      "\u001b[0m\u001b[33m2025-03-27 06:49:32.759 (  18.770s) [    77115417B740]      vtkCGNSReader.cxx:4268  WARN| vtkCGNSReader (0x63d167abf8c0): Skipping BC_t node: BC_t type 'BCSymmetryPlane' not supported yet.\u001b[0m\n",
      "\u001b[0m\u001b[33m2025-03-27 06:49:32.759 (  18.770s) [    77115417B740]      vtkCGNSReader.cxx:4268  WARN| vtkCGNSReader (0x63d167abf8c0): Skipping BC_t node: BC_t type 'BCTunnelOutflow' not supported yet.\u001b[0m\n",
      "\u001b[0m\u001b[33m2025-03-27 06:49:32.872 (  18.882s) [    77115417B740]      vtkCGNSReader.cxx:4268  WARN| vtkCGNSReader (0x63d14c62c7f0): Skipping BC_t node: BC_t type 'BCInflow' not supported yet.\u001b[0m\n",
      "\u001b[0m\u001b[33m2025-03-27 06:49:32.872 (  18.882s) [    77115417B740]      vtkCGNSReader.cxx:4268  WARN| vtkCGNSReader (0x63d14c62c7f0): Skipping BC_t node: BC_t type 'BCSymmetryPlane' not supported yet.\u001b[0m\n",
      "\u001b[0m\u001b[33m2025-03-27 06:49:32.872 (  18.882s) [    77115417B740]      vtkCGNSReader.cxx:4268  WARN| vtkCGNSReader (0x63d14c62c7f0): Skipping BC_t node: BC_t type 'BCTunnelOutflow' not supported yet.\u001b[0m\n",
      "\u001b[0m\u001b[33m2025-03-27 06:49:32.977 (  18.987s) [    77115417B740]      vtkCGNSReader.cxx:4268  WARN| vtkCGNSReader (0x63d133826c40): Skipping BC_t node: BC_t type 'BCInflow' not supported yet.\u001b[0m\n",
      "\u001b[0m\u001b[33m2025-03-27 06:49:32.977 (  18.987s) [    77115417B740]      vtkCGNSReader.cxx:4268  WARN| vtkCGNSReader (0x63d133826c40): Skipping BC_t node: BC_t type 'BCSymmetryPlane' not supported yet.\u001b[0m\n",
      "\u001b[0m\u001b[33m2025-03-27 06:49:32.977 (  18.987s) [    77115417B740]      vtkCGNSReader.cxx:4268  WARN| vtkCGNSReader (0x63d133826c40): Skipping BC_t node: BC_t type 'BCTunnelOutflow' not supported yet.\u001b[0m\n",
      "\u001b[0m\u001b[33m2025-03-27 06:49:33.094 (  19.105s) [    77115417B740]      vtkCGNSReader.cxx:4268  WARN| vtkCGNSReader (0x63d107515510): Skipping BC_t node: BC_t type 'BCInflow' not supported yet.\u001b[0m\n",
      "\u001b[0m\u001b[33m2025-03-27 06:49:33.094 (  19.105s) [    77115417B740]      vtkCGNSReader.cxx:4268  WARN| vtkCGNSReader (0x63d107515510): Skipping BC_t node: BC_t type 'BCSymmetryPlane' not supported yet.\u001b[0m\n",
      "\u001b[0m\u001b[33m2025-03-27 06:49:33.094 (  19.105s) [    77115417B740]      vtkCGNSReader.cxx:4268  WARN| vtkCGNSReader (0x63d107515510): Skipping BC_t node: BC_t type 'BCTunnelOutflow' not supported yet.\u001b[0m\n",
      "\u001b[0m\u001b[33m2025-03-27 06:49:33.207 (  19.217s) [    77115417B740]      vtkCGNSReader.cxx:4268  WARN| vtkCGNSReader (0x63d105e6bfc0): Skipping BC_t node: BC_t type 'BCInflow' not supported yet.\u001b[0m\n",
      "\u001b[0m\u001b[33m2025-03-27 06:49:33.207 (  19.217s) [    77115417B740]      vtkCGNSReader.cxx:4268  WARN| vtkCGNSReader (0x63d105e6bfc0): Skipping BC_t node: BC_t type 'BCSymmetryPlane' not supported yet.\u001b[0m\n",
      "\u001b[0m\u001b[33m2025-03-27 06:49:33.207 (  19.217s) [    77115417B740]      vtkCGNSReader.cxx:4268  WARN| vtkCGNSReader (0x63d105e6bfc0): Skipping BC_t node: BC_t type 'BCTunnelOutflow' not supported yet.\u001b[0m\n",
      "\u001b[0m\u001b[33m2025-03-27 06:49:33.329 (  19.339s) [    77115417B740]      vtkCGNSReader.cxx:4268  WARN| vtkCGNSReader (0x63d194250330): Skipping BC_t node: BC_t type 'BCInflow' not supported yet.\u001b[0m\n",
      "\u001b[0m\u001b[33m2025-03-27 06:49:33.329 (  19.339s) [    77115417B740]      vtkCGNSReader.cxx:4268  WARN| vtkCGNSReader (0x63d194250330): Skipping BC_t node: BC_t type 'BCSymmetryPlane' not supported yet.\u001b[0m\n",
      "\u001b[0m\u001b[33m2025-03-27 06:49:33.329 (  19.339s) [    77115417B740]      vtkCGNSReader.cxx:4268  WARN| vtkCGNSReader (0x63d194250330): Skipping BC_t node: BC_t type 'BCTunnelOutflow' not supported yet.\u001b[0m\n",
      "\u001b[0m\u001b[33m2025-03-27 06:49:33.435 (  19.446s) [    77115417B740]      vtkCGNSReader.cxx:4268  WARN| vtkCGNSReader (0x63d14c62bff0): Skipping BC_t node: BC_t type 'BCInflow' not supported yet.\u001b[0m\n",
      "\u001b[0m\u001b[33m2025-03-27 06:49:33.435 (  19.446s) [    77115417B740]      vtkCGNSReader.cxx:4268  WARN| vtkCGNSReader (0x63d14c62bff0): Skipping BC_t node: BC_t type 'BCSymmetryPlane' not supported yet.\u001b[0m\n",
      "\u001b[0m\u001b[33m2025-03-27 06:49:33.435 (  19.446s) [    77115417B740]      vtkCGNSReader.cxx:4268  WARN| vtkCGNSReader (0x63d14c62bff0): Skipping BC_t node: BC_t type 'BCTunnelOutflow' not supported yet.\u001b[0m\n",
      "\u001b[0m\u001b[33m2025-03-27 06:49:33.551 (  19.561s) [    77115417B740]      vtkCGNSReader.cxx:4268  WARN| vtkCGNSReader (0x63d197e92d40): Skipping BC_t node: BC_t type 'BCInflow' not supported yet.\u001b[0m\n",
      "\u001b[0m\u001b[33m2025-03-27 06:49:33.551 (  19.561s) [    77115417B740]      vtkCGNSReader.cxx:4268  WARN| vtkCGNSReader (0x63d197e92d40): Skipping BC_t node: BC_t type 'BCSymmetryPlane' not supported yet.\u001b[0m\n",
      "\u001b[0m\u001b[33m2025-03-27 06:49:33.551 (  19.561s) [    77115417B740]      vtkCGNSReader.cxx:4268  WARN| vtkCGNSReader (0x63d197e92d40): Skipping BC_t node: BC_t type 'BCTunnelOutflow' not supported yet.\u001b[0m\n",
      "\u001b[0m\u001b[33m2025-03-27 06:49:33.657 (  19.667s) [    77115417B740]      vtkCGNSReader.cxx:4268  WARN| vtkCGNSReader (0x63d10564d870): Skipping BC_t node: BC_t type 'BCInflow' not supported yet.\u001b[0m\n",
      "\u001b[0m\u001b[33m2025-03-27 06:49:33.657 (  19.667s) [    77115417B740]      vtkCGNSReader.cxx:4268  WARN| vtkCGNSReader (0x63d10564d870): Skipping BC_t node: BC_t type 'BCSymmetryPlane' not supported yet.\u001b[0m\n",
      "\u001b[0m\u001b[33m2025-03-27 06:49:33.657 (  19.667s) [    77115417B740]      vtkCGNSReader.cxx:4268  WARN| vtkCGNSReader (0x63d10564d870): Skipping BC_t node: BC_t type 'BCTunnelOutflow' not supported yet.\u001b[0m\n",
      "\u001b[0m\u001b[33m2025-03-27 06:49:33.762 (  19.772s) [    77115417B740]      vtkCGNSReader.cxx:4268  WARN| vtkCGNSReader (0x63d13c76cb60): Skipping BC_t node: BC_t type 'BCInflow' not supported yet.\u001b[0m\n",
      "\u001b[0m\u001b[33m2025-03-27 06:49:33.762 (  19.772s) [    77115417B740]      vtkCGNSReader.cxx:4268  WARN| vtkCGNSReader (0x63d13c76cb60): Skipping BC_t node: BC_t type 'BCSymmetryPlane' not supported yet.\u001b[0m\n",
      "\u001b[0m\u001b[33m2025-03-27 06:49:33.762 (  19.772s) [    77115417B740]      vtkCGNSReader.cxx:4268  WARN| vtkCGNSReader (0x63d13c76cb60): Skipping BC_t node: BC_t type 'BCTunnelOutflow' not supported yet.\u001b[0m\n",
      "\u001b[0m\u001b[33m2025-03-27 06:49:33.885 (  19.896s) [    77115417B740]      vtkCGNSReader.cxx:4268  WARN| vtkCGNSReader (0x63d1056680e0): Skipping BC_t node: BC_t type 'BCInflow' not supported yet.\u001b[0m\n",
      "\u001b[0m\u001b[33m2025-03-27 06:49:33.885 (  19.896s) [    77115417B740]      vtkCGNSReader.cxx:4268  WARN| vtkCGNSReader (0x63d1056680e0): Skipping BC_t node: BC_t type 'BCSymmetryPlane' not supported yet.\u001b[0m\n",
      "\u001b[0m\u001b[33m2025-03-27 06:49:33.885 (  19.896s) [    77115417B740]      vtkCGNSReader.cxx:4268  WARN| vtkCGNSReader (0x63d1056680e0): Skipping BC_t node: BC_t type 'BCTunnelOutflow' not supported yet.\u001b[0m\n",
      "\u001b[0m\u001b[33m2025-03-27 06:49:34.002 (  20.012s) [    77115417B740]      vtkCGNSReader.cxx:4268  WARN| vtkCGNSReader (0x63d1a1041e20): Skipping BC_t node: BC_t type 'BCInflow' not supported yet.\u001b[0m\n",
      "\u001b[0m\u001b[33m2025-03-27 06:49:34.002 (  20.012s) [    77115417B740]      vtkCGNSReader.cxx:4268  WARN| vtkCGNSReader (0x63d1a1041e20): Skipping BC_t node: BC_t type 'BCSymmetryPlane' not supported yet.\u001b[0m\n",
      "\u001b[0m\u001b[33m2025-03-27 06:49:34.002 (  20.012s) [    77115417B740]      vtkCGNSReader.cxx:4268  WARN| vtkCGNSReader (0x63d1a1041e20): Skipping BC_t node: BC_t type 'BCTunnelOutflow' not supported yet.\u001b[0m\n",
      "\u001b[0m\u001b[33m2025-03-27 06:49:34.101 (  20.112s) [    77115417B740]      vtkCGNSReader.cxx:4268  WARN| vtkCGNSReader (0x63d105644860): Skipping BC_t node: BC_t type 'BCInflow' not supported yet.\u001b[0m\n",
      "\u001b[0m\u001b[33m2025-03-27 06:49:34.101 (  20.112s) [    77115417B740]      vtkCGNSReader.cxx:4268  WARN| vtkCGNSReader (0x63d105644860): Skipping BC_t node: BC_t type 'BCSymmetryPlane' not supported yet.\u001b[0m\n",
      "\u001b[0m\u001b[33m2025-03-27 06:49:34.101 (  20.112s) [    77115417B740]      vtkCGNSReader.cxx:4268  WARN| vtkCGNSReader (0x63d105644860): Skipping BC_t node: BC_t type 'BCTunnelOutflow' not supported yet.\u001b[0m\n",
      "\u001b[0m\u001b[33m2025-03-27 06:49:34.204 (  20.215s) [    77115417B740]      vtkCGNSReader.cxx:4268  WARN| vtkCGNSReader (0x63d1573394c0): Skipping BC_t node: BC_t type 'BCInflow' not supported yet.\u001b[0m\n",
      "\u001b[0m\u001b[33m2025-03-27 06:49:34.204 (  20.215s) [    77115417B740]      vtkCGNSReader.cxx:4268  WARN| vtkCGNSReader (0x63d1573394c0): Skipping BC_t node: BC_t type 'BCSymmetryPlane' not supported yet.\u001b[0m\n",
      "\u001b[0m\u001b[33m2025-03-27 06:49:34.204 (  20.215s) [    77115417B740]      vtkCGNSReader.cxx:4268  WARN| vtkCGNSReader (0x63d1573394c0): Skipping BC_t node: BC_t type 'BCTunnelOutflow' not supported yet.\u001b[0m\n",
      "\u001b[0m\u001b[33m2025-03-27 06:49:34.316 (  20.327s) [    77115417B740]      vtkCGNSReader.cxx:4268  WARN| vtkCGNSReader (0x63d19424c530): Skipping BC_t node: BC_t type 'BCInflow' not supported yet.\u001b[0m\n",
      "\u001b[0m\u001b[33m2025-03-27 06:49:34.316 (  20.327s) [    77115417B740]      vtkCGNSReader.cxx:4268  WARN| vtkCGNSReader (0x63d19424c530): Skipping BC_t node: BC_t type 'BCSymmetryPlane' not supported yet.\u001b[0m\n",
      "\u001b[0m\u001b[33m2025-03-27 06:49:34.316 (  20.327s) [    77115417B740]      vtkCGNSReader.cxx:4268  WARN| vtkCGNSReader (0x63d19424c530): Skipping BC_t node: BC_t type 'BCTunnelOutflow' not supported yet.\u001b[0m\n",
      "\u001b[0m\u001b[33m2025-03-27 06:49:34.415 (  20.426s) [    77115417B740]      vtkCGNSReader.cxx:4268  WARN| vtkCGNSReader (0x63d197e904e0): Skipping BC_t node: BC_t type 'BCInflow' not supported yet.\u001b[0m\n",
      "\u001b[0m\u001b[33m2025-03-27 06:49:34.415 (  20.426s) [    77115417B740]      vtkCGNSReader.cxx:4268  WARN| vtkCGNSReader (0x63d197e904e0): Skipping BC_t node: BC_t type 'BCSymmetryPlane' not supported yet.\u001b[0m\n",
      "\u001b[0m\u001b[33m2025-03-27 06:49:34.416 (  20.426s) [    77115417B740]      vtkCGNSReader.cxx:4268  WARN| vtkCGNSReader (0x63d197e904e0): Skipping BC_t node: BC_t type 'BCTunnelOutflow' not supported yet.\u001b[0m\n",
      "\u001b[0m\u001b[33m2025-03-27 06:49:34.525 (  20.536s) [    77115417B740]      vtkCGNSReader.cxx:4268  WARN| vtkCGNSReader (0x63d1691731a0): Skipping BC_t node: BC_t type 'BCInflow' not supported yet.\u001b[0m\n",
      "\u001b[0m\u001b[33m2025-03-27 06:49:34.525 (  20.536s) [    77115417B740]      vtkCGNSReader.cxx:4268  WARN| vtkCGNSReader (0x63d1691731a0): Skipping BC_t node: BC_t type 'BCSymmetryPlane' not supported yet.\u001b[0m\n",
      "\u001b[0m\u001b[33m2025-03-27 06:49:34.526 (  20.536s) [    77115417B740]      vtkCGNSReader.cxx:4268  WARN| vtkCGNSReader (0x63d1691731a0): Skipping BC_t node: BC_t type 'BCTunnelOutflow' not supported yet.\u001b[0m\n",
      "\u001b[0m\u001b[33m2025-03-27 06:49:34.639 (  20.650s) [    77115417B740]      vtkCGNSReader.cxx:4268  WARN| vtkCGNSReader (0x63d133825a90): Skipping BC_t node: BC_t type 'BCInflow' not supported yet.\u001b[0m\n",
      "\u001b[0m\u001b[33m2025-03-27 06:49:34.639 (  20.650s) [    77115417B740]      vtkCGNSReader.cxx:4268  WARN| vtkCGNSReader (0x63d133825a90): Skipping BC_t node: BC_t type 'BCSymmetryPlane' not supported yet.\u001b[0m\n",
      "\u001b[0m\u001b[33m2025-03-27 06:49:34.639 (  20.650s) [    77115417B740]      vtkCGNSReader.cxx:4268  WARN| vtkCGNSReader (0x63d133825a90): Skipping BC_t node: BC_t type 'BCTunnelOutflow' not supported yet.\u001b[0m\n",
      "\u001b[0m\u001b[33m2025-03-27 06:49:34.745 (  20.755s) [    77115417B740]      vtkCGNSReader.cxx:4268  WARN| vtkCGNSReader (0x63d1730dcbf0): Skipping BC_t node: BC_t type 'BCInflow' not supported yet.\u001b[0m\n",
      "\u001b[0m\u001b[33m2025-03-27 06:49:34.745 (  20.755s) [    77115417B740]      vtkCGNSReader.cxx:4268  WARN| vtkCGNSReader (0x63d1730dcbf0): Skipping BC_t node: BC_t type 'BCSymmetryPlane' not supported yet.\u001b[0m\n",
      "\u001b[0m\u001b[33m2025-03-27 06:49:34.745 (  20.755s) [    77115417B740]      vtkCGNSReader.cxx:4268  WARN| vtkCGNSReader (0x63d1730dcbf0): Skipping BC_t node: BC_t type 'BCTunnelOutflow' not supported yet.\u001b[0m\n",
      "\u001b[0m\u001b[33m2025-03-27 06:49:34.855 (  20.865s) [    77115417B740]      vtkCGNSReader.cxx:4268  WARN| vtkCGNSReader (0x63d10fe1d590): Skipping BC_t node: BC_t type 'BCInflow' not supported yet.\u001b[0m\n",
      "\u001b[0m\u001b[33m2025-03-27 06:49:34.855 (  20.866s) [    77115417B740]      vtkCGNSReader.cxx:4268  WARN| vtkCGNSReader (0x63d10fe1d590): Skipping BC_t node: BC_t type 'BCSymmetryPlane' not supported yet.\u001b[0m\n",
      "\u001b[0m\u001b[33m2025-03-27 06:49:34.855 (  20.866s) [    77115417B740]      vtkCGNSReader.cxx:4268  WARN| vtkCGNSReader (0x63d10fe1d590): Skipping BC_t node: BC_t type 'BCTunnelOutflow' not supported yet.\u001b[0m\n",
      "\u001b[0m\u001b[33m2025-03-27 06:49:34.966 (  20.976s) [    77115417B740]      vtkCGNSReader.cxx:4268  WARN| vtkCGNSReader (0x63d15a9ff150): Skipping BC_t node: BC_t type 'BCInflow' not supported yet.\u001b[0m\n",
      "\u001b[0m\u001b[33m2025-03-27 06:49:34.966 (  20.976s) [    77115417B740]      vtkCGNSReader.cxx:4268  WARN| vtkCGNSReader (0x63d15a9ff150): Skipping BC_t node: BC_t type 'BCSymmetryPlane' not supported yet.\u001b[0m\n",
      "\u001b[0m\u001b[33m2025-03-27 06:49:34.966 (  20.976s) [    77115417B740]      vtkCGNSReader.cxx:4268  WARN| vtkCGNSReader (0x63d15a9ff150): Skipping BC_t node: BC_t type 'BCTunnelOutflow' not supported yet.\u001b[0m\n",
      "\u001b[0m\u001b[33m2025-03-27 06:49:35.082 (  21.093s) [    77115417B740]      vtkCGNSReader.cxx:4268  WARN| vtkCGNSReader (0x63d165f38500): Skipping BC_t node: BC_t type 'BCInflow' not supported yet.\u001b[0m\n",
      "\u001b[0m\u001b[33m2025-03-27 06:49:35.082 (  21.093s) [    77115417B740]      vtkCGNSReader.cxx:4268  WARN| vtkCGNSReader (0x63d165f38500): Skipping BC_t node: BC_t type 'BCSymmetryPlane' not supported yet.\u001b[0m\n",
      "\u001b[0m\u001b[33m2025-03-27 06:49:35.082 (  21.093s) [    77115417B740]      vtkCGNSReader.cxx:4268  WARN| vtkCGNSReader (0x63d165f38500): Skipping BC_t node: BC_t type 'BCTunnelOutflow' not supported yet.\u001b[0m\n",
      "\u001b[0m\u001b[33m2025-03-27 06:49:35.202 (  21.213s) [    77115417B740]      vtkCGNSReader.cxx:4268  WARN| vtkCGNSReader (0x63d114b631a0): Skipping BC_t node: BC_t type 'BCInflow' not supported yet.\u001b[0m\n",
      "\u001b[0m\u001b[33m2025-03-27 06:49:35.202 (  21.213s) [    77115417B740]      vtkCGNSReader.cxx:4268  WARN| vtkCGNSReader (0x63d114b631a0): Skipping BC_t node: BC_t type 'BCSymmetryPlane' not supported yet.\u001b[0m\n",
      "\u001b[0m\u001b[33m2025-03-27 06:49:35.202 (  21.213s) [    77115417B740]      vtkCGNSReader.cxx:4268  WARN| vtkCGNSReader (0x63d114b631a0): Skipping BC_t node: BC_t type 'BCTunnelOutflow' not supported yet.\u001b[0m\n",
      "\u001b[0m\u001b[33m2025-03-27 06:49:35.320 (  21.331s) [    77115417B740]      vtkCGNSReader.cxx:4268  WARN| vtkCGNSReader (0x63d13c769d80): Skipping BC_t node: BC_t type 'BCInflow' not supported yet.\u001b[0m\n",
      "\u001b[0m\u001b[33m2025-03-27 06:49:35.320 (  21.331s) [    77115417B740]      vtkCGNSReader.cxx:4268  WARN| vtkCGNSReader (0x63d13c769d80): Skipping BC_t node: BC_t type 'BCSymmetryPlane' not supported yet.\u001b[0m\n",
      "\u001b[0m\u001b[33m2025-03-27 06:49:35.321 (  21.331s) [    77115417B740]      vtkCGNSReader.cxx:4268  WARN| vtkCGNSReader (0x63d13c769d80): Skipping BC_t node: BC_t type 'BCTunnelOutflow' not supported yet.\u001b[0m\n",
      "\u001b[0m\u001b[33m2025-03-27 06:49:35.436 (  21.446s) [    77115417B740]      vtkCGNSReader.cxx:4268  WARN| vtkCGNSReader (0x63d1b0ed1bd0): Skipping BC_t node: BC_t type 'BCInflow' not supported yet.\u001b[0m\n",
      "\u001b[0m\u001b[33m2025-03-27 06:49:35.436 (  21.446s) [    77115417B740]      vtkCGNSReader.cxx:4268  WARN| vtkCGNSReader (0x63d1b0ed1bd0): Skipping BC_t node: BC_t type 'BCSymmetryPlane' not supported yet.\u001b[0m\n",
      "\u001b[0m\u001b[33m2025-03-27 06:49:35.436 (  21.446s) [    77115417B740]      vtkCGNSReader.cxx:4268  WARN| vtkCGNSReader (0x63d1b0ed1bd0): Skipping BC_t node: BC_t type 'BCTunnelOutflow' not supported yet.\u001b[0m\n",
      "\u001b[0m\u001b[33m2025-03-27 06:49:35.545 (  21.556s) [    77115417B740]      vtkCGNSReader.cxx:4268  WARN| vtkCGNSReader (0x63d1009248d0): Skipping BC_t node: BC_t type 'BCInflow' not supported yet.\u001b[0m\n",
      "\u001b[0m\u001b[33m2025-03-27 06:49:35.545 (  21.556s) [    77115417B740]      vtkCGNSReader.cxx:4268  WARN| vtkCGNSReader (0x63d1009248d0): Skipping BC_t node: BC_t type 'BCSymmetryPlane' not supported yet.\u001b[0m\n",
      "\u001b[0m\u001b[33m2025-03-27 06:49:35.546 (  21.556s) [    77115417B740]      vtkCGNSReader.cxx:4268  WARN| vtkCGNSReader (0x63d1009248d0): Skipping BC_t node: BC_t type 'BCTunnelOutflow' not supported yet.\u001b[0m\n",
      "\u001b[0m\u001b[33m2025-03-27 06:49:35.663 (  21.674s) [    77115417B740]      vtkCGNSReader.cxx:4268  WARN| vtkCGNSReader (0x63d119df0920): Skipping BC_t node: BC_t type 'BCInflow' not supported yet.\u001b[0m\n",
      "\u001b[0m\u001b[33m2025-03-27 06:49:35.663 (  21.674s) [    77115417B740]      vtkCGNSReader.cxx:4268  WARN| vtkCGNSReader (0x63d119df0920): Skipping BC_t node: BC_t type 'BCSymmetryPlane' not supported yet.\u001b[0m\n",
      "\u001b[0m\u001b[33m2025-03-27 06:49:35.663 (  21.674s) [    77115417B740]      vtkCGNSReader.cxx:4268  WARN| vtkCGNSReader (0x63d119df0920): Skipping BC_t node: BC_t type 'BCTunnelOutflow' not supported yet.\u001b[0m\n",
      "\u001b[0m\u001b[33m2025-03-27 06:49:35.777 (  21.788s) [    77115417B740]      vtkCGNSReader.cxx:4268  WARN| vtkCGNSReader (0x63d12fc615d0): Skipping BC_t node: BC_t type 'BCInflow' not supported yet.\u001b[0m\n",
      "\u001b[0m\u001b[33m2025-03-27 06:49:35.777 (  21.788s) [    77115417B740]      vtkCGNSReader.cxx:4268  WARN| vtkCGNSReader (0x63d12fc615d0): Skipping BC_t node: BC_t type 'BCSymmetryPlane' not supported yet.\u001b[0m\n",
      "\u001b[0m\u001b[33m2025-03-27 06:49:35.777 (  21.788s) [    77115417B740]      vtkCGNSReader.cxx:4268  WARN| vtkCGNSReader (0x63d12fc615d0): Skipping BC_t node: BC_t type 'BCTunnelOutflow' not supported yet.\u001b[0m\n",
      "\u001b[0m\u001b[33m2025-03-27 06:49:35.893 (  21.903s) [    77115417B740]      vtkCGNSReader.cxx:4268  WARN| vtkCGNSReader (0x63d1a1040ad0): Skipping BC_t node: BC_t type 'BCInflow' not supported yet.\u001b[0m\n",
      "\u001b[0m\u001b[33m2025-03-27 06:49:35.893 (  21.903s) [    77115417B740]      vtkCGNSReader.cxx:4268  WARN| vtkCGNSReader (0x63d1a1040ad0): Skipping BC_t node: BC_t type 'BCSymmetryPlane' not supported yet.\u001b[0m\n",
      "\u001b[0m\u001b[33m2025-03-27 06:49:35.893 (  21.903s) [    77115417B740]      vtkCGNSReader.cxx:4268  WARN| vtkCGNSReader (0x63d1a1040ad0): Skipping BC_t node: BC_t type 'BCTunnelOutflow' not supported yet.\u001b[0m\n",
      "\u001b[0m\u001b[33m2025-03-27 06:49:36.007 (  22.018s) [    77115417B740]      vtkCGNSReader.cxx:4268  WARN| vtkCGNSReader (0x63d1613c9fc0): Skipping BC_t node: BC_t type 'BCInflow' not supported yet.\u001b[0m\n",
      "\u001b[0m\u001b[33m2025-03-27 06:49:36.007 (  22.018s) [    77115417B740]      vtkCGNSReader.cxx:4268  WARN| vtkCGNSReader (0x63d1613c9fc0): Skipping BC_t node: BC_t type 'BCSymmetryPlane' not supported yet.\u001b[0m\n",
      "\u001b[0m\u001b[33m2025-03-27 06:49:36.007 (  22.018s) [    77115417B740]      vtkCGNSReader.cxx:4268  WARN| vtkCGNSReader (0x63d1613c9fc0): Skipping BC_t node: BC_t type 'BCTunnelOutflow' not supported yet.\u001b[0m\n",
      "\u001b[0m\u001b[33m2025-03-27 06:49:36.123 (  22.134s) [    77115417B740]      vtkCGNSReader.cxx:4268  WARN| vtkCGNSReader (0x63d1a65b1500): Skipping BC_t node: BC_t type 'BCInflow' not supported yet.\u001b[0m\n",
      "\u001b[0m\u001b[33m2025-03-27 06:49:36.123 (  22.134s) [    77115417B740]      vtkCGNSReader.cxx:4268  WARN| vtkCGNSReader (0x63d1a65b1500): Skipping BC_t node: BC_t type 'BCSymmetryPlane' not supported yet.\u001b[0m\n",
      "\u001b[0m\u001b[33m2025-03-27 06:49:36.124 (  22.134s) [    77115417B740]      vtkCGNSReader.cxx:4268  WARN| vtkCGNSReader (0x63d1a65b1500): Skipping BC_t node: BC_t type 'BCTunnelOutflow' not supported yet.\u001b[0m\n",
      "\u001b[0m\u001b[33m2025-03-27 06:49:36.249 (  22.259s) [    77115417B740]      vtkCGNSReader.cxx:4268  WARN| vtkCGNSReader (0x63d16c705f50): Skipping BC_t node: BC_t type 'BCInflow' not supported yet.\u001b[0m\n",
      "\u001b[0m\u001b[33m2025-03-27 06:49:36.249 (  22.259s) [    77115417B740]      vtkCGNSReader.cxx:4268  WARN| vtkCGNSReader (0x63d16c705f50): Skipping BC_t node: BC_t type 'BCSymmetryPlane' not supported yet.\u001b[0m\n",
      "\u001b[0m\u001b[33m2025-03-27 06:49:36.249 (  22.259s) [    77115417B740]      vtkCGNSReader.cxx:4268  WARN| vtkCGNSReader (0x63d16c705f50): Skipping BC_t node: BC_t type 'BCTunnelOutflow' not supported yet.\u001b[0m\n",
      "\u001b[0m\u001b[33m2025-03-27 06:49:36.365 (  22.375s) [    77115417B740]      vtkCGNSReader.cxx:4268  WARN| vtkCGNSReader (0x63d1b46cfb70): Skipping BC_t node: BC_t type 'BCInflow' not supported yet.\u001b[0m\n",
      "\u001b[0m\u001b[33m2025-03-27 06:49:36.365 (  22.375s) [    77115417B740]      vtkCGNSReader.cxx:4268  WARN| vtkCGNSReader (0x63d1b46cfb70): Skipping BC_t node: BC_t type 'BCSymmetryPlane' not supported yet.\u001b[0m\n",
      "\u001b[0m\u001b[33m2025-03-27 06:49:36.365 (  22.375s) [    77115417B740]      vtkCGNSReader.cxx:4268  WARN| vtkCGNSReader (0x63d1b46cfb70): Skipping BC_t node: BC_t type 'BCTunnelOutflow' not supported yet.\u001b[0m\n",
      "\u001b[0m\u001b[33m2025-03-27 06:49:36.470 (  22.480s) [    77115417B740]      vtkCGNSReader.cxx:4268  WARN| vtkCGNSReader (0x63d14c6297e0): Skipping BC_t node: BC_t type 'BCInflow' not supported yet.\u001b[0m\n",
      "\u001b[0m\u001b[33m2025-03-27 06:49:36.470 (  22.480s) [    77115417B740]      vtkCGNSReader.cxx:4268  WARN| vtkCGNSReader (0x63d14c6297e0): Skipping BC_t node: BC_t type 'BCSymmetryPlane' not supported yet.\u001b[0m\n",
      "\u001b[0m\u001b[33m2025-03-27 06:49:36.470 (  22.480s) [    77115417B740]      vtkCGNSReader.cxx:4268  WARN| vtkCGNSReader (0x63d14c6297e0): Skipping BC_t node: BC_t type 'BCTunnelOutflow' not supported yet.\u001b[0m\n",
      "\u001b[0m\u001b[33m2025-03-27 06:49:36.580 (  22.591s) [    77115417B740]      vtkCGNSReader.cxx:4268  WARN| vtkCGNSReader (0x63d165f38500): Skipping BC_t node: BC_t type 'BCInflow' not supported yet.\u001b[0m\n",
      "\u001b[0m\u001b[33m2025-03-27 06:49:36.580 (  22.591s) [    77115417B740]      vtkCGNSReader.cxx:4268  WARN| vtkCGNSReader (0x63d165f38500): Skipping BC_t node: BC_t type 'BCSymmetryPlane' not supported yet.\u001b[0m\n",
      "\u001b[0m\u001b[33m2025-03-27 06:49:36.580 (  22.591s) [    77115417B740]      vtkCGNSReader.cxx:4268  WARN| vtkCGNSReader (0x63d165f38500): Skipping BC_t node: BC_t type 'BCTunnelOutflow' not supported yet.\u001b[0m\n",
      "\u001b[0m\u001b[33m2025-03-27 06:49:36.696 (  22.706s) [    77115417B740]      vtkCGNSReader.cxx:4268  WARN| vtkCGNSReader (0x63d12fc67700): Skipping BC_t node: BC_t type 'BCInflow' not supported yet.\u001b[0m\n",
      "\u001b[0m\u001b[33m2025-03-27 06:49:36.696 (  22.706s) [    77115417B740]      vtkCGNSReader.cxx:4268  WARN| vtkCGNSReader (0x63d12fc67700): Skipping BC_t node: BC_t type 'BCSymmetryPlane' not supported yet.\u001b[0m\n",
      "\u001b[0m\u001b[33m2025-03-27 06:49:36.696 (  22.706s) [    77115417B740]      vtkCGNSReader.cxx:4268  WARN| vtkCGNSReader (0x63d12fc67700): Skipping BC_t node: BC_t type 'BCTunnelOutflow' not supported yet.\u001b[0m\n",
      "\u001b[0m\u001b[33m2025-03-27 06:49:36.807 (  22.818s) [    77115417B740]      vtkCGNSReader.cxx:4268  WARN| vtkCGNSReader (0x63d1ad37b080): Skipping BC_t node: BC_t type 'BCInflow' not supported yet.\u001b[0m\n",
      "\u001b[0m\u001b[33m2025-03-27 06:49:36.807 (  22.818s) [    77115417B740]      vtkCGNSReader.cxx:4268  WARN| vtkCGNSReader (0x63d1ad37b080): Skipping BC_t node: BC_t type 'BCSymmetryPlane' not supported yet.\u001b[0m\n",
      "\u001b[0m\u001b[33m2025-03-27 06:49:36.807 (  22.818s) [    77115417B740]      vtkCGNSReader.cxx:4268  WARN| vtkCGNSReader (0x63d1ad37b080): Skipping BC_t node: BC_t type 'BCTunnelOutflow' not supported yet.\u001b[0m\n",
      "\u001b[0m\u001b[33m2025-03-27 06:49:36.918 (  22.928s) [    77115417B740]      vtkCGNSReader.cxx:4268  WARN| vtkCGNSReader (0x63d12fc5fed0): Skipping BC_t node: BC_t type 'BCInflow' not supported yet.\u001b[0m\n",
      "\u001b[0m\u001b[33m2025-03-27 06:49:36.918 (  22.928s) [    77115417B740]      vtkCGNSReader.cxx:4268  WARN| vtkCGNSReader (0x63d12fc5fed0): Skipping BC_t node: BC_t type 'BCSymmetryPlane' not supported yet.\u001b[0m\n",
      "\u001b[0m\u001b[33m2025-03-27 06:49:36.918 (  22.928s) [    77115417B740]      vtkCGNSReader.cxx:4268  WARN| vtkCGNSReader (0x63d12fc5fed0): Skipping BC_t node: BC_t type 'BCTunnelOutflow' not supported yet.\u001b[0m\n",
      "\u001b[0m\u001b[33m2025-03-27 06:49:37.042 (  23.052s) [    77115417B740]      vtkCGNSReader.cxx:4268  WARN| vtkCGNSReader (0x63d15aa029a0): Skipping BC_t node: BC_t type 'BCInflow' not supported yet.\u001b[0m\n",
      "\u001b[0m\u001b[33m2025-03-27 06:49:37.042 (  23.052s) [    77115417B740]      vtkCGNSReader.cxx:4268  WARN| vtkCGNSReader (0x63d15aa029a0): Skipping BC_t node: BC_t type 'BCSymmetryPlane' not supported yet.\u001b[0m\n",
      "\u001b[0m\u001b[33m2025-03-27 06:49:37.042 (  23.052s) [    77115417B740]      vtkCGNSReader.cxx:4268  WARN| vtkCGNSReader (0x63d15aa029a0): Skipping BC_t node: BC_t type 'BCTunnelOutflow' not supported yet.\u001b[0m\n",
      "\u001b[0m\u001b[33m2025-03-27 06:49:37.156 (  23.166s) [    77115417B740]      vtkCGNSReader.cxx:4268  WARN| vtkCGNSReader (0x63d167ab5ed0): Skipping BC_t node: BC_t type 'BCInflow' not supported yet.\u001b[0m\n",
      "\u001b[0m\u001b[33m2025-03-27 06:49:37.156 (  23.166s) [    77115417B740]      vtkCGNSReader.cxx:4268  WARN| vtkCGNSReader (0x63d167ab5ed0): Skipping BC_t node: BC_t type 'BCSymmetryPlane' not supported yet.\u001b[0m\n",
      "\u001b[0m\u001b[33m2025-03-27 06:49:37.156 (  23.166s) [    77115417B740]      vtkCGNSReader.cxx:4268  WARN| vtkCGNSReader (0x63d167ab5ed0): Skipping BC_t node: BC_t type 'BCTunnelOutflow' not supported yet.\u001b[0m\n",
      "\u001b[0m\u001b[33m2025-03-27 06:49:37.268 (  23.279s) [    77115417B740]      vtkCGNSReader.cxx:4268  WARN| vtkCGNSReader (0x63d10566cdd0): Skipping BC_t node: BC_t type 'BCInflow' not supported yet.\u001b[0m\n",
      "\u001b[0m\u001b[33m2025-03-27 06:49:37.268 (  23.279s) [    77115417B740]      vtkCGNSReader.cxx:4268  WARN| vtkCGNSReader (0x63d10566cdd0): Skipping BC_t node: BC_t type 'BCSymmetryPlane' not supported yet.\u001b[0m\n",
      "\u001b[0m\u001b[33m2025-03-27 06:49:37.268 (  23.279s) [    77115417B740]      vtkCGNSReader.cxx:4268  WARN| vtkCGNSReader (0x63d10566cdd0): Skipping BC_t node: BC_t type 'BCTunnelOutflow' not supported yet.\u001b[0m\n",
      "\u001b[0m\u001b[33m2025-03-27 06:49:37.383 (  23.393s) [    77115417B740]      vtkCGNSReader.cxx:4268  WARN| vtkCGNSReader (0x63d15aa029a0): Skipping BC_t node: BC_t type 'BCInflow' not supported yet.\u001b[0m\n",
      "\u001b[0m\u001b[33m2025-03-27 06:49:37.383 (  23.393s) [    77115417B740]      vtkCGNSReader.cxx:4268  WARN| vtkCGNSReader (0x63d15aa029a0): Skipping BC_t node: BC_t type 'BCSymmetryPlane' not supported yet.\u001b[0m\n",
      "\u001b[0m\u001b[33m2025-03-27 06:49:37.383 (  23.393s) [    77115417B740]      vtkCGNSReader.cxx:4268  WARN| vtkCGNSReader (0x63d15aa029a0): Skipping BC_t node: BC_t type 'BCTunnelOutflow' not supported yet.\u001b[0m\n",
      "\u001b[0m\u001b[33m2025-03-27 06:49:37.486 (  23.497s) [    77115417B740]      vtkCGNSReader.cxx:4268  WARN| vtkCGNSReader (0x63d19a600950): Skipping BC_t node: BC_t type 'BCInflow' not supported yet.\u001b[0m\n",
      "\u001b[0m\u001b[33m2025-03-27 06:49:37.486 (  23.497s) [    77115417B740]      vtkCGNSReader.cxx:4268  WARN| vtkCGNSReader (0x63d19a600950): Skipping BC_t node: BC_t type 'BCSymmetryPlane' not supported yet.\u001b[0m\n",
      "\u001b[0m\u001b[33m2025-03-27 06:49:37.486 (  23.497s) [    77115417B740]      vtkCGNSReader.cxx:4268  WARN| vtkCGNSReader (0x63d19a600950): Skipping BC_t node: BC_t type 'BCTunnelOutflow' not supported yet.\u001b[0m\n",
      "\u001b[0m\u001b[33m2025-03-27 06:49:37.600 (  23.611s) [    77115417B740]      vtkCGNSReader.cxx:4268  WARN| vtkCGNSReader (0x63d168de5e90): Skipping BC_t node: BC_t type 'BCInflow' not supported yet.\u001b[0m\n",
      "\u001b[0m\u001b[33m2025-03-27 06:49:37.600 (  23.611s) [    77115417B740]      vtkCGNSReader.cxx:4268  WARN| vtkCGNSReader (0x63d168de5e90): Skipping BC_t node: BC_t type 'BCSymmetryPlane' not supported yet.\u001b[0m\n",
      "\u001b[0m\u001b[33m2025-03-27 06:49:37.600 (  23.611s) [    77115417B740]      vtkCGNSReader.cxx:4268  WARN| vtkCGNSReader (0x63d168de5e90): Skipping BC_t node: BC_t type 'BCTunnelOutflow' not supported yet.\u001b[0m\n",
      "\u001b[0m\u001b[33m2025-03-27 06:49:37.715 (  23.725s) [    77115417B740]      vtkCGNSReader.cxx:4268  WARN| vtkCGNSReader (0x63d1996e5d70): Skipping BC_t node: BC_t type 'BCInflow' not supported yet.\u001b[0m\n",
      "\u001b[0m\u001b[33m2025-03-27 06:49:37.715 (  23.726s) [    77115417B740]      vtkCGNSReader.cxx:4268  WARN| vtkCGNSReader (0x63d1996e5d70): Skipping BC_t node: BC_t type 'BCSymmetryPlane' not supported yet.\u001b[0m\n",
      "\u001b[0m\u001b[33m2025-03-27 06:49:37.715 (  23.726s) [    77115417B740]      vtkCGNSReader.cxx:4268  WARN| vtkCGNSReader (0x63d1996e5d70): Skipping BC_t node: BC_t type 'BCTunnelOutflow' not supported yet.\u001b[0m\n",
      "\u001b[0m\u001b[33m2025-03-27 06:49:37.820 (  23.830s) [    77115417B740]      vtkCGNSReader.cxx:4268  WARN| vtkCGNSReader (0x63d17206c6b0): Skipping BC_t node: BC_t type 'BCInflow' not supported yet.\u001b[0m\n",
      "\u001b[0m\u001b[33m2025-03-27 06:49:37.820 (  23.830s) [    77115417B740]      vtkCGNSReader.cxx:4268  WARN| vtkCGNSReader (0x63d17206c6b0): Skipping BC_t node: BC_t type 'BCSymmetryPlane' not supported yet.\u001b[0m\n",
      "\u001b[0m\u001b[33m2025-03-27 06:49:37.820 (  23.830s) [    77115417B740]      vtkCGNSReader.cxx:4268  WARN| vtkCGNSReader (0x63d17206c6b0): Skipping BC_t node: BC_t type 'BCTunnelOutflow' not supported yet.\u001b[0m\n",
      "\u001b[0m\u001b[33m2025-03-27 06:49:37.928 (  23.938s) [    77115417B740]      vtkCGNSReader.cxx:4268  WARN| vtkCGNSReader (0x63d1522ef610): Skipping BC_t node: BC_t type 'BCInflow' not supported yet.\u001b[0m\n",
      "\u001b[0m\u001b[33m2025-03-27 06:49:37.928 (  23.938s) [    77115417B740]      vtkCGNSReader.cxx:4268  WARN| vtkCGNSReader (0x63d1522ef610): Skipping BC_t node: BC_t type 'BCSymmetryPlane' not supported yet.\u001b[0m\n",
      "\u001b[0m\u001b[33m2025-03-27 06:49:37.928 (  23.938s) [    77115417B740]      vtkCGNSReader.cxx:4268  WARN| vtkCGNSReader (0x63d1522ef610): Skipping BC_t node: BC_t type 'BCTunnelOutflow' not supported yet.\u001b[0m\n",
      "\u001b[0m\u001b[33m2025-03-27 06:49:38.036 (  24.047s) [    77115417B740]      vtkCGNSReader.cxx:4268  WARN| vtkCGNSReader (0x63d19a5ff030): Skipping BC_t node: BC_t type 'BCInflow' not supported yet.\u001b[0m\n",
      "\u001b[0m\u001b[33m2025-03-27 06:49:38.036 (  24.047s) [    77115417B740]      vtkCGNSReader.cxx:4268  WARN| vtkCGNSReader (0x63d19a5ff030): Skipping BC_t node: BC_t type 'BCSymmetryPlane' not supported yet.\u001b[0m\n",
      "\u001b[0m\u001b[33m2025-03-27 06:49:38.036 (  24.047s) [    77115417B740]      vtkCGNSReader.cxx:4268  WARN| vtkCGNSReader (0x63d19a5ff030): Skipping BC_t node: BC_t type 'BCTunnelOutflow' not supported yet.\u001b[0m\n",
      "\u001b[0m\u001b[33m2025-03-27 06:49:38.160 (  24.170s) [    77115417B740]      vtkCGNSReader.cxx:4268  WARN| vtkCGNSReader (0x63d10566e740): Skipping BC_t node: BC_t type 'BCInflow' not supported yet.\u001b[0m\n",
      "\u001b[0m\u001b[33m2025-03-27 06:49:38.160 (  24.170s) [    77115417B740]      vtkCGNSReader.cxx:4268  WARN| vtkCGNSReader (0x63d10566e740): Skipping BC_t node: BC_t type 'BCSymmetryPlane' not supported yet.\u001b[0m\n",
      "\u001b[0m\u001b[33m2025-03-27 06:49:38.160 (  24.170s) [    77115417B740]      vtkCGNSReader.cxx:4268  WARN| vtkCGNSReader (0x63d10566e740): Skipping BC_t node: BC_t type 'BCTunnelOutflow' not supported yet.\u001b[0m\n",
      "\u001b[0m\u001b[33m2025-03-27 06:49:38.275 (  24.285s) [    77115417B740]      vtkCGNSReader.cxx:4268  WARN| vtkCGNSReader (0x63d18c806560): Skipping BC_t node: BC_t type 'BCInflow' not supported yet.\u001b[0m\n",
      "\u001b[0m\u001b[33m2025-03-27 06:49:38.275 (  24.285s) [    77115417B740]      vtkCGNSReader.cxx:4268  WARN| vtkCGNSReader (0x63d18c806560): Skipping BC_t node: BC_t type 'BCSymmetryPlane' not supported yet.\u001b[0m\n",
      "\u001b[0m\u001b[33m2025-03-27 06:49:38.275 (  24.285s) [    77115417B740]      vtkCGNSReader.cxx:4268  WARN| vtkCGNSReader (0x63d18c806560): Skipping BC_t node: BC_t type 'BCTunnelOutflow' not supported yet.\u001b[0m\n",
      "\u001b[0m\u001b[33m2025-03-27 06:49:38.393 (  24.404s) [    77115417B740]      vtkCGNSReader.cxx:4268  WARN| vtkCGNSReader (0x63d105664f20): Skipping BC_t node: BC_t type 'BCInflow' not supported yet.\u001b[0m\n",
      "\u001b[0m\u001b[33m2025-03-27 06:49:38.393 (  24.404s) [    77115417B740]      vtkCGNSReader.cxx:4268  WARN| vtkCGNSReader (0x63d105664f20): Skipping BC_t node: BC_t type 'BCSymmetryPlane' not supported yet.\u001b[0m\n",
      "\u001b[0m\u001b[33m2025-03-27 06:49:38.393 (  24.404s) [    77115417B740]      vtkCGNSReader.cxx:4268  WARN| vtkCGNSReader (0x63d105664f20): Skipping BC_t node: BC_t type 'BCTunnelOutflow' not supported yet.\u001b[0m\n",
      "\u001b[0m\u001b[33m2025-03-27 06:49:38.512 (  24.522s) [    77115417B740]      vtkCGNSReader.cxx:4268  WARN| vtkCGNSReader (0x63d1b31523d0): Skipping BC_t node: BC_t type 'BCInflow' not supported yet.\u001b[0m\n",
      "\u001b[0m\u001b[33m2025-03-27 06:49:38.512 (  24.522s) [    77115417B740]      vtkCGNSReader.cxx:4268  WARN| vtkCGNSReader (0x63d1b31523d0): Skipping BC_t node: BC_t type 'BCSymmetryPlane' not supported yet.\u001b[0m\n",
      "\u001b[0m\u001b[33m2025-03-27 06:49:38.512 (  24.522s) [    77115417B740]      vtkCGNSReader.cxx:4268  WARN| vtkCGNSReader (0x63d1b31523d0): Skipping BC_t node: BC_t type 'BCTunnelOutflow' not supported yet.\u001b[0m\n",
      "\u001b[0m\u001b[33m2025-03-27 06:49:38.615 (  24.625s) [    77115417B740]      vtkCGNSReader.cxx:4268  WARN| vtkCGNSReader (0x63d1a65ace00): Skipping BC_t node: BC_t type 'BCInflow' not supported yet.\u001b[0m\n",
      "\u001b[0m\u001b[33m2025-03-27 06:49:38.615 (  24.626s) [    77115417B740]      vtkCGNSReader.cxx:4268  WARN| vtkCGNSReader (0x63d1a65ace00): Skipping BC_t node: BC_t type 'BCSymmetryPlane' not supported yet.\u001b[0m\n",
      "\u001b[0m\u001b[33m2025-03-27 06:49:38.615 (  24.626s) [    77115417B740]      vtkCGNSReader.cxx:4268  WARN| vtkCGNSReader (0x63d1a65ace00): Skipping BC_t node: BC_t type 'BCTunnelOutflow' not supported yet.\u001b[0m\n",
      "\u001b[0m\u001b[33m2025-03-27 06:49:38.737 (  24.747s) [    77115417B740]      vtkCGNSReader.cxx:4268  WARN| vtkCGNSReader (0x63d11228bb80): Skipping BC_t node: BC_t type 'BCInflow' not supported yet.\u001b[0m\n",
      "\u001b[0m\u001b[33m2025-03-27 06:49:38.737 (  24.748s) [    77115417B740]      vtkCGNSReader.cxx:4268  WARN| vtkCGNSReader (0x63d11228bb80): Skipping BC_t node: BC_t type 'BCSymmetryPlane' not supported yet.\u001b[0m\n",
      "\u001b[0m\u001b[33m2025-03-27 06:49:38.737 (  24.748s) [    77115417B740]      vtkCGNSReader.cxx:4268  WARN| vtkCGNSReader (0x63d11228bb80): Skipping BC_t node: BC_t type 'BCTunnelOutflow' not supported yet.\u001b[0m\n",
      "\u001b[0m\u001b[33m2025-03-27 06:49:38.852 (  24.862s) [    77115417B740]      vtkCGNSReader.cxx:4268  WARN| vtkCGNSReader (0x63d16ed45d10): Skipping BC_t node: BC_t type 'BCInflow' not supported yet.\u001b[0m\n",
      "\u001b[0m\u001b[33m2025-03-27 06:49:38.852 (  24.862s) [    77115417B740]      vtkCGNSReader.cxx:4268  WARN| vtkCGNSReader (0x63d16ed45d10): Skipping BC_t node: BC_t type 'BCSymmetryPlane' not supported yet.\u001b[0m\n",
      "\u001b[0m\u001b[33m2025-03-27 06:49:38.852 (  24.862s) [    77115417B740]      vtkCGNSReader.cxx:4268  WARN| vtkCGNSReader (0x63d16ed45d10): Skipping BC_t node: BC_t type 'BCTunnelOutflow' not supported yet.\u001b[0m\n",
      "\u001b[0m\u001b[33m2025-03-27 06:49:38.979 (  24.990s) [    77115417B740]      vtkCGNSReader.cxx:4268  WARN| vtkCGNSReader (0x63d1a65ace00): Skipping BC_t node: BC_t type 'BCInflow' not supported yet.\u001b[0m\n",
      "\u001b[0m\u001b[33m2025-03-27 06:49:38.979 (  24.990s) [    77115417B740]      vtkCGNSReader.cxx:4268  WARN| vtkCGNSReader (0x63d1a65ace00): Skipping BC_t node: BC_t type 'BCSymmetryPlane' not supported yet.\u001b[0m\n",
      "\u001b[0m\u001b[33m2025-03-27 06:49:38.979 (  24.990s) [    77115417B740]      vtkCGNSReader.cxx:4268  WARN| vtkCGNSReader (0x63d1a65ace00): Skipping BC_t node: BC_t type 'BCTunnelOutflow' not supported yet.\u001b[0m\n",
      "\u001b[0m\u001b[33m2025-03-27 06:49:39.092 (  25.102s) [    77115417B740]      vtkCGNSReader.cxx:4268  WARN| vtkCGNSReader (0x63d1466c28c0): Skipping BC_t node: BC_t type 'BCInflow' not supported yet.\u001b[0m\n",
      "\u001b[0m\u001b[33m2025-03-27 06:49:39.092 (  25.102s) [    77115417B740]      vtkCGNSReader.cxx:4268  WARN| vtkCGNSReader (0x63d1466c28c0): Skipping BC_t node: BC_t type 'BCSymmetryPlane' not supported yet.\u001b[0m\n",
      "\u001b[0m\u001b[33m2025-03-27 06:49:39.092 (  25.102s) [    77115417B740]      vtkCGNSReader.cxx:4268  WARN| vtkCGNSReader (0x63d1466c28c0): Skipping BC_t node: BC_t type 'BCTunnelOutflow' not supported yet.\u001b[0m\n",
      "\u001b[0m\u001b[33m2025-03-27 06:49:39.207 (  25.218s) [    77115417B740]      vtkCGNSReader.cxx:4268  WARN| vtkCGNSReader (0x63d167ab80b0): Skipping BC_t node: BC_t type 'BCInflow' not supported yet.\u001b[0m\n",
      "\u001b[0m\u001b[33m2025-03-27 06:49:39.207 (  25.218s) [    77115417B740]      vtkCGNSReader.cxx:4268  WARN| vtkCGNSReader (0x63d167ab80b0): Skipping BC_t node: BC_t type 'BCSymmetryPlane' not supported yet.\u001b[0m\n",
      "\u001b[0m\u001b[33m2025-03-27 06:49:39.207 (  25.218s) [    77115417B740]      vtkCGNSReader.cxx:4268  WARN| vtkCGNSReader (0x63d167ab80b0): Skipping BC_t node: BC_t type 'BCTunnelOutflow' not supported yet.\u001b[0m\n",
      "\u001b[0m\u001b[33m2025-03-27 06:49:39.321 (  25.331s) [    77115417B740]      vtkCGNSReader.cxx:4268  WARN| vtkCGNSReader (0x63d1804e7970): Skipping BC_t node: BC_t type 'BCInflow' not supported yet.\u001b[0m\n",
      "\u001b[0m\u001b[33m2025-03-27 06:49:39.321 (  25.331s) [    77115417B740]      vtkCGNSReader.cxx:4268  WARN| vtkCGNSReader (0x63d1804e7970): Skipping BC_t node: BC_t type 'BCSymmetryPlane' not supported yet.\u001b[0m\n",
      "\u001b[0m\u001b[33m2025-03-27 06:49:39.321 (  25.331s) [    77115417B740]      vtkCGNSReader.cxx:4268  WARN| vtkCGNSReader (0x63d1804e7970): Skipping BC_t node: BC_t type 'BCTunnelOutflow' not supported yet.\u001b[0m\n",
      "\u001b[0m\u001b[33m2025-03-27 06:49:39.435 (  25.446s) [    77115417B740]      vtkCGNSReader.cxx:4268  WARN| vtkCGNSReader (0x63d19900ab40): Skipping BC_t node: BC_t type 'BCInflow' not supported yet.\u001b[0m\n",
      "\u001b[0m\u001b[33m2025-03-27 06:49:39.435 (  25.446s) [    77115417B740]      vtkCGNSReader.cxx:4268  WARN| vtkCGNSReader (0x63d19900ab40): Skipping BC_t node: BC_t type 'BCSymmetryPlane' not supported yet.\u001b[0m\n",
      "\u001b[0m\u001b[33m2025-03-27 06:49:39.435 (  25.446s) [    77115417B740]      vtkCGNSReader.cxx:4268  WARN| vtkCGNSReader (0x63d19900ab40): Skipping BC_t node: BC_t type 'BCTunnelOutflow' not supported yet.\u001b[0m\n",
      "\u001b[0m\u001b[33m2025-03-27 06:49:39.546 (  25.556s) [    77115417B740]      vtkCGNSReader.cxx:4268  WARN| vtkCGNSReader (0x63d1b0ecd460): Skipping BC_t node: BC_t type 'BCInflow' not supported yet.\u001b[0m\n",
      "\u001b[0m\u001b[33m2025-03-27 06:49:39.546 (  25.556s) [    77115417B740]      vtkCGNSReader.cxx:4268  WARN| vtkCGNSReader (0x63d1b0ecd460): Skipping BC_t node: BC_t type 'BCSymmetryPlane' not supported yet.\u001b[0m\n",
      "\u001b[0m\u001b[33m2025-03-27 06:49:39.546 (  25.556s) [    77115417B740]      vtkCGNSReader.cxx:4268  WARN| vtkCGNSReader (0x63d1b0ecd460): Skipping BC_t node: BC_t type 'BCTunnelOutflow' not supported yet.\u001b[0m\n",
      "\u001b[0m\u001b[33m2025-03-27 06:49:39.670 (  25.680s) [    77115417B740]      vtkCGNSReader.cxx:4268  WARN| vtkCGNSReader (0x63d10565d010): Skipping BC_t node: BC_t type 'BCInflow' not supported yet.\u001b[0m\n",
      "\u001b[0m\u001b[33m2025-03-27 06:49:39.670 (  25.680s) [    77115417B740]      vtkCGNSReader.cxx:4268  WARN| vtkCGNSReader (0x63d10565d010): Skipping BC_t node: BC_t type 'BCSymmetryPlane' not supported yet.\u001b[0m\n",
      "\u001b[0m\u001b[33m2025-03-27 06:49:39.670 (  25.680s) [    77115417B740]      vtkCGNSReader.cxx:4268  WARN| vtkCGNSReader (0x63d10565d010): Skipping BC_t node: BC_t type 'BCTunnelOutflow' not supported yet.\u001b[0m\n",
      "\u001b[0m\u001b[33m2025-03-27 06:49:39.785 (  25.796s) [    77115417B740]      vtkCGNSReader.cxx:4268  WARN| vtkCGNSReader (0x63d167ab7460): Skipping BC_t node: BC_t type 'BCInflow' not supported yet.\u001b[0m\n",
      "\u001b[0m\u001b[33m2025-03-27 06:49:39.785 (  25.796s) [    77115417B740]      vtkCGNSReader.cxx:4268  WARN| vtkCGNSReader (0x63d167ab7460): Skipping BC_t node: BC_t type 'BCSymmetryPlane' not supported yet.\u001b[0m\n",
      "\u001b[0m\u001b[33m2025-03-27 06:49:39.785 (  25.796s) [    77115417B740]      vtkCGNSReader.cxx:4268  WARN| vtkCGNSReader (0x63d167ab7460): Skipping BC_t node: BC_t type 'BCTunnelOutflow' not supported yet.\u001b[0m\n",
      "\u001b[0m\u001b[33m2025-03-27 06:49:39.900 (  25.911s) [    77115417B740]      vtkCGNSReader.cxx:4268  WARN| vtkCGNSReader (0x63d16c7015e0): Skipping BC_t node: BC_t type 'BCInflow' not supported yet.\u001b[0m\n",
      "\u001b[0m\u001b[33m2025-03-27 06:49:39.900 (  25.911s) [    77115417B740]      vtkCGNSReader.cxx:4268  WARN| vtkCGNSReader (0x63d16c7015e0): Skipping BC_t node: BC_t type 'BCSymmetryPlane' not supported yet.\u001b[0m\n",
      "\u001b[0m\u001b[33m2025-03-27 06:49:39.900 (  25.911s) [    77115417B740]      vtkCGNSReader.cxx:4268  WARN| vtkCGNSReader (0x63d16c7015e0): Skipping BC_t node: BC_t type 'BCTunnelOutflow' not supported yet.\u001b[0m\n",
      "\u001b[0m\u001b[33m2025-03-27 06:49:40.016 (  26.026s) [    77115417B740]      vtkCGNSReader.cxx:4268  WARN| vtkCGNSReader (0x63d15e1a6af0): Skipping BC_t node: BC_t type 'BCInflow' not supported yet.\u001b[0m\n",
      "\u001b[0m\u001b[33m2025-03-27 06:49:40.016 (  26.026s) [    77115417B740]      vtkCGNSReader.cxx:4268  WARN| vtkCGNSReader (0x63d15e1a6af0): Skipping BC_t node: BC_t type 'BCSymmetryPlane' not supported yet.\u001b[0m\n",
      "\u001b[0m\u001b[33m2025-03-27 06:49:40.016 (  26.026s) [    77115417B740]      vtkCGNSReader.cxx:4268  WARN| vtkCGNSReader (0x63d15e1a6af0): Skipping BC_t node: BC_t type 'BCTunnelOutflow' not supported yet.\u001b[0m\n",
      "\u001b[0m\u001b[33m2025-03-27 06:49:40.136 (  26.147s) [    77115417B740]      vtkCGNSReader.cxx:4268  WARN| vtkCGNSReader (0x63d197e89aa0): Skipping BC_t node: BC_t type 'BCInflow' not supported yet.\u001b[0m\n",
      "\u001b[0m\u001b[33m2025-03-27 06:49:40.136 (  26.147s) [    77115417B740]      vtkCGNSReader.cxx:4268  WARN| vtkCGNSReader (0x63d197e89aa0): Skipping BC_t node: BC_t type 'BCSymmetryPlane' not supported yet.\u001b[0m\n",
      "\u001b[0m\u001b[33m2025-03-27 06:49:40.136 (  26.147s) [    77115417B740]      vtkCGNSReader.cxx:4268  WARN| vtkCGNSReader (0x63d197e89aa0): Skipping BC_t node: BC_t type 'BCTunnelOutflow' not supported yet.\u001b[0m\n",
      "\u001b[0m\u001b[33m2025-03-27 06:49:40.251 (  26.261s) [    77115417B740]      vtkCGNSReader.cxx:4268  WARN| vtkCGNSReader (0x63d1a6c14ba0): Skipping BC_t node: BC_t type 'BCInflow' not supported yet.\u001b[0m\n",
      "\u001b[0m\u001b[33m2025-03-27 06:49:40.251 (  26.261s) [    77115417B740]      vtkCGNSReader.cxx:4268  WARN| vtkCGNSReader (0x63d1a6c14ba0): Skipping BC_t node: BC_t type 'BCSymmetryPlane' not supported yet.\u001b[0m\n",
      "\u001b[0m\u001b[33m2025-03-27 06:49:40.251 (  26.261s) [    77115417B740]      vtkCGNSReader.cxx:4268  WARN| vtkCGNSReader (0x63d1a6c14ba0): Skipping BC_t node: BC_t type 'BCTunnelOutflow' not supported yet.\u001b[0m\n",
      "\u001b[0m\u001b[33m2025-03-27 06:49:40.370 (  26.381s) [    77115417B740]      vtkCGNSReader.cxx:4268  WARN| vtkCGNSReader (0x63d1008ea450): Skipping BC_t node: BC_t type 'BCInflow' not supported yet.\u001b[0m\n",
      "\u001b[0m\u001b[33m2025-03-27 06:49:40.370 (  26.381s) [    77115417B740]      vtkCGNSReader.cxx:4268  WARN| vtkCGNSReader (0x63d1008ea450): Skipping BC_t node: BC_t type 'BCSymmetryPlane' not supported yet.\u001b[0m\n",
      "\u001b[0m\u001b[33m2025-03-27 06:49:40.370 (  26.381s) [    77115417B740]      vtkCGNSReader.cxx:4268  WARN| vtkCGNSReader (0x63d1008ea450): Skipping BC_t node: BC_t type 'BCTunnelOutflow' not supported yet.\u001b[0m\n",
      "\u001b[0m\u001b[33m2025-03-27 06:49:40.472 (  26.483s) [    77115417B740]      vtkCGNSReader.cxx:4268  WARN| vtkCGNSReader (0x63d1b0eccdf0): Skipping BC_t node: BC_t type 'BCInflow' not supported yet.\u001b[0m\n",
      "\u001b[0m\u001b[33m2025-03-27 06:49:40.472 (  26.483s) [    77115417B740]      vtkCGNSReader.cxx:4268  WARN| vtkCGNSReader (0x63d1b0eccdf0): Skipping BC_t node: BC_t type 'BCSymmetryPlane' not supported yet.\u001b[0m\n",
      "\u001b[0m\u001b[33m2025-03-27 06:49:40.473 (  26.483s) [    77115417B740]      vtkCGNSReader.cxx:4268  WARN| vtkCGNSReader (0x63d1b0eccdf0): Skipping BC_t node: BC_t type 'BCTunnelOutflow' not supported yet.\u001b[0m\n",
      "\u001b[0m\u001b[33m2025-03-27 06:49:40.586 (  26.597s) [    77115417B740]      vtkCGNSReader.cxx:4268  WARN| vtkCGNSReader (0x63d1e6c80380): Skipping BC_t node: BC_t type 'BCInflow' not supported yet.\u001b[0m\n",
      "\u001b[0m\u001b[33m2025-03-27 06:49:40.586 (  26.597s) [    77115417B740]      vtkCGNSReader.cxx:4268  WARN| vtkCGNSReader (0x63d1e6c80380): Skipping BC_t node: BC_t type 'BCSymmetryPlane' not supported yet.\u001b[0m\n",
      "\u001b[0m\u001b[33m2025-03-27 06:49:40.586 (  26.597s) [    77115417B740]      vtkCGNSReader.cxx:4268  WARN| vtkCGNSReader (0x63d1e6c80380): Skipping BC_t node: BC_t type 'BCTunnelOutflow' not supported yet.\u001b[0m\n",
      "\u001b[0m\u001b[33m2025-03-27 06:49:40.702 (  26.712s) [    77115417B740]      vtkCGNSReader.cxx:4268  WARN| vtkCGNSReader (0x63d15e1a5d70): Skipping BC_t node: BC_t type 'BCInflow' not supported yet.\u001b[0m\n",
      "\u001b[0m\u001b[33m2025-03-27 06:49:40.702 (  26.712s) [    77115417B740]      vtkCGNSReader.cxx:4268  WARN| vtkCGNSReader (0x63d15e1a5d70): Skipping BC_t node: BC_t type 'BCSymmetryPlane' not supported yet.\u001b[0m\n",
      "\u001b[0m\u001b[33m2025-03-27 06:49:40.702 (  26.712s) [    77115417B740]      vtkCGNSReader.cxx:4268  WARN| vtkCGNSReader (0x63d15e1a5d70): Skipping BC_t node: BC_t type 'BCTunnelOutflow' not supported yet.\u001b[0m\n",
      "\u001b[0m\u001b[33m2025-03-27 06:49:40.820 (  26.830s) [    77115417B740]      vtkCGNSReader.cxx:4268  WARN| vtkCGNSReader (0x63d1a6c14060): Skipping BC_t node: BC_t type 'BCInflow' not supported yet.\u001b[0m\n",
      "\u001b[0m\u001b[33m2025-03-27 06:49:40.820 (  26.830s) [    77115417B740]      vtkCGNSReader.cxx:4268  WARN| vtkCGNSReader (0x63d1a6c14060): Skipping BC_t node: BC_t type 'BCSymmetryPlane' not supported yet.\u001b[0m\n",
      "\u001b[0m\u001b[33m2025-03-27 06:49:40.820 (  26.830s) [    77115417B740]      vtkCGNSReader.cxx:4268  WARN| vtkCGNSReader (0x63d1a6c14060): Skipping BC_t node: BC_t type 'BCTunnelOutflow' not supported yet.\u001b[0m\n",
      "\u001b[0m\u001b[33m2025-03-27 06:49:40.929 (  26.940s) [    77115417B740]      vtkCGNSReader.cxx:4268  WARN| vtkCGNSReader (0x63d197e8ad70): Skipping BC_t node: BC_t type 'BCInflow' not supported yet.\u001b[0m\n",
      "\u001b[0m\u001b[33m2025-03-27 06:49:40.929 (  26.940s) [    77115417B740]      vtkCGNSReader.cxx:4268  WARN| vtkCGNSReader (0x63d197e8ad70): Skipping BC_t node: BC_t type 'BCSymmetryPlane' not supported yet.\u001b[0m\n",
      "\u001b[0m\u001b[33m2025-03-27 06:49:40.929 (  26.940s) [    77115417B740]      vtkCGNSReader.cxx:4268  WARN| vtkCGNSReader (0x63d197e8ad70): Skipping BC_t node: BC_t type 'BCTunnelOutflow' not supported yet.\u001b[0m\n",
      "\u001b[0m\u001b[33m2025-03-27 06:49:41.038 (  27.048s) [    77115417B740]      vtkCGNSReader.cxx:4268  WARN| vtkCGNSReader (0x63d197e893a0): Skipping BC_t node: BC_t type 'BCInflow' not supported yet.\u001b[0m\n",
      "\u001b[0m\u001b[33m2025-03-27 06:49:41.038 (  27.048s) [    77115417B740]      vtkCGNSReader.cxx:4268  WARN| vtkCGNSReader (0x63d197e893a0): Skipping BC_t node: BC_t type 'BCSymmetryPlane' not supported yet.\u001b[0m\n",
      "\u001b[0m\u001b[33m2025-03-27 06:49:41.038 (  27.048s) [    77115417B740]      vtkCGNSReader.cxx:4268  WARN| vtkCGNSReader (0x63d197e893a0): Skipping BC_t node: BC_t type 'BCTunnelOutflow' not supported yet.\u001b[0m\n"
     ]
    },
    {
     "data": {
      "text/plain": [
       "<src.voxel_flow_field_dataset.VoxelFlowFieldDataset at 0x77100e0a9c10>"
      ]
     },
     "execution_count": 4,
     "metadata": {},
     "output_type": "execute_result"
    }
   ],
   "source": [
    "from src.pyvista_flow_field_dataset import PyvistaFlowFieldDataset\n",
    "from src.voxel_flow_field_dataset import VoxelFlowFieldDataset, VoxelFlowFieldDatasetConfig\n",
    "ds_pv = PyvistaFlowFieldDataset.load_from_huggingface(num_samples=200)\n",
    "ds_voxel = VoxelFlowFieldDataset('datasets/voxels',VoxelFlowFieldDatasetConfig(ds_pv, resolution=(32,16,16)))\n",
    "#ds_voxel = VoxelFlowFieldDataset('datasets/voxels')\n",
    "ds_voxel.normalize()"
   ]
  },
  {
   "cell_type": "code",
   "execution_count": 5,
   "metadata": {},
   "outputs": [],
   "source": [
    "\n",
    "import torch.utils.data as data\n",
    "dataloader = data.DataLoader(ds_voxel.get_default_loadable_dataset(), batch_size=3, shuffle=True)"
   ]
  },
  {
   "cell_type": "code",
   "execution_count": 6,
   "metadata": {},
   "outputs": [
    {
     "name": "stdout",
     "output_type": "stream",
     "text": [
      "Using device: cuda\n"
     ]
    },
    {
     "name": "stderr",
     "output_type": "stream",
     "text": [
      "Epoch 1/1000: 100%|██████████| 66/66 [00:00<00:00, 136.00it/s]\n"
     ]
    },
    {
     "name": "stdout",
     "output_type": "stream",
     "text": [
      "Epoch 1, Loss: 5.771272043387095\n"
     ]
    },
    {
     "name": "stderr",
     "output_type": "stream",
     "text": [
      "Epoch 2/1000: 100%|██████████| 66/66 [00:00<00:00, 321.38it/s]\n"
     ]
    },
    {
     "name": "stdout",
     "output_type": "stream",
     "text": [
      "Epoch 2, Loss: 5.575748031789606\n"
     ]
    },
    {
     "name": "stderr",
     "output_type": "stream",
     "text": [
      "Epoch 3/1000: 100%|██████████| 66/66 [00:00<00:00, 320.91it/s]\n"
     ]
    },
    {
     "name": "stdout",
     "output_type": "stream",
     "text": [
      "Epoch 3, Loss: 5.439755498008295\n"
     ]
    },
    {
     "name": "stderr",
     "output_type": "stream",
     "text": [
      "Epoch 4/1000: 100%|██████████| 66/66 [00:00<00:00, 325.76it/s]\n"
     ]
    },
    {
     "name": "stdout",
     "output_type": "stream",
     "text": [
      "Epoch 4, Loss: 5.3762311005231105\n"
     ]
    },
    {
     "name": "stderr",
     "output_type": "stream",
     "text": [
      "Epoch 5/1000: 100%|██████████| 66/66 [00:00<00:00, 347.81it/s]\n"
     ]
    },
    {
     "name": "stdout",
     "output_type": "stream",
     "text": [
      "Epoch 5, Loss: 5.360420993783257\n"
     ]
    },
    {
     "name": "stderr",
     "output_type": "stream",
     "text": [
      "Epoch 6/1000: 100%|██████████| 66/66 [00:00<00:00, 324.89it/s]\n"
     ]
    },
    {
     "name": "stdout",
     "output_type": "stream",
     "text": [
      "Epoch 6, Loss: 5.318877099589868\n"
     ]
    },
    {
     "name": "stderr",
     "output_type": "stream",
     "text": [
      "Epoch 7/1000: 100%|██████████| 66/66 [00:00<00:00, 326.22it/s]\n"
     ]
    },
    {
     "name": "stdout",
     "output_type": "stream",
     "text": [
      "Epoch 7, Loss: 5.291314756779959\n"
     ]
    },
    {
     "name": "stderr",
     "output_type": "stream",
     "text": [
      "Epoch 8/1000: 100%|██████████| 66/66 [00:00<00:00, 324.58it/s]\n"
     ]
    },
    {
     "name": "stdout",
     "output_type": "stream",
     "text": [
      "Epoch 8, Loss: 5.251236762964364\n"
     ]
    },
    {
     "name": "stderr",
     "output_type": "stream",
     "text": [
      "Epoch 9/1000: 100%|██████████| 66/66 [00:00<00:00, 334.15it/s]\n"
     ]
    },
    {
     "name": "stdout",
     "output_type": "stream",
     "text": [
      "Epoch 9, Loss: 5.2228072118578535\n"
     ]
    },
    {
     "name": "stderr",
     "output_type": "stream",
     "text": [
      "Epoch 10/1000: 100%|██████████| 66/66 [00:00<00:00, 386.82it/s]\n"
     ]
    },
    {
     "name": "stdout",
     "output_type": "stream",
     "text": [
      "Epoch 10, Loss: 5.222084318598111\n"
     ]
    },
    {
     "name": "stderr",
     "output_type": "stream",
     "text": [
      "Epoch 11/1000: 100%|██████████| 66/66 [00:00<00:00, 362.33it/s]\n"
     ]
    },
    {
     "name": "stdout",
     "output_type": "stream",
     "text": [
      "Epoch 11, Loss: 5.1046431990283905\n"
     ]
    },
    {
     "name": "stderr",
     "output_type": "stream",
     "text": [
      "Epoch 12/1000: 100%|██████████| 66/66 [00:00<00:00, 350.07it/s]\n"
     ]
    },
    {
     "name": "stdout",
     "output_type": "stream",
     "text": [
      "Epoch 12, Loss: 5.139319478788159\n"
     ]
    },
    {
     "name": "stderr",
     "output_type": "stream",
     "text": [
      "Epoch 13/1000: 100%|██████████| 66/66 [00:00<00:00, 327.93it/s]\n"
     ]
    },
    {
     "name": "stdout",
     "output_type": "stream",
     "text": [
      "Epoch 13, Loss: 5.136780559113531\n"
     ]
    },
    {
     "name": "stderr",
     "output_type": "stream",
     "text": [
      "Epoch 14/1000: 100%|██████████| 66/66 [00:00<00:00, 385.40it/s]\n"
     ]
    },
    {
     "name": "stdout",
     "output_type": "stream",
     "text": [
      "Epoch 14, Loss: 4.975650683045387\n"
     ]
    },
    {
     "name": "stderr",
     "output_type": "stream",
     "text": [
      "Epoch 15/1000: 100%|██████████| 66/66 [00:00<00:00, 392.18it/s]\n"
     ]
    },
    {
     "name": "stdout",
     "output_type": "stream",
     "text": [
      "Epoch 15, Loss: 5.025079769167033\n"
     ]
    },
    {
     "name": "stderr",
     "output_type": "stream",
     "text": [
      "Epoch 16/1000: 100%|██████████| 66/66 [00:00<00:00, 327.55it/s]\n"
     ]
    },
    {
     "name": "stdout",
     "output_type": "stream",
     "text": [
      "Epoch 16, Loss: 4.975894645759554\n"
     ]
    },
    {
     "name": "stderr",
     "output_type": "stream",
     "text": [
      "Epoch 17/1000: 100%|██████████| 66/66 [00:00<00:00, 326.06it/s]\n"
     ]
    },
    {
     "name": "stdout",
     "output_type": "stream",
     "text": [
      "Epoch 17, Loss: 4.996104573661631\n"
     ]
    },
    {
     "name": "stderr",
     "output_type": "stream",
     "text": [
      "Epoch 18/1000: 100%|██████████| 66/66 [00:00<00:00, 325.36it/s]\n"
     ]
    },
    {
     "name": "stdout",
     "output_type": "stream",
     "text": [
      "Epoch 18, Loss: 4.9569226124069905\n"
     ]
    },
    {
     "name": "stderr",
     "output_type": "stream",
     "text": [
      "Epoch 19/1000: 100%|██████████| 66/66 [00:00<00:00, 360.44it/s]\n"
     ]
    },
    {
     "name": "stdout",
     "output_type": "stream",
     "text": [
      "Epoch 19, Loss: 4.981422654155529\n"
     ]
    },
    {
     "name": "stderr",
     "output_type": "stream",
     "text": [
      "Epoch 20/1000: 100%|██████████| 66/66 [00:00<00:00, 335.60it/s]\n"
     ]
    },
    {
     "name": "stdout",
     "output_type": "stream",
     "text": [
      "Epoch 20, Loss: 4.8844867113864785\n"
     ]
    },
    {
     "name": "stderr",
     "output_type": "stream",
     "text": [
      "Epoch 21/1000: 100%|██████████| 66/66 [00:00<00:00, 342.18it/s]\n"
     ]
    },
    {
     "name": "stdout",
     "output_type": "stream",
     "text": [
      "Epoch 21, Loss: 5.007613049086296\n"
     ]
    },
    {
     "name": "stderr",
     "output_type": "stream",
     "text": [
      "Epoch 22/1000: 100%|██████████| 66/66 [00:00<00:00, 322.18it/s]\n"
     ]
    },
    {
     "name": "stdout",
     "output_type": "stream",
     "text": [
      "Epoch 22, Loss: 4.882974327513666\n"
     ]
    },
    {
     "name": "stderr",
     "output_type": "stream",
     "text": [
      "Epoch 23/1000: 100%|██████████| 66/66 [00:00<00:00, 316.79it/s]\n"
     ]
    },
    {
     "name": "stdout",
     "output_type": "stream",
     "text": [
      "Epoch 23, Loss: 4.84028218528538\n"
     ]
    },
    {
     "name": "stderr",
     "output_type": "stream",
     "text": [
      "Epoch 24/1000: 100%|██████████| 66/66 [00:00<00:00, 325.83it/s]\n"
     ]
    },
    {
     "name": "stdout",
     "output_type": "stream",
     "text": [
      "Epoch 24, Loss: 4.781191673468459\n"
     ]
    },
    {
     "name": "stderr",
     "output_type": "stream",
     "text": [
      "Epoch 25/1000: 100%|██████████| 66/66 [00:00<00:00, 325.88it/s]\n"
     ]
    },
    {
     "name": "stdout",
     "output_type": "stream",
     "text": [
      "Epoch 25, Loss: 4.924444296143272\n"
     ]
    },
    {
     "name": "stderr",
     "output_type": "stream",
     "text": [
      "Epoch 26/1000: 100%|██████████| 66/66 [00:00<00:00, 326.01it/s]\n"
     ]
    },
    {
     "name": "stdout",
     "output_type": "stream",
     "text": [
      "Epoch 26, Loss: 4.8683316953706015\n"
     ]
    },
    {
     "name": "stderr",
     "output_type": "stream",
     "text": [
      "Epoch 27/1000: 100%|██████████| 66/66 [00:00<00:00, 325.90it/s]\n"
     ]
    },
    {
     "name": "stdout",
     "output_type": "stream",
     "text": [
      "Epoch 27, Loss: 4.822700564156879\n"
     ]
    },
    {
     "name": "stderr",
     "output_type": "stream",
     "text": [
      "Epoch 28/1000: 100%|██████████| 66/66 [00:00<00:00, 326.97it/s]\n"
     ]
    },
    {
     "name": "stdout",
     "output_type": "stream",
     "text": [
      "Epoch 28, Loss: 4.776318285501365\n"
     ]
    },
    {
     "name": "stderr",
     "output_type": "stream",
     "text": [
      "Epoch 29/1000: 100%|██████████| 66/66 [00:00<00:00, 493.58it/s]\n"
     ]
    },
    {
     "name": "stdout",
     "output_type": "stream",
     "text": [
      "Epoch 29, Loss: 4.781418098870552\n"
     ]
    },
    {
     "name": "stderr",
     "output_type": "stream",
     "text": [
      "Epoch 30/1000: 100%|██████████| 66/66 [00:00<00:00, 322.23it/s]\n"
     ]
    },
    {
     "name": "stdout",
     "output_type": "stream",
     "text": [
      "Epoch 30, Loss: 4.860018408659733\n"
     ]
    },
    {
     "name": "stderr",
     "output_type": "stream",
     "text": [
      "Epoch 31/1000: 100%|██████████| 66/66 [00:00<00:00, 333.45it/s]\n"
     ]
    },
    {
     "name": "stdout",
     "output_type": "stream",
     "text": [
      "Epoch 31, Loss: 4.738144157510815\n"
     ]
    },
    {
     "name": "stderr",
     "output_type": "stream",
     "text": [
      "Epoch 32/1000: 100%|██████████| 66/66 [00:00<00:00, 390.78it/s]\n"
     ]
    },
    {
     "name": "stdout",
     "output_type": "stream",
     "text": [
      "Epoch 32, Loss: 4.7336643480441785\n"
     ]
    },
    {
     "name": "stderr",
     "output_type": "stream",
     "text": [
      "Epoch 33/1000: 100%|██████████| 66/66 [00:00<00:00, 336.73it/s]\n"
     ]
    },
    {
     "name": "stdout",
     "output_type": "stream",
     "text": [
      "Epoch 33, Loss: 4.667886409569871\n"
     ]
    },
    {
     "name": "stderr",
     "output_type": "stream",
     "text": [
      "Epoch 34/1000: 100%|██████████| 66/66 [00:00<00:00, 325.22it/s]\n"
     ]
    },
    {
     "name": "stdout",
     "output_type": "stream",
     "text": [
      "Epoch 34, Loss: 4.689781584974491\n"
     ]
    },
    {
     "name": "stderr",
     "output_type": "stream",
     "text": [
      "Epoch 35/1000: 100%|██████████| 66/66 [00:00<00:00, 326.00it/s]\n"
     ]
    },
    {
     "name": "stdout",
     "output_type": "stream",
     "text": [
      "Epoch 35, Loss: 4.905823262126157\n"
     ]
    },
    {
     "name": "stderr",
     "output_type": "stream",
     "text": [
      "Epoch 36/1000: 100%|██████████| 66/66 [00:00<00:00, 326.10it/s]\n"
     ]
    },
    {
     "name": "stdout",
     "output_type": "stream",
     "text": [
      "Epoch 36, Loss: 4.672430671977274\n"
     ]
    },
    {
     "name": "stderr",
     "output_type": "stream",
     "text": [
      "Epoch 37/1000: 100%|██████████| 66/66 [00:00<00:00, 324.59it/s]\n"
     ]
    },
    {
     "name": "stdout",
     "output_type": "stream",
     "text": [
      "Epoch 37, Loss: 4.661424080756578\n"
     ]
    },
    {
     "name": "stderr",
     "output_type": "stream",
     "text": [
      "Epoch 38/1000: 100%|██████████| 66/66 [00:00<00:00, 323.19it/s]\n"
     ]
    },
    {
     "name": "stdout",
     "output_type": "stream",
     "text": [
      "Epoch 38, Loss: 4.69953283735297\n"
     ]
    },
    {
     "name": "stderr",
     "output_type": "stream",
     "text": [
      "Epoch 39/1000: 100%|██████████| 66/66 [00:00<00:00, 325.33it/s]\n"
     ]
    },
    {
     "name": "stdout",
     "output_type": "stream",
     "text": [
      "Epoch 39, Loss: 4.686126248854579\n"
     ]
    },
    {
     "name": "stderr",
     "output_type": "stream",
     "text": [
      "Epoch 40/1000: 100%|██████████| 66/66 [00:00<00:00, 325.86it/s]\n"
     ]
    },
    {
     "name": "stdout",
     "output_type": "stream",
     "text": [
      "Epoch 40, Loss: 4.6277590908787465\n"
     ]
    },
    {
     "name": "stderr",
     "output_type": "stream",
     "text": [
      "Epoch 41/1000: 100%|██████████| 66/66 [00:00<00:00, 326.38it/s]\n"
     ]
    },
    {
     "name": "stdout",
     "output_type": "stream",
     "text": [
      "Epoch 41, Loss: 4.662855284909408\n"
     ]
    },
    {
     "name": "stderr",
     "output_type": "stream",
     "text": [
      "Epoch 42/1000: 100%|██████████| 66/66 [00:00<00:00, 326.84it/s]\n"
     ]
    },
    {
     "name": "stdout",
     "output_type": "stream",
     "text": [
      "Epoch 42, Loss: 4.784439885706613\n"
     ]
    },
    {
     "name": "stderr",
     "output_type": "stream",
     "text": [
      "Epoch 43/1000: 100%|██████████| 66/66 [00:00<00:00, 326.94it/s]\n"
     ]
    },
    {
     "name": "stdout",
     "output_type": "stream",
     "text": [
      "Epoch 43, Loss: 4.671251817860386\n"
     ]
    },
    {
     "name": "stderr",
     "output_type": "stream",
     "text": [
      "Epoch 44/1000: 100%|██████████| 66/66 [00:00<00:00, 324.14it/s]\n"
     ]
    },
    {
     "name": "stdout",
     "output_type": "stream",
     "text": [
      "Epoch 44, Loss: 4.648758228078033\n"
     ]
    },
    {
     "name": "stderr",
     "output_type": "stream",
     "text": [
      "Epoch 45/1000: 100%|██████████| 66/66 [00:00<00:00, 325.97it/s]\n"
     ]
    },
    {
     "name": "stdout",
     "output_type": "stream",
     "text": [
      "Epoch 45, Loss: 4.60922365658211\n"
     ]
    },
    {
     "name": "stderr",
     "output_type": "stream",
     "text": [
      "Epoch 46/1000: 100%|██████████| 66/66 [00:00<00:00, 325.94it/s]\n"
     ]
    },
    {
     "name": "stdout",
     "output_type": "stream",
     "text": [
      "Epoch 46, Loss: 4.5820807746865535\n"
     ]
    },
    {
     "name": "stderr",
     "output_type": "stream",
     "text": [
      "Epoch 47/1000: 100%|██████████| 66/66 [00:00<00:00, 326.25it/s]\n"
     ]
    },
    {
     "name": "stdout",
     "output_type": "stream",
     "text": [
      "Epoch 47, Loss: 4.553240789834297\n"
     ]
    },
    {
     "name": "stderr",
     "output_type": "stream",
     "text": [
      "Epoch 48/1000: 100%|██████████| 66/66 [00:00<00:00, 326.86it/s]\n"
     ]
    },
    {
     "name": "stdout",
     "output_type": "stream",
     "text": [
      "Epoch 48, Loss: 4.562226535695972\n"
     ]
    },
    {
     "name": "stderr",
     "output_type": "stream",
     "text": [
      "Epoch 49/1000: 100%|██████████| 66/66 [00:00<00:00, 326.27it/s]\n"
     ]
    },
    {
     "name": "stdout",
     "output_type": "stream",
     "text": [
      "Epoch 49, Loss: 4.507261805010565\n"
     ]
    },
    {
     "name": "stderr",
     "output_type": "stream",
     "text": [
      "Epoch 50/1000: 100%|██████████| 66/66 [00:00<00:00, 416.50it/s]\n"
     ]
    },
    {
     "name": "stdout",
     "output_type": "stream",
     "text": [
      "Epoch 50, Loss: 4.56833203881979\n"
     ]
    },
    {
     "name": "stderr",
     "output_type": "stream",
     "text": [
      "Epoch 51/1000: 100%|██████████| 66/66 [00:00<00:00, 315.78it/s]\n"
     ]
    },
    {
     "name": "stdout",
     "output_type": "stream",
     "text": [
      "Epoch 51, Loss: 4.477154857281483\n"
     ]
    },
    {
     "name": "stderr",
     "output_type": "stream",
     "text": [
      "Epoch 52/1000: 100%|██████████| 66/66 [00:00<00:00, 326.62it/s]\n"
     ]
    },
    {
     "name": "stdout",
     "output_type": "stream",
     "text": [
      "Epoch 52, Loss: 4.473265407663403\n"
     ]
    },
    {
     "name": "stderr",
     "output_type": "stream",
     "text": [
      "Epoch 53/1000: 100%|██████████| 66/66 [00:00<00:00, 383.96it/s]\n"
     ]
    },
    {
     "name": "stdout",
     "output_type": "stream",
     "text": [
      "Epoch 53, Loss: 4.581549123606899\n"
     ]
    },
    {
     "name": "stderr",
     "output_type": "stream",
     "text": [
      "Epoch 54/1000: 100%|██████████| 66/66 [00:00<00:00, 339.67it/s]\n"
     ]
    },
    {
     "name": "stdout",
     "output_type": "stream",
     "text": [
      "Epoch 54, Loss: 4.529252854260531\n"
     ]
    },
    {
     "name": "stderr",
     "output_type": "stream",
     "text": [
      "Epoch 55/1000: 100%|██████████| 66/66 [00:00<00:00, 322.18it/s]\n"
     ]
    },
    {
     "name": "stdout",
     "output_type": "stream",
     "text": [
      "Epoch 55, Loss: 4.462068359734434\n"
     ]
    },
    {
     "name": "stderr",
     "output_type": "stream",
     "text": [
      "Epoch 56/1000: 100%|██████████| 66/66 [00:00<00:00, 324.96it/s]\n"
     ]
    },
    {
     "name": "stdout",
     "output_type": "stream",
     "text": [
      "Epoch 56, Loss: 4.481025357589577\n"
     ]
    },
    {
     "name": "stderr",
     "output_type": "stream",
     "text": [
      "Epoch 57/1000: 100%|██████████| 66/66 [00:00<00:00, 326.16it/s]\n"
     ]
    },
    {
     "name": "stdout",
     "output_type": "stream",
     "text": [
      "Epoch 57, Loss: 4.413418197947921\n"
     ]
    },
    {
     "name": "stderr",
     "output_type": "stream",
     "text": [
      "Epoch 58/1000: 100%|██████████| 66/66 [00:00<00:00, 301.39it/s]\n"
     ]
    },
    {
     "name": "stdout",
     "output_type": "stream",
     "text": [
      "Epoch 58, Loss: 4.562794394565351\n"
     ]
    },
    {
     "name": "stderr",
     "output_type": "stream",
     "text": [
      "Epoch 59/1000: 100%|██████████| 66/66 [00:00<00:00, 348.72it/s]\n"
     ]
    },
    {
     "name": "stdout",
     "output_type": "stream",
     "text": [
      "Epoch 59, Loss: 4.4045968466635905\n"
     ]
    },
    {
     "name": "stderr",
     "output_type": "stream",
     "text": [
      "Epoch 60/1000: 100%|██████████| 66/66 [00:00<00:00, 349.08it/s]\n"
     ]
    },
    {
     "name": "stdout",
     "output_type": "stream",
     "text": [
      "Epoch 60, Loss: 4.459138628659827\n"
     ]
    },
    {
     "name": "stderr",
     "output_type": "stream",
     "text": [
      "Epoch 61/1000: 100%|██████████| 66/66 [00:00<00:00, 344.70it/s]\n"
     ]
    },
    {
     "name": "stdout",
     "output_type": "stream",
     "text": [
      "Epoch 61, Loss: 4.60388474414746\n"
     ]
    },
    {
     "name": "stderr",
     "output_type": "stream",
     "text": [
      "Epoch 62/1000: 100%|██████████| 66/66 [00:00<00:00, 325.82it/s]\n"
     ]
    },
    {
     "name": "stdout",
     "output_type": "stream",
     "text": [
      "Epoch 62, Loss: 4.4106474130442646\n"
     ]
    },
    {
     "name": "stderr",
     "output_type": "stream",
     "text": [
      "Epoch 63/1000: 100%|██████████| 66/66 [00:00<00:00, 326.38it/s]\n"
     ]
    },
    {
     "name": "stdout",
     "output_type": "stream",
     "text": [
      "Epoch 63, Loss: 4.427186161957004\n"
     ]
    },
    {
     "name": "stderr",
     "output_type": "stream",
     "text": [
      "Epoch 64/1000: 100%|██████████| 66/66 [00:00<00:00, 325.91it/s]\n"
     ]
    },
    {
     "name": "stdout",
     "output_type": "stream",
     "text": [
      "Epoch 64, Loss: 4.342731441512252\n"
     ]
    },
    {
     "name": "stderr",
     "output_type": "stream",
     "text": [
      "Epoch 65/1000: 100%|██████████| 66/66 [00:00<00:00, 326.00it/s]\n"
     ]
    },
    {
     "name": "stdout",
     "output_type": "stream",
     "text": [
      "Epoch 65, Loss: 4.3330748641129695\n"
     ]
    },
    {
     "name": "stderr",
     "output_type": "stream",
     "text": [
      "Epoch 66/1000: 100%|██████████| 66/66 [00:00<00:00, 321.55it/s]\n"
     ]
    },
    {
     "name": "stdout",
     "output_type": "stream",
     "text": [
      "Epoch 66, Loss: 4.330951244993643\n"
     ]
    },
    {
     "name": "stderr",
     "output_type": "stream",
     "text": [
      "Epoch 67/1000: 100%|██████████| 66/66 [00:00<00:00, 337.19it/s]\n"
     ]
    },
    {
     "name": "stdout",
     "output_type": "stream",
     "text": [
      "Epoch 67, Loss: 4.318391766286258\n"
     ]
    },
    {
     "name": "stderr",
     "output_type": "stream",
     "text": [
      "Epoch 68/1000: 100%|██████████| 66/66 [00:00<00:00, 323.02it/s]\n"
     ]
    },
    {
     "name": "stdout",
     "output_type": "stream",
     "text": [
      "Epoch 68, Loss: 4.418384333000039\n"
     ]
    },
    {
     "name": "stderr",
     "output_type": "stream",
     "text": [
      "Epoch 69/1000: 100%|██████████| 66/66 [00:00<00:00, 321.14it/s]\n"
     ]
    },
    {
     "name": "stdout",
     "output_type": "stream",
     "text": [
      "Epoch 69, Loss: 4.305674856133534\n"
     ]
    },
    {
     "name": "stderr",
     "output_type": "stream",
     "text": [
      "Epoch 70/1000: 100%|██████████| 66/66 [00:00<00:00, 370.32it/s]\n"
     ]
    },
    {
     "name": "stdout",
     "output_type": "stream",
     "text": [
      "Epoch 70, Loss: 4.312666183394013\n"
     ]
    },
    {
     "name": "stderr",
     "output_type": "stream",
     "text": [
      "Epoch 71/1000: 100%|██████████| 66/66 [00:00<00:00, 348.14it/s]\n"
     ]
    },
    {
     "name": "stdout",
     "output_type": "stream",
     "text": [
      "Epoch 71, Loss: 4.421592038689238\n"
     ]
    },
    {
     "name": "stderr",
     "output_type": "stream",
     "text": [
      "Epoch 72/1000: 100%|██████████| 66/66 [00:00<00:00, 354.25it/s]\n"
     ]
    },
    {
     "name": "stdout",
     "output_type": "stream",
     "text": [
      "Epoch 72, Loss: 4.459779203163855\n"
     ]
    },
    {
     "name": "stderr",
     "output_type": "stream",
     "text": [
      "Epoch 73/1000: 100%|██████████| 66/66 [00:00<00:00, 322.99it/s]\n"
     ]
    },
    {
     "name": "stdout",
     "output_type": "stream",
     "text": [
      "Epoch 73, Loss: 4.350458253513683\n"
     ]
    },
    {
     "name": "stderr",
     "output_type": "stream",
     "text": [
      "Epoch 74/1000: 100%|██████████| 66/66 [00:00<00:00, 318.78it/s]\n"
     ]
    },
    {
     "name": "stdout",
     "output_type": "stream",
     "text": [
      "Epoch 74, Loss: 4.2938778021118855\n"
     ]
    },
    {
     "name": "stderr",
     "output_type": "stream",
     "text": [
      "Epoch 75/1000: 100%|██████████| 66/66 [00:00<00:00, 326.14it/s]\n"
     ]
    },
    {
     "name": "stdout",
     "output_type": "stream",
     "text": [
      "Epoch 75, Loss: 4.333932576080163\n"
     ]
    },
    {
     "name": "stderr",
     "output_type": "stream",
     "text": [
      "Epoch 76/1000: 100%|██████████| 66/66 [00:00<00:00, 326.10it/s]\n"
     ]
    },
    {
     "name": "stdout",
     "output_type": "stream",
     "text": [
      "Epoch 76, Loss: 4.203197328881784\n"
     ]
    },
    {
     "name": "stderr",
     "output_type": "stream",
     "text": [
      "Epoch 77/1000: 100%|██████████| 66/66 [00:00<00:00, 403.31it/s]\n"
     ]
    },
    {
     "name": "stdout",
     "output_type": "stream",
     "text": [
      "Epoch 77, Loss: 4.1899106172901215\n"
     ]
    },
    {
     "name": "stderr",
     "output_type": "stream",
     "text": [
      "Epoch 78/1000: 100%|██████████| 66/66 [00:00<00:00, 406.61it/s]\n"
     ]
    },
    {
     "name": "stdout",
     "output_type": "stream",
     "text": [
      "Epoch 78, Loss: 4.280557551167228\n"
     ]
    },
    {
     "name": "stderr",
     "output_type": "stream",
     "text": [
      "Epoch 79/1000: 100%|██████████| 66/66 [00:00<00:00, 447.39it/s]\n"
     ]
    },
    {
     "name": "stdout",
     "output_type": "stream",
     "text": [
      "Epoch 79, Loss: 4.4203359238577615\n"
     ]
    },
    {
     "name": "stderr",
     "output_type": "stream",
     "text": [
      "Epoch 80/1000: 100%|██████████| 66/66 [00:00<00:00, 330.26it/s]\n"
     ]
    },
    {
     "name": "stdout",
     "output_type": "stream",
     "text": [
      "Epoch 80, Loss: 4.242464389313351\n"
     ]
    },
    {
     "name": "stderr",
     "output_type": "stream",
     "text": [
      "Epoch 81/1000: 100%|██████████| 66/66 [00:00<00:00, 333.55it/s]\n"
     ]
    },
    {
     "name": "stdout",
     "output_type": "stream",
     "text": [
      "Epoch 81, Loss: 4.2844746460517245\n"
     ]
    },
    {
     "name": "stderr",
     "output_type": "stream",
     "text": [
      "Epoch 82/1000: 100%|██████████| 66/66 [00:00<00:00, 326.56it/s]\n"
     ]
    },
    {
     "name": "stdout",
     "output_type": "stream",
     "text": [
      "Epoch 82, Loss: 4.192201373929327\n"
     ]
    },
    {
     "name": "stderr",
     "output_type": "stream",
     "text": [
      "Epoch 83/1000: 100%|██████████| 66/66 [00:00<00:00, 326.27it/s]\n"
     ]
    },
    {
     "name": "stdout",
     "output_type": "stream",
     "text": [
      "Epoch 83, Loss: 4.233681004155766\n"
     ]
    },
    {
     "name": "stderr",
     "output_type": "stream",
     "text": [
      "Epoch 84/1000: 100%|██████████| 66/66 [00:00<00:00, 326.21it/s]\n"
     ]
    },
    {
     "name": "stdout",
     "output_type": "stream",
     "text": [
      "Epoch 84, Loss: 4.1788577344833\n"
     ]
    },
    {
     "name": "stderr",
     "output_type": "stream",
     "text": [
      "Epoch 85/1000: 100%|██████████| 66/66 [00:00<00:00, 325.96it/s]\n"
     ]
    },
    {
     "name": "stdout",
     "output_type": "stream",
     "text": [
      "Epoch 85, Loss: 4.128461735266628\n"
     ]
    },
    {
     "name": "stderr",
     "output_type": "stream",
     "text": [
      "Epoch 86/1000: 100%|██████████| 66/66 [00:00<00:00, 325.90it/s]\n"
     ]
    },
    {
     "name": "stdout",
     "output_type": "stream",
     "text": [
      "Epoch 86, Loss: 4.103903691199693\n"
     ]
    },
    {
     "name": "stderr",
     "output_type": "stream",
     "text": [
      "Epoch 87/1000: 100%|██████████| 66/66 [00:00<00:00, 324.85it/s]\n"
     ]
    },
    {
     "name": "stdout",
     "output_type": "stream",
     "text": [
      "Epoch 87, Loss: 4.081766259489638\n"
     ]
    },
    {
     "name": "stderr",
     "output_type": "stream",
     "text": [
      "Epoch 88/1000: 100%|██████████| 66/66 [00:00<00:00, 326.27it/s]\n"
     ]
    },
    {
     "name": "stdout",
     "output_type": "stream",
     "text": [
      "Epoch 88, Loss: 4.134150082189025\n"
     ]
    },
    {
     "name": "stderr",
     "output_type": "stream",
     "text": [
      "Epoch 89/1000: 100%|██████████| 66/66 [00:00<00:00, 326.38it/s]\n"
     ]
    },
    {
     "name": "stdout",
     "output_type": "stream",
     "text": [
      "Epoch 89, Loss: 4.057162366581686\n"
     ]
    },
    {
     "name": "stderr",
     "output_type": "stream",
     "text": [
      "Epoch 90/1000: 100%|██████████| 66/66 [00:00<00:00, 326.22it/s]\n"
     ]
    },
    {
     "name": "stdout",
     "output_type": "stream",
     "text": [
      "Epoch 90, Loss: 4.032863070115899\n"
     ]
    },
    {
     "name": "stderr",
     "output_type": "stream",
     "text": [
      "Epoch 91/1000: 100%|██████████| 66/66 [00:00<00:00, 326.16it/s]\n"
     ]
    },
    {
     "name": "stdout",
     "output_type": "stream",
     "text": [
      "Epoch 91, Loss: 4.161368146538734\n"
     ]
    },
    {
     "name": "stderr",
     "output_type": "stream",
     "text": [
      "Epoch 92/1000: 100%|██████████| 66/66 [00:00<00:00, 325.92it/s]\n"
     ]
    },
    {
     "name": "stdout",
     "output_type": "stream",
     "text": [
      "Epoch 92, Loss: 4.245616307538567\n"
     ]
    },
    {
     "name": "stderr",
     "output_type": "stream",
     "text": [
      "Epoch 93/1000: 100%|██████████| 66/66 [00:00<00:00, 326.04it/s]\n"
     ]
    },
    {
     "name": "stdout",
     "output_type": "stream",
     "text": [
      "Epoch 93, Loss: 4.039894380804264\n"
     ]
    },
    {
     "name": "stderr",
     "output_type": "stream",
     "text": [
      "Epoch 94/1000: 100%|██████████| 66/66 [00:00<00:00, 324.95it/s]\n"
     ]
    },
    {
     "name": "stdout",
     "output_type": "stream",
     "text": [
      "Epoch 94, Loss: 4.082303479539625\n"
     ]
    },
    {
     "name": "stderr",
     "output_type": "stream",
     "text": [
      "Epoch 95/1000: 100%|██████████| 66/66 [00:00<00:00, 325.95it/s]\n"
     ]
    },
    {
     "name": "stdout",
     "output_type": "stream",
     "text": [
      "Epoch 95, Loss: 4.1603078225796875\n"
     ]
    },
    {
     "name": "stderr",
     "output_type": "stream",
     "text": [
      "Epoch 96/1000: 100%|██████████| 66/66 [00:00<00:00, 326.32it/s]\n"
     ]
    },
    {
     "name": "stdout",
     "output_type": "stream",
     "text": [
      "Epoch 96, Loss: 4.075367295606569\n"
     ]
    },
    {
     "name": "stderr",
     "output_type": "stream",
     "text": [
      "Epoch 97/1000: 100%|██████████| 66/66 [00:00<00:00, 327.24it/s]\n"
     ]
    },
    {
     "name": "stdout",
     "output_type": "stream",
     "text": [
      "Epoch 97, Loss: 4.029821742664684\n"
     ]
    },
    {
     "name": "stderr",
     "output_type": "stream",
     "text": [
      "Epoch 98/1000: 100%|██████████| 66/66 [00:00<00:00, 326.20it/s]\n"
     ]
    },
    {
     "name": "stdout",
     "output_type": "stream",
     "text": [
      "Epoch 98, Loss: 4.045326793735677\n"
     ]
    },
    {
     "name": "stderr",
     "output_type": "stream",
     "text": [
      "Epoch 99/1000: 100%|██████████| 66/66 [00:00<00:00, 326.20it/s]\n"
     ]
    },
    {
     "name": "stdout",
     "output_type": "stream",
     "text": [
      "Epoch 99, Loss: 4.018722522665154\n"
     ]
    },
    {
     "name": "stderr",
     "output_type": "stream",
     "text": [
      "Epoch 100/1000: 100%|██████████| 66/66 [00:00<00:00, 326.51it/s]\n"
     ]
    },
    {
     "name": "stdout",
     "output_type": "stream",
     "text": [
      "Epoch 100, Loss: 3.919281130938819\n"
     ]
    },
    {
     "name": "stderr",
     "output_type": "stream",
     "text": [
      "Epoch 101/1000: 100%|██████████| 66/66 [00:00<00:00, 323.57it/s]\n"
     ]
    },
    {
     "name": "stdout",
     "output_type": "stream",
     "text": [
      "Epoch 101, Loss: 4.032615621207339\n"
     ]
    },
    {
     "name": "stderr",
     "output_type": "stream",
     "text": [
      "Epoch 102/1000: 100%|██████████| 66/66 [00:00<00:00, 326.09it/s]\n"
     ]
    },
    {
     "name": "stdout",
     "output_type": "stream",
     "text": [
      "Epoch 102, Loss: 3.936112719503316\n"
     ]
    },
    {
     "name": "stderr",
     "output_type": "stream",
     "text": [
      "Epoch 103/1000: 100%|██████████| 66/66 [00:00<00:00, 326.08it/s]\n"
     ]
    },
    {
     "name": "stdout",
     "output_type": "stream",
     "text": [
      "Epoch 103, Loss: 3.9658140632690806\n"
     ]
    },
    {
     "name": "stderr",
     "output_type": "stream",
     "text": [
      "Epoch 104/1000: 100%|██████████| 66/66 [00:00<00:00, 325.95it/s]\n"
     ]
    },
    {
     "name": "stdout",
     "output_type": "stream",
     "text": [
      "Epoch 104, Loss: 3.9760998257181863\n"
     ]
    },
    {
     "name": "stderr",
     "output_type": "stream",
     "text": [
      "Epoch 105/1000: 100%|██████████| 66/66 [00:00<00:00, 325.89it/s]\n"
     ]
    },
    {
     "name": "stdout",
     "output_type": "stream",
     "text": [
      "Epoch 105, Loss: 3.9594710850805948\n"
     ]
    },
    {
     "name": "stderr",
     "output_type": "stream",
     "text": [
      "Epoch 106/1000: 100%|██████████| 66/66 [00:00<00:00, 325.73it/s]\n"
     ]
    },
    {
     "name": "stdout",
     "output_type": "stream",
     "text": [
      "Epoch 106, Loss: 4.0717443970568254\n"
     ]
    },
    {
     "name": "stderr",
     "output_type": "stream",
     "text": [
      "Epoch 107/1000: 100%|██████████| 66/66 [00:00<00:00, 327.48it/s]\n"
     ]
    },
    {
     "name": "stdout",
     "output_type": "stream",
     "text": [
      "Epoch 107, Loss: 4.00085730782964\n"
     ]
    },
    {
     "name": "stderr",
     "output_type": "stream",
     "text": [
      "Epoch 108/1000: 100%|██████████| 66/66 [00:00<00:00, 324.74it/s]\n"
     ]
    },
    {
     "name": "stdout",
     "output_type": "stream",
     "text": [
      "Epoch 108, Loss: 3.968364378719619\n"
     ]
    },
    {
     "name": "stderr",
     "output_type": "stream",
     "text": [
      "Epoch 109/1000: 100%|██████████| 66/66 [00:00<00:00, 326.33it/s]\n"
     ]
    },
    {
     "name": "stdout",
     "output_type": "stream",
     "text": [
      "Epoch 109, Loss: 3.8669299363638414\n"
     ]
    },
    {
     "name": "stderr",
     "output_type": "stream",
     "text": [
      "Epoch 110/1000: 100%|██████████| 66/66 [00:00<00:00, 325.99it/s]\n"
     ]
    },
    {
     "name": "stdout",
     "output_type": "stream",
     "text": [
      "Epoch 110, Loss: 3.9459932132652313\n"
     ]
    },
    {
     "name": "stderr",
     "output_type": "stream",
     "text": [
      "Epoch 111/1000: 100%|██████████| 66/66 [00:00<00:00, 326.18it/s]\n"
     ]
    },
    {
     "name": "stdout",
     "output_type": "stream",
     "text": [
      "Epoch 111, Loss: 3.9777327584046307\n"
     ]
    },
    {
     "name": "stderr",
     "output_type": "stream",
     "text": [
      "Epoch 112/1000: 100%|██████████| 66/66 [00:00<00:00, 325.98it/s]\n"
     ]
    },
    {
     "name": "stdout",
     "output_type": "stream",
     "text": [
      "Epoch 112, Loss: 3.9089401682669465\n"
     ]
    },
    {
     "name": "stderr",
     "output_type": "stream",
     "text": [
      "Epoch 113/1000: 100%|██████████| 66/66 [00:00<00:00, 325.87it/s]\n"
     ]
    },
    {
     "name": "stdout",
     "output_type": "stream",
     "text": [
      "Epoch 113, Loss: 4.020704878776362\n"
     ]
    },
    {
     "name": "stderr",
     "output_type": "stream",
     "text": [
      "Epoch 114/1000: 100%|██████████| 66/66 [00:00<00:00, 325.86it/s]\n"
     ]
    },
    {
     "name": "stdout",
     "output_type": "stream",
     "text": [
      "Epoch 114, Loss: 3.922761805807099\n"
     ]
    },
    {
     "name": "stderr",
     "output_type": "stream",
     "text": [
      "Epoch 115/1000: 100%|██████████| 66/66 [00:00<00:00, 324.53it/s]\n"
     ]
    },
    {
     "name": "stdout",
     "output_type": "stream",
     "text": [
      "Epoch 115, Loss: 3.906776568880587\n"
     ]
    },
    {
     "name": "stderr",
     "output_type": "stream",
     "text": [
      "Epoch 116/1000: 100%|██████████| 66/66 [00:00<00:00, 326.06it/s]\n"
     ]
    },
    {
     "name": "stdout",
     "output_type": "stream",
     "text": [
      "Epoch 116, Loss: 3.884269790667476\n"
     ]
    },
    {
     "name": "stderr",
     "output_type": "stream",
     "text": [
      "Epoch 117/1000: 100%|██████████| 66/66 [00:00<00:00, 328.49it/s]\n"
     ]
    },
    {
     "name": "stdout",
     "output_type": "stream",
     "text": [
      "Epoch 117, Loss: 3.909421543957609\n"
     ]
    },
    {
     "name": "stderr",
     "output_type": "stream",
     "text": [
      "Epoch 118/1000: 100%|██████████| 66/66 [00:00<00:00, 326.05it/s]\n"
     ]
    },
    {
     "name": "stdout",
     "output_type": "stream",
     "text": [
      "Epoch 118, Loss: 3.7733477959127137\n"
     ]
    },
    {
     "name": "stderr",
     "output_type": "stream",
     "text": [
      "Epoch 119/1000: 100%|██████████| 66/66 [00:00<00:00, 326.31it/s]\n"
     ]
    },
    {
     "name": "stdout",
     "output_type": "stream",
     "text": [
      "Epoch 119, Loss: 3.8583726063370705\n"
     ]
    },
    {
     "name": "stderr",
     "output_type": "stream",
     "text": [
      "Epoch 120/1000: 100%|██████████| 66/66 [00:00<00:00, 326.20it/s]\n"
     ]
    },
    {
     "name": "stdout",
     "output_type": "stream",
     "text": [
      "Epoch 120, Loss: 3.8509760768801877\n"
     ]
    },
    {
     "name": "stderr",
     "output_type": "stream",
     "text": [
      "Epoch 121/1000: 100%|██████████| 66/66 [00:00<00:00, 325.71it/s]\n"
     ]
    },
    {
     "name": "stdout",
     "output_type": "stream",
     "text": [
      "Epoch 121, Loss: 3.9417893261168944\n"
     ]
    },
    {
     "name": "stderr",
     "output_type": "stream",
     "text": [
      "Epoch 122/1000: 100%|██████████| 66/66 [00:00<00:00, 324.31it/s]\n"
     ]
    },
    {
     "name": "stdout",
     "output_type": "stream",
     "text": [
      "Epoch 122, Loss: 3.834356929993991\n"
     ]
    },
    {
     "name": "stderr",
     "output_type": "stream",
     "text": [
      "Epoch 123/1000: 100%|██████████| 66/66 [00:00<00:00, 326.64it/s]\n"
     ]
    },
    {
     "name": "stdout",
     "output_type": "stream",
     "text": [
      "Epoch 123, Loss: 3.793848010400931\n"
     ]
    },
    {
     "name": "stderr",
     "output_type": "stream",
     "text": [
      "Epoch 124/1000: 100%|██████████| 66/66 [00:00<00:00, 326.09it/s]\n"
     ]
    },
    {
     "name": "stdout",
     "output_type": "stream",
     "text": [
      "Epoch 124, Loss: 3.780691153172291\n"
     ]
    },
    {
     "name": "stderr",
     "output_type": "stream",
     "text": [
      "Epoch 125/1000: 100%|██████████| 66/66 [00:00<00:00, 326.16it/s]\n"
     ]
    },
    {
     "name": "stdout",
     "output_type": "stream",
     "text": [
      "Epoch 125, Loss: 4.065198450151718\n"
     ]
    },
    {
     "name": "stderr",
     "output_type": "stream",
     "text": [
      "Epoch 126/1000: 100%|██████████| 66/66 [00:00<00:00, 312.47it/s]\n"
     ]
    },
    {
     "name": "stdout",
     "output_type": "stream",
     "text": [
      "Epoch 126, Loss: 3.784589259461923\n"
     ]
    },
    {
     "name": "stderr",
     "output_type": "stream",
     "text": [
      "Epoch 127/1000: 100%|██████████| 66/66 [00:00<00:00, 328.57it/s]\n"
     ]
    },
    {
     "name": "stdout",
     "output_type": "stream",
     "text": [
      "Epoch 127, Loss: 3.805151663494833\n"
     ]
    },
    {
     "name": "stderr",
     "output_type": "stream",
     "text": [
      "Epoch 128/1000: 100%|██████████| 66/66 [00:00<00:00, 324.08it/s]\n"
     ]
    },
    {
     "name": "stdout",
     "output_type": "stream",
     "text": [
      "Epoch 128, Loss: 3.7662068463184615\n"
     ]
    },
    {
     "name": "stderr",
     "output_type": "stream",
     "text": [
      "Epoch 129/1000: 100%|██████████| 66/66 [00:00<00:00, 322.98it/s]\n"
     ]
    },
    {
     "name": "stdout",
     "output_type": "stream",
     "text": [
      "Epoch 129, Loss: 3.799276332060496\n"
     ]
    },
    {
     "name": "stderr",
     "output_type": "stream",
     "text": [
      "Epoch 130/1000: 100%|██████████| 66/66 [00:00<00:00, 340.12it/s]\n"
     ]
    },
    {
     "name": "stdout",
     "output_type": "stream",
     "text": [
      "Epoch 130, Loss: 4.161659746684811\n"
     ]
    },
    {
     "name": "stderr",
     "output_type": "stream",
     "text": [
      "Epoch 131/1000: 100%|██████████| 66/66 [00:00<00:00, 325.42it/s]\n"
     ]
    },
    {
     "name": "stdout",
     "output_type": "stream",
     "text": [
      "Epoch 131, Loss: 3.7367946607145397\n"
     ]
    },
    {
     "name": "stderr",
     "output_type": "stream",
     "text": [
      "Epoch 132/1000: 100%|██████████| 66/66 [00:00<00:00, 325.84it/s]\n"
     ]
    },
    {
     "name": "stdout",
     "output_type": "stream",
     "text": [
      "Epoch 132, Loss: 3.796876369777954\n"
     ]
    },
    {
     "name": "stderr",
     "output_type": "stream",
     "text": [
      "Epoch 133/1000: 100%|██████████| 66/66 [00:00<00:00, 326.19it/s]\n"
     ]
    },
    {
     "name": "stdout",
     "output_type": "stream",
     "text": [
      "Epoch 133, Loss: 3.7030691010030834\n"
     ]
    },
    {
     "name": "stderr",
     "output_type": "stream",
     "text": [
      "Epoch 134/1000: 100%|██████████| 66/66 [00:00<00:00, 326.27it/s]\n"
     ]
    },
    {
     "name": "stdout",
     "output_type": "stream",
     "text": [
      "Epoch 134, Loss: 3.735091247567625\n"
     ]
    },
    {
     "name": "stderr",
     "output_type": "stream",
     "text": [
      "Epoch 135/1000: 100%|██████████| 66/66 [00:00<00:00, 325.84it/s]\n"
     ]
    },
    {
     "name": "stdout",
     "output_type": "stream",
     "text": [
      "Epoch 135, Loss: 3.824624566417752\n"
     ]
    },
    {
     "name": "stderr",
     "output_type": "stream",
     "text": [
      "Epoch 136/1000: 100%|██████████| 66/66 [00:00<00:00, 332.22it/s]\n"
     ]
    },
    {
     "name": "stdout",
     "output_type": "stream",
     "text": [
      "Epoch 136, Loss: 3.8616683675032673\n"
     ]
    },
    {
     "name": "stderr",
     "output_type": "stream",
     "text": [
      "Epoch 137/1000: 100%|██████████| 66/66 [00:00<00:00, 530.43it/s]\n"
     ]
    },
    {
     "name": "stdout",
     "output_type": "stream",
     "text": [
      "Epoch 137, Loss: 3.8866076799053135\n"
     ]
    },
    {
     "name": "stderr",
     "output_type": "stream",
     "text": [
      "Epoch 138/1000: 100%|██████████| 66/66 [00:00<00:00, 368.41it/s]\n"
     ]
    },
    {
     "name": "stdout",
     "output_type": "stream",
     "text": [
      "Epoch 138, Loss: 3.6796222297531185\n"
     ]
    },
    {
     "name": "stderr",
     "output_type": "stream",
     "text": [
      "Epoch 139/1000: 100%|██████████| 66/66 [00:00<00:00, 323.75it/s]\n"
     ]
    },
    {
     "name": "stdout",
     "output_type": "stream",
     "text": [
      "Epoch 139, Loss: 3.823308366266164\n"
     ]
    },
    {
     "name": "stderr",
     "output_type": "stream",
     "text": [
      "Epoch 140/1000: 100%|██████████| 66/66 [00:00<00:00, 326.28it/s]\n"
     ]
    },
    {
     "name": "stdout",
     "output_type": "stream",
     "text": [
      "Epoch 140, Loss: 3.6826863638830907\n"
     ]
    },
    {
     "name": "stderr",
     "output_type": "stream",
     "text": [
      "Epoch 141/1000: 100%|██████████| 66/66 [00:00<00:00, 326.40it/s]\n"
     ]
    },
    {
     "name": "stdout",
     "output_type": "stream",
     "text": [
      "Epoch 141, Loss: 3.847123405698574\n"
     ]
    },
    {
     "name": "stderr",
     "output_type": "stream",
     "text": [
      "Epoch 142/1000: 100%|██████████| 66/66 [00:00<00:00, 326.56it/s]\n"
     ]
    },
    {
     "name": "stdout",
     "output_type": "stream",
     "text": [
      "Epoch 142, Loss: 3.6279127846161523\n"
     ]
    },
    {
     "name": "stderr",
     "output_type": "stream",
     "text": [
      "Epoch 143/1000: 100%|██████████| 66/66 [00:00<00:00, 323.60it/s]\n"
     ]
    },
    {
     "name": "stdout",
     "output_type": "stream",
     "text": [
      "Epoch 143, Loss: 3.982067549093203\n"
     ]
    },
    {
     "name": "stderr",
     "output_type": "stream",
     "text": [
      "Epoch 144/1000: 100%|██████████| 66/66 [00:00<00:00, 326.66it/s]\n"
     ]
    },
    {
     "name": "stdout",
     "output_type": "stream",
     "text": [
      "Epoch 144, Loss: 3.793070974675092\n"
     ]
    },
    {
     "name": "stderr",
     "output_type": "stream",
     "text": [
      "Epoch 145/1000: 100%|██████████| 66/66 [00:00<00:00, 362.45it/s]\n"
     ]
    },
    {
     "name": "stdout",
     "output_type": "stream",
     "text": [
      "Epoch 145, Loss: 3.630251487096151\n"
     ]
    },
    {
     "name": "stderr",
     "output_type": "stream",
     "text": [
      "Epoch 146/1000: 100%|██████████| 66/66 [00:00<00:00, 325.23it/s]\n"
     ]
    },
    {
     "name": "stdout",
     "output_type": "stream",
     "text": [
      "Epoch 146, Loss: 3.6107549626718867\n"
     ]
    },
    {
     "name": "stderr",
     "output_type": "stream",
     "text": [
      "Epoch 147/1000: 100%|██████████| 66/66 [00:00<00:00, 471.08it/s]\n"
     ]
    },
    {
     "name": "stdout",
     "output_type": "stream",
     "text": [
      "Epoch 147, Loss: 3.7326287349516694\n"
     ]
    },
    {
     "name": "stderr",
     "output_type": "stream",
     "text": [
      "Epoch 148/1000: 100%|██████████| 66/66 [00:00<00:00, 410.87it/s]\n"
     ]
    },
    {
     "name": "stdout",
     "output_type": "stream",
     "text": [
      "Epoch 148, Loss: 3.8030404615582842\n"
     ]
    },
    {
     "name": "stderr",
     "output_type": "stream",
     "text": [
      "Epoch 149/1000: 100%|██████████| 66/66 [00:00<00:00, 464.76it/s]\n"
     ]
    },
    {
     "name": "stdout",
     "output_type": "stream",
     "text": [
      "Epoch 149, Loss: 3.823923872501561\n"
     ]
    },
    {
     "name": "stderr",
     "output_type": "stream",
     "text": [
      "Epoch 150/1000: 100%|██████████| 66/66 [00:00<00:00, 321.99it/s]\n"
     ]
    },
    {
     "name": "stdout",
     "output_type": "stream",
     "text": [
      "Epoch 150, Loss: 3.610018006779931\n"
     ]
    },
    {
     "name": "stderr",
     "output_type": "stream",
     "text": [
      "Epoch 151/1000: 100%|██████████| 66/66 [00:00<00:00, 355.57it/s]\n"
     ]
    },
    {
     "name": "stdout",
     "output_type": "stream",
     "text": [
      "Epoch 151, Loss: 3.6305877923062355\n"
     ]
    },
    {
     "name": "stderr",
     "output_type": "stream",
     "text": [
      "Epoch 152/1000: 100%|██████████| 66/66 [00:00<00:00, 370.62it/s]\n"
     ]
    },
    {
     "name": "stdout",
     "output_type": "stream",
     "text": [
      "Epoch 152, Loss: 3.6366201691103703\n"
     ]
    },
    {
     "name": "stderr",
     "output_type": "stream",
     "text": [
      "Epoch 153/1000: 100%|██████████| 66/66 [00:00<00:00, 323.10it/s]\n"
     ]
    },
    {
     "name": "stdout",
     "output_type": "stream",
     "text": [
      "Epoch 153, Loss: 3.6491595673741717\n"
     ]
    },
    {
     "name": "stderr",
     "output_type": "stream",
     "text": [
      "Epoch 154/1000: 100%|██████████| 66/66 [00:00<00:00, 347.51it/s]\n"
     ]
    },
    {
     "name": "stdout",
     "output_type": "stream",
     "text": [
      "Epoch 154, Loss: 3.6754608842911143\n"
     ]
    },
    {
     "name": "stderr",
     "output_type": "stream",
     "text": [
      "Epoch 155/1000: 100%|██████████| 66/66 [00:00<00:00, 355.37it/s]\n"
     ]
    },
    {
     "name": "stdout",
     "output_type": "stream",
     "text": [
      "Epoch 155, Loss: 3.7562389409903325\n"
     ]
    },
    {
     "name": "stderr",
     "output_type": "stream",
     "text": [
      "Epoch 156/1000: 100%|██████████| 66/66 [00:00<00:00, 584.80it/s]\n"
     ]
    },
    {
     "name": "stdout",
     "output_type": "stream",
     "text": [
      "Epoch 156, Loss: 3.6204630001024767\n"
     ]
    },
    {
     "name": "stderr",
     "output_type": "stream",
     "text": [
      "Epoch 157/1000: 100%|██████████| 66/66 [00:00<00:00, 338.30it/s]\n"
     ]
    },
    {
     "name": "stdout",
     "output_type": "stream",
     "text": [
      "Epoch 157, Loss: 3.5981673593773986\n"
     ]
    },
    {
     "name": "stderr",
     "output_type": "stream",
     "text": [
      "Epoch 158/1000: 100%|██████████| 66/66 [00:00<00:00, 380.26it/s]\n"
     ]
    },
    {
     "name": "stdout",
     "output_type": "stream",
     "text": [
      "Epoch 158, Loss: 3.5617779080163348\n"
     ]
    },
    {
     "name": "stderr",
     "output_type": "stream",
     "text": [
      "Epoch 159/1000: 100%|██████████| 66/66 [00:00<00:00, 338.64it/s]\n"
     ]
    },
    {
     "name": "stdout",
     "output_type": "stream",
     "text": [
      "Epoch 159, Loss: 3.5592005546345855\n"
     ]
    },
    {
     "name": "stderr",
     "output_type": "stream",
     "text": [
      "Epoch 160/1000: 100%|██████████| 66/66 [00:00<00:00, 327.26it/s]\n"
     ]
    },
    {
     "name": "stdout",
     "output_type": "stream",
     "text": [
      "Epoch 160, Loss: 3.6893190143234804\n"
     ]
    },
    {
     "name": "stderr",
     "output_type": "stream",
     "text": [
      "Epoch 161/1000: 100%|██████████| 66/66 [00:00<00:00, 361.35it/s]\n"
     ]
    },
    {
     "name": "stdout",
     "output_type": "stream",
     "text": [
      "Epoch 161, Loss: 3.6574336513876915\n"
     ]
    },
    {
     "name": "stderr",
     "output_type": "stream",
     "text": [
      "Epoch 162/1000: 100%|██████████| 66/66 [00:00<00:00, 365.63it/s]\n"
     ]
    },
    {
     "name": "stdout",
     "output_type": "stream",
     "text": [
      "Epoch 162, Loss: 3.7429962381720543\n"
     ]
    },
    {
     "name": "stderr",
     "output_type": "stream",
     "text": [
      "Epoch 163/1000: 100%|██████████| 66/66 [00:00<00:00, 365.99it/s]\n"
     ]
    },
    {
     "name": "stdout",
     "output_type": "stream",
     "text": [
      "Epoch 163, Loss: 3.629540132979552\n"
     ]
    },
    {
     "name": "stderr",
     "output_type": "stream",
     "text": [
      "Epoch 164/1000: 100%|██████████| 66/66 [00:00<00:00, 289.28it/s]\n"
     ]
    },
    {
     "name": "stdout",
     "output_type": "stream",
     "text": [
      "Epoch 164, Loss: 3.762559037091154\n"
     ]
    },
    {
     "name": "stderr",
     "output_type": "stream",
     "text": [
      "Epoch 165/1000: 100%|██████████| 66/66 [00:00<00:00, 325.07it/s]\n"
     ]
    },
    {
     "name": "stdout",
     "output_type": "stream",
     "text": [
      "Epoch 165, Loss: 3.670740009708838\n"
     ]
    },
    {
     "name": "stderr",
     "output_type": "stream",
     "text": [
      "Epoch 166/1000: 100%|██████████| 66/66 [00:00<00:00, 321.89it/s]\n"
     ]
    },
    {
     "name": "stdout",
     "output_type": "stream",
     "text": [
      "Epoch 166, Loss: 3.626178940814553\n"
     ]
    },
    {
     "name": "stderr",
     "output_type": "stream",
     "text": [
      "Epoch 167/1000: 100%|██████████| 66/66 [00:00<00:00, 323.55it/s]\n"
     ]
    },
    {
     "name": "stdout",
     "output_type": "stream",
     "text": [
      "Epoch 167, Loss: 3.583199082224658\n"
     ]
    },
    {
     "name": "stderr",
     "output_type": "stream",
     "text": [
      "Epoch 168/1000: 100%|██████████| 66/66 [00:00<00:00, 323.16it/s]\n"
     ]
    },
    {
     "name": "stdout",
     "output_type": "stream",
     "text": [
      "Epoch 168, Loss: 3.5370988421367877\n"
     ]
    },
    {
     "name": "stderr",
     "output_type": "stream",
     "text": [
      "Epoch 169/1000: 100%|██████████| 66/66 [00:00<00:00, 377.36it/s]\n"
     ]
    },
    {
     "name": "stdout",
     "output_type": "stream",
     "text": [
      "Epoch 169, Loss: 3.6847939789295197\n"
     ]
    },
    {
     "name": "stderr",
     "output_type": "stream",
     "text": [
      "Epoch 170/1000: 100%|██████████| 66/66 [00:00<00:00, 315.91it/s]\n"
     ]
    },
    {
     "name": "stdout",
     "output_type": "stream",
     "text": [
      "Epoch 170, Loss: 3.6112550738634486\n"
     ]
    },
    {
     "name": "stderr",
     "output_type": "stream",
     "text": [
      "Epoch 171/1000: 100%|██████████| 66/66 [00:00<00:00, 490.54it/s]\n"
     ]
    },
    {
     "name": "stdout",
     "output_type": "stream",
     "text": [
      "Epoch 171, Loss: 3.5934979741772017\n"
     ]
    },
    {
     "name": "stderr",
     "output_type": "stream",
     "text": [
      "Epoch 172/1000: 100%|██████████| 66/66 [00:00<00:00, 409.84it/s]\n"
     ]
    },
    {
     "name": "stdout",
     "output_type": "stream",
     "text": [
      "Epoch 172, Loss: 3.5319064352096934\n"
     ]
    },
    {
     "name": "stderr",
     "output_type": "stream",
     "text": [
      "Epoch 173/1000: 100%|██████████| 66/66 [00:00<00:00, 420.51it/s]\n"
     ]
    },
    {
     "name": "stdout",
     "output_type": "stream",
     "text": [
      "Epoch 173, Loss: 3.67766078719587\n"
     ]
    },
    {
     "name": "stderr",
     "output_type": "stream",
     "text": [
      "Epoch 174/1000: 100%|██████████| 66/66 [00:00<00:00, 328.13it/s]\n"
     ]
    },
    {
     "name": "stdout",
     "output_type": "stream",
     "text": [
      "Epoch 174, Loss: 3.5373909958835803\n"
     ]
    },
    {
     "name": "stderr",
     "output_type": "stream",
     "text": [
      "Epoch 175/1000: 100%|██████████| 66/66 [00:00<00:00, 370.15it/s]\n"
     ]
    },
    {
     "name": "stdout",
     "output_type": "stream",
     "text": [
      "Epoch 175, Loss: 3.49880423667756\n"
     ]
    },
    {
     "name": "stderr",
     "output_type": "stream",
     "text": [
      "Epoch 176/1000: 100%|██████████| 66/66 [00:00<00:00, 342.69it/s]\n"
     ]
    },
    {
     "name": "stdout",
     "output_type": "stream",
     "text": [
      "Epoch 176, Loss: 3.5661110460306658\n"
     ]
    },
    {
     "name": "stderr",
     "output_type": "stream",
     "text": [
      "Epoch 177/1000: 100%|██████████| 66/66 [00:00<00:00, 393.56it/s]\n"
     ]
    },
    {
     "name": "stdout",
     "output_type": "stream",
     "text": [
      "Epoch 177, Loss: 3.549733780324459\n"
     ]
    },
    {
     "name": "stderr",
     "output_type": "stream",
     "text": [
      "Epoch 178/1000: 100%|██████████| 66/66 [00:00<00:00, 346.39it/s]\n"
     ]
    },
    {
     "name": "stdout",
     "output_type": "stream",
     "text": [
      "Epoch 178, Loss: 3.566264201520067\n"
     ]
    },
    {
     "name": "stderr",
     "output_type": "stream",
     "text": [
      "Epoch 179/1000: 100%|██████████| 66/66 [00:00<00:00, 470.84it/s]\n"
     ]
    },
    {
     "name": "stdout",
     "output_type": "stream",
     "text": [
      "Epoch 179, Loss: 3.556874207474969\n"
     ]
    },
    {
     "name": "stderr",
     "output_type": "stream",
     "text": [
      "Epoch 180/1000: 100%|██████████| 66/66 [00:00<00:00, 558.24it/s]\n"
     ]
    },
    {
     "name": "stdout",
     "output_type": "stream",
     "text": [
      "Epoch 180, Loss: 3.576341591098092\n"
     ]
    },
    {
     "name": "stderr",
     "output_type": "stream",
     "text": [
      "Epoch 181/1000: 100%|██████████| 66/66 [00:00<00:00, 356.80it/s]\n"
     ]
    },
    {
     "name": "stdout",
     "output_type": "stream",
     "text": [
      "Epoch 181, Loss: 3.5676167941454686\n"
     ]
    },
    {
     "name": "stderr",
     "output_type": "stream",
     "text": [
      "Epoch 182/1000: 100%|██████████| 66/66 [00:00<00:00, 330.00it/s]\n"
     ]
    },
    {
     "name": "stdout",
     "output_type": "stream",
     "text": [
      "Epoch 182, Loss: 3.4465853221940272\n"
     ]
    },
    {
     "name": "stderr",
     "output_type": "stream",
     "text": [
      "Epoch 183/1000: 100%|██████████| 66/66 [00:00<00:00, 381.03it/s]\n"
     ]
    },
    {
     "name": "stdout",
     "output_type": "stream",
     "text": [
      "Epoch 183, Loss: 3.5933657602378815\n"
     ]
    },
    {
     "name": "stderr",
     "output_type": "stream",
     "text": [
      "Epoch 184/1000: 100%|██████████| 66/66 [00:00<00:00, 408.71it/s]\n"
     ]
    },
    {
     "name": "stdout",
     "output_type": "stream",
     "text": [
      "Epoch 184, Loss: 3.5240647639289047\n"
     ]
    },
    {
     "name": "stderr",
     "output_type": "stream",
     "text": [
      "Epoch 185/1000: 100%|██████████| 66/66 [00:00<00:00, 373.81it/s]\n"
     ]
    },
    {
     "name": "stdout",
     "output_type": "stream",
     "text": [
      "Epoch 185, Loss: 3.3884534404584854\n"
     ]
    },
    {
     "name": "stderr",
     "output_type": "stream",
     "text": [
      "Epoch 186/1000: 100%|██████████| 66/66 [00:00<00:00, 369.20it/s]\n"
     ]
    },
    {
     "name": "stdout",
     "output_type": "stream",
     "text": [
      "Epoch 186, Loss: 3.67480469404748\n"
     ]
    },
    {
     "name": "stderr",
     "output_type": "stream",
     "text": [
      "Epoch 187/1000: 100%|██████████| 66/66 [00:00<00:00, 348.31it/s]\n"
     ]
    },
    {
     "name": "stdout",
     "output_type": "stream",
     "text": [
      "Epoch 187, Loss: 3.4251026366696213\n"
     ]
    },
    {
     "name": "stderr",
     "output_type": "stream",
     "text": [
      "Epoch 188/1000: 100%|██████████| 66/66 [00:00<00:00, 354.09it/s]\n"
     ]
    },
    {
     "name": "stdout",
     "output_type": "stream",
     "text": [
      "Epoch 188, Loss: 3.571478698967081\n"
     ]
    },
    {
     "name": "stderr",
     "output_type": "stream",
     "text": [
      "Epoch 189/1000: 100%|██████████| 66/66 [00:00<00:00, 324.86it/s]\n"
     ]
    },
    {
     "name": "stdout",
     "output_type": "stream",
     "text": [
      "Epoch 189, Loss: 3.7094985431793965\n"
     ]
    },
    {
     "name": "stderr",
     "output_type": "stream",
     "text": [
      "Epoch 190/1000: 100%|██████████| 66/66 [00:00<00:00, 325.93it/s]\n"
     ]
    },
    {
     "name": "stdout",
     "output_type": "stream",
     "text": [
      "Epoch 190, Loss: 3.519732555430947\n"
     ]
    },
    {
     "name": "stderr",
     "output_type": "stream",
     "text": [
      "Epoch 191/1000: 100%|██████████| 66/66 [00:00<00:00, 324.65it/s]\n"
     ]
    },
    {
     "name": "stdout",
     "output_type": "stream",
     "text": [
      "Epoch 191, Loss: 3.4129578216057834\n"
     ]
    },
    {
     "name": "stderr",
     "output_type": "stream",
     "text": [
      "Epoch 192/1000: 100%|██████████| 66/66 [00:00<00:00, 324.28it/s]\n"
     ]
    },
    {
     "name": "stdout",
     "output_type": "stream",
     "text": [
      "Epoch 192, Loss: 3.456856387356917\n"
     ]
    },
    {
     "name": "stderr",
     "output_type": "stream",
     "text": [
      "Epoch 193/1000: 100%|██████████| 66/66 [00:00<00:00, 325.87it/s]\n"
     ]
    },
    {
     "name": "stdout",
     "output_type": "stream",
     "text": [
      "Epoch 193, Loss: 3.516109524802728\n"
     ]
    },
    {
     "name": "stderr",
     "output_type": "stream",
     "text": [
      "Epoch 194/1000: 100%|██████████| 66/66 [00:00<00:00, 325.62it/s]\n"
     ]
    },
    {
     "name": "stdout",
     "output_type": "stream",
     "text": [
      "Epoch 194, Loss: 3.6326726589239007\n"
     ]
    },
    {
     "name": "stderr",
     "output_type": "stream",
     "text": [
      "Epoch 195/1000: 100%|██████████| 66/66 [00:00<00:00, 325.42it/s]\n"
     ]
    },
    {
     "name": "stdout",
     "output_type": "stream",
     "text": [
      "Epoch 195, Loss: 3.396254087036306\n"
     ]
    },
    {
     "name": "stderr",
     "output_type": "stream",
     "text": [
      "Epoch 196/1000: 100%|██████████| 66/66 [00:00<00:00, 325.90it/s]\n"
     ]
    },
    {
     "name": "stdout",
     "output_type": "stream",
     "text": [
      "Epoch 196, Loss: 3.516145742300785\n"
     ]
    },
    {
     "name": "stderr",
     "output_type": "stream",
     "text": [
      "Epoch 197/1000: 100%|██████████| 66/66 [00:00<00:00, 325.51it/s]\n"
     ]
    },
    {
     "name": "stdout",
     "output_type": "stream",
     "text": [
      "Epoch 197, Loss: 3.4059107434568983\n"
     ]
    },
    {
     "name": "stderr",
     "output_type": "stream",
     "text": [
      "Epoch 198/1000: 100%|██████████| 66/66 [00:00<00:00, 325.47it/s]\n"
     ]
    },
    {
     "name": "stdout",
     "output_type": "stream",
     "text": [
      "Epoch 198, Loss: 3.5188231350797596\n"
     ]
    },
    {
     "name": "stderr",
     "output_type": "stream",
     "text": [
      "Epoch 199/1000: 100%|██████████| 66/66 [00:00<00:00, 323.23it/s]\n"
     ]
    },
    {
     "name": "stdout",
     "output_type": "stream",
     "text": [
      "Epoch 199, Loss: 3.373631660008069\n"
     ]
    },
    {
     "name": "stderr",
     "output_type": "stream",
     "text": [
      "Epoch 200/1000: 100%|██████████| 66/66 [00:00<00:00, 325.97it/s]\n"
     ]
    },
    {
     "name": "stdout",
     "output_type": "stream",
     "text": [
      "Epoch 200, Loss: 3.418128264221278\n"
     ]
    },
    {
     "name": "stderr",
     "output_type": "stream",
     "text": [
      "Epoch 201/1000: 100%|██████████| 66/66 [00:00<00:00, 322.01it/s]\n"
     ]
    },
    {
     "name": "stdout",
     "output_type": "stream",
     "text": [
      "Epoch 201, Loss: 3.5648311006300375\n"
     ]
    },
    {
     "name": "stderr",
     "output_type": "stream",
     "text": [
      "Epoch 202/1000: 100%|██████████| 66/66 [00:00<00:00, 325.67it/s]\n"
     ]
    },
    {
     "name": "stdout",
     "output_type": "stream",
     "text": [
      "Epoch 202, Loss: 3.94133129083749\n"
     ]
    },
    {
     "name": "stderr",
     "output_type": "stream",
     "text": [
      "Epoch 203/1000: 100%|██████████| 66/66 [00:00<00:00, 322.41it/s]\n"
     ]
    },
    {
     "name": "stdout",
     "output_type": "stream",
     "text": [
      "Epoch 203, Loss: 3.575111509724097\n"
     ]
    },
    {
     "name": "stderr",
     "output_type": "stream",
     "text": [
      "Epoch 204/1000: 100%|██████████| 66/66 [00:00<00:00, 369.46it/s]\n"
     ]
    },
    {
     "name": "stdout",
     "output_type": "stream",
     "text": [
      "Epoch 204, Loss: 3.4557842682256843\n"
     ]
    },
    {
     "name": "stderr",
     "output_type": "stream",
     "text": [
      "Epoch 205/1000: 100%|██████████| 66/66 [00:00<00:00, 339.09it/s]\n"
     ]
    },
    {
     "name": "stdout",
     "output_type": "stream",
     "text": [
      "Epoch 205, Loss: 3.44465087783156\n"
     ]
    },
    {
     "name": "stderr",
     "output_type": "stream",
     "text": [
      "Epoch 206/1000: 100%|██████████| 66/66 [00:00<00:00, 325.69it/s]\n"
     ]
    },
    {
     "name": "stdout",
     "output_type": "stream",
     "text": [
      "Epoch 206, Loss: 3.4557270631194115\n"
     ]
    },
    {
     "name": "stderr",
     "output_type": "stream",
     "text": [
      "Epoch 207/1000: 100%|██████████| 66/66 [00:00<00:00, 325.34it/s]\n"
     ]
    },
    {
     "name": "stdout",
     "output_type": "stream",
     "text": [
      "Epoch 207, Loss: 3.451101272846713\n"
     ]
    },
    {
     "name": "stderr",
     "output_type": "stream",
     "text": [
      "Epoch 208/1000: 100%|██████████| 66/66 [00:00<00:00, 331.32it/s]\n"
     ]
    },
    {
     "name": "stdout",
     "output_type": "stream",
     "text": [
      "Epoch 208, Loss: 3.409570853366996\n"
     ]
    },
    {
     "name": "stderr",
     "output_type": "stream",
     "text": [
      "Epoch 209/1000: 100%|██████████| 66/66 [00:00<00:00, 396.75it/s]\n"
     ]
    },
    {
     "name": "stdout",
     "output_type": "stream",
     "text": [
      "Epoch 209, Loss: 3.3807119408791717\n"
     ]
    },
    {
     "name": "stderr",
     "output_type": "stream",
     "text": [
      "Epoch 210/1000: 100%|██████████| 66/66 [00:00<00:00, 323.13it/s]\n"
     ]
    },
    {
     "name": "stdout",
     "output_type": "stream",
     "text": [
      "Epoch 210, Loss: 3.3300853994759647\n"
     ]
    },
    {
     "name": "stderr",
     "output_type": "stream",
     "text": [
      "Epoch 211/1000: 100%|██████████| 66/66 [00:00<00:00, 361.31it/s]\n"
     ]
    },
    {
     "name": "stdout",
     "output_type": "stream",
     "text": [
      "Epoch 211, Loss: 3.306959513461951\n"
     ]
    },
    {
     "name": "stderr",
     "output_type": "stream",
     "text": [
      "Epoch 212/1000: 100%|██████████| 66/66 [00:00<00:00, 297.36it/s]\n"
     ]
    },
    {
     "name": "stdout",
     "output_type": "stream",
     "text": [
      "Epoch 212, Loss: 3.4095268102757856\n"
     ]
    },
    {
     "name": "stderr",
     "output_type": "stream",
     "text": [
      "Epoch 213/1000: 100%|██████████| 66/66 [00:00<00:00, 323.98it/s]\n"
     ]
    },
    {
     "name": "stdout",
     "output_type": "stream",
     "text": [
      "Epoch 213, Loss: 3.3926462095343703\n"
     ]
    },
    {
     "name": "stderr",
     "output_type": "stream",
     "text": [
      "Epoch 214/1000: 100%|██████████| 66/66 [00:00<00:00, 326.09it/s]\n"
     ]
    },
    {
     "name": "stdout",
     "output_type": "stream",
     "text": [
      "Epoch 214, Loss: 3.609532612065474\n"
     ]
    },
    {
     "name": "stderr",
     "output_type": "stream",
     "text": [
      "Epoch 215/1000: 100%|██████████| 66/66 [00:00<00:00, 327.38it/s]\n"
     ]
    },
    {
     "name": "stdout",
     "output_type": "stream",
     "text": [
      "Epoch 215, Loss: 3.4193764227357777\n"
     ]
    },
    {
     "name": "stderr",
     "output_type": "stream",
     "text": [
      "Epoch 216/1000: 100%|██████████| 66/66 [00:00<00:00, 325.54it/s]\n"
     ]
    },
    {
     "name": "stdout",
     "output_type": "stream",
     "text": [
      "Epoch 216, Loss: 3.296461347151886\n"
     ]
    },
    {
     "name": "stderr",
     "output_type": "stream",
     "text": [
      "Epoch 217/1000: 100%|██████████| 66/66 [00:00<00:00, 325.52it/s]\n"
     ]
    },
    {
     "name": "stdout",
     "output_type": "stream",
     "text": [
      "Epoch 217, Loss: 3.41095059929472\n"
     ]
    },
    {
     "name": "stderr",
     "output_type": "stream",
     "text": [
      "Epoch 218/1000: 100%|██████████| 66/66 [00:00<00:00, 325.59it/s]\n"
     ]
    },
    {
     "name": "stdout",
     "output_type": "stream",
     "text": [
      "Epoch 218, Loss: 3.322546612810005\n"
     ]
    },
    {
     "name": "stderr",
     "output_type": "stream",
     "text": [
      "Epoch 219/1000: 100%|██████████| 66/66 [00:00<00:00, 323.41it/s]\n"
     ]
    },
    {
     "name": "stdout",
     "output_type": "stream",
     "text": [
      "Epoch 219, Loss: 3.426567775733543\n"
     ]
    },
    {
     "name": "stderr",
     "output_type": "stream",
     "text": [
      "Epoch 220/1000: 100%|██████████| 66/66 [00:00<00:00, 325.64it/s]\n"
     ]
    },
    {
     "name": "stdout",
     "output_type": "stream",
     "text": [
      "Epoch 220, Loss: 3.3935454167199857\n"
     ]
    },
    {
     "name": "stderr",
     "output_type": "stream",
     "text": [
      "Epoch 221/1000: 100%|██████████| 66/66 [00:00<00:00, 325.89it/s]\n"
     ]
    },
    {
     "name": "stdout",
     "output_type": "stream",
     "text": [
      "Epoch 221, Loss: 3.4626424919926757\n"
     ]
    },
    {
     "name": "stderr",
     "output_type": "stream",
     "text": [
      "Epoch 222/1000: 100%|██████████| 66/66 [00:00<00:00, 326.05it/s]\n"
     ]
    },
    {
     "name": "stdout",
     "output_type": "stream",
     "text": [
      "Epoch 222, Loss: 3.368050981877428\n"
     ]
    },
    {
     "name": "stderr",
     "output_type": "stream",
     "text": [
      "Epoch 223/1000: 100%|██████████| 66/66 [00:00<00:00, 325.82it/s]\n"
     ]
    },
    {
     "name": "stdout",
     "output_type": "stream",
     "text": [
      "Epoch 223, Loss: 3.58385601481705\n"
     ]
    },
    {
     "name": "stderr",
     "output_type": "stream",
     "text": [
      "Epoch 224/1000: 100%|██████████| 66/66 [00:00<00:00, 326.01it/s]\n"
     ]
    },
    {
     "name": "stdout",
     "output_type": "stream",
     "text": [
      "Epoch 224, Loss: 3.4600110740372627\n"
     ]
    },
    {
     "name": "stderr",
     "output_type": "stream",
     "text": [
      "Epoch 225/1000: 100%|██████████| 66/66 [00:00<00:00, 327.12it/s]\n"
     ]
    },
    {
     "name": "stdout",
     "output_type": "stream",
     "text": [
      "Epoch 225, Loss: 3.4046714585838895\n"
     ]
    },
    {
     "name": "stderr",
     "output_type": "stream",
     "text": [
      "Epoch 226/1000: 100%|██████████| 66/66 [00:00<00:00, 323.35it/s]\n"
     ]
    },
    {
     "name": "stdout",
     "output_type": "stream",
     "text": [
      "Epoch 226, Loss: 3.3548849681110093\n"
     ]
    },
    {
     "name": "stderr",
     "output_type": "stream",
     "text": [
      "Epoch 227/1000: 100%|██████████| 66/66 [00:00<00:00, 318.85it/s]\n"
     ]
    },
    {
     "name": "stdout",
     "output_type": "stream",
     "text": [
      "Epoch 227, Loss: 3.370401928144874\n"
     ]
    },
    {
     "name": "stderr",
     "output_type": "stream",
     "text": [
      "Epoch 228/1000: 100%|██████████| 66/66 [00:00<00:00, 325.82it/s]\n"
     ]
    },
    {
     "name": "stdout",
     "output_type": "stream",
     "text": [
      "Epoch 228, Loss: 3.3729805806369493\n"
     ]
    },
    {
     "name": "stderr",
     "output_type": "stream",
     "text": [
      "Epoch 229/1000: 100%|██████████| 66/66 [00:00<00:00, 325.98it/s]\n"
     ]
    },
    {
     "name": "stdout",
     "output_type": "stream",
     "text": [
      "Epoch 229, Loss: 3.4206520039023776\n"
     ]
    },
    {
     "name": "stderr",
     "output_type": "stream",
     "text": [
      "Epoch 230/1000: 100%|██████████| 66/66 [00:00<00:00, 325.51it/s]\n"
     ]
    },
    {
     "name": "stdout",
     "output_type": "stream",
     "text": [
      "Epoch 230, Loss: 3.3045778021667944\n"
     ]
    },
    {
     "name": "stderr",
     "output_type": "stream",
     "text": [
      "Epoch 231/1000: 100%|██████████| 66/66 [00:00<00:00, 325.79it/s]\n"
     ]
    },
    {
     "name": "stdout",
     "output_type": "stream",
     "text": [
      "Epoch 231, Loss: 3.412643876942721\n"
     ]
    },
    {
     "name": "stderr",
     "output_type": "stream",
     "text": [
      "Epoch 232/1000: 100%|██████████| 66/66 [00:00<00:00, 325.81it/s]\n"
     ]
    },
    {
     "name": "stdout",
     "output_type": "stream",
     "text": [
      "Epoch 232, Loss: 3.319923688064922\n"
     ]
    },
    {
     "name": "stderr",
     "output_type": "stream",
     "text": [
      "Epoch 233/1000: 100%|██████████| 66/66 [00:00<00:00, 324.33it/s]\n"
     ]
    },
    {
     "name": "stdout",
     "output_type": "stream",
     "text": [
      "Epoch 233, Loss: 3.2824473227515365\n"
     ]
    },
    {
     "name": "stderr",
     "output_type": "stream",
     "text": [
      "Epoch 234/1000: 100%|██████████| 66/66 [00:00<00:00, 325.90it/s]\n"
     ]
    },
    {
     "name": "stdout",
     "output_type": "stream",
     "text": [
      "Epoch 234, Loss: 3.327215557297071\n"
     ]
    },
    {
     "name": "stderr",
     "output_type": "stream",
     "text": [
      "Epoch 235/1000: 100%|██████████| 66/66 [00:00<00:00, 328.06it/s]\n"
     ]
    },
    {
     "name": "stdout",
     "output_type": "stream",
     "text": [
      "Epoch 235, Loss: 3.5429621562361717\n"
     ]
    },
    {
     "name": "stderr",
     "output_type": "stream",
     "text": [
      "Epoch 236/1000: 100%|██████████| 66/66 [00:00<00:00, 326.98it/s]\n"
     ]
    },
    {
     "name": "stdout",
     "output_type": "stream",
     "text": [
      "Epoch 236, Loss: 3.5558724800745645\n"
     ]
    },
    {
     "name": "stderr",
     "output_type": "stream",
     "text": [
      "Epoch 237/1000: 100%|██████████| 66/66 [00:00<00:00, 325.83it/s]\n"
     ]
    },
    {
     "name": "stdout",
     "output_type": "stream",
     "text": [
      "Epoch 237, Loss: 3.3081333176656202\n"
     ]
    },
    {
     "name": "stderr",
     "output_type": "stream",
     "text": [
      "Epoch 238/1000: 100%|██████████| 66/66 [00:00<00:00, 325.66it/s]\n"
     ]
    },
    {
     "name": "stdout",
     "output_type": "stream",
     "text": [
      "Epoch 238, Loss: 3.2718854663950023\n"
     ]
    },
    {
     "name": "stderr",
     "output_type": "stream",
     "text": [
      "Epoch 239/1000: 100%|██████████| 66/66 [00:00<00:00, 325.54it/s]\n"
     ]
    },
    {
     "name": "stdout",
     "output_type": "stream",
     "text": [
      "Epoch 239, Loss: 3.3335999731313097\n"
     ]
    },
    {
     "name": "stderr",
     "output_type": "stream",
     "text": [
      "Epoch 240/1000: 100%|██████████| 66/66 [00:00<00:00, 324.14it/s]\n"
     ]
    },
    {
     "name": "stdout",
     "output_type": "stream",
     "text": [
      "Epoch 240, Loss: 3.290666161387256\n"
     ]
    },
    {
     "name": "stderr",
     "output_type": "stream",
     "text": [
      "Epoch 241/1000: 100%|██████████| 66/66 [00:00<00:00, 405.64it/s]\n"
     ]
    },
    {
     "name": "stdout",
     "output_type": "stream",
     "text": [
      "Epoch 241, Loss: 3.304758022680427\n"
     ]
    },
    {
     "name": "stderr",
     "output_type": "stream",
     "text": [
      "Epoch 242/1000: 100%|██████████| 66/66 [00:00<00:00, 361.50it/s]\n"
     ]
    },
    {
     "name": "stdout",
     "output_type": "stream",
     "text": [
      "Epoch 242, Loss: 3.2679336479667462\n"
     ]
    },
    {
     "name": "stderr",
     "output_type": "stream",
     "text": [
      "Epoch 243/1000: 100%|██████████| 66/66 [00:00<00:00, 388.21it/s]\n"
     ]
    },
    {
     "name": "stdout",
     "output_type": "stream",
     "text": [
      "Epoch 243, Loss: 3.2464082543597077\n"
     ]
    },
    {
     "name": "stderr",
     "output_type": "stream",
     "text": [
      "Epoch 244/1000: 100%|██████████| 66/66 [00:00<00:00, 367.77it/s]\n"
     ]
    },
    {
     "name": "stdout",
     "output_type": "stream",
     "text": [
      "Epoch 244, Loss: 3.5784647952426565\n"
     ]
    },
    {
     "name": "stderr",
     "output_type": "stream",
     "text": [
      "Epoch 245/1000: 100%|██████████| 66/66 [00:00<00:00, 385.84it/s]\n"
     ]
    },
    {
     "name": "stdout",
     "output_type": "stream",
     "text": [
      "Epoch 245, Loss: 3.350826407020742\n"
     ]
    },
    {
     "name": "stderr",
     "output_type": "stream",
     "text": [
      "Epoch 246/1000: 100%|██████████| 66/66 [00:00<00:00, 333.73it/s]\n"
     ]
    },
    {
     "name": "stdout",
     "output_type": "stream",
     "text": [
      "Epoch 246, Loss: 3.2914411425590515\n"
     ]
    },
    {
     "name": "stderr",
     "output_type": "stream",
     "text": [
      "Epoch 247/1000: 100%|██████████| 66/66 [00:00<00:00, 325.17it/s]\n"
     ]
    },
    {
     "name": "stdout",
     "output_type": "stream",
     "text": [
      "Epoch 247, Loss: 3.2485107052506823\n"
     ]
    },
    {
     "name": "stderr",
     "output_type": "stream",
     "text": [
      "Epoch 248/1000: 100%|██████████| 66/66 [00:00<00:00, 287.34it/s]\n"
     ]
    },
    {
     "name": "stdout",
     "output_type": "stream",
     "text": [
      "Epoch 248, Loss: 3.272503832298698\n"
     ]
    },
    {
     "name": "stderr",
     "output_type": "stream",
     "text": [
      "Epoch 249/1000: 100%|██████████| 66/66 [00:00<00:00, 323.87it/s]\n"
     ]
    },
    {
     "name": "stdout",
     "output_type": "stream",
     "text": [
      "Epoch 249, Loss: 3.469412127227494\n"
     ]
    },
    {
     "name": "stderr",
     "output_type": "stream",
     "text": [
      "Epoch 250/1000: 100%|██████████| 66/66 [00:00<00:00, 325.27it/s]\n"
     ]
    },
    {
     "name": "stdout",
     "output_type": "stream",
     "text": [
      "Epoch 250, Loss: 3.24096275008086\n"
     ]
    },
    {
     "name": "stderr",
     "output_type": "stream",
     "text": [
      "Epoch 251/1000: 100%|██████████| 66/66 [00:00<00:00, 326.32it/s]\n"
     ]
    },
    {
     "name": "stdout",
     "output_type": "stream",
     "text": [
      "Epoch 251, Loss: 3.195146224263943\n"
     ]
    },
    {
     "name": "stderr",
     "output_type": "stream",
     "text": [
      "Epoch 252/1000: 100%|██████████| 66/66 [00:00<00:00, 326.44it/s]\n"
     ]
    },
    {
     "name": "stdout",
     "output_type": "stream",
     "text": [
      "Epoch 252, Loss: 3.193127678199248\n"
     ]
    },
    {
     "name": "stderr",
     "output_type": "stream",
     "text": [
      "Epoch 253/1000: 100%|██████████| 66/66 [00:00<00:00, 330.09it/s]\n"
     ]
    },
    {
     "name": "stdout",
     "output_type": "stream",
     "text": [
      "Epoch 253, Loss: 3.181377137587829\n"
     ]
    },
    {
     "name": "stderr",
     "output_type": "stream",
     "text": [
      "Epoch 254/1000: 100%|██████████| 66/66 [00:00<00:00, 346.83it/s]\n"
     ]
    },
    {
     "name": "stdout",
     "output_type": "stream",
     "text": [
      "Epoch 254, Loss: 3.4088394379977025\n"
     ]
    },
    {
     "name": "stderr",
     "output_type": "stream",
     "text": [
      "Epoch 255/1000: 100%|██████████| 66/66 [00:00<00:00, 567.98it/s]\n"
     ]
    },
    {
     "name": "stdout",
     "output_type": "stream",
     "text": [
      "Epoch 255, Loss: 3.224656140036655\n"
     ]
    },
    {
     "name": "stderr",
     "output_type": "stream",
     "text": [
      "Epoch 256/1000: 100%|██████████| 66/66 [00:00<00:00, 383.64it/s]\n"
     ]
    },
    {
     "name": "stdout",
     "output_type": "stream",
     "text": [
      "Epoch 256, Loss: 3.2222511903806166\n"
     ]
    },
    {
     "name": "stderr",
     "output_type": "stream",
     "text": [
      "Epoch 257/1000: 100%|██████████| 66/66 [00:00<00:00, 339.13it/s]\n"
     ]
    },
    {
     "name": "stdout",
     "output_type": "stream",
     "text": [
      "Epoch 257, Loss: 3.2182461348446934\n"
     ]
    },
    {
     "name": "stderr",
     "output_type": "stream",
     "text": [
      "Epoch 258/1000: 100%|██████████| 66/66 [00:00<00:00, 322.94it/s]\n"
     ]
    },
    {
     "name": "stdout",
     "output_type": "stream",
     "text": [
      "Epoch 258, Loss: 3.2456138249148023\n"
     ]
    },
    {
     "name": "stderr",
     "output_type": "stream",
     "text": [
      "Epoch 259/1000: 100%|██████████| 66/66 [00:00<00:00, 333.92it/s]\n"
     ]
    },
    {
     "name": "stdout",
     "output_type": "stream",
     "text": [
      "Epoch 259, Loss: 3.2197346265117326\n"
     ]
    },
    {
     "name": "stderr",
     "output_type": "stream",
     "text": [
      "Epoch 260/1000: 100%|██████████| 66/66 [00:00<00:00, 325.27it/s]\n"
     ]
    },
    {
     "name": "stdout",
     "output_type": "stream",
     "text": [
      "Epoch 260, Loss: 3.199448601991841\n"
     ]
    },
    {
     "name": "stderr",
     "output_type": "stream",
     "text": [
      "Epoch 261/1000: 100%|██████████| 66/66 [00:00<00:00, 326.90it/s]\n"
     ]
    },
    {
     "name": "stdout",
     "output_type": "stream",
     "text": [
      "Epoch 261, Loss: 3.242655936967243\n"
     ]
    },
    {
     "name": "stderr",
     "output_type": "stream",
     "text": [
      "Epoch 262/1000: 100%|██████████| 66/66 [00:00<00:00, 326.27it/s]\n"
     ]
    },
    {
     "name": "stdout",
     "output_type": "stream",
     "text": [
      "Epoch 262, Loss: 3.283957345467625\n"
     ]
    },
    {
     "name": "stderr",
     "output_type": "stream",
     "text": [
      "Epoch 263/1000: 100%|██████████| 66/66 [00:00<00:00, 343.77it/s]\n"
     ]
    },
    {
     "name": "stdout",
     "output_type": "stream",
     "text": [
      "Epoch 263, Loss: 3.1819433768590293\n"
     ]
    },
    {
     "name": "stderr",
     "output_type": "stream",
     "text": [
      "Epoch 264/1000: 100%|██████████| 66/66 [00:00<00:00, 329.39it/s]\n"
     ]
    },
    {
     "name": "stdout",
     "output_type": "stream",
     "text": [
      "Epoch 264, Loss: 3.4926358621680373\n"
     ]
    },
    {
     "name": "stderr",
     "output_type": "stream",
     "text": [
      "Epoch 265/1000: 100%|██████████| 66/66 [00:00<00:00, 417.66it/s]\n"
     ]
    },
    {
     "name": "stdout",
     "output_type": "stream",
     "text": [
      "Epoch 265, Loss: 3.2854543048324008\n"
     ]
    },
    {
     "name": "stderr",
     "output_type": "stream",
     "text": [
      "Epoch 266/1000: 100%|██████████| 66/66 [00:00<00:00, 336.71it/s]\n"
     ]
    },
    {
     "name": "stdout",
     "output_type": "stream",
     "text": [
      "Epoch 266, Loss: 3.50643357837742\n"
     ]
    },
    {
     "name": "stderr",
     "output_type": "stream",
     "text": [
      "Epoch 267/1000: 100%|██████████| 66/66 [00:00<00:00, 466.41it/s]\n"
     ]
    },
    {
     "name": "stdout",
     "output_type": "stream",
     "text": [
      "Epoch 267, Loss: 3.298945254900239\n"
     ]
    },
    {
     "name": "stderr",
     "output_type": "stream",
     "text": [
      "Epoch 268/1000: 100%|██████████| 66/66 [00:00<00:00, 330.52it/s]\n"
     ]
    },
    {
     "name": "stdout",
     "output_type": "stream",
     "text": [
      "Epoch 268, Loss: 3.3825713366721617\n"
     ]
    },
    {
     "name": "stderr",
     "output_type": "stream",
     "text": [
      "Epoch 269/1000: 100%|██████████| 66/66 [00:00<00:00, 321.26it/s]\n"
     ]
    },
    {
     "name": "stdout",
     "output_type": "stream",
     "text": [
      "Epoch 269, Loss: 3.1883981823921204\n"
     ]
    },
    {
     "name": "stderr",
     "output_type": "stream",
     "text": [
      "Epoch 270/1000: 100%|██████████| 66/66 [00:00<00:00, 323.62it/s]\n"
     ]
    },
    {
     "name": "stdout",
     "output_type": "stream",
     "text": [
      "Epoch 270, Loss: 3.294906408046231\n"
     ]
    },
    {
     "name": "stderr",
     "output_type": "stream",
     "text": [
      "Epoch 271/1000: 100%|██████████| 66/66 [00:00<00:00, 325.85it/s]\n"
     ]
    },
    {
     "name": "stdout",
     "output_type": "stream",
     "text": [
      "Epoch 271, Loss: 3.244860618629239\n"
     ]
    },
    {
     "name": "stderr",
     "output_type": "stream",
     "text": [
      "Epoch 272/1000: 100%|██████████| 66/66 [00:00<00:00, 342.16it/s]\n"
     ]
    },
    {
     "name": "stdout",
     "output_type": "stream",
     "text": [
      "Epoch 272, Loss: 3.154798960821195\n"
     ]
    },
    {
     "name": "stderr",
     "output_type": "stream",
     "text": [
      "Epoch 273/1000: 100%|██████████| 66/66 [00:00<00:00, 325.51it/s]\n"
     ]
    },
    {
     "name": "stdout",
     "output_type": "stream",
     "text": [
      "Epoch 273, Loss: 3.2620278064048653\n"
     ]
    },
    {
     "name": "stderr",
     "output_type": "stream",
     "text": [
      "Epoch 274/1000: 100%|██████████| 66/66 [00:00<00:00, 325.99it/s]\n"
     ]
    },
    {
     "name": "stdout",
     "output_type": "stream",
     "text": [
      "Epoch 274, Loss: 3.2526033839041535\n"
     ]
    },
    {
     "name": "stderr",
     "output_type": "stream",
     "text": [
      "Epoch 275/1000: 100%|██████████| 66/66 [00:00<00:00, 326.44it/s]\n"
     ]
    },
    {
     "name": "stdout",
     "output_type": "stream",
     "text": [
      "Epoch 275, Loss: 3.2038621818929007\n"
     ]
    },
    {
     "name": "stderr",
     "output_type": "stream",
     "text": [
      "Epoch 276/1000: 100%|██████████| 66/66 [00:00<00:00, 326.03it/s]\n"
     ]
    },
    {
     "name": "stdout",
     "output_type": "stream",
     "text": [
      "Epoch 276, Loss: 3.2920566713719657\n"
     ]
    },
    {
     "name": "stderr",
     "output_type": "stream",
     "text": [
      "Epoch 277/1000: 100%|██████████| 66/66 [00:00<00:00, 324.32it/s]\n"
     ]
    },
    {
     "name": "stdout",
     "output_type": "stream",
     "text": [
      "Epoch 277, Loss: 3.2075103918711343\n"
     ]
    },
    {
     "name": "stderr",
     "output_type": "stream",
     "text": [
      "Epoch 278/1000: 100%|██████████| 66/66 [00:00<00:00, 326.32it/s]\n"
     ]
    },
    {
     "name": "stdout",
     "output_type": "stream",
     "text": [
      "Epoch 278, Loss: 3.1611524149775505\n"
     ]
    },
    {
     "name": "stderr",
     "output_type": "stream",
     "text": [
      "Epoch 279/1000: 100%|██████████| 66/66 [00:00<00:00, 408.39it/s]\n"
     ]
    },
    {
     "name": "stdout",
     "output_type": "stream",
     "text": [
      "Epoch 279, Loss: 3.1903528641119148\n"
     ]
    },
    {
     "name": "stderr",
     "output_type": "stream",
     "text": [
      "Epoch 280/1000: 100%|██████████| 66/66 [00:00<00:00, 410.86it/s]\n"
     ]
    },
    {
     "name": "stdout",
     "output_type": "stream",
     "text": [
      "Epoch 280, Loss: 3.3584945247028815\n"
     ]
    },
    {
     "name": "stderr",
     "output_type": "stream",
     "text": [
      "Epoch 281/1000: 100%|██████████| 66/66 [00:00<00:00, 364.79it/s]\n"
     ]
    },
    {
     "name": "stdout",
     "output_type": "stream",
     "text": [
      "Epoch 281, Loss: 3.1743987706122976\n"
     ]
    },
    {
     "name": "stderr",
     "output_type": "stream",
     "text": [
      "Epoch 282/1000: 100%|██████████| 66/66 [00:00<00:00, 326.44it/s]\n"
     ]
    },
    {
     "name": "stdout",
     "output_type": "stream",
     "text": [
      "Epoch 282, Loss: 3.2444361073501184\n"
     ]
    },
    {
     "name": "stderr",
     "output_type": "stream",
     "text": [
      "Epoch 283/1000: 100%|██████████| 66/66 [00:00<00:00, 325.93it/s]\n"
     ]
    },
    {
     "name": "stdout",
     "output_type": "stream",
     "text": [
      "Epoch 283, Loss: 3.1802208841298567\n"
     ]
    },
    {
     "name": "stderr",
     "output_type": "stream",
     "text": [
      "Epoch 284/1000: 100%|██████████| 66/66 [00:00<00:00, 325.85it/s]\n"
     ]
    },
    {
     "name": "stdout",
     "output_type": "stream",
     "text": [
      "Epoch 284, Loss: 3.2067987264105766\n"
     ]
    },
    {
     "name": "stderr",
     "output_type": "stream",
     "text": [
      "Epoch 285/1000: 100%|██████████| 66/66 [00:00<00:00, 325.77it/s]\n"
     ]
    },
    {
     "name": "stdout",
     "output_type": "stream",
     "text": [
      "Epoch 285, Loss: 3.2099252767635114\n"
     ]
    },
    {
     "name": "stderr",
     "output_type": "stream",
     "text": [
      "Epoch 286/1000: 100%|██████████| 66/66 [00:00<00:00, 325.55it/s]\n"
     ]
    },
    {
     "name": "stdout",
     "output_type": "stream",
     "text": [
      "Epoch 286, Loss: 3.2220503708178345\n"
     ]
    },
    {
     "name": "stderr",
     "output_type": "stream",
     "text": [
      "Epoch 287/1000: 100%|██████████| 66/66 [00:00<00:00, 325.87it/s]\n"
     ]
    },
    {
     "name": "stdout",
     "output_type": "stream",
     "text": [
      "Epoch 287, Loss: 3.184809232074203\n"
     ]
    },
    {
     "name": "stderr",
     "output_type": "stream",
     "text": [
      "Epoch 288/1000: 100%|██████████| 66/66 [00:00<00:00, 327.09it/s]\n"
     ]
    },
    {
     "name": "stdout",
     "output_type": "stream",
     "text": [
      "Epoch 288, Loss: 3.1103802158525498\n"
     ]
    },
    {
     "name": "stderr",
     "output_type": "stream",
     "text": [
      "Epoch 289/1000: 100%|██████████| 66/66 [00:00<00:00, 323.18it/s]\n"
     ]
    },
    {
     "name": "stdout",
     "output_type": "stream",
     "text": [
      "Epoch 289, Loss: 3.162434896962209\n"
     ]
    },
    {
     "name": "stderr",
     "output_type": "stream",
     "text": [
      "Epoch 290/1000: 100%|██████████| 66/66 [00:00<00:00, 325.98it/s]\n"
     ]
    },
    {
     "name": "stdout",
     "output_type": "stream",
     "text": [
      "Epoch 290, Loss: 3.1891434558413247\n"
     ]
    },
    {
     "name": "stderr",
     "output_type": "stream",
     "text": [
      "Epoch 291/1000: 100%|██████████| 66/66 [00:00<00:00, 326.25it/s]\n"
     ]
    },
    {
     "name": "stdout",
     "output_type": "stream",
     "text": [
      "Epoch 291, Loss: 3.1508951424197718\n"
     ]
    },
    {
     "name": "stderr",
     "output_type": "stream",
     "text": [
      "Epoch 292/1000: 100%|██████████| 66/66 [00:00<00:00, 325.50it/s]\n"
     ]
    },
    {
     "name": "stdout",
     "output_type": "stream",
     "text": [
      "Epoch 292, Loss: 3.535489415354801\n"
     ]
    },
    {
     "name": "stderr",
     "output_type": "stream",
     "text": [
      "Epoch 293/1000: 100%|██████████| 66/66 [00:00<00:00, 325.90it/s]\n"
     ]
    },
    {
     "name": "stdout",
     "output_type": "stream",
     "text": [
      "Epoch 293, Loss: 3.312507924708453\n"
     ]
    },
    {
     "name": "stderr",
     "output_type": "stream",
     "text": [
      "Epoch 294/1000: 100%|██████████| 66/66 [00:00<00:00, 326.14it/s]\n"
     ]
    },
    {
     "name": "stdout",
     "output_type": "stream",
     "text": [
      "Epoch 294, Loss: 3.191868813651981\n"
     ]
    },
    {
     "name": "stderr",
     "output_type": "stream",
     "text": [
      "Epoch 295/1000: 100%|██████████| 66/66 [00:00<00:00, 326.25it/s]\n"
     ]
    },
    {
     "name": "stdout",
     "output_type": "stream",
     "text": [
      "Epoch 295, Loss: 3.235012167105169\n"
     ]
    },
    {
     "name": "stderr",
     "output_type": "stream",
     "text": [
      "Epoch 296/1000: 100%|██████████| 66/66 [00:00<00:00, 326.35it/s]\n"
     ]
    },
    {
     "name": "stdout",
     "output_type": "stream",
     "text": [
      "Epoch 296, Loss: 3.1884027710466674\n"
     ]
    },
    {
     "name": "stderr",
     "output_type": "stream",
     "text": [
      "Epoch 297/1000: 100%|██████████| 66/66 [00:00<00:00, 326.51it/s]\n"
     ]
    },
    {
     "name": "stdout",
     "output_type": "stream",
     "text": [
      "Epoch 297, Loss: 3.1926383459658334\n"
     ]
    },
    {
     "name": "stderr",
     "output_type": "stream",
     "text": [
      "Epoch 298/1000: 100%|██████████| 66/66 [00:00<00:00, 326.53it/s]\n"
     ]
    },
    {
     "name": "stdout",
     "output_type": "stream",
     "text": [
      "Epoch 298, Loss: 3.2330948504986186\n"
     ]
    },
    {
     "name": "stderr",
     "output_type": "stream",
     "text": [
      "Epoch 299/1000: 100%|██████████| 66/66 [00:00<00:00, 328.78it/s]\n"
     ]
    },
    {
     "name": "stdout",
     "output_type": "stream",
     "text": [
      "Epoch 299, Loss: 3.2439480376514522\n"
     ]
    },
    {
     "name": "stderr",
     "output_type": "stream",
     "text": [
      "Epoch 300/1000: 100%|██████████| 66/66 [00:00<00:00, 326.41it/s]\n"
     ]
    },
    {
     "name": "stdout",
     "output_type": "stream",
     "text": [
      "Epoch 300, Loss: 3.1007475040175696\n"
     ]
    },
    {
     "name": "stderr",
     "output_type": "stream",
     "text": [
      "Epoch 301/1000: 100%|██████████| 66/66 [00:00<00:00, 323.48it/s]\n"
     ]
    },
    {
     "name": "stdout",
     "output_type": "stream",
     "text": [
      "Epoch 301, Loss: 3.1036328314380213\n"
     ]
    },
    {
     "name": "stderr",
     "output_type": "stream",
     "text": [
      "Epoch 302/1000: 100%|██████████| 66/66 [00:00<00:00, 326.68it/s]\n"
     ]
    },
    {
     "name": "stdout",
     "output_type": "stream",
     "text": [
      "Epoch 302, Loss: 3.238046900341005\n"
     ]
    },
    {
     "name": "stderr",
     "output_type": "stream",
     "text": [
      "Epoch 303/1000: 100%|██████████| 66/66 [00:00<00:00, 601.57it/s]\n"
     ]
    },
    {
     "name": "stdout",
     "output_type": "stream",
     "text": [
      "Epoch 303, Loss: 3.187844959849661\n"
     ]
    },
    {
     "name": "stderr",
     "output_type": "stream",
     "text": [
      "Epoch 304/1000: 100%|██████████| 66/66 [00:00<00:00, 567.78it/s]\n"
     ]
    },
    {
     "name": "stdout",
     "output_type": "stream",
     "text": [
      "Epoch 304, Loss: 3.1548501072507915\n"
     ]
    },
    {
     "name": "stderr",
     "output_type": "stream",
     "text": [
      "Epoch 305/1000: 100%|██████████| 66/66 [00:00<00:00, 343.22it/s]\n"
     ]
    },
    {
     "name": "stdout",
     "output_type": "stream",
     "text": [
      "Epoch 305, Loss: 3.143767380353176\n"
     ]
    },
    {
     "name": "stderr",
     "output_type": "stream",
     "text": [
      "Epoch 306/1000: 100%|██████████| 66/66 [00:00<00:00, 368.57it/s]\n"
     ]
    },
    {
     "name": "stdout",
     "output_type": "stream",
     "text": [
      "Epoch 306, Loss: 3.1822068666418395\n"
     ]
    },
    {
     "name": "stderr",
     "output_type": "stream",
     "text": [
      "Epoch 307/1000: 100%|██████████| 66/66 [00:00<00:00, 348.99it/s]\n"
     ]
    },
    {
     "name": "stdout",
     "output_type": "stream",
     "text": [
      "Epoch 307, Loss: 3.0923806805953835\n"
     ]
    },
    {
     "name": "stderr",
     "output_type": "stream",
     "text": [
      "Epoch 308/1000: 100%|██████████| 66/66 [00:00<00:00, 409.70it/s]\n"
     ]
    },
    {
     "name": "stdout",
     "output_type": "stream",
     "text": [
      "Epoch 308, Loss: 3.0847547298127953\n"
     ]
    },
    {
     "name": "stderr",
     "output_type": "stream",
     "text": [
      "Epoch 309/1000: 100%|██████████| 66/66 [00:00<00:00, 379.50it/s]\n"
     ]
    },
    {
     "name": "stdout",
     "output_type": "stream",
     "text": [
      "Epoch 309, Loss: 3.1986759964263802\n"
     ]
    },
    {
     "name": "stderr",
     "output_type": "stream",
     "text": [
      "Epoch 310/1000: 100%|██████████| 66/66 [00:00<00:00, 418.51it/s]\n"
     ]
    },
    {
     "name": "stdout",
     "output_type": "stream",
     "text": [
      "Epoch 310, Loss: 3.111401339597774\n"
     ]
    },
    {
     "name": "stderr",
     "output_type": "stream",
     "text": [
      "Epoch 311/1000: 100%|██████████| 66/66 [00:00<00:00, 580.82it/s]\n"
     ]
    },
    {
     "name": "stdout",
     "output_type": "stream",
     "text": [
      "Epoch 311, Loss: 3.177047895211162\n"
     ]
    },
    {
     "name": "stderr",
     "output_type": "stream",
     "text": [
      "Epoch 312/1000: 100%|██████████| 66/66 [00:00<00:00, 434.45it/s]\n"
     ]
    },
    {
     "name": "stdout",
     "output_type": "stream",
     "text": [
      "Epoch 312, Loss: 3.07151911227089\n"
     ]
    },
    {
     "name": "stderr",
     "output_type": "stream",
     "text": [
      "Epoch 313/1000: 100%|██████████| 66/66 [00:00<00:00, 318.47it/s]\n"
     ]
    },
    {
     "name": "stdout",
     "output_type": "stream",
     "text": [
      "Epoch 313, Loss: 3.149155133375616\n"
     ]
    },
    {
     "name": "stderr",
     "output_type": "stream",
     "text": [
      "Epoch 314/1000: 100%|██████████| 66/66 [00:00<00:00, 361.83it/s]\n"
     ]
    },
    {
     "name": "stdout",
     "output_type": "stream",
     "text": [
      "Epoch 314, Loss: 3.115814269943671\n"
     ]
    },
    {
     "name": "stderr",
     "output_type": "stream",
     "text": [
      "Epoch 315/1000: 100%|██████████| 66/66 [00:00<00:00, 328.18it/s]\n"
     ]
    },
    {
     "name": "stdout",
     "output_type": "stream",
     "text": [
      "Epoch 315, Loss: 3.1121378161690454\n"
     ]
    },
    {
     "name": "stderr",
     "output_type": "stream",
     "text": [
      "Epoch 316/1000: 100%|██████████| 66/66 [00:00<00:00, 340.26it/s]\n"
     ]
    },
    {
     "name": "stdout",
     "output_type": "stream",
     "text": [
      "Epoch 316, Loss: 3.1825814737063465\n"
     ]
    },
    {
     "name": "stderr",
     "output_type": "stream",
     "text": [
      "Epoch 317/1000: 100%|██████████| 66/66 [00:00<00:00, 612.17it/s]\n"
     ]
    },
    {
     "name": "stdout",
     "output_type": "stream",
     "text": [
      "Epoch 317, Loss: 3.138867290408322\n"
     ]
    },
    {
     "name": "stderr",
     "output_type": "stream",
     "text": [
      "Epoch 318/1000: 100%|██████████| 66/66 [00:00<00:00, 510.65it/s]\n"
     ]
    },
    {
     "name": "stdout",
     "output_type": "stream",
     "text": [
      "Epoch 318, Loss: 3.229008810312459\n"
     ]
    },
    {
     "name": "stderr",
     "output_type": "stream",
     "text": [
      "Epoch 319/1000: 100%|██████████| 66/66 [00:00<00:00, 410.03it/s]\n"
     ]
    },
    {
     "name": "stdout",
     "output_type": "stream",
     "text": [
      "Epoch 319, Loss: 3.2490849914875897\n"
     ]
    },
    {
     "name": "stderr",
     "output_type": "stream",
     "text": [
      "Epoch 320/1000: 100%|██████████| 66/66 [00:00<00:00, 475.27it/s]\n"
     ]
    },
    {
     "name": "stdout",
     "output_type": "stream",
     "text": [
      "Epoch 320, Loss: 3.105179944950523\n"
     ]
    },
    {
     "name": "stderr",
     "output_type": "stream",
     "text": [
      "Epoch 321/1000: 100%|██████████| 66/66 [00:00<00:00, 386.57it/s]\n"
     ]
    },
    {
     "name": "stdout",
     "output_type": "stream",
     "text": [
      "Epoch 321, Loss: 3.0495608514457038\n"
     ]
    },
    {
     "name": "stderr",
     "output_type": "stream",
     "text": [
      "Epoch 322/1000: 100%|██████████| 66/66 [00:00<00:00, 326.45it/s]\n"
     ]
    },
    {
     "name": "stdout",
     "output_type": "stream",
     "text": [
      "Epoch 322, Loss: 3.071586489225879\n"
     ]
    },
    {
     "name": "stderr",
     "output_type": "stream",
     "text": [
      "Epoch 323/1000: 100%|██████████| 66/66 [00:00<00:00, 326.73it/s]\n"
     ]
    },
    {
     "name": "stdout",
     "output_type": "stream",
     "text": [
      "Epoch 323, Loss: 3.0961085727268998\n"
     ]
    },
    {
     "name": "stderr",
     "output_type": "stream",
     "text": [
      "Epoch 324/1000: 100%|██████████| 66/66 [00:00<00:00, 328.96it/s]\n"
     ]
    },
    {
     "name": "stdout",
     "output_type": "stream",
     "text": [
      "Epoch 324, Loss: 3.016455112984686\n"
     ]
    },
    {
     "name": "stderr",
     "output_type": "stream",
     "text": [
      "Epoch 325/1000: 100%|██████████| 66/66 [00:00<00:00, 326.75it/s]\n"
     ]
    },
    {
     "name": "stdout",
     "output_type": "stream",
     "text": [
      "Epoch 325, Loss: 3.1002373842127398\n"
     ]
    },
    {
     "name": "stderr",
     "output_type": "stream",
     "text": [
      "Epoch 326/1000: 100%|██████████| 66/66 [00:00<00:00, 326.78it/s]\n"
     ]
    },
    {
     "name": "stdout",
     "output_type": "stream",
     "text": [
      "Epoch 326, Loss: 3.0796129069093503\n"
     ]
    },
    {
     "name": "stderr",
     "output_type": "stream",
     "text": [
      "Epoch 327/1000: 100%|██████████| 66/66 [00:00<00:00, 324.18it/s]\n"
     ]
    },
    {
     "name": "stdout",
     "output_type": "stream",
     "text": [
      "Epoch 327, Loss: 3.0502172083114134\n"
     ]
    },
    {
     "name": "stderr",
     "output_type": "stream",
     "text": [
      "Epoch 328/1000: 100%|██████████| 66/66 [00:00<00:00, 326.54it/s]\n"
     ]
    },
    {
     "name": "stdout",
     "output_type": "stream",
     "text": [
      "Epoch 328, Loss: 3.1017847350149443\n"
     ]
    },
    {
     "name": "stderr",
     "output_type": "stream",
     "text": [
      "Epoch 329/1000: 100%|██████████| 66/66 [00:00<00:00, 339.45it/s]\n"
     ]
    },
    {
     "name": "stdout",
     "output_type": "stream",
     "text": [
      "Epoch 329, Loss: 3.027424405244264\n"
     ]
    },
    {
     "name": "stderr",
     "output_type": "stream",
     "text": [
      "Epoch 330/1000: 100%|██████████| 66/66 [00:00<00:00, 361.90it/s]\n"
     ]
    },
    {
     "name": "stdout",
     "output_type": "stream",
     "text": [
      "Epoch 330, Loss: 3.0981493723211866\n"
     ]
    },
    {
     "name": "stderr",
     "output_type": "stream",
     "text": [
      "Epoch 331/1000: 100%|██████████| 66/66 [00:00<00:00, 384.02it/s]\n"
     ]
    },
    {
     "name": "stdout",
     "output_type": "stream",
     "text": [
      "Epoch 331, Loss: 3.0144698177323197\n"
     ]
    },
    {
     "name": "stderr",
     "output_type": "stream",
     "text": [
      "Epoch 332/1000: 100%|██████████| 66/66 [00:00<00:00, 357.05it/s]\n"
     ]
    },
    {
     "name": "stdout",
     "output_type": "stream",
     "text": [
      "Epoch 332, Loss: 3.1119543131102216\n"
     ]
    },
    {
     "name": "stderr",
     "output_type": "stream",
     "text": [
      "Epoch 333/1000: 100%|██████████| 66/66 [00:00<00:00, 323.83it/s]\n"
     ]
    },
    {
     "name": "stdout",
     "output_type": "stream",
     "text": [
      "Epoch 333, Loss: 3.0139868783228323\n"
     ]
    },
    {
     "name": "stderr",
     "output_type": "stream",
     "text": [
      "Epoch 334/1000: 100%|██████████| 66/66 [00:00<00:00, 328.83it/s]\n"
     ]
    },
    {
     "name": "stdout",
     "output_type": "stream",
     "text": [
      "Epoch 334, Loss: 3.155129577851657\n"
     ]
    },
    {
     "name": "stderr",
     "output_type": "stream",
     "text": [
      "Epoch 335/1000: 100%|██████████| 66/66 [00:00<00:00, 326.27it/s]\n"
     ]
    },
    {
     "name": "stdout",
     "output_type": "stream",
     "text": [
      "Epoch 335, Loss: 3.076817934485999\n"
     ]
    },
    {
     "name": "stderr",
     "output_type": "stream",
     "text": [
      "Epoch 336/1000: 100%|██████████| 66/66 [00:00<00:00, 366.97it/s]\n"
     ]
    },
    {
     "name": "stdout",
     "output_type": "stream",
     "text": [
      "Epoch 336, Loss: 3.1116879693034925\n"
     ]
    },
    {
     "name": "stderr",
     "output_type": "stream",
     "text": [
      "Epoch 337/1000: 100%|██████████| 66/66 [00:00<00:00, 334.17it/s]\n"
     ]
    },
    {
     "name": "stdout",
     "output_type": "stream",
     "text": [
      "Epoch 337, Loss: 3.034922430235328\n"
     ]
    },
    {
     "name": "stderr",
     "output_type": "stream",
     "text": [
      "Epoch 338/1000: 100%|██████████| 66/66 [00:00<00:00, 351.20it/s]\n"
     ]
    },
    {
     "name": "stdout",
     "output_type": "stream",
     "text": [
      "Epoch 338, Loss: 3.0119503533298317\n"
     ]
    },
    {
     "name": "stderr",
     "output_type": "stream",
     "text": [
      "Epoch 339/1000: 100%|██████████| 66/66 [00:00<00:00, 380.89it/s]\n"
     ]
    },
    {
     "name": "stdout",
     "output_type": "stream",
     "text": [
      "Epoch 339, Loss: 3.1302673809907655\n"
     ]
    },
    {
     "name": "stderr",
     "output_type": "stream",
     "text": [
      "Epoch 340/1000: 100%|██████████| 66/66 [00:00<00:00, 342.25it/s]\n"
     ]
    },
    {
     "name": "stdout",
     "output_type": "stream",
     "text": [
      "Epoch 340, Loss: 3.104978852425561\n"
     ]
    },
    {
     "name": "stderr",
     "output_type": "stream",
     "text": [
      "Epoch 341/1000: 100%|██████████| 66/66 [00:00<00:00, 324.36it/s]\n"
     ]
    },
    {
     "name": "stdout",
     "output_type": "stream",
     "text": [
      "Epoch 341, Loss: 3.1111357099179067\n"
     ]
    },
    {
     "name": "stderr",
     "output_type": "stream",
     "text": [
      "Epoch 342/1000: 100%|██████████| 66/66 [00:00<00:00, 332.80it/s]\n"
     ]
    },
    {
     "name": "stdout",
     "output_type": "stream",
     "text": [
      "Epoch 342, Loss: 3.08255998609644\n"
     ]
    },
    {
     "name": "stderr",
     "output_type": "stream",
     "text": [
      "Epoch 343/1000: 100%|██████████| 66/66 [00:00<00:00, 346.98it/s]\n"
     ]
    },
    {
     "name": "stdout",
     "output_type": "stream",
     "text": [
      "Epoch 343, Loss: 3.0476079808943197\n"
     ]
    },
    {
     "name": "stderr",
     "output_type": "stream",
     "text": [
      "Epoch 344/1000: 100%|██████████| 66/66 [00:00<00:00, 324.26it/s]\n"
     ]
    },
    {
     "name": "stdout",
     "output_type": "stream",
     "text": [
      "Epoch 344, Loss: 3.053609918915864\n"
     ]
    },
    {
     "name": "stderr",
     "output_type": "stream",
     "text": [
      "Epoch 345/1000: 100%|██████████| 66/66 [00:00<00:00, 415.07it/s]\n"
     ]
    },
    {
     "name": "stdout",
     "output_type": "stream",
     "text": [
      "Epoch 345, Loss: 3.1938977060895977\n"
     ]
    },
    {
     "name": "stderr",
     "output_type": "stream",
     "text": [
      "Epoch 346/1000: 100%|██████████| 66/66 [00:00<00:00, 449.89it/s]\n"
     ]
    },
    {
     "name": "stdout",
     "output_type": "stream",
     "text": [
      "Epoch 346, Loss: 3.071211865228234\n"
     ]
    },
    {
     "name": "stderr",
     "output_type": "stream",
     "text": [
      "Epoch 347/1000: 100%|██████████| 66/66 [00:00<00:00, 379.90it/s]\n"
     ]
    },
    {
     "name": "stdout",
     "output_type": "stream",
     "text": [
      "Epoch 347, Loss: 3.0438913091114075\n"
     ]
    },
    {
     "name": "stderr",
     "output_type": "stream",
     "text": [
      "Epoch 348/1000: 100%|██████████| 66/66 [00:00<00:00, 337.05it/s]\n"
     ]
    },
    {
     "name": "stdout",
     "output_type": "stream",
     "text": [
      "Epoch 348, Loss: 3.1683824107502447\n"
     ]
    },
    {
     "name": "stderr",
     "output_type": "stream",
     "text": [
      "Epoch 349/1000: 100%|██████████| 66/66 [00:00<00:00, 326.01it/s]\n"
     ]
    },
    {
     "name": "stdout",
     "output_type": "stream",
     "text": [
      "Epoch 349, Loss: 3.062111965408831\n"
     ]
    },
    {
     "name": "stderr",
     "output_type": "stream",
     "text": [
      "Epoch 350/1000: 100%|██████████| 66/66 [00:00<00:00, 327.05it/s]\n"
     ]
    },
    {
     "name": "stdout",
     "output_type": "stream",
     "text": [
      "Epoch 350, Loss: 3.124367256733504\n"
     ]
    },
    {
     "name": "stderr",
     "output_type": "stream",
     "text": [
      "Epoch 351/1000: 100%|██████████| 66/66 [00:00<00:00, 326.63it/s]\n"
     ]
    },
    {
     "name": "stdout",
     "output_type": "stream",
     "text": [
      "Epoch 351, Loss: 3.1308601272828653\n"
     ]
    },
    {
     "name": "stderr",
     "output_type": "stream",
     "text": [
      "Epoch 352/1000: 100%|██████████| 66/66 [00:00<00:00, 324.44it/s]\n"
     ]
    },
    {
     "name": "stdout",
     "output_type": "stream",
     "text": [
      "Epoch 352, Loss: 3.0741183532006815\n"
     ]
    },
    {
     "name": "stderr",
     "output_type": "stream",
     "text": [
      "Epoch 353/1000: 100%|██████████| 66/66 [00:00<00:00, 341.40it/s]\n"
     ]
    },
    {
     "name": "stdout",
     "output_type": "stream",
     "text": [
      "Epoch 353, Loss: 3.345340480407079\n"
     ]
    },
    {
     "name": "stderr",
     "output_type": "stream",
     "text": [
      "Epoch 354/1000: 100%|██████████| 66/66 [00:00<00:00, 360.54it/s]\n"
     ]
    },
    {
     "name": "stdout",
     "output_type": "stream",
     "text": [
      "Epoch 354, Loss: 3.1324055282907053\n"
     ]
    },
    {
     "name": "stderr",
     "output_type": "stream",
     "text": [
      "Epoch 355/1000: 100%|██████████| 66/66 [00:00<00:00, 455.23it/s]\n"
     ]
    },
    {
     "name": "stdout",
     "output_type": "stream",
     "text": [
      "Epoch 355, Loss: 3.056979494564461\n"
     ]
    },
    {
     "name": "stderr",
     "output_type": "stream",
     "text": [
      "Epoch 356/1000: 100%|██████████| 66/66 [00:00<00:00, 352.69it/s]\n"
     ]
    },
    {
     "name": "stdout",
     "output_type": "stream",
     "text": [
      "Epoch 356, Loss: 3.1207225878130305\n"
     ]
    },
    {
     "name": "stderr",
     "output_type": "stream",
     "text": [
      "Epoch 357/1000: 100%|██████████| 66/66 [00:00<00:00, 543.77it/s]\n"
     ]
    },
    {
     "name": "stdout",
     "output_type": "stream",
     "text": [
      "Epoch 357, Loss: 3.078773788204699\n"
     ]
    },
    {
     "name": "stderr",
     "output_type": "stream",
     "text": [
      "Epoch 358/1000: 100%|██████████| 66/66 [00:00<00:00, 376.28it/s]\n"
     ]
    },
    {
     "name": "stdout",
     "output_type": "stream",
     "text": [
      "Epoch 358, Loss: 3.0480900341362664\n"
     ]
    },
    {
     "name": "stderr",
     "output_type": "stream",
     "text": [
      "Epoch 359/1000: 100%|██████████| 66/66 [00:00<00:00, 329.45it/s]\n"
     ]
    },
    {
     "name": "stdout",
     "output_type": "stream",
     "text": [
      "Epoch 359, Loss: 3.00686184903889\n"
     ]
    },
    {
     "name": "stderr",
     "output_type": "stream",
     "text": [
      "Epoch 360/1000: 100%|██████████| 66/66 [00:00<00:00, 344.42it/s]\n"
     ]
    },
    {
     "name": "stdout",
     "output_type": "stream",
     "text": [
      "Epoch 360, Loss: 3.0776816236250326\n"
     ]
    },
    {
     "name": "stderr",
     "output_type": "stream",
     "text": [
      "Epoch 361/1000: 100%|██████████| 66/66 [00:00<00:00, 357.62it/s]\n"
     ]
    },
    {
     "name": "stdout",
     "output_type": "stream",
     "text": [
      "Epoch 361, Loss: 2.9681534237708105\n"
     ]
    },
    {
     "name": "stderr",
     "output_type": "stream",
     "text": [
      "Epoch 362/1000: 100%|██████████| 66/66 [00:00<00:00, 351.86it/s]\n"
     ]
    },
    {
     "name": "stdout",
     "output_type": "stream",
     "text": [
      "Epoch 362, Loss: 3.0143802890723403\n"
     ]
    },
    {
     "name": "stderr",
     "output_type": "stream",
     "text": [
      "Epoch 363/1000: 100%|██████████| 66/66 [00:00<00:00, 324.79it/s]\n"
     ]
    },
    {
     "name": "stdout",
     "output_type": "stream",
     "text": [
      "Epoch 363, Loss: 3.0985058724428667\n"
     ]
    },
    {
     "name": "stderr",
     "output_type": "stream",
     "text": [
      "Epoch 364/1000: 100%|██████████| 66/66 [00:00<00:00, 326.66it/s]\n"
     ]
    },
    {
     "name": "stdout",
     "output_type": "stream",
     "text": [
      "Epoch 364, Loss: 3.0535935312509537\n"
     ]
    },
    {
     "name": "stderr",
     "output_type": "stream",
     "text": [
      "Epoch 365/1000: 100%|██████████| 66/66 [00:00<00:00, 324.02it/s]\n"
     ]
    },
    {
     "name": "stdout",
     "output_type": "stream",
     "text": [
      "Epoch 365, Loss: 2.9758865609765053\n"
     ]
    },
    {
     "name": "stderr",
     "output_type": "stream",
     "text": [
      "Epoch 366/1000: 100%|██████████| 66/66 [00:00<00:00, 484.10it/s]\n"
     ]
    },
    {
     "name": "stdout",
     "output_type": "stream",
     "text": [
      "Epoch 366, Loss: 3.0305756931052064\n"
     ]
    },
    {
     "name": "stderr",
     "output_type": "stream",
     "text": [
      "Epoch 367/1000: 100%|██████████| 66/66 [00:00<00:00, 350.13it/s]\n"
     ]
    },
    {
     "name": "stdout",
     "output_type": "stream",
     "text": [
      "Epoch 367, Loss: 2.9794071547009726\n"
     ]
    },
    {
     "name": "stderr",
     "output_type": "stream",
     "text": [
      "Epoch 368/1000: 100%|██████████| 66/66 [00:00<00:00, 502.14it/s]\n"
     ]
    },
    {
     "name": "stdout",
     "output_type": "stream",
     "text": [
      "Epoch 368, Loss: 3.0585556757269483\n"
     ]
    },
    {
     "name": "stderr",
     "output_type": "stream",
     "text": [
      "Epoch 369/1000: 100%|██████████| 66/66 [00:00<00:00, 449.33it/s]\n"
     ]
    },
    {
     "name": "stdout",
     "output_type": "stream",
     "text": [
      "Epoch 369, Loss: 3.0181458204081566\n"
     ]
    },
    {
     "name": "stderr",
     "output_type": "stream",
     "text": [
      "Epoch 370/1000: 100%|██████████| 66/66 [00:00<00:00, 486.43it/s]\n"
     ]
    },
    {
     "name": "stdout",
     "output_type": "stream",
     "text": [
      "Epoch 370, Loss: 3.0485010591871813\n"
     ]
    },
    {
     "name": "stderr",
     "output_type": "stream",
     "text": [
      "Epoch 371/1000: 100%|██████████| 66/66 [00:00<00:00, 634.35it/s]\n"
     ]
    },
    {
     "name": "stdout",
     "output_type": "stream",
     "text": [
      "Epoch 371, Loss: 3.046705014552131\n"
     ]
    },
    {
     "name": "stderr",
     "output_type": "stream",
     "text": [
      "Epoch 372/1000: 100%|██████████| 66/66 [00:00<00:00, 636.12it/s]\n"
     ]
    },
    {
     "name": "stdout",
     "output_type": "stream",
     "text": [
      "Epoch 372, Loss: 3.0536345900459723\n"
     ]
    },
    {
     "name": "stderr",
     "output_type": "stream",
     "text": [
      "Epoch 373/1000: 100%|██████████| 66/66 [00:00<00:00, 634.28it/s]\n"
     ]
    },
    {
     "name": "stdout",
     "output_type": "stream",
     "text": [
      "Epoch 373, Loss: 3.070813238846533\n"
     ]
    },
    {
     "name": "stderr",
     "output_type": "stream",
     "text": [
      "Epoch 374/1000: 100%|██████████| 66/66 [00:00<00:00, 453.87it/s]\n"
     ]
    },
    {
     "name": "stdout",
     "output_type": "stream",
     "text": [
      "Epoch 374, Loss: 3.014007751914588\n"
     ]
    },
    {
     "name": "stderr",
     "output_type": "stream",
     "text": [
      "Epoch 375/1000: 100%|██████████| 66/66 [00:00<00:00, 331.88it/s]\n"
     ]
    },
    {
     "name": "stdout",
     "output_type": "stream",
     "text": [
      "Epoch 375, Loss: 2.97677961104747\n"
     ]
    },
    {
     "name": "stderr",
     "output_type": "stream",
     "text": [
      "Epoch 376/1000: 100%|██████████| 66/66 [00:00<00:00, 326.66it/s]\n"
     ]
    },
    {
     "name": "stdout",
     "output_type": "stream",
     "text": [
      "Epoch 376, Loss: 3.0317780917341057\n"
     ]
    },
    {
     "name": "stderr",
     "output_type": "stream",
     "text": [
      "Epoch 377/1000: 100%|██████████| 66/66 [00:00<00:00, 326.44it/s]\n"
     ]
    },
    {
     "name": "stdout",
     "output_type": "stream",
     "text": [
      "Epoch 377, Loss: 3.0377907493349277\n"
     ]
    },
    {
     "name": "stderr",
     "output_type": "stream",
     "text": [
      "Epoch 378/1000: 100%|██████████| 66/66 [00:00<00:00, 324.33it/s]\n"
     ]
    },
    {
     "name": "stdout",
     "output_type": "stream",
     "text": [
      "Epoch 378, Loss: 2.9968770785313663\n"
     ]
    },
    {
     "name": "stderr",
     "output_type": "stream",
     "text": [
      "Epoch 379/1000: 100%|██████████| 66/66 [00:00<00:00, 327.00it/s]\n"
     ]
    },
    {
     "name": "stdout",
     "output_type": "stream",
     "text": [
      "Epoch 379, Loss: 2.929324112380996\n"
     ]
    },
    {
     "name": "stderr",
     "output_type": "stream",
     "text": [
      "Epoch 380/1000: 100%|██████████| 66/66 [00:00<00:00, 326.42it/s]\n"
     ]
    },
    {
     "name": "stdout",
     "output_type": "stream",
     "text": [
      "Epoch 380, Loss: 3.156895726241849\n"
     ]
    },
    {
     "name": "stderr",
     "output_type": "stream",
     "text": [
      "Epoch 381/1000: 100%|██████████| 66/66 [00:00<00:00, 327.97it/s]\n"
     ]
    },
    {
     "name": "stdout",
     "output_type": "stream",
     "text": [
      "Epoch 381, Loss: 2.9768011770916707\n"
     ]
    },
    {
     "name": "stderr",
     "output_type": "stream",
     "text": [
      "Epoch 382/1000: 100%|██████████| 66/66 [00:00<00:00, 326.10it/s]\n"
     ]
    },
    {
     "name": "stdout",
     "output_type": "stream",
     "text": [
      "Epoch 382, Loss: 2.9675574643593845\n"
     ]
    },
    {
     "name": "stderr",
     "output_type": "stream",
     "text": [
      "Epoch 383/1000: 100%|██████████| 66/66 [00:00<00:00, 348.82it/s]\n"
     ]
    },
    {
     "name": "stdout",
     "output_type": "stream",
     "text": [
      "Epoch 383, Loss: 3.2986570048061283\n"
     ]
    },
    {
     "name": "stderr",
     "output_type": "stream",
     "text": [
      "Epoch 384/1000: 100%|██████████| 66/66 [00:00<00:00, 407.82it/s]\n"
     ]
    },
    {
     "name": "stdout",
     "output_type": "stream",
     "text": [
      "Epoch 384, Loss: 3.0078071638038666\n"
     ]
    },
    {
     "name": "stderr",
     "output_type": "stream",
     "text": [
      "Epoch 385/1000: 100%|██████████| 66/66 [00:00<00:00, 346.81it/s]\n"
     ]
    },
    {
     "name": "stdout",
     "output_type": "stream",
     "text": [
      "Epoch 385, Loss: 2.9713012208089684\n"
     ]
    },
    {
     "name": "stderr",
     "output_type": "stream",
     "text": [
      "Epoch 386/1000: 100%|██████████| 66/66 [00:00<00:00, 328.62it/s]\n"
     ]
    },
    {
     "name": "stdout",
     "output_type": "stream",
     "text": [
      "Epoch 386, Loss: 2.9583643715489996\n"
     ]
    },
    {
     "name": "stderr",
     "output_type": "stream",
     "text": [
      "Epoch 387/1000: 100%|██████████| 66/66 [00:00<00:00, 328.12it/s]\n"
     ]
    },
    {
     "name": "stdout",
     "output_type": "stream",
     "text": [
      "Epoch 387, Loss: 3.0379950681870636\n"
     ]
    },
    {
     "name": "stderr",
     "output_type": "stream",
     "text": [
      "Epoch 388/1000: 100%|██████████| 66/66 [00:00<00:00, 323.96it/s]\n"
     ]
    },
    {
     "name": "stdout",
     "output_type": "stream",
     "text": [
      "Epoch 388, Loss: 3.016444996225111\n"
     ]
    },
    {
     "name": "stderr",
     "output_type": "stream",
     "text": [
      "Epoch 389/1000: 100%|██████████| 66/66 [00:00<00:00, 365.46it/s]\n"
     ]
    },
    {
     "name": "stdout",
     "output_type": "stream",
     "text": [
      "Epoch 389, Loss: 3.013015673693382\n"
     ]
    },
    {
     "name": "stderr",
     "output_type": "stream",
     "text": [
      "Epoch 390/1000: 100%|██████████| 66/66 [00:00<00:00, 338.51it/s]\n"
     ]
    },
    {
     "name": "stdout",
     "output_type": "stream",
     "text": [
      "Epoch 390, Loss: 2.9759430384094063\n"
     ]
    },
    {
     "name": "stderr",
     "output_type": "stream",
     "text": [
      "Epoch 391/1000: 100%|██████████| 66/66 [00:00<00:00, 447.09it/s]\n"
     ]
    },
    {
     "name": "stdout",
     "output_type": "stream",
     "text": [
      "Epoch 391, Loss: 2.9441147980590663\n"
     ]
    },
    {
     "name": "stderr",
     "output_type": "stream",
     "text": [
      "Epoch 392/1000: 100%|██████████| 66/66 [00:00<00:00, 361.98it/s]\n"
     ]
    },
    {
     "name": "stdout",
     "output_type": "stream",
     "text": [
      "Epoch 392, Loss: 3.023448278506597\n"
     ]
    },
    {
     "name": "stderr",
     "output_type": "stream",
     "text": [
      "Epoch 393/1000: 100%|██████████| 66/66 [00:00<00:00, 403.97it/s]\n"
     ]
    },
    {
     "name": "stdout",
     "output_type": "stream",
     "text": [
      "Epoch 393, Loss: 2.96363029538682\n"
     ]
    },
    {
     "name": "stderr",
     "output_type": "stream",
     "text": [
      "Epoch 394/1000: 100%|██████████| 66/66 [00:00<00:00, 347.26it/s]\n"
     ]
    },
    {
     "name": "stdout",
     "output_type": "stream",
     "text": [
      "Epoch 394, Loss: 2.975914492751613\n"
     ]
    },
    {
     "name": "stderr",
     "output_type": "stream",
     "text": [
      "Epoch 395/1000: 100%|██████████| 66/66 [00:00<00:00, 349.48it/s]\n"
     ]
    },
    {
     "name": "stdout",
     "output_type": "stream",
     "text": [
      "Epoch 395, Loss: 3.098213624096278\n"
     ]
    },
    {
     "name": "stderr",
     "output_type": "stream",
     "text": [
      "Epoch 396/1000: 100%|██████████| 66/66 [00:00<00:00, 373.00it/s]\n"
     ]
    },
    {
     "name": "stdout",
     "output_type": "stream",
     "text": [
      "Epoch 396, Loss: 2.954252929398508\n"
     ]
    },
    {
     "name": "stderr",
     "output_type": "stream",
     "text": [
      "Epoch 397/1000: 100%|██████████| 66/66 [00:00<00:00, 353.92it/s]\n"
     ]
    },
    {
     "name": "stdout",
     "output_type": "stream",
     "text": [
      "Epoch 397, Loss: 3.100547004152428\n"
     ]
    },
    {
     "name": "stderr",
     "output_type": "stream",
     "text": [
      "Epoch 398/1000: 100%|██████████| 66/66 [00:00<00:00, 391.87it/s]\n"
     ]
    },
    {
     "name": "stdout",
     "output_type": "stream",
     "text": [
      "Epoch 398, Loss: 3.038654489273375\n"
     ]
    },
    {
     "name": "stderr",
     "output_type": "stream",
     "text": [
      "Epoch 399/1000: 100%|██████████| 66/66 [00:00<00:00, 393.61it/s]\n"
     ]
    },
    {
     "name": "stdout",
     "output_type": "stream",
     "text": [
      "Epoch 399, Loss: 2.969616430501143\n"
     ]
    },
    {
     "name": "stderr",
     "output_type": "stream",
     "text": [
      "Epoch 400/1000: 100%|██████████| 66/66 [00:00<00:00, 324.35it/s]\n"
     ]
    },
    {
     "name": "stdout",
     "output_type": "stream",
     "text": [
      "Epoch 400, Loss: 3.075174065250339\n"
     ]
    },
    {
     "name": "stderr",
     "output_type": "stream",
     "text": [
      "Epoch 401/1000: 100%|██████████| 66/66 [00:00<00:00, 326.17it/s]\n"
     ]
    },
    {
     "name": "stdout",
     "output_type": "stream",
     "text": [
      "Epoch 401, Loss: 2.9061952928702035\n"
     ]
    },
    {
     "name": "stderr",
     "output_type": "stream",
     "text": [
      "Epoch 402/1000: 100%|██████████| 66/66 [00:00<00:00, 331.71it/s]\n"
     ]
    },
    {
     "name": "stdout",
     "output_type": "stream",
     "text": [
      "Epoch 402, Loss: 2.956447979040218\n"
     ]
    },
    {
     "name": "stderr",
     "output_type": "stream",
     "text": [
      "Epoch 403/1000: 100%|██████████| 66/66 [00:00<00:00, 326.71it/s]\n"
     ]
    },
    {
     "name": "stdout",
     "output_type": "stream",
     "text": [
      "Epoch 403, Loss: 2.9493043752330723\n"
     ]
    },
    {
     "name": "stderr",
     "output_type": "stream",
     "text": [
      "Epoch 404/1000: 100%|██████████| 66/66 [00:00<00:00, 323.77it/s]\n"
     ]
    },
    {
     "name": "stdout",
     "output_type": "stream",
     "text": [
      "Epoch 404, Loss: 2.9780089451056537\n"
     ]
    },
    {
     "name": "stderr",
     "output_type": "stream",
     "text": [
      "Epoch 405/1000: 100%|██████████| 66/66 [00:00<00:00, 324.59it/s]\n"
     ]
    },
    {
     "name": "stdout",
     "output_type": "stream",
     "text": [
      "Epoch 405, Loss: 3.0118443880117303\n"
     ]
    },
    {
     "name": "stderr",
     "output_type": "stream",
     "text": [
      "Epoch 406/1000: 100%|██████████| 66/66 [00:00<00:00, 326.94it/s]\n"
     ]
    },
    {
     "name": "stdout",
     "output_type": "stream",
     "text": [
      "Epoch 406, Loss: 2.9144297382145217\n"
     ]
    },
    {
     "name": "stderr",
     "output_type": "stream",
     "text": [
      "Epoch 407/1000: 100%|██████████| 66/66 [00:00<00:00, 326.34it/s]\n"
     ]
    },
    {
     "name": "stdout",
     "output_type": "stream",
     "text": [
      "Epoch 407, Loss: 2.9605132989359624\n"
     ]
    },
    {
     "name": "stderr",
     "output_type": "stream",
     "text": [
      "Epoch 408/1000: 100%|██████████| 66/66 [00:00<00:00, 326.60it/s]\n"
     ]
    },
    {
     "name": "stdout",
     "output_type": "stream",
     "text": [
      "Epoch 408, Loss: 2.9951566286159284\n"
     ]
    },
    {
     "name": "stderr",
     "output_type": "stream",
     "text": [
      "Epoch 409/1000: 100%|██████████| 66/66 [00:00<00:00, 324.48it/s]\n"
     ]
    },
    {
     "name": "stdout",
     "output_type": "stream",
     "text": [
      "Epoch 409, Loss: 2.974643429120382\n"
     ]
    },
    {
     "name": "stderr",
     "output_type": "stream",
     "text": [
      "Epoch 410/1000: 100%|██████████| 66/66 [00:00<00:00, 326.36it/s]\n"
     ]
    },
    {
     "name": "stdout",
     "output_type": "stream",
     "text": [
      "Epoch 410, Loss: 2.979749492397814\n"
     ]
    },
    {
     "name": "stderr",
     "output_type": "stream",
     "text": [
      "Epoch 411/1000: 100%|██████████| 66/66 [00:00<00:00, 326.66it/s]\n"
     ]
    },
    {
     "name": "stdout",
     "output_type": "stream",
     "text": [
      "Epoch 411, Loss: 2.9357550250309887\n"
     ]
    },
    {
     "name": "stderr",
     "output_type": "stream",
     "text": [
      "Epoch 412/1000: 100%|██████████| 66/66 [00:00<00:00, 326.31it/s]\n"
     ]
    },
    {
     "name": "stdout",
     "output_type": "stream",
     "text": [
      "Epoch 412, Loss: 3.320586922493848\n"
     ]
    },
    {
     "name": "stderr",
     "output_type": "stream",
     "text": [
      "Epoch 413/1000: 100%|██████████| 66/66 [00:00<00:00, 330.95it/s]\n"
     ]
    },
    {
     "name": "stdout",
     "output_type": "stream",
     "text": [
      "Epoch 413, Loss: 3.019969529048963\n"
     ]
    },
    {
     "name": "stderr",
     "output_type": "stream",
     "text": [
      "Epoch 414/1000: 100%|██████████| 66/66 [00:00<00:00, 329.13it/s]\n"
     ]
    },
    {
     "name": "stdout",
     "output_type": "stream",
     "text": [
      "Epoch 414, Loss: 2.9626813740892843\n"
     ]
    },
    {
     "name": "stderr",
     "output_type": "stream",
     "text": [
      "Epoch 415/1000: 100%|██████████| 66/66 [00:00<00:00, 334.78it/s]\n"
     ]
    },
    {
     "name": "stdout",
     "output_type": "stream",
     "text": [
      "Epoch 415, Loss: 2.9721051436482053\n"
     ]
    },
    {
     "name": "stderr",
     "output_type": "stream",
     "text": [
      "Epoch 416/1000: 100%|██████████| 66/66 [00:00<00:00, 367.59it/s]\n"
     ]
    },
    {
     "name": "stdout",
     "output_type": "stream",
     "text": [
      "Epoch 416, Loss: 2.9120001607772075\n"
     ]
    },
    {
     "name": "stderr",
     "output_type": "stream",
     "text": [
      "Epoch 417/1000: 100%|██████████| 66/66 [00:00<00:00, 334.99it/s]\n"
     ]
    },
    {
     "name": "stdout",
     "output_type": "stream",
     "text": [
      "Epoch 417, Loss: 2.88262337762298\n"
     ]
    },
    {
     "name": "stderr",
     "output_type": "stream",
     "text": [
      "Epoch 418/1000: 100%|██████████| 66/66 [00:00<00:00, 322.95it/s]\n"
     ]
    },
    {
     "name": "stdout",
     "output_type": "stream",
     "text": [
      "Epoch 418, Loss: 2.9128973240202125\n"
     ]
    },
    {
     "name": "stderr",
     "output_type": "stream",
     "text": [
      "Epoch 419/1000: 100%|██████████| 66/66 [00:00<00:00, 324.17it/s]\n"
     ]
    },
    {
     "name": "stdout",
     "output_type": "stream",
     "text": [
      "Epoch 419, Loss: 2.915561616646521\n"
     ]
    },
    {
     "name": "stderr",
     "output_type": "stream",
     "text": [
      "Epoch 420/1000: 100%|██████████| 66/66 [00:00<00:00, 309.91it/s]\n"
     ]
    },
    {
     "name": "stdout",
     "output_type": "stream",
     "text": [
      "Epoch 420, Loss: 2.964242859997533\n"
     ]
    },
    {
     "name": "stderr",
     "output_type": "stream",
     "text": [
      "Epoch 421/1000: 100%|██████████| 66/66 [00:00<00:00, 366.15it/s]\n"
     ]
    },
    {
     "name": "stdout",
     "output_type": "stream",
     "text": [
      "Epoch 421, Loss: 2.970315395431085\n"
     ]
    },
    {
     "name": "stderr",
     "output_type": "stream",
     "text": [
      "Epoch 422/1000: 100%|██████████| 66/66 [00:00<00:00, 378.81it/s]\n"
     ]
    },
    {
     "name": "stdout",
     "output_type": "stream",
     "text": [
      "Epoch 422, Loss: 3.0402670541044436\n"
     ]
    },
    {
     "name": "stderr",
     "output_type": "stream",
     "text": [
      "Epoch 423/1000: 100%|██████████| 66/66 [00:00<00:00, 355.49it/s]\n"
     ]
    },
    {
     "name": "stdout",
     "output_type": "stream",
     "text": [
      "Epoch 423, Loss: 2.940084612730778\n"
     ]
    },
    {
     "name": "stderr",
     "output_type": "stream",
     "text": [
      "Epoch 424/1000: 100%|██████████| 66/66 [00:00<00:00, 425.74it/s]\n"
     ]
    },
    {
     "name": "stdout",
     "output_type": "stream",
     "text": [
      "Epoch 424, Loss: 2.9656847022248036\n"
     ]
    },
    {
     "name": "stderr",
     "output_type": "stream",
     "text": [
      "Epoch 425/1000: 100%|██████████| 66/66 [00:00<00:00, 333.23it/s]\n"
     ]
    },
    {
     "name": "stdout",
     "output_type": "stream",
     "text": [
      "Epoch 425, Loss: 2.9578216091701477\n"
     ]
    },
    {
     "name": "stderr",
     "output_type": "stream",
     "text": [
      "Epoch 426/1000: 100%|██████████| 66/66 [00:00<00:00, 326.75it/s]\n"
     ]
    },
    {
     "name": "stdout",
     "output_type": "stream",
     "text": [
      "Epoch 426, Loss: 2.9632840818076422\n"
     ]
    },
    {
     "name": "stderr",
     "output_type": "stream",
     "text": [
      "Epoch 427/1000: 100%|██████████| 66/66 [00:00<00:00, 326.26it/s]\n"
     ]
    },
    {
     "name": "stdout",
     "output_type": "stream",
     "text": [
      "Epoch 427, Loss: 2.992574032960516\n"
     ]
    },
    {
     "name": "stderr",
     "output_type": "stream",
     "text": [
      "Epoch 428/1000: 100%|██████████| 66/66 [00:00<00:00, 326.41it/s]\n"
     ]
    },
    {
     "name": "stdout",
     "output_type": "stream",
     "text": [
      "Epoch 428, Loss: 3.0207711731394133\n"
     ]
    },
    {
     "name": "stderr",
     "output_type": "stream",
     "text": [
      "Epoch 429/1000: 100%|██████████| 66/66 [00:00<00:00, 324.37it/s]\n"
     ]
    },
    {
     "name": "stdout",
     "output_type": "stream",
     "text": [
      "Epoch 429, Loss: 2.9534241064931406\n"
     ]
    },
    {
     "name": "stderr",
     "output_type": "stream",
     "text": [
      "Epoch 430/1000: 100%|██████████| 66/66 [00:00<00:00, 326.37it/s]\n"
     ]
    },
    {
     "name": "stdout",
     "output_type": "stream",
     "text": [
      "Epoch 430, Loss: 2.922032896993738\n"
     ]
    },
    {
     "name": "stderr",
     "output_type": "stream",
     "text": [
      "Epoch 431/1000: 100%|██████████| 66/66 [00:00<00:00, 326.04it/s]\n"
     ]
    },
    {
     "name": "stdout",
     "output_type": "stream",
     "text": [
      "Epoch 431, Loss: 3.110591503255295\n"
     ]
    },
    {
     "name": "stderr",
     "output_type": "stream",
     "text": [
      "Epoch 432/1000: 100%|██████████| 66/66 [00:00<00:00, 326.29it/s]\n"
     ]
    },
    {
     "name": "stdout",
     "output_type": "stream",
     "text": [
      "Epoch 432, Loss: 2.986366627116998\n"
     ]
    },
    {
     "name": "stderr",
     "output_type": "stream",
     "text": [
      "Epoch 433/1000: 100%|██████████| 66/66 [00:00<00:00, 326.54it/s]\n"
     ]
    },
    {
     "name": "stdout",
     "output_type": "stream",
     "text": [
      "Epoch 433, Loss: 3.0660547544107293\n"
     ]
    },
    {
     "name": "stderr",
     "output_type": "stream",
     "text": [
      "Epoch 434/1000: 100%|██████████| 66/66 [00:00<00:00, 333.52it/s]\n"
     ]
    },
    {
     "name": "stdout",
     "output_type": "stream",
     "text": [
      "Epoch 434, Loss: 2.8879691251751147\n"
     ]
    },
    {
     "name": "stderr",
     "output_type": "stream",
     "text": [
      "Epoch 435/1000: 100%|██████████| 66/66 [00:00<00:00, 325.89it/s]\n"
     ]
    },
    {
     "name": "stdout",
     "output_type": "stream",
     "text": [
      "Epoch 435, Loss: 3.081494589195107\n"
     ]
    },
    {
     "name": "stderr",
     "output_type": "stream",
     "text": [
      "Epoch 436/1000: 100%|██████████| 66/66 [00:00<00:00, 326.07it/s]\n"
     ]
    },
    {
     "name": "stdout",
     "output_type": "stream",
     "text": [
      "Epoch 436, Loss: 3.080487956151818\n"
     ]
    },
    {
     "name": "stderr",
     "output_type": "stream",
     "text": [
      "Epoch 437/1000: 100%|██████████| 66/66 [00:00<00:00, 326.59it/s]\n"
     ]
    },
    {
     "name": "stdout",
     "output_type": "stream",
     "text": [
      "Epoch 437, Loss: 2.9315134621027745\n"
     ]
    },
    {
     "name": "stderr",
     "output_type": "stream",
     "text": [
      "Epoch 438/1000: 100%|██████████| 66/66 [00:00<00:00, 323.65it/s]\n"
     ]
    },
    {
     "name": "stdout",
     "output_type": "stream",
     "text": [
      "Epoch 438, Loss: 2.919568822013609\n"
     ]
    },
    {
     "name": "stderr",
     "output_type": "stream",
     "text": [
      "Epoch 439/1000: 100%|██████████| 66/66 [00:00<00:00, 355.19it/s]\n"
     ]
    },
    {
     "name": "stdout",
     "output_type": "stream",
     "text": [
      "Epoch 439, Loss: 2.9675102087132856\n"
     ]
    },
    {
     "name": "stderr",
     "output_type": "stream",
     "text": [
      "Epoch 440/1000: 100%|██████████| 66/66 [00:00<00:00, 326.38it/s]\n"
     ]
    },
    {
     "name": "stdout",
     "output_type": "stream",
     "text": [
      "Epoch 440, Loss: 2.949009325919729\n"
     ]
    },
    {
     "name": "stderr",
     "output_type": "stream",
     "text": [
      "Epoch 441/1000: 100%|██████████| 66/66 [00:00<00:00, 325.70it/s]\n"
     ]
    },
    {
     "name": "stdout",
     "output_type": "stream",
     "text": [
      "Epoch 441, Loss: 2.9365195645527407\n"
     ]
    },
    {
     "name": "stderr",
     "output_type": "stream",
     "text": [
      "Epoch 442/1000: 100%|██████████| 66/66 [00:00<00:00, 326.32it/s]\n"
     ]
    },
    {
     "name": "stdout",
     "output_type": "stream",
     "text": [
      "Epoch 442, Loss: 2.9122626007054793\n"
     ]
    },
    {
     "name": "stderr",
     "output_type": "stream",
     "text": [
      "Epoch 443/1000: 100%|██████████| 66/66 [00:00<00:00, 325.19it/s]\n"
     ]
    },
    {
     "name": "stdout",
     "output_type": "stream",
     "text": [
      "Epoch 443, Loss: 2.8991304710507393\n"
     ]
    },
    {
     "name": "stderr",
     "output_type": "stream",
     "text": [
      "Epoch 444/1000: 100%|██████████| 66/66 [00:00<00:00, 326.10it/s]\n"
     ]
    },
    {
     "name": "stdout",
     "output_type": "stream",
     "text": [
      "Epoch 444, Loss: 3.0759161367560877\n"
     ]
    },
    {
     "name": "stderr",
     "output_type": "stream",
     "text": [
      "Epoch 445/1000: 100%|██████████| 66/66 [00:00<00:00, 328.86it/s]\n"
     ]
    },
    {
     "name": "stdout",
     "output_type": "stream",
     "text": [
      "Epoch 445, Loss: 3.0266160757252663\n"
     ]
    },
    {
     "name": "stderr",
     "output_type": "stream",
     "text": [
      "Epoch 446/1000: 100%|██████████| 66/66 [00:00<00:00, 326.58it/s]\n"
     ]
    },
    {
     "name": "stdout",
     "output_type": "stream",
     "text": [
      "Epoch 446, Loss: 2.933167274476904\n"
     ]
    },
    {
     "name": "stderr",
     "output_type": "stream",
     "text": [
      "Epoch 447/1000: 100%|██████████| 66/66 [00:00<00:00, 326.15it/s]\n"
     ]
    },
    {
     "name": "stdout",
     "output_type": "stream",
     "text": [
      "Epoch 447, Loss: 2.9246509540261645\n"
     ]
    },
    {
     "name": "stderr",
     "output_type": "stream",
     "text": [
      "Epoch 448/1000: 100%|██████████| 66/66 [00:00<00:00, 330.56it/s]\n"
     ]
    },
    {
     "name": "stdout",
     "output_type": "stream",
     "text": [
      "Epoch 448, Loss: 2.972152488249721\n"
     ]
    },
    {
     "name": "stderr",
     "output_type": "stream",
     "text": [
      "Epoch 449/1000: 100%|██████████| 66/66 [00:00<00:00, 335.14it/s]\n"
     ]
    },
    {
     "name": "stdout",
     "output_type": "stream",
     "text": [
      "Epoch 449, Loss: 3.017781216989864\n"
     ]
    },
    {
     "name": "stderr",
     "output_type": "stream",
     "text": [
      "Epoch 450/1000: 100%|██████████| 66/66 [00:00<00:00, 369.65it/s]\n"
     ]
    },
    {
     "name": "stdout",
     "output_type": "stream",
     "text": [
      "Epoch 450, Loss: 2.940509391327699\n"
     ]
    },
    {
     "name": "stderr",
     "output_type": "stream",
     "text": [
      "Epoch 451/1000: 100%|██████████| 66/66 [00:00<00:00, 342.96it/s]\n"
     ]
    },
    {
     "name": "stdout",
     "output_type": "stream",
     "text": [
      "Epoch 451, Loss: 2.8837314318075324\n"
     ]
    },
    {
     "name": "stderr",
     "output_type": "stream",
     "text": [
      "Epoch 452/1000: 100%|██████████| 66/66 [00:00<00:00, 378.60it/s]\n"
     ]
    },
    {
     "name": "stdout",
     "output_type": "stream",
     "text": [
      "Epoch 452, Loss: 2.863389945617228\n"
     ]
    },
    {
     "name": "stderr",
     "output_type": "stream",
     "text": [
      "Epoch 453/1000: 100%|██████████| 66/66 [00:00<00:00, 322.20it/s]\n"
     ]
    },
    {
     "name": "stdout",
     "output_type": "stream",
     "text": [
      "Epoch 453, Loss: 2.902543150791616\n"
     ]
    },
    {
     "name": "stderr",
     "output_type": "stream",
     "text": [
      "Epoch 454/1000: 100%|██████████| 66/66 [00:00<00:00, 324.22it/s]\n"
     ]
    },
    {
     "name": "stdout",
     "output_type": "stream",
     "text": [
      "Epoch 454, Loss: 2.960849305671273\n"
     ]
    },
    {
     "name": "stderr",
     "output_type": "stream",
     "text": [
      "Epoch 455/1000: 100%|██████████| 66/66 [00:00<00:00, 325.43it/s]\n"
     ]
    },
    {
     "name": "stdout",
     "output_type": "stream",
     "text": [
      "Epoch 455, Loss: 2.9251113312714025\n"
     ]
    },
    {
     "name": "stderr",
     "output_type": "stream",
     "text": [
      "Epoch 456/1000: 100%|██████████| 66/66 [00:00<00:00, 323.64it/s]\n"
     ]
    },
    {
     "name": "stdout",
     "output_type": "stream",
     "text": [
      "Epoch 456, Loss: 2.9014672223817217\n"
     ]
    },
    {
     "name": "stderr",
     "output_type": "stream",
     "text": [
      "Epoch 457/1000: 100%|██████████| 66/66 [00:00<00:00, 348.25it/s]\n"
     ]
    },
    {
     "name": "stdout",
     "output_type": "stream",
     "text": [
      "Epoch 457, Loss: 3.012333556783922\n"
     ]
    },
    {
     "name": "stderr",
     "output_type": "stream",
     "text": [
      "Epoch 458/1000: 100%|██████████| 66/66 [00:00<00:00, 324.03it/s]\n"
     ]
    },
    {
     "name": "stdout",
     "output_type": "stream",
     "text": [
      "Epoch 458, Loss: 2.951895358887586\n"
     ]
    },
    {
     "name": "stderr",
     "output_type": "stream",
     "text": [
      "Epoch 459/1000: 100%|██████████| 66/66 [00:00<00:00, 326.51it/s]\n"
     ]
    },
    {
     "name": "stdout",
     "output_type": "stream",
     "text": [
      "Epoch 459, Loss: 2.8706034336126214\n"
     ]
    },
    {
     "name": "stderr",
     "output_type": "stream",
     "text": [
      "Epoch 460/1000: 100%|██████████| 66/66 [00:00<00:00, 326.21it/s]\n"
     ]
    },
    {
     "name": "stdout",
     "output_type": "stream",
     "text": [
      "Epoch 460, Loss: 2.868015427255269\n"
     ]
    },
    {
     "name": "stderr",
     "output_type": "stream",
     "text": [
      "Epoch 461/1000: 100%|██████████| 66/66 [00:00<00:00, 327.09it/s]\n"
     ]
    },
    {
     "name": "stdout",
     "output_type": "stream",
     "text": [
      "Epoch 461, Loss: 2.8488335796829425\n"
     ]
    },
    {
     "name": "stderr",
     "output_type": "stream",
     "text": [
      "Epoch 462/1000: 100%|██████████| 66/66 [00:00<00:00, 326.33it/s]\n"
     ]
    },
    {
     "name": "stdout",
     "output_type": "stream",
     "text": [
      "Epoch 462, Loss: 2.991187412630428\n"
     ]
    },
    {
     "name": "stderr",
     "output_type": "stream",
     "text": [
      "Epoch 463/1000: 100%|██████████| 66/66 [00:00<00:00, 336.23it/s]\n"
     ]
    },
    {
     "name": "stdout",
     "output_type": "stream",
     "text": [
      "Epoch 463, Loss: 2.9087960024674735\n"
     ]
    },
    {
     "name": "stderr",
     "output_type": "stream",
     "text": [
      "Epoch 464/1000: 100%|██████████| 66/66 [00:00<00:00, 371.32it/s]\n"
     ]
    },
    {
     "name": "stdout",
     "output_type": "stream",
     "text": [
      "Epoch 464, Loss: 2.8674144939039694\n"
     ]
    },
    {
     "name": "stderr",
     "output_type": "stream",
     "text": [
      "Epoch 465/1000: 100%|██████████| 66/66 [00:00<00:00, 326.01it/s]\n"
     ]
    },
    {
     "name": "stdout",
     "output_type": "stream",
     "text": [
      "Epoch 465, Loss: 2.8588234147790708\n"
     ]
    },
    {
     "name": "stderr",
     "output_type": "stream",
     "text": [
      "Epoch 466/1000: 100%|██████████| 66/66 [00:00<00:00, 328.66it/s]\n"
     ]
    },
    {
     "name": "stdout",
     "output_type": "stream",
     "text": [
      "Epoch 466, Loss: 2.8518684562860113\n"
     ]
    },
    {
     "name": "stderr",
     "output_type": "stream",
     "text": [
      "Epoch 467/1000: 100%|██████████| 66/66 [00:00<00:00, 327.05it/s]\n"
     ]
    },
    {
     "name": "stdout",
     "output_type": "stream",
     "text": [
      "Epoch 467, Loss: 2.9224675351923164\n"
     ]
    },
    {
     "name": "stderr",
     "output_type": "stream",
     "text": [
      "Epoch 468/1000: 100%|██████████| 66/66 [00:00<00:00, 318.82it/s]\n"
     ]
    },
    {
     "name": "stdout",
     "output_type": "stream",
     "text": [
      "Epoch 468, Loss: 2.83262013598825\n"
     ]
    },
    {
     "name": "stderr",
     "output_type": "stream",
     "text": [
      "Epoch 469/1000: 100%|██████████| 66/66 [00:00<00:00, 326.88it/s]\n"
     ]
    },
    {
     "name": "stdout",
     "output_type": "stream",
     "text": [
      "Epoch 469, Loss: 2.8502140060970276\n"
     ]
    },
    {
     "name": "stderr",
     "output_type": "stream",
     "text": [
      "Epoch 470/1000: 100%|██████████| 66/66 [00:00<00:00, 325.22it/s]\n"
     ]
    },
    {
     "name": "stdout",
     "output_type": "stream",
     "text": [
      "Epoch 470, Loss: 2.834675875802835\n"
     ]
    },
    {
     "name": "stderr",
     "output_type": "stream",
     "text": [
      "Epoch 471/1000: 100%|██████████| 66/66 [00:00<00:00, 326.56it/s]\n"
     ]
    },
    {
     "name": "stdout",
     "output_type": "stream",
     "text": [
      "Epoch 471, Loss: 2.9006268772663493\n"
     ]
    },
    {
     "name": "stderr",
     "output_type": "stream",
     "text": [
      "Epoch 472/1000: 100%|██████████| 66/66 [00:00<00:00, 326.07it/s]\n"
     ]
    },
    {
     "name": "stdout",
     "output_type": "stream",
     "text": [
      "Epoch 472, Loss: 2.88570325686173\n"
     ]
    },
    {
     "name": "stderr",
     "output_type": "stream",
     "text": [
      "Epoch 473/1000: 100%|██████████| 66/66 [00:00<00:00, 326.62it/s]\n"
     ]
    },
    {
     "name": "stdout",
     "output_type": "stream",
     "text": [
      "Epoch 473, Loss: 2.892776910780054\n"
     ]
    },
    {
     "name": "stderr",
     "output_type": "stream",
     "text": [
      "Epoch 474/1000: 100%|██████████| 66/66 [00:00<00:00, 331.01it/s]\n"
     ]
    },
    {
     "name": "stdout",
     "output_type": "stream",
     "text": [
      "Epoch 474, Loss: 2.8893409075610563\n"
     ]
    },
    {
     "name": "stderr",
     "output_type": "stream",
     "text": [
      "Epoch 475/1000: 100%|██████████| 66/66 [00:00<00:00, 378.24it/s]\n"
     ]
    },
    {
     "name": "stdout",
     "output_type": "stream",
     "text": [
      "Epoch 475, Loss: 2.8555197029402763\n"
     ]
    },
    {
     "name": "stderr",
     "output_type": "stream",
     "text": [
      "Epoch 476/1000: 100%|██████████| 66/66 [00:00<00:00, 339.19it/s]\n"
     ]
    },
    {
     "name": "stdout",
     "output_type": "stream",
     "text": [
      "Epoch 476, Loss: 2.90046592395414\n"
     ]
    },
    {
     "name": "stderr",
     "output_type": "stream",
     "text": [
      "Epoch 477/1000: 100%|██████████| 66/66 [00:00<00:00, 337.20it/s]\n"
     ]
    },
    {
     "name": "stdout",
     "output_type": "stream",
     "text": [
      "Epoch 477, Loss: 2.8092502531680195\n"
     ]
    },
    {
     "name": "stderr",
     "output_type": "stream",
     "text": [
      "Epoch 478/1000: 100%|██████████| 66/66 [00:00<00:00, 336.90it/s]\n"
     ]
    },
    {
     "name": "stdout",
     "output_type": "stream",
     "text": [
      "Epoch 478, Loss: 2.944181941675417\n"
     ]
    },
    {
     "name": "stderr",
     "output_type": "stream",
     "text": [
      "Epoch 479/1000: 100%|██████████| 66/66 [00:00<00:00, 325.71it/s]\n"
     ]
    },
    {
     "name": "stdout",
     "output_type": "stream",
     "text": [
      "Epoch 479, Loss: 2.8812822597947987\n"
     ]
    },
    {
     "name": "stderr",
     "output_type": "stream",
     "text": [
      "Epoch 480/1000: 100%|██████████| 66/66 [00:00<00:00, 326.41it/s]\n"
     ]
    },
    {
     "name": "stdout",
     "output_type": "stream",
     "text": [
      "Epoch 480, Loss: 2.764569827778773\n"
     ]
    },
    {
     "name": "stderr",
     "output_type": "stream",
     "text": [
      "Epoch 481/1000: 100%|██████████| 66/66 [00:00<00:00, 326.54it/s]\n"
     ]
    },
    {
     "name": "stdout",
     "output_type": "stream",
     "text": [
      "Epoch 481, Loss: 3.3359021799582425\n"
     ]
    },
    {
     "name": "stderr",
     "output_type": "stream",
     "text": [
      "Epoch 482/1000: 100%|██████████| 66/66 [00:00<00:00, 330.24it/s]\n"
     ]
    },
    {
     "name": "stdout",
     "output_type": "stream",
     "text": [
      "Epoch 482, Loss: 2.947950808387814\n"
     ]
    },
    {
     "name": "stderr",
     "output_type": "stream",
     "text": [
      "Epoch 483/1000: 100%|██████████| 66/66 [00:00<00:00, 372.24it/s]\n"
     ]
    },
    {
     "name": "stdout",
     "output_type": "stream",
     "text": [
      "Epoch 483, Loss: 2.838229404480168\n"
     ]
    },
    {
     "name": "stderr",
     "output_type": "stream",
     "text": [
      "Epoch 484/1000: 100%|██████████| 66/66 [00:00<00:00, 322.77it/s]\n"
     ]
    },
    {
     "name": "stdout",
     "output_type": "stream",
     "text": [
      "Epoch 484, Loss: 2.9882696133219833\n"
     ]
    },
    {
     "name": "stderr",
     "output_type": "stream",
     "text": [
      "Epoch 485/1000: 100%|██████████| 66/66 [00:00<00:00, 323.53it/s]\n"
     ]
    },
    {
     "name": "stdout",
     "output_type": "stream",
     "text": [
      "Epoch 485, Loss: 3.0871460268443283\n"
     ]
    },
    {
     "name": "stderr",
     "output_type": "stream",
     "text": [
      "Epoch 486/1000: 100%|██████████| 66/66 [00:00<00:00, 324.82it/s]\n"
     ]
    },
    {
     "name": "stdout",
     "output_type": "stream",
     "text": [
      "Epoch 486, Loss: 2.9410081844438207\n"
     ]
    },
    {
     "name": "stderr",
     "output_type": "stream",
     "text": [
      "Epoch 487/1000: 100%|██████████| 66/66 [00:00<00:00, 323.66it/s]\n"
     ]
    },
    {
     "name": "stdout",
     "output_type": "stream",
     "text": [
      "Epoch 487, Loss: 2.799050158397718\n"
     ]
    },
    {
     "name": "stderr",
     "output_type": "stream",
     "text": [
      "Epoch 488/1000: 100%|██████████| 66/66 [00:00<00:00, 325.43it/s]\n"
     ]
    },
    {
     "name": "stdout",
     "output_type": "stream",
     "text": [
      "Epoch 488, Loss: 2.967431568512411\n"
     ]
    },
    {
     "name": "stderr",
     "output_type": "stream",
     "text": [
      "Epoch 489/1000: 100%|██████████| 66/66 [00:00<00:00, 325.51it/s]\n"
     ]
    },
    {
     "name": "stdout",
     "output_type": "stream",
     "text": [
      "Epoch 489, Loss: 2.8378339346611137\n"
     ]
    },
    {
     "name": "stderr",
     "output_type": "stream",
     "text": [
      "Epoch 490/1000: 100%|██████████| 66/66 [00:00<00:00, 324.14it/s]\n"
     ]
    },
    {
     "name": "stdout",
     "output_type": "stream",
     "text": [
      "Epoch 490, Loss: 2.846132623652617\n"
     ]
    },
    {
     "name": "stderr",
     "output_type": "stream",
     "text": [
      "Epoch 491/1000: 100%|██████████| 66/66 [00:00<00:00, 326.71it/s]\n"
     ]
    },
    {
     "name": "stdout",
     "output_type": "stream",
     "text": [
      "Epoch 491, Loss: 2.7875041431098273\n"
     ]
    },
    {
     "name": "stderr",
     "output_type": "stream",
     "text": [
      "Epoch 492/1000: 100%|██████████| 66/66 [00:00<00:00, 335.11it/s]\n"
     ]
    },
    {
     "name": "stdout",
     "output_type": "stream",
     "text": [
      "Epoch 492, Loss: 2.840405684980479\n"
     ]
    },
    {
     "name": "stderr",
     "output_type": "stream",
     "text": [
      "Epoch 493/1000: 100%|██████████| 66/66 [00:00<00:00, 335.98it/s]\n"
     ]
    },
    {
     "name": "stdout",
     "output_type": "stream",
     "text": [
      "Epoch 493, Loss: 2.8926785904349703\n"
     ]
    },
    {
     "name": "stderr",
     "output_type": "stream",
     "text": [
      "Epoch 494/1000: 100%|██████████| 66/66 [00:00<00:00, 363.34it/s]\n"
     ]
    },
    {
     "name": "stdout",
     "output_type": "stream",
     "text": [
      "Epoch 494, Loss: 2.823327518548026\n"
     ]
    },
    {
     "name": "stderr",
     "output_type": "stream",
     "text": [
      "Epoch 495/1000: 100%|██████████| 66/66 [00:00<00:00, 326.44it/s]\n"
     ]
    },
    {
     "name": "stdout",
     "output_type": "stream",
     "text": [
      "Epoch 495, Loss: 2.8760675765348203\n"
     ]
    },
    {
     "name": "stderr",
     "output_type": "stream",
     "text": [
      "Epoch 496/1000: 100%|██████████| 66/66 [00:00<00:00, 387.95it/s]\n"
     ]
    },
    {
     "name": "stdout",
     "output_type": "stream",
     "text": [
      "Epoch 496, Loss: 2.8606153333728965\n"
     ]
    },
    {
     "name": "stderr",
     "output_type": "stream",
     "text": [
      "Epoch 497/1000: 100%|██████████| 66/66 [00:00<00:00, 327.40it/s]\n"
     ]
    },
    {
     "name": "stdout",
     "output_type": "stream",
     "text": [
      "Epoch 497, Loss: 2.845532914680062\n"
     ]
    },
    {
     "name": "stderr",
     "output_type": "stream",
     "text": [
      "Epoch 498/1000: 100%|██████████| 66/66 [00:00<00:00, 327.23it/s]\n"
     ]
    },
    {
     "name": "stdout",
     "output_type": "stream",
     "text": [
      "Epoch 498, Loss: 2.90616025775671\n"
     ]
    },
    {
     "name": "stderr",
     "output_type": "stream",
     "text": [
      "Epoch 499/1000: 100%|██████████| 66/66 [00:00<00:00, 475.37it/s]\n"
     ]
    },
    {
     "name": "stdout",
     "output_type": "stream",
     "text": [
      "Epoch 499, Loss: 3.0667928992347284\n"
     ]
    },
    {
     "name": "stderr",
     "output_type": "stream",
     "text": [
      "Epoch 500/1000: 100%|██████████| 66/66 [00:00<00:00, 400.20it/s]\n"
     ]
    },
    {
     "name": "stdout",
     "output_type": "stream",
     "text": [
      "Epoch 500, Loss: 3.0153741669474226\n"
     ]
    },
    {
     "name": "stderr",
     "output_type": "stream",
     "text": [
      "Epoch 501/1000: 100%|██████████| 66/66 [00:00<00:00, 323.84it/s]\n"
     ]
    },
    {
     "name": "stdout",
     "output_type": "stream",
     "text": [
      "Epoch 501, Loss: 2.845130281240651\n"
     ]
    },
    {
     "name": "stderr",
     "output_type": "stream",
     "text": [
      "Epoch 502/1000: 100%|██████████| 66/66 [00:00<00:00, 326.05it/s]\n"
     ]
    },
    {
     "name": "stdout",
     "output_type": "stream",
     "text": [
      "Epoch 502, Loss: 2.8339047199397376\n"
     ]
    },
    {
     "name": "stderr",
     "output_type": "stream",
     "text": [
      "Epoch 503/1000: 100%|██████████| 66/66 [00:00<00:00, 326.36it/s]\n"
     ]
    },
    {
     "name": "stdout",
     "output_type": "stream",
     "text": [
      "Epoch 503, Loss: 2.7686115857778173\n"
     ]
    },
    {
     "name": "stderr",
     "output_type": "stream",
     "text": [
      "Epoch 504/1000: 100%|██████████| 66/66 [00:00<00:00, 325.96it/s]\n"
     ]
    },
    {
     "name": "stdout",
     "output_type": "stream",
     "text": [
      "Epoch 504, Loss: 3.042371508975824\n"
     ]
    },
    {
     "name": "stderr",
     "output_type": "stream",
     "text": [
      "Epoch 505/1000: 100%|██████████| 66/66 [00:00<00:00, 324.43it/s]\n"
     ]
    },
    {
     "name": "stdout",
     "output_type": "stream",
     "text": [
      "Epoch 505, Loss: 2.8449966954914006\n"
     ]
    },
    {
     "name": "stderr",
     "output_type": "stream",
     "text": [
      "Epoch 506/1000: 100%|██████████| 66/66 [00:00<00:00, 325.93it/s]\n"
     ]
    },
    {
     "name": "stdout",
     "output_type": "stream",
     "text": [
      "Epoch 506, Loss: 2.865491410548037\n"
     ]
    },
    {
     "name": "stderr",
     "output_type": "stream",
     "text": [
      "Epoch 507/1000: 100%|██████████| 66/66 [00:00<00:00, 325.98it/s]\n"
     ]
    },
    {
     "name": "stdout",
     "output_type": "stream",
     "text": [
      "Epoch 507, Loss: 2.847724713385105\n"
     ]
    },
    {
     "name": "stderr",
     "output_type": "stream",
     "text": [
      "Epoch 508/1000: 100%|██████████| 66/66 [00:00<00:00, 327.43it/s]\n"
     ]
    },
    {
     "name": "stdout",
     "output_type": "stream",
     "text": [
      "Epoch 508, Loss: 3.0138487793279416\n"
     ]
    },
    {
     "name": "stderr",
     "output_type": "stream",
     "text": [
      "Epoch 509/1000: 100%|██████████| 66/66 [00:00<00:00, 325.77it/s]\n"
     ]
    },
    {
     "name": "stdout",
     "output_type": "stream",
     "text": [
      "Epoch 509, Loss: 2.944766015491702\n"
     ]
    },
    {
     "name": "stderr",
     "output_type": "stream",
     "text": [
      "Epoch 510/1000: 100%|██████████| 66/66 [00:00<00:00, 326.00it/s]\n"
     ]
    },
    {
     "name": "stdout",
     "output_type": "stream",
     "text": [
      "Epoch 510, Loss: 2.785697252235629\n"
     ]
    },
    {
     "name": "stderr",
     "output_type": "stream",
     "text": [
      "Epoch 511/1000: 100%|██████████| 66/66 [00:00<00:00, 326.22it/s]\n"
     ]
    },
    {
     "name": "stdout",
     "output_type": "stream",
     "text": [
      "Epoch 511, Loss: 2.7947444965442023\n"
     ]
    },
    {
     "name": "stderr",
     "output_type": "stream",
     "text": [
      "Epoch 512/1000: 100%|██████████| 66/66 [00:00<00:00, 552.43it/s]\n"
     ]
    },
    {
     "name": "stdout",
     "output_type": "stream",
     "text": [
      "Epoch 512, Loss: 2.7978026462775287\n"
     ]
    },
    {
     "name": "stderr",
     "output_type": "stream",
     "text": [
      "Epoch 513/1000: 100%|██████████| 66/66 [00:00<00:00, 363.93it/s]\n"
     ]
    },
    {
     "name": "stdout",
     "output_type": "stream",
     "text": [
      "Epoch 513, Loss: 2.921401528246475\n"
     ]
    },
    {
     "name": "stderr",
     "output_type": "stream",
     "text": [
      "Epoch 514/1000: 100%|██████████| 66/66 [00:00<00:00, 402.37it/s]\n"
     ]
    },
    {
     "name": "stdout",
     "output_type": "stream",
     "text": [
      "Epoch 514, Loss: 2.775354765129812\n"
     ]
    },
    {
     "name": "stderr",
     "output_type": "stream",
     "text": [
      "Epoch 515/1000: 100%|██████████| 66/66 [00:00<00:00, 355.96it/s]\n"
     ]
    },
    {
     "name": "stdout",
     "output_type": "stream",
     "text": [
      "Epoch 515, Loss: 2.8109257620843975\n"
     ]
    },
    {
     "name": "stderr",
     "output_type": "stream",
     "text": [
      "Epoch 516/1000: 100%|██████████| 66/66 [00:00<00:00, 325.67it/s]\n"
     ]
    },
    {
     "name": "stdout",
     "output_type": "stream",
     "text": [
      "Epoch 516, Loss: 2.7873218804597855\n"
     ]
    },
    {
     "name": "stderr",
     "output_type": "stream",
     "text": [
      "Epoch 517/1000: 100%|██████████| 66/66 [00:00<00:00, 346.82it/s]\n"
     ]
    },
    {
     "name": "stdout",
     "output_type": "stream",
     "text": [
      "Epoch 517, Loss: 3.310987398705699\n"
     ]
    },
    {
     "name": "stderr",
     "output_type": "stream",
     "text": [
      "Epoch 518/1000: 100%|██████████| 66/66 [00:00<00:00, 334.49it/s]\n"
     ]
    },
    {
     "name": "stdout",
     "output_type": "stream",
     "text": [
      "Epoch 518, Loss: 3.060035247242812\n"
     ]
    },
    {
     "name": "stderr",
     "output_type": "stream",
     "text": [
      "Epoch 519/1000: 100%|██████████| 66/66 [00:00<00:00, 326.39it/s]\n"
     ]
    },
    {
     "name": "stdout",
     "output_type": "stream",
     "text": [
      "Epoch 519, Loss: 2.8290135700142747\n"
     ]
    },
    {
     "name": "stderr",
     "output_type": "stream",
     "text": [
      "Epoch 520/1000: 100%|██████████| 66/66 [00:00<00:00, 324.71it/s]\n"
     ]
    },
    {
     "name": "stdout",
     "output_type": "stream",
     "text": [
      "Epoch 520, Loss: 2.8302425477992403\n"
     ]
    },
    {
     "name": "stderr",
     "output_type": "stream",
     "text": [
      "Epoch 521/1000: 100%|██████████| 66/66 [00:00<00:00, 326.38it/s]\n"
     ]
    },
    {
     "name": "stdout",
     "output_type": "stream",
     "text": [
      "Epoch 521, Loss: 3.010562481979529\n"
     ]
    },
    {
     "name": "stderr",
     "output_type": "stream",
     "text": [
      "Epoch 522/1000: 100%|██████████| 66/66 [00:00<00:00, 326.21it/s]\n"
     ]
    },
    {
     "name": "stdout",
     "output_type": "stream",
     "text": [
      "Epoch 522, Loss: 2.837674969299273\n"
     ]
    },
    {
     "name": "stderr",
     "output_type": "stream",
     "text": [
      "Epoch 523/1000: 100%|██████████| 66/66 [00:00<00:00, 348.65it/s]\n"
     ]
    },
    {
     "name": "stdout",
     "output_type": "stream",
     "text": [
      "Epoch 523, Loss: 2.818098384096767\n"
     ]
    },
    {
     "name": "stderr",
     "output_type": "stream",
     "text": [
      "Epoch 524/1000: 100%|██████████| 66/66 [00:00<00:00, 349.61it/s]\n"
     ]
    },
    {
     "name": "stdout",
     "output_type": "stream",
     "text": [
      "Epoch 524, Loss: 2.8036004998015636\n"
     ]
    },
    {
     "name": "stderr",
     "output_type": "stream",
     "text": [
      "Epoch 525/1000: 100%|██████████| 66/66 [00:00<00:00, 339.34it/s]\n"
     ]
    },
    {
     "name": "stdout",
     "output_type": "stream",
     "text": [
      "Epoch 525, Loss: 2.8663511951312874\n"
     ]
    },
    {
     "name": "stderr",
     "output_type": "stream",
     "text": [
      "Epoch 526/1000: 100%|██████████| 66/66 [00:00<00:00, 339.75it/s]\n"
     ]
    },
    {
     "name": "stdout",
     "output_type": "stream",
     "text": [
      "Epoch 526, Loss: 2.84699020150936\n"
     ]
    },
    {
     "name": "stderr",
     "output_type": "stream",
     "text": [
      "Epoch 527/1000: 100%|██████████| 66/66 [00:00<00:00, 348.35it/s]\n"
     ]
    },
    {
     "name": "stdout",
     "output_type": "stream",
     "text": [
      "Epoch 527, Loss: 2.790062875910239\n"
     ]
    },
    {
     "name": "stderr",
     "output_type": "stream",
     "text": [
      "Epoch 528/1000: 100%|██████████| 66/66 [00:00<00:00, 338.47it/s]\n"
     ]
    },
    {
     "name": "stdout",
     "output_type": "stream",
     "text": [
      "Epoch 528, Loss: 2.7974418555245255\n"
     ]
    },
    {
     "name": "stderr",
     "output_type": "stream",
     "text": [
      "Epoch 529/1000: 100%|██████████| 66/66 [00:00<00:00, 348.35it/s]\n"
     ]
    },
    {
     "name": "stdout",
     "output_type": "stream",
     "text": [
      "Epoch 529, Loss: 2.8246578429684495\n"
     ]
    },
    {
     "name": "stderr",
     "output_type": "stream",
     "text": [
      "Epoch 530/1000: 100%|██████████| 66/66 [00:00<00:00, 397.64it/s]\n"
     ]
    },
    {
     "name": "stdout",
     "output_type": "stream",
     "text": [
      "Epoch 530, Loss: 2.892514588706421\n"
     ]
    },
    {
     "name": "stderr",
     "output_type": "stream",
     "text": [
      "Epoch 531/1000: 100%|██████████| 66/66 [00:00<00:00, 345.03it/s]\n"
     ]
    },
    {
     "name": "stdout",
     "output_type": "stream",
     "text": [
      "Epoch 531, Loss: 2.9161777026725537\n"
     ]
    },
    {
     "name": "stderr",
     "output_type": "stream",
     "text": [
      "Epoch 532/1000: 100%|██████████| 66/66 [00:00<00:00, 343.73it/s]\n"
     ]
    },
    {
     "name": "stdout",
     "output_type": "stream",
     "text": [
      "Epoch 532, Loss: 2.8830506018165387\n"
     ]
    },
    {
     "name": "stderr",
     "output_type": "stream",
     "text": [
      "Epoch 533/1000: 100%|██████████| 66/66 [00:00<00:00, 434.02it/s]\n"
     ]
    },
    {
     "name": "stdout",
     "output_type": "stream",
     "text": [
      "Epoch 533, Loss: 2.9488150734793055\n"
     ]
    },
    {
     "name": "stderr",
     "output_type": "stream",
     "text": [
      "Epoch 534/1000: 100%|██████████| 66/66 [00:00<00:00, 372.45it/s]\n"
     ]
    },
    {
     "name": "stdout",
     "output_type": "stream",
     "text": [
      "Epoch 534, Loss: 2.9750612075581695\n"
     ]
    },
    {
     "name": "stderr",
     "output_type": "stream",
     "text": [
      "Epoch 535/1000: 100%|██████████| 66/66 [00:00<00:00, 324.95it/s]\n"
     ]
    },
    {
     "name": "stdout",
     "output_type": "stream",
     "text": [
      "Epoch 535, Loss: 2.8219432708891956\n"
     ]
    },
    {
     "name": "stderr",
     "output_type": "stream",
     "text": [
      "Epoch 536/1000: 100%|██████████| 66/66 [00:00<00:00, 326.15it/s]\n"
     ]
    },
    {
     "name": "stdout",
     "output_type": "stream",
     "text": [
      "Epoch 536, Loss: 2.8801406477436875\n"
     ]
    },
    {
     "name": "stderr",
     "output_type": "stream",
     "text": [
      "Epoch 537/1000: 100%|██████████| 66/66 [00:00<00:00, 326.47it/s]\n"
     ]
    },
    {
     "name": "stdout",
     "output_type": "stream",
     "text": [
      "Epoch 537, Loss: 2.8084197247570213\n"
     ]
    },
    {
     "name": "stderr",
     "output_type": "stream",
     "text": [
      "Epoch 538/1000: 100%|██████████| 66/66 [00:00<00:00, 341.54it/s]\n"
     ]
    },
    {
     "name": "stdout",
     "output_type": "stream",
     "text": [
      "Epoch 538, Loss: 2.7833181962822424\n"
     ]
    },
    {
     "name": "stderr",
     "output_type": "stream",
     "text": [
      "Epoch 539/1000: 100%|██████████| 66/66 [00:00<00:00, 545.57it/s]\n"
     ]
    },
    {
     "name": "stdout",
     "output_type": "stream",
     "text": [
      "Epoch 539, Loss: 2.8125770605649008\n"
     ]
    },
    {
     "name": "stderr",
     "output_type": "stream",
     "text": [
      "Epoch 540/1000: 100%|██████████| 66/66 [00:00<00:00, 332.93it/s]\n"
     ]
    },
    {
     "name": "stdout",
     "output_type": "stream",
     "text": [
      "Epoch 540, Loss: 2.7773984853516924\n"
     ]
    },
    {
     "name": "stderr",
     "output_type": "stream",
     "text": [
      "Epoch 541/1000: 100%|██████████| 66/66 [00:00<00:00, 413.56it/s]\n"
     ]
    },
    {
     "name": "stdout",
     "output_type": "stream",
     "text": [
      "Epoch 541, Loss: 2.7953293411569162\n"
     ]
    },
    {
     "name": "stderr",
     "output_type": "stream",
     "text": [
      "Epoch 542/1000: 100%|██████████| 66/66 [00:00<00:00, 411.44it/s]\n"
     ]
    },
    {
     "name": "stdout",
     "output_type": "stream",
     "text": [
      "Epoch 542, Loss: 2.908924592037996\n"
     ]
    },
    {
     "name": "stderr",
     "output_type": "stream",
     "text": [
      "Epoch 543/1000: 100%|██████████| 66/66 [00:00<00:00, 381.13it/s]\n"
     ]
    },
    {
     "name": "stdout",
     "output_type": "stream",
     "text": [
      "Epoch 543, Loss: 2.866788725284013\n"
     ]
    },
    {
     "name": "stderr",
     "output_type": "stream",
     "text": [
      "Epoch 544/1000: 100%|██████████| 66/66 [00:00<00:00, 368.08it/s]\n"
     ]
    },
    {
     "name": "stdout",
     "output_type": "stream",
     "text": [
      "Epoch 544, Loss: 2.8079417338877013\n"
     ]
    },
    {
     "name": "stderr",
     "output_type": "stream",
     "text": [
      "Epoch 545/1000: 100%|██████████| 66/66 [00:00<00:00, 392.44it/s]\n"
     ]
    },
    {
     "name": "stdout",
     "output_type": "stream",
     "text": [
      "Epoch 545, Loss: 2.759104155907125\n"
     ]
    },
    {
     "name": "stderr",
     "output_type": "stream",
     "text": [
      "Epoch 546/1000: 100%|██████████| 66/66 [00:00<00:00, 635.02it/s]\n"
     ]
    },
    {
     "name": "stdout",
     "output_type": "stream",
     "text": [
      "Epoch 546, Loss: 2.768979979735432\n"
     ]
    },
    {
     "name": "stderr",
     "output_type": "stream",
     "text": [
      "Epoch 547/1000: 100%|██████████| 66/66 [00:00<00:00, 381.73it/s]\n"
     ]
    },
    {
     "name": "stdout",
     "output_type": "stream",
     "text": [
      "Epoch 547, Loss: 2.8412980024110186\n"
     ]
    },
    {
     "name": "stderr",
     "output_type": "stream",
     "text": [
      "Epoch 548/1000: 100%|██████████| 66/66 [00:00<00:00, 324.92it/s]\n"
     ]
    },
    {
     "name": "stdout",
     "output_type": "stream",
     "text": [
      "Epoch 548, Loss: 2.8521652178782406\n"
     ]
    },
    {
     "name": "stderr",
     "output_type": "stream",
     "text": [
      "Epoch 549/1000: 100%|██████████| 66/66 [00:00<00:00, 326.37it/s]\n"
     ]
    },
    {
     "name": "stdout",
     "output_type": "stream",
     "text": [
      "Epoch 549, Loss: 2.901114479384639\n"
     ]
    },
    {
     "name": "stderr",
     "output_type": "stream",
     "text": [
      "Epoch 550/1000: 100%|██████████| 66/66 [00:00<00:00, 324.66it/s]\n"
     ]
    },
    {
     "name": "stdout",
     "output_type": "stream",
     "text": [
      "Epoch 550, Loss: 2.834142650167147\n"
     ]
    },
    {
     "name": "stderr",
     "output_type": "stream",
     "text": [
      "Epoch 551/1000: 100%|██████████| 66/66 [00:00<00:00, 326.55it/s]\n"
     ]
    },
    {
     "name": "stdout",
     "output_type": "stream",
     "text": [
      "Epoch 551, Loss: 2.9367265109763\n"
     ]
    },
    {
     "name": "stderr",
     "output_type": "stream",
     "text": [
      "Epoch 552/1000: 100%|██████████| 66/66 [00:00<00:00, 326.51it/s]\n"
     ]
    },
    {
     "name": "stdout",
     "output_type": "stream",
     "text": [
      "Epoch 552, Loss: 2.893520607415474\n"
     ]
    },
    {
     "name": "stderr",
     "output_type": "stream",
     "text": [
      "Epoch 553/1000: 100%|██████████| 66/66 [00:00<00:00, 328.84it/s]\n"
     ]
    },
    {
     "name": "stdout",
     "output_type": "stream",
     "text": [
      "Epoch 553, Loss: 2.795410626088128\n"
     ]
    },
    {
     "name": "stderr",
     "output_type": "stream",
     "text": [
      "Epoch 554/1000: 100%|██████████| 66/66 [00:00<00:00, 326.70it/s]\n"
     ]
    },
    {
     "name": "stdout",
     "output_type": "stream",
     "text": [
      "Epoch 554, Loss: 2.7969898136727736\n"
     ]
    },
    {
     "name": "stderr",
     "output_type": "stream",
     "text": [
      "Epoch 555/1000: 100%|██████████| 66/66 [00:00<00:00, 471.64it/s]\n"
     ]
    },
    {
     "name": "stdout",
     "output_type": "stream",
     "text": [
      "Epoch 555, Loss: 2.846811270397721\n"
     ]
    },
    {
     "name": "stderr",
     "output_type": "stream",
     "text": [
      "Epoch 556/1000: 100%|██████████| 66/66 [00:00<00:00, 473.41it/s]\n"
     ]
    },
    {
     "name": "stdout",
     "output_type": "stream",
     "text": [
      "Epoch 556, Loss: 2.8680823375329827\n"
     ]
    },
    {
     "name": "stderr",
     "output_type": "stream",
     "text": [
      "Epoch 557/1000: 100%|██████████| 66/66 [00:00<00:00, 349.54it/s]\n"
     ]
    },
    {
     "name": "stdout",
     "output_type": "stream",
     "text": [
      "Epoch 557, Loss: 2.832058717807134\n"
     ]
    },
    {
     "name": "stderr",
     "output_type": "stream",
     "text": [
      "Epoch 558/1000: 100%|██████████| 66/66 [00:00<00:00, 360.95it/s]\n"
     ]
    },
    {
     "name": "stdout",
     "output_type": "stream",
     "text": [
      "Epoch 558, Loss: 2.7569194865046125\n"
     ]
    },
    {
     "name": "stderr",
     "output_type": "stream",
     "text": [
      "Epoch 559/1000: 100%|██████████| 66/66 [00:00<00:00, 288.30it/s]\n"
     ]
    },
    {
     "name": "stdout",
     "output_type": "stream",
     "text": [
      "Epoch 559, Loss: 2.900143851610747\n"
     ]
    },
    {
     "name": "stderr",
     "output_type": "stream",
     "text": [
      "Epoch 560/1000: 100%|██████████| 66/66 [00:00<00:00, 371.34it/s]\n"
     ]
    },
    {
     "name": "stdout",
     "output_type": "stream",
     "text": [
      "Epoch 560, Loss: 2.780804290238655\n"
     ]
    },
    {
     "name": "stderr",
     "output_type": "stream",
     "text": [
      "Epoch 561/1000: 100%|██████████| 66/66 [00:00<00:00, 364.69it/s]\n"
     ]
    },
    {
     "name": "stdout",
     "output_type": "stream",
     "text": [
      "Epoch 561, Loss: 2.732123782463146\n"
     ]
    },
    {
     "name": "stderr",
     "output_type": "stream",
     "text": [
      "Epoch 562/1000: 100%|██████████| 66/66 [00:00<00:00, 324.98it/s]\n"
     ]
    },
    {
     "name": "stdout",
     "output_type": "stream",
     "text": [
      "Epoch 562, Loss: 2.8655273763067797\n"
     ]
    },
    {
     "name": "stderr",
     "output_type": "stream",
     "text": [
      "Epoch 563/1000: 100%|██████████| 66/66 [00:00<00:00, 325.86it/s]\n"
     ]
    },
    {
     "name": "stdout",
     "output_type": "stream",
     "text": [
      "Epoch 563, Loss: 2.758414102548903\n"
     ]
    },
    {
     "name": "stderr",
     "output_type": "stream",
     "text": [
      "Epoch 564/1000: 100%|██████████| 66/66 [00:00<00:00, 325.20it/s]\n"
     ]
    },
    {
     "name": "stdout",
     "output_type": "stream",
     "text": [
      "Epoch 564, Loss: 2.712004559735457\n"
     ]
    },
    {
     "name": "stderr",
     "output_type": "stream",
     "text": [
      "Epoch 565/1000: 100%|██████████| 66/66 [00:00<00:00, 466.37it/s]\n"
     ]
    },
    {
     "name": "stdout",
     "output_type": "stream",
     "text": [
      "Epoch 565, Loss: 2.80740931517247\n"
     ]
    },
    {
     "name": "stderr",
     "output_type": "stream",
     "text": [
      "Epoch 566/1000: 100%|██████████| 66/66 [00:00<00:00, 443.15it/s]\n"
     ]
    },
    {
     "name": "stdout",
     "output_type": "stream",
     "text": [
      "Epoch 566, Loss: 2.810214975566575\n"
     ]
    },
    {
     "name": "stderr",
     "output_type": "stream",
     "text": [
      "Epoch 567/1000: 100%|██████████| 66/66 [00:00<00:00, 378.54it/s]\n"
     ]
    },
    {
     "name": "stdout",
     "output_type": "stream",
     "text": [
      "Epoch 567, Loss: 2.8097811953136413\n"
     ]
    },
    {
     "name": "stderr",
     "output_type": "stream",
     "text": [
      "Epoch 568/1000: 100%|██████████| 66/66 [00:00<00:00, 347.71it/s]\n"
     ]
    },
    {
     "name": "stdout",
     "output_type": "stream",
     "text": [
      "Epoch 568, Loss: 2.793093740714319\n"
     ]
    },
    {
     "name": "stderr",
     "output_type": "stream",
     "text": [
      "Epoch 569/1000: 100%|██████████| 66/66 [00:00<00:00, 345.93it/s]\n"
     ]
    },
    {
     "name": "stdout",
     "output_type": "stream",
     "text": [
      "Epoch 569, Loss: 2.7529954269076837\n"
     ]
    },
    {
     "name": "stderr",
     "output_type": "stream",
     "text": [
      "Epoch 570/1000: 100%|██████████| 66/66 [00:00<00:00, 330.55it/s]\n"
     ]
    },
    {
     "name": "stdout",
     "output_type": "stream",
     "text": [
      "Epoch 570, Loss: 3.0384546527356813\n"
     ]
    },
    {
     "name": "stderr",
     "output_type": "stream",
     "text": [
      "Epoch 571/1000: 100%|██████████| 66/66 [00:00<00:00, 361.20it/s]\n"
     ]
    },
    {
     "name": "stdout",
     "output_type": "stream",
     "text": [
      "Epoch 571, Loss: 2.8242793688268373\n"
     ]
    },
    {
     "name": "stderr",
     "output_type": "stream",
     "text": [
      "Epoch 572/1000: 100%|██████████| 66/66 [00:00<00:00, 346.40it/s]\n"
     ]
    },
    {
     "name": "stdout",
     "output_type": "stream",
     "text": [
      "Epoch 572, Loss: 2.8169295476241545\n"
     ]
    },
    {
     "name": "stderr",
     "output_type": "stream",
     "text": [
      "Epoch 573/1000: 100%|██████████| 66/66 [00:00<00:00, 322.50it/s]\n"
     ]
    },
    {
     "name": "stdout",
     "output_type": "stream",
     "text": [
      "Epoch 573, Loss: 2.834654072468931\n"
     ]
    },
    {
     "name": "stderr",
     "output_type": "stream",
     "text": [
      "Epoch 574/1000: 100%|██████████| 66/66 [00:00<00:00, 326.09it/s]\n"
     ]
    },
    {
     "name": "stdout",
     "output_type": "stream",
     "text": [
      "Epoch 574, Loss: 2.92563545094295\n"
     ]
    },
    {
     "name": "stderr",
     "output_type": "stream",
     "text": [
      "Epoch 575/1000: 100%|██████████| 66/66 [00:00<00:00, 327.06it/s]\n"
     ]
    },
    {
     "name": "stdout",
     "output_type": "stream",
     "text": [
      "Epoch 575, Loss: 2.8776844453179473\n"
     ]
    },
    {
     "name": "stderr",
     "output_type": "stream",
     "text": [
      "Epoch 576/1000: 100%|██████████| 66/66 [00:00<00:00, 326.46it/s]\n"
     ]
    },
    {
     "name": "stdout",
     "output_type": "stream",
     "text": [
      "Epoch 576, Loss: 2.740376936215343\n"
     ]
    },
    {
     "name": "stderr",
     "output_type": "stream",
     "text": [
      "Epoch 577/1000: 100%|██████████| 66/66 [00:00<00:00, 324.15it/s]\n"
     ]
    },
    {
     "name": "stdout",
     "output_type": "stream",
     "text": [
      "Epoch 577, Loss: 2.8896412772662714\n"
     ]
    },
    {
     "name": "stderr",
     "output_type": "stream",
     "text": [
      "Epoch 578/1000: 100%|██████████| 66/66 [00:00<00:00, 325.40it/s]\n"
     ]
    },
    {
     "name": "stdout",
     "output_type": "stream",
     "text": [
      "Epoch 578, Loss: 3.032097779214382\n"
     ]
    },
    {
     "name": "stderr",
     "output_type": "stream",
     "text": [
      "Epoch 579/1000: 100%|██████████| 66/66 [00:00<00:00, 350.25it/s]\n"
     ]
    },
    {
     "name": "stdout",
     "output_type": "stream",
     "text": [
      "Epoch 579, Loss: 2.8127139619354047\n"
     ]
    },
    {
     "name": "stderr",
     "output_type": "stream",
     "text": [
      "Epoch 580/1000: 100%|██████████| 66/66 [00:00<00:00, 340.32it/s]\n"
     ]
    },
    {
     "name": "stdout",
     "output_type": "stream",
     "text": [
      "Epoch 580, Loss: 2.7790833045587395\n"
     ]
    },
    {
     "name": "stderr",
     "output_type": "stream",
     "text": [
      "Epoch 581/1000: 100%|██████████| 66/66 [00:00<00:00, 399.48it/s]\n"
     ]
    },
    {
     "name": "stdout",
     "output_type": "stream",
     "text": [
      "Epoch 581, Loss: 2.810365901074626\n"
     ]
    },
    {
     "name": "stderr",
     "output_type": "stream",
     "text": [
      "Epoch 582/1000: 100%|██████████| 66/66 [00:00<00:00, 350.17it/s]\n"
     ]
    },
    {
     "name": "stdout",
     "output_type": "stream",
     "text": [
      "Epoch 582, Loss: 2.742192332265955\n"
     ]
    },
    {
     "name": "stderr",
     "output_type": "stream",
     "text": [
      "Epoch 583/1000: 100%|██████████| 66/66 [00:00<00:00, 356.48it/s]\n"
     ]
    },
    {
     "name": "stdout",
     "output_type": "stream",
     "text": [
      "Epoch 583, Loss: 2.795202841587139\n"
     ]
    },
    {
     "name": "stderr",
     "output_type": "stream",
     "text": [
      "Epoch 584/1000: 100%|██████████| 66/66 [00:00<00:00, 358.46it/s]\n"
     ]
    },
    {
     "name": "stdout",
     "output_type": "stream",
     "text": [
      "Epoch 584, Loss: 2.733303092645876\n"
     ]
    },
    {
     "name": "stderr",
     "output_type": "stream",
     "text": [
      "Epoch 585/1000: 100%|██████████| 66/66 [00:00<00:00, 397.69it/s]\n"
     ]
    },
    {
     "name": "stdout",
     "output_type": "stream",
     "text": [
      "Epoch 585, Loss: 2.7371574904430997\n"
     ]
    },
    {
     "name": "stderr",
     "output_type": "stream",
     "text": [
      "Epoch 586/1000: 100%|██████████| 66/66 [00:00<00:00, 348.67it/s]\n"
     ]
    },
    {
     "name": "stdout",
     "output_type": "stream",
     "text": [
      "Epoch 586, Loss: 2.8028011629075715\n"
     ]
    },
    {
     "name": "stderr",
     "output_type": "stream",
     "text": [
      "Epoch 587/1000: 100%|██████████| 66/66 [00:00<00:00, 349.61it/s]\n"
     ]
    },
    {
     "name": "stdout",
     "output_type": "stream",
     "text": [
      "Epoch 587, Loss: 2.7612098360603508\n"
     ]
    },
    {
     "name": "stderr",
     "output_type": "stream",
     "text": [
      "Epoch 588/1000: 100%|██████████| 66/66 [00:00<00:00, 493.88it/s]\n"
     ]
    },
    {
     "name": "stdout",
     "output_type": "stream",
     "text": [
      "Epoch 588, Loss: 2.7273194252541573\n"
     ]
    },
    {
     "name": "stderr",
     "output_type": "stream",
     "text": [
      "Epoch 589/1000: 100%|██████████| 66/66 [00:00<00:00, 387.20it/s]\n"
     ]
    },
    {
     "name": "stdout",
     "output_type": "stream",
     "text": [
      "Epoch 589, Loss: 2.8263426100214324\n"
     ]
    },
    {
     "name": "stderr",
     "output_type": "stream",
     "text": [
      "Epoch 590/1000: 100%|██████████| 66/66 [00:00<00:00, 358.94it/s]\n"
     ]
    },
    {
     "name": "stdout",
     "output_type": "stream",
     "text": [
      "Epoch 590, Loss: 2.8698003271763977\n"
     ]
    },
    {
     "name": "stderr",
     "output_type": "stream",
     "text": [
      "Epoch 591/1000: 100%|██████████| 66/66 [00:00<00:00, 340.24it/s]\n"
     ]
    },
    {
     "name": "stdout",
     "output_type": "stream",
     "text": [
      "Epoch 591, Loss: 2.946288290574695\n"
     ]
    },
    {
     "name": "stderr",
     "output_type": "stream",
     "text": [
      "Epoch 592/1000: 100%|██████████| 66/66 [00:00<00:00, 325.20it/s]\n"
     ]
    },
    {
     "name": "stdout",
     "output_type": "stream",
     "text": [
      "Epoch 592, Loss: 2.7508170277331816\n"
     ]
    },
    {
     "name": "stderr",
     "output_type": "stream",
     "text": [
      "Epoch 593/1000: 100%|██████████| 66/66 [00:00<00:00, 326.11it/s]\n"
     ]
    },
    {
     "name": "stdout",
     "output_type": "stream",
     "text": [
      "Epoch 593, Loss: 2.9238098243420776\n"
     ]
    },
    {
     "name": "stderr",
     "output_type": "stream",
     "text": [
      "Epoch 594/1000: 100%|██████████| 66/66 [00:00<00:00, 325.98it/s]\n"
     ]
    },
    {
     "name": "stdout",
     "output_type": "stream",
     "text": [
      "Epoch 594, Loss: 2.8861036506114583\n"
     ]
    },
    {
     "name": "stderr",
     "output_type": "stream",
     "text": [
      "Epoch 595/1000: 100%|██████████| 66/66 [00:00<00:00, 367.37it/s]\n"
     ]
    },
    {
     "name": "stdout",
     "output_type": "stream",
     "text": [
      "Epoch 595, Loss: 2.84883360925949\n"
     ]
    },
    {
     "name": "stderr",
     "output_type": "stream",
     "text": [
      "Epoch 596/1000: 100%|██████████| 66/66 [00:00<00:00, 351.49it/s]\n"
     ]
    },
    {
     "name": "stdout",
     "output_type": "stream",
     "text": [
      "Epoch 596, Loss: 2.738887275032925\n"
     ]
    },
    {
     "name": "stderr",
     "output_type": "stream",
     "text": [
      "Epoch 597/1000: 100%|██████████| 66/66 [00:00<00:00, 586.00it/s]\n"
     ]
    },
    {
     "name": "stdout",
     "output_type": "stream",
     "text": [
      "Epoch 597, Loss: 2.8325559467528807\n"
     ]
    },
    {
     "name": "stderr",
     "output_type": "stream",
     "text": [
      "Epoch 598/1000: 100%|██████████| 66/66 [00:00<00:00, 333.43it/s]\n"
     ]
    },
    {
     "name": "stdout",
     "output_type": "stream",
     "text": [
      "Epoch 598, Loss: 2.7492091940207914\n"
     ]
    },
    {
     "name": "stderr",
     "output_type": "stream",
     "text": [
      "Epoch 599/1000: 100%|██████████| 66/66 [00:00<00:00, 570.12it/s]\n"
     ]
    },
    {
     "name": "stdout",
     "output_type": "stream",
     "text": [
      "Epoch 599, Loss: 2.870283695784482\n"
     ]
    },
    {
     "name": "stderr",
     "output_type": "stream",
     "text": [
      "Epoch 600/1000: 100%|██████████| 66/66 [00:00<00:00, 425.56it/s]\n"
     ]
    },
    {
     "name": "stdout",
     "output_type": "stream",
     "text": [
      "Epoch 600, Loss: 2.7709195735779675\n"
     ]
    },
    {
     "name": "stderr",
     "output_type": "stream",
     "text": [
      "Epoch 601/1000: 100%|██████████| 66/66 [00:00<00:00, 451.56it/s]\n"
     ]
    },
    {
     "name": "stdout",
     "output_type": "stream",
     "text": [
      "Epoch 601, Loss: 2.790207494614702\n"
     ]
    },
    {
     "name": "stderr",
     "output_type": "stream",
     "text": [
      "Epoch 602/1000: 100%|██████████| 66/66 [00:00<00:00, 361.47it/s]\n"
     ]
    },
    {
     "name": "stdout",
     "output_type": "stream",
     "text": [
      "Epoch 602, Loss: 2.702021106174498\n"
     ]
    },
    {
     "name": "stderr",
     "output_type": "stream",
     "text": [
      "Epoch 603/1000: 100%|██████████| 66/66 [00:00<00:00, 349.72it/s]\n"
     ]
    },
    {
     "name": "stdout",
     "output_type": "stream",
     "text": [
      "Epoch 603, Loss: 2.8171618576302673\n"
     ]
    },
    {
     "name": "stderr",
     "output_type": "stream",
     "text": [
      "Epoch 604/1000: 100%|██████████| 66/66 [00:00<00:00, 414.30it/s]\n"
     ]
    },
    {
     "name": "stdout",
     "output_type": "stream",
     "text": [
      "Epoch 604, Loss: 2.750370332463221\n"
     ]
    },
    {
     "name": "stderr",
     "output_type": "stream",
     "text": [
      "Epoch 605/1000: 100%|██████████| 66/66 [00:00<00:00, 370.00it/s]\n"
     ]
    },
    {
     "name": "stdout",
     "output_type": "stream",
     "text": [
      "Epoch 605, Loss: 2.72363650640755\n"
     ]
    },
    {
     "name": "stderr",
     "output_type": "stream",
     "text": [
      "Epoch 606/1000: 100%|██████████| 66/66 [00:00<00:00, 527.72it/s]\n"
     ]
    },
    {
     "name": "stdout",
     "output_type": "stream",
     "text": [
      "Epoch 606, Loss: 2.877526132220572\n"
     ]
    },
    {
     "name": "stderr",
     "output_type": "stream",
     "text": [
      "Epoch 607/1000: 100%|██████████| 66/66 [00:00<00:00, 324.50it/s]\n"
     ]
    },
    {
     "name": "stdout",
     "output_type": "stream",
     "text": [
      "Epoch 607, Loss: 2.785291148631862\n"
     ]
    },
    {
     "name": "stderr",
     "output_type": "stream",
     "text": [
      "Epoch 608/1000: 100%|██████████| 66/66 [00:00<00:00, 326.64it/s]\n"
     ]
    },
    {
     "name": "stdout",
     "output_type": "stream",
     "text": [
      "Epoch 608, Loss: 2.6973584163369555\n"
     ]
    },
    {
     "name": "stderr",
     "output_type": "stream",
     "text": [
      "Epoch 609/1000: 100%|██████████| 66/66 [00:00<00:00, 323.93it/s]\n"
     ]
    },
    {
     "name": "stdout",
     "output_type": "stream",
     "text": [
      "Epoch 609, Loss: 2.8475550905321585\n"
     ]
    },
    {
     "name": "stderr",
     "output_type": "stream",
     "text": [
      "Epoch 610/1000: 100%|██████████| 66/66 [00:00<00:00, 325.85it/s]\n"
     ]
    },
    {
     "name": "stdout",
     "output_type": "stream",
     "text": [
      "Epoch 610, Loss: 2.8096651233958476\n"
     ]
    },
    {
     "name": "stderr",
     "output_type": "stream",
     "text": [
      "Epoch 611/1000: 100%|██████████| 66/66 [00:00<00:00, 352.11it/s]\n"
     ]
    },
    {
     "name": "stdout",
     "output_type": "stream",
     "text": [
      "Epoch 611, Loss: 2.7760984816334466\n"
     ]
    },
    {
     "name": "stderr",
     "output_type": "stream",
     "text": [
      "Epoch 612/1000: 100%|██████████| 66/66 [00:00<00:00, 332.18it/s]\n"
     ]
    },
    {
     "name": "stdout",
     "output_type": "stream",
     "text": [
      "Epoch 612, Loss: 2.8340549818945653\n"
     ]
    },
    {
     "name": "stderr",
     "output_type": "stream",
     "text": [
      "Epoch 613/1000: 100%|██████████| 66/66 [00:00<00:00, 325.98it/s]\n"
     ]
    },
    {
     "name": "stdout",
     "output_type": "stream",
     "text": [
      "Epoch 613, Loss: 2.7208269556814972\n"
     ]
    },
    {
     "name": "stderr",
     "output_type": "stream",
     "text": [
      "Epoch 614/1000: 100%|██████████| 66/66 [00:00<00:00, 326.69it/s]\n"
     ]
    },
    {
     "name": "stdout",
     "output_type": "stream",
     "text": [
      "Epoch 614, Loss: 2.957786457556667\n"
     ]
    },
    {
     "name": "stderr",
     "output_type": "stream",
     "text": [
      "Epoch 615/1000: 100%|██████████| 66/66 [00:00<00:00, 326.29it/s]\n"
     ]
    },
    {
     "name": "stdout",
     "output_type": "stream",
     "text": [
      "Epoch 615, Loss: 2.7975401812882135\n"
     ]
    },
    {
     "name": "stderr",
     "output_type": "stream",
     "text": [
      "Epoch 616/1000: 100%|██████████| 66/66 [00:00<00:00, 326.01it/s]\n"
     ]
    },
    {
     "name": "stdout",
     "output_type": "stream",
     "text": [
      "Epoch 616, Loss: 2.893178258429874\n"
     ]
    },
    {
     "name": "stderr",
     "output_type": "stream",
     "text": [
      "Epoch 617/1000: 100%|██████████| 66/66 [00:00<00:00, 326.15it/s]\n"
     ]
    },
    {
     "name": "stdout",
     "output_type": "stream",
     "text": [
      "Epoch 617, Loss: 2.805754840373993\n"
     ]
    },
    {
     "name": "stderr",
     "output_type": "stream",
     "text": [
      "Epoch 618/1000: 100%|██████████| 66/66 [00:00<00:00, 323.82it/s]\n"
     ]
    },
    {
     "name": "stdout",
     "output_type": "stream",
     "text": [
      "Epoch 618, Loss: 2.7808704337838925\n"
     ]
    },
    {
     "name": "stderr",
     "output_type": "stream",
     "text": [
      "Epoch 619/1000: 100%|██████████| 66/66 [00:00<00:00, 326.79it/s]\n"
     ]
    },
    {
     "name": "stdout",
     "output_type": "stream",
     "text": [
      "Epoch 619, Loss: 2.7705692328286893\n"
     ]
    },
    {
     "name": "stderr",
     "output_type": "stream",
     "text": [
      "Epoch 620/1000: 100%|██████████| 66/66 [00:00<00:00, 325.94it/s]\n"
     ]
    },
    {
     "name": "stdout",
     "output_type": "stream",
     "text": [
      "Epoch 620, Loss: 2.766075805281148\n"
     ]
    },
    {
     "name": "stderr",
     "output_type": "stream",
     "text": [
      "Epoch 621/1000: 100%|██████████| 66/66 [00:00<00:00, 326.05it/s]\n"
     ]
    },
    {
     "name": "stdout",
     "output_type": "stream",
     "text": [
      "Epoch 621, Loss: 2.762864762409167\n"
     ]
    },
    {
     "name": "stderr",
     "output_type": "stream",
     "text": [
      "Epoch 622/1000: 100%|██████████| 66/66 [00:00<00:00, 356.25it/s]\n"
     ]
    },
    {
     "name": "stdout",
     "output_type": "stream",
     "text": [
      "Epoch 622, Loss: 2.8710125919544334\n"
     ]
    },
    {
     "name": "stderr",
     "output_type": "stream",
     "text": [
      "Epoch 623/1000: 100%|██████████| 66/66 [00:00<00:00, 325.33it/s]\n"
     ]
    },
    {
     "name": "stdout",
     "output_type": "stream",
     "text": [
      "Epoch 623, Loss: 2.7212025026480355\n"
     ]
    },
    {
     "name": "stderr",
     "output_type": "stream",
     "text": [
      "Epoch 624/1000: 100%|██████████| 66/66 [00:00<00:00, 492.59it/s]\n"
     ]
    },
    {
     "name": "stdout",
     "output_type": "stream",
     "text": [
      "Epoch 624, Loss: 2.7300009630394704\n"
     ]
    },
    {
     "name": "stderr",
     "output_type": "stream",
     "text": [
      "Epoch 625/1000: 100%|██████████| 66/66 [00:00<00:00, 381.20it/s]\n"
     ]
    },
    {
     "name": "stdout",
     "output_type": "stream",
     "text": [
      "Epoch 625, Loss: 2.7034802615190996\n"
     ]
    },
    {
     "name": "stderr",
     "output_type": "stream",
     "text": [
      "Epoch 626/1000: 100%|██████████| 66/66 [00:00<00:00, 325.53it/s]\n"
     ]
    },
    {
     "name": "stdout",
     "output_type": "stream",
     "text": [
      "Epoch 626, Loss: 2.7568415981350523\n"
     ]
    },
    {
     "name": "stderr",
     "output_type": "stream",
     "text": [
      "Epoch 627/1000: 100%|██████████| 66/66 [00:00<00:00, 325.14it/s]\n"
     ]
    },
    {
     "name": "stdout",
     "output_type": "stream",
     "text": [
      "Epoch 627, Loss: 2.751546814360402\n"
     ]
    },
    {
     "name": "stderr",
     "output_type": "stream",
     "text": [
      "Epoch 628/1000: 100%|██████████| 66/66 [00:00<00:00, 323.79it/s]\n"
     ]
    },
    {
     "name": "stdout",
     "output_type": "stream",
     "text": [
      "Epoch 628, Loss: 2.7154373515284425\n"
     ]
    },
    {
     "name": "stderr",
     "output_type": "stream",
     "text": [
      "Epoch 629/1000: 100%|██████████| 66/66 [00:00<00:00, 325.96it/s]\n"
     ]
    },
    {
     "name": "stdout",
     "output_type": "stream",
     "text": [
      "Epoch 629, Loss: 2.733448830743631\n"
     ]
    },
    {
     "name": "stderr",
     "output_type": "stream",
     "text": [
      "Epoch 630/1000: 100%|██████████| 66/66 [00:00<00:00, 326.00it/s]\n"
     ]
    },
    {
     "name": "stdout",
     "output_type": "stream",
     "text": [
      "Epoch 630, Loss: 2.8100841636910583\n"
     ]
    },
    {
     "name": "stderr",
     "output_type": "stream",
     "text": [
      "Epoch 631/1000: 100%|██████████| 66/66 [00:00<00:00, 327.03it/s]\n"
     ]
    },
    {
     "name": "stdout",
     "output_type": "stream",
     "text": [
      "Epoch 631, Loss: 2.762371771714904\n"
     ]
    },
    {
     "name": "stderr",
     "output_type": "stream",
     "text": [
      "Epoch 632/1000: 100%|██████████| 66/66 [00:00<00:00, 352.08it/s]\n"
     ]
    },
    {
     "name": "stdout",
     "output_type": "stream",
     "text": [
      "Epoch 632, Loss: 2.7518970372550413\n"
     ]
    },
    {
     "name": "stderr",
     "output_type": "stream",
     "text": [
      "Epoch 633/1000: 100%|██████████| 66/66 [00:00<00:00, 356.50it/s]\n"
     ]
    },
    {
     "name": "stdout",
     "output_type": "stream",
     "text": [
      "Epoch 633, Loss: 2.73585736909599\n"
     ]
    },
    {
     "name": "stderr",
     "output_type": "stream",
     "text": [
      "Epoch 634/1000: 100%|██████████| 66/66 [00:00<00:00, 324.61it/s]\n"
     ]
    },
    {
     "name": "stdout",
     "output_type": "stream",
     "text": [
      "Epoch 634, Loss: 2.7204571269226796\n"
     ]
    },
    {
     "name": "stderr",
     "output_type": "stream",
     "text": [
      "Epoch 635/1000: 100%|██████████| 66/66 [00:00<00:00, 326.50it/s]\n"
     ]
    },
    {
     "name": "stdout",
     "output_type": "stream",
     "text": [
      "Epoch 635, Loss: 2.8011558392282687\n"
     ]
    },
    {
     "name": "stderr",
     "output_type": "stream",
     "text": [
      "Epoch 636/1000: 100%|██████████| 66/66 [00:00<00:00, 324.33it/s]\n"
     ]
    },
    {
     "name": "stdout",
     "output_type": "stream",
     "text": [
      "Epoch 636, Loss: 2.8009022824240453\n"
     ]
    },
    {
     "name": "stderr",
     "output_type": "stream",
     "text": [
      "Epoch 637/1000: 100%|██████████| 66/66 [00:00<00:00, 326.07it/s]\n"
     ]
    },
    {
     "name": "stdout",
     "output_type": "stream",
     "text": [
      "Epoch 637, Loss: 2.771150247391426\n"
     ]
    },
    {
     "name": "stderr",
     "output_type": "stream",
     "text": [
      "Epoch 638/1000: 100%|██████████| 66/66 [00:00<00:00, 326.69it/s]\n"
     ]
    },
    {
     "name": "stdout",
     "output_type": "stream",
     "text": [
      "Epoch 638, Loss: 3.034147082856207\n"
     ]
    },
    {
     "name": "stderr",
     "output_type": "stream",
     "text": [
      "Epoch 639/1000: 100%|██████████| 66/66 [00:00<00:00, 330.31it/s]\n"
     ]
    },
    {
     "name": "stdout",
     "output_type": "stream",
     "text": [
      "Epoch 639, Loss: 2.7606148399186856\n"
     ]
    },
    {
     "name": "stderr",
     "output_type": "stream",
     "text": [
      "Epoch 640/1000: 100%|██████████| 66/66 [00:00<00:00, 326.46it/s]\n"
     ]
    },
    {
     "name": "stdout",
     "output_type": "stream",
     "text": [
      "Epoch 640, Loss: 2.8902754002448283\n"
     ]
    },
    {
     "name": "stderr",
     "output_type": "stream",
     "text": [
      "Epoch 641/1000: 100%|██████████| 66/66 [00:00<00:00, 328.43it/s]\n"
     ]
    },
    {
     "name": "stdout",
     "output_type": "stream",
     "text": [
      "Epoch 641, Loss: 2.7953708840138987\n"
     ]
    },
    {
     "name": "stderr",
     "output_type": "stream",
     "text": [
      "Epoch 642/1000: 100%|██████████| 66/66 [00:00<00:00, 326.83it/s]\n"
     ]
    },
    {
     "name": "stdout",
     "output_type": "stream",
     "text": [
      "Epoch 642, Loss: 2.7315407837882186\n"
     ]
    },
    {
     "name": "stderr",
     "output_type": "stream",
     "text": [
      "Epoch 643/1000: 100%|██████████| 66/66 [00:00<00:00, 326.58it/s]\n"
     ]
    },
    {
     "name": "stdout",
     "output_type": "stream",
     "text": [
      "Epoch 643, Loss: 2.7142251946709375\n"
     ]
    },
    {
     "name": "stderr",
     "output_type": "stream",
     "text": [
      "Epoch 644/1000: 100%|██████████| 66/66 [00:00<00:00, 323.97it/s]\n"
     ]
    },
    {
     "name": "stdout",
     "output_type": "stream",
     "text": [
      "Epoch 644, Loss: 2.781309195991718\n"
     ]
    },
    {
     "name": "stderr",
     "output_type": "stream",
     "text": [
      "Epoch 645/1000: 100%|██████████| 66/66 [00:00<00:00, 326.26it/s]\n"
     ]
    },
    {
     "name": "stdout",
     "output_type": "stream",
     "text": [
      "Epoch 645, Loss: 2.8885900235988875\n"
     ]
    },
    {
     "name": "stderr",
     "output_type": "stream",
     "text": [
      "Epoch 646/1000: 100%|██████████| 66/66 [00:00<00:00, 326.12it/s]\n"
     ]
    },
    {
     "name": "stdout",
     "output_type": "stream",
     "text": [
      "Epoch 646, Loss: 2.7269035548423277\n"
     ]
    },
    {
     "name": "stderr",
     "output_type": "stream",
     "text": [
      "Epoch 647/1000: 100%|██████████| 66/66 [00:00<00:00, 326.26it/s]\n"
     ]
    },
    {
     "name": "stdout",
     "output_type": "stream",
     "text": [
      "Epoch 647, Loss: 2.7218978077624785\n"
     ]
    },
    {
     "name": "stderr",
     "output_type": "stream",
     "text": [
      "Epoch 648/1000: 100%|██████████| 66/66 [00:00<00:00, 326.18it/s]\n"
     ]
    },
    {
     "name": "stdout",
     "output_type": "stream",
     "text": [
      "Epoch 648, Loss: 2.7122946492198743\n"
     ]
    },
    {
     "name": "stderr",
     "output_type": "stream",
     "text": [
      "Epoch 649/1000: 100%|██████████| 66/66 [00:00<00:00, 325.96it/s]\n"
     ]
    },
    {
     "name": "stdout",
     "output_type": "stream",
     "text": [
      "Epoch 649, Loss: 2.730127340013331\n"
     ]
    },
    {
     "name": "stderr",
     "output_type": "stream",
     "text": [
      "Epoch 650/1000: 100%|██████████| 66/66 [00:00<00:00, 326.00it/s]\n"
     ]
    },
    {
     "name": "stdout",
     "output_type": "stream",
     "text": [
      "Epoch 650, Loss: 2.74858001077717\n"
     ]
    },
    {
     "name": "stderr",
     "output_type": "stream",
     "text": [
      "Epoch 651/1000: 100%|██████████| 66/66 [00:00<00:00, 326.97it/s]\n"
     ]
    },
    {
     "name": "stdout",
     "output_type": "stream",
     "text": [
      "Epoch 651, Loss: 2.755512881459612\n"
     ]
    },
    {
     "name": "stderr",
     "output_type": "stream",
     "text": [
      "Epoch 652/1000: 100%|██████████| 66/66 [00:00<00:00, 325.35it/s]\n"
     ]
    },
    {
     "name": "stdout",
     "output_type": "stream",
     "text": [
      "Epoch 652, Loss: 2.775439370310668\n"
     ]
    },
    {
     "name": "stderr",
     "output_type": "stream",
     "text": [
      "Epoch 653/1000: 100%|██████████| 66/66 [00:00<00:00, 326.22it/s]\n"
     ]
    },
    {
     "name": "stdout",
     "output_type": "stream",
     "text": [
      "Epoch 653, Loss: 2.716873057863929\n"
     ]
    },
    {
     "name": "stderr",
     "output_type": "stream",
     "text": [
      "Epoch 654/1000: 100%|██████████| 66/66 [00:00<00:00, 326.38it/s]\n"
     ]
    },
    {
     "name": "stdout",
     "output_type": "stream",
     "text": [
      "Epoch 654, Loss: 2.7770798407269246\n"
     ]
    },
    {
     "name": "stderr",
     "output_type": "stream",
     "text": [
      "Epoch 655/1000: 100%|██████████| 66/66 [00:00<00:00, 326.43it/s]\n"
     ]
    },
    {
     "name": "stdout",
     "output_type": "stream",
     "text": [
      "Epoch 655, Loss: 2.7222502114194813\n"
     ]
    },
    {
     "name": "stderr",
     "output_type": "stream",
     "text": [
      "Epoch 656/1000: 100%|██████████| 66/66 [00:00<00:00, 326.89it/s]\n"
     ]
    },
    {
     "name": "stdout",
     "output_type": "stream",
     "text": [
      "Epoch 656, Loss: 2.764008371893204\n"
     ]
    },
    {
     "name": "stderr",
     "output_type": "stream",
     "text": [
      "Epoch 657/1000: 100%|██████████| 66/66 [00:00<00:00, 326.38it/s]\n"
     ]
    },
    {
     "name": "stdout",
     "output_type": "stream",
     "text": [
      "Epoch 657, Loss: 2.8183024568539676\n"
     ]
    },
    {
     "name": "stderr",
     "output_type": "stream",
     "text": [
      "Epoch 658/1000: 100%|██████████| 66/66 [00:00<00:00, 326.30it/s]\n"
     ]
    },
    {
     "name": "stdout",
     "output_type": "stream",
     "text": [
      "Epoch 658, Loss: 2.687669898975979\n"
     ]
    },
    {
     "name": "stderr",
     "output_type": "stream",
     "text": [
      "Epoch 659/1000: 100%|██████████| 66/66 [00:00<00:00, 326.33it/s]\n"
     ]
    },
    {
     "name": "stdout",
     "output_type": "stream",
     "text": [
      "Epoch 659, Loss: 2.696126951186946\n"
     ]
    },
    {
     "name": "stderr",
     "output_type": "stream",
     "text": [
      "Epoch 660/1000: 100%|██████████| 66/66 [00:00<00:00, 324.69it/s]\n"
     ]
    },
    {
     "name": "stdout",
     "output_type": "stream",
     "text": [
      "Epoch 660, Loss: 2.774819406144547\n"
     ]
    },
    {
     "name": "stderr",
     "output_type": "stream",
     "text": [
      "Epoch 661/1000: 100%|██████████| 66/66 [00:00<00:00, 327.82it/s]\n"
     ]
    },
    {
     "name": "stdout",
     "output_type": "stream",
     "text": [
      "Epoch 661, Loss: 2.80584398634506\n"
     ]
    },
    {
     "name": "stderr",
     "output_type": "stream",
     "text": [
      "Epoch 662/1000: 100%|██████████| 66/66 [00:00<00:00, 328.61it/s]\n"
     ]
    },
    {
     "name": "stdout",
     "output_type": "stream",
     "text": [
      "Epoch 662, Loss: 3.117062849754637\n"
     ]
    },
    {
     "name": "stderr",
     "output_type": "stream",
     "text": [
      "Epoch 663/1000: 100%|██████████| 66/66 [00:00<00:00, 326.51it/s]\n"
     ]
    },
    {
     "name": "stdout",
     "output_type": "stream",
     "text": [
      "Epoch 663, Loss: 2.744989395593152\n"
     ]
    },
    {
     "name": "stderr",
     "output_type": "stream",
     "text": [
      "Epoch 664/1000: 100%|██████████| 66/66 [00:00<00:00, 325.85it/s]\n"
     ]
    },
    {
     "name": "stdout",
     "output_type": "stream",
     "text": [
      "Epoch 664, Loss: 2.8006725990862558\n"
     ]
    },
    {
     "name": "stderr",
     "output_type": "stream",
     "text": [
      "Epoch 665/1000: 100%|██████████| 66/66 [00:00<00:00, 326.52it/s]\n"
     ]
    },
    {
     "name": "stdout",
     "output_type": "stream",
     "text": [
      "Epoch 665, Loss: 2.753816616806117\n"
     ]
    },
    {
     "name": "stderr",
     "output_type": "stream",
     "text": [
      "Epoch 666/1000: 100%|██████████| 66/66 [00:00<00:00, 406.83it/s]\n"
     ]
    },
    {
     "name": "stdout",
     "output_type": "stream",
     "text": [
      "Epoch 666, Loss: 2.7022353065284817\n"
     ]
    },
    {
     "name": "stderr",
     "output_type": "stream",
     "text": [
      "Epoch 667/1000: 100%|██████████| 66/66 [00:00<00:00, 340.48it/s]\n"
     ]
    },
    {
     "name": "stdout",
     "output_type": "stream",
     "text": [
      "Epoch 667, Loss: 2.68643457397367\n"
     ]
    },
    {
     "name": "stderr",
     "output_type": "stream",
     "text": [
      "Epoch 668/1000: 100%|██████████| 66/66 [00:00<00:00, 515.82it/s]\n"
     ]
    },
    {
     "name": "stdout",
     "output_type": "stream",
     "text": [
      "Epoch 668, Loss: 2.7135749463782166\n"
     ]
    },
    {
     "name": "stderr",
     "output_type": "stream",
     "text": [
      "Epoch 669/1000: 100%|██████████| 66/66 [00:00<00:00, 393.29it/s]\n"
     ]
    },
    {
     "name": "stdout",
     "output_type": "stream",
     "text": [
      "Epoch 669, Loss: 2.6849099307349236\n"
     ]
    },
    {
     "name": "stderr",
     "output_type": "stream",
     "text": [
      "Epoch 670/1000: 100%|██████████| 66/66 [00:00<00:00, 376.13it/s]\n"
     ]
    },
    {
     "name": "stdout",
     "output_type": "stream",
     "text": [
      "Epoch 670, Loss: 2.8668879602443087\n"
     ]
    },
    {
     "name": "stderr",
     "output_type": "stream",
     "text": [
      "Epoch 671/1000: 100%|██████████| 66/66 [00:00<00:00, 404.67it/s]\n"
     ]
    },
    {
     "name": "stdout",
     "output_type": "stream",
     "text": [
      "Epoch 671, Loss: 2.757204393094236\n"
     ]
    },
    {
     "name": "stderr",
     "output_type": "stream",
     "text": [
      "Epoch 672/1000: 100%|██████████| 66/66 [00:00<00:00, 492.27it/s]\n"
     ]
    },
    {
     "name": "stdout",
     "output_type": "stream",
     "text": [
      "Epoch 672, Loss: 2.735267995884924\n"
     ]
    },
    {
     "name": "stderr",
     "output_type": "stream",
     "text": [
      "Epoch 673/1000: 100%|██████████| 66/66 [00:00<00:00, 351.57it/s]\n"
     ]
    },
    {
     "name": "stdout",
     "output_type": "stream",
     "text": [
      "Epoch 673, Loss: 2.7385748209375325\n"
     ]
    },
    {
     "name": "stderr",
     "output_type": "stream",
     "text": [
      "Epoch 674/1000: 100%|██████████| 66/66 [00:00<00:00, 324.30it/s]\n"
     ]
    },
    {
     "name": "stdout",
     "output_type": "stream",
     "text": [
      "Epoch 674, Loss: 2.7011926905675367\n"
     ]
    },
    {
     "name": "stderr",
     "output_type": "stream",
     "text": [
      "Epoch 675/1000: 100%|██████████| 66/66 [00:00<00:00, 326.62it/s]\n"
     ]
    },
    {
     "name": "stdout",
     "output_type": "stream",
     "text": [
      "Epoch 675, Loss: 2.7411624590555825\n"
     ]
    },
    {
     "name": "stderr",
     "output_type": "stream",
     "text": [
      "Epoch 676/1000: 100%|██████████| 66/66 [00:00<00:00, 325.10it/s]\n"
     ]
    },
    {
     "name": "stdout",
     "output_type": "stream",
     "text": [
      "Epoch 676, Loss: 2.6801541131554227\n"
     ]
    },
    {
     "name": "stderr",
     "output_type": "stream",
     "text": [
      "Epoch 677/1000: 100%|██████████| 66/66 [00:00<00:00, 324.09it/s]\n"
     ]
    },
    {
     "name": "stdout",
     "output_type": "stream",
     "text": [
      "Epoch 677, Loss: 2.71943163691145\n"
     ]
    },
    {
     "name": "stderr",
     "output_type": "stream",
     "text": [
      "Epoch 678/1000: 100%|██████████| 66/66 [00:00<00:00, 326.08it/s]\n"
     ]
    },
    {
     "name": "stdout",
     "output_type": "stream",
     "text": [
      "Epoch 678, Loss: 2.768451725217429\n"
     ]
    },
    {
     "name": "stderr",
     "output_type": "stream",
     "text": [
      "Epoch 679/1000: 100%|██████████| 66/66 [00:00<00:00, 326.12it/s]\n"
     ]
    },
    {
     "name": "stdout",
     "output_type": "stream",
     "text": [
      "Epoch 679, Loss: 2.719563385076595\n"
     ]
    },
    {
     "name": "stderr",
     "output_type": "stream",
     "text": [
      "Epoch 680/1000: 100%|██████████| 66/66 [00:00<00:00, 326.04it/s]\n"
     ]
    },
    {
     "name": "stdout",
     "output_type": "stream",
     "text": [
      "Epoch 680, Loss: 2.6647667986425487\n"
     ]
    },
    {
     "name": "stderr",
     "output_type": "stream",
     "text": [
      "Epoch 681/1000: 100%|██████████| 66/66 [00:00<00:00, 326.26it/s]\n"
     ]
    },
    {
     "name": "stdout",
     "output_type": "stream",
     "text": [
      "Epoch 681, Loss: 2.6782491274855356\n"
     ]
    },
    {
     "name": "stderr",
     "output_type": "stream",
     "text": [
      "Epoch 682/1000: 100%|██████████| 66/66 [00:00<00:00, 409.15it/s]\n"
     ]
    },
    {
     "name": "stdout",
     "output_type": "stream",
     "text": [
      "Epoch 682, Loss: 2.673900798866243\n"
     ]
    },
    {
     "name": "stderr",
     "output_type": "stream",
     "text": [
      "Epoch 683/1000: 100%|██████████| 66/66 [00:00<00:00, 624.16it/s]\n"
     ]
    },
    {
     "name": "stdout",
     "output_type": "stream",
     "text": [
      "Epoch 683, Loss: 2.8080901993495044\n"
     ]
    },
    {
     "name": "stderr",
     "output_type": "stream",
     "text": [
      "Epoch 684/1000: 100%|██████████| 66/66 [00:00<00:00, 427.23it/s]\n"
     ]
    },
    {
     "name": "stdout",
     "output_type": "stream",
     "text": [
      "Epoch 684, Loss: 2.847004316295638\n"
     ]
    },
    {
     "name": "stderr",
     "output_type": "stream",
     "text": [
      "Epoch 685/1000: 100%|██████████| 66/66 [00:00<00:00, 323.32it/s]\n"
     ]
    },
    {
     "name": "stdout",
     "output_type": "stream",
     "text": [
      "Epoch 685, Loss: 2.7369676383607313\n"
     ]
    },
    {
     "name": "stderr",
     "output_type": "stream",
     "text": [
      "Epoch 686/1000: 100%|██████████| 66/66 [00:00<00:00, 345.56it/s]\n"
     ]
    },
    {
     "name": "stdout",
     "output_type": "stream",
     "text": [
      "Epoch 686, Loss: 2.667892131841544\n"
     ]
    },
    {
     "name": "stderr",
     "output_type": "stream",
     "text": [
      "Epoch 687/1000: 100%|██████████| 66/66 [00:00<00:00, 325.83it/s]\n"
     ]
    },
    {
     "name": "stdout",
     "output_type": "stream",
     "text": [
      "Epoch 687, Loss: 2.7849533228260097\n"
     ]
    },
    {
     "name": "stderr",
     "output_type": "stream",
     "text": [
      "Epoch 688/1000: 100%|██████████| 66/66 [00:00<00:00, 326.32it/s]\n"
     ]
    },
    {
     "name": "stdout",
     "output_type": "stream",
     "text": [
      "Epoch 688, Loss: 2.701983039126252\n"
     ]
    },
    {
     "name": "stderr",
     "output_type": "stream",
     "text": [
      "Epoch 689/1000: 100%|██████████| 66/66 [00:00<00:00, 326.33it/s]\n"
     ]
    },
    {
     "name": "stdout",
     "output_type": "stream",
     "text": [
      "Epoch 689, Loss: 2.6943614494168395\n"
     ]
    },
    {
     "name": "stderr",
     "output_type": "stream",
     "text": [
      "Epoch 690/1000: 100%|██████████| 66/66 [00:00<00:00, 323.78it/s]\n"
     ]
    },
    {
     "name": "stdout",
     "output_type": "stream",
     "text": [
      "Epoch 690, Loss: 2.755461898717013\n"
     ]
    },
    {
     "name": "stderr",
     "output_type": "stream",
     "text": [
      "Epoch 691/1000: 100%|██████████| 66/66 [00:00<00:00, 367.11it/s]\n"
     ]
    },
    {
     "name": "stdout",
     "output_type": "stream",
     "text": [
      "Epoch 691, Loss: 2.862603417400158\n"
     ]
    },
    {
     "name": "stderr",
     "output_type": "stream",
     "text": [
      "Epoch 692/1000: 100%|██████████| 66/66 [00:00<00:00, 336.06it/s]\n"
     ]
    },
    {
     "name": "stdout",
     "output_type": "stream",
     "text": [
      "Epoch 692, Loss: 2.704241181864883\n"
     ]
    },
    {
     "name": "stderr",
     "output_type": "stream",
     "text": [
      "Epoch 693/1000: 100%|██████████| 66/66 [00:00<00:00, 321.30it/s]\n"
     ]
    },
    {
     "name": "stdout",
     "output_type": "stream",
     "text": [
      "Epoch 693, Loss: 2.721685570072044\n"
     ]
    },
    {
     "name": "stderr",
     "output_type": "stream",
     "text": [
      "Epoch 694/1000: 100%|██████████| 66/66 [00:00<00:00, 326.08it/s]\n"
     ]
    },
    {
     "name": "stdout",
     "output_type": "stream",
     "text": [
      "Epoch 694, Loss: 2.847281431384159\n"
     ]
    },
    {
     "name": "stderr",
     "output_type": "stream",
     "text": [
      "Epoch 695/1000: 100%|██████████| 66/66 [00:00<00:00, 327.47it/s]\n"
     ]
    },
    {
     "name": "stdout",
     "output_type": "stream",
     "text": [
      "Epoch 695, Loss: 2.684521753228072\n"
     ]
    },
    {
     "name": "stderr",
     "output_type": "stream",
     "text": [
      "Epoch 696/1000: 100%|██████████| 66/66 [00:00<00:00, 326.16it/s]\n"
     ]
    },
    {
     "name": "stdout",
     "output_type": "stream",
     "text": [
      "Epoch 696, Loss: 2.7417759292505006\n"
     ]
    },
    {
     "name": "stderr",
     "output_type": "stream",
     "text": [
      "Epoch 697/1000: 100%|██████████| 66/66 [00:00<00:00, 326.24it/s]\n"
     ]
    },
    {
     "name": "stdout",
     "output_type": "stream",
     "text": [
      "Epoch 697, Loss: 2.810045121971405\n"
     ]
    },
    {
     "name": "stderr",
     "output_type": "stream",
     "text": [
      "Epoch 698/1000: 100%|██████████| 66/66 [00:00<00:00, 325.79it/s]\n"
     ]
    },
    {
     "name": "stdout",
     "output_type": "stream",
     "text": [
      "Epoch 698, Loss: 2.736055643495285\n"
     ]
    },
    {
     "name": "stderr",
     "output_type": "stream",
     "text": [
      "Epoch 699/1000: 100%|██████████| 66/66 [00:00<00:00, 325.82it/s]\n"
     ]
    },
    {
     "name": "stdout",
     "output_type": "stream",
     "text": [
      "Epoch 699, Loss: 2.710239248971144\n"
     ]
    },
    {
     "name": "stderr",
     "output_type": "stream",
     "text": [
      "Epoch 700/1000: 100%|██████████| 66/66 [00:00<00:00, 393.69it/s]\n"
     ]
    },
    {
     "name": "stdout",
     "output_type": "stream",
     "text": [
      "Epoch 700, Loss: 2.6794914862874784\n"
     ]
    },
    {
     "name": "stderr",
     "output_type": "stream",
     "text": [
      "Epoch 701/1000: 100%|██████████| 66/66 [00:00<00:00, 332.09it/s]\n"
     ]
    },
    {
     "name": "stdout",
     "output_type": "stream",
     "text": [
      "Epoch 701, Loss: 2.6565585235754647\n"
     ]
    },
    {
     "name": "stderr",
     "output_type": "stream",
     "text": [
      "Epoch 702/1000: 100%|██████████| 66/66 [00:00<00:00, 326.19it/s]\n"
     ]
    },
    {
     "name": "stdout",
     "output_type": "stream",
     "text": [
      "Epoch 702, Loss: 2.6750922740408867\n"
     ]
    },
    {
     "name": "stderr",
     "output_type": "stream",
     "text": [
      "Epoch 703/1000: 100%|██████████| 66/66 [00:00<00:00, 325.97it/s]\n"
     ]
    },
    {
     "name": "stdout",
     "output_type": "stream",
     "text": [
      "Epoch 703, Loss: 2.6890436112880707\n"
     ]
    },
    {
     "name": "stderr",
     "output_type": "stream",
     "text": [
      "Epoch 704/1000: 100%|██████████| 66/66 [00:00<00:00, 333.63it/s]\n"
     ]
    },
    {
     "name": "stdout",
     "output_type": "stream",
     "text": [
      "Epoch 704, Loss: 2.6881764939788617\n"
     ]
    },
    {
     "name": "stderr",
     "output_type": "stream",
     "text": [
      "Epoch 705/1000: 100%|██████████| 66/66 [00:00<00:00, 414.17it/s]\n"
     ]
    },
    {
     "name": "stdout",
     "output_type": "stream",
     "text": [
      "Epoch 705, Loss: 2.7333968421726516\n"
     ]
    },
    {
     "name": "stderr",
     "output_type": "stream",
     "text": [
      "Epoch 706/1000: 100%|██████████| 66/66 [00:00<00:00, 326.18it/s]\n"
     ]
    },
    {
     "name": "stdout",
     "output_type": "stream",
     "text": [
      "Epoch 706, Loss: 2.6716343067360646\n"
     ]
    },
    {
     "name": "stderr",
     "output_type": "stream",
     "text": [
      "Epoch 707/1000: 100%|██████████| 66/66 [00:00<00:00, 326.16it/s]\n"
     ]
    },
    {
     "name": "stdout",
     "output_type": "stream",
     "text": [
      "Epoch 707, Loss: 2.7365311524181655\n"
     ]
    },
    {
     "name": "stderr",
     "output_type": "stream",
     "text": [
      "Epoch 708/1000: 100%|██████████| 66/66 [00:00<00:00, 328.32it/s]\n"
     ]
    },
    {
     "name": "stdout",
     "output_type": "stream",
     "text": [
      "Epoch 708, Loss: 2.6614022347511668\n"
     ]
    },
    {
     "name": "stderr",
     "output_type": "stream",
     "text": [
      "Epoch 709/1000: 100%|██████████| 66/66 [00:00<00:00, 321.83it/s]\n"
     ]
    },
    {
     "name": "stdout",
     "output_type": "stream",
     "text": [
      "Epoch 709, Loss: 2.6738406352021475\n"
     ]
    },
    {
     "name": "stderr",
     "output_type": "stream",
     "text": [
      "Epoch 710/1000: 100%|██████████| 66/66 [00:00<00:00, 326.67it/s]\n"
     ]
    },
    {
     "name": "stdout",
     "output_type": "stream",
     "text": [
      "Epoch 710, Loss: 2.6627240643808334\n"
     ]
    },
    {
     "name": "stderr",
     "output_type": "stream",
     "text": [
      "Epoch 711/1000: 100%|██████████| 66/66 [00:00<00:00, 325.95it/s]\n"
     ]
    },
    {
     "name": "stdout",
     "output_type": "stream",
     "text": [
      "Epoch 711, Loss: 2.682587581827785\n"
     ]
    },
    {
     "name": "stderr",
     "output_type": "stream",
     "text": [
      "Epoch 712/1000: 100%|██████████| 66/66 [00:00<00:00, 326.23it/s]\n"
     ]
    },
    {
     "name": "stdout",
     "output_type": "stream",
     "text": [
      "Epoch 712, Loss: 2.643038962600809\n"
     ]
    },
    {
     "name": "stderr",
     "output_type": "stream",
     "text": [
      "Epoch 713/1000: 100%|██████████| 66/66 [00:00<00:00, 326.11it/s]\n"
     ]
    },
    {
     "name": "stdout",
     "output_type": "stream",
     "text": [
      "Epoch 713, Loss: 2.6891920153390276\n"
     ]
    },
    {
     "name": "stderr",
     "output_type": "stream",
     "text": [
      "Epoch 714/1000: 100%|██████████| 66/66 [00:00<00:00, 396.08it/s]\n"
     ]
    },
    {
     "name": "stdout",
     "output_type": "stream",
     "text": [
      "Epoch 714, Loss: 2.7613531883918876\n"
     ]
    },
    {
     "name": "stderr",
     "output_type": "stream",
     "text": [
      "Epoch 715/1000: 100%|██████████| 66/66 [00:00<00:00, 513.51it/s]\n"
     ]
    },
    {
     "name": "stdout",
     "output_type": "stream",
     "text": [
      "Epoch 715, Loss: 2.653112963293538\n"
     ]
    },
    {
     "name": "stderr",
     "output_type": "stream",
     "text": [
      "Epoch 716/1000: 100%|██████████| 66/66 [00:00<00:00, 406.22it/s]\n"
     ]
    },
    {
     "name": "stdout",
     "output_type": "stream",
     "text": [
      "Epoch 716, Loss: 2.7005925004680953\n"
     ]
    },
    {
     "name": "stderr",
     "output_type": "stream",
     "text": [
      "Epoch 717/1000: 100%|██████████| 66/66 [00:00<00:00, 305.01it/s]\n"
     ]
    },
    {
     "name": "stdout",
     "output_type": "stream",
     "text": [
      "Epoch 717, Loss: 2.6864414711793265\n"
     ]
    },
    {
     "name": "stderr",
     "output_type": "stream",
     "text": [
      "Epoch 718/1000: 100%|██████████| 66/66 [00:00<00:00, 410.71it/s]\n"
     ]
    },
    {
     "name": "stdout",
     "output_type": "stream",
     "text": [
      "Epoch 718, Loss: 2.6494904002456954\n"
     ]
    },
    {
     "name": "stderr",
     "output_type": "stream",
     "text": [
      "Epoch 719/1000: 100%|██████████| 66/66 [00:00<00:00, 366.06it/s]\n"
     ]
    },
    {
     "name": "stdout",
     "output_type": "stream",
     "text": [
      "Epoch 719, Loss: 2.7208338485974255\n"
     ]
    },
    {
     "name": "stderr",
     "output_type": "stream",
     "text": [
      "Epoch 720/1000: 100%|██████████| 66/66 [00:00<00:00, 341.82it/s]\n"
     ]
    },
    {
     "name": "stdout",
     "output_type": "stream",
     "text": [
      "Epoch 720, Loss: 2.696582808639064\n"
     ]
    },
    {
     "name": "stderr",
     "output_type": "stream",
     "text": [
      "Epoch 721/1000: 100%|██████████| 66/66 [00:00<00:00, 367.30it/s]\n"
     ]
    },
    {
     "name": "stdout",
     "output_type": "stream",
     "text": [
      "Epoch 721, Loss: 2.692975874425787\n"
     ]
    },
    {
     "name": "stderr",
     "output_type": "stream",
     "text": [
      "Epoch 722/1000: 100%|██████████| 66/66 [00:00<00:00, 346.42it/s]\n"
     ]
    },
    {
     "name": "stdout",
     "output_type": "stream",
     "text": [
      "Epoch 722, Loss: 2.6925275592189846\n"
     ]
    },
    {
     "name": "stderr",
     "output_type": "stream",
     "text": [
      "Epoch 723/1000: 100%|██████████| 66/66 [00:00<00:00, 324.60it/s]\n"
     ]
    },
    {
     "name": "stdout",
     "output_type": "stream",
     "text": [
      "Epoch 723, Loss: 2.7119894504095567\n"
     ]
    },
    {
     "name": "stderr",
     "output_type": "stream",
     "text": [
      "Epoch 724/1000: 100%|██████████| 66/66 [00:00<00:00, 521.38it/s]\n"
     ]
    },
    {
     "name": "stdout",
     "output_type": "stream",
     "text": [
      "Epoch 724, Loss: 2.6600467332384805\n"
     ]
    },
    {
     "name": "stderr",
     "output_type": "stream",
     "text": [
      "Epoch 725/1000: 100%|██████████| 66/66 [00:00<00:00, 564.10it/s]\n"
     ]
    },
    {
     "name": "stdout",
     "output_type": "stream",
     "text": [
      "Epoch 725, Loss: 2.7073495695085237\n"
     ]
    },
    {
     "name": "stderr",
     "output_type": "stream",
     "text": [
      "Epoch 726/1000: 100%|██████████| 66/66 [00:00<00:00, 555.15it/s]\n"
     ]
    },
    {
     "name": "stdout",
     "output_type": "stream",
     "text": [
      "Epoch 726, Loss: 2.7032590813257475\n"
     ]
    },
    {
     "name": "stderr",
     "output_type": "stream",
     "text": [
      "Epoch 727/1000: 100%|██████████| 66/66 [00:00<00:00, 380.83it/s]\n"
     ]
    },
    {
     "name": "stdout",
     "output_type": "stream",
     "text": [
      "Epoch 727, Loss: 2.798161885503567\n"
     ]
    },
    {
     "name": "stderr",
     "output_type": "stream",
     "text": [
      "Epoch 728/1000: 100%|██████████| 66/66 [00:00<00:00, 349.60it/s]\n"
     ]
    },
    {
     "name": "stdout",
     "output_type": "stream",
     "text": [
      "Epoch 728, Loss: 2.726103803199349\n"
     ]
    },
    {
     "name": "stderr",
     "output_type": "stream",
     "text": [
      "Epoch 729/1000: 100%|██████████| 66/66 [00:00<00:00, 455.75it/s]\n"
     ]
    },
    {
     "name": "stdout",
     "output_type": "stream",
     "text": [
      "Epoch 729, Loss: 2.678826164115559\n"
     ]
    },
    {
     "name": "stderr",
     "output_type": "stream",
     "text": [
      "Epoch 730/1000: 100%|██████████| 66/66 [00:00<00:00, 464.09it/s]\n"
     ]
    },
    {
     "name": "stdout",
     "output_type": "stream",
     "text": [
      "Epoch 730, Loss: 2.779303845131036\n"
     ]
    },
    {
     "name": "stderr",
     "output_type": "stream",
     "text": [
      "Epoch 731/1000: 100%|██████████| 66/66 [00:00<00:00, 323.31it/s]\n"
     ]
    },
    {
     "name": "stdout",
     "output_type": "stream",
     "text": [
      "Epoch 731, Loss: 2.7031293723619347\n"
     ]
    },
    {
     "name": "stderr",
     "output_type": "stream",
     "text": [
      "Epoch 732/1000: 100%|██████████| 66/66 [00:00<00:00, 367.80it/s]\n"
     ]
    },
    {
     "name": "stdout",
     "output_type": "stream",
     "text": [
      "Epoch 732, Loss: 2.72764165744637\n"
     ]
    },
    {
     "name": "stderr",
     "output_type": "stream",
     "text": [
      "Epoch 733/1000: 100%|██████████| 66/66 [00:00<00:00, 395.79it/s]\n"
     ]
    },
    {
     "name": "stdout",
     "output_type": "stream",
     "text": [
      "Epoch 733, Loss: 2.6818144978447394\n"
     ]
    },
    {
     "name": "stderr",
     "output_type": "stream",
     "text": [
      "Epoch 734/1000: 100%|██████████| 66/66 [00:00<00:00, 444.54it/s]\n"
     ]
    },
    {
     "name": "stdout",
     "output_type": "stream",
     "text": [
      "Epoch 734, Loss: 2.689099039769534\n"
     ]
    },
    {
     "name": "stderr",
     "output_type": "stream",
     "text": [
      "Epoch 735/1000: 100%|██████████| 66/66 [00:00<00:00, 497.60it/s]\n"
     ]
    },
    {
     "name": "stdout",
     "output_type": "stream",
     "text": [
      "Epoch 735, Loss: 2.7717677959890077\n"
     ]
    },
    {
     "name": "stderr",
     "output_type": "stream",
     "text": [
      "Epoch 736/1000: 100%|██████████| 66/66 [00:00<00:00, 344.68it/s]\n"
     ]
    },
    {
     "name": "stdout",
     "output_type": "stream",
     "text": [
      "Epoch 736, Loss: 2.7789807082577185\n"
     ]
    },
    {
     "name": "stderr",
     "output_type": "stream",
     "text": [
      "Epoch 737/1000: 100%|██████████| 66/66 [00:00<00:00, 373.13it/s]\n"
     ]
    },
    {
     "name": "stdout",
     "output_type": "stream",
     "text": [
      "Epoch 737, Loss: 2.6776830325975562\n"
     ]
    },
    {
     "name": "stderr",
     "output_type": "stream",
     "text": [
      "Epoch 738/1000: 100%|██████████| 66/66 [00:00<00:00, 413.35it/s]\n"
     ]
    },
    {
     "name": "stdout",
     "output_type": "stream",
     "text": [
      "Epoch 738, Loss: 2.680281087530382\n"
     ]
    },
    {
     "name": "stderr",
     "output_type": "stream",
     "text": [
      "Epoch 739/1000: 100%|██████████| 66/66 [00:00<00:00, 340.31it/s]\n"
     ]
    },
    {
     "name": "stdout",
     "output_type": "stream",
     "text": [
      "Epoch 739, Loss: 2.6960143117290554\n"
     ]
    },
    {
     "name": "stderr",
     "output_type": "stream",
     "text": [
      "Epoch 740/1000: 100%|██████████| 66/66 [00:00<00:00, 407.31it/s]\n"
     ]
    },
    {
     "name": "stdout",
     "output_type": "stream",
     "text": [
      "Epoch 740, Loss: 2.659092061898925\n"
     ]
    },
    {
     "name": "stderr",
     "output_type": "stream",
     "text": [
      "Epoch 741/1000: 100%|██████████| 66/66 [00:00<00:00, 418.98it/s]\n"
     ]
    },
    {
     "name": "stdout",
     "output_type": "stream",
     "text": [
      "Epoch 741, Loss: 2.635236322428241\n"
     ]
    },
    {
     "name": "stderr",
     "output_type": "stream",
     "text": [
      "Epoch 742/1000: 100%|██████████| 66/66 [00:00<00:00, 333.18it/s]\n"
     ]
    },
    {
     "name": "stdout",
     "output_type": "stream",
     "text": [
      "Epoch 742, Loss: 2.758784827860919\n"
     ]
    },
    {
     "name": "stderr",
     "output_type": "stream",
     "text": [
      "Epoch 743/1000: 100%|██████████| 66/66 [00:00<00:00, 354.71it/s]\n"
     ]
    },
    {
     "name": "stdout",
     "output_type": "stream",
     "text": [
      "Epoch 743, Loss: 2.7093468820958426\n"
     ]
    },
    {
     "name": "stderr",
     "output_type": "stream",
     "text": [
      "Epoch 744/1000: 100%|██████████| 66/66 [00:00<00:00, 354.50it/s]\n"
     ]
    },
    {
     "name": "stdout",
     "output_type": "stream",
     "text": [
      "Epoch 744, Loss: 2.736270920119502\n"
     ]
    },
    {
     "name": "stderr",
     "output_type": "stream",
     "text": [
      "Epoch 745/1000: 100%|██████████| 66/66 [00:00<00:00, 325.27it/s]\n"
     ]
    },
    {
     "name": "stdout",
     "output_type": "stream",
     "text": [
      "Epoch 745, Loss: 2.687046277929436\n"
     ]
    },
    {
     "name": "stderr",
     "output_type": "stream",
     "text": [
      "Epoch 746/1000: 100%|██████████| 66/66 [00:00<00:00, 325.84it/s]\n"
     ]
    },
    {
     "name": "stdout",
     "output_type": "stream",
     "text": [
      "Epoch 746, Loss: 2.6958186649011844\n"
     ]
    },
    {
     "name": "stderr",
     "output_type": "stream",
     "text": [
      "Epoch 747/1000: 100%|██████████| 66/66 [00:00<00:00, 327.54it/s]\n"
     ]
    },
    {
     "name": "stdout",
     "output_type": "stream",
     "text": [
      "Epoch 747, Loss: 2.709059262591781\n"
     ]
    },
    {
     "name": "stderr",
     "output_type": "stream",
     "text": [
      "Epoch 748/1000: 100%|██████████| 66/66 [00:00<00:00, 329.14it/s]\n"
     ]
    },
    {
     "name": "stdout",
     "output_type": "stream",
     "text": [
      "Epoch 748, Loss: 2.746135853230953\n"
     ]
    },
    {
     "name": "stderr",
     "output_type": "stream",
     "text": [
      "Epoch 749/1000: 100%|██████████| 66/66 [00:00<00:00, 325.82it/s]\n"
     ]
    },
    {
     "name": "stdout",
     "output_type": "stream",
     "text": [
      "Epoch 749, Loss: 2.804231759725195\n"
     ]
    },
    {
     "name": "stderr",
     "output_type": "stream",
     "text": [
      "Epoch 750/1000: 100%|██████████| 66/66 [00:00<00:00, 326.87it/s]\n"
     ]
    },
    {
     "name": "stdout",
     "output_type": "stream",
     "text": [
      "Epoch 750, Loss: 2.724528775070653\n"
     ]
    },
    {
     "name": "stderr",
     "output_type": "stream",
     "text": [
      "Epoch 751/1000: 100%|██████████| 66/66 [00:00<00:00, 326.99it/s]\n"
     ]
    },
    {
     "name": "stdout",
     "output_type": "stream",
     "text": [
      "Epoch 751, Loss: 2.823655950074846\n"
     ]
    },
    {
     "name": "stderr",
     "output_type": "stream",
     "text": [
      "Epoch 752/1000: 100%|██████████| 66/66 [00:00<00:00, 329.22it/s]\n"
     ]
    },
    {
     "name": "stdout",
     "output_type": "stream",
     "text": [
      "Epoch 752, Loss: 2.763789893438419\n"
     ]
    },
    {
     "name": "stderr",
     "output_type": "stream",
     "text": [
      "Epoch 753/1000: 100%|██████████| 66/66 [00:00<00:00, 326.92it/s]\n"
     ]
    },
    {
     "name": "stdout",
     "output_type": "stream",
     "text": [
      "Epoch 753, Loss: 2.7479446148782065\n"
     ]
    },
    {
     "name": "stderr",
     "output_type": "stream",
     "text": [
      "Epoch 754/1000: 100%|██████████| 66/66 [00:00<00:00, 326.89it/s]\n"
     ]
    },
    {
     "name": "stdout",
     "output_type": "stream",
     "text": [
      "Epoch 754, Loss: 2.652821670653242\n"
     ]
    },
    {
     "name": "stderr",
     "output_type": "stream",
     "text": [
      "Epoch 755/1000: 100%|██████████| 66/66 [00:00<00:00, 327.19it/s]\n"
     ]
    },
    {
     "name": "stdout",
     "output_type": "stream",
     "text": [
      "Epoch 755, Loss: 2.638334255552653\n"
     ]
    },
    {
     "name": "stderr",
     "output_type": "stream",
     "text": [
      "Epoch 756/1000: 100%|██████████| 66/66 [00:00<00:00, 326.81it/s]\n"
     ]
    },
    {
     "name": "stdout",
     "output_type": "stream",
     "text": [
      "Epoch 756, Loss: 2.6368000559283025\n"
     ]
    },
    {
     "name": "stderr",
     "output_type": "stream",
     "text": [
      "Epoch 757/1000: 100%|██████████| 66/66 [00:00<00:00, 324.74it/s]\n"
     ]
    },
    {
     "name": "stdout",
     "output_type": "stream",
     "text": [
      "Epoch 757, Loss: 2.6644596687772055\n"
     ]
    },
    {
     "name": "stderr",
     "output_type": "stream",
     "text": [
      "Epoch 758/1000: 100%|██████████| 66/66 [00:00<00:00, 326.54it/s]\n"
     ]
    },
    {
     "name": "stdout",
     "output_type": "stream",
     "text": [
      "Epoch 758, Loss: 2.8772748243628126\n"
     ]
    },
    {
     "name": "stderr",
     "output_type": "stream",
     "text": [
      "Epoch 759/1000: 100%|██████████| 66/66 [00:00<00:00, 326.89it/s]\n"
     ]
    },
    {
     "name": "stdout",
     "output_type": "stream",
     "text": [
      "Epoch 759, Loss: 2.685720932303053\n"
     ]
    },
    {
     "name": "stderr",
     "output_type": "stream",
     "text": [
      "Epoch 760/1000: 100%|██████████| 66/66 [00:00<00:00, 326.97it/s]\n"
     ]
    },
    {
     "name": "stdout",
     "output_type": "stream",
     "text": [
      "Epoch 760, Loss: 2.681431360542774\n"
     ]
    },
    {
     "name": "stderr",
     "output_type": "stream",
     "text": [
      "Epoch 761/1000: 100%|██████████| 66/66 [00:00<00:00, 394.61it/s]\n"
     ]
    },
    {
     "name": "stdout",
     "output_type": "stream",
     "text": [
      "Epoch 761, Loss: 2.669024008467342\n"
     ]
    },
    {
     "name": "stderr",
     "output_type": "stream",
     "text": [
      "Epoch 762/1000: 100%|██████████| 66/66 [00:00<00:00, 432.44it/s]\n"
     ]
    },
    {
     "name": "stdout",
     "output_type": "stream",
     "text": [
      "Epoch 762, Loss: 2.7311330496361763\n"
     ]
    },
    {
     "name": "stderr",
     "output_type": "stream",
     "text": [
      "Epoch 763/1000: 100%|██████████| 66/66 [00:00<00:00, 376.93it/s]\n"
     ]
    },
    {
     "name": "stdout",
     "output_type": "stream",
     "text": [
      "Epoch 763, Loss: 2.660075177974773\n"
     ]
    },
    {
     "name": "stderr",
     "output_type": "stream",
     "text": [
      "Epoch 764/1000: 100%|██████████| 66/66 [00:00<00:00, 402.60it/s]\n"
     ]
    },
    {
     "name": "stdout",
     "output_type": "stream",
     "text": [
      "Epoch 764, Loss: 2.6965567754073576\n"
     ]
    },
    {
     "name": "stderr",
     "output_type": "stream",
     "text": [
      "Epoch 765/1000: 100%|██████████| 66/66 [00:00<00:00, 382.31it/s]\n"
     ]
    },
    {
     "name": "stdout",
     "output_type": "stream",
     "text": [
      "Epoch 765, Loss: 2.6875880123539404\n"
     ]
    },
    {
     "name": "stderr",
     "output_type": "stream",
     "text": [
      "Epoch 766/1000: 100%|██████████| 66/66 [00:00<00:00, 367.50it/s]\n"
     ]
    },
    {
     "name": "stdout",
     "output_type": "stream",
     "text": [
      "Epoch 766, Loss: 2.6600477959622038\n"
     ]
    },
    {
     "name": "stderr",
     "output_type": "stream",
     "text": [
      "Epoch 767/1000: 100%|██████████| 66/66 [00:00<00:00, 326.25it/s]\n"
     ]
    },
    {
     "name": "stdout",
     "output_type": "stream",
     "text": [
      "Epoch 767, Loss: 2.676009370973616\n"
     ]
    },
    {
     "name": "stderr",
     "output_type": "stream",
     "text": [
      "Epoch 768/1000: 100%|██████████| 66/66 [00:00<00:00, 371.60it/s]\n"
     ]
    },
    {
     "name": "stdout",
     "output_type": "stream",
     "text": [
      "Epoch 768, Loss: 2.7040266913898066\n"
     ]
    },
    {
     "name": "stderr",
     "output_type": "stream",
     "text": [
      "Epoch 769/1000: 100%|██████████| 66/66 [00:00<00:00, 351.96it/s]\n"
     ]
    },
    {
     "name": "stdout",
     "output_type": "stream",
     "text": [
      "Epoch 769, Loss: 2.716680636460131\n"
     ]
    },
    {
     "name": "stderr",
     "output_type": "stream",
     "text": [
      "Epoch 770/1000: 100%|██████████| 66/66 [00:00<00:00, 375.56it/s]\n"
     ]
    },
    {
     "name": "stdout",
     "output_type": "stream",
     "text": [
      "Epoch 770, Loss: 2.6891084938789858\n"
     ]
    },
    {
     "name": "stderr",
     "output_type": "stream",
     "text": [
      "Epoch 771/1000: 100%|██████████| 66/66 [00:00<00:00, 330.55it/s]\n"
     ]
    },
    {
     "name": "stdout",
     "output_type": "stream",
     "text": [
      "Epoch 771, Loss: 2.6977298535180814\n"
     ]
    },
    {
     "name": "stderr",
     "output_type": "stream",
     "text": [
      "Epoch 772/1000: 100%|██████████| 66/66 [00:00<00:00, 395.74it/s]\n"
     ]
    },
    {
     "name": "stdout",
     "output_type": "stream",
     "text": [
      "Epoch 772, Loss: 2.6558313821301316\n"
     ]
    },
    {
     "name": "stderr",
     "output_type": "stream",
     "text": [
      "Epoch 773/1000: 100%|██████████| 66/66 [00:00<00:00, 408.75it/s]\n"
     ]
    },
    {
     "name": "stdout",
     "output_type": "stream",
     "text": [
      "Epoch 773, Loss: 2.7508225097800745\n"
     ]
    },
    {
     "name": "stderr",
     "output_type": "stream",
     "text": [
      "Epoch 774/1000: 100%|██████████| 66/66 [00:00<00:00, 326.91it/s]\n"
     ]
    },
    {
     "name": "stdout",
     "output_type": "stream",
     "text": [
      "Epoch 774, Loss: 2.7149792634176486\n"
     ]
    },
    {
     "name": "stderr",
     "output_type": "stream",
     "text": [
      "Epoch 775/1000: 100%|██████████| 66/66 [00:00<00:00, 326.57it/s]\n"
     ]
    },
    {
     "name": "stdout",
     "output_type": "stream",
     "text": [
      "Epoch 775, Loss: 2.7035943152326527\n"
     ]
    },
    {
     "name": "stderr",
     "output_type": "stream",
     "text": [
      "Epoch 776/1000: 100%|██████████| 66/66 [00:00<00:00, 326.69it/s]\n"
     ]
    },
    {
     "name": "stdout",
     "output_type": "stream",
     "text": [
      "Epoch 776, Loss: 2.6382979755148743\n"
     ]
    },
    {
     "name": "stderr",
     "output_type": "stream",
     "text": [
      "Epoch 777/1000: 100%|██████████| 66/66 [00:00<00:00, 343.30it/s]\n"
     ]
    },
    {
     "name": "stdout",
     "output_type": "stream",
     "text": [
      "Epoch 777, Loss: 2.6930140900340946\n"
     ]
    },
    {
     "name": "stderr",
     "output_type": "stream",
     "text": [
      "Epoch 778/1000: 100%|██████████| 66/66 [00:00<00:00, 458.16it/s]\n"
     ]
    },
    {
     "name": "stdout",
     "output_type": "stream",
     "text": [
      "Epoch 778, Loss: 2.6636849341518953\n"
     ]
    },
    {
     "name": "stderr",
     "output_type": "stream",
     "text": [
      "Epoch 779/1000: 100%|██████████| 66/66 [00:00<00:00, 627.18it/s]\n"
     ]
    },
    {
     "name": "stdout",
     "output_type": "stream",
     "text": [
      "Epoch 779, Loss: 2.6619274731386793\n"
     ]
    },
    {
     "name": "stderr",
     "output_type": "stream",
     "text": [
      "Epoch 780/1000: 100%|██████████| 66/66 [00:00<00:00, 607.42it/s]\n"
     ]
    },
    {
     "name": "stdout",
     "output_type": "stream",
     "text": [
      "Epoch 780, Loss: 2.753903316503221\n"
     ]
    },
    {
     "name": "stderr",
     "output_type": "stream",
     "text": [
      "Epoch 781/1000: 100%|██████████| 66/66 [00:00<00:00, 314.34it/s]\n"
     ]
    },
    {
     "name": "stdout",
     "output_type": "stream",
     "text": [
      "Epoch 781, Loss: 2.685328830146428\n"
     ]
    },
    {
     "name": "stderr",
     "output_type": "stream",
     "text": [
      "Epoch 782/1000: 100%|██████████| 66/66 [00:00<00:00, 413.11it/s]\n"
     ]
    },
    {
     "name": "stdout",
     "output_type": "stream",
     "text": [
      "Epoch 782, Loss: 2.6537799191745846\n"
     ]
    },
    {
     "name": "stderr",
     "output_type": "stream",
     "text": [
      "Epoch 783/1000: 100%|██████████| 66/66 [00:00<00:00, 359.42it/s]\n"
     ]
    },
    {
     "name": "stdout",
     "output_type": "stream",
     "text": [
      "Epoch 783, Loss: 2.6564281088384716\n"
     ]
    },
    {
     "name": "stderr",
     "output_type": "stream",
     "text": [
      "Epoch 784/1000: 100%|██████████| 66/66 [00:00<00:00, 339.91it/s]\n"
     ]
    },
    {
     "name": "stdout",
     "output_type": "stream",
     "text": [
      "Epoch 784, Loss: 2.6193190677599474\n"
     ]
    },
    {
     "name": "stderr",
     "output_type": "stream",
     "text": [
      "Epoch 785/1000: 100%|██████████| 66/66 [00:00<00:00, 326.82it/s]\n"
     ]
    },
    {
     "name": "stdout",
     "output_type": "stream",
     "text": [
      "Epoch 785, Loss: 2.757487195007729\n"
     ]
    },
    {
     "name": "stderr",
     "output_type": "stream",
     "text": [
      "Epoch 786/1000: 100%|██████████| 66/66 [00:00<00:00, 327.13it/s]\n"
     ]
    },
    {
     "name": "stdout",
     "output_type": "stream",
     "text": [
      "Epoch 786, Loss: 2.632016990220908\n"
     ]
    },
    {
     "name": "stderr",
     "output_type": "stream",
     "text": [
      "Epoch 787/1000: 100%|██████████| 66/66 [00:00<00:00, 377.64it/s]\n"
     ]
    },
    {
     "name": "stdout",
     "output_type": "stream",
     "text": [
      "Epoch 787, Loss: 2.722307428943388\n"
     ]
    },
    {
     "name": "stderr",
     "output_type": "stream",
     "text": [
      "Epoch 788/1000: 100%|██████████| 66/66 [00:00<00:00, 390.28it/s]\n"
     ]
    },
    {
     "name": "stdout",
     "output_type": "stream",
     "text": [
      "Epoch 788, Loss: 2.634295217692852\n"
     ]
    },
    {
     "name": "stderr",
     "output_type": "stream",
     "text": [
      "Epoch 789/1000: 100%|██████████| 66/66 [00:00<00:00, 559.83it/s]\n"
     ]
    },
    {
     "name": "stdout",
     "output_type": "stream",
     "text": [
      "Epoch 789, Loss: 2.6107632994200243\n"
     ]
    },
    {
     "name": "stderr",
     "output_type": "stream",
     "text": [
      "Epoch 790/1000: 100%|██████████| 66/66 [00:00<00:00, 354.36it/s]\n"
     ]
    },
    {
     "name": "stdout",
     "output_type": "stream",
     "text": [
      "Epoch 790, Loss: 2.6674295636740597\n"
     ]
    },
    {
     "name": "stderr",
     "output_type": "stream",
     "text": [
      "Epoch 791/1000: 100%|██████████| 66/66 [00:00<00:00, 326.28it/s]\n"
     ]
    },
    {
     "name": "stdout",
     "output_type": "stream",
     "text": [
      "Epoch 791, Loss: 2.6992845047603953\n"
     ]
    },
    {
     "name": "stderr",
     "output_type": "stream",
     "text": [
      "Epoch 792/1000: 100%|██████████| 66/66 [00:00<00:00, 418.96it/s]\n"
     ]
    },
    {
     "name": "stdout",
     "output_type": "stream",
     "text": [
      "Epoch 792, Loss: 2.6418160620060833\n"
     ]
    },
    {
     "name": "stderr",
     "output_type": "stream",
     "text": [
      "Epoch 793/1000: 100%|██████████| 66/66 [00:00<00:00, 369.62it/s]\n"
     ]
    },
    {
     "name": "stdout",
     "output_type": "stream",
     "text": [
      "Epoch 793, Loss: 2.7047353795532025\n"
     ]
    },
    {
     "name": "stderr",
     "output_type": "stream",
     "text": [
      "Epoch 794/1000: 100%|██████████| 66/66 [00:00<00:00, 388.66it/s]\n"
     ]
    },
    {
     "name": "stdout",
     "output_type": "stream",
     "text": [
      "Epoch 794, Loss: 2.6798553015246536\n"
     ]
    },
    {
     "name": "stderr",
     "output_type": "stream",
     "text": [
      "Epoch 795/1000: 100%|██████████| 66/66 [00:00<00:00, 326.29it/s]\n"
     ]
    },
    {
     "name": "stdout",
     "output_type": "stream",
     "text": [
      "Epoch 795, Loss: 2.6970239089745465\n"
     ]
    },
    {
     "name": "stderr",
     "output_type": "stream",
     "text": [
      "Epoch 796/1000: 100%|██████████| 66/66 [00:00<00:00, 324.89it/s]\n"
     ]
    },
    {
     "name": "stdout",
     "output_type": "stream",
     "text": [
      "Epoch 796, Loss: 2.679611439731988\n"
     ]
    },
    {
     "name": "stderr",
     "output_type": "stream",
     "text": [
      "Epoch 797/1000: 100%|██████████| 66/66 [00:00<00:00, 338.90it/s]\n"
     ]
    },
    {
     "name": "stdout",
     "output_type": "stream",
     "text": [
      "Epoch 797, Loss: 2.738852410831235\n"
     ]
    },
    {
     "name": "stderr",
     "output_type": "stream",
     "text": [
      "Epoch 798/1000: 100%|██████████| 66/66 [00:00<00:00, 329.59it/s]\n"
     ]
    },
    {
     "name": "stdout",
     "output_type": "stream",
     "text": [
      "Epoch 798, Loss: 2.71794938092882\n"
     ]
    },
    {
     "name": "stderr",
     "output_type": "stream",
     "text": [
      "Epoch 799/1000: 100%|██████████| 66/66 [00:00<00:00, 327.59it/s]\n"
     ]
    },
    {
     "name": "stdout",
     "output_type": "stream",
     "text": [
      "Epoch 799, Loss: 2.673085815301447\n"
     ]
    },
    {
     "name": "stderr",
     "output_type": "stream",
     "text": [
      "Epoch 800/1000: 100%|██████████| 66/66 [00:00<00:00, 327.23it/s]\n"
     ]
    },
    {
     "name": "stdout",
     "output_type": "stream",
     "text": [
      "Epoch 800, Loss: 2.6489066113576745\n"
     ]
    },
    {
     "name": "stderr",
     "output_type": "stream",
     "text": [
      "Epoch 801/1000: 100%|██████████| 66/66 [00:00<00:00, 349.71it/s]\n"
     ]
    },
    {
     "name": "stdout",
     "output_type": "stream",
     "text": [
      "Epoch 801, Loss: 2.723267748048811\n"
     ]
    },
    {
     "name": "stderr",
     "output_type": "stream",
     "text": [
      "Epoch 802/1000: 100%|██████████| 66/66 [00:00<00:00, 405.35it/s]\n"
     ]
    },
    {
     "name": "stdout",
     "output_type": "stream",
     "text": [
      "Epoch 802, Loss: 2.6393426699620304\n"
     ]
    },
    {
     "name": "stderr",
     "output_type": "stream",
     "text": [
      "Epoch 803/1000: 100%|██████████| 66/66 [00:00<00:00, 351.68it/s]\n"
     ]
    },
    {
     "name": "stdout",
     "output_type": "stream",
     "text": [
      "Epoch 803, Loss: 2.608231844549829\n"
     ]
    },
    {
     "name": "stderr",
     "output_type": "stream",
     "text": [
      "Epoch 804/1000: 100%|██████████| 66/66 [00:00<00:00, 359.23it/s]\n"
     ]
    },
    {
     "name": "stdout",
     "output_type": "stream",
     "text": [
      "Epoch 804, Loss: 2.6018914693232738\n"
     ]
    },
    {
     "name": "stderr",
     "output_type": "stream",
     "text": [
      "Epoch 805/1000: 100%|██████████| 66/66 [00:00<00:00, 326.54it/s]\n"
     ]
    },
    {
     "name": "stdout",
     "output_type": "stream",
     "text": [
      "Epoch 805, Loss: 2.6687394231557846\n"
     ]
    },
    {
     "name": "stderr",
     "output_type": "stream",
     "text": [
      "Epoch 806/1000: 100%|██████████| 66/66 [00:00<00:00, 326.87it/s]\n"
     ]
    },
    {
     "name": "stdout",
     "output_type": "stream",
     "text": [
      "Epoch 806, Loss: 2.737225850197402\n"
     ]
    },
    {
     "name": "stderr",
     "output_type": "stream",
     "text": [
      "Epoch 807/1000: 100%|██████████| 66/66 [00:00<00:00, 326.75it/s]\n"
     ]
    },
    {
     "name": "stdout",
     "output_type": "stream",
     "text": [
      "Epoch 807, Loss: 2.7738800714864875\n"
     ]
    },
    {
     "name": "stderr",
     "output_type": "stream",
     "text": [
      "Epoch 808/1000: 100%|██████████| 66/66 [00:00<00:00, 384.93it/s]\n"
     ]
    },
    {
     "name": "stdout",
     "output_type": "stream",
     "text": [
      "Epoch 808, Loss: 2.6928308669364815\n"
     ]
    },
    {
     "name": "stderr",
     "output_type": "stream",
     "text": [
      "Epoch 809/1000: 100%|██████████| 66/66 [00:00<00:00, 342.70it/s]\n"
     ]
    },
    {
     "name": "stdout",
     "output_type": "stream",
     "text": [
      "Epoch 809, Loss: 2.637464109921094\n"
     ]
    },
    {
     "name": "stderr",
     "output_type": "stream",
     "text": [
      "Epoch 810/1000: 100%|██████████| 66/66 [00:00<00:00, 333.65it/s]\n"
     ]
    },
    {
     "name": "stdout",
     "output_type": "stream",
     "text": [
      "Epoch 810, Loss: 2.671465141755162\n"
     ]
    },
    {
     "name": "stderr",
     "output_type": "stream",
     "text": [
      "Epoch 811/1000: 100%|██████████| 66/66 [00:00<00:00, 344.05it/s]\n"
     ]
    },
    {
     "name": "stdout",
     "output_type": "stream",
     "text": [
      "Epoch 811, Loss: 2.6538936674143327\n"
     ]
    },
    {
     "name": "stderr",
     "output_type": "stream",
     "text": [
      "Epoch 812/1000: 100%|██████████| 66/66 [00:00<00:00, 323.74it/s]\n"
     ]
    },
    {
     "name": "stdout",
     "output_type": "stream",
     "text": [
      "Epoch 812, Loss: 2.676136903690569\n"
     ]
    },
    {
     "name": "stderr",
     "output_type": "stream",
     "text": [
      "Epoch 813/1000: 100%|██████████| 66/66 [00:00<00:00, 326.94it/s]\n"
     ]
    },
    {
     "name": "stdout",
     "output_type": "stream",
     "text": [
      "Epoch 813, Loss: 2.6579975953156296\n"
     ]
    },
    {
     "name": "stderr",
     "output_type": "stream",
     "text": [
      "Epoch 814/1000: 100%|██████████| 66/66 [00:00<00:00, 327.02it/s]\n"
     ]
    },
    {
     "name": "stdout",
     "output_type": "stream",
     "text": [
      "Epoch 814, Loss: 2.7038634489431526\n"
     ]
    },
    {
     "name": "stderr",
     "output_type": "stream",
     "text": [
      "Epoch 815/1000: 100%|██████████| 66/66 [00:00<00:00, 327.12it/s]\n"
     ]
    },
    {
     "name": "stdout",
     "output_type": "stream",
     "text": [
      "Epoch 815, Loss: 2.6242053910638345\n"
     ]
    },
    {
     "name": "stderr",
     "output_type": "stream",
     "text": [
      "Epoch 816/1000: 100%|██████████| 66/66 [00:00<00:00, 326.99it/s]\n"
     ]
    },
    {
     "name": "stdout",
     "output_type": "stream",
     "text": [
      "Epoch 816, Loss: 2.6632052192633804\n"
     ]
    },
    {
     "name": "stderr",
     "output_type": "stream",
     "text": [
      "Epoch 817/1000: 100%|██████████| 66/66 [00:00<00:00, 327.50it/s]\n"
     ]
    },
    {
     "name": "stdout",
     "output_type": "stream",
     "text": [
      "Epoch 817, Loss: 2.6336646314823264\n"
     ]
    },
    {
     "name": "stderr",
     "output_type": "stream",
     "text": [
      "Epoch 818/1000: 100%|██████████| 66/66 [00:00<00:00, 402.70it/s]\n"
     ]
    },
    {
     "name": "stdout",
     "output_type": "stream",
     "text": [
      "Epoch 818, Loss: 2.639386327203476\n"
     ]
    },
    {
     "name": "stderr",
     "output_type": "stream",
     "text": [
      "Epoch 819/1000: 100%|██████████| 66/66 [00:00<00:00, 438.24it/s]\n"
     ]
    },
    {
     "name": "stdout",
     "output_type": "stream",
     "text": [
      "Epoch 819, Loss: 2.627666871656071\n"
     ]
    },
    {
     "name": "stderr",
     "output_type": "stream",
     "text": [
      "Epoch 820/1000: 100%|██████████| 66/66 [00:00<00:00, 376.52it/s]\n"
     ]
    },
    {
     "name": "stdout",
     "output_type": "stream",
     "text": [
      "Epoch 820, Loss: 2.6524663547223266\n"
     ]
    },
    {
     "name": "stderr",
     "output_type": "stream",
     "text": [
      "Epoch 821/1000: 100%|██████████| 66/66 [00:00<00:00, 338.08it/s]\n"
     ]
    },
    {
     "name": "stdout",
     "output_type": "stream",
     "text": [
      "Epoch 821, Loss: 2.5972474470283045\n"
     ]
    },
    {
     "name": "stderr",
     "output_type": "stream",
     "text": [
      "Epoch 822/1000: 100%|██████████| 66/66 [00:00<00:00, 327.30it/s]\n"
     ]
    },
    {
     "name": "stdout",
     "output_type": "stream",
     "text": [
      "Epoch 822, Loss: 2.6292210846687807\n"
     ]
    },
    {
     "name": "stderr",
     "output_type": "stream",
     "text": [
      "Epoch 823/1000: 100%|██████████| 66/66 [00:00<00:00, 329.73it/s]\n"
     ]
    },
    {
     "name": "stdout",
     "output_type": "stream",
     "text": [
      "Epoch 823, Loss: 2.657195657265909\n"
     ]
    },
    {
     "name": "stderr",
     "output_type": "stream",
     "text": [
      "Epoch 824/1000: 100%|██████████| 66/66 [00:00<00:00, 327.19it/s]\n"
     ]
    },
    {
     "name": "stdout",
     "output_type": "stream",
     "text": [
      "Epoch 824, Loss: 2.5944525748491287\n"
     ]
    },
    {
     "name": "stderr",
     "output_type": "stream",
     "text": [
      "Epoch 825/1000: 100%|██████████| 66/66 [00:00<00:00, 326.70it/s]\n"
     ]
    },
    {
     "name": "stdout",
     "output_type": "stream",
     "text": [
      "Epoch 825, Loss: 2.663198753288298\n"
     ]
    },
    {
     "name": "stderr",
     "output_type": "stream",
     "text": [
      "Epoch 826/1000: 100%|██████████| 66/66 [00:00<00:00, 327.04it/s]\n"
     ]
    },
    {
     "name": "stdout",
     "output_type": "stream",
     "text": [
      "Epoch 826, Loss: 2.6049021150578153\n"
     ]
    },
    {
     "name": "stderr",
     "output_type": "stream",
     "text": [
      "Epoch 827/1000: 100%|██████████| 66/66 [00:00<00:00, 324.96it/s]\n"
     ]
    },
    {
     "name": "stdout",
     "output_type": "stream",
     "text": [
      "Epoch 827, Loss: 2.6144410157293985\n"
     ]
    },
    {
     "name": "stderr",
     "output_type": "stream",
     "text": [
      "Epoch 828/1000: 100%|██████████| 66/66 [00:00<00:00, 327.63it/s]\n"
     ]
    },
    {
     "name": "stdout",
     "output_type": "stream",
     "text": [
      "Epoch 828, Loss: 2.561634790039424\n"
     ]
    },
    {
     "name": "stderr",
     "output_type": "stream",
     "text": [
      "Epoch 829/1000: 100%|██████████| 66/66 [00:00<00:00, 329.37it/s]\n"
     ]
    },
    {
     "name": "stdout",
     "output_type": "stream",
     "text": [
      "Epoch 829, Loss: 2.8129830825509448\n"
     ]
    },
    {
     "name": "stderr",
     "output_type": "stream",
     "text": [
      "Epoch 830/1000: 100%|██████████| 66/66 [00:00<00:00, 329.17it/s]\n"
     ]
    },
    {
     "name": "stdout",
     "output_type": "stream",
     "text": [
      "Epoch 830, Loss: 2.6565348422437003\n"
     ]
    },
    {
     "name": "stderr",
     "output_type": "stream",
     "text": [
      "Epoch 831/1000: 100%|██████████| 66/66 [00:00<00:00, 345.14it/s]\n"
     ]
    },
    {
     "name": "stdout",
     "output_type": "stream",
     "text": [
      "Epoch 831, Loss: 2.642529455549789\n"
     ]
    },
    {
     "name": "stderr",
     "output_type": "stream",
     "text": [
      "Epoch 832/1000: 100%|██████████| 66/66 [00:00<00:00, 324.84it/s]\n"
     ]
    },
    {
     "name": "stdout",
     "output_type": "stream",
     "text": [
      "Epoch 832, Loss: 2.7057075599829354\n"
     ]
    },
    {
     "name": "stderr",
     "output_type": "stream",
     "text": [
      "Epoch 833/1000: 100%|██████████| 66/66 [00:00<00:00, 327.34it/s]\n"
     ]
    },
    {
     "name": "stdout",
     "output_type": "stream",
     "text": [
      "Epoch 833, Loss: 2.669076304318327\n"
     ]
    },
    {
     "name": "stderr",
     "output_type": "stream",
     "text": [
      "Epoch 834/1000: 100%|██████████| 66/66 [00:00<00:00, 325.01it/s]\n"
     ]
    },
    {
     "name": "stdout",
     "output_type": "stream",
     "text": [
      "Epoch 834, Loss: 2.5906838677597768\n"
     ]
    },
    {
     "name": "stderr",
     "output_type": "stream",
     "text": [
      "Epoch 835/1000: 100%|██████████| 66/66 [00:00<00:00, 327.16it/s]\n"
     ]
    },
    {
     "name": "stdout",
     "output_type": "stream",
     "text": [
      "Epoch 835, Loss: 2.9128495750553682\n"
     ]
    },
    {
     "name": "stderr",
     "output_type": "stream",
     "text": [
      "Epoch 836/1000: 100%|██████████| 66/66 [00:00<00:00, 327.27it/s]\n"
     ]
    },
    {
     "name": "stdout",
     "output_type": "stream",
     "text": [
      "Epoch 836, Loss: 2.676571962508288\n"
     ]
    },
    {
     "name": "stderr",
     "output_type": "stream",
     "text": [
      "Epoch 837/1000: 100%|██████████| 66/66 [00:00<00:00, 326.95it/s]\n"
     ]
    },
    {
     "name": "stdout",
     "output_type": "stream",
     "text": [
      "Epoch 837, Loss: 2.6090837665127986\n"
     ]
    },
    {
     "name": "stderr",
     "output_type": "stream",
     "text": [
      "Epoch 838/1000: 100%|██████████| 66/66 [00:00<00:00, 388.63it/s]\n"
     ]
    },
    {
     "name": "stdout",
     "output_type": "stream",
     "text": [
      "Epoch 838, Loss: 2.6757402630014853\n"
     ]
    },
    {
     "name": "stderr",
     "output_type": "stream",
     "text": [
      "Epoch 839/1000: 100%|██████████| 66/66 [00:00<00:00, 350.43it/s]\n"
     ]
    },
    {
     "name": "stdout",
     "output_type": "stream",
     "text": [
      "Epoch 839, Loss: 2.6561736751234895\n"
     ]
    },
    {
     "name": "stderr",
     "output_type": "stream",
     "text": [
      "Epoch 840/1000: 100%|██████████| 66/66 [00:00<00:00, 351.94it/s]\n"
     ]
    },
    {
     "name": "stdout",
     "output_type": "stream",
     "text": [
      "Epoch 840, Loss: 2.671799110192241\n"
     ]
    },
    {
     "name": "stderr",
     "output_type": "stream",
     "text": [
      "Epoch 841/1000: 100%|██████████| 66/66 [00:00<00:00, 333.91it/s]\n"
     ]
    },
    {
     "name": "stdout",
     "output_type": "stream",
     "text": [
      "Epoch 841, Loss: 2.614671156036131\n"
     ]
    },
    {
     "name": "stderr",
     "output_type": "stream",
     "text": [
      "Epoch 842/1000: 100%|██████████| 66/66 [00:00<00:00, 323.45it/s]\n"
     ]
    },
    {
     "name": "stdout",
     "output_type": "stream",
     "text": [
      "Epoch 842, Loss: 2.7335806586074107\n"
     ]
    },
    {
     "name": "stderr",
     "output_type": "stream",
     "text": [
      "Epoch 843/1000: 100%|██████████| 66/66 [00:00<00:00, 327.39it/s]\n"
     ]
    },
    {
     "name": "stdout",
     "output_type": "stream",
     "text": [
      "Epoch 843, Loss: 2.680632616760153\n"
     ]
    },
    {
     "name": "stderr",
     "output_type": "stream",
     "text": [
      "Epoch 844/1000: 100%|██████████| 66/66 [00:00<00:00, 325.87it/s]\n"
     ]
    },
    {
     "name": "stdout",
     "output_type": "stream",
     "text": [
      "Epoch 844, Loss: 2.7062637257305058\n"
     ]
    },
    {
     "name": "stderr",
     "output_type": "stream",
     "text": [
      "Epoch 845/1000: 100%|██████████| 66/66 [00:00<00:00, 335.97it/s]\n"
     ]
    },
    {
     "name": "stdout",
     "output_type": "stream",
     "text": [
      "Epoch 845, Loss: 2.722272916273637\n"
     ]
    },
    {
     "name": "stderr",
     "output_type": "stream",
     "text": [
      "Epoch 846/1000: 100%|██████████| 66/66 [00:00<00:00, 326.79it/s]\n"
     ]
    },
    {
     "name": "stdout",
     "output_type": "stream",
     "text": [
      "Epoch 846, Loss: 2.741859069263393\n"
     ]
    },
    {
     "name": "stderr",
     "output_type": "stream",
     "text": [
      "Epoch 847/1000: 100%|██████████| 66/66 [00:00<00:00, 358.26it/s]\n"
     ]
    },
    {
     "name": "stdout",
     "output_type": "stream",
     "text": [
      "Epoch 847, Loss: 2.609904336206841\n"
     ]
    },
    {
     "name": "stderr",
     "output_type": "stream",
     "text": [
      "Epoch 848/1000: 100%|██████████| 66/66 [00:00<00:00, 422.94it/s]\n"
     ]
    },
    {
     "name": "stdout",
     "output_type": "stream",
     "text": [
      "Epoch 848, Loss: 2.651714267830054\n"
     ]
    },
    {
     "name": "stderr",
     "output_type": "stream",
     "text": [
      "Epoch 849/1000: 100%|██████████| 66/66 [00:00<00:00, 549.19it/s]\n"
     ]
    },
    {
     "name": "stdout",
     "output_type": "stream",
     "text": [
      "Epoch 849, Loss: 2.604836342009631\n"
     ]
    },
    {
     "name": "stderr",
     "output_type": "stream",
     "text": [
      "Epoch 850/1000: 100%|██████████| 66/66 [00:00<00:00, 403.78it/s]\n"
     ]
    },
    {
     "name": "stdout",
     "output_type": "stream",
     "text": [
      "Epoch 850, Loss: 2.5853308035117206\n"
     ]
    },
    {
     "name": "stderr",
     "output_type": "stream",
     "text": [
      "Epoch 851/1000: 100%|██████████| 66/66 [00:00<00:00, 372.38it/s]\n"
     ]
    },
    {
     "name": "stdout",
     "output_type": "stream",
     "text": [
      "Epoch 851, Loss: 2.7737093475280385\n"
     ]
    },
    {
     "name": "stderr",
     "output_type": "stream",
     "text": [
      "Epoch 852/1000: 100%|██████████| 66/66 [00:00<00:00, 342.66it/s]\n"
     ]
    },
    {
     "name": "stdout",
     "output_type": "stream",
     "text": [
      "Epoch 852, Loss: 2.766208402812481\n"
     ]
    },
    {
     "name": "stderr",
     "output_type": "stream",
     "text": [
      "Epoch 853/1000: 100%|██████████| 66/66 [00:00<00:00, 434.33it/s]\n"
     ]
    },
    {
     "name": "stdout",
     "output_type": "stream",
     "text": [
      "Epoch 853, Loss: 2.789437299424952\n"
     ]
    },
    {
     "name": "stderr",
     "output_type": "stream",
     "text": [
      "Epoch 854/1000: 100%|██████████| 66/66 [00:00<00:00, 469.50it/s]\n"
     ]
    },
    {
     "name": "stdout",
     "output_type": "stream",
     "text": [
      "Epoch 854, Loss: 2.648153623170925\n"
     ]
    },
    {
     "name": "stderr",
     "output_type": "stream",
     "text": [
      "Epoch 855/1000: 100%|██████████| 66/66 [00:00<00:00, 352.99it/s]\n"
     ]
    },
    {
     "name": "stdout",
     "output_type": "stream",
     "text": [
      "Epoch 855, Loss: 2.675418023245804\n"
     ]
    },
    {
     "name": "stderr",
     "output_type": "stream",
     "text": [
      "Epoch 856/1000: 100%|██████████| 66/66 [00:00<00:00, 337.07it/s]\n"
     ]
    },
    {
     "name": "stdout",
     "output_type": "stream",
     "text": [
      "Epoch 856, Loss: 2.5923841844002404\n"
     ]
    },
    {
     "name": "stderr",
     "output_type": "stream",
     "text": [
      "Epoch 857/1000: 100%|██████████| 66/66 [00:00<00:00, 345.77it/s]\n"
     ]
    },
    {
     "name": "stdout",
     "output_type": "stream",
     "text": [
      "Epoch 857, Loss: 2.6373466431643022\n"
     ]
    },
    {
     "name": "stderr",
     "output_type": "stream",
     "text": [
      "Epoch 858/1000: 100%|██████████| 66/66 [00:00<00:00, 282.07it/s]\n"
     ]
    },
    {
     "name": "stdout",
     "output_type": "stream",
     "text": [
      "Epoch 858, Loss: 2.69736075220686\n"
     ]
    },
    {
     "name": "stderr",
     "output_type": "stream",
     "text": [
      "Epoch 859/1000: 100%|██████████| 66/66 [00:00<00:00, 526.06it/s]\n"
     ]
    },
    {
     "name": "stdout",
     "output_type": "stream",
     "text": [
      "Epoch 859, Loss: 2.623174034736373\n"
     ]
    },
    {
     "name": "stderr",
     "output_type": "stream",
     "text": [
      "Epoch 860/1000: 100%|██████████| 66/66 [00:00<00:00, 515.56it/s]\n"
     ]
    },
    {
     "name": "stdout",
     "output_type": "stream",
     "text": [
      "Epoch 860, Loss: 2.632594539586342\n"
     ]
    },
    {
     "name": "stderr",
     "output_type": "stream",
     "text": [
      "Epoch 861/1000: 100%|██████████| 66/66 [00:00<00:00, 337.80it/s]\n"
     ]
    },
    {
     "name": "stdout",
     "output_type": "stream",
     "text": [
      "Epoch 861, Loss: 2.658810865924214\n"
     ]
    },
    {
     "name": "stderr",
     "output_type": "stream",
     "text": [
      "Epoch 862/1000: 100%|██████████| 66/66 [00:00<00:00, 364.96it/s]\n"
     ]
    },
    {
     "name": "stdout",
     "output_type": "stream",
     "text": [
      "Epoch 862, Loss: 2.6540309904199657\n"
     ]
    },
    {
     "name": "stderr",
     "output_type": "stream",
     "text": [
      "Epoch 863/1000: 100%|██████████| 66/66 [00:00<00:00, 411.88it/s]\n"
     ]
    },
    {
     "name": "stdout",
     "output_type": "stream",
     "text": [
      "Epoch 863, Loss: 2.6039106249809265\n"
     ]
    },
    {
     "name": "stderr",
     "output_type": "stream",
     "text": [
      "Epoch 864/1000: 100%|██████████| 66/66 [00:00<00:00, 391.11it/s]\n"
     ]
    },
    {
     "name": "stdout",
     "output_type": "stream",
     "text": [
      "Epoch 864, Loss: 2.7139594132701554\n"
     ]
    },
    {
     "name": "stderr",
     "output_type": "stream",
     "text": [
      "Epoch 865/1000: 100%|██████████| 66/66 [00:00<00:00, 492.43it/s]\n"
     ]
    },
    {
     "name": "stdout",
     "output_type": "stream",
     "text": [
      "Epoch 865, Loss: 2.844319125468081\n"
     ]
    },
    {
     "name": "stderr",
     "output_type": "stream",
     "text": [
      "Epoch 866/1000: 100%|██████████| 66/66 [00:00<00:00, 482.70it/s]\n"
     ]
    },
    {
     "name": "stdout",
     "output_type": "stream",
     "text": [
      "Epoch 866, Loss: 2.639876942291404\n"
     ]
    },
    {
     "name": "stderr",
     "output_type": "stream",
     "text": [
      "Epoch 867/1000: 100%|██████████| 66/66 [00:00<00:00, 323.24it/s]\n"
     ]
    },
    {
     "name": "stdout",
     "output_type": "stream",
     "text": [
      "Epoch 867, Loss: 2.6063549383120104\n"
     ]
    },
    {
     "name": "stderr",
     "output_type": "stream",
     "text": [
      "Epoch 868/1000: 100%|██████████| 66/66 [00:00<00:00, 332.17it/s]\n"
     ]
    },
    {
     "name": "stdout",
     "output_type": "stream",
     "text": [
      "Epoch 868, Loss: 2.569693253573143\n"
     ]
    },
    {
     "name": "stderr",
     "output_type": "stream",
     "text": [
      "Epoch 869/1000: 100%|██████████| 66/66 [00:00<00:00, 325.81it/s]\n"
     ]
    },
    {
     "name": "stdout",
     "output_type": "stream",
     "text": [
      "Epoch 869, Loss: 2.77791608982917\n"
     ]
    },
    {
     "name": "stderr",
     "output_type": "stream",
     "text": [
      "Epoch 870/1000: 100%|██████████| 66/66 [00:00<00:00, 325.76it/s]\n"
     ]
    },
    {
     "name": "stdout",
     "output_type": "stream",
     "text": [
      "Epoch 870, Loss: 2.639689530387069\n"
     ]
    },
    {
     "name": "stderr",
     "output_type": "stream",
     "text": [
      "Epoch 871/1000: 100%|██████████| 66/66 [00:00<00:00, 326.93it/s]\n"
     ]
    },
    {
     "name": "stdout",
     "output_type": "stream",
     "text": [
      "Epoch 871, Loss: 2.733723715399251\n"
     ]
    },
    {
     "name": "stderr",
     "output_type": "stream",
     "text": [
      "Epoch 872/1000: 100%|██████████| 66/66 [00:00<00:00, 327.86it/s]\n"
     ]
    },
    {
     "name": "stdout",
     "output_type": "stream",
     "text": [
      "Epoch 872, Loss: 2.6511725774317076\n"
     ]
    },
    {
     "name": "stderr",
     "output_type": "stream",
     "text": [
      "Epoch 873/1000: 100%|██████████| 66/66 [00:00<00:00, 324.84it/s]\n"
     ]
    },
    {
     "name": "stdout",
     "output_type": "stream",
     "text": [
      "Epoch 873, Loss: 2.6194676284988723\n"
     ]
    },
    {
     "name": "stderr",
     "output_type": "stream",
     "text": [
      "Epoch 874/1000: 100%|██████████| 66/66 [00:00<00:00, 329.33it/s]\n"
     ]
    },
    {
     "name": "stdout",
     "output_type": "stream",
     "text": [
      "Epoch 874, Loss: 2.608486899372303\n"
     ]
    },
    {
     "name": "stderr",
     "output_type": "stream",
     "text": [
      "Epoch 875/1000: 100%|██████████| 66/66 [00:00<00:00, 381.40it/s]\n"
     ]
    },
    {
     "name": "stdout",
     "output_type": "stream",
     "text": [
      "Epoch 875, Loss: 2.610907092916243\n"
     ]
    },
    {
     "name": "stderr",
     "output_type": "stream",
     "text": [
      "Epoch 876/1000: 100%|██████████| 66/66 [00:00<00:00, 386.49it/s]\n"
     ]
    },
    {
     "name": "stdout",
     "output_type": "stream",
     "text": [
      "Epoch 876, Loss: 2.603661946726568\n"
     ]
    },
    {
     "name": "stderr",
     "output_type": "stream",
     "text": [
      "Epoch 877/1000: 100%|██████████| 66/66 [00:00<00:00, 392.41it/s]\n"
     ]
    },
    {
     "name": "stdout",
     "output_type": "stream",
     "text": [
      "Epoch 877, Loss: 2.6957788855740517\n"
     ]
    },
    {
     "name": "stderr",
     "output_type": "stream",
     "text": [
      "Epoch 878/1000: 100%|██████████| 66/66 [00:00<00:00, 360.57it/s]\n"
     ]
    },
    {
     "name": "stdout",
     "output_type": "stream",
     "text": [
      "Epoch 878, Loss: 2.6265310060345763\n"
     ]
    },
    {
     "name": "stderr",
     "output_type": "stream",
     "text": [
      "Epoch 879/1000: 100%|██████████| 66/66 [00:00<00:00, 329.53it/s]\n"
     ]
    },
    {
     "name": "stdout",
     "output_type": "stream",
     "text": [
      "Epoch 879, Loss: 2.5830052088607443\n"
     ]
    },
    {
     "name": "stderr",
     "output_type": "stream",
     "text": [
      "Epoch 880/1000: 100%|██████████| 66/66 [00:00<00:00, 307.77it/s]\n"
     ]
    },
    {
     "name": "stdout",
     "output_type": "stream",
     "text": [
      "Epoch 880, Loss: 2.582903510693348\n"
     ]
    },
    {
     "name": "stderr",
     "output_type": "stream",
     "text": [
      "Epoch 881/1000: 100%|██████████| 66/66 [00:00<00:00, 490.18it/s]\n"
     ]
    },
    {
     "name": "stdout",
     "output_type": "stream",
     "text": [
      "Epoch 881, Loss: 2.6844890664021173\n"
     ]
    },
    {
     "name": "stderr",
     "output_type": "stream",
     "text": [
      "Epoch 882/1000: 100%|██████████| 66/66 [00:00<00:00, 337.52it/s]\n"
     ]
    },
    {
     "name": "stdout",
     "output_type": "stream",
     "text": [
      "Epoch 882, Loss: 2.5834398436726946\n"
     ]
    },
    {
     "name": "stderr",
     "output_type": "stream",
     "text": [
      "Epoch 883/1000: 100%|██████████| 66/66 [00:00<00:00, 326.69it/s]\n"
     ]
    },
    {
     "name": "stdout",
     "output_type": "stream",
     "text": [
      "Epoch 883, Loss: 2.665316281896649\n"
     ]
    },
    {
     "name": "stderr",
     "output_type": "stream",
     "text": [
      "Epoch 884/1000: 100%|██████████| 66/66 [00:00<00:00, 328.94it/s]\n"
     ]
    },
    {
     "name": "stdout",
     "output_type": "stream",
     "text": [
      "Epoch 884, Loss: 2.5893605812029405\n"
     ]
    },
    {
     "name": "stderr",
     "output_type": "stream",
     "text": [
      "Epoch 885/1000: 100%|██████████| 66/66 [00:00<00:00, 327.37it/s]\n"
     ]
    },
    {
     "name": "stdout",
     "output_type": "stream",
     "text": [
      "Epoch 885, Loss: 2.568325961855325\n"
     ]
    },
    {
     "name": "stderr",
     "output_type": "stream",
     "text": [
      "Epoch 886/1000: 100%|██████████| 66/66 [00:00<00:00, 329.27it/s]\n"
     ]
    },
    {
     "name": "stdout",
     "output_type": "stream",
     "text": [
      "Epoch 886, Loss: 2.6999709260734646\n"
     ]
    },
    {
     "name": "stderr",
     "output_type": "stream",
     "text": [
      "Epoch 887/1000: 100%|██████████| 66/66 [00:00<00:00, 326.18it/s]\n"
     ]
    },
    {
     "name": "stdout",
     "output_type": "stream",
     "text": [
      "Epoch 887, Loss: 2.5762717349059656\n"
     ]
    },
    {
     "name": "stderr",
     "output_type": "stream",
     "text": [
      "Epoch 888/1000: 100%|██████████| 66/66 [00:00<00:00, 443.51it/s]\n"
     ]
    },
    {
     "name": "stdout",
     "output_type": "stream",
     "text": [
      "Epoch 888, Loss: 2.5913027935858928\n"
     ]
    },
    {
     "name": "stderr",
     "output_type": "stream",
     "text": [
      "Epoch 889/1000: 100%|██████████| 66/66 [00:00<00:00, 386.06it/s]\n"
     ]
    },
    {
     "name": "stdout",
     "output_type": "stream",
     "text": [
      "Epoch 889, Loss: 2.608376380846356\n"
     ]
    },
    {
     "name": "stderr",
     "output_type": "stream",
     "text": [
      "Epoch 890/1000: 100%|██████████| 66/66 [00:00<00:00, 401.50it/s]\n"
     ]
    },
    {
     "name": "stdout",
     "output_type": "stream",
     "text": [
      "Epoch 890, Loss: 2.6127670000899923\n"
     ]
    },
    {
     "name": "stderr",
     "output_type": "stream",
     "text": [
      "Epoch 891/1000: 100%|██████████| 66/66 [00:00<00:00, 347.57it/s]\n"
     ]
    },
    {
     "name": "stdout",
     "output_type": "stream",
     "text": [
      "Epoch 891, Loss: 2.673978029101184\n"
     ]
    },
    {
     "name": "stderr",
     "output_type": "stream",
     "text": [
      "Epoch 892/1000: 100%|██████████| 66/66 [00:00<00:00, 324.53it/s]\n"
     ]
    },
    {
     "name": "stdout",
     "output_type": "stream",
     "text": [
      "Epoch 892, Loss: 2.6485921056433157\n"
     ]
    },
    {
     "name": "stderr",
     "output_type": "stream",
     "text": [
      "Epoch 893/1000: 100%|██████████| 66/66 [00:00<00:00, 327.51it/s]\n"
     ]
    },
    {
     "name": "stdout",
     "output_type": "stream",
     "text": [
      "Epoch 893, Loss: 2.6488057641368923\n"
     ]
    },
    {
     "name": "stderr",
     "output_type": "stream",
     "text": [
      "Epoch 894/1000: 100%|██████████| 66/66 [00:00<00:00, 325.23it/s]\n"
     ]
    },
    {
     "name": "stdout",
     "output_type": "stream",
     "text": [
      "Epoch 894, Loss: 2.5287281317692814\n"
     ]
    },
    {
     "name": "stderr",
     "output_type": "stream",
     "text": [
      "Epoch 895/1000: 100%|██████████| 66/66 [00:00<00:00, 327.22it/s]\n"
     ]
    },
    {
     "name": "stdout",
     "output_type": "stream",
     "text": [
      "Epoch 895, Loss: 3.0369990002928358\n"
     ]
    },
    {
     "name": "stderr",
     "output_type": "stream",
     "text": [
      "Epoch 896/1000: 100%|██████████| 66/66 [00:00<00:00, 351.93it/s]\n"
     ]
    },
    {
     "name": "stdout",
     "output_type": "stream",
     "text": [
      "Epoch 896, Loss: 2.7525579820979726\n"
     ]
    },
    {
     "name": "stderr",
     "output_type": "stream",
     "text": [
      "Epoch 897/1000: 100%|██████████| 66/66 [00:00<00:00, 624.10it/s]\n"
     ]
    },
    {
     "name": "stdout",
     "output_type": "stream",
     "text": [
      "Epoch 897, Loss: 2.6412877423519436\n"
     ]
    },
    {
     "name": "stderr",
     "output_type": "stream",
     "text": [
      "Epoch 898/1000: 100%|██████████| 66/66 [00:00<00:00, 323.20it/s]\n"
     ]
    },
    {
     "name": "stdout",
     "output_type": "stream",
     "text": [
      "Epoch 898, Loss: 2.6552034350055638\n"
     ]
    },
    {
     "name": "stderr",
     "output_type": "stream",
     "text": [
      "Epoch 899/1000: 100%|██████████| 66/66 [00:00<00:00, 326.91it/s]\n"
     ]
    },
    {
     "name": "stdout",
     "output_type": "stream",
     "text": [
      "Epoch 899, Loss: 2.6267294840830746\n"
     ]
    },
    {
     "name": "stderr",
     "output_type": "stream",
     "text": [
      "Epoch 900/1000: 100%|██████████| 66/66 [00:00<00:00, 329.14it/s]\n"
     ]
    },
    {
     "name": "stdout",
     "output_type": "stream",
     "text": [
      "Epoch 900, Loss: 2.572847747215719\n"
     ]
    },
    {
     "name": "stderr",
     "output_type": "stream",
     "text": [
      "Epoch 901/1000: 100%|██████████| 66/66 [00:00<00:00, 319.47it/s]\n"
     ]
    },
    {
     "name": "stdout",
     "output_type": "stream",
     "text": [
      "Epoch 901, Loss: 2.589302617492098\n"
     ]
    },
    {
     "name": "stderr",
     "output_type": "stream",
     "text": [
      "Epoch 902/1000: 100%|██████████| 66/66 [00:00<00:00, 326.18it/s]\n"
     ]
    },
    {
     "name": "stdout",
     "output_type": "stream",
     "text": [
      "Epoch 902, Loss: 2.578082127553044\n"
     ]
    },
    {
     "name": "stderr",
     "output_type": "stream",
     "text": [
      "Epoch 903/1000: 100%|██████████| 66/66 [00:00<00:00, 347.69it/s]\n"
     ]
    },
    {
     "name": "stdout",
     "output_type": "stream",
     "text": [
      "Epoch 903, Loss: 2.5814460547584477\n"
     ]
    },
    {
     "name": "stderr",
     "output_type": "stream",
     "text": [
      "Epoch 904/1000: 100%|██████████| 66/66 [00:00<00:00, 327.41it/s]\n"
     ]
    },
    {
     "name": "stdout",
     "output_type": "stream",
     "text": [
      "Epoch 904, Loss: 2.769662083775708\n"
     ]
    },
    {
     "name": "stderr",
     "output_type": "stream",
     "text": [
      "Epoch 905/1000: 100%|██████████| 66/66 [00:00<00:00, 406.39it/s]\n"
     ]
    },
    {
     "name": "stdout",
     "output_type": "stream",
     "text": [
      "Epoch 905, Loss: 2.588845602039135\n"
     ]
    },
    {
     "name": "stderr",
     "output_type": "stream",
     "text": [
      "Epoch 906/1000: 100%|██████████| 66/66 [00:00<00:00, 326.37it/s]\n"
     ]
    },
    {
     "name": "stdout",
     "output_type": "stream",
     "text": [
      "Epoch 906, Loss: 2.57885460668441\n"
     ]
    },
    {
     "name": "stderr",
     "output_type": "stream",
     "text": [
      "Epoch 907/1000: 100%|██████████| 66/66 [00:00<00:00, 326.94it/s]\n"
     ]
    },
    {
     "name": "stdout",
     "output_type": "stream",
     "text": [
      "Epoch 907, Loss: 2.5853266564734056\n"
     ]
    },
    {
     "name": "stderr",
     "output_type": "stream",
     "text": [
      "Epoch 908/1000: 100%|██████████| 66/66 [00:00<00:00, 321.26it/s]\n"
     ]
    },
    {
     "name": "stdout",
     "output_type": "stream",
     "text": [
      "Epoch 908, Loss: 2.5868163452003943\n"
     ]
    },
    {
     "name": "stderr",
     "output_type": "stream",
     "text": [
      "Epoch 909/1000: 100%|██████████| 66/66 [00:00<00:00, 326.89it/s]\n"
     ]
    },
    {
     "name": "stdout",
     "output_type": "stream",
     "text": [
      "Epoch 909, Loss: 2.6282818590601287\n"
     ]
    },
    {
     "name": "stderr",
     "output_type": "stream",
     "text": [
      "Epoch 910/1000: 100%|██████████| 66/66 [00:00<00:00, 327.25it/s]\n"
     ]
    },
    {
     "name": "stdout",
     "output_type": "stream",
     "text": [
      "Epoch 910, Loss: 2.671402004857858\n"
     ]
    },
    {
     "name": "stderr",
     "output_type": "stream",
     "text": [
      "Epoch 911/1000: 100%|██████████| 66/66 [00:00<00:00, 384.98it/s]\n"
     ]
    },
    {
     "name": "stdout",
     "output_type": "stream",
     "text": [
      "Epoch 911, Loss: 2.7072465722308015\n"
     ]
    },
    {
     "name": "stderr",
     "output_type": "stream",
     "text": [
      "Epoch 912/1000: 100%|██████████| 66/66 [00:00<00:00, 478.11it/s]\n"
     ]
    },
    {
     "name": "stdout",
     "output_type": "stream",
     "text": [
      "Epoch 912, Loss: 2.7349990053158817\n"
     ]
    },
    {
     "name": "stderr",
     "output_type": "stream",
     "text": [
      "Epoch 913/1000: 100%|██████████| 66/66 [00:00<00:00, 331.32it/s]\n"
     ]
    },
    {
     "name": "stdout",
     "output_type": "stream",
     "text": [
      "Epoch 913, Loss: 2.6565278657909595\n"
     ]
    },
    {
     "name": "stderr",
     "output_type": "stream",
     "text": [
      "Epoch 914/1000: 100%|██████████| 66/66 [00:00<00:00, 327.69it/s]\n"
     ]
    },
    {
     "name": "stdout",
     "output_type": "stream",
     "text": [
      "Epoch 914, Loss: 2.580965525273121\n"
     ]
    },
    {
     "name": "stderr",
     "output_type": "stream",
     "text": [
      "Epoch 915/1000: 100%|██████████| 66/66 [00:00<00:00, 323.02it/s]\n"
     ]
    },
    {
     "name": "stdout",
     "output_type": "stream",
     "text": [
      "Epoch 915, Loss: 2.6036909531914825\n"
     ]
    },
    {
     "name": "stderr",
     "output_type": "stream",
     "text": [
      "Epoch 916/1000: 100%|██████████| 66/66 [00:00<00:00, 326.95it/s]\n"
     ]
    },
    {
     "name": "stdout",
     "output_type": "stream",
     "text": [
      "Epoch 916, Loss: 2.6066397631710228\n"
     ]
    },
    {
     "name": "stderr",
     "output_type": "stream",
     "text": [
      "Epoch 917/1000: 100%|██████████| 66/66 [00:00<00:00, 351.80it/s]\n"
     ]
    },
    {
     "name": "stdout",
     "output_type": "stream",
     "text": [
      "Epoch 917, Loss: 2.6343932860728465\n"
     ]
    },
    {
     "name": "stderr",
     "output_type": "stream",
     "text": [
      "Epoch 918/1000: 100%|██████████| 66/66 [00:00<00:00, 401.34it/s]\n"
     ]
    },
    {
     "name": "stdout",
     "output_type": "stream",
     "text": [
      "Epoch 918, Loss: 2.654578556617101\n"
     ]
    },
    {
     "name": "stderr",
     "output_type": "stream",
     "text": [
      "Epoch 919/1000: 100%|██████████| 66/66 [00:00<00:00, 434.25it/s]\n"
     ]
    },
    {
     "name": "stdout",
     "output_type": "stream",
     "text": [
      "Epoch 919, Loss: 2.5759484420220056\n"
     ]
    },
    {
     "name": "stderr",
     "output_type": "stream",
     "text": [
      "Epoch 920/1000: 100%|██████████| 66/66 [00:00<00:00, 408.48it/s]\n"
     ]
    },
    {
     "name": "stdout",
     "output_type": "stream",
     "text": [
      "Epoch 920, Loss: 2.5919401248296103\n"
     ]
    },
    {
     "name": "stderr",
     "output_type": "stream",
     "text": [
      "Epoch 921/1000: 100%|██████████| 66/66 [00:00<00:00, 376.29it/s]\n"
     ]
    },
    {
     "name": "stdout",
     "output_type": "stream",
     "text": [
      "Epoch 921, Loss: 2.611826075523189\n"
     ]
    },
    {
     "name": "stderr",
     "output_type": "stream",
     "text": [
      "Epoch 922/1000: 100%|██████████| 66/66 [00:00<00:00, 395.63it/s]\n"
     ]
    },
    {
     "name": "stdout",
     "output_type": "stream",
     "text": [
      "Epoch 922, Loss: 2.741715560582551\n"
     ]
    },
    {
     "name": "stderr",
     "output_type": "stream",
     "text": [
      "Epoch 923/1000: 100%|██████████| 66/66 [00:00<00:00, 397.58it/s]\n"
     ]
    },
    {
     "name": "stdout",
     "output_type": "stream",
     "text": [
      "Epoch 923, Loss: 2.6206944442608138\n"
     ]
    },
    {
     "name": "stderr",
     "output_type": "stream",
     "text": [
      "Epoch 924/1000: 100%|██████████| 66/66 [00:00<00:00, 326.05it/s]\n"
     ]
    },
    {
     "name": "stdout",
     "output_type": "stream",
     "text": [
      "Epoch 924, Loss: 2.667523560650421\n"
     ]
    },
    {
     "name": "stderr",
     "output_type": "stream",
     "text": [
      "Epoch 925/1000: 100%|██████████| 66/66 [00:00<00:00, 327.69it/s]\n"
     ]
    },
    {
     "name": "stdout",
     "output_type": "stream",
     "text": [
      "Epoch 925, Loss: 2.62061712349003\n"
     ]
    },
    {
     "name": "stderr",
     "output_type": "stream",
     "text": [
      "Epoch 926/1000: 100%|██████████| 66/66 [00:00<00:00, 327.21it/s]\n"
     ]
    },
    {
     "name": "stdout",
     "output_type": "stream",
     "text": [
      "Epoch 926, Loss: 2.62314339320768\n"
     ]
    },
    {
     "name": "stderr",
     "output_type": "stream",
     "text": [
      "Epoch 927/1000: 100%|██████████| 66/66 [00:00<00:00, 469.45it/s]\n"
     ]
    },
    {
     "name": "stdout",
     "output_type": "stream",
     "text": [
      "Epoch 927, Loss: 2.5796902633526106\n"
     ]
    },
    {
     "name": "stderr",
     "output_type": "stream",
     "text": [
      "Epoch 928/1000: 100%|██████████| 66/66 [00:00<00:00, 324.40it/s]\n"
     ]
    },
    {
     "name": "stdout",
     "output_type": "stream",
     "text": [
      "Epoch 928, Loss: 2.619726381292849\n"
     ]
    },
    {
     "name": "stderr",
     "output_type": "stream",
     "text": [
      "Epoch 929/1000: 100%|██████████| 66/66 [00:00<00:00, 319.52it/s]\n"
     ]
    },
    {
     "name": "stdout",
     "output_type": "stream",
     "text": [
      "Epoch 929, Loss: 2.5631003953290707\n"
     ]
    },
    {
     "name": "stderr",
     "output_type": "stream",
     "text": [
      "Epoch 930/1000: 100%|██████████| 66/66 [00:00<00:00, 462.85it/s]\n"
     ]
    },
    {
     "name": "stdout",
     "output_type": "stream",
     "text": [
      "Epoch 930, Loss: 2.6662539970694166\n"
     ]
    },
    {
     "name": "stderr",
     "output_type": "stream",
     "text": [
      "Epoch 931/1000: 100%|██████████| 66/66 [00:00<00:00, 413.38it/s]\n"
     ]
    },
    {
     "name": "stdout",
     "output_type": "stream",
     "text": [
      "Epoch 931, Loss: 2.735259486418782\n"
     ]
    },
    {
     "name": "stderr",
     "output_type": "stream",
     "text": [
      "Epoch 932/1000: 100%|██████████| 66/66 [00:00<00:00, 357.94it/s]\n"
     ]
    },
    {
     "name": "stdout",
     "output_type": "stream",
     "text": [
      "Epoch 932, Loss: 2.588105005522569\n"
     ]
    },
    {
     "name": "stderr",
     "output_type": "stream",
     "text": [
      "Epoch 933/1000: 100%|██████████| 66/66 [00:00<00:00, 390.06it/s]\n"
     ]
    },
    {
     "name": "stdout",
     "output_type": "stream",
     "text": [
      "Epoch 933, Loss: 2.614885156353315\n"
     ]
    },
    {
     "name": "stderr",
     "output_type": "stream",
     "text": [
      "Epoch 934/1000: 100%|██████████| 66/66 [00:00<00:00, 555.36it/s]\n"
     ]
    },
    {
     "name": "stdout",
     "output_type": "stream",
     "text": [
      "Epoch 934, Loss: 2.6045637783227544\n"
     ]
    },
    {
     "name": "stderr",
     "output_type": "stream",
     "text": [
      "Epoch 935/1000: 100%|██████████| 66/66 [00:00<00:00, 417.67it/s]\n"
     ]
    },
    {
     "name": "stdout",
     "output_type": "stream",
     "text": [
      "Epoch 935, Loss: 2.740745230606108\n"
     ]
    },
    {
     "name": "stderr",
     "output_type": "stream",
     "text": [
      "Epoch 936/1000: 100%|██████████| 66/66 [00:00<00:00, 406.94it/s]\n"
     ]
    },
    {
     "name": "stdout",
     "output_type": "stream",
     "text": [
      "Epoch 936, Loss: 2.6262166064345474\n"
     ]
    },
    {
     "name": "stderr",
     "output_type": "stream",
     "text": [
      "Epoch 937/1000: 100%|██████████| 66/66 [00:00<00:00, 389.82it/s]\n"
     ]
    },
    {
     "name": "stdout",
     "output_type": "stream",
     "text": [
      "Epoch 937, Loss: 2.5260193198919296\n"
     ]
    },
    {
     "name": "stderr",
     "output_type": "stream",
     "text": [
      "Epoch 938/1000: 100%|██████████| 66/66 [00:00<00:00, 325.12it/s]\n"
     ]
    },
    {
     "name": "stdout",
     "output_type": "stream",
     "text": [
      "Epoch 938, Loss: 2.6805266798897223\n"
     ]
    },
    {
     "name": "stderr",
     "output_type": "stream",
     "text": [
      "Epoch 939/1000: 100%|██████████| 66/66 [00:00<00:00, 326.40it/s]\n"
     ]
    },
    {
     "name": "stdout",
     "output_type": "stream",
     "text": [
      "Epoch 939, Loss: 2.5885662147493074\n"
     ]
    },
    {
     "name": "stderr",
     "output_type": "stream",
     "text": [
      "Epoch 940/1000: 100%|██████████| 66/66 [00:00<00:00, 594.30it/s]\n"
     ]
    },
    {
     "name": "stdout",
     "output_type": "stream",
     "text": [
      "Epoch 940, Loss: 2.6094974157485096\n"
     ]
    },
    {
     "name": "stderr",
     "output_type": "stream",
     "text": [
      "Epoch 941/1000: 100%|██████████| 66/66 [00:00<00:00, 407.50it/s]\n"
     ]
    },
    {
     "name": "stdout",
     "output_type": "stream",
     "text": [
      "Epoch 941, Loss: 2.6794628171306667\n"
     ]
    },
    {
     "name": "stderr",
     "output_type": "stream",
     "text": [
      "Epoch 942/1000: 100%|██████████| 66/66 [00:00<00:00, 326.46it/s]\n"
     ]
    },
    {
     "name": "stdout",
     "output_type": "stream",
     "text": [
      "Epoch 942, Loss: 2.576741403702534\n"
     ]
    },
    {
     "name": "stderr",
     "output_type": "stream",
     "text": [
      "Epoch 943/1000: 100%|██████████| 66/66 [00:00<00:00, 325.03it/s]\n"
     ]
    },
    {
     "name": "stdout",
     "output_type": "stream",
     "text": [
      "Epoch 943, Loss: 2.6112812369158775\n"
     ]
    },
    {
     "name": "stderr",
     "output_type": "stream",
     "text": [
      "Epoch 944/1000: 100%|██████████| 66/66 [00:00<00:00, 324.54it/s]\n"
     ]
    },
    {
     "name": "stdout",
     "output_type": "stream",
     "text": [
      "Epoch 944, Loss: 2.7658243387034447\n"
     ]
    },
    {
     "name": "stderr",
     "output_type": "stream",
     "text": [
      "Epoch 945/1000: 100%|██████████| 66/66 [00:00<00:00, 327.31it/s]\n"
     ]
    },
    {
     "name": "stdout",
     "output_type": "stream",
     "text": [
      "Epoch 945, Loss: 2.6128276656522895\n"
     ]
    },
    {
     "name": "stderr",
     "output_type": "stream",
     "text": [
      "Epoch 946/1000: 100%|██████████| 66/66 [00:00<00:00, 356.16it/s]\n"
     ]
    },
    {
     "name": "stdout",
     "output_type": "stream",
     "text": [
      "Epoch 946, Loss: 2.6286849302775934\n"
     ]
    },
    {
     "name": "stderr",
     "output_type": "stream",
     "text": [
      "Epoch 947/1000: 100%|██████████| 66/66 [00:00<00:00, 322.75it/s]\n"
     ]
    },
    {
     "name": "stdout",
     "output_type": "stream",
     "text": [
      "Epoch 947, Loss: 2.601658107656421\n"
     ]
    },
    {
     "name": "stderr",
     "output_type": "stream",
     "text": [
      "Epoch 948/1000: 100%|██████████| 66/66 [00:00<00:00, 324.87it/s]\n"
     ]
    },
    {
     "name": "stdout",
     "output_type": "stream",
     "text": [
      "Epoch 948, Loss: 2.5850665214838404\n"
     ]
    },
    {
     "name": "stderr",
     "output_type": "stream",
     "text": [
      "Epoch 949/1000: 100%|██████████| 66/66 [00:00<00:00, 324.97it/s]\n"
     ]
    },
    {
     "name": "stdout",
     "output_type": "stream",
     "text": [
      "Epoch 949, Loss: 2.7462144514376465\n"
     ]
    },
    {
     "name": "stderr",
     "output_type": "stream",
     "text": [
      "Epoch 950/1000: 100%|██████████| 66/66 [00:00<00:00, 322.10it/s]\n"
     ]
    },
    {
     "name": "stdout",
     "output_type": "stream",
     "text": [
      "Epoch 950, Loss: 2.6381958508581826\n"
     ]
    },
    {
     "name": "stderr",
     "output_type": "stream",
     "text": [
      "Epoch 951/1000: 100%|██████████| 66/66 [00:00<00:00, 322.66it/s]\n"
     ]
    },
    {
     "name": "stdout",
     "output_type": "stream",
     "text": [
      "Epoch 951, Loss: 2.60068911155968\n"
     ]
    },
    {
     "name": "stderr",
     "output_type": "stream",
     "text": [
      "Epoch 952/1000: 100%|██████████| 66/66 [00:00<00:00, 391.76it/s]\n"
     ]
    },
    {
     "name": "stdout",
     "output_type": "stream",
     "text": [
      "Epoch 952, Loss: 2.6330564706162973\n"
     ]
    },
    {
     "name": "stderr",
     "output_type": "stream",
     "text": [
      "Epoch 953/1000: 100%|██████████| 66/66 [00:00<00:00, 328.68it/s]\n"
     ]
    },
    {
     "name": "stdout",
     "output_type": "stream",
     "text": [
      "Epoch 953, Loss: 2.575703431485277\n"
     ]
    },
    {
     "name": "stderr",
     "output_type": "stream",
     "text": [
      "Epoch 954/1000: 100%|██████████| 66/66 [00:00<00:00, 327.17it/s]\n"
     ]
    },
    {
     "name": "stdout",
     "output_type": "stream",
     "text": [
      "Epoch 954, Loss: 2.6513737898432845\n"
     ]
    },
    {
     "name": "stderr",
     "output_type": "stream",
     "text": [
      "Epoch 955/1000: 100%|██████████| 66/66 [00:00<00:00, 327.57it/s]\n"
     ]
    },
    {
     "name": "stdout",
     "output_type": "stream",
     "text": [
      "Epoch 955, Loss: 2.5668022413596963\n"
     ]
    },
    {
     "name": "stderr",
     "output_type": "stream",
     "text": [
      "Epoch 956/1000: 100%|██████████| 66/66 [00:00<00:00, 326.37it/s]\n"
     ]
    },
    {
     "name": "stdout",
     "output_type": "stream",
     "text": [
      "Epoch 956, Loss: 2.5817473912329385\n"
     ]
    },
    {
     "name": "stderr",
     "output_type": "stream",
     "text": [
      "Epoch 957/1000: 100%|██████████| 66/66 [00:00<00:00, 405.96it/s]\n"
     ]
    },
    {
     "name": "stdout",
     "output_type": "stream",
     "text": [
      "Epoch 957, Loss: 2.5799593932249327\n"
     ]
    },
    {
     "name": "stderr",
     "output_type": "stream",
     "text": [
      "Epoch 958/1000: 100%|██████████| 66/66 [00:00<00:00, 325.29it/s]\n"
     ]
    },
    {
     "name": "stdout",
     "output_type": "stream",
     "text": [
      "Epoch 958, Loss: 2.6200218270673896\n"
     ]
    },
    {
     "name": "stderr",
     "output_type": "stream",
     "text": [
      "Epoch 959/1000: 100%|██████████| 66/66 [00:00<00:00, 326.97it/s]\n"
     ]
    },
    {
     "name": "stdout",
     "output_type": "stream",
     "text": [
      "Epoch 959, Loss: 2.646361278539354\n"
     ]
    },
    {
     "name": "stderr",
     "output_type": "stream",
     "text": [
      "Epoch 960/1000: 100%|██████████| 66/66 [00:00<00:00, 326.99it/s]\n"
     ]
    },
    {
     "name": "stdout",
     "output_type": "stream",
     "text": [
      "Epoch 960, Loss: 2.640064076943831\n"
     ]
    },
    {
     "name": "stderr",
     "output_type": "stream",
     "text": [
      "Epoch 961/1000: 100%|██████████| 66/66 [00:00<00:00, 327.36it/s]\n"
     ]
    },
    {
     "name": "stdout",
     "output_type": "stream",
     "text": [
      "Epoch 961, Loss: 2.58516657375025\n"
     ]
    },
    {
     "name": "stderr",
     "output_type": "stream",
     "text": [
      "Epoch 962/1000: 100%|██████████| 66/66 [00:00<00:00, 327.18it/s]\n"
     ]
    },
    {
     "name": "stdout",
     "output_type": "stream",
     "text": [
      "Epoch 962, Loss: 2.590201252337658\n"
     ]
    },
    {
     "name": "stderr",
     "output_type": "stream",
     "text": [
      "Epoch 963/1000: 100%|██████████| 66/66 [00:00<00:00, 327.71it/s]\n"
     ]
    },
    {
     "name": "stdout",
     "output_type": "stream",
     "text": [
      "Epoch 963, Loss: 2.5811663726062486\n"
     ]
    },
    {
     "name": "stderr",
     "output_type": "stream",
     "text": [
      "Epoch 964/1000: 100%|██████████| 66/66 [00:00<00:00, 326.53it/s]\n"
     ]
    },
    {
     "name": "stdout",
     "output_type": "stream",
     "text": [
      "Epoch 964, Loss: 2.558631572759513\n"
     ]
    },
    {
     "name": "stderr",
     "output_type": "stream",
     "text": [
      "Epoch 965/1000: 100%|██████████| 66/66 [00:00<00:00, 327.14it/s]\n"
     ]
    },
    {
     "name": "stdout",
     "output_type": "stream",
     "text": [
      "Epoch 965, Loss: 2.594626499396382\n"
     ]
    },
    {
     "name": "stderr",
     "output_type": "stream",
     "text": [
      "Epoch 966/1000: 100%|██████████| 66/66 [00:00<00:00, 327.05it/s]\n"
     ]
    },
    {
     "name": "stdout",
     "output_type": "stream",
     "text": [
      "Epoch 966, Loss: 2.6741845474550217\n"
     ]
    },
    {
     "name": "stderr",
     "output_type": "stream",
     "text": [
      "Epoch 967/1000: 100%|██████████| 66/66 [00:00<00:00, 326.81it/s]\n"
     ]
    },
    {
     "name": "stdout",
     "output_type": "stream",
     "text": [
      "Epoch 967, Loss: 2.6816743781620804\n"
     ]
    },
    {
     "name": "stderr",
     "output_type": "stream",
     "text": [
      "Epoch 968/1000: 100%|██████████| 66/66 [00:00<00:00, 327.42it/s]\n"
     ]
    },
    {
     "name": "stdout",
     "output_type": "stream",
     "text": [
      "Epoch 968, Loss: 2.7381096191026946\n"
     ]
    },
    {
     "name": "stderr",
     "output_type": "stream",
     "text": [
      "Epoch 969/1000: 100%|██████████| 66/66 [00:00<00:00, 327.15it/s]\n"
     ]
    },
    {
     "name": "stdout",
     "output_type": "stream",
     "text": [
      "Epoch 969, Loss: 2.6698294988635816\n"
     ]
    },
    {
     "name": "stderr",
     "output_type": "stream",
     "text": [
      "Epoch 970/1000: 100%|██████████| 66/66 [00:00<00:00, 370.61it/s]\n"
     ]
    },
    {
     "name": "stdout",
     "output_type": "stream",
     "text": [
      "Epoch 970, Loss: 2.6448069510586336\n"
     ]
    },
    {
     "name": "stderr",
     "output_type": "stream",
     "text": [
      "Epoch 971/1000: 100%|██████████| 66/66 [00:00<00:00, 340.73it/s]\n"
     ]
    },
    {
     "name": "stdout",
     "output_type": "stream",
     "text": [
      "Epoch 971, Loss: 2.590178061841112\n"
     ]
    },
    {
     "name": "stderr",
     "output_type": "stream",
     "text": [
      "Epoch 972/1000: 100%|██████████| 66/66 [00:00<00:00, 361.62it/s]\n"
     ]
    },
    {
     "name": "stdout",
     "output_type": "stream",
     "text": [
      "Epoch 972, Loss: 2.5996427070913892\n"
     ]
    },
    {
     "name": "stderr",
     "output_type": "stream",
     "text": [
      "Epoch 973/1000: 100%|██████████| 66/66 [00:00<00:00, 334.16it/s]\n"
     ]
    },
    {
     "name": "stdout",
     "output_type": "stream",
     "text": [
      "Epoch 973, Loss: 2.6680375016999966\n"
     ]
    },
    {
     "name": "stderr",
     "output_type": "stream",
     "text": [
      "Epoch 974/1000: 100%|██████████| 66/66 [00:00<00:00, 500.52it/s]\n"
     ]
    },
    {
     "name": "stdout",
     "output_type": "stream",
     "text": [
      "Epoch 974, Loss: 2.633128139331485\n"
     ]
    },
    {
     "name": "stderr",
     "output_type": "stream",
     "text": [
      "Epoch 975/1000: 100%|██████████| 66/66 [00:00<00:00, 466.71it/s]\n"
     ]
    },
    {
     "name": "stdout",
     "output_type": "stream",
     "text": [
      "Epoch 975, Loss: 2.5726329747474557\n"
     ]
    },
    {
     "name": "stderr",
     "output_type": "stream",
     "text": [
      "Epoch 976/1000: 100%|██████████| 66/66 [00:00<00:00, 386.59it/s]\n"
     ]
    },
    {
     "name": "stdout",
     "output_type": "stream",
     "text": [
      "Epoch 976, Loss: 2.5600393082607877\n"
     ]
    },
    {
     "name": "stderr",
     "output_type": "stream",
     "text": [
      "Epoch 977/1000: 100%|██████████| 66/66 [00:00<00:00, 388.92it/s]\n"
     ]
    },
    {
     "name": "stdout",
     "output_type": "stream",
     "text": [
      "Epoch 977, Loss: 2.665181008478006\n"
     ]
    },
    {
     "name": "stderr",
     "output_type": "stream",
     "text": [
      "Epoch 978/1000: 100%|██████████| 66/66 [00:00<00:00, 311.81it/s]\n"
     ]
    },
    {
     "name": "stdout",
     "output_type": "stream",
     "text": [
      "Epoch 978, Loss: 2.569218442972862\n"
     ]
    },
    {
     "name": "stderr",
     "output_type": "stream",
     "text": [
      "Epoch 979/1000: 100%|██████████| 66/66 [00:00<00:00, 476.25it/s]\n"
     ]
    },
    {
     "name": "stdout",
     "output_type": "stream",
     "text": [
      "Epoch 979, Loss: 2.645103608116959\n"
     ]
    },
    {
     "name": "stderr",
     "output_type": "stream",
     "text": [
      "Epoch 980/1000: 100%|██████████| 66/66 [00:00<00:00, 333.64it/s]\n"
     ]
    },
    {
     "name": "stdout",
     "output_type": "stream",
     "text": [
      "Epoch 980, Loss: 2.6342058504621186\n"
     ]
    },
    {
     "name": "stderr",
     "output_type": "stream",
     "text": [
      "Epoch 981/1000: 100%|██████████| 66/66 [00:00<00:00, 325.58it/s]\n"
     ]
    },
    {
     "name": "stdout",
     "output_type": "stream",
     "text": [
      "Epoch 981, Loss: 2.573625060870792\n"
     ]
    },
    {
     "name": "stderr",
     "output_type": "stream",
     "text": [
      "Epoch 982/1000: 100%|██████████| 66/66 [00:00<00:00, 325.90it/s]\n"
     ]
    },
    {
     "name": "stdout",
     "output_type": "stream",
     "text": [
      "Epoch 982, Loss: 2.6074215573343364\n"
     ]
    },
    {
     "name": "stderr",
     "output_type": "stream",
     "text": [
      "Epoch 983/1000: 100%|██████████| 66/66 [00:00<00:00, 324.41it/s]\n"
     ]
    },
    {
     "name": "stdout",
     "output_type": "stream",
     "text": [
      "Epoch 983, Loss: 2.5657697317726686\n"
     ]
    },
    {
     "name": "stderr",
     "output_type": "stream",
     "text": [
      "Epoch 984/1000: 100%|██████████| 66/66 [00:00<00:00, 332.54it/s]\n"
     ]
    },
    {
     "name": "stdout",
     "output_type": "stream",
     "text": [
      "Epoch 984, Loss: 2.558323882971749\n"
     ]
    },
    {
     "name": "stderr",
     "output_type": "stream",
     "text": [
      "Epoch 985/1000: 100%|██████████| 66/66 [00:00<00:00, 297.06it/s]\n"
     ]
    },
    {
     "name": "stdout",
     "output_type": "stream",
     "text": [
      "Epoch 985, Loss: 2.5522520198966516\n"
     ]
    },
    {
     "name": "stderr",
     "output_type": "stream",
     "text": [
      "Epoch 986/1000: 100%|██████████| 66/66 [00:00<00:00, 351.66it/s]\n"
     ]
    },
    {
     "name": "stdout",
     "output_type": "stream",
     "text": [
      "Epoch 986, Loss: 2.5841618448947417\n"
     ]
    },
    {
     "name": "stderr",
     "output_type": "stream",
     "text": [
      "Epoch 987/1000: 100%|██████████| 66/66 [00:00<00:00, 338.46it/s]\n"
     ]
    },
    {
     "name": "stdout",
     "output_type": "stream",
     "text": [
      "Epoch 987, Loss: 2.6321641951799393\n"
     ]
    },
    {
     "name": "stderr",
     "output_type": "stream",
     "text": [
      "Epoch 988/1000: 100%|██████████| 66/66 [00:00<00:00, 384.35it/s]\n"
     ]
    },
    {
     "name": "stdout",
     "output_type": "stream",
     "text": [
      "Epoch 988, Loss: 2.5563585017666672\n"
     ]
    },
    {
     "name": "stderr",
     "output_type": "stream",
     "text": [
      "Epoch 989/1000: 100%|██████████| 66/66 [00:00<00:00, 358.67it/s]\n"
     ]
    },
    {
     "name": "stdout",
     "output_type": "stream",
     "text": [
      "Epoch 989, Loss: 2.5454324303251323\n"
     ]
    },
    {
     "name": "stderr",
     "output_type": "stream",
     "text": [
      "Epoch 990/1000: 100%|██████████| 66/66 [00:00<00:00, 388.65it/s]\n"
     ]
    },
    {
     "name": "stdout",
     "output_type": "stream",
     "text": [
      "Epoch 990, Loss: 2.9017008089206437\n"
     ]
    },
    {
     "name": "stderr",
     "output_type": "stream",
     "text": [
      "Epoch 991/1000: 100%|██████████| 66/66 [00:00<00:00, 379.19it/s]\n"
     ]
    },
    {
     "name": "stdout",
     "output_type": "stream",
     "text": [
      "Epoch 991, Loss: 2.6429240744222295\n"
     ]
    },
    {
     "name": "stderr",
     "output_type": "stream",
     "text": [
      "Epoch 992/1000: 100%|██████████| 66/66 [00:00<00:00, 469.68it/s]\n"
     ]
    },
    {
     "name": "stdout",
     "output_type": "stream",
     "text": [
      "Epoch 992, Loss: 2.607033365377874\n"
     ]
    },
    {
     "name": "stderr",
     "output_type": "stream",
     "text": [
      "Epoch 993/1000: 100%|██████████| 66/66 [00:00<00:00, 363.85it/s]\n"
     ]
    },
    {
     "name": "stdout",
     "output_type": "stream",
     "text": [
      "Epoch 993, Loss: 2.598380309162718\n"
     ]
    },
    {
     "name": "stderr",
     "output_type": "stream",
     "text": [
      "Epoch 994/1000: 100%|██████████| 66/66 [00:00<00:00, 359.30it/s]\n"
     ]
    },
    {
     "name": "stdout",
     "output_type": "stream",
     "text": [
      "Epoch 994, Loss: 2.59319345190218\n"
     ]
    },
    {
     "name": "stderr",
     "output_type": "stream",
     "text": [
      "Epoch 995/1000: 100%|██████████| 66/66 [00:00<00:00, 396.82it/s]\n"
     ]
    },
    {
     "name": "stdout",
     "output_type": "stream",
     "text": [
      "Epoch 995, Loss: 2.551346956103137\n"
     ]
    },
    {
     "name": "stderr",
     "output_type": "stream",
     "text": [
      "Epoch 996/1000: 100%|██████████| 66/66 [00:00<00:00, 340.64it/s]\n"
     ]
    },
    {
     "name": "stdout",
     "output_type": "stream",
     "text": [
      "Epoch 996, Loss: 2.582694209773432\n"
     ]
    },
    {
     "name": "stderr",
     "output_type": "stream",
     "text": [
      "Epoch 997/1000: 100%|██████████| 66/66 [00:00<00:00, 447.30it/s]\n"
     ]
    },
    {
     "name": "stdout",
     "output_type": "stream",
     "text": [
      "Epoch 997, Loss: 2.551144195099672\n"
     ]
    },
    {
     "name": "stderr",
     "output_type": "stream",
     "text": [
      "Epoch 998/1000: 100%|██████████| 66/66 [00:00<00:00, 364.27it/s]\n"
     ]
    },
    {
     "name": "stdout",
     "output_type": "stream",
     "text": [
      "Epoch 998, Loss: 2.57592849297957\n"
     ]
    },
    {
     "name": "stderr",
     "output_type": "stream",
     "text": [
      "Epoch 999/1000: 100%|██████████| 66/66 [00:00<00:00, 325.38it/s]\n"
     ]
    },
    {
     "name": "stdout",
     "output_type": "stream",
     "text": [
      "Epoch 999, Loss: 2.5726544096162827\n"
     ]
    },
    {
     "name": "stderr",
     "output_type": "stream",
     "text": [
      "Epoch 1000/1000: 100%|██████████| 66/66 [00:00<00:00, 327.32it/s]"
     ]
    },
    {
     "name": "stdout",
     "output_type": "stream",
     "text": [
      "Epoch 1000, Loss: 2.645055868634672\n"
     ]
    },
    {
     "name": "stderr",
     "output_type": "stream",
     "text": [
      "\n"
     ]
    }
   ],
   "source": [
    "\n",
    "device = torch.device(\"cuda\" if torch.cuda.is_available() else \"cpu\")\n",
    "print(f\"Using device: {device}\")\n",
    "model.to(device)\n",
    "criterion = nn.MSELoss()\n",
    "lr=1e-3\n",
    "epochs=1000\n",
    "optimizer = optim.Adam(model.parameters(), lr=lr)\n",
    "losses = []\n",
    "\n",
    "for epoch in range(epochs):\n",
    "    model.train()\n",
    "    epoch_loss = 0\n",
    "\n",
    "    for x,y in tqdm(dataloader, desc=f\"Epoch {epoch+1}/{epochs}\"):\n",
    "        x, y = x.to(device), y.to(device)\n",
    "        x=x.float().unsqueeze(-1)\n",
    "        x = x.permute(0, 4, 1, 2, 3)  # (N, D, H, W, C) → (N, C, D, H, W)\n",
    "        y = y.permute(0, 4, 1, 2, 3)\n",
    "        optimizer.zero_grad()\n",
    "        outputs = model(x)\n",
    "        loss = criterion(outputs, y)\n",
    "        loss.backward()\n",
    "        optimizer.step()\n",
    "\n",
    "        epoch_loss += loss.item()\n",
    "    losses.append(epoch_loss / len(dataloader))\n",
    "    print(f\"Epoch {epoch+1}, Loss: {epoch_loss / len(dataloader)}\")"
   ]
  },
  {
   "cell_type": "code",
   "execution_count": 8,
   "metadata": {},
   "outputs": [
    {
     "data": {
      "image/png": "[encoded data removed]",
      "text/plain": [
       "<Figure size 640x480 with 1 Axes>"
      ]
     },
     "metadata": {},
     "output_type": "display_data"
    }
   ],
   "source": [
    "import matplotlib.pyplot as plt\n",
    "plt.plot(losses)\n",
    "plt.xlabel('Epoch')\n",
    "plt.ylabel('Loss')\n",
    "plt.yscale('log')\n",
    "plt.show()"
   ]
  },
  {
   "cell_type": "code",
   "execution_count": 9,
   "metadata": {},
   "outputs": [],
   "source": [
    "x,y = next(iter(dataloader))"
   ]
  },
  {
   "cell_type": "code",
   "execution_count": 10,
   "metadata": {},
   "outputs": [
    {
     "data": {
      "text/plain": [
       "tensor([[[[[-1.0057e+00, -1.1356e+00, -1.2078e+00,  ..., -1.0070e+00,\n",
       "            -9.8051e-01, -1.0508e+00],\n",
       "           [-9.2351e-01,  3.0430e-01,  4.4860e-01,  ...,  3.4437e-01,\n",
       "             2.4324e-01, -9.0465e-01],\n",
       "           [-9.2947e-01,  2.9370e-01,  4.3150e-01,  ...,  4.6267e-01,\n",
       "             3.4083e-01, -7.9635e-01],\n",
       "           ...,\n",
       "           [-9.7852e-01,  4.9396e-01,  4.7700e-01,  ...,  3.9296e-01,\n",
       "             3.6240e-01, -6.6964e-01],\n",
       "           [-9.6659e-01,  5.0346e-01,  4.4885e-01,  ...,  3.1236e-01,\n",
       "             3.8302e-01, -7.2623e-01],\n",
       "           [-9.9287e-01, -1.0448e+00, -9.6395e-01,  ..., -9.6062e-01,\n",
       "            -9.7719e-01, -9.4803e-01]],\n",
       "\n",
       "          [[-1.1661e+00, -1.5684e+00, -1.6002e+00,  ..., -1.1674e+00,\n",
       "            -1.2834e+00, -1.1303e+00],\n",
       "           [-9.8382e-01,  1.4175e-03,  3.4806e-01,  ...,  5.4702e-01,\n",
       "             1.0806e-01, -1.1104e+00],\n",
       "           [-1.0514e+00, -5.8548e-02,  3.8176e-01,  ...,  5.9041e-01,\n",
       "             3.8861e-01, -9.7155e-01],\n",
       "           ...,\n",
       "           [-1.0355e+00,  2.0594e-01,  5.2412e-01,  ...,  5.2447e-01,\n",
       "             5.9849e-01, -9.6432e-01],\n",
       "           [-1.0475e+00,  1.8110e-01,  4.5723e-01,  ...,  5.3983e-01,\n",
       "             4.8595e-01, -1.0349e+00],\n",
       "           [-1.0342e+00, -1.1277e+00, -1.0647e+00,  ..., -1.1131e+00,\n",
       "            -1.1303e+00, -1.0773e+00]],\n",
       "\n",
       "          [[-1.1111e+00, -1.5141e+00, -1.4438e+00,  ..., -1.1157e+00,\n",
       "            -1.2774e+00, -1.0634e+00],\n",
       "           [-1.0627e+00, -5.3097e-02,  4.5136e-01,  ...,  5.7994e-01,\n",
       "             3.5530e-01, -1.1455e+00],\n",
       "           [-1.1489e+00, -2.5076e-01,  1.0591e-01,  ...,  6.2671e-01,\n",
       "             5.9136e-01, -1.0421e+00],\n",
       "           ...,\n",
       "           [-1.0600e+00,  3.9394e-01,  7.0249e-01,  ...,  7.0797e-01,\n",
       "             8.4031e-01, -1.1011e+00],\n",
       "           [-1.1230e+00,  1.0584e-01,  4.3144e-01,  ...,  6.8985e-01,\n",
       "             6.2008e-01, -1.1608e+00],\n",
       "           [-1.0223e+00, -1.0786e+00, -1.0488e+00,  ..., -1.1721e+00,\n",
       "            -1.2112e+00, -1.0799e+00]],\n",
       "\n",
       "          ...,\n",
       "\n",
       "          [[-1.0534e+00, -1.0885e+00, -1.0653e+00,  ..., -9.6990e-01,\n",
       "            -1.0329e+00, -1.0521e+00],\n",
       "           [-1.0826e+00,  7.3675e-02,  5.8074e-01,  ...,  1.0818e+00,\n",
       "             8.3314e-01, -9.6659e-01],\n",
       "           [-9.9178e-01, -4.5520e-03,  5.1831e-01,  ...,  1.1310e+00,\n",
       "             9.3057e-01, -8.3983e-01],\n",
       "           ...,\n",
       "           [-1.0289e+00, -1.0925e+00, -9.6990e-01,  ...,  1.2772e+00,\n",
       "             1.1618e+00, -9.5259e-01],\n",
       "           [-1.0037e+00, -1.0309e+00, -9.7322e-01,  ...,  1.3681e+00,\n",
       "             1.2209e+00, -1.1210e+00],\n",
       "           [-8.2276e-01, -9.2483e-01, -9.1820e-01,  ..., -1.1475e+00,\n",
       "            -1.2609e+00, -1.0494e+00]],\n",
       "\n",
       "          [[-1.0620e+00, -1.0508e+00, -1.0296e+00,  ..., -9.0031e-01,\n",
       "            -8.4377e-01, -1.0402e+00],\n",
       "           [-1.0620e+00,  9.1016e-02,  7.0013e-01,  ...,  1.0968e+00,\n",
       "             7.0387e-01, -1.0653e+00],\n",
       "           [-1.0620e+00,  4.5519e-02,  6.3490e-01,  ...,  1.1583e+00,\n",
       "             9.1003e-01, -9.8336e-01],\n",
       "           ...,\n",
       "           [-9.7587e-01, -1.0826e+00, -1.0044e+00,  ...,  1.3582e+00,\n",
       "             1.2551e+00, -1.1078e+00],\n",
       "           [-9.6990e-01, -1.0262e+00, -1.0183e+00,  ...,  1.4084e+00,\n",
       "             1.1961e+00, -1.0885e+00],\n",
       "           [-7.9691e-01, -8.8970e-01, -9.0493e-01,  ..., -1.1449e+00,\n",
       "            -1.2456e+00, -1.0647e+00]],\n",
       "\n",
       "          [[-9.5665e-01, -1.0852e+00, -1.0687e+00,  ..., -1.0315e+00,\n",
       "            -1.0420e+00, -7.7356e-01],\n",
       "           [-1.1124e+00, -1.1184e+00, -1.0620e+00,  ..., -9.8183e-01,\n",
       "            -9.8932e-01, -9.2748e-01],\n",
       "           [-1.0760e+00, -1.1793e+00, -1.0846e+00,  ..., -9.7805e-01,\n",
       "            -1.0226e+00, -9.4273e-01],\n",
       "           ...,\n",
       "           [-8.7313e-01, -9.1489e-01, -9.4737e-01,  ..., -1.0395e+00,\n",
       "            -1.0284e+00, -1.0813e+00],\n",
       "           [-7.8233e-01, -8.3403e-01, -9.2284e-01,  ..., -7.5669e-01,\n",
       "            -7.4995e-01, -1.0773e+00],\n",
       "           [-6.2057e-01, -7.1426e-01, -6.3547e-01,  ..., -1.1396e+00,\n",
       "            -1.1575e+00, -8.0014e-01]]],\n",
       "\n",
       "\n",
       "         [[[-2.1388e-02, -2.3539e-02, -2.4736e-02,  ..., -2.1410e-02,\n",
       "            -2.0971e-02, -2.2135e-02],\n",
       "           [-2.0028e-02, -1.5488e-02,  4.1226e-02,  ...,  8.8440e-03,\n",
       "             1.1829e-01, -2.0334e-02],\n",
       "           [-2.0126e-02, -1.5202e-02, -1.8917e-02,  ...,  3.2866e-02,\n",
       "             9.9034e-02, -5.1282e-04],\n",
       "           ...,\n",
       "           [-2.0938e-02,  5.5681e-02,  4.8727e-02,  ...,  3.4570e-02,\n",
       "             2.7834e-01,  1.9426e-02],\n",
       "           [-2.0741e-02, -2.9304e-01, -9.4639e-02,  ..., -1.0587e-02,\n",
       "            -4.4966e-03, -2.1741e-02],\n",
       "           [-1.1404e-01, -2.2036e-02, -1.0399e-02,  ..., -2.0642e-02,\n",
       "            -2.0917e-02, -2.0434e-02]],\n",
       "\n",
       "          [[-2.4044e-02, -3.0706e-02, -3.1233e-02,  ..., -2.4066e-02,\n",
       "            -2.5987e-02, -2.3452e-02],\n",
       "           [-2.1026e-02, -7.3222e-03, -1.6668e-02,  ..., -2.2032e-02,\n",
       "             2.0727e-01, -2.3122e-02],\n",
       "           [-2.2146e-02, -5.7056e-03, -1.7576e-02,  ...,  2.5551e-02,\n",
       "             1.6193e-01, -2.0982e-02],\n",
       "           ...,\n",
       "           [-2.1882e-02,  2.3641e-01,  4.4789e-01,  ...,  6.2619e-02,\n",
       "             2.3120e-01, -2.2908e-02],\n",
       "           [-2.2080e-02, -6.7132e-02,  8.7088e-03,  ..., -1.3174e-03,\n",
       "             7.2424e-02, -2.1871e-02],\n",
       "           [-2.1860e-02, -2.3408e-02, -2.2365e-02,  ..., -2.3166e-02,\n",
       "            -2.3452e-02, -2.2574e-02]],\n",
       "\n",
       "          [[-2.3133e-02, -2.9806e-02, -2.8643e-02,  ..., -2.3210e-02,\n",
       "            -2.5888e-02, -2.2343e-02],\n",
       "           [-2.2332e-02, -7.0369e-03, -4.3256e-02,  ..., -1.2914e-02,\n",
       "             1.1494e-01, -2.3704e-02],\n",
       "           [-2.3759e-02, -8.8882e-03,  1.4500e-01,  ...,  1.4046e-01,\n",
       "             5.2987e-02, -2.1992e-02],\n",
       "           ...,\n",
       "           [-2.2288e-02,  1.9956e-01,  4.9804e-01,  ...,  1.7916e-01,\n",
       "             2.3519e-01, -2.2969e-02],\n",
       "           [-2.3331e-02, -1.6314e-02, -1.5430e-02,  ..., -3.0610e-02,\n",
       "             7.2615e-03, -2.3956e-02],\n",
       "           [-2.1663e-02, -2.2596e-02, -2.2102e-02,  ..., -2.4143e-02,\n",
       "            -2.4791e-02, -2.2618e-02]],\n",
       "\n",
       "          ...,\n",
       "\n",
       "          [[-2.2179e-02, -2.2760e-02, -2.2376e-02,  ..., -2.0796e-02,\n",
       "            -2.1838e-02, -2.2157e-02],\n",
       "           [-2.2661e-02, -3.6125e-02, -5.9816e-02,  ...,  3.2071e-01,\n",
       "             9.0823e-02, -2.0741e-02],\n",
       "           [-2.1158e-02, -1.4624e-01, -2.6668e-01,  ...,  2.3374e-01,\n",
       "             2.5412e-01, -2.4331e-02],\n",
       "           ...,\n",
       "           [-2.1773e-02, -2.2826e-02, -2.0796e-02,  ..., -2.6481e-01,\n",
       "             1.0030e-01, -2.5935e-02],\n",
       "           [-2.1355e-02, -2.1805e-02, -2.0851e-02,  ..., -8.7688e-02,\n",
       "            -2.8651e-02, -2.3298e-02],\n",
       "           [-1.8359e-02, -2.0050e-02, -1.9940e-02,  ..., -2.3737e-02,\n",
       "            -2.5614e-02, -2.2113e-02]],\n",
       "\n",
       "          [[-2.2321e-02, -2.2135e-02, -2.1784e-02,  ..., -1.9643e-02,\n",
       "            -2.2004e-02, -2.1959e-02],\n",
       "           [-2.2321e-02,  1.9101e-01,  3.0558e-03,  ...,  1.4966e-02,\n",
       "             4.0305e-02, -2.2376e-02],\n",
       "           [-2.2321e-02, -4.4024e-02, -7.1930e-02,  ...,  4.2143e-01,\n",
       "             2.7443e-01, -2.3837e-02],\n",
       "           ...,\n",
       "           [-2.0895e-02, -2.2661e-02, -2.1366e-02,  ..., -1.3776e-01,\n",
       "            -6.8142e-02, -2.3656e-02],\n",
       "           [-2.0796e-02, -2.1729e-02, -2.1597e-02,  ..., -4.6944e-02,\n",
       "            -3.9530e-02, -2.2760e-02],\n",
       "           [-1.7931e-02, -1.9468e-02, -2.4261e-02,  ..., -2.3693e-02,\n",
       "            -2.5361e-02, -2.2365e-02]],\n",
       "\n",
       "          [[-2.0576e-02, -2.2705e-02, -2.2431e-02,  ..., -2.1816e-02,\n",
       "             6.5027e-03, -1.0129e-02],\n",
       "           [-2.3155e-02, -2.3254e-02, -2.2321e-02,  ..., -2.0993e-02,\n",
       "            -6.3868e-03, -2.0093e-02],\n",
       "           [-2.2552e-02, -2.4264e-02, -2.2694e-02,  ..., -8.7811e-03,\n",
       "            -7.5194e-03, -2.0346e-02],\n",
       "           ...,\n",
       "           [-1.9193e-02, -1.9885e-02, -2.0423e-02,  ..., -2.1948e-02,\n",
       "            -2.2967e-02, -2.2640e-02],\n",
       "           [-1.7690e-02, -1.8546e-02, -2.0017e-02,  ..., -3.0525e-02,\n",
       "            -3.1773e-02, -2.2574e-02],\n",
       "           [-2.9659e-02, -7.7537e-02, -2.3303e-02,  ..., -2.3605e-02,\n",
       "            -2.3902e-02,  2.8859e-02]]],\n",
       "\n",
       "\n",
       "         [[[-1.0847e-01, -1.4064e-01, -1.5854e-01,  ..., -1.0880e-01,\n",
       "            -1.0223e-01, -1.1963e-01],\n",
       "           [-8.8116e-02,  9.1302e-03, -6.6947e-02,  ..., -1.7903e-01,\n",
       "            -6.7518e-02, -9.1550e-02],\n",
       "           [-8.9593e-02,  1.2547e-02, -3.1875e-02,  ..., -1.8316e-01,\n",
       "            -9.5454e-02, -1.6049e-01],\n",
       "           ...,\n",
       "           [-1.0174e-01, -1.2930e-01, -1.4058e-01,  ..., -1.9477e-01,\n",
       "            -1.9894e-01, -1.8959e-01],\n",
       "           [-9.8786e-02, -1.6758e-01, -1.1466e-01,  ..., -1.4435e-01,\n",
       "            -9.8308e-02, -1.0448e-01],\n",
       "           [-1.3433e-01, -1.1816e-01, -9.8584e-02,  ..., -9.7308e-02,\n",
       "            -1.0141e-01, -9.4190e-02]],\n",
       "\n",
       "          [[-1.4820e-01, -2.4784e-01, -2.5571e-01,  ..., -1.4852e-01,\n",
       "            -1.7725e-01, -1.3933e-01],\n",
       "           [-1.0305e-01,  1.0677e-01, -4.9764e-03,  ..., -6.9113e-02,\n",
       "            -6.8656e-02, -1.3441e-01],\n",
       "           [-1.1980e-01,  1.2610e-01, -1.5841e-02,  ..., -1.3250e-01,\n",
       "            -1.3980e-01, -1.0210e-01],\n",
       "           ...,\n",
       "           [-1.1586e-01, -5.6570e-02, -2.3983e-01,  ..., -2.1388e-01,\n",
       "            -1.6161e-01, -1.2710e-01],\n",
       "           [-1.1881e-01, -2.8085e-02, -8.9748e-02,  ..., -1.7017e-01,\n",
       "            -1.3031e-01, -1.1569e-01],\n",
       "           [-1.1553e-01, -1.3867e-01, -1.2308e-01,  ..., -1.3506e-01,\n",
       "            -1.3933e-01, -1.2620e-01]],\n",
       "\n",
       "          [[-1.3457e-01, -2.3437e-01, -2.1697e-01,  ..., -1.3572e-01,\n",
       "            -1.7577e-01, -1.2275e-01],\n",
       "           [-1.2259e-01,  1.0883e-01,  9.8000e-01,  ..., -8.9866e-02,\n",
       "            -9.0943e-02, -1.4311e-01],\n",
       "           [-1.4393e-01,  7.8498e-02,  8.8783e-02,  ..., -1.4290e-01,\n",
       "            -1.5846e-01, -1.1750e-01],\n",
       "           ...,\n",
       "           [-1.2193e-01, -1.7375e-01, -3.7097e-01,  ..., -2.6596e-01,\n",
       "            -2.4815e-01, -1.3211e-01],\n",
       "           [-1.3753e-01, -7.7939e-03, -8.9096e-02,  ..., -1.6117e-01,\n",
       "            -1.4242e-01, -1.4688e-01],\n",
       "           [-1.1257e-01, -1.2653e-01, -1.1914e-01,  ..., -1.4967e-01,\n",
       "            -1.5936e-01, -1.2686e-01]],\n",
       "\n",
       "          ...,\n",
       "\n",
       "          [[-1.2029e-01, -1.2899e-01, -1.2324e-01,  ..., -9.9607e-02,\n",
       "            -1.1520e-01, -1.1996e-01],\n",
       "           [-1.2751e-01,  1.2323e+00,  1.4975e+00,  ...,  6.0983e-01,\n",
       "             1.2457e-01, -9.8786e-02],\n",
       "           [-1.0502e-01,  1.2824e+00,  1.5004e+00,  ...,  4.3387e-01,\n",
       "             3.8161e-01, -1.4192e-01],\n",
       "           ...,\n",
       "           [-1.1422e-01, -1.2997e-01, -9.9607e-02,  ..., -1.9543e-02,\n",
       "             2.6521e-01, -1.6639e-01],\n",
       "           [-1.0798e-01, -1.1471e-01, -1.0043e-01,  ..., -1.0195e-01,\n",
       "            -2.7754e-01, -1.3703e-01],\n",
       "           [-6.3165e-02, -8.8444e-02, -8.6803e-02,  ..., -1.4360e-01,\n",
       "            -1.7167e-01, -1.1930e-01]],\n",
       "\n",
       "          [[-1.2242e-01, -1.1963e-01, -1.1438e-01,  ..., -8.2371e-02,\n",
       "            -1.1155e-01, -1.1701e-01],\n",
       "           [-1.2242e-01,  1.7960e+00,  2.0185e+00,  ...,  3.2851e-01,\n",
       "             7.7797e-02, -1.2324e-01],\n",
       "           [-1.2242e-01,  1.6118e+00,  1.9358e+00,  ...,  2.7326e-01,\n",
       "             7.7033e-02, -1.3985e-01],\n",
       "           ...,\n",
       "           [-1.0108e-01, -1.2751e-01, -1.0814e-01,  ...,  1.6407e-02,\n",
       "             8.1535e-02, -1.4131e-01],\n",
       "           [-9.9607e-02, -1.1356e-01, -1.1159e-01,  ..., -2.7454e-01,\n",
       "            -2.7835e-01, -1.2899e-01],\n",
       "           [-5.6763e-02, -7.9744e-02,  8.3323e-02,  ..., -1.4294e-01,\n",
       "            -1.6789e-01, -1.2308e-01]],\n",
       "\n",
       "          [[-9.6324e-02, -1.2817e-01, -1.2407e-01,  ..., -1.1487e-01,\n",
       "            -8.6458e-02, -4.2910e-02],\n",
       "           [-1.3490e-01, -1.3638e-01, -1.2242e-01,  ..., -1.0256e-01,\n",
       "            -1.0506e-01, -8.9101e-02],\n",
       "           [-1.2587e-01, -1.5148e-01, -1.2800e-01,  ..., -1.0216e-01,\n",
       "            -1.1328e-01, -9.2876e-02],\n",
       "           ...,\n",
       "           [-7.5640e-02, -8.5982e-02, -9.4025e-02,  ..., -1.1684e-01,\n",
       "            -1.2985e-01, -1.2718e-01],\n",
       "           [-5.3152e-02, -6.5956e-02, -8.7952e-02,  ..., -2.2048e-01,\n",
       "            -2.3663e-01, -1.2620e-01],\n",
       "           [-7.8720e-04, -1.7022e-02,  3.6328e-02,  ..., -1.4163e-01,\n",
       "            -1.4606e-01, -5.9620e-02]]],\n",
       "\n",
       "\n",
       "         [[[-9.4938e-01, -9.9361e-01, -1.0182e+00,  ..., -9.4983e-01,\n",
       "            -9.4081e-01, -9.6473e-01],\n",
       "           [-9.2140e-01, -6.9224e-01, -5.4808e-01,  ..., -3.7119e-01,\n",
       "             8.5573e-01, -9.2238e-01],\n",
       "           [-9.2343e-01, -6.9033e-01, -7.1514e-01,  ...,  8.3114e-01,\n",
       "             1.1250e+00, -9.5690e-01],\n",
       "           ...,\n",
       "           [-9.4013e-01, -7.4488e-01, -7.4507e-01,  ...,  6.4868e-01,\n",
       "             1.1557e-01, -9.5475e-01],\n",
       "           [-9.3607e-01, -1.0198e-01, -2.5714e-01,  ...,  1.4173e+00,\n",
       "             1.1780e+00, -9.1379e-01],\n",
       "           [-6.5889e-01, -9.6270e-01, -9.3504e-01,  ..., -9.3404e-01,\n",
       "            -9.3968e-01, -9.2975e-01]],\n",
       "\n",
       "          [[-1.0040e+00, -1.1410e+00, -1.1518e+00,  ..., -1.0044e+00,\n",
       "            -1.0439e+00, -9.9181e-01],\n",
       "           [-9.4193e-01, -6.3770e-01, -7.0012e-01,  ..., -7.3594e-01,\n",
       "             9.7268e-01, -9.8504e-01],\n",
       "           [-9.6495e-01, -6.2691e-01, -7.0618e-01,  ..., -7.5557e-01,\n",
       "             1.1991e+00, -9.3966e-01],\n",
       "           ...,\n",
       "           [-9.5954e-01, -6.8110e-01, -7.3894e-01,  ..., -2.7440e-01,\n",
       "             9.2199e-02, -9.6166e-01],\n",
       "           [-9.6360e-01, -6.1714e-01, -6.8630e-01,  ...,  1.4615e+00,\n",
       "             9.9993e-01, -9.5931e-01],\n",
       "           [-9.5908e-01, -9.9090e-01, -9.6947e-01,  ..., -9.8594e-01,\n",
       "            -9.9181e-01, -9.7375e-01]],\n",
       "\n",
       "          [[-9.8526e-01, -1.1225e+00, -1.0985e+00,  ..., -9.8684e-01,\n",
       "            -1.0419e+00, -9.6901e-01],\n",
       "           [-9.6879e-01, -6.4206e-01, -6.4365e-01,  ..., -7.4429e-01,\n",
       "             4.6392e-01, -9.9700e-01],\n",
       "           [-9.9812e-01, -6.9235e-01, -6.3411e-01,  ..., -7.4899e-01,\n",
       "             1.0273e+00, -9.6179e-01],\n",
       "           ...,\n",
       "           [-9.6789e-01, -7.4099e-01, -7.9319e-01,  ..., -7.8648e-01,\n",
       "             2.6481e-01, -9.8188e-01],\n",
       "           [-9.8932e-01, -7.3038e-01, -7.6698e-01,  ...,  7.0678e-01,\n",
       "             7.0929e-01, -1.0022e+00],\n",
       "           [-9.5502e-01, -9.7420e-01, -9.6405e-01,  ..., -1.0060e+00,\n",
       "            -1.0193e+00, -9.7466e-01]],\n",
       "\n",
       "          ...,\n",
       "\n",
       "          [[-9.6563e-01, -9.7759e-01, -9.6969e-01,  ..., -9.3720e-01,\n",
       "            -9.5863e-01, -9.6518e-01],\n",
       "           [-9.7556e-01, -5.6603e-01, -6.2572e-01,  ..., -8.2887e-01,\n",
       "            -7.8825e-01, -9.3607e-01],\n",
       "           [-9.4464e-01, -5.5558e-01, -6.3757e-01,  ..., -8.3159e-01,\n",
       "            -8.2561e-01, -9.6096e-01],\n",
       "           ...,\n",
       "           [-9.5728e-01, -9.7894e-01, -9.3720e-01,  ..., -9.0139e-01,\n",
       "            -8.6753e-01, -9.9620e-01],\n",
       "           [-9.4870e-01, -9.5796e-01, -9.3832e-01,  ..., -8.7419e-01,\n",
       "            -8.5774e-01, -9.8865e-01],\n",
       "           [-8.8710e-01, -9.2185e-01, -9.1959e-01,  ..., -9.9767e-01,\n",
       "            -1.0363e+00, -9.6427e-01]],\n",
       "\n",
       "          [[-9.6856e-01, -9.6473e-01, -9.5750e-01,  ..., -9.1350e-01,\n",
       "            -9.3369e-01, -9.6112e-01],\n",
       "           [-9.6856e-01, -5.6442e-01, -6.1354e-01,  ..., -8.0376e-01,\n",
       "            -7.6668e-01, -9.6969e-01],\n",
       "           [-9.6856e-01, -5.3366e-01, -6.0188e-01,  ..., -7.8541e-01,\n",
       "            -8.0872e-01, -9.7548e-01],\n",
       "           ...,\n",
       "           [-9.3923e-01, -9.7556e-01, -9.4893e-01,  ..., -8.9853e-01,\n",
       "            -8.5577e-01, -9.9104e-01],\n",
       "           [-9.3720e-01, -9.5638e-01, -9.5367e-01,  ..., -8.8570e-01,\n",
       "            -8.5279e-01, -9.7759e-01],\n",
       "           [-8.7830e-01, -9.0989e-01, -9.0818e-01,  ..., -9.9677e-01,\n",
       "            -1.0311e+00, -9.6947e-01]],\n",
       "\n",
       "          [[-9.3268e-01, -9.7646e-01, -9.7082e-01,  ..., -9.5818e-01,\n",
       "            -8.8525e-01, -8.5044e-01],\n",
       "           [-9.8571e-01, -9.8774e-01, -9.6856e-01,  ..., -9.4126e-01,\n",
       "            -9.4362e-01, -9.2275e-01],\n",
       "           [-9.7330e-01, -1.0085e+00, -9.7623e-01,  ..., -9.3982e-01,\n",
       "            -9.5496e-01, -9.2794e-01],\n",
       "           ...,\n",
       "           [-9.0425e-01, -9.1847e-01, -9.2952e-01,  ..., -9.6089e-01,\n",
       "            -9.7150e-01, -9.7511e-01],\n",
       "           [-8.7333e-01, -8.9093e-01, -9.2117e-01,  ..., -1.0232e+00,\n",
       "            -1.0372e+00, -9.7375e-01],\n",
       "           [-8.2164e-01, -7.0055e-01, -8.7668e-01,  ..., -9.9497e-01,\n",
       "            -1.0011e+00, -8.7881e-01]]],\n",
       "\n",
       "\n",
       "         [[[-1.0987e+00, -1.3476e+00, -1.4861e+00,  ..., -1.1012e+00,\n",
       "            -1.0504e+00, -1.1850e+00],\n",
       "           [-9.4114e-01,  7.2669e-01,  7.3207e-01,  ...,  5.1839e-01,\n",
       "             7.2337e-01, -9.3185e-01],\n",
       "           [-9.5257e-01,  7.2640e-01,  7.3023e-01,  ...,  7.4028e-01,\n",
       "             7.3862e-01, -9.6169e-01],\n",
       "           ...,\n",
       "           [-1.0466e+00,  7.3503e-01,  7.3524e-01,  ...,  7.3846e-01,\n",
       "             7.3762e-01, -8.4842e-01],\n",
       "           [-1.0237e+00,  7.3231e-01,  6.9957e-01,  ...,  5.2098e-01,\n",
       "             7.3934e-01, -7.7916e-01],\n",
       "           [-1.0954e+00, -1.1736e+00, -1.0239e+00,  ..., -1.0123e+00,\n",
       "            -1.0440e+00, -9.8814e-01]],\n",
       "\n",
       "          [[-1.4061e+00, -2.1771e+00, -2.2381e+00,  ..., -1.4086e+00,\n",
       "            -1.6309e+00, -1.3375e+00],\n",
       "           [-1.0567e+00,  7.1827e-01,  7.2791e-01,  ...,  7.3345e-01,\n",
       "             6.9981e-01, -1.2994e+00],\n",
       "           [-1.1863e+00,  7.1660e-01,  7.2885e-01,  ...,  7.3661e-01,\n",
       "             7.4085e-01, -1.0401e+00],\n",
       "           ...,\n",
       "           [-1.1558e+00,  7.2453e-01,  7.3308e-01,  ...,  7.3778e-01,\n",
       "             7.2958e-01, -1.1150e+00],\n",
       "           [-1.1787e+00,  5.3312e-01,  5.8362e-01,  ...,  7.0793e-01,\n",
       "             7.4195e-01, -1.1545e+00],\n",
       "           [-1.1533e+00, -1.3324e+00, -1.2117e+00,  ..., -1.3044e+00,\n",
       "            -1.3375e+00, -1.2358e+00]],\n",
       "\n",
       "          [[-1.3006e+00, -2.0730e+00, -1.9383e+00,  ..., -1.3095e+00,\n",
       "            -1.6195e+00, -1.2092e+00],\n",
       "           [-1.2079e+00,  6.6535e-01,  7.2893e-01,  ...,  7.3477e-01,\n",
       "             7.3549e-01, -1.3667e+00],\n",
       "           [-1.3730e+00,  3.4821e-01,  7.1690e-01,  ...,  7.3506e-01,\n",
       "             7.4502e-01, -1.1685e+00],\n",
       "           ...,\n",
       "           [-1.2028e+00,  7.3457e-01,  7.4171e-01,  ...,  7.4141e-01,\n",
       "             7.3337e-01, -1.2816e+00],\n",
       "           [-1.3235e+00,  4.5312e-01,  5.3770e-01,  ...,  7.0894e-01,\n",
       "             7.4009e-01, -1.3959e+00],\n",
       "           [-1.1304e+00, -1.2384e+00, -1.1812e+00,  ..., -1.4175e+00,\n",
       "            -1.4924e+00, -1.2409e+00]],\n",
       "\n",
       "          ...,\n",
       "\n",
       "          [[-1.1901e+00, -1.2574e+00, -1.2130e+00,  ..., -1.0301e+00,\n",
       "            -1.1507e+00, -1.1876e+00],\n",
       "           [-1.2460e+00,  7.1818e-01,  7.3151e-01,  ...,  7.6243e-01,\n",
       "             7.4587e-01, -1.0237e+00],\n",
       "           [-1.0720e+00,  7.1723e-01,  7.3550e-01,  ...,  7.5911e-01,\n",
       "             7.5866e-01, -1.0277e+00],\n",
       "           ...,\n",
       "           [-1.1431e+00, -1.2651e+00, -1.0301e+00,  ...,  7.6586e-01,\n",
       "             7.6497e-01, -1.2324e+00],\n",
       "           [-1.0948e+00, -1.1469e+00, -1.0364e+00,  ...,  7.5794e-01,\n",
       "             7.5254e-01, -1.3197e+00],\n",
       "           [-7.4805e-01, -9.4368e-01, -9.3097e-01,  ..., -1.3705e+00,\n",
       "            -1.5877e+00, -1.1825e+00]],\n",
       "\n",
       "          [[-1.2066e+00, -1.1850e+00, -1.1444e+00,  ..., -8.9667e-01,\n",
       "            -9.3141e-01, -1.1647e+00],\n",
       "           [-1.2066e+00,  6.6951e-01,  7.3622e-01,  ...,  7.5025e-01,\n",
       "             7.2159e-01, -1.2130e+00],\n",
       "           [-1.2066e+00,  7.1672e-01,  7.3218e-01,  ...,  7.4599e-01,\n",
       "             7.4952e-01, -1.1781e+00],\n",
       "           ...,\n",
       "           [-1.0415e+00, -1.2460e+00, -1.0961e+00,  ...,  7.6504e-01,\n",
       "             7.5710e-01, -1.3193e+00],\n",
       "           [-1.0301e+00, -1.1380e+00, -1.1228e+00,  ...,  7.5728e-01,\n",
       "             7.5151e-01, -1.2574e+00],\n",
       "           [-6.9851e-01, -8.7635e-01, -9.2716e-01,  ..., -1.3654e+00,\n",
       "            -1.5585e+00, -1.2117e+00]],\n",
       "\n",
       "          [[-1.0046e+00, -1.2511e+00, -1.2193e+00,  ..., -1.1482e+00,\n",
       "            -1.1597e+00, -6.5152e-01],\n",
       "           [-1.3032e+00, -1.3146e+00, -1.2066e+00,  ..., -1.0529e+00,\n",
       "            -1.0748e+00, -9.4876e-01],\n",
       "           [-1.2333e+00, -1.4315e+00, -1.2498e+00,  ..., -1.0519e+00,\n",
       "            -1.1383e+00, -9.7797e-01],\n",
       "           ...,\n",
       "           [-8.4459e-01, -9.2462e-01, -9.8687e-01,  ..., -1.1634e+00,\n",
       "            -1.1944e+00, -1.2435e+00],\n",
       "           [-6.7056e-01, -7.6965e-01, -9.3986e-01,  ..., -1.1969e+00,\n",
       "            -1.2430e+00, -1.2358e+00],\n",
       "           [-4.8267e-01, -5.4807e-01, -6.1537e-01,  ..., -1.3553e+00,\n",
       "            -1.3895e+00, -7.2870e-01]]]],\n",
       "\n",
       "\n",
       "\n",
       "        [[[[-9.3809e-01, -9.3345e-01, -1.0183e+00,  ..., -9.8647e-01,\n",
       "            -9.8051e-01, -1.0508e+00],\n",
       "           [-1.0594e+00,  2.2666e-01,  3.1447e-01,  ...,  4.2018e-01,\n",
       "             2.4324e-01, -9.0465e-01],\n",
       "           [-1.0415e+00,  2.2604e-01,  3.1657e-01,  ...,  4.7980e-01,\n",
       "             3.4083e-01, -7.9635e-01],\n",
       "           ...,\n",
       "           [-9.5333e-01,  4.5680e-01,  4.6386e-01,  ...,  3.9363e-01,\n",
       "             3.6240e-01, -6.6964e-01],\n",
       "           [-9.6659e-01,  5.0346e-01,  4.4885e-01,  ...,  3.1236e-01,\n",
       "             3.8302e-01, -7.2623e-01],\n",
       "           [-9.9287e-01, -1.0448e+00, -9.6395e-01,  ..., -9.6062e-01,\n",
       "            -9.7719e-01, -9.4803e-01]],\n",
       "\n",
       "          [[-1.0481e+00, -1.0806e+00, -1.1628e+00,  ..., -1.1058e+00,\n",
       "            -1.2834e+00, -1.1303e+00],\n",
       "           [-1.0773e+00, -9.7943e-02, -1.5669e-02,  ...,  5.7087e-01,\n",
       "             1.0806e-01, -1.1104e+00],\n",
       "           [-1.0620e+00, -1.6661e-01,  4.1943e-03,  ...,  5.8623e-01,\n",
       "             3.8861e-01, -9.7155e-01],\n",
       "           ...,\n",
       "           [-9.8912e-01,  1.5833e-01,  5.0066e-01,  ...,  6.1342e-01,\n",
       "             5.9849e-01, -9.6432e-01],\n",
       "           [-1.0475e+00,  1.8110e-01,  4.5723e-01,  ...,  5.3983e-01,\n",
       "             4.8595e-01, -1.0349e+00],\n",
       "           [-1.0342e+00, -1.1277e+00, -1.0647e+00,  ..., -1.1131e+00,\n",
       "            -1.1303e+00, -1.0773e+00]],\n",
       "\n",
       "          [[-1.0680e+00, -1.0468e+00, -1.0726e+00,  ..., -1.0521e+00,\n",
       "            -1.2774e+00, -1.0634e+00],\n",
       "           [-9.5731e-01, -1.3867e-01, -3.2793e-02,  ...,  4.5843e-01,\n",
       "             3.5530e-01, -1.1455e+00],\n",
       "           [-9.5068e-01, -1.3513e-01,  4.6298e-03,  ...,  4.7592e-01,\n",
       "             5.9136e-01, -1.0421e+00],\n",
       "           ...,\n",
       "           [-1.1018e+00,  2.9652e-01,  5.6556e-01,  ...,  8.5274e-01,\n",
       "             8.4031e-01, -1.1011e+00],\n",
       "           [-1.1230e+00,  1.0584e-01,  4.3144e-01,  ...,  6.8985e-01,\n",
       "             6.2008e-01, -1.1608e+00],\n",
       "           [-1.0223e+00, -1.0786e+00, -1.0488e+00,  ..., -1.1721e+00,\n",
       "            -1.2112e+00, -1.0799e+00]],\n",
       "\n",
       "          ...,\n",
       "\n",
       "          [[-1.0534e+00, -1.0885e+00, -1.0653e+00,  ..., -9.6990e-01,\n",
       "            -1.0329e+00, -1.0521e+00],\n",
       "           [-1.0826e+00,  7.3675e-02,  5.8074e-01,  ...,  1.0818e+00,\n",
       "             8.3314e-01, -9.6659e-01],\n",
       "           [-1.0899e+00, -5.8548e-02,  4.2199e-01,  ...,  1.1421e+00,\n",
       "             9.3057e-01, -8.3983e-01],\n",
       "           ...,\n",
       "           [-1.1555e+00, -4.4489e-01, -1.8981e-02,  ...,  1.2167e+00,\n",
       "             1.1618e+00, -9.5259e-01],\n",
       "           [-1.0388e+00, -1.9127e-01,  4.8167e-01,  ...,  1.3392e+00,\n",
       "             1.2209e+00, -1.1210e+00],\n",
       "           [-1.1548e+00, -1.4266e+00, -1.4140e+00,  ..., -1.0826e+00,\n",
       "            -1.2609e+00, -1.0494e+00]],\n",
       "\n",
       "          [[-1.0620e+00, -1.0508e+00, -1.0296e+00,  ..., -9.0031e-01,\n",
       "            -8.4377e-01, -1.0402e+00],\n",
       "           [-1.0620e+00,  9.1016e-02,  7.0013e-01,  ...,  1.0968e+00,\n",
       "             7.0387e-01, -1.0653e+00],\n",
       "           [-1.1144e+00, -4.9400e-02,  4.1476e-01,  ...,  1.1458e+00,\n",
       "             9.1003e-01, -9.8336e-01],\n",
       "           ...,\n",
       "           [-1.1084e+00, -5.5036e-01,  7.1769e-02,  ...,  1.2770e+00,\n",
       "             1.2551e+00, -1.1078e+00],\n",
       "           [-1.0302e+00, -4.1646e-01,  4.8571e-01,  ...,  1.3526e+00,\n",
       "             1.1961e+00, -1.0885e+00],\n",
       "           [-1.1528e+00, -1.4266e+00, -1.4359e+00,  ..., -1.0991e+00,\n",
       "            -1.2456e+00, -1.0647e+00]],\n",
       "\n",
       "          [[-9.5665e-01, -1.0852e+00, -1.0687e+00,  ..., -1.0315e+00,\n",
       "            -1.0420e+00, -7.7356e-01],\n",
       "           [-1.1124e+00, -1.1184e+00, -1.0620e+00,  ..., -9.8183e-01,\n",
       "            -9.8932e-01, -9.2748e-01],\n",
       "           [-1.0826e+00, -1.1330e+00, -1.0309e+00,  ..., -9.6924e-01,\n",
       "            -1.0226e+00, -9.4273e-01],\n",
       "           ...,\n",
       "           [-1.0402e+00, -1.2536e+00, -1.0297e+00,  ..., -1.0793e+00,\n",
       "            -1.0284e+00, -1.0813e+00],\n",
       "           [-1.1707e+00, -1.3318e+00, -1.2582e+00,  ..., -8.4559e-01,\n",
       "            -7.4995e-01, -1.0773e+00],\n",
       "           [-1.0130e+00, -1.2927e+00, -1.3000e+00,  ..., -1.1349e+00,\n",
       "            -1.1575e+00, -8.0014e-01]]],\n",
       "\n",
       "\n",
       "         [[[-2.0269e-02, -2.0192e-02, -2.1597e-02,  ..., -2.1070e-02,\n",
       "            -2.0971e-02, -2.2135e-02],\n",
       "           [-2.2277e-02, -1.3352e-01,  5.1554e-02,  ..., -1.0605e-01,\n",
       "             1.1829e-01, -2.0334e-02],\n",
       "           [-2.1981e-02, -2.6669e-02,  2.2518e-02,  ..., -8.3047e-02,\n",
       "             9.9034e-02, -5.1282e-04],\n",
       "           ...,\n",
       "           [-2.0521e-02,  7.4304e-02,  8.6274e-02,  ...,  2.7914e-02,\n",
       "             2.7834e-01,  1.9426e-02],\n",
       "           [-2.0741e-02, -2.9304e-01, -9.4639e-02,  ..., -1.0587e-02,\n",
       "            -4.4966e-03, -2.1741e-02],\n",
       "           [-1.1404e-01, -2.2036e-02, -1.0399e-02,  ..., -2.0642e-02,\n",
       "            -2.0917e-02, -2.0434e-02]],\n",
       "\n",
       "          [[-2.2091e-02, -2.2629e-02, -2.3989e-02,  ..., -2.3046e-02,\n",
       "            -2.5987e-02, -2.3452e-02],\n",
       "           [-2.2574e-02,  3.8602e-01,  3.4305e-01,  ..., -1.0786e-01,\n",
       "             2.0727e-01, -2.3122e-02],\n",
       "           [-2.2321e-02,  3.0529e-01,  2.4260e-01,  ..., -2.7007e-02,\n",
       "             1.6193e-01, -2.0982e-02],\n",
       "           ...,\n",
       "           [-2.1114e-02,  1.8284e-01,  4.0518e-01,  ...,  1.9070e-01,\n",
       "             2.3120e-01, -2.2908e-02],\n",
       "           [-2.2080e-02, -6.7132e-02,  8.7088e-03,  ..., -1.3174e-03,\n",
       "             7.2424e-02, -2.1871e-02],\n",
       "           [-2.1860e-02, -2.3408e-02, -2.2365e-02,  ..., -2.3166e-02,\n",
       "            -2.3452e-02, -2.2574e-02]],\n",
       "\n",
       "          [[-2.2420e-02, -2.2069e-02, -2.2497e-02,  ..., -2.2157e-02,\n",
       "            -2.5888e-02, -2.2343e-02],\n",
       "           [-2.0587e-02,  3.7681e-01,  3.5478e-01,  ...,  1.0982e-01,\n",
       "             1.1494e-01, -2.3704e-02],\n",
       "           [-2.0478e-02,  2.2271e-01,  4.2661e-01,  ...,  2.3328e-01,\n",
       "             5.2987e-02, -2.1992e-02],\n",
       "           ...,\n",
       "           [-2.2980e-02,  3.1303e-01,  5.6868e-01,  ...,  4.7383e-01,\n",
       "             2.3519e-01, -2.2969e-02],\n",
       "           [-2.3331e-02, -1.6314e-02, -1.5430e-02,  ..., -3.0610e-02,\n",
       "             7.2615e-03, -2.3956e-02],\n",
       "           [-2.1663e-02, -2.2596e-02, -2.2102e-02,  ..., -2.4143e-02,\n",
       "            -2.4791e-02, -2.2618e-02]],\n",
       "\n",
       "          ...,\n",
       "\n",
       "          [[-2.2179e-02, -2.2760e-02, -2.2376e-02,  ..., -2.0796e-02,\n",
       "            -2.1838e-02, -2.2157e-02],\n",
       "           [-2.2661e-02, -3.6125e-02, -5.9816e-02,  ...,  3.2071e-01,\n",
       "             9.0823e-02, -2.0741e-02],\n",
       "           [-2.2782e-02, -5.7056e-03, -1.8661e-02,  ...,  1.7952e-01,\n",
       "             2.5412e-01, -2.4331e-02],\n",
       "           ...,\n",
       "           [-2.3869e-02,  8.1430e-01,  5.5732e-01,  ..., -3.2932e-01,\n",
       "             1.0030e-01, -2.5935e-02],\n",
       "           [-2.1937e-02,  1.1758e-01, -1.0104e-01,  ..., -1.7843e-01,\n",
       "            -2.8651e-02, -2.3298e-02],\n",
       "           [-2.3858e-02, -2.8357e-02, -2.8149e-02,  ..., -2.2661e-02,\n",
       "            -2.5614e-02, -2.2113e-02]],\n",
       "\n",
       "          [[-2.2321e-02, -2.2135e-02, -2.1784e-02,  ..., -1.9643e-02,\n",
       "            -2.2004e-02, -2.1959e-02],\n",
       "           [-2.2321e-02,  1.9101e-01,  3.0558e-03,  ...,  1.4966e-02,\n",
       "             4.0305e-02, -2.2376e-02],\n",
       "           [-2.3188e-02, -9.2347e-03, -4.0157e-02,  ...,  3.9684e-01,\n",
       "             2.7443e-01, -2.3837e-02],\n",
       "           ...,\n",
       "           [-2.3089e-02,  5.2105e-01,  3.5579e-01,  ..., -1.3744e-01,\n",
       "            -6.8142e-02, -2.3656e-02],\n",
       "           [-2.1794e-02, -4.0363e-01, -6.0442e-01,  ..., -4.3751e-02,\n",
       "            -3.9530e-02, -2.2760e-02],\n",
       "           [-2.3825e-02, -2.8357e-02, -2.8511e-02,  ..., -2.2936e-02,\n",
       "            -2.5361e-02, -2.2365e-02]],\n",
       "\n",
       "          [[-2.0576e-02, -2.2705e-02, -2.2431e-02,  ..., -2.1816e-02,\n",
       "             6.5027e-03, -1.0129e-02],\n",
       "           [-2.3155e-02, -2.3254e-02, -2.2321e-02,  ..., -2.0993e-02,\n",
       "            -6.3868e-03, -2.0093e-02],\n",
       "           [-2.2661e-02, -2.3496e-02, -2.1805e-02,  ..., -2.0785e-02,\n",
       "            -7.5194e-03, -2.0346e-02],\n",
       "           ...,\n",
       "           [-2.1959e-02, -2.5493e-02,  5.9192e-01,  ..., -2.2607e-02,\n",
       "            -2.2967e-02, -2.2640e-02],\n",
       "           [-2.4121e-02, -2.6788e-02,  2.5700e-01,  ..., -2.9253e-02,\n",
       "            -3.1773e-02, -2.2574e-02],\n",
       "           [-2.1509e-02, -2.6140e-02, -2.6261e-02,  ..., -2.3528e-02,\n",
       "            -2.3902e-02,  2.8859e-02]]],\n",
       "\n",
       "\n",
       "         [[[-9.1727e-02, -9.0578e-02, -1.1159e-01,  ..., -1.0371e-01,\n",
       "            -1.0223e-01, -1.1963e-01],\n",
       "           [-1.2177e-01, -2.0294e-02, -8.7600e-02,  ..., -2.1495e-01,\n",
       "            -6.7518e-02, -9.1550e-02],\n",
       "           [-1.1733e-01, -1.1894e-01, -1.3317e-01,  ..., -1.5360e-01,\n",
       "            -9.5454e-02, -1.6049e-01],\n",
       "           ...,\n",
       "           [-9.5503e-02, -1.4182e-01, -1.4630e-01,  ..., -1.8451e-01,\n",
       "            -1.9894e-01, -1.8959e-01],\n",
       "           [-9.8786e-02, -1.6758e-01, -1.1466e-01,  ..., -1.4435e-01,\n",
       "            -9.8308e-02, -1.0448e-01],\n",
       "           [-1.3433e-01, -1.1816e-01, -9.8584e-02,  ..., -9.7308e-02,\n",
       "            -1.0141e-01, -9.4190e-02]],\n",
       "\n",
       "          [[-1.1898e-01, -1.2702e-01, -1.4737e-01,  ..., -1.3326e-01,\n",
       "            -1.7725e-01, -1.3933e-01],\n",
       "           [-1.2620e-01, -5.6327e-02,  1.3287e-03,  ..., -9.2706e-02,\n",
       "            -6.8656e-02, -1.3441e-01],\n",
       "           [-1.2242e-01, -1.4358e-01,  1.2499e-03,  ..., -1.4829e-01,\n",
       "            -1.3980e-01, -1.0210e-01],\n",
       "           ...,\n",
       "           [-1.0437e-01, -3.4814e-02, -2.0364e-01,  ..., -3.1775e-01,\n",
       "            -1.6161e-01, -1.2710e-01],\n",
       "           [-1.1881e-01, -2.8085e-02, -8.9748e-02,  ..., -1.7017e-01,\n",
       "            -1.3031e-01, -1.1569e-01],\n",
       "           [-1.1553e-01, -1.3867e-01, -1.2308e-01,  ..., -1.3506e-01,\n",
       "            -1.3933e-01, -1.2620e-01]],\n",
       "\n",
       "          [[-1.2390e-01, -1.1865e-01, -1.2505e-01,  ..., -1.1996e-01,\n",
       "            -1.7577e-01, -1.2275e-01],\n",
       "           [-9.6488e-02,  1.5433e-01,  7.1275e-01,  ...,  1.0179e-01,\n",
       "            -9.0943e-02, -1.4311e-01],\n",
       "           [-9.4846e-02,  9.5331e-02,  3.8894e-01,  ..., -3.7507e-02,\n",
       "            -1.5846e-01, -1.1750e-01],\n",
       "           ...,\n",
       "           [-1.3227e-01,  1.9542e-03, -1.7459e-01,  ..., -4.4044e-01,\n",
       "            -2.4815e-01, -1.3211e-01],\n",
       "           [-1.3753e-01, -7.7939e-03, -8.9096e-02,  ..., -1.6117e-01,\n",
       "            -1.4242e-01, -1.4688e-01],\n",
       "           [-1.1257e-01, -1.2653e-01, -1.1914e-01,  ..., -1.4967e-01,\n",
       "            -1.5936e-01, -1.2686e-01]],\n",
       "\n",
       "          ...,\n",
       "\n",
       "          [[-1.2029e-01, -1.2899e-01, -1.2324e-01,  ..., -9.9607e-02,\n",
       "            -1.1520e-01, -1.1996e-01],\n",
       "           [-1.2751e-01,  1.2323e+00,  1.4975e+00,  ...,  6.0983e-01,\n",
       "             1.2457e-01, -9.8786e-02],\n",
       "           [-1.2932e-01,  1.2610e-01, -2.8809e-02,  ...,  4.0660e-01,\n",
       "             3.8161e-01, -1.4192e-01],\n",
       "           ...,\n",
       "           [-1.4557e-01, -6.0938e-02,  1.8087e-01,  ..., -5.2713e-01,\n",
       "             2.6521e-01, -1.6639e-01],\n",
       "           [-1.1668e-01, -3.3632e-03,  1.2649e+00,  ..., -3.1524e-01,\n",
       "            -2.7754e-01, -1.3703e-01],\n",
       "           [-1.4540e-01, -2.1271e-01, -2.0959e-01,  ..., -1.2751e-01,\n",
       "            -1.7167e-01, -1.1930e-01]],\n",
       "\n",
       "          [[-1.2242e-01, -1.1963e-01, -1.1438e-01,  ..., -8.2371e-02,\n",
       "            -1.1155e-01, -1.1701e-01],\n",
       "           [-1.2242e-01,  1.7960e+00,  2.0185e+00,  ...,  3.2851e-01,\n",
       "             7.7797e-02, -1.2324e-01],\n",
       "           [-1.3539e-01,  2.6358e-01,  9.0147e-01,  ...,  3.6647e-01,\n",
       "             7.7033e-02, -1.3985e-01],\n",
       "           ...,\n",
       "           [-1.3391e-01, -1.8317e-01,  5.6451e-01,  ..., -2.8468e-01,\n",
       "             8.1535e-02, -1.4131e-01],\n",
       "           [-1.1454e-01,  1.1793e-01,  1.3689e+00,  ..., -3.2882e-01,\n",
       "            -2.7835e-01, -1.2899e-01],\n",
       "           [-1.4491e-01, -2.1271e-01, -2.1500e-01,  ..., -1.3162e-01,\n",
       "            -1.6789e-01, -1.2308e-01]],\n",
       "\n",
       "          [[-9.6324e-02, -1.2817e-01, -1.2407e-01,  ..., -1.1487e-01,\n",
       "            -8.6458e-02, -4.2910e-02],\n",
       "           [-1.3490e-01, -1.3638e-01, -1.2242e-01,  ..., -1.0256e-01,\n",
       "            -1.0506e-01, -8.9101e-02],\n",
       "           [-1.2751e-01, -1.3999e-01, -1.1471e-01,  ..., -9.9442e-02,\n",
       "            -1.1328e-01, -9.2876e-02],\n",
       "           ...,\n",
       "           [-1.1701e-01, -1.6986e-01, -2.6744e-01,  ..., -1.2669e-01,\n",
       "            -1.2985e-01, -1.2718e-01],\n",
       "           [-1.4934e-01, -1.8923e-01, -2.4147e-01,  ..., -2.0655e-01,\n",
       "            -2.3663e-01, -1.2620e-01],\n",
       "           [-1.1028e-01, -1.7955e-01, -1.8135e-01,  ..., -1.4048e-01,\n",
       "            -1.4606e-01, -5.9620e-02]]],\n",
       "\n",
       "\n",
       "         [[[-9.2636e-01, -9.2478e-01, -9.5367e-01,  ..., -9.4284e-01,\n",
       "            -9.4081e-01, -9.6473e-01],\n",
       "           [-9.6766e-01,  3.9686e+00,  3.5378e+00,  ...,  3.1419e+00,\n",
       "             8.5573e-01, -9.2238e-01],\n",
       "           [-9.6157e-01,  3.4263e+00,  4.0700e+00,  ...,  3.0376e+00,\n",
       "             1.1250e+00, -9.5690e-01],\n",
       "           ...,\n",
       "           [-9.3155e-01, -7.4448e-01, -7.4055e-01,  ...,  1.3778e+00,\n",
       "             1.1557e-01, -9.5475e-01],\n",
       "           [-9.3607e-01, -1.0198e-01, -2.5714e-01,  ...,  1.4173e+00,\n",
       "             1.1780e+00, -9.1379e-01],\n",
       "           [-6.5889e-01, -9.6270e-01, -9.3504e-01,  ..., -9.3404e-01,\n",
       "            -9.3968e-01, -9.2975e-01]],\n",
       "\n",
       "          [[-9.6382e-01, -9.7488e-01, -1.0029e+00,  ..., -9.8346e-01,\n",
       "            -1.0439e+00, -9.9181e-01],\n",
       "           [-9.7375e-01,  2.3816e+00,  2.8237e+00,  ...,  4.1938e+00,\n",
       "             9.7268e-01, -9.8504e-01],\n",
       "           [-9.6856e-01,  2.0988e+00,  3.7395e+00,  ...,  3.8763e+00,\n",
       "             1.1991e+00, -9.3966e-01],\n",
       "           ...,\n",
       "           [-9.4374e-01, -6.7467e-01, -7.2767e-01,  ...,  1.9542e+00,\n",
       "             9.2199e-02, -9.6166e-01],\n",
       "           [-9.6360e-01, -6.1714e-01, -6.8630e-01,  ...,  1.4615e+00,\n",
       "             9.9993e-01, -9.5931e-01],\n",
       "           [-9.5908e-01, -9.9090e-01, -9.6947e-01,  ..., -9.8594e-01,\n",
       "            -9.9181e-01, -9.7375e-01]],\n",
       "\n",
       "          [[-9.7059e-01, -9.6337e-01, -9.7217e-01,  ..., -9.6518e-01,\n",
       "            -1.0419e+00, -9.6901e-01],\n",
       "           [-9.3291e-01,  4.8958e+00,  4.1760e+00,  ..., -2.8781e-01,\n",
       "             4.6392e-01, -9.9700e-01],\n",
       "           [-9.3065e-01,  5.6470e+00,  4.2040e+00,  ..., -6.0210e-01,\n",
       "             1.0273e+00, -9.6179e-01],\n",
       "           ...,\n",
       "           [-9.8210e-01, -6.5831e-01, -7.0919e-01,  ...,  8.5433e-01,\n",
       "             2.6481e-01, -9.8188e-01],\n",
       "           [-9.8932e-01, -7.3038e-01, -7.6698e-01,  ...,  7.0678e-01,\n",
       "             7.0929e-01, -1.0022e+00],\n",
       "           [-9.5502e-01, -9.7420e-01, -9.6405e-01,  ..., -1.0060e+00,\n",
       "            -1.0193e+00, -9.7466e-01]],\n",
       "\n",
       "          ...,\n",
       "\n",
       "          [[-9.6563e-01, -9.7759e-01, -9.6969e-01,  ..., -9.3720e-01,\n",
       "            -9.5863e-01, -9.6518e-01],\n",
       "           [-9.7556e-01, -5.6603e-01, -6.2572e-01,  ..., -8.2887e-01,\n",
       "            -7.8825e-01, -9.3607e-01],\n",
       "           [-9.7804e-01, -6.2691e-01, -7.1343e-01,  ..., -8.3088e-01,\n",
       "            -8.2561e-01, -9.6096e-01],\n",
       "           ...,\n",
       "           [-1.0004e+00, -7.6890e-01, -7.6685e-01,  ..., -9.4862e-01,\n",
       "            -8.6753e-01, -9.9620e-01],\n",
       "           [-9.6066e-01, -6.7611e-01,  1.2280e-01,  ..., -8.8449e-01,\n",
       "            -8.5774e-01, -9.8865e-01],\n",
       "           [-1.0002e+00, -1.0927e+00, -1.0884e+00,  ..., -9.7556e-01,\n",
       "            -1.0363e+00, -9.6427e-01]],\n",
       "\n",
       "          [[-9.6856e-01, -9.6473e-01, -9.5750e-01,  ..., -9.1350e-01,\n",
       "            -9.3369e-01, -9.6112e-01],\n",
       "           [-9.6856e-01, -5.6442e-01, -6.1354e-01,  ..., -8.0376e-01,\n",
       "            -7.6668e-01, -9.6969e-01],\n",
       "           [-9.8639e-01, -6.1820e-01, -6.4372e-01,  ..., -7.8007e-01,\n",
       "            -8.0872e-01, -9.7548e-01],\n",
       "           ...,\n",
       "           [-9.8436e-01, -8.1953e-01, -7.9785e-01,  ..., -9.2855e-01,\n",
       "            -8.5577e-01, -9.9104e-01],\n",
       "           [-9.5773e-01, -7.1744e-01, -2.9836e-01,  ..., -8.8098e-01,\n",
       "            -8.5279e-01, -9.7759e-01],\n",
       "           [-9.9948e-01, -1.0927e+00, -1.0958e+00,  ..., -9.8120e-01,\n",
       "            -1.0311e+00, -9.6947e-01]],\n",
       "\n",
       "          [[-9.3268e-01, -9.7646e-01, -9.7082e-01,  ..., -9.5818e-01,\n",
       "            -8.8525e-01, -8.5044e-01],\n",
       "           [-9.8571e-01, -9.8774e-01, -9.6856e-01,  ..., -9.4126e-01,\n",
       "            -9.4362e-01, -9.2275e-01],\n",
       "           [-9.7556e-01, -9.9271e-01, -9.5796e-01,  ..., -9.3697e-01,\n",
       "            -9.5496e-01, -9.2794e-01],\n",
       "           ...,\n",
       "           [-9.6112e-01, -1.0338e+00,  8.9831e-02,  ..., -9.7443e-01,\n",
       "            -9.7150e-01, -9.7511e-01],\n",
       "           [-1.0056e+00, -1.0604e+00, -5.5311e-01,  ..., -1.0206e+00,\n",
       "            -1.0372e+00, -9.7375e-01],\n",
       "           [-9.5186e-01, -1.0471e+00, -1.0496e+00,  ..., -9.9339e-01,\n",
       "            -1.0011e+00, -8.7881e-01]]],\n",
       "\n",
       "\n",
       "         [[[-9.6908e-01, -9.6019e-01, -1.1228e+00,  ..., -1.0618e+00,\n",
       "            -1.0504e+00, -1.1850e+00],\n",
       "           [-1.2015e+00,  7.4366e-01,  7.4706e-01,  ...,  5.8890e-01,\n",
       "             7.2337e-01, -9.3185e-01],\n",
       "           [-1.1672e+00,  7.4499e-01,  7.4975e-01,  ...,  7.4989e-01,\n",
       "             7.3862e-01, -9.6169e-01],\n",
       "           ...,\n",
       "           [-9.9830e-01,  7.3507e-01,  7.3446e-01,  ...,  7.4167e-01,\n",
       "             7.3762e-01, -8.4842e-01],\n",
       "           [-1.0237e+00,  7.3231e-01,  6.9957e-01,  ...,  5.2098e-01,\n",
       "             7.3934e-01, -7.7916e-01],\n",
       "           [-1.0954e+00, -1.1736e+00, -1.0239e+00,  ..., -1.0123e+00,\n",
       "            -1.0440e+00, -9.8814e-01]],\n",
       "\n",
       "          [[-1.1800e+00, -1.2422e+00, -1.3997e+00,  ..., -1.2905e+00,\n",
       "            -1.6309e+00, -1.3375e+00],\n",
       "           [-1.2358e+00,  5.8077e-01,  7.3503e-01,  ...,  7.5500e-01,\n",
       "             6.9981e-01, -1.2994e+00],\n",
       "           [-1.2066e+00,  4.3259e-01,  7.3893e-01,  ...,  7.5727e-01,\n",
       "             7.4085e-01, -1.0401e+00],\n",
       "           ...,\n",
       "           [-1.0669e+00,  7.2376e-01,  7.3135e-01,  ...,  7.4505e-01,\n",
       "             7.2958e-01, -1.1150e+00],\n",
       "           [-1.1787e+00,  5.3312e-01,  5.8362e-01,  ...,  7.0793e-01,\n",
       "             7.4195e-01, -1.1545e+00],\n",
       "           [-1.1533e+00, -1.3324e+00, -1.2117e+00,  ..., -1.3044e+00,\n",
       "            -1.3375e+00, -1.2358e+00]],\n",
       "\n",
       "          [[-1.2181e+00, -1.1774e+00, -1.2270e+00,  ..., -1.1876e+00,\n",
       "            -1.6195e+00, -1.2092e+00],\n",
       "           [-1.0059e+00,  5.0021e-01,  7.3223e-01,  ...,  7.3144e-01,\n",
       "             7.3549e-01, -1.3667e+00],\n",
       "           [-9.9322e-01,  4.3236e-01,  7.2523e-01,  ...,  7.2901e-01,\n",
       "             7.4502e-01, -1.1685e+00],\n",
       "           ...,\n",
       "           [-1.2828e+00,  7.2003e-01,  7.2734e-01,  ...,  7.4336e-01,\n",
       "             7.3337e-01, -1.2816e+00],\n",
       "           [-1.3235e+00,  4.5312e-01,  5.3770e-01,  ...,  7.0894e-01,\n",
       "             7.4009e-01, -1.3959e+00],\n",
       "           [-1.1304e+00, -1.2384e+00, -1.1812e+00,  ..., -1.4175e+00,\n",
       "            -1.4924e+00, -1.2409e+00]],\n",
       "\n",
       "          ...,\n",
       "\n",
       "          [[-1.1901e+00, -1.2574e+00, -1.2130e+00,  ..., -1.0301e+00,\n",
       "            -1.1507e+00, -1.1876e+00],\n",
       "           [-1.2460e+00,  7.1818e-01,  7.3151e-01,  ...,  7.6243e-01,\n",
       "             7.4587e-01, -1.0237e+00],\n",
       "           [-1.2600e+00,  7.1660e-01,  7.2997e-01,  ...,  7.5791e-01,\n",
       "             7.5866e-01, -1.0277e+00],\n",
       "           ...,\n",
       "           [-1.3857e+00,  4.3662e-01,  7.5289e-01,  ...,  7.6956e-01,\n",
       "             7.6497e-01, -1.2324e+00],\n",
       "           [-1.1622e+00,  5.6114e-01,  7.3684e-01,  ...,  7.5700e-01,\n",
       "             7.5254e-01, -1.3197e+00],\n",
       "           [-1.3845e+00, -1.9053e+00, -1.8812e+00,  ..., -1.2460e+00,\n",
       "            -1.5877e+00, -1.1825e+00]],\n",
       "\n",
       "          [[-1.2066e+00, -1.1850e+00, -1.1444e+00,  ..., -8.9667e-01,\n",
       "            -9.3141e-01, -1.1647e+00],\n",
       "           [-1.2066e+00,  6.6951e-01,  7.3622e-01,  ...,  7.5025e-01,\n",
       "             7.2159e-01, -1.2130e+00],\n",
       "           [-1.3070e+00,  7.1660e-01,  7.2807e-01,  ...,  7.4618e-01,\n",
       "             7.4952e-01, -1.1781e+00],\n",
       "           ...,\n",
       "           [-1.2955e+00,  2.1793e-01,  7.6373e-01,  ...,  7.6807e-01,\n",
       "             7.5710e-01, -1.3193e+00],\n",
       "           [-1.1457e+00,  2.1191e-01,  7.3868e-01,  ...,  7.5586e-01,\n",
       "             7.5151e-01, -1.2574e+00],\n",
       "           [-1.3807e+00, -1.9053e+00, -1.9231e+00,  ..., -1.2778e+00,\n",
       "            -1.5585e+00, -1.2117e+00]],\n",
       "\n",
       "          [[-1.0046e+00, -1.2511e+00, -1.2193e+00,  ..., -1.1482e+00,\n",
       "            -1.1597e+00, -6.5152e-01],\n",
       "           [-1.3032e+00, -1.3146e+00, -1.2066e+00,  ..., -1.0529e+00,\n",
       "            -1.0748e+00, -9.4876e-01],\n",
       "           [-1.2460e+00, -1.3425e+00, -1.1469e+00,  ..., -1.0288e+00,\n",
       "            -1.1383e+00, -9.7797e-01],\n",
       "           ...,\n",
       "           [-1.1647e+00, -1.5737e+00, -1.3837e+00,  ..., -1.2397e+00,\n",
       "            -1.1944e+00, -1.2435e+00],\n",
       "           [-1.4150e+00, -1.7236e+00, -1.6927e+00,  ..., -1.2482e+00,\n",
       "            -1.2430e+00, -1.2358e+00],\n",
       "           [-1.1126e+00, -1.6487e+00, -1.6627e+00,  ..., -1.3464e+00,\n",
       "            -1.3895e+00, -7.2870e-01]]]],\n",
       "\n",
       "\n",
       "\n",
       "        [[[[-9.8515e-01, -1.0408e+00, -1.1243e+00,  ..., -9.3544e-01,\n",
       "            -9.8051e-01, -1.0508e+00],\n",
       "           [-9.5996e-01, -1.0218e-01,  7.8623e-02,  ...,  4.0618e-01,\n",
       "             2.4324e-01, -9.0465e-01],\n",
       "           [-9.7719e-01,  6.4508e-02,  2.3717e-01,  ...,  4.1428e-01,\n",
       "             3.4083e-01, -7.9635e-01],\n",
       "           ...,\n",
       "           [-1.0480e+00,  3.9199e-01,  3.6735e-01,  ...,  3.7762e-01,\n",
       "             3.6240e-01, -6.6964e-01],\n",
       "           [-9.4738e-01,  4.0053e-01,  4.4378e-01,  ...,  3.1236e-01,\n",
       "             3.8302e-01, -7.2623e-01],\n",
       "           [-9.7002e-01, -1.0978e+00, -1.1011e+00,  ..., -9.6062e-01,\n",
       "            -9.7719e-01, -9.4803e-01]],\n",
       "\n",
       "          [[-1.0667e+00, -1.2622e+00, -1.2456e+00,  ..., -1.1721e+00,\n",
       "            -1.2834e+00, -1.1303e+00],\n",
       "           [-1.1369e+00, -3.2163e-01,  6.4882e-02,  ...,  5.0462e-01,\n",
       "             1.0806e-01, -1.1104e+00],\n",
       "           [-1.1416e+00, -5.8548e-02,  1.7085e-01,  ...,  5.8018e-01,\n",
       "             3.8861e-01, -9.7155e-01],\n",
       "           ...,\n",
       "           [-9.9708e-01,  1.0955e-01,  4.7560e-01,  ...,  5.2226e-01,\n",
       "             5.9849e-01, -9.6432e-01],\n",
       "           [-8.5855e-01,  1.5305e-01,  5.1108e-01,  ...,  5.3983e-01,\n",
       "             4.8595e-01, -1.0349e+00],\n",
       "           [-1.1098e+00, -1.2436e+00, -1.2808e+00,  ..., -1.1131e+00,\n",
       "            -1.1303e+00, -1.0773e+00]],\n",
       "\n",
       "          [[-9.8117e-01, -1.1740e+00, -1.1455e+00,  ..., -1.1515e+00,\n",
       "            -1.2774e+00, -1.0634e+00],\n",
       "           [-1.0415e+00, -2.0388e-01,  1.5119e-01,  ...,  6.3754e-01,\n",
       "             3.5530e-01, -1.1455e+00],\n",
       "           [-1.0932e+00,  4.5831e-02,  2.8432e-01,  ...,  6.5241e-01,\n",
       "             5.9136e-01, -1.0421e+00],\n",
       "           ...,\n",
       "           [-9.5400e-01,  9.1137e-02,  4.6911e-01,  ...,  7.4073e-01,\n",
       "             8.4031e-01, -1.1011e+00],\n",
       "           [-1.0335e+00,  1.0010e-02,  4.1655e-01,  ...,  6.8985e-01,\n",
       "             6.2008e-01, -1.1608e+00],\n",
       "           [-1.1310e+00, -1.2105e+00, -1.1668e+00,  ..., -1.1721e+00,\n",
       "            -1.2112e+00, -1.0799e+00]],\n",
       "\n",
       "          ...,\n",
       "\n",
       "          [[-1.0534e+00, -1.0885e+00, -1.0653e+00,  ..., -9.6990e-01,\n",
       "            -1.0329e+00, -1.0521e+00],\n",
       "           [-1.0826e+00,  7.3675e-02,  5.8074e-01,  ...,  1.0818e+00,\n",
       "             8.3314e-01, -9.6659e-01],\n",
       "           [-9.8780e-01, -1.4692e-02,  5.1810e-01,  ...,  1.1972e+00,\n",
       "             9.3057e-01, -8.3983e-01],\n",
       "           ...,\n",
       "           [-1.0229e+00, -1.0978e+00, -9.9111e-01,  ...,  1.8827e+00,\n",
       "             1.1618e+00, -9.5259e-01],\n",
       "           [-1.0037e+00, -1.0309e+00, -9.7322e-01,  ...,  1.3681e+00,\n",
       "             1.2209e+00, -1.1210e+00],\n",
       "           [-8.2276e-01, -9.2483e-01, -9.1820e-01,  ..., -1.1475e+00,\n",
       "            -1.2609e+00, -1.0494e+00]],\n",
       "\n",
       "          [[-1.0620e+00, -1.0508e+00, -1.0296e+00,  ..., -9.0031e-01,\n",
       "            -8.4377e-01, -1.0402e+00],\n",
       "           [-1.0620e+00,  9.1016e-02,  7.0013e-01,  ...,  1.0968e+00,\n",
       "             7.0387e-01, -1.0653e+00],\n",
       "           [-1.0653e+00,  3.9883e-02,  6.3044e-01,  ...,  1.1916e+00,\n",
       "             9.1003e-01, -9.8336e-01],\n",
       "           ...,\n",
       "           [-9.6129e-01, -1.0786e+00, -1.0130e+00,  ...,  1.4707e+00,\n",
       "             1.2551e+00, -1.1078e+00],\n",
       "           [-9.6990e-01, -1.0262e+00, -1.0183e+00,  ...,  1.4084e+00,\n",
       "             1.1961e+00, -1.0885e+00],\n",
       "           [-7.9691e-01, -8.8970e-01, -9.0493e-01,  ..., -1.1449e+00,\n",
       "            -1.2456e+00, -1.0647e+00]],\n",
       "\n",
       "          [[-9.5665e-01, -1.0852e+00, -1.0687e+00,  ..., -1.0315e+00,\n",
       "            -1.0420e+00, -7.7356e-01],\n",
       "           [-1.1124e+00, -1.1184e+00, -1.0620e+00,  ..., -9.8183e-01,\n",
       "            -9.8932e-01, -9.2748e-01],\n",
       "           [-1.0793e+00, -1.1840e+00, -1.0965e+00,  ..., -9.6941e-01,\n",
       "            -1.0226e+00, -9.4273e-01],\n",
       "           ...,\n",
       "           [-8.6054e-01, -9.0959e-01, -9.5400e-01,  ..., -1.0448e+00,\n",
       "            -1.0284e+00, -1.0813e+00],\n",
       "           [-7.8233e-01, -8.3403e-01, -9.2284e-01,  ..., -7.5669e-01,\n",
       "            -7.4995e-01, -1.0773e+00],\n",
       "           [-6.2057e-01, -7.1426e-01, -6.3547e-01,  ..., -1.1396e+00,\n",
       "            -1.1575e+00, -8.0014e-01]]],\n",
       "\n",
       "\n",
       "         [[[-2.1048e-02, -2.1970e-02, -2.3353e-02,  ..., -2.0225e-02,\n",
       "            -2.0971e-02, -2.2135e-02],\n",
       "           [-2.0631e-02, -1.2375e-02, -1.5771e-02,  ...,  2.6340e-02,\n",
       "             1.1829e-01, -2.0334e-02],\n",
       "           [-2.0917e-02, -9.0232e-03, -1.3678e-02,  ...,  2.6749e-03,\n",
       "             9.9034e-02, -5.1282e-04],\n",
       "           ...,\n",
       "           [-2.5331e-02, -2.8595e-01, -3.9472e-03,  ...,  1.9300e-01,\n",
       "             2.7834e-01,  1.9426e-02],\n",
       "           [-2.1749e-02, -6.1862e-02, -2.1009e-01,  ..., -1.0587e-02,\n",
       "            -4.4966e-03, -2.1741e-02],\n",
       "           [-3.6220e-02, -2.6867e-02, -2.2969e-02,  ..., -2.0642e-02,\n",
       "            -2.0917e-02, -2.0434e-02]],\n",
       "\n",
       "          [[-2.2398e-02, -2.5636e-02, -2.5361e-02,  ..., -2.4143e-02,\n",
       "            -2.5987e-02, -2.3452e-02],\n",
       "           [-2.3561e-02, -1.0821e-02, -1.3349e-02,  ..., -2.0888e-02,\n",
       "             2.0727e-01, -2.3122e-02],\n",
       "           [-2.3638e-02, -5.7056e-03, -1.1890e-02,  ..., -2.2926e-02,\n",
       "             1.6193e-01, -2.0982e-02],\n",
       "           ...,\n",
       "           [-2.1246e-02, -2.0383e-01,  8.8249e-02,  ...,  4.5467e-02,\n",
       "             2.3120e-01, -2.2908e-02],\n",
       "           [-1.8952e-02, -1.1410e-02,  7.7730e-02,  ..., -1.3174e-03,\n",
       "             7.2424e-02, -2.1871e-02],\n",
       "           [-2.3111e-02, -2.5328e-02, -2.5943e-02,  ..., -2.3166e-02,\n",
       "            -2.3452e-02, -2.2574e-02]],\n",
       "\n",
       "          [[-2.0982e-02, -2.4176e-02, -2.3704e-02,  ..., -2.3803e-02,\n",
       "            -2.5888e-02, -2.2343e-02],\n",
       "           [-2.1981e-02, -1.1847e-02, -1.5953e-02,  ..., -7.6784e-03,\n",
       "             1.1494e-01, -2.3704e-02],\n",
       "           [-2.2837e-02, -4.0680e-02, -1.1559e-01,  ...,  1.6317e-02,\n",
       "             5.2987e-02, -2.1992e-02],\n",
       "           ...,\n",
       "           [-2.0532e-02,  2.5723e-03,  4.7870e-02,  ...,  1.8784e-01,\n",
       "             2.3519e-01, -2.2969e-02],\n",
       "           [-2.1849e-02, -1.2980e-02, -1.8514e-02,  ..., -3.0610e-02,\n",
       "             7.2615e-03, -2.3956e-02],\n",
       "           [-2.3463e-02, -2.4780e-02, -2.4055e-02,  ..., -2.4143e-02,\n",
       "            -2.4791e-02, -2.2618e-02]],\n",
       "\n",
       "          ...,\n",
       "\n",
       "          [[-2.2179e-02, -2.2760e-02, -2.2376e-02,  ..., -2.0796e-02,\n",
       "            -2.1838e-02, -2.2157e-02],\n",
       "           [-2.2661e-02, -3.6125e-02, -5.9816e-02,  ...,  3.2071e-01,\n",
       "             9.0823e-02, -2.0741e-02],\n",
       "           [-2.1092e-02, -1.2236e-01, -1.4537e-01,  ...,  3.2002e-01,\n",
       "             2.5412e-01, -2.4331e-02],\n",
       "           ...,\n",
       "           [-2.1674e-02, -2.2914e-02, -2.1147e-02,  ...,  2.0471e+00,\n",
       "             1.0030e-01, -2.5935e-02],\n",
       "           [-2.1355e-02, -2.1805e-02, -2.0851e-02,  ..., -8.7688e-02,\n",
       "            -2.8651e-02, -2.3298e-02],\n",
       "           [-1.8359e-02, -2.0050e-02, -1.9940e-02,  ..., -2.3737e-02,\n",
       "            -2.5614e-02, -2.2113e-02]],\n",
       "\n",
       "          [[-2.2321e-02, -2.2135e-02, -2.1784e-02,  ..., -1.9643e-02,\n",
       "            -2.2004e-02, -2.1959e-02],\n",
       "           [-2.2321e-02,  1.9101e-01,  3.0558e-03,  ...,  1.4966e-02,\n",
       "             4.0305e-02, -2.2376e-02],\n",
       "           [-2.2376e-02, -4.3680e-02, -7.7722e-02,  ...,  4.4085e-01,\n",
       "             2.7443e-01, -2.3837e-02],\n",
       "           ...,\n",
       "           [-2.0653e-02, -2.2596e-02, -2.1509e-02,  ...,  2.5951e-01,\n",
       "            -6.8142e-02, -2.3656e-02],\n",
       "           [-2.0796e-02, -2.1729e-02, -2.1597e-02,  ..., -4.6944e-02,\n",
       "            -3.9530e-02, -2.2760e-02],\n",
       "           [-1.7931e-02, -1.9468e-02, -2.4261e-02,  ..., -2.3693e-02,\n",
       "            -2.5361e-02, -2.2365e-02]],\n",
       "\n",
       "          [[-2.0576e-02, -2.2705e-02, -2.2431e-02,  ..., -2.1816e-02,\n",
       "             6.5027e-03, -1.0129e-02],\n",
       "           [-2.3155e-02, -2.3254e-02, -2.2321e-02,  ..., -2.0993e-02,\n",
       "            -6.3868e-03, -2.0093e-02],\n",
       "           [-2.2607e-02, -2.4341e-02, -2.2892e-02,  ...,  4.3890e-03,\n",
       "            -7.5194e-03, -2.0346e-02],\n",
       "           ...,\n",
       "           [-1.8985e-02, -1.9797e-02, -2.0532e-02,  ..., -2.2036e-02,\n",
       "            -2.2967e-02, -2.2640e-02],\n",
       "           [-1.7690e-02, -1.8546e-02, -2.0017e-02,  ..., -3.0525e-02,\n",
       "            -3.1773e-02, -2.2574e-02],\n",
       "           [-2.9659e-02, -7.7537e-02, -2.3303e-02,  ..., -2.3605e-02,\n",
       "            -2.3902e-02,  2.8859e-02]]],\n",
       "\n",
       "\n",
       "         [[[-1.0338e-01, -1.1717e-01, -1.3785e-01,  ..., -9.1071e-02,\n",
       "            -1.0223e-01, -1.1963e-01],\n",
       "           [-9.7144e-02,  3.7402e-02, -1.5215e-03,  ..., -6.8877e-02,\n",
       "            -6.7518e-02, -9.1550e-02],\n",
       "           [-1.0141e-01,  8.6432e-02,  3.0772e-02,  ..., -4.7731e-02,\n",
       "            -9.5454e-02, -1.6049e-01],\n",
       "           ...,\n",
       "           [ 1.4840e-04,  4.5639e-01, -1.1627e-01,  ..., -1.7806e-01,\n",
       "            -1.9894e-01, -1.8959e-01],\n",
       "           [-4.5303e-02,  2.1580e-01, -2.4730e-02,  ..., -1.4435e-01,\n",
       "            -9.8308e-02, -1.0448e-01],\n",
       "           [ 4.6690e-01, -1.8306e-01, -1.3211e-01,  ..., -9.7308e-02,\n",
       "            -1.0141e-01, -9.4190e-02]],\n",
       "\n",
       "          [[-1.2357e-01, -1.7200e-01, -1.6789e-01,  ..., -1.4967e-01,\n",
       "            -1.7725e-01, -1.3933e-01],\n",
       "           [-1.4097e-01,  5.1000e-02,  2.9780e-02,  ..., -5.5445e-02,\n",
       "            -6.8656e-02, -1.3441e-01],\n",
       "           [-1.4212e-01,  1.2610e-01,  5.2151e-02,  ..., -7.9803e-02,\n",
       "            -1.3980e-01, -1.0210e-01],\n",
       "           ...,\n",
       "           [-1.0634e-01,  6.2406e-02, -2.0749e-01,  ..., -1.3493e-01,\n",
       "            -1.6161e-01, -1.2710e-01],\n",
       "           [-7.2029e-02,  5.7890e-02, -7.0461e-02,  ..., -1.7017e-01,\n",
       "            -1.3031e-01, -1.1569e-01],\n",
       "           [-1.3424e-01, -1.6740e-01, -1.7659e-01,  ..., -1.3506e-01,\n",
       "            -1.3933e-01, -1.2620e-01]],\n",
       "\n",
       "          [[-1.0240e-01, -1.5017e-01, -1.4311e-01,  ..., -1.4458e-01,\n",
       "            -1.7577e-01, -1.2275e-01],\n",
       "           [-1.1733e-01,  4.1188e-02, -1.6776e-03,  ..., -1.1531e-01,\n",
       "            -9.0943e-02, -1.4311e-01],\n",
       "           [-1.3014e-01,  9.4654e-02,  2.2459e-02,  ..., -1.5990e-01,\n",
       "            -1.5846e-01, -1.1750e-01],\n",
       "           ...,\n",
       "           [-9.5667e-02,  6.5371e-02, -1.1270e-01,  ..., -2.1025e-01,\n",
       "            -2.4815e-01, -1.3211e-01],\n",
       "           [-1.1537e-01,  3.2923e-02, -2.7056e-02,  ..., -1.6117e-01,\n",
       "            -1.4242e-01, -1.4688e-01],\n",
       "           [-1.3950e-01, -1.5919e-01, -1.4836e-01,  ..., -1.4967e-01,\n",
       "            -1.5936e-01, -1.2686e-01]],\n",
       "\n",
       "          ...,\n",
       "\n",
       "          [[-1.2029e-01, -1.2899e-01, -1.2324e-01,  ..., -9.9607e-02,\n",
       "            -1.1520e-01, -1.1996e-01],\n",
       "           [-1.2751e-01,  1.2323e+00,  1.4975e+00,  ...,  6.0983e-01,\n",
       "             1.2457e-01, -9.8786e-02],\n",
       "           [-1.0404e-01,  1.1250e+00,  1.6633e+00,  ...,  4.5841e-01,\n",
       "             3.8161e-01, -1.4192e-01],\n",
       "           ...,\n",
       "           [-1.1274e-01, -1.3129e-01, -1.0486e-01,  ..., -3.1366e-01,\n",
       "             2.6521e-01, -1.6639e-01],\n",
       "           [-1.0798e-01, -1.1471e-01, -1.0043e-01,  ..., -1.0195e-01,\n",
       "            -2.7754e-01, -1.3703e-01],\n",
       "           [-6.3165e-02, -8.8444e-02, -8.6803e-02,  ..., -1.4360e-01,\n",
       "            -1.7167e-01, -1.1930e-01]],\n",
       "\n",
       "          [[-1.2242e-01, -1.1963e-01, -1.1438e-01,  ..., -8.2371e-02,\n",
       "            -1.1155e-01, -1.1701e-01],\n",
       "           [-1.2242e-01,  1.7960e+00,  2.0185e+00,  ...,  3.2851e-01,\n",
       "             7.7797e-02, -1.2324e-01],\n",
       "           [-1.2324e-01,  1.6054e+00,  2.1902e+00,  ...,  4.0056e-01,\n",
       "             7.7033e-02, -1.3985e-01],\n",
       "           ...,\n",
       "           [-9.7473e-02, -1.2653e-01, -1.1028e-01,  ..., -8.8097e-02,\n",
       "             8.1535e-02, -1.4131e-01],\n",
       "           [-9.9607e-02, -1.1356e-01, -1.1159e-01,  ..., -2.7454e-01,\n",
       "            -2.7835e-01, -1.2899e-01],\n",
       "           [-5.6763e-02, -7.9744e-02,  8.3323e-02,  ..., -1.4294e-01,\n",
       "            -1.6789e-01, -1.2308e-01]],\n",
       "\n",
       "          [[-9.6324e-02, -1.2817e-01, -1.2407e-01,  ..., -1.1487e-01,\n",
       "            -8.6458e-02, -4.2910e-02],\n",
       "           [-1.3490e-01, -1.3638e-01, -1.2242e-01,  ..., -1.0256e-01,\n",
       "            -1.0506e-01, -8.9101e-02],\n",
       "           [-1.2669e-01, -1.5263e-01, -1.3096e-01,  ..., -1.0059e-01,\n",
       "            -1.1328e-01, -9.2876e-02],\n",
       "           ...,\n",
       "           [-7.2522e-02, -8.4669e-02, -9.5667e-02,  ..., -1.1816e-01,\n",
       "            -1.2985e-01, -1.2718e-01],\n",
       "           [-5.3152e-02, -6.5956e-02, -8.7952e-02,  ..., -2.2048e-01,\n",
       "            -2.3663e-01, -1.2620e-01],\n",
       "           [-7.8720e-04, -1.7022e-02,  3.6328e-02,  ..., -1.4163e-01,\n",
       "            -1.4606e-01, -5.9620e-02]]],\n",
       "\n",
       "\n",
       "         [[[-9.4239e-01, -9.6134e-01, -9.8977e-01,  ..., -9.2546e-01,\n",
       "            -9.4081e-01, -9.6473e-01],\n",
       "           [-9.3381e-01, -7.1289e-01, -7.2776e-01,  ..., -7.2139e-01,\n",
       "             8.5573e-01, -9.2238e-01],\n",
       "           [-9.3968e-01, -6.4906e-01, -6.8015e-01,  ..., -7.1716e-01,\n",
       "             1.1250e+00, -9.5690e-01],\n",
       "           ...,\n",
       "           [-9.5886e-01, -6.9267e-01, -7.8239e-01,  ..., -1.5598e-01,\n",
       "             1.1557e-01, -9.5475e-01],\n",
       "           [-9.2751e-01, -6.9392e-01, -7.2633e-01,  ...,  1.4173e+00,\n",
       "             1.1780e+00, -9.1379e-01],\n",
       "           [-9.1381e-01, -1.0280e+00, -9.8188e-01,  ..., -9.3404e-01,\n",
       "            -9.3968e-01, -9.2975e-01]],\n",
       "\n",
       "          [[-9.7014e-01, -1.0367e+00, -1.0311e+00,  ..., -1.0060e+00,\n",
       "            -1.0439e+00, -9.9181e-01],\n",
       "           [-9.9406e-01, -7.2556e-01, -7.0075e-01,  ..., -7.2830e-01,\n",
       "             9.7268e-01, -9.8504e-01],\n",
       "           [-9.9564e-01, -6.2691e-01, -6.6821e-01,  ..., -7.4191e-01,\n",
       "             1.1991e+00, -9.3966e-01],\n",
       "           ...,\n",
       "           [-9.4645e-01, -6.7258e-01, -7.5524e-01,  ..., -7.4423e-01,\n",
       "             9.2199e-02, -9.6166e-01],\n",
       "           [-8.9928e-01, -6.6500e-01, -7.1868e-01,  ...,  1.4615e+00,\n",
       "             9.9993e-01, -9.5931e-01],\n",
       "           [-9.8481e-01, -1.0304e+00, -1.0430e+00,  ..., -9.8594e-01,\n",
       "            -9.9181e-01, -9.7375e-01]],\n",
       "\n",
       "          [[-9.4103e-01, -1.0067e+00, -9.9700e-01,  ..., -9.9903e-01,\n",
       "            -1.0419e+00, -9.6901e-01],\n",
       "           [-9.6157e-01, -7.2106e-01, -7.1961e-01,  ..., -7.5631e-01,\n",
       "             4.6392e-01, -9.9700e-01],\n",
       "           [-9.7917e-01, -6.4711e-01, -6.9306e-01,  ..., -7.6652e-01,\n",
       "             1.0273e+00, -9.6179e-01],\n",
       "           ...,\n",
       "           [-9.3178e-01, -6.5684e-01, -7.3835e-01,  ..., -7.8849e-01,\n",
       "             2.6481e-01, -9.8188e-01],\n",
       "           [-9.5886e-01, -7.0415e-01, -7.1245e-01,  ...,  7.0678e-01,\n",
       "             7.0929e-01, -1.0022e+00],\n",
       "           [-9.9203e-01, -1.0191e+00, -1.0042e+00,  ..., -1.0060e+00,\n",
       "            -1.0193e+00, -9.7466e-01]],\n",
       "\n",
       "          ...,\n",
       "\n",
       "          [[-9.6563e-01, -9.7759e-01, -9.6969e-01,  ..., -9.3720e-01,\n",
       "            -9.5863e-01, -9.6518e-01],\n",
       "           [-9.7556e-01, -5.6603e-01, -6.2572e-01,  ..., -8.2887e-01,\n",
       "            -7.8825e-01, -9.3607e-01],\n",
       "           [-9.4329e-01, -5.6463e-01, -6.2324e-01,  ..., -8.3145e-01,\n",
       "            -8.2561e-01, -9.6096e-01],\n",
       "           ...,\n",
       "           [-9.5525e-01, -9.8075e-01, -9.4442e-01,  ..., -2.6482e-01,\n",
       "            -8.6753e-01, -9.9620e-01],\n",
       "           [-9.4870e-01, -9.5796e-01, -9.3832e-01,  ..., -8.7419e-01,\n",
       "            -8.5774e-01, -9.8865e-01],\n",
       "           [-8.8710e-01, -9.2185e-01, -9.1959e-01,  ..., -9.9767e-01,\n",
       "            -1.0363e+00, -9.6427e-01]],\n",
       "\n",
       "          [[-9.6856e-01, -9.6473e-01, -9.5750e-01,  ..., -9.1350e-01,\n",
       "            -9.3369e-01, -9.6112e-01],\n",
       "           [-9.6856e-01, -5.6442e-01, -6.1354e-01,  ..., -8.0376e-01,\n",
       "            -7.6668e-01, -9.6969e-01],\n",
       "           [-9.6969e-01, -5.3325e-01, -5.8243e-01,  ..., -7.7686e-01,\n",
       "            -8.0872e-01, -9.7548e-01],\n",
       "           ...,\n",
       "           [-9.3426e-01, -9.7420e-01, -9.5186e-01,  ..., -8.1601e-01,\n",
       "            -8.5577e-01, -9.9104e-01],\n",
       "           [-9.3720e-01, -9.5638e-01, -9.5367e-01,  ..., -8.8570e-01,\n",
       "            -8.5279e-01, -9.7759e-01],\n",
       "           [-8.7830e-01, -9.0989e-01, -9.0818e-01,  ..., -9.9677e-01,\n",
       "            -1.0311e+00, -9.6947e-01]],\n",
       "\n",
       "          [[-9.3268e-01, -9.7646e-01, -9.7082e-01,  ..., -9.5818e-01,\n",
       "            -8.8525e-01, -8.5044e-01],\n",
       "           [-9.8571e-01, -9.8774e-01, -9.6856e-01,  ..., -9.4126e-01,\n",
       "            -9.4362e-01, -9.2275e-01],\n",
       "           [-9.7443e-01, -1.0101e+00, -9.8030e-01,  ..., -9.3671e-01,\n",
       "            -9.5496e-01, -9.2794e-01],\n",
       "           ...,\n",
       "           [-8.9996e-01, -9.1666e-01, -9.3178e-01,  ..., -9.6270e-01,\n",
       "            -9.7150e-01, -9.7511e-01],\n",
       "           [-8.7333e-01, -8.9093e-01, -9.2117e-01,  ..., -1.0232e+00,\n",
       "            -1.0372e+00, -9.7375e-01],\n",
       "           [-8.2164e-01, -7.0055e-01, -8.7668e-01,  ..., -9.9497e-01,\n",
       "            -1.0011e+00, -8.7881e-01]]],\n",
       "\n",
       "\n",
       "         [[[-1.0593e+00, -1.1660e+00, -1.3260e+00,  ..., -9.6400e-01,\n",
       "            -1.0504e+00, -1.1850e+00],\n",
       "           [-1.0110e+00,  3.7488e-01,  4.4407e-01,  ...,  7.3132e-01,\n",
       "             7.2337e-01, -9.3185e-01],\n",
       "           [-1.0440e+00,  7.2002e-01,  7.2483e-01,  ...,  7.3060e-01,\n",
       "             7.3862e-01, -9.6169e-01],\n",
       "           ...,\n",
       "           [-1.1952e+00,  7.3281e-01,  7.4616e-01,  ...,  7.3582e-01,\n",
       "             7.3762e-01, -8.4842e-01],\n",
       "           [-9.9322e-01,  7.2937e-01,  7.3282e-01,  ...,  5.2098e-01,\n",
       "             7.3934e-01, -7.7916e-01],\n",
       "           [-1.1037e+00, -1.4467e+00, -1.2816e+00,  ..., -1.0123e+00,\n",
       "            -1.0440e+00, -9.8814e-01]],\n",
       "\n",
       "          [[-1.2155e+00, -1.5903e+00, -1.5585e+00,  ..., -1.4175e+00,\n",
       "            -1.6309e+00, -1.3375e+00],\n",
       "           [-1.3502e+00,  1.7943e-01,  5.3272e-01,  ...,  7.3227e-01,\n",
       "             6.9981e-01, -1.2994e+00],\n",
       "           [-1.3591e+00,  7.1660e-01,  7.2298e-01,  ...,  7.3437e-01,\n",
       "             7.4085e-01, -1.0401e+00],\n",
       "           ...,\n",
       "           [-1.0821e+00,  7.2468e-01,  7.3719e-01,  ...,  7.3500e-01,\n",
       "             7.2958e-01, -1.1150e+00],\n",
       "           [-8.1665e-01,  7.2249e-01,  7.3047e-01,  ...,  7.0793e-01,\n",
       "             7.4195e-01, -1.1545e+00],\n",
       "           [-1.2981e+00, -1.5547e+00, -1.6258e+00,  ..., -1.3044e+00,\n",
       "            -1.3375e+00, -1.2358e+00]],\n",
       "\n",
       "          [[-1.0517e+00, -1.4213e+00, -1.3667e+00,  ..., -1.3781e+00,\n",
       "            -1.6195e+00, -1.2092e+00],\n",
       "           [-1.1672e+00,  2.7597e-01,  5.2308e-01,  ...,  7.3664e-01,\n",
       "             7.3549e-01, -1.3667e+00],\n",
       "           [-1.2663e+00,  7.1986e-01,  7.2727e-01,  ...,  7.3842e-01,\n",
       "             7.4502e-01, -1.1685e+00],\n",
       "           ...,\n",
       "           [-9.9957e-01,  7.2126e-01,  7.3400e-01,  ...,  7.4280e-01,\n",
       "             7.3337e-01, -1.2816e+00],\n",
       "           [-1.1520e+00,  4.8300e-01,  7.2982e-01,  ...,  7.0894e-01,\n",
       "             7.4009e-01, -1.3959e+00],\n",
       "           [-1.3387e+00, -1.4912e+00, -1.4073e+00,  ..., -1.4175e+00,\n",
       "            -1.4924e+00, -1.2409e+00]],\n",
       "\n",
       "          ...,\n",
       "\n",
       "          [[-1.1901e+00, -1.2574e+00, -1.2130e+00,  ..., -1.0301e+00,\n",
       "            -1.1507e+00, -1.1876e+00],\n",
       "           [-1.2460e+00,  7.1818e-01,  7.3151e-01,  ...,  7.6243e-01,\n",
       "             7.4587e-01, -1.0237e+00],\n",
       "           [-1.0644e+00,  7.1701e-01,  7.3491e-01,  ...,  7.5900e-01,\n",
       "             7.5866e-01, -1.0277e+00],\n",
       "           ...,\n",
       "           [-1.1317e+00, -1.2752e+00, -1.0707e+00,  ...,  7.5980e-01,\n",
       "             7.6497e-01, -1.2324e+00],\n",
       "           [-1.0948e+00, -1.1469e+00, -1.0364e+00,  ...,  7.5794e-01,\n",
       "             7.5254e-01, -1.3197e+00],\n",
       "           [-7.4805e-01, -9.4368e-01, -9.3097e-01,  ..., -1.3705e+00,\n",
       "            -1.5877e+00, -1.1825e+00]],\n",
       "\n",
       "          [[-1.2066e+00, -1.1850e+00, -1.1444e+00,  ..., -8.9667e-01,\n",
       "            -9.3141e-01, -1.1647e+00],\n",
       "           [-1.2066e+00,  6.6951e-01,  7.3622e-01,  ...,  7.5025e-01,\n",
       "             7.2159e-01, -1.2130e+00],\n",
       "           [-1.2130e+00,  7.1658e-01,  7.3160e-01,  ...,  7.4578e-01,\n",
       "             7.4952e-01, -1.1781e+00],\n",
       "           ...,\n",
       "           [-1.0135e+00, -1.2384e+00, -1.1126e+00,  ...,  7.6393e-01,\n",
       "             7.5710e-01, -1.3193e+00],\n",
       "           [-1.0301e+00, -1.1380e+00, -1.1228e+00,  ...,  7.5728e-01,\n",
       "             7.5151e-01, -1.2574e+00],\n",
       "           [-6.9851e-01, -8.7635e-01, -9.2716e-01,  ..., -1.3654e+00,\n",
       "            -1.5585e+00, -1.2117e+00]],\n",
       "\n",
       "          [[-1.0046e+00, -1.2511e+00, -1.2193e+00,  ..., -1.1482e+00,\n",
       "            -1.1597e+00, -6.5152e-01],\n",
       "           [-1.3032e+00, -1.3146e+00, -1.2066e+00,  ..., -1.0529e+00,\n",
       "            -1.0748e+00, -9.4876e-01],\n",
       "           [-1.2397e+00, -1.4404e+00, -1.2727e+00,  ..., -1.0420e+00,\n",
       "            -1.1383e+00, -9.7797e-01],\n",
       "           ...,\n",
       "           [-8.2046e-01, -9.1446e-01, -9.9957e-01,  ..., -1.1736e+00,\n",
       "            -1.1944e+00, -1.2435e+00],\n",
       "           [-6.7056e-01, -7.6965e-01, -9.3986e-01,  ..., -1.1969e+00,\n",
       "            -1.2430e+00, -1.2358e+00],\n",
       "           [-4.8267e-01, -5.4807e-01, -6.1537e-01,  ..., -1.3553e+00,\n",
       "            -1.3895e+00, -7.2870e-01]]]]], device='cuda:0',\n",
       "       grad_fn=<ConvolutionBackward0>)"
      ]
     },
     "execution_count": 10,
     "metadata": {},
     "output_type": "execute_result"
    }
   ],
   "source": [
    "x, y = x.to(device), y.to(device)\n",
    "x=x.float().unsqueeze(-1)\n",
    "x = x.permute(0, 4, 1, 2, 3)  # (N, D, H, W, C) → (N, C, D, H, W)\n",
    "y = y.permute(0, 4, 1, 2, 3)\n",
    "outputs = model(x)\n",
    "outputs"
   ]
  },
  {
   "cell_type": "code",
   "execution_count": 11,
   "metadata": {},
   "outputs": [
    {
     "data": {
      "text/plain": [
       "tensor([[[[[-1.1254e+00, -1.1254e+00, -1.1254e+00,  ..., -1.1254e+00,\n",
       "            -1.1254e+00, -1.1254e+00],\n",
       "           [-1.1254e+00, -6.3728e-01, -6.6394e-01,  ..., -6.6493e-01,\n",
       "            -6.5408e-01, -1.1254e+00],\n",
       "           [-1.1254e+00, -6.3726e-01, -6.6395e-01,  ..., -6.6497e-01,\n",
       "            -6.5437e-01, -1.1254e+00],\n",
       "           ...,\n",
       "           [-1.1254e+00, -6.3683e-01, -6.6350e-01,  ..., -6.6478e-01,\n",
       "            -6.5514e-01, -1.1254e+00],\n",
       "           [-1.1254e+00, -6.3687e-01, -6.6349e-01,  ..., -6.6477e-01,\n",
       "            -6.5518e-01, -1.1254e+00],\n",
       "           [-1.1254e+00, -1.1254e+00, -1.1254e+00,  ..., -1.1254e+00,\n",
       "            -1.1254e+00, -1.1254e+00]],\n",
       "\n",
       "          [[-1.1254e+00, -1.1254e+00, -1.1254e+00,  ..., -1.1254e+00,\n",
       "            -1.1254e+00, -1.1254e+00],\n",
       "           [-1.1254e+00, -7.8080e-01, -6.4096e-01,  ..., -6.3867e-01,\n",
       "            -6.3572e-01, -1.1254e+00],\n",
       "           [-1.1254e+00, -7.9248e-01, -6.4083e-01,  ..., -6.3863e-01,\n",
       "            -6.3568e-01, -1.1254e+00],\n",
       "           ...,\n",
       "           [-1.1254e+00, -7.6674e-01, -6.2477e-01,  ..., -6.2673e-01,\n",
       "            -6.2266e-01, -1.1254e+00],\n",
       "           [-1.1254e+00, -7.6520e-01, -6.2410e-01,  ..., -6.2659e-01,\n",
       "            -6.2256e-01, -1.1254e+00],\n",
       "           [-1.1254e+00, -1.1254e+00, -1.1254e+00,  ..., -1.1254e+00,\n",
       "            -1.1254e+00, -1.1254e+00]],\n",
       "\n",
       "          [[-1.1254e+00, -1.1254e+00, -1.1254e+00,  ..., -1.1254e+00,\n",
       "            -1.1254e+00, -1.1254e+00],\n",
       "           [-1.1254e+00, -9.5554e-01, -6.6273e-01,  ..., -6.3354e-01,\n",
       "            -6.5788e-01, -1.1254e+00],\n",
       "           [-1.1254e+00, -9.6351e-01, -6.6271e-01,  ..., -6.3348e-01,\n",
       "            -6.5792e-01, -1.1254e+00],\n",
       "           ...,\n",
       "           [-1.1254e+00, -8.3797e-01, -5.9378e-01,  ..., -5.9533e-01,\n",
       "            -6.2006e-01, -1.1254e+00],\n",
       "           [-1.1254e+00, -8.1674e-01, -5.9349e-01,  ..., -5.9541e-01,\n",
       "            -6.2042e-01, -1.1254e+00],\n",
       "           [-1.1254e+00, -1.1254e+00, -1.1254e+00,  ..., -1.1254e+00,\n",
       "            -1.1254e+00, -1.1254e+00]],\n",
       "\n",
       "          ...,\n",
       "\n",
       "          [[-1.1254e+00, -1.1254e+00, -1.1254e+00,  ..., -1.1254e+00,\n",
       "            -1.1254e+00, -1.1254e+00],\n",
       "           [-1.1254e+00, -8.6772e-01, -5.4963e-01,  ..., -4.7571e-01,\n",
       "            -5.9072e-01, -1.1254e+00],\n",
       "           [-1.1254e+00, -8.3796e-01, -4.9648e-01,  ..., -4.7761e-01,\n",
       "            -5.9883e-01, -1.1254e+00],\n",
       "           ...,\n",
       "           [-1.1254e+00, -1.1254e+00, -1.1254e+00,  ..., -4.0598e-01,\n",
       "            -5.3288e-01, -1.1254e+00],\n",
       "           [-1.1254e+00, -1.1254e+00, -1.1254e+00,  ..., -4.0731e-01,\n",
       "            -5.3435e-01, -1.1254e+00],\n",
       "           [-1.1254e+00, -1.1254e+00, -1.1254e+00,  ..., -1.1254e+00,\n",
       "            -1.1254e+00, -1.1254e+00]],\n",
       "\n",
       "          [[-1.1254e+00, -1.1254e+00, -1.1254e+00,  ..., -1.1254e+00,\n",
       "            -1.1254e+00, -1.1254e+00],\n",
       "           [-1.1254e+00, -8.6182e-01, -5.4815e-01,  ..., -4.7216e-01,\n",
       "            -5.9054e-01, -1.1254e+00],\n",
       "           [-1.1254e+00, -8.2974e-01, -4.9588e-01,  ..., -4.7473e-01,\n",
       "            -5.9970e-01, -1.1254e+00],\n",
       "           ...,\n",
       "           [-1.1254e+00, -1.1254e+00, -1.1254e+00,  ..., -4.1459e-01,\n",
       "            -5.4091e-01, -1.1254e+00],\n",
       "           [-1.1254e+00, -1.1254e+00, -1.1254e+00,  ..., -4.1603e-01,\n",
       "            -5.4252e-01, -1.1254e+00],\n",
       "           [-1.1254e+00, -1.1254e+00, -1.1254e+00,  ..., -1.1254e+00,\n",
       "            -1.1254e+00, -1.1254e+00]],\n",
       "\n",
       "          [[-1.1254e+00, -1.1254e+00, -1.1254e+00,  ..., -1.1254e+00,\n",
       "            -1.1254e+00, -1.1254e+00],\n",
       "           [-1.1254e+00, -1.1254e+00, -1.1254e+00,  ..., -1.1254e+00,\n",
       "            -1.1254e+00, -1.1254e+00],\n",
       "           [-1.1254e+00, -1.1254e+00, -1.1254e+00,  ..., -1.1254e+00,\n",
       "            -1.1254e+00, -1.1254e+00],\n",
       "           ...,\n",
       "           [-1.1254e+00, -1.1254e+00, -1.1254e+00,  ..., -1.1254e+00,\n",
       "            -1.1254e+00, -1.1254e+00],\n",
       "           [-1.1254e+00, -1.1254e+00, -1.1254e+00,  ..., -1.1254e+00,\n",
       "            -1.1254e+00, -1.1254e+00],\n",
       "           [-1.1254e+00, -1.1254e+00, -1.1254e+00,  ..., -1.1254e+00,\n",
       "            -1.1254e+00, -1.1254e+00]]],\n",
       "\n",
       "\n",
       "         [[[-1.7522e-02, -1.7522e-02, -1.7522e-02,  ..., -1.7522e-02,\n",
       "            -1.7522e-02, -1.7522e-02],\n",
       "           [-1.7522e-02, -1.3902e-02, -1.3882e-02,  ..., -1.3841e-02,\n",
       "            -1.3869e-02, -1.7522e-02],\n",
       "           [-1.7522e-02, -1.0772e-02, -1.0750e-02,  ..., -1.0727e-02,\n",
       "            -1.0814e-02, -1.7522e-02],\n",
       "           ...,\n",
       "           [-1.7522e-02, -9.2949e-03, -9.2776e-03,  ..., -9.2580e-03,\n",
       "            -9.3506e-03, -1.7522e-02],\n",
       "           [-1.7522e-02, -1.3128e-02, -1.3151e-02,  ..., -1.3034e-02,\n",
       "            -1.3071e-02, -1.7522e-02],\n",
       "           [-1.7522e-02, -1.7522e-02, -1.7522e-02,  ..., -1.7522e-02,\n",
       "            -1.7522e-02, -1.7522e-02]],\n",
       "\n",
       "          [[-1.7522e-02, -1.7522e-02, -1.7522e-02,  ..., -1.7522e-02,\n",
       "            -1.7522e-02, -1.7522e-02],\n",
       "           [-1.7522e-02,  3.1217e-02,  2.7214e-02,  ...,  2.7767e-02,\n",
       "             2.7724e-02, -1.7522e-02],\n",
       "           [-1.7522e-02,  7.3123e-02,  6.6462e-02,  ...,  6.6613e-02,\n",
       "             6.5883e-02, -1.7522e-02],\n",
       "           ...,\n",
       "           [-1.7522e-02,  9.4095e-02,  8.7269e-02,  ...,  8.7101e-02,\n",
       "             8.5383e-02, -1.7522e-02],\n",
       "           [-1.7522e-02,  4.9207e-02,  4.0591e-02,  ...,  3.9083e-02,\n",
       "             3.8321e-02, -1.7522e-02],\n",
       "           [-1.7522e-02, -1.7522e-02, -1.7522e-02,  ..., -1.7522e-02,\n",
       "            -1.7522e-02, -1.7522e-02]],\n",
       "\n",
       "          [[-1.7522e-02, -1.7522e-02, -1.7522e-02,  ..., -1.7522e-02,\n",
       "            -1.7522e-02, -1.7522e-02],\n",
       "           [-1.7522e-02,  7.9412e-02,  7.1557e-02,  ...,  6.7090e-02,\n",
       "             6.9091e-02, -1.7522e-02],\n",
       "           [-1.7522e-02,  1.5522e-01,  1.4642e-01,  ...,  1.4012e-01,\n",
       "             1.4276e-01, -1.7522e-02],\n",
       "           ...,\n",
       "           [-1.7522e-02,  1.9888e-01,  1.9301e-01,  ...,  1.8507e-01,\n",
       "             1.8787e-01, -1.7522e-02],\n",
       "           [-1.7522e-02,  9.5858e-02,  9.3853e-02,  ...,  9.0960e-02,\n",
       "             9.2413e-02, -1.7522e-02],\n",
       "           [-1.7522e-02, -1.7522e-02, -1.7522e-02,  ..., -1.7522e-02,\n",
       "            -1.7522e-02, -1.7522e-02]],\n",
       "\n",
       "          ...,\n",
       "\n",
       "          [[-1.7522e-02, -1.7522e-02, -1.7522e-02,  ..., -1.7522e-02,\n",
       "            -1.7522e-02, -1.7522e-02],\n",
       "           [-1.7522e-02, -6.2023e-02, -1.5254e-01,  ...,  6.5399e-02,\n",
       "             7.3993e-02, -1.7522e-02],\n",
       "           [-1.7522e-02, -1.1549e-01, -2.4305e-01,  ...,  1.2509e-01,\n",
       "             1.4069e-01, -1.7522e-02],\n",
       "           ...,\n",
       "           [-1.7522e-02, -1.7522e-02, -1.7522e-02,  ..., -7.4494e-02,\n",
       "            -5.2483e-02, -1.7522e-02],\n",
       "           [-1.7522e-02, -1.7522e-02, -1.7522e-02,  ..., -4.7521e-02,\n",
       "            -3.5167e-02, -1.7522e-02],\n",
       "           [-1.7522e-02, -1.7522e-02, -1.7522e-02,  ..., -1.7522e-02,\n",
       "            -1.7522e-02, -1.7522e-02]],\n",
       "\n",
       "          [[-1.7522e-02, -1.7522e-02, -1.7522e-02,  ..., -1.7522e-02,\n",
       "            -1.7522e-02, -1.7522e-02],\n",
       "           [-1.7522e-02, -6.4945e-02, -1.4666e-01,  ...,  6.4447e-02,\n",
       "             7.1425e-02, -1.7522e-02],\n",
       "           [-1.7522e-02, -1.1828e-01, -2.3136e-01,  ...,  1.2133e-01,\n",
       "             1.3293e-01, -1.7522e-02],\n",
       "           ...,\n",
       "           [-1.7522e-02, -1.7522e-02, -1.7522e-02,  ..., -6.9458e-02,\n",
       "            -5.0811e-02, -1.7522e-02],\n",
       "           [-1.7522e-02, -1.7522e-02, -1.7522e-02,  ..., -4.4861e-02,\n",
       "            -3.4317e-02, -1.7522e-02],\n",
       "           [-1.7522e-02, -1.7522e-02, -1.7522e-02,  ..., -1.7522e-02,\n",
       "            -1.7522e-02, -1.7522e-02]],\n",
       "\n",
       "          [[-1.7522e-02, -1.7522e-02, -1.7522e-02,  ..., -1.7522e-02,\n",
       "            -1.7522e-02, -1.7522e-02],\n",
       "           [-1.7522e-02, -1.7522e-02, -1.7522e-02,  ..., -1.7522e-02,\n",
       "            -1.7522e-02, -1.7522e-02],\n",
       "           [-1.7522e-02, -1.7522e-02, -1.7522e-02,  ..., -1.7522e-02,\n",
       "            -1.7522e-02, -1.7522e-02],\n",
       "           ...,\n",
       "           [-1.7522e-02, -1.7522e-02, -1.7522e-02,  ..., -1.7522e-02,\n",
       "            -1.7522e-02, -1.7522e-02],\n",
       "           [-1.7522e-02, -1.7522e-02, -1.7522e-02,  ..., -1.7522e-02,\n",
       "            -1.7522e-02, -1.7522e-02],\n",
       "           [-1.7522e-02, -1.7522e-02, -1.7522e-02,  ..., -1.7522e-02,\n",
       "            -1.7522e-02, -1.7522e-02]]],\n",
       "\n",
       "\n",
       "         [[[-1.4692e-01, -1.4692e-01, -1.4692e-01,  ..., -1.4692e-01,\n",
       "            -1.4692e-01, -1.4692e-01],\n",
       "           [-1.4692e-01,  1.9648e-01, -5.7432e-02,  ..., -2.2199e-01,\n",
       "            -3.1622e-01, -1.4692e-01],\n",
       "           [-1.4692e-01,  1.9657e-01, -5.7370e-02,  ..., -2.2184e-01,\n",
       "            -3.1627e-01, -1.4692e-01],\n",
       "           ...,\n",
       "           [-1.4692e-01,  1.9403e-01, -5.6974e-02,  ..., -2.2222e-01,\n",
       "            -3.1489e-01, -1.4692e-01],\n",
       "           [-1.4692e-01,  1.9384e-01, -5.6962e-02,  ..., -2.2221e-01,\n",
       "            -3.1466e-01, -1.4692e-01],\n",
       "           [-1.4692e-01, -1.4692e-01, -1.4692e-01,  ..., -1.4692e-01,\n",
       "            -1.4692e-01, -1.4692e-01]],\n",
       "\n",
       "          [[-1.4692e-01, -1.4692e-01, -1.4692e-01,  ..., -1.4692e-01,\n",
       "            -1.4692e-01, -1.4692e-01],\n",
       "           [-1.4692e-01, -9.4584e-02, -2.9113e-02,  ..., -2.1283e-01,\n",
       "            -2.3696e-01, -1.4692e-01],\n",
       "           [-1.4692e-01, -9.7204e-02, -2.8549e-02,  ..., -2.1261e-01,\n",
       "            -2.3745e-01, -1.4692e-01],\n",
       "           ...,\n",
       "           [-1.4692e-01, -1.0838e-01, -6.1958e-02,  ..., -2.2209e-01,\n",
       "            -2.3826e-01, -1.4692e-01],\n",
       "           [-1.4692e-01, -1.0490e-01, -6.2258e-02,  ..., -2.2251e-01,\n",
       "            -2.3820e-01, -1.4692e-01],\n",
       "           [-1.4692e-01, -1.4692e-01, -1.4692e-01,  ..., -1.4692e-01,\n",
       "            -1.4692e-01, -1.4692e-01]],\n",
       "\n",
       "          [[-1.4692e-01, -1.4692e-01, -1.4692e-01,  ..., -1.4692e-01,\n",
       "            -1.4692e-01, -1.4692e-01],\n",
       "           [-1.4692e-01, -9.6956e-02,  6.7901e-02,  ..., -1.0449e-01,\n",
       "            -1.3732e-01, -1.4692e-01],\n",
       "           [-1.4692e-01, -1.0216e-01,  6.2939e-02,  ..., -1.0289e-01,\n",
       "            -1.3959e-01, -1.4692e-01],\n",
       "           ...,\n",
       "           [-1.4692e-01, -1.3838e-01, -9.3881e-02,  ..., -1.8573e-01,\n",
       "            -1.9029e-01, -1.4692e-01],\n",
       "           [-1.4692e-01, -1.3839e-01, -9.8885e-02,  ..., -1.8822e-01,\n",
       "            -1.9174e-01, -1.4692e-01],\n",
       "           [-1.4692e-01, -1.4692e-01, -1.4692e-01,  ..., -1.4692e-01,\n",
       "            -1.4692e-01, -1.4692e-01]],\n",
       "\n",
       "          ...,\n",
       "\n",
       "          [[-1.4692e-01, -1.4692e-01, -1.4692e-01,  ..., -1.4692e-01,\n",
       "            -1.4692e-01, -1.4692e-01],\n",
       "           [-1.4692e-01, -1.4210e-01, -9.0131e-02,  ..., -8.9547e-02,\n",
       "            -1.2618e-01, -1.4692e-01],\n",
       "           [-1.4692e-01, -1.4180e-01, -1.1129e-01,  ..., -1.1595e-01,\n",
       "            -1.3694e-01, -1.4692e-01],\n",
       "           ...,\n",
       "           [-1.4692e-01, -1.4692e-01, -1.4692e-01,  ..., -1.5386e-01,\n",
       "            -1.4956e-01, -1.4692e-01],\n",
       "           [-1.4692e-01, -1.4692e-01, -1.4692e-01,  ..., -1.5438e-01,\n",
       "            -1.4976e-01, -1.4692e-01],\n",
       "           [-1.4692e-01, -1.4692e-01, -1.4692e-01,  ..., -1.4692e-01,\n",
       "            -1.4692e-01, -1.4692e-01]],\n",
       "\n",
       "          [[-1.4692e-01, -1.4692e-01, -1.4692e-01,  ..., -1.4692e-01,\n",
       "            -1.4692e-01, -1.4692e-01],\n",
       "           [-1.4692e-01, -1.4177e-01, -9.2678e-02,  ..., -9.1093e-02,\n",
       "            -1.2669e-01, -1.4692e-01],\n",
       "           [-1.4692e-01, -1.4210e-01, -1.1522e-01,  ..., -1.1883e-01,\n",
       "            -1.3754e-01, -1.4692e-01],\n",
       "           ...,\n",
       "           [-1.4692e-01, -1.4692e-01, -1.4692e-01,  ..., -1.5233e-01,\n",
       "            -1.4993e-01, -1.4692e-01],\n",
       "           [-1.4692e-01, -1.4692e-01, -1.4692e-01,  ..., -1.5300e-01,\n",
       "            -1.5018e-01, -1.4692e-01],\n",
       "           [-1.4692e-01, -1.4692e-01, -1.4692e-01,  ..., -1.4692e-01,\n",
       "            -1.4692e-01, -1.4692e-01]],\n",
       "\n",
       "          [[-1.4692e-01, -1.4692e-01, -1.4692e-01,  ..., -1.4692e-01,\n",
       "            -1.4692e-01, -1.4692e-01],\n",
       "           [-1.4692e-01, -1.4692e-01, -1.4692e-01,  ..., -1.4692e-01,\n",
       "            -1.4692e-01, -1.4692e-01],\n",
       "           [-1.4692e-01, -1.4692e-01, -1.4692e-01,  ..., -1.4692e-01,\n",
       "            -1.4692e-01, -1.4692e-01],\n",
       "           ...,\n",
       "           [-1.4692e-01, -1.4692e-01, -1.4692e-01,  ..., -1.4692e-01,\n",
       "            -1.4692e-01, -1.4692e-01],\n",
       "           [-1.4692e-01, -1.4692e-01, -1.4692e-01,  ..., -1.4692e-01,\n",
       "            -1.4692e-01, -1.4692e-01],\n",
       "           [-1.4692e-01, -1.4692e-01, -1.4692e-01,  ..., -1.4692e-01,\n",
       "            -1.4692e-01, -1.4692e-01]]],\n",
       "\n",
       "\n",
       "         [[[-9.8857e-01, -9.8857e-01, -9.8857e-01,  ..., -9.8857e-01,\n",
       "            -9.8857e-01, -9.8857e-01],\n",
       "           [-9.8857e-01, -8.9613e-01, -8.9835e-01,  ..., -8.9875e-01,\n",
       "            -8.9742e-01, -9.8857e-01],\n",
       "           [-9.8857e-01, -8.9664e-01, -8.9886e-01,  ..., -8.9926e-01,\n",
       "            -8.9793e-01, -9.8857e-01],\n",
       "           ...,\n",
       "           [-9.8857e-01, -9.1628e-01, -9.1847e-01,  ..., -9.1867e-01,\n",
       "            -9.1735e-01, -9.8857e-01],\n",
       "           [-9.8857e-01, -9.1690e-01, -9.1909e-01,  ..., -9.1930e-01,\n",
       "            -9.1797e-01, -9.8857e-01],\n",
       "           [-9.8857e-01, -9.8857e-01, -9.8857e-01,  ..., -9.8857e-01,\n",
       "            -9.8857e-01, -9.8857e-01]],\n",
       "\n",
       "          [[-9.8857e-01, -9.8857e-01, -9.8857e-01,  ..., -9.8857e-01,\n",
       "            -9.8857e-01, -9.8857e-01],\n",
       "           [-9.8857e-01, -9.0045e-01, -9.0049e-01,  ..., -9.0120e-01,\n",
       "            -9.0133e-01, -9.8857e-01],\n",
       "           [-9.8857e-01, -9.0097e-01, -9.0102e-01,  ..., -9.0172e-01,\n",
       "            -9.0185e-01, -9.8857e-01],\n",
       "           ...,\n",
       "           [-9.8857e-01, -9.2243e-01, -9.2239e-01,  ..., -9.2240e-01,\n",
       "            -9.2251e-01, -9.8857e-01],\n",
       "           [-9.8857e-01, -9.2318e-01, -9.2308e-01,  ..., -9.2304e-01,\n",
       "            -9.2315e-01, -9.8857e-01],\n",
       "           [-9.8857e-01, -9.8857e-01, -9.8857e-01,  ..., -9.8857e-01,\n",
       "            -9.8857e-01, -9.8857e-01]],\n",
       "\n",
       "          [[-9.8857e-01, -9.8857e-01, -9.8857e-01,  ..., -9.8857e-01,\n",
       "            -9.8857e-01, -9.8857e-01],\n",
       "           [-9.8857e-01, -8.9856e-01, -8.9888e-01,  ..., -9.0187e-01,\n",
       "            -9.0211e-01, -9.8857e-01],\n",
       "           [-9.8857e-01, -8.9912e-01, -8.9943e-01,  ..., -9.0239e-01,\n",
       "            -9.0263e-01, -9.8857e-01],\n",
       "           ...,\n",
       "           [-9.8857e-01, -9.2621e-01, -9.2616e-01,  ..., -9.2624e-01,\n",
       "            -9.2628e-01, -9.8857e-01],\n",
       "           [-9.8857e-01, -9.2684e-01, -9.2680e-01,  ..., -9.2685e-01,\n",
       "            -9.2689e-01, -9.8857e-01],\n",
       "           [-9.8857e-01, -9.8857e-01, -9.8857e-01,  ..., -9.8857e-01,\n",
       "            -9.8857e-01, -9.8857e-01]],\n",
       "\n",
       "          ...,\n",
       "\n",
       "          [[-9.8857e-01, -9.8857e-01, -9.8857e-01,  ..., -9.8857e-01,\n",
       "            -9.8857e-01, -9.8857e-01],\n",
       "           [-9.8857e-01, -9.8615e-01, -9.8612e-01,  ..., -9.8607e-01,\n",
       "            -9.8605e-01, -9.8857e-01],\n",
       "           [-9.8857e-01, -9.8618e-01, -9.8617e-01,  ..., -9.8615e-01,\n",
       "            -9.8614e-01, -9.8857e-01],\n",
       "           ...,\n",
       "           [-9.8857e-01, -9.8857e-01, -9.8857e-01,  ..., -9.8684e-01,\n",
       "            -9.8684e-01, -9.8857e-01],\n",
       "           [-9.8857e-01, -9.8857e-01, -9.8857e-01,  ..., -9.8687e-01,\n",
       "            -9.8687e-01, -9.8857e-01],\n",
       "           [-9.8857e-01, -9.8857e-01, -9.8857e-01,  ..., -9.8857e-01,\n",
       "            -9.8857e-01, -9.8857e-01]],\n",
       "\n",
       "          [[-9.8857e-01, -9.8857e-01, -9.8857e-01,  ..., -9.8857e-01,\n",
       "            -9.8857e-01, -9.8857e-01],\n",
       "           [-9.8857e-01, -9.8732e-01, -9.8730e-01,  ..., -9.8725e-01,\n",
       "            -9.8724e-01, -9.8857e-01],\n",
       "           [-9.8857e-01, -9.8735e-01, -9.8734e-01,  ..., -9.8732e-01,\n",
       "            -9.8731e-01, -9.8857e-01],\n",
       "           ...,\n",
       "           [-9.8857e-01, -9.8857e-01, -9.8857e-01,  ..., -9.8766e-01,\n",
       "            -9.8766e-01, -9.8857e-01],\n",
       "           [-9.8857e-01, -9.8857e-01, -9.8857e-01,  ..., -9.8768e-01,\n",
       "            -9.8768e-01, -9.8857e-01],\n",
       "           [-9.8857e-01, -9.8857e-01, -9.8857e-01,  ..., -9.8857e-01,\n",
       "            -9.8857e-01, -9.8857e-01]],\n",
       "\n",
       "          [[-9.8857e-01, -9.8857e-01, -9.8857e-01,  ..., -9.8857e-01,\n",
       "            -9.8857e-01, -9.8857e-01],\n",
       "           [-9.8857e-01, -9.8857e-01, -9.8857e-01,  ..., -9.8857e-01,\n",
       "            -9.8857e-01, -9.8857e-01],\n",
       "           [-9.8857e-01, -9.8857e-01, -9.8857e-01,  ..., -9.8857e-01,\n",
       "            -9.8857e-01, -9.8857e-01],\n",
       "           ...,\n",
       "           [-9.8857e-01, -9.8857e-01, -9.8857e-01,  ..., -9.8857e-01,\n",
       "            -9.8857e-01, -9.8857e-01],\n",
       "           [-9.8857e-01, -9.8857e-01, -9.8857e-01,  ..., -9.8857e-01,\n",
       "            -9.8857e-01, -9.8857e-01],\n",
       "           [-9.8857e-01, -9.8857e-01, -9.8857e-01,  ..., -9.8857e-01,\n",
       "            -9.8857e-01, -9.8857e-01]]],\n",
       "\n",
       "\n",
       "         [[[-1.3526e+00, -1.3526e+00, -1.3526e+00,  ..., -1.3526e+00,\n",
       "            -1.3526e+00, -1.3526e+00],\n",
       "           [-1.3526e+00,  7.3684e-01,  7.3684e-01,  ...,  7.3684e-01,\n",
       "             7.3684e-01, -1.3526e+00],\n",
       "           [-1.3526e+00,  7.3684e-01,  7.3684e-01,  ...,  7.3684e-01,\n",
       "             7.3684e-01, -1.3526e+00],\n",
       "           ...,\n",
       "           [-1.3526e+00,  7.3684e-01,  7.3684e-01,  ...,  7.3684e-01,\n",
       "             7.3684e-01, -1.3526e+00],\n",
       "           [-1.3526e+00,  7.3684e-01,  7.3684e-01,  ...,  7.3684e-01,\n",
       "             7.3684e-01, -1.3526e+00],\n",
       "           [-1.3526e+00, -1.3526e+00, -1.3526e+00,  ..., -1.3526e+00,\n",
       "            -1.3526e+00, -1.3526e+00]],\n",
       "\n",
       "          [[-1.3526e+00, -1.3526e+00, -1.3526e+00,  ..., -1.3526e+00,\n",
       "            -1.3526e+00, -1.3526e+00],\n",
       "           [-1.3526e+00,  7.3685e-01,  7.3684e-01,  ...,  7.3684e-01,\n",
       "             7.3684e-01, -1.3526e+00],\n",
       "           [-1.3526e+00,  7.3685e-01,  7.3684e-01,  ...,  7.3684e-01,\n",
       "             7.3684e-01, -1.3526e+00],\n",
       "           ...,\n",
       "           [-1.3526e+00,  7.3685e-01,  7.3684e-01,  ...,  7.3684e-01,\n",
       "             7.3684e-01, -1.3526e+00],\n",
       "           [-1.3526e+00,  7.3685e-01,  7.3684e-01,  ...,  7.3684e-01,\n",
       "             7.3684e-01, -1.3526e+00],\n",
       "           [-1.3526e+00, -1.3526e+00, -1.3526e+00,  ..., -1.3526e+00,\n",
       "            -1.3526e+00, -1.3526e+00]],\n",
       "\n",
       "          [[-1.3526e+00, -1.3526e+00, -1.3526e+00,  ..., -1.3526e+00,\n",
       "            -1.3526e+00, -1.3526e+00],\n",
       "           [-1.3526e+00,  7.3685e-01,  7.3684e-01,  ...,  7.3684e-01,\n",
       "             7.3684e-01, -1.3526e+00],\n",
       "           [-1.3526e+00,  7.3685e-01,  7.3684e-01,  ...,  7.3684e-01,\n",
       "             7.3684e-01, -1.3526e+00],\n",
       "           ...,\n",
       "           [-1.3526e+00,  7.3685e-01,  7.3684e-01,  ...,  7.3684e-01,\n",
       "             7.3684e-01, -1.3526e+00],\n",
       "           [-1.3526e+00,  7.3685e-01,  7.3684e-01,  ...,  7.3684e-01,\n",
       "             7.3684e-01, -1.3526e+00],\n",
       "           [-1.3526e+00, -1.3526e+00, -1.3526e+00,  ..., -1.3526e+00,\n",
       "            -1.3526e+00, -1.3526e+00]],\n",
       "\n",
       "          ...,\n",
       "\n",
       "          [[-1.3526e+00, -1.3526e+00, -1.3526e+00,  ..., -1.3526e+00,\n",
       "            -1.3526e+00, -1.3526e+00],\n",
       "           [-1.3526e+00,  7.5475e-01,  7.5437e-01,  ...,  7.5160e-01,\n",
       "             7.5065e-01, -1.3526e+00],\n",
       "           [-1.3526e+00,  7.5197e-01,  7.5210e-01,  ...,  7.5188e-01,\n",
       "             7.5109e-01, -1.3526e+00],\n",
       "           ...,\n",
       "           [-1.3526e+00, -1.3526e+00, -1.3526e+00,  ...,  7.4233e-01,\n",
       "             7.3951e-01, -1.3526e+00],\n",
       "           [-1.3526e+00, -1.3526e+00, -1.3526e+00,  ...,  7.4232e-01,\n",
       "             7.3951e-01, -1.3526e+00],\n",
       "           [-1.3526e+00, -1.3526e+00, -1.3526e+00,  ..., -1.3526e+00,\n",
       "            -1.3526e+00, -1.3526e+00]],\n",
       "\n",
       "          [[-1.3526e+00, -1.3526e+00, -1.3526e+00,  ..., -1.3526e+00,\n",
       "            -1.3526e+00, -1.3526e+00],\n",
       "           [-1.3526e+00,  7.5449e-01,  7.5418e-01,  ...,  7.5167e-01,\n",
       "             7.5078e-01, -1.3526e+00],\n",
       "           [-1.3526e+00,  7.5173e-01,  7.5192e-01,  ...,  7.5190e-01,\n",
       "             7.5118e-01, -1.3526e+00],\n",
       "           ...,\n",
       "           [-1.3526e+00, -1.3526e+00, -1.3526e+00,  ...,  7.4312e-01,\n",
       "             7.4012e-01, -1.3526e+00],\n",
       "           [-1.3526e+00, -1.3526e+00, -1.3526e+00,  ...,  7.4310e-01,\n",
       "             7.4011e-01, -1.3526e+00],\n",
       "           [-1.3526e+00, -1.3526e+00, -1.3526e+00,  ..., -1.3526e+00,\n",
       "            -1.3526e+00, -1.3526e+00]],\n",
       "\n",
       "          [[-1.3526e+00, -1.3526e+00, -1.3526e+00,  ..., -1.3526e+00,\n",
       "            -1.3526e+00, -1.3526e+00],\n",
       "           [-1.3526e+00, -1.3526e+00, -1.3526e+00,  ..., -1.3526e+00,\n",
       "            -1.3526e+00, -1.3526e+00],\n",
       "           [-1.3526e+00, -1.3526e+00, -1.3526e+00,  ..., -1.3526e+00,\n",
       "            -1.3526e+00, -1.3526e+00],\n",
       "           ...,\n",
       "           [-1.3526e+00, -1.3526e+00, -1.3526e+00,  ..., -1.3526e+00,\n",
       "            -1.3526e+00, -1.3526e+00],\n",
       "           [-1.3526e+00, -1.3526e+00, -1.3526e+00,  ..., -1.3526e+00,\n",
       "            -1.3526e+00, -1.3526e+00],\n",
       "           [-1.3526e+00, -1.3526e+00, -1.3526e+00,  ..., -1.3526e+00,\n",
       "            -1.3526e+00, -1.3526e+00]]]],\n",
       "\n",
       "\n",
       "\n",
       "        [[[[-1.1254e+00, -1.1254e+00, -1.1254e+00,  ..., -1.1254e+00,\n",
       "            -1.1254e+00, -1.1254e+00],\n",
       "           [-1.1254e+00,  1.2248e+00,  1.2052e+00,  ...,  1.2043e+00,\n",
       "             1.2124e+00, -1.1254e+00],\n",
       "           [-1.1254e+00,  1.2247e+00,  1.2052e+00,  ...,  1.2043e+00,\n",
       "             1.2123e+00, -1.1254e+00],\n",
       "           ...,\n",
       "           [-1.1254e+00,  1.2271e+00,  1.2067e+00,  ...,  1.2055e+00,\n",
       "             1.2134e+00, -1.1254e+00],\n",
       "           [-1.1254e+00,  1.2273e+00,  1.2067e+00,  ...,  1.2054e+00,\n",
       "             1.2134e+00, -1.1254e+00],\n",
       "           [-1.1254e+00, -1.1254e+00, -1.1254e+00,  ..., -1.1254e+00,\n",
       "            -1.1254e+00, -1.1254e+00]],\n",
       "\n",
       "          [[-1.1254e+00, -1.1254e+00, -1.1254e+00,  ..., -1.1254e+00,\n",
       "            -1.1254e+00, -1.1254e+00],\n",
       "           [-1.1254e+00,  1.1719e+00,  1.2385e+00,  ...,  1.2493e+00,\n",
       "             1.2781e+00, -1.1254e+00],\n",
       "           [-1.1254e+00,  1.1573e+00,  1.2384e+00,  ...,  1.2493e+00,\n",
       "             1.2781e+00, -1.1254e+00],\n",
       "           ...,\n",
       "           [-1.1254e+00,  1.2435e+00,  1.3133e+00,  ...,  1.3097e+00,\n",
       "             1.3386e+00, -1.1254e+00],\n",
       "           [-1.1254e+00,  1.2413e+00,  1.3151e+00,  ...,  1.3109e+00,\n",
       "             1.3398e+00, -1.1254e+00],\n",
       "           [-1.1254e+00, -1.1254e+00, -1.1254e+00,  ..., -1.1254e+00,\n",
       "            -1.1254e+00, -1.1254e+00]],\n",
       "\n",
       "          [[-1.1254e+00, -1.1254e+00, -1.1254e+00,  ..., -1.1254e+00,\n",
       "            -1.1254e+00, -1.1254e+00],\n",
       "           [-1.1254e+00,  7.4264e-01,  1.1334e+00,  ...,  1.2430e+00,\n",
       "             1.2624e+00, -1.1254e+00],\n",
       "           [-1.1254e+00,  7.0877e-01,  1.1320e+00,  ...,  1.2425e+00,\n",
       "             1.2617e+00, -1.1254e+00],\n",
       "           ...,\n",
       "           [-1.1254e+00,  1.4454e+00,  1.4443e+00,  ...,  1.4435e+00,\n",
       "             1.4593e+00, -1.1254e+00],\n",
       "           [-1.1254e+00,  1.1387e+00,  1.4483e+00,  ...,  1.4449e+00,\n",
       "             1.4604e+00, -1.1254e+00],\n",
       "           [-1.1254e+00, -1.1254e+00, -1.1254e+00,  ..., -1.1254e+00,\n",
       "            -1.1254e+00, -1.1254e+00]],\n",
       "\n",
       "          ...,\n",
       "\n",
       "          [[-1.1254e+00, -1.1254e+00, -1.1254e+00,  ..., -1.1254e+00,\n",
       "            -1.1254e+00, -1.1254e+00],\n",
       "           [-1.1254e+00,  7.9558e-01,  1.5229e+00,  ...,  1.6621e+00,\n",
       "             1.5619e+00, -1.1254e+00],\n",
       "           [-1.1254e+00,  1.0746e+00,  1.8807e+00,  ...,  1.7022e+00,\n",
       "             1.5743e+00, -1.1254e+00],\n",
       "           ...,\n",
       "           [-1.1254e+00, -1.7316e+00, -1.6201e+00,  ...,  2.4894e+00,\n",
       "             1.8873e+00, -1.1254e+00],\n",
       "           [-1.1254e+00, -1.7148e+00, -1.6054e+00,  ...,  2.4730e+00,\n",
       "             1.8959e+00, -1.1254e+00],\n",
       "           [-1.1254e+00, -1.1254e+00, -1.1254e+00,  ..., -1.1254e+00,\n",
       "            -1.1254e+00, -1.1254e+00]],\n",
       "\n",
       "          [[-1.1254e+00, -1.1254e+00, -1.1254e+00,  ..., -1.1254e+00,\n",
       "            -1.1254e+00, -1.1254e+00],\n",
       "           [-1.1254e+00,  6.6040e-01,  1.4289e+00,  ...,  1.5857e+00,\n",
       "             1.4728e+00, -1.1254e+00],\n",
       "           [-1.1254e+00,  9.4775e-01,  1.7917e+00,  ...,  1.6220e+00,\n",
       "             1.4804e+00, -1.1254e+00],\n",
       "           ...,\n",
       "           [-1.1254e+00, -1.4449e+00, -1.3415e+00,  ...,  2.2497e+00,\n",
       "             1.6463e+00, -1.1254e+00],\n",
       "           [-1.1254e+00, -1.4406e+00, -1.3358e+00,  ...,  2.2344e+00,\n",
       "             1.6553e+00, -1.1254e+00],\n",
       "           [-1.1254e+00, -1.1254e+00, -1.1254e+00,  ..., -1.1254e+00,\n",
       "            -1.1254e+00, -1.1254e+00]],\n",
       "\n",
       "          [[-1.1254e+00, -1.1254e+00, -1.1254e+00,  ..., -1.1254e+00,\n",
       "            -1.1254e+00, -1.1254e+00],\n",
       "           [-1.1254e+00, -1.1254e+00, -1.1254e+00,  ..., -1.1254e+00,\n",
       "            -1.1254e+00, -1.1254e+00],\n",
       "           [-1.1254e+00, -1.1254e+00, -1.1254e+00,  ..., -1.1254e+00,\n",
       "            -1.1254e+00, -1.1254e+00],\n",
       "           ...,\n",
       "           [-1.1254e+00, -1.1254e+00, -1.1254e+00,  ..., -1.1254e+00,\n",
       "            -1.1254e+00, -1.1254e+00],\n",
       "           [-1.1254e+00, -1.1254e+00, -1.1254e+00,  ..., -1.1254e+00,\n",
       "            -1.1254e+00, -1.1254e+00],\n",
       "           [-1.1254e+00, -1.1254e+00, -1.1254e+00,  ..., -1.1254e+00,\n",
       "            -1.1254e+00, -1.1254e+00]]],\n",
       "\n",
       "\n",
       "         [[[-1.7522e-02, -1.7522e-02, -1.7522e-02,  ..., -1.7522e-02,\n",
       "            -1.7522e-02, -1.7522e-02],\n",
       "           [-1.7522e-02, -1.6533e-03, -1.5383e-03,  ..., -1.3467e-03,\n",
       "            -1.4171e-03, -1.7522e-02],\n",
       "           [-1.7522e-02,  1.1850e-02,  1.2339e-02,  ...,  1.2435e-02,\n",
       "             1.2464e-02, -1.7522e-02],\n",
       "           ...,\n",
       "           [-1.7522e-02,  2.2571e-02,  2.2602e-02,  ...,  2.2552e-02,\n",
       "             2.2490e-02, -1.7522e-02],\n",
       "           [-1.7522e-02,  3.8420e-03,  4.2600e-03,  ...,  4.2256e-03,\n",
       "             4.2626e-03, -1.7522e-02],\n",
       "           [-1.7522e-02, -1.7522e-02, -1.7522e-02,  ..., -1.7522e-02,\n",
       "            -1.7522e-02, -1.7522e-02]],\n",
       "\n",
       "          [[-1.7522e-02, -1.7522e-02, -1.7522e-02,  ..., -1.7522e-02,\n",
       "            -1.7522e-02, -1.7522e-02],\n",
       "           [-1.7522e-02,  1.9146e-01,  1.8662e-01,  ...,  1.8751e-01,\n",
       "             1.8556e-01, -1.7522e-02],\n",
       "           [-1.7522e-02,  3.7301e-01,  3.6330e-01,  ...,  3.6437e-01,\n",
       "             3.5924e-01, -1.7522e-02],\n",
       "           ...,\n",
       "           [-1.7522e-02,  5.2100e-01,  5.0593e-01,  ...,  5.0625e-01,\n",
       "             5.0075e-01, -1.7522e-02],\n",
       "           [-1.7522e-02,  2.7153e-01,  2.6608e-01,  ...,  2.6672e-01,\n",
       "             2.6435e-01, -1.7522e-02],\n",
       "           [-1.7522e-02, -1.7522e-02, -1.7522e-02,  ..., -1.7522e-02,\n",
       "            -1.7522e-02, -1.7522e-02]],\n",
       "\n",
       "          [[-1.7522e-02, -1.7522e-02, -1.7522e-02,  ..., -1.7522e-02,\n",
       "            -1.7522e-02, -1.7522e-02],\n",
       "           [-1.7522e-02,  3.8842e-01,  3.6248e-01,  ...,  3.6422e-01,\n",
       "             3.6315e-01, -1.7522e-02],\n",
       "           [-1.7522e-02,  7.5001e-01,  6.9675e-01,  ...,  6.9772e-01,\n",
       "             6.9138e-01, -1.7522e-02],\n",
       "           ...,\n",
       "           [-1.7522e-02,  1.0517e+00,  1.0491e+00,  ...,  1.0211e+00,\n",
       "             1.0134e+00, -1.7522e-02],\n",
       "           [-1.7522e-02,  5.9912e-01,  5.5668e-01,  ...,  5.4018e-01,\n",
       "             5.3725e-01, -1.7522e-02],\n",
       "           [-1.7522e-02, -1.7522e-02, -1.7522e-02,  ..., -1.7522e-02,\n",
       "            -1.7522e-02, -1.7522e-02]],\n",
       "\n",
       "          ...,\n",
       "\n",
       "          [[-1.7522e-02, -1.7522e-02, -1.7522e-02,  ..., -1.7522e-02,\n",
       "            -1.7522e-02, -1.7522e-02],\n",
       "           [-1.7522e-02, -4.2075e-01, -6.4411e-01,  ...,  9.5322e-01,\n",
       "             1.0360e+00, -1.7522e-02],\n",
       "           [-1.7522e-02, -9.1089e-01, -1.0647e+00,  ...,  1.6918e+00,\n",
       "             1.8470e+00, -1.7522e-02],\n",
       "           ...,\n",
       "           [-1.7522e-02,  4.2115e-01,  3.6456e-01,  ..., -4.3368e-01,\n",
       "            -3.4576e-01, -1.7522e-02],\n",
       "           [-1.7522e-02,  2.1164e-01,  1.8340e-01,  ..., -2.3793e-01,\n",
       "            -1.9416e-01, -1.7522e-02],\n",
       "           [-1.7522e-02, -1.7522e-02, -1.7522e-02,  ..., -1.7522e-02,\n",
       "            -1.7522e-02, -1.7522e-02]],\n",
       "\n",
       "          [[-1.7522e-02, -1.7522e-02, -1.7522e-02,  ..., -1.7522e-02,\n",
       "            -1.7522e-02, -1.7522e-02],\n",
       "           [-1.7522e-02, -3.1814e-01, -5.3807e-01,  ...,  9.3050e-01,\n",
       "             1.0041e+00, -1.7522e-02],\n",
       "           [-1.7522e-02, -7.4032e-01, -8.9551e-01,  ...,  1.6611e+00,\n",
       "             1.7991e+00, -1.7522e-02],\n",
       "           ...,\n",
       "           [-1.7522e-02,  6.3503e-01,  5.9688e-01,  ..., -4.0113e-01,\n",
       "            -3.2888e-01, -1.7522e-02],\n",
       "           [-1.7522e-02,  2.7186e-01,  2.6156e-01,  ..., -2.1550e-01,\n",
       "            -1.8121e-01, -1.7522e-02],\n",
       "           [-1.7522e-02, -1.7522e-02, -1.7522e-02,  ..., -1.7522e-02,\n",
       "            -1.7522e-02, -1.7522e-02]],\n",
       "\n",
       "          [[-1.7522e-02, -1.7522e-02, -1.7522e-02,  ..., -1.7522e-02,\n",
       "            -1.7522e-02, -1.7522e-02],\n",
       "           [-1.7522e-02, -1.7522e-02, -1.7522e-02,  ..., -1.7522e-02,\n",
       "            -1.7522e-02, -1.7522e-02],\n",
       "           [-1.7522e-02, -1.7522e-02, -1.7522e-02,  ..., -1.7522e-02,\n",
       "            -1.7522e-02, -1.7522e-02],\n",
       "           ...,\n",
       "           [-1.7522e-02, -1.7522e-02, -1.7522e-02,  ..., -1.7522e-02,\n",
       "            -1.7522e-02, -1.7522e-02],\n",
       "           [-1.7522e-02, -1.7522e-02, -1.7522e-02,  ..., -1.7522e-02,\n",
       "            -1.7522e-02, -1.7522e-02],\n",
       "           [-1.7522e-02, -1.7522e-02, -1.7522e-02,  ..., -1.7522e-02,\n",
       "            -1.7522e-02, -1.7522e-02]]],\n",
       "\n",
       "\n",
       "         [[[-1.4692e-01, -1.4692e-01, -1.4692e-01,  ..., -1.4692e-01,\n",
       "            -1.4692e-01, -1.4692e-01],\n",
       "           [-1.4692e-01,  2.7643e-01,  4.9237e-03,  ..., -2.7152e-01,\n",
       "            -4.1350e-01, -1.4692e-01],\n",
       "           [-1.4692e-01,  2.7436e-01,  4.3195e-03,  ..., -2.6794e-01,\n",
       "            -4.1587e-01, -1.4692e-01],\n",
       "           ...,\n",
       "           [-1.4692e-01,  2.7509e-01, -9.4039e-04,  ..., -2.6994e-01,\n",
       "            -4.1443e-01, -1.4692e-01],\n",
       "           [-1.4692e-01,  2.7180e-01,  1.2548e-03,  ..., -2.7240e-01,\n",
       "            -4.1466e-01, -1.4692e-01],\n",
       "           [-1.4692e-01, -1.4692e-01, -1.4692e-01,  ..., -1.4692e-01,\n",
       "            -1.4692e-01, -1.4692e-01]],\n",
       "\n",
       "          [[-1.4692e-01, -1.4692e-01, -1.4692e-01,  ..., -1.4692e-01,\n",
       "            -1.4692e-01, -1.4692e-01],\n",
       "           [-1.4692e-01,  4.5575e-02,  9.8001e-02,  ..., -2.7370e-01,\n",
       "            -3.3072e-01, -1.4692e-01],\n",
       "           [-1.4692e-01,  3.8400e-02,  9.8310e-02,  ..., -2.7148e-01,\n",
       "            -3.3209e-01, -1.4692e-01],\n",
       "           ...,\n",
       "           [-1.4692e-01,  4.9450e-03,  1.8354e-02,  ..., -3.1135e-01,\n",
       "            -3.4832e-01, -1.4692e-01],\n",
       "           [-1.4692e-01,  1.5950e-02,  3.0262e-02,  ..., -3.1495e-01,\n",
       "            -3.4711e-01, -1.4692e-01],\n",
       "           [-1.4692e-01, -1.4692e-01, -1.4692e-01,  ..., -1.4692e-01,\n",
       "            -1.4692e-01, -1.4692e-01]],\n",
       "\n",
       "          [[-1.4692e-01, -1.4692e-01, -1.4692e-01,  ..., -1.4692e-01,\n",
       "            -1.4692e-01, -1.4692e-01],\n",
       "           [-1.4692e-01,  1.5413e-01,  4.8287e-01,  ...,  9.6072e-02,\n",
       "            -6.7626e-02, -1.4692e-01],\n",
       "           [-1.4692e-01,  1.5285e-01,  4.9065e-01,  ...,  1.0724e-01,\n",
       "            -7.5158e-02, -1.4692e-01],\n",
       "           ...,\n",
       "           [-1.4692e-01,  1.1971e-02, -9.7319e-03,  ..., -2.2587e-01,\n",
       "            -2.6668e-01, -1.4692e-01],\n",
       "           [-1.4692e-01, -6.8272e-02, -2.8287e-02,  ..., -2.3568e-01,\n",
       "            -2.6977e-01, -1.4692e-01],\n",
       "           [-1.4692e-01, -1.4692e-01, -1.4692e-01,  ..., -1.4692e-01,\n",
       "            -1.4692e-01, -1.4692e-01]],\n",
       "\n",
       "          ...,\n",
       "\n",
       "          [[-1.4692e-01, -1.4692e-01, -1.4692e-01,  ..., -1.4692e-01,\n",
       "            -1.4692e-01, -1.4692e-01],\n",
       "           [-1.4692e-01, -3.0557e-02,  4.7950e-01,  ...,  2.9966e-01,\n",
       "             5.7526e-02, -1.4692e-01],\n",
       "           [-1.4692e-01, -2.1198e-02,  3.6386e-01,  ...,  1.7425e-01,\n",
       "            -3.2859e-03, -1.4692e-01],\n",
       "           ...,\n",
       "           [-1.4692e-01, -1.9270e-01, -3.8506e-01,  ..., -5.7120e-01,\n",
       "            -4.0882e-01, -1.4692e-01],\n",
       "           [-1.4692e-01, -2.1004e-01, -4.1211e-01,  ..., -5.6056e-01,\n",
       "            -3.9927e-01, -1.4692e-01],\n",
       "           [-1.4692e-01, -1.4692e-01, -1.4692e-01,  ..., -1.4692e-01,\n",
       "            -1.4692e-01, -1.4692e-01]],\n",
       "\n",
       "          [[-1.4692e-01, -1.4692e-01, -1.4692e-01,  ..., -1.4692e-01,\n",
       "            -1.4692e-01, -1.4692e-01],\n",
       "           [-1.4692e-01, -3.8356e-02,  4.3926e-01,  ...,  2.7325e-01,\n",
       "             4.3069e-02, -1.4692e-01],\n",
       "           [-1.4692e-01, -3.4594e-02,  3.3137e-01,  ...,  1.5870e-01,\n",
       "            -1.3378e-02, -1.4692e-01],\n",
       "           ...,\n",
       "           [-1.4692e-01, -2.6863e-01, -5.6815e-01,  ..., -6.3620e-01,\n",
       "            -3.8700e-01, -1.4692e-01],\n",
       "           [-1.4692e-01, -3.1289e-01, -6.8304e-01,  ..., -6.4575e-01,\n",
       "            -3.8830e-01, -1.4692e-01],\n",
       "           [-1.4692e-01, -1.4692e-01, -1.4692e-01,  ..., -1.4692e-01,\n",
       "            -1.4692e-01, -1.4692e-01]],\n",
       "\n",
       "          [[-1.4692e-01, -1.4692e-01, -1.4692e-01,  ..., -1.4692e-01,\n",
       "            -1.4692e-01, -1.4692e-01],\n",
       "           [-1.4692e-01, -1.4692e-01, -1.4692e-01,  ..., -1.4692e-01,\n",
       "            -1.4692e-01, -1.4692e-01],\n",
       "           [-1.4692e-01, -1.4692e-01, -1.4692e-01,  ..., -1.4692e-01,\n",
       "            -1.4692e-01, -1.4692e-01],\n",
       "           ...,\n",
       "           [-1.4692e-01, -1.4692e-01, -1.4692e-01,  ..., -1.4692e-01,\n",
       "            -1.4692e-01, -1.4692e-01],\n",
       "           [-1.4692e-01, -1.4692e-01, -1.4692e-01,  ..., -1.4692e-01,\n",
       "            -1.4692e-01, -1.4692e-01],\n",
       "           [-1.4692e-01, -1.4692e-01, -1.4692e-01,  ..., -1.4692e-01,\n",
       "            -1.4692e-01, -1.4692e-01]]],\n",
       "\n",
       "\n",
       "         [[[-9.8857e-01, -9.8857e-01, -9.8857e-01,  ..., -9.8857e-01,\n",
       "            -9.8857e-01, -9.8857e-01],\n",
       "           [-9.8857e-01,  5.5828e-01,  5.3918e-01,  ...,  5.3409e-01,\n",
       "             5.4506e-01, -9.8857e-01],\n",
       "           [-9.8857e-01,  5.4693e-01,  5.2777e-01,  ...,  5.2260e-01,\n",
       "             5.3359e-01, -9.8857e-01],\n",
       "           ...,\n",
       "           [-9.8857e-01,  8.6071e-02,  6.7431e-02,  ...,  6.5304e-02,\n",
       "             7.6297e-02, -9.8857e-01],\n",
       "           [-9.8857e-01,  7.0650e-02,  5.2007e-02,  ...,  4.9877e-02,\n",
       "             6.0838e-02, -9.8857e-01],\n",
       "           [-9.8857e-01, -9.8857e-01, -9.8857e-01,  ..., -9.8857e-01,\n",
       "            -9.8857e-01, -9.8857e-01]],\n",
       "\n",
       "          [[-9.8857e-01, -9.8857e-01, -9.8857e-01,  ..., -9.8857e-01,\n",
       "            -9.8857e-01, -9.8857e-01],\n",
       "           [-9.8857e-01,  5.2274e-01,  5.2302e-01,  ...,  5.1116e-01,\n",
       "             5.0902e-01, -9.8857e-01],\n",
       "           [-9.8857e-01,  5.1151e-01,  5.1168e-01,  ...,  4.9968e-01,\n",
       "             4.9753e-01, -9.8857e-01],\n",
       "           ...,\n",
       "           [-9.8857e-01,  9.4839e-03,  1.1049e-02,  ...,  1.0091e-02,\n",
       "             8.4220e-03, -9.8857e-01],\n",
       "           [-9.8857e-01, -6.6537e-03, -5.3178e-03,  ..., -5.9983e-03,\n",
       "            -7.6595e-03, -9.8857e-01],\n",
       "           [-9.8857e-01, -9.8857e-01, -9.8857e-01,  ..., -9.8857e-01,\n",
       "            -9.8857e-01, -9.8857e-01]],\n",
       "\n",
       "          [[-9.8857e-01, -9.8857e-01, -9.8857e-01,  ..., -9.8857e-01,\n",
       "            -9.8857e-01, -9.8857e-01],\n",
       "           [-9.8857e-01,  5.8805e-01,  5.7996e-01,  ...,  5.1465e-01,\n",
       "             5.1076e-01, -9.8857e-01],\n",
       "           [-9.8857e-01,  5.7733e-01,  5.6909e-01,  ...,  5.0350e-01,\n",
       "             4.9953e-01, -9.8857e-01],\n",
       "           ...,\n",
       "           [-9.8857e-01, -6.3930e-02, -6.3750e-02,  ..., -6.6120e-02,\n",
       "            -6.6650e-02, -9.8857e-01],\n",
       "           [-9.8857e-01, -8.1674e-02, -8.1365e-02,  ..., -8.2211e-02,\n",
       "            -8.2678e-02, -9.8857e-01],\n",
       "           [-9.8857e-01, -9.8857e-01, -9.8857e-01,  ..., -9.8857e-01,\n",
       "            -9.8857e-01, -9.8857e-01]],\n",
       "\n",
       "          ...,\n",
       "\n",
       "          [[-9.8857e-01, -9.8857e-01, -9.8857e-01,  ..., -9.8857e-01,\n",
       "            -9.8857e-01, -9.8857e-01],\n",
       "           [-9.8857e-01, -1.0676e+00, -1.0669e+00,  ..., -1.0641e+00,\n",
       "            -1.0623e+00, -9.8857e-01],\n",
       "           [-9.8857e-01, -1.0746e+00, -1.0744e+00,  ..., -1.0723e+00,\n",
       "            -1.0710e+00, -9.8857e-01],\n",
       "           ...,\n",
       "           [-9.8857e-01, -1.2242e+00, -1.2245e+00,  ..., -1.1957e+00,\n",
       "            -1.1939e+00, -9.8857e-01],\n",
       "           [-9.8857e-01, -1.2244e+00, -1.2254e+00,  ..., -1.1956e+00,\n",
       "            -1.1937e+00, -9.8857e-01],\n",
       "           [-9.8857e-01, -9.8857e-01, -9.8857e-01,  ..., -9.8857e-01,\n",
       "            -9.8857e-01, -9.8857e-01]],\n",
       "\n",
       "          [[-9.8857e-01, -9.8857e-01, -9.8857e-01,  ..., -9.8857e-01,\n",
       "            -9.8857e-01, -9.8857e-01],\n",
       "           [-9.8857e-01, -1.0310e+00, -1.0301e+00,  ..., -1.0270e+00,\n",
       "            -1.0255e+00, -9.8857e-01],\n",
       "           [-9.8857e-01, -1.0362e+00, -1.0353e+00,  ..., -1.0323e+00,\n",
       "            -1.0311e+00, -9.8857e-01],\n",
       "           ...,\n",
       "           [-9.8857e-01, -1.0942e+00, -1.0977e+00,  ..., -1.0900e+00,\n",
       "            -1.0906e+00, -9.8857e-01],\n",
       "           [-9.8857e-01, -1.0954e+00, -1.1004e+00,  ..., -1.0908e+00,\n",
       "            -1.0913e+00, -9.8857e-01],\n",
       "           [-9.8857e-01, -9.8857e-01, -9.8857e-01,  ..., -9.8857e-01,\n",
       "            -9.8857e-01, -9.8857e-01]],\n",
       "\n",
       "          [[-9.8857e-01, -9.8857e-01, -9.8857e-01,  ..., -9.8857e-01,\n",
       "            -9.8857e-01, -9.8857e-01],\n",
       "           [-9.8857e-01, -9.8857e-01, -9.8857e-01,  ..., -9.8857e-01,\n",
       "            -9.8857e-01, -9.8857e-01],\n",
       "           [-9.8857e-01, -9.8857e-01, -9.8857e-01,  ..., -9.8857e-01,\n",
       "            -9.8857e-01, -9.8857e-01],\n",
       "           ...,\n",
       "           [-9.8857e-01, -9.8857e-01, -9.8857e-01,  ..., -9.8857e-01,\n",
       "            -9.8857e-01, -9.8857e-01],\n",
       "           [-9.8857e-01, -9.8857e-01, -9.8857e-01,  ..., -9.8857e-01,\n",
       "            -9.8857e-01, -9.8857e-01],\n",
       "           [-9.8857e-01, -9.8857e-01, -9.8857e-01,  ..., -9.8857e-01,\n",
       "            -9.8857e-01, -9.8857e-01]]],\n",
       "\n",
       "\n",
       "         [[[-1.3526e+00, -1.3526e+00, -1.3526e+00,  ..., -1.3526e+00,\n",
       "            -1.3526e+00, -1.3526e+00],\n",
       "           [-1.3526e+00,  7.3684e-01,  7.3684e-01,  ...,  7.3684e-01,\n",
       "             7.3684e-01, -1.3526e+00],\n",
       "           [-1.3526e+00,  7.3684e-01,  7.3684e-01,  ...,  7.3684e-01,\n",
       "             7.3684e-01, -1.3526e+00],\n",
       "           ...,\n",
       "           [-1.3526e+00,  7.3684e-01,  7.3684e-01,  ...,  7.3684e-01,\n",
       "             7.3684e-01, -1.3526e+00],\n",
       "           [-1.3526e+00,  7.3684e-01,  7.3684e-01,  ...,  7.3684e-01,\n",
       "             7.3684e-01, -1.3526e+00],\n",
       "           [-1.3526e+00, -1.3526e+00, -1.3526e+00,  ..., -1.3526e+00,\n",
       "            -1.3526e+00, -1.3526e+00]],\n",
       "\n",
       "          [[-1.3526e+00, -1.3526e+00, -1.3526e+00,  ..., -1.3526e+00,\n",
       "            -1.3526e+00, -1.3526e+00],\n",
       "           [-1.3526e+00,  7.3686e-01,  7.3684e-01,  ...,  7.3684e-01,\n",
       "             7.3684e-01, -1.3526e+00],\n",
       "           [-1.3526e+00,  7.3687e-01,  7.3684e-01,  ...,  7.3684e-01,\n",
       "             7.3684e-01, -1.3526e+00],\n",
       "           ...,\n",
       "           [-1.3526e+00,  7.3686e-01,  7.3684e-01,  ...,  7.3684e-01,\n",
       "             7.3684e-01, -1.3526e+00],\n",
       "           [-1.3526e+00,  7.3686e-01,  7.3684e-01,  ...,  7.3684e-01,\n",
       "             7.3684e-01, -1.3526e+00],\n",
       "           [-1.3526e+00, -1.3526e+00, -1.3526e+00,  ..., -1.3526e+00,\n",
       "            -1.3526e+00, -1.3526e+00]],\n",
       "\n",
       "          [[-1.3526e+00, -1.3526e+00, -1.3526e+00,  ..., -1.3526e+00,\n",
       "            -1.3526e+00, -1.3526e+00],\n",
       "           [-1.3526e+00,  7.3690e-01,  7.3684e-01,  ...,  7.3684e-01,\n",
       "             7.3684e-01, -1.3526e+00],\n",
       "           [-1.3526e+00,  7.3690e-01,  7.3684e-01,  ...,  7.3684e-01,\n",
       "             7.3685e-01, -1.3526e+00],\n",
       "           ...,\n",
       "           [-1.3526e+00,  7.3685e-01,  7.3684e-01,  ...,  7.3684e-01,\n",
       "             7.3684e-01, -1.3526e+00],\n",
       "           [-1.3526e+00,  7.3690e-01,  7.3684e-01,  ...,  7.3684e-01,\n",
       "             7.3684e-01, -1.3526e+00],\n",
       "           [-1.3526e+00, -1.3526e+00, -1.3526e+00,  ..., -1.3526e+00,\n",
       "            -1.3526e+00, -1.3526e+00]],\n",
       "\n",
       "          ...,\n",
       "\n",
       "          [[-1.3526e+00, -1.3526e+00, -1.3526e+00,  ..., -1.3526e+00,\n",
       "            -1.3526e+00, -1.3526e+00],\n",
       "           [-1.3526e+00,  7.5516e-01,  7.5557e-01,  ...,  7.5556e-01,\n",
       "             7.5501e-01, -1.3526e+00],\n",
       "           [-1.3526e+00,  7.4987e-01,  7.5150e-01,  ...,  7.5496e-01,\n",
       "             7.5458e-01, -1.3526e+00],\n",
       "           ...,\n",
       "           [-1.3526e+00,  7.5550e-01,  7.5566e-01,  ...,  7.3816e-01,\n",
       "             7.3733e-01, -1.3526e+00],\n",
       "           [-1.3526e+00,  7.5514e-01,  7.5532e-01,  ...,  7.3827e-01,\n",
       "             7.3737e-01, -1.3526e+00],\n",
       "           [-1.3526e+00, -1.3526e+00, -1.3526e+00,  ..., -1.3526e+00,\n",
       "            -1.3526e+00, -1.3526e+00]],\n",
       "\n",
       "          [[-1.3526e+00, -1.3526e+00, -1.3526e+00,  ..., -1.3526e+00,\n",
       "            -1.3526e+00, -1.3526e+00],\n",
       "           [-1.3526e+00,  7.5486e-01,  7.5522e-01,  ...,  7.5573e-01,\n",
       "             7.5524e-01, -1.3526e+00],\n",
       "           [-1.3526e+00,  7.4984e-01,  7.5129e-01,  ...,  7.5513e-01,\n",
       "             7.5480e-01, -1.3526e+00],\n",
       "           ...,\n",
       "           [-1.3526e+00,  7.5429e-01,  7.5433e-01,  ...,  7.3850e-01,\n",
       "             7.3750e-01, -1.3526e+00],\n",
       "           [-1.3526e+00,  7.5384e-01,  7.5393e-01,  ...,  7.3862e-01,\n",
       "             7.3754e-01, -1.3526e+00],\n",
       "           [-1.3526e+00, -1.3526e+00, -1.3526e+00,  ..., -1.3526e+00,\n",
       "            -1.3526e+00, -1.3526e+00]],\n",
       "\n",
       "          [[-1.3526e+00, -1.3526e+00, -1.3526e+00,  ..., -1.3526e+00,\n",
       "            -1.3526e+00, -1.3526e+00],\n",
       "           [-1.3526e+00, -1.3526e+00, -1.3526e+00,  ..., -1.3526e+00,\n",
       "            -1.3526e+00, -1.3526e+00],\n",
       "           [-1.3526e+00, -1.3526e+00, -1.3526e+00,  ..., -1.3526e+00,\n",
       "            -1.3526e+00, -1.3526e+00],\n",
       "           ...,\n",
       "           [-1.3526e+00, -1.3526e+00, -1.3526e+00,  ..., -1.3526e+00,\n",
       "            -1.3526e+00, -1.3526e+00],\n",
       "           [-1.3526e+00, -1.3526e+00, -1.3526e+00,  ..., -1.3526e+00,\n",
       "            -1.3526e+00, -1.3526e+00],\n",
       "           [-1.3526e+00, -1.3526e+00, -1.3526e+00,  ..., -1.3526e+00,\n",
       "            -1.3526e+00, -1.3526e+00]]]],\n",
       "\n",
       "\n",
       "\n",
       "        [[[[-1.1254e+00, -1.1254e+00, -1.1254e+00,  ..., -1.1254e+00,\n",
       "            -1.1254e+00, -1.1254e+00],\n",
       "           [-1.1254e+00,  1.1713e+00,  1.1512e+00,  ...,  1.1500e+00,\n",
       "             1.1579e+00, -1.1254e+00],\n",
       "           [-1.1254e+00,  1.1714e+00,  1.1512e+00,  ...,  1.1500e+00,\n",
       "             1.1579e+00, -1.1254e+00],\n",
       "           ...,\n",
       "           [-1.1254e+00,  1.1712e+00,  1.1511e+00,  ...,  1.1499e+00,\n",
       "             1.1578e+00, -1.1254e+00],\n",
       "           [-1.1254e+00,  1.1713e+00,  1.1511e+00,  ...,  1.1500e+00,\n",
       "             1.1579e+00, -1.1254e+00],\n",
       "           [-1.1254e+00, -1.1254e+00, -1.1254e+00,  ..., -1.1254e+00,\n",
       "            -1.1254e+00, -1.1254e+00]],\n",
       "\n",
       "          [[-1.1254e+00, -1.1254e+00, -1.1254e+00,  ..., -1.1254e+00,\n",
       "            -1.1254e+00, -1.1254e+00],\n",
       "           [-1.1254e+00,  1.1547e+00,  1.2268e+00,  ...,  1.2221e+00,\n",
       "             1.2514e+00, -1.1254e+00],\n",
       "           [-1.1254e+00,  1.1505e+00,  1.2260e+00,  ...,  1.2215e+00,\n",
       "             1.2508e+00, -1.1254e+00],\n",
       "           ...,\n",
       "           [-1.1254e+00,  1.1489e+00,  1.2248e+00,  ...,  1.2204e+00,\n",
       "             1.2496e+00, -1.1254e+00],\n",
       "           [-1.1254e+00,  1.1573e+00,  1.2262e+00,  ...,  1.2216e+00,\n",
       "             1.2509e+00, -1.1254e+00],\n",
       "           [-1.1254e+00, -1.1254e+00, -1.1254e+00,  ..., -1.1254e+00,\n",
       "            -1.1254e+00, -1.1254e+00]],\n",
       "\n",
       "          [[-1.1254e+00, -1.1254e+00, -1.1254e+00,  ..., -1.1254e+00,\n",
       "            -1.1254e+00, -1.1254e+00],\n",
       "           [-1.1254e+00,  9.5362e-01,  1.2710e+00,  ...,  1.2666e+00,\n",
       "             1.2746e+00, -1.1254e+00],\n",
       "           [-1.1254e+00,  9.3039e-01,  1.2687e+00,  ...,  1.2651e+00,\n",
       "             1.2732e+00, -1.1254e+00],\n",
       "           ...,\n",
       "           [-1.1254e+00,  1.2601e+00,  1.2650e+00,  ...,  1.2626e+00,\n",
       "             1.2708e+00, -1.1254e+00],\n",
       "           [-1.1254e+00,  9.6808e-01,  1.2699e+00,  ...,  1.2662e+00,\n",
       "             1.2743e+00, -1.1254e+00],\n",
       "           [-1.1254e+00, -1.1254e+00, -1.1254e+00,  ..., -1.1254e+00,\n",
       "            -1.1254e+00, -1.1254e+00]],\n",
       "\n",
       "          ...,\n",
       "\n",
       "          [[-1.1254e+00, -1.1254e+00, -1.1254e+00,  ..., -1.1254e+00,\n",
       "            -1.1254e+00, -1.1254e+00],\n",
       "           [-1.1254e+00,  1.2460e+00,  2.1425e+00,  ...,  2.1976e+00,\n",
       "             1.7362e+00, -1.1254e+00],\n",
       "           [-1.1254e+00,  1.2269e+00,  2.1649e+00,  ...,  2.1828e+00,\n",
       "             1.7251e+00, -1.1254e+00],\n",
       "           ...,\n",
       "           [-1.1254e+00, -1.1254e+00, -1.1254e+00,  ...,  2.3026e+00,\n",
       "             1.8487e+00, -1.1254e+00],\n",
       "           [-1.1254e+00, -1.1254e+00, -1.1254e+00,  ...,  2.3151e+00,\n",
       "             1.8372e+00, -1.1254e+00],\n",
       "           [-1.1254e+00, -1.1254e+00, -1.1254e+00,  ..., -1.1254e+00,\n",
       "            -1.1254e+00, -1.1254e+00]],\n",
       "\n",
       "          [[-1.1254e+00, -1.1254e+00, -1.1254e+00,  ..., -1.1254e+00,\n",
       "            -1.1254e+00, -1.1254e+00],\n",
       "           [-1.1254e+00,  1.2388e+00,  2.1342e+00,  ...,  2.1897e+00,\n",
       "             1.7263e+00, -1.1254e+00],\n",
       "           [-1.1254e+00,  1.2609e+00,  2.1575e+00,  ...,  2.1743e+00,\n",
       "             1.7151e+00, -1.1254e+00],\n",
       "           ...,\n",
       "           [-1.1254e+00, -1.1254e+00, -1.1254e+00,  ...,  2.2409e+00,\n",
       "             1.8296e+00, -1.1254e+00],\n",
       "           [-1.1254e+00, -1.1254e+00, -1.1254e+00,  ...,  2.2563e+00,\n",
       "             1.8185e+00, -1.1254e+00],\n",
       "           [-1.1254e+00, -1.1254e+00, -1.1254e+00,  ..., -1.1254e+00,\n",
       "            -1.1254e+00, -1.1254e+00]],\n",
       "\n",
       "          [[-1.1254e+00, -1.1254e+00, -1.1254e+00,  ..., -1.1254e+00,\n",
       "            -1.1254e+00, -1.1254e+00],\n",
       "           [-1.1254e+00, -1.1254e+00, -1.1254e+00,  ..., -1.1254e+00,\n",
       "            -1.1254e+00, -1.1254e+00],\n",
       "           [-1.1254e+00, -1.1254e+00, -1.1254e+00,  ..., -1.1254e+00,\n",
       "            -1.1254e+00, -1.1254e+00],\n",
       "           ...,\n",
       "           [-1.1254e+00, -1.1254e+00, -1.1254e+00,  ..., -1.1254e+00,\n",
       "            -1.1254e+00, -1.1254e+00],\n",
       "           [-1.1254e+00, -1.1254e+00, -1.1254e+00,  ..., -1.1254e+00,\n",
       "            -1.1254e+00, -1.1254e+00],\n",
       "           [-1.1254e+00, -1.1254e+00, -1.1254e+00,  ..., -1.1254e+00,\n",
       "            -1.1254e+00, -1.1254e+00]]],\n",
       "\n",
       "\n",
       "         [[[-1.7522e-02, -1.7522e-02, -1.7522e-02,  ..., -1.7522e-02,\n",
       "            -1.7522e-02, -1.7522e-02],\n",
       "           [-1.7522e-02, -2.0975e-02, -2.1319e-02,  ..., -2.1452e-02,\n",
       "            -2.1452e-02, -1.7522e-02],\n",
       "           [-1.7522e-02, -2.4050e-02, -2.4416e-02,  ..., -2.4612e-02,\n",
       "            -2.4606e-02, -1.7522e-02],\n",
       "           ...,\n",
       "           [-1.7522e-02, -1.1043e-02, -1.1037e-02,  ..., -1.1205e-02,\n",
       "            -1.1114e-02, -1.7522e-02],\n",
       "           [-1.7522e-02, -1.3591e-02, -1.3772e-02,  ..., -1.3933e-02,\n",
       "            -1.3844e-02, -1.7522e-02],\n",
       "           [-1.7522e-02, -1.7522e-02, -1.7522e-02,  ..., -1.7522e-02,\n",
       "            -1.7522e-02, -1.7522e-02]],\n",
       "\n",
       "          [[-1.7522e-02, -1.7522e-02, -1.7522e-02,  ..., -1.7522e-02,\n",
       "            -1.7522e-02, -1.7522e-02],\n",
       "           [-1.7522e-02, -6.6701e-02, -6.7063e-02,  ..., -6.9813e-02,\n",
       "            -6.9307e-02, -1.7522e-02],\n",
       "           [-1.7522e-02, -1.1212e-01, -1.1017e-01,  ..., -1.1244e-01,\n",
       "            -1.1155e-01, -1.7522e-02],\n",
       "           ...,\n",
       "           [-1.7522e-02,  7.6204e-02,  7.3272e-02,  ...,  7.2495e-02,\n",
       "             7.1672e-02, -1.7522e-02],\n",
       "           [-1.7522e-02,  3.2445e-02,  3.2219e-02,  ...,  3.3768e-02,\n",
       "             3.3270e-02, -1.7522e-02],\n",
       "           [-1.7522e-02, -1.7522e-02, -1.7522e-02,  ..., -1.7522e-02,\n",
       "            -1.7522e-02, -1.7522e-02]],\n",
       "\n",
       "          [[-1.7522e-02, -1.7522e-02, -1.7522e-02,  ..., -1.7522e-02,\n",
       "            -1.7522e-02, -1.7522e-02],\n",
       "           [-1.7522e-02, -1.3773e-01, -1.2792e-01,  ..., -1.2448e-01,\n",
       "            -1.2393e-01, -1.7522e-02],\n",
       "           [-1.7522e-02, -2.3938e-01, -2.2048e-01,  ..., -2.1515e-01,\n",
       "            -2.1412e-01, -1.7522e-02],\n",
       "           ...,\n",
       "           [-1.7522e-02,  2.0395e-01,  2.0202e-01,  ...,  1.8920e-01,\n",
       "             1.8782e-01, -1.7522e-02],\n",
       "           [-1.7522e-02,  1.1553e-01,  1.0318e-01,  ...,  9.7014e-02,\n",
       "             9.6326e-02, -1.7522e-02],\n",
       "           [-1.7522e-02, -1.7522e-02, -1.7522e-02,  ..., -1.7522e-02,\n",
       "            -1.7522e-02, -1.7522e-02]],\n",
       "\n",
       "          ...,\n",
       "\n",
       "          [[-1.7522e-02, -1.7522e-02, -1.7522e-02,  ..., -1.7522e-02,\n",
       "            -1.7522e-02, -1.7522e-02],\n",
       "           [-1.7522e-02,  3.1372e-02, -1.6378e-03,  ..., -3.5547e-02,\n",
       "             9.6869e-03, -1.7522e-02],\n",
       "           [-1.7522e-02,  7.8934e-02,  2.1507e-02,  ..., -6.4788e-02,\n",
       "             2.1637e-02, -1.7522e-02],\n",
       "           ...,\n",
       "           [-1.7522e-02, -1.7522e-02, -1.7522e-02,  ..., -2.4834e-01,\n",
       "            -1.6351e-01, -1.7522e-02],\n",
       "           [-1.7522e-02, -1.7522e-02, -1.7522e-02,  ..., -1.4341e-01,\n",
       "            -9.4488e-02, -1.7522e-02],\n",
       "           [-1.7522e-02, -1.7522e-02, -1.7522e-02,  ..., -1.7522e-02,\n",
       "            -1.7522e-02, -1.7522e-02]],\n",
       "\n",
       "          [[-1.7522e-02, -1.7522e-02, -1.7522e-02,  ..., -1.7522e-02,\n",
       "            -1.7522e-02, -1.7522e-02],\n",
       "           [-1.7522e-02,  2.4888e-02, -1.7585e-03,  ..., -3.5162e-02,\n",
       "             2.7251e-03, -1.7522e-02],\n",
       "           [-1.7522e-02,  5.5870e-02,  1.5360e-02,  ..., -6.3463e-02,\n",
       "             9.0851e-03, -1.7522e-02],\n",
       "           ...,\n",
       "           [-1.7522e-02, -1.7522e-02, -1.7522e-02,  ..., -2.1414e-01,\n",
       "            -1.4716e-01, -1.7522e-02],\n",
       "           [-1.7522e-02, -1.7522e-02, -1.7522e-02,  ..., -1.2623e-01,\n",
       "            -8.6376e-02, -1.7522e-02],\n",
       "           [-1.7522e-02, -1.7522e-02, -1.7522e-02,  ..., -1.7522e-02,\n",
       "            -1.7522e-02, -1.7522e-02]],\n",
       "\n",
       "          [[-1.7522e-02, -1.7522e-02, -1.7522e-02,  ..., -1.7522e-02,\n",
       "            -1.7522e-02, -1.7522e-02],\n",
       "           [-1.7522e-02, -1.7522e-02, -1.7522e-02,  ..., -1.7522e-02,\n",
       "            -1.7522e-02, -1.7522e-02],\n",
       "           [-1.7522e-02, -1.7522e-02, -1.7522e-02,  ..., -1.7522e-02,\n",
       "            -1.7522e-02, -1.7522e-02],\n",
       "           ...,\n",
       "           [-1.7522e-02, -1.7522e-02, -1.7522e-02,  ..., -1.7522e-02,\n",
       "            -1.7522e-02, -1.7522e-02],\n",
       "           [-1.7522e-02, -1.7522e-02, -1.7522e-02,  ..., -1.7522e-02,\n",
       "            -1.7522e-02, -1.7522e-02],\n",
       "           [-1.7522e-02, -1.7522e-02, -1.7522e-02,  ..., -1.7522e-02,\n",
       "            -1.7522e-02, -1.7522e-02]]],\n",
       "\n",
       "\n",
       "         [[[-1.4692e-01, -1.4692e-01, -1.4692e-01,  ..., -1.4692e-01,\n",
       "            -1.4692e-01, -1.4692e-01],\n",
       "           [-1.4692e-01,  2.7237e-01,  1.0623e-03,  ..., -2.7279e-01,\n",
       "            -4.1380e-01, -1.4692e-01],\n",
       "           [-1.4692e-01,  2.7262e-01,  1.0489e-03,  ..., -2.7242e-01,\n",
       "            -4.1593e-01, -1.4692e-01],\n",
       "           ...,\n",
       "           [-1.4692e-01,  2.7520e-01,  1.4219e-03,  ..., -2.7239e-01,\n",
       "            -4.1609e-01, -1.4692e-01],\n",
       "           [-1.4692e-01,  2.7393e-01,  1.0108e-03,  ..., -2.7238e-01,\n",
       "            -4.1608e-01, -1.4692e-01],\n",
       "           [-1.4692e-01, -1.4692e-01, -1.4692e-01,  ..., -1.4692e-01,\n",
       "            -1.4692e-01, -1.4692e-01]],\n",
       "\n",
       "          [[-1.4692e-01, -1.4692e-01, -1.4692e-01,  ..., -1.4692e-01,\n",
       "            -1.4692e-01, -1.4692e-01],\n",
       "           [-1.4692e-01,  1.7141e-02,  3.1772e-02,  ..., -3.2335e-01,\n",
       "            -3.5610e-01, -1.4692e-01],\n",
       "           [-1.4692e-01,  6.1804e-03,  2.4833e-02,  ..., -3.2358e-01,\n",
       "            -3.5587e-01, -1.4692e-01],\n",
       "           ...,\n",
       "           [-1.4692e-01,  4.9894e-03,  2.1403e-02,  ..., -3.2378e-01,\n",
       "            -3.5590e-01, -1.4692e-01],\n",
       "           [-1.4692e-01,  1.1353e-02,  2.5455e-02,  ..., -3.2390e-01,\n",
       "            -3.5603e-01, -1.4692e-01],\n",
       "           [-1.4692e-01, -1.4692e-01, -1.4692e-01,  ..., -1.4692e-01,\n",
       "            -1.4692e-01, -1.4692e-01]],\n",
       "\n",
       "          [[-1.4692e-01, -1.4692e-01, -1.4692e-01,  ..., -1.4692e-01,\n",
       "            -1.4692e-01, -1.4692e-01],\n",
       "           [-1.4692e-01, -6.0465e-02, -1.3291e-02,  ..., -2.6635e-01,\n",
       "            -2.9639e-01, -1.4692e-01],\n",
       "           [-1.4692e-01, -6.0436e-02, -9.4926e-03,  ..., -2.6487e-01,\n",
       "            -2.9567e-01, -1.4692e-01],\n",
       "           ...,\n",
       "           [-1.4692e-01,  7.9180e-03, -1.2594e-02,  ..., -2.6147e-01,\n",
       "            -2.9375e-01, -1.4692e-01],\n",
       "           [-1.4692e-01, -6.4829e-02, -1.9404e-02,  ..., -2.6496e-01,\n",
       "            -2.9536e-01, -1.4692e-01],\n",
       "           [-1.4692e-01, -1.4692e-01, -1.4692e-01,  ..., -1.4692e-01,\n",
       "            -1.4692e-01, -1.4692e-01]],\n",
       "\n",
       "          ...,\n",
       "\n",
       "          [[-1.4692e-01, -1.4692e-01, -1.4692e-01,  ..., -1.4692e-01,\n",
       "            -1.4692e-01, -1.4692e-01],\n",
       "           [-1.4692e-01, -1.4809e-01, -1.4872e-01,  ..., -1.6479e-01,\n",
       "            -1.4932e-01, -1.4692e-01],\n",
       "           [-1.4692e-01, -1.5116e-01, -1.6043e-01,  ..., -1.7816e-01,\n",
       "            -1.5448e-01, -1.4692e-01],\n",
       "           ...,\n",
       "           [-1.4692e-01, -1.4692e-01, -1.4692e-01,  ..., -1.6031e-01,\n",
       "            -1.5144e-01, -1.4692e-01],\n",
       "           [-1.4692e-01, -1.4692e-01, -1.4692e-01,  ..., -1.5992e-01,\n",
       "            -1.5457e-01, -1.4692e-01],\n",
       "           [-1.4692e-01, -1.4692e-01, -1.4692e-01,  ..., -1.4692e-01,\n",
       "            -1.4692e-01, -1.4692e-01]],\n",
       "\n",
       "          [[-1.4692e-01, -1.4692e-01, -1.4692e-01,  ..., -1.4692e-01,\n",
       "            -1.4692e-01, -1.4692e-01],\n",
       "           [-1.4692e-01, -1.5105e-01, -1.5549e-01,  ..., -1.6313e-01,\n",
       "            -1.4848e-01, -1.4692e-01],\n",
       "           [-1.4692e-01, -1.5857e-01, -1.6918e-01,  ..., -1.7521e-01,\n",
       "            -1.5337e-01, -1.4692e-01],\n",
       "           ...,\n",
       "           [-1.4692e-01, -1.4692e-01, -1.4692e-01,  ..., -1.6656e-01,\n",
       "            -1.4575e-01, -1.4692e-01],\n",
       "           [-1.4692e-01, -1.4692e-01, -1.4692e-01,  ..., -1.6289e-01,\n",
       "            -1.4748e-01, -1.4692e-01],\n",
       "           [-1.4692e-01, -1.4692e-01, -1.4692e-01,  ..., -1.4692e-01,\n",
       "            -1.4692e-01, -1.4692e-01]],\n",
       "\n",
       "          [[-1.4692e-01, -1.4692e-01, -1.4692e-01,  ..., -1.4692e-01,\n",
       "            -1.4692e-01, -1.4692e-01],\n",
       "           [-1.4692e-01, -1.4692e-01, -1.4692e-01,  ..., -1.4692e-01,\n",
       "            -1.4692e-01, -1.4692e-01],\n",
       "           [-1.4692e-01, -1.4692e-01, -1.4692e-01,  ..., -1.4692e-01,\n",
       "            -1.4692e-01, -1.4692e-01],\n",
       "           ...,\n",
       "           [-1.4692e-01, -1.4692e-01, -1.4692e-01,  ..., -1.4692e-01,\n",
       "            -1.4692e-01, -1.4692e-01],\n",
       "           [-1.4692e-01, -1.4692e-01, -1.4692e-01,  ..., -1.4692e-01,\n",
       "            -1.4692e-01, -1.4692e-01],\n",
       "           [-1.4692e-01, -1.4692e-01, -1.4692e-01,  ..., -1.4692e-01,\n",
       "            -1.4692e-01, -1.4692e-01]]],\n",
       "\n",
       "\n",
       "         [[[-9.8857e-01, -9.8857e-01, -9.8857e-01,  ..., -9.8857e-01,\n",
       "            -9.8857e-01, -9.8857e-01],\n",
       "           [-9.8857e-01,  9.0005e-02,  7.1737e-02,  ...,  6.9837e-02,\n",
       "             8.0603e-02, -9.8857e-01],\n",
       "           [-9.8857e-01,  9.2644e-02,  7.4384e-02,  ...,  7.2545e-02,\n",
       "             8.3295e-02, -9.8857e-01],\n",
       "           ...,\n",
       "           [-9.8857e-01,  1.0653e-01,  8.8305e-02,  ...,  8.6523e-02,\n",
       "             9.7271e-02, -9.8857e-01],\n",
       "           [-9.8857e-01,  1.0403e-01,  8.5808e-02,  ...,  8.4031e-02,\n",
       "             9.4776e-02, -9.8857e-01],\n",
       "           [-9.8857e-01, -9.8857e-01, -9.8857e-01,  ..., -9.8857e-01,\n",
       "            -9.8857e-01, -9.8857e-01]],\n",
       "\n",
       "          [[-9.8857e-01, -9.8857e-01, -9.8857e-01,  ..., -9.8857e-01,\n",
       "            -9.8857e-01, -9.8857e-01],\n",
       "           [-9.8857e-01,  3.2107e-02,  3.3355e-02,  ...,  3.3165e-02,\n",
       "             3.1824e-02, -9.8857e-01],\n",
       "           [-9.8857e-01,  3.5126e-02,  3.6413e-02,  ...,  3.6187e-02,\n",
       "             3.4849e-02, -9.8857e-01],\n",
       "           ...,\n",
       "           [-9.8857e-01,  4.9420e-02,  5.0912e-02,  ...,  5.0752e-02,\n",
       "             4.9414e-02, -9.8857e-01],\n",
       "           [-9.8857e-01,  4.6396e-02,  4.7710e-02,  ...,  4.7621e-02,\n",
       "             4.6281e-02, -9.8857e-01],\n",
       "           [-9.8857e-01, -9.8857e-01, -9.8857e-01,  ..., -9.8857e-01,\n",
       "            -9.8857e-01, -9.8857e-01]],\n",
       "\n",
       "          [[-9.8857e-01, -9.8857e-01, -9.8857e-01,  ..., -9.8857e-01,\n",
       "            -9.8857e-01, -9.8857e-01],\n",
       "           [-9.8857e-01,  9.6253e-03,  9.8850e-03,  ...,  1.0063e-02,\n",
       "             9.7284e-03, -9.8857e-01],\n",
       "           [-9.8857e-01,  1.3509e-02,  1.3727e-02,  ...,  1.3525e-02,\n",
       "             1.3170e-02, -9.8857e-01],\n",
       "           ...,\n",
       "           [-9.8857e-01,  2.9570e-02,  2.9671e-02,  ...,  2.8841e-02,\n",
       "             2.8438e-02, -9.8857e-01],\n",
       "           [-9.8857e-01,  2.4366e-02,  2.4664e-02,  ...,  2.4461e-02,\n",
       "             2.4100e-02, -9.8857e-01],\n",
       "           [-9.8857e-01, -9.8857e-01, -9.8857e-01,  ..., -9.8857e-01,\n",
       "            -9.8857e-01, -9.8857e-01]],\n",
       "\n",
       "          ...,\n",
       "\n",
       "          [[-9.8857e-01, -9.8857e-01, -9.8857e-01,  ..., -9.8857e-01,\n",
       "            -9.8857e-01, -9.8857e-01],\n",
       "           [-9.8857e-01, -9.5844e-01, -9.5833e-01,  ..., -9.5823e-01,\n",
       "            -9.5827e-01, -9.8857e-01],\n",
       "           [-9.8857e-01, -9.5840e-01, -9.5819e-01,  ..., -9.5808e-01,\n",
       "            -9.5813e-01, -9.8857e-01],\n",
       "           ...,\n",
       "           [-9.8857e-01, -9.8857e-01, -9.8857e-01,  ..., -9.7248e-01,\n",
       "            -9.7266e-01, -9.8857e-01],\n",
       "           [-9.8857e-01, -9.8857e-01, -9.8857e-01,  ..., -9.7333e-01,\n",
       "            -9.7349e-01, -9.8857e-01],\n",
       "           [-9.8857e-01, -9.8857e-01, -9.8857e-01,  ..., -9.8857e-01,\n",
       "            -9.8857e-01, -9.8857e-01]],\n",
       "\n",
       "          [[-9.8857e-01, -9.8857e-01, -9.8857e-01,  ..., -9.8857e-01,\n",
       "            -9.8857e-01, -9.8857e-01],\n",
       "           [-9.8857e-01, -9.7314e-01, -9.7293e-01,  ..., -9.7266e-01,\n",
       "            -9.7270e-01, -9.8857e-01],\n",
       "           [-9.8857e-01, -9.7268e-01, -9.7257e-01,  ..., -9.7251e-01,\n",
       "            -9.7257e-01, -9.8857e-01],\n",
       "           ...,\n",
       "           [-9.8857e-01, -9.8857e-01, -9.8857e-01,  ..., -9.7952e-01,\n",
       "            -9.7970e-01, -9.8857e-01],\n",
       "           [-9.8857e-01, -9.8857e-01, -9.8857e-01,  ..., -9.8004e-01,\n",
       "            -9.8018e-01, -9.8857e-01],\n",
       "           [-9.8857e-01, -9.8857e-01, -9.8857e-01,  ..., -9.8857e-01,\n",
       "            -9.8857e-01, -9.8857e-01]],\n",
       "\n",
       "          [[-9.8857e-01, -9.8857e-01, -9.8857e-01,  ..., -9.8857e-01,\n",
       "            -9.8857e-01, -9.8857e-01],\n",
       "           [-9.8857e-01, -9.8857e-01, -9.8857e-01,  ..., -9.8857e-01,\n",
       "            -9.8857e-01, -9.8857e-01],\n",
       "           [-9.8857e-01, -9.8857e-01, -9.8857e-01,  ..., -9.8857e-01,\n",
       "            -9.8857e-01, -9.8857e-01],\n",
       "           ...,\n",
       "           [-9.8857e-01, -9.8857e-01, -9.8857e-01,  ..., -9.8857e-01,\n",
       "            -9.8857e-01, -9.8857e-01],\n",
       "           [-9.8857e-01, -9.8857e-01, -9.8857e-01,  ..., -9.8857e-01,\n",
       "            -9.8857e-01, -9.8857e-01],\n",
       "           [-9.8857e-01, -9.8857e-01, -9.8857e-01,  ..., -9.8857e-01,\n",
       "            -9.8857e-01, -9.8857e-01]]],\n",
       "\n",
       "\n",
       "         [[[-1.3526e+00, -1.3526e+00, -1.3526e+00,  ..., -1.3526e+00,\n",
       "            -1.3526e+00, -1.3526e+00],\n",
       "           [-1.3526e+00,  7.3684e-01,  7.3684e-01,  ...,  7.3684e-01,\n",
       "             7.3684e-01, -1.3526e+00],\n",
       "           [-1.3526e+00,  7.3684e-01,  7.3684e-01,  ...,  7.3684e-01,\n",
       "             7.3684e-01, -1.3526e+00],\n",
       "           ...,\n",
       "           [-1.3526e+00,  7.3684e-01,  7.3684e-01,  ...,  7.3684e-01,\n",
       "             7.3684e-01, -1.3526e+00],\n",
       "           [-1.3526e+00,  7.3684e-01,  7.3684e-01,  ...,  7.3684e-01,\n",
       "             7.3684e-01, -1.3526e+00],\n",
       "           [-1.3526e+00, -1.3526e+00, -1.3526e+00,  ..., -1.3526e+00,\n",
       "            -1.3526e+00, -1.3526e+00]],\n",
       "\n",
       "          [[-1.3526e+00, -1.3526e+00, -1.3526e+00,  ..., -1.3526e+00,\n",
       "            -1.3526e+00, -1.3526e+00],\n",
       "           [-1.3526e+00,  7.3686e-01,  7.3684e-01,  ...,  7.3684e-01,\n",
       "             7.3684e-01, -1.3526e+00],\n",
       "           [-1.3526e+00,  7.3686e-01,  7.3684e-01,  ...,  7.3684e-01,\n",
       "             7.3684e-01, -1.3526e+00],\n",
       "           ...,\n",
       "           [-1.3526e+00,  7.3686e-01,  7.3684e-01,  ...,  7.3684e-01,\n",
       "             7.3684e-01, -1.3526e+00],\n",
       "           [-1.3526e+00,  7.3686e-01,  7.3684e-01,  ...,  7.3684e-01,\n",
       "             7.3684e-01, -1.3526e+00],\n",
       "           [-1.3526e+00, -1.3526e+00, -1.3526e+00,  ..., -1.3526e+00,\n",
       "            -1.3526e+00, -1.3526e+00]],\n",
       "\n",
       "          [[-1.3526e+00, -1.3526e+00, -1.3526e+00,  ..., -1.3526e+00,\n",
       "            -1.3526e+00, -1.3526e+00],\n",
       "           [-1.3526e+00,  7.3690e-01,  7.3684e-01,  ...,  7.3684e-01,\n",
       "             7.3685e-01, -1.3526e+00],\n",
       "           [-1.3526e+00,  7.3690e-01,  7.3684e-01,  ...,  7.3684e-01,\n",
       "             7.3685e-01, -1.3526e+00],\n",
       "           ...,\n",
       "           [-1.3526e+00,  7.3685e-01,  7.3684e-01,  ...,  7.3684e-01,\n",
       "             7.3685e-01, -1.3526e+00],\n",
       "           [-1.3526e+00,  7.3689e-01,  7.3684e-01,  ...,  7.3684e-01,\n",
       "             7.3685e-01, -1.3526e+00],\n",
       "           [-1.3526e+00, -1.3526e+00, -1.3526e+00,  ..., -1.3526e+00,\n",
       "            -1.3526e+00, -1.3526e+00]],\n",
       "\n",
       "          ...,\n",
       "\n",
       "          [[-1.3526e+00, -1.3526e+00, -1.3526e+00,  ..., -1.3526e+00,\n",
       "            -1.3526e+00, -1.3526e+00],\n",
       "           [-1.3526e+00,  7.3710e-01,  7.3696e-01,  ...,  7.3695e-01,\n",
       "             7.3703e-01, -1.3526e+00],\n",
       "           [-1.3526e+00,  7.3711e-01,  7.3695e-01,  ...,  7.3695e-01,\n",
       "             7.3703e-01, -1.3526e+00],\n",
       "           ...,\n",
       "           [-1.3526e+00, -1.3526e+00, -1.3526e+00,  ...,  7.4052e-01,\n",
       "             7.3787e-01, -1.3526e+00],\n",
       "           [-1.3526e+00, -1.3526e+00, -1.3526e+00,  ...,  7.4010e-01,\n",
       "             7.3776e-01, -1.3526e+00],\n",
       "           [-1.3526e+00, -1.3526e+00, -1.3526e+00,  ..., -1.3526e+00,\n",
       "            -1.3526e+00, -1.3526e+00]],\n",
       "\n",
       "          [[-1.3526e+00, -1.3526e+00, -1.3526e+00,  ..., -1.3526e+00,\n",
       "            -1.3526e+00, -1.3526e+00],\n",
       "           [-1.3526e+00,  7.3711e-01,  7.3696e-01,  ...,  7.3695e-01,\n",
       "             7.3703e-01, -1.3526e+00],\n",
       "           [-1.3526e+00,  7.3710e-01,  7.3696e-01,  ...,  7.3696e-01,\n",
       "             7.3704e-01, -1.3526e+00],\n",
       "           ...,\n",
       "           [-1.3526e+00, -1.3526e+00, -1.3526e+00,  ...,  7.4192e-01,\n",
       "             7.3842e-01, -1.3526e+00],\n",
       "           [-1.3526e+00, -1.3526e+00, -1.3526e+00,  ...,  7.4136e-01,\n",
       "             7.3823e-01, -1.3526e+00],\n",
       "           [-1.3526e+00, -1.3526e+00, -1.3526e+00,  ..., -1.3526e+00,\n",
       "            -1.3526e+00, -1.3526e+00]],\n",
       "\n",
       "          [[-1.3526e+00, -1.3526e+00, -1.3526e+00,  ..., -1.3526e+00,\n",
       "            -1.3526e+00, -1.3526e+00],\n",
       "           [-1.3526e+00, -1.3526e+00, -1.3526e+00,  ..., -1.3526e+00,\n",
       "            -1.3526e+00, -1.3526e+00],\n",
       "           [-1.3526e+00, -1.3526e+00, -1.3526e+00,  ..., -1.3526e+00,\n",
       "            -1.3526e+00, -1.3526e+00],\n",
       "           ...,\n",
       "           [-1.3526e+00, -1.3526e+00, -1.3526e+00,  ..., -1.3526e+00,\n",
       "            -1.3526e+00, -1.3526e+00],\n",
       "           [-1.3526e+00, -1.3526e+00, -1.3526e+00,  ..., -1.3526e+00,\n",
       "            -1.3526e+00, -1.3526e+00],\n",
       "           [-1.3526e+00, -1.3526e+00, -1.3526e+00,  ..., -1.3526e+00,\n",
       "            -1.3526e+00, -1.3526e+00]]]]], device='cuda:0')"
      ]
     },
     "execution_count": 11,
     "metadata": {},
     "output_type": "execute_result"
    }
   ],
   "source": [
    "y"
   ]
  }
 ],
 "metadata": {
  "kernelspec": {
   "display_name": ".venv",
   "language": "python",
   "name": "python3"
  },
  "language_info": {
   "codemirror_mode": {
    "name": "ipython",
    "version": 3
   },
   "file_extension": ".py",
   "mimetype": "text/x-python",
   "name": "python",
   "nbconvert_exporter": "python",
   "pygments_lexer": "ipython3",
   "version": "3.11.11"
  }
 },
 "nbformat": 4,
 "nbformat_minor": 2
}
