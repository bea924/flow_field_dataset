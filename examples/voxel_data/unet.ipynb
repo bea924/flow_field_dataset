{
 "cells": [
  {
   "cell_type": "code",
   "execution_count": 1,
   "metadata": {},
   "outputs": [],
   "source": [
    "%load_ext autoreload\n",
    "%autoreload 2"
   ]
  },
  {
   "cell_type": "code",
   "execution_count": 2,
   "metadata": {},
   "outputs": [],
   "source": [
    "import sys\n",
    "base_path = '../../'\n",
    "sys.path.append(base_path)"
   ]
  },
  {
   "cell_type": "code",
   "execution_count": 3,
   "metadata": {},
   "outputs": [],
   "source": [
    "\n",
    "\n",
    "from torch import nn\n",
    "import torch\n",
    "\n",
    "\"\"\"\n",
    "3D U-Net: Learning Dense Volumetric Segmentation from Sparse Annotation\n",
    "Paper URL: https://arxiv.org/abs/1606.06650\n",
    "Author: Amir Aghdam\n",
    "\"\"\"\n",
    "\n",
    "class Conv3DBlock(nn.Module):\n",
    "    \"\"\"\n",
    "    The basic block for double 3x3x3 convolutions in the analysis path\n",
    "    -- __init__()\n",
    "    :param in_channels -> number of input channels\n",
    "    :param out_channels -> desired number of output channels\n",
    "    :param bottleneck -> specifies the bottlneck block\n",
    "    -- forward()\n",
    "    :param input -> input Tensor to be convolved\n",
    "    :return -> Tensor\n",
    "    \"\"\"\n",
    "\n",
    "    def __init__(self, in_channels, out_channels, bottleneck = False) -> None:\n",
    "        super(Conv3DBlock, self).__init__()\n",
    "        self.conv1 = nn.Conv3d(in_channels= in_channels, out_channels=out_channels//2, kernel_size=(3,3,3), padding=1)\n",
    "        self.bn1 = nn.BatchNorm3d(num_features=out_channels//2)\n",
    "        self.conv2 = nn.Conv3d(in_channels= out_channels//2, out_channels=out_channels, kernel_size=(3,3,3), padding=1, stride=1)\n",
    "        self.bn2 = nn.BatchNorm3d(num_features=out_channels)\n",
    "        self.relu = nn.ReLU()\n",
    "        self.bottleneck = bottleneck\n",
    "        if not bottleneck:\n",
    "            self.pooling = nn.MaxPool3d(kernel_size=(2,2,2), stride=2)\n",
    "\n",
    "    \n",
    "    def forward(self, input):\n",
    "        res = self.relu(self.bn1(self.conv1(input)))\n",
    "        res = self.relu(self.bn2(self.conv2(res)))\n",
    "        out = None\n",
    "        if not self.bottleneck:\n",
    "            out = self.pooling(res)\n",
    "        else:\n",
    "            out = res\n",
    "        return out, res\n",
    "\n",
    "\n",
    "\n",
    "\n",
    "class UpConv3DBlock(nn.Module):\n",
    "    \"\"\"\n",
    "    The basic block for upsampling followed by double 3x3x3 convolutions in the synthesis path\n",
    "    -- __init__()\n",
    "    :param in_channels -> number of input channels\n",
    "    :param out_channels -> number of residual connections' channels to be concatenated\n",
    "    :param last_layer -> specifies the last output layer\n",
    "    :param num_classes -> specifies the number of output channels for dispirate classes\n",
    "    -- forward()\n",
    "    :param input -> input Tensor\n",
    "    :param residual -> residual connection to be concatenated with input\n",
    "    :return -> Tensor\n",
    "    \"\"\"\n",
    "\n",
    "    def __init__(self, in_channels, res_channels=0, last_layer=False, num_classes=None) -> None:\n",
    "        super(UpConv3DBlock, self).__init__()\n",
    "        assert (last_layer==False and num_classes==None) or (last_layer==True and num_classes!=None), 'Invalid arguments'\n",
    "        self.upconv1 = nn.ConvTranspose3d(in_channels=in_channels, out_channels=in_channels, kernel_size=(2, 2, 2), stride=2)\n",
    "        self.relu = nn.ReLU()\n",
    "        self.bn = nn.BatchNorm3d(num_features=in_channels//2)\n",
    "        self.conv1 = nn.Conv3d(in_channels=in_channels+res_channels, out_channels=in_channels//2, kernel_size=(3,3,3), padding=(1,1,1))\n",
    "        self.conv2 = nn.Conv3d(in_channels=in_channels//2, out_channels=in_channels//2, kernel_size=(3,3,3), padding=(1,1,1), stride=1)\n",
    "        self.last_layer = last_layer\n",
    "        if last_layer:\n",
    "            self.conv3 = nn.Conv3d(in_channels=in_channels//2, out_channels=num_classes, kernel_size=(1,1,1))\n",
    "            \n",
    "        \n",
    "    def forward(self, input, residual=None):\n",
    "        out = self.upconv1(input)\n",
    "        if residual!=None: out = torch.cat((out, residual), 1)\n",
    "        out = self.relu(self.bn(self.conv1(out)))\n",
    "        out = self.relu(self.bn(self.conv2(out)))\n",
    "        if self.last_layer: out = self.conv3(out)\n",
    "        return out\n",
    "        \n",
    "\n",
    "\n",
    "\n",
    "class UNet3D(nn.Module):\n",
    "    \"\"\"\n",
    "    The 3D UNet model\n",
    "    -- __init__()\n",
    "    :param in_channels -> number of input channels\n",
    "    :param num_classes -> specifies the number of output channels or masks for different classes\n",
    "    :param level_channels -> the number of channels at each level (count top-down)\n",
    "    :param bottleneck_channel -> the number of bottleneck channels \n",
    "    :param device -> the device on which to run the model\n",
    "    -- forward()\n",
    "    :param input -> input Tensor\n",
    "    :return -> Tensor\n",
    "    \"\"\"\n",
    "    \n",
    "    def __init__(self, in_channels, num_classes, level_channels=[64, 128, 256, 512], bottleneck_channel=1024) -> None:\n",
    "        super(UNet3D, self).__init__()\n",
    "        level_1_chnls, level_2_chnls, level_3_chnls, level_4_chnls = level_channels[0], level_channels[1], level_channels[2], level_channels[3]\n",
    "        self.a_block1 = Conv3DBlock(in_channels=in_channels, out_channels=level_1_chnls)\n",
    "        self.a_block2 = Conv3DBlock(in_channels=level_1_chnls, out_channels=level_2_chnls)\n",
    "        self.a_block3 = Conv3DBlock(in_channels=level_2_chnls, out_channels=level_3_chnls)\n",
    "        self.a_block4 = Conv3DBlock(in_channels=level_3_chnls, out_channels=level_4_chnls)\n",
    "        self.bottleNeck = Conv3DBlock(in_channels=level_4_chnls, out_channels=bottleneck_channel, bottleneck= True)\n",
    "        self.s_block4 = UpConv3DBlock(in_channels=bottleneck_channel, res_channels=level_4_chnls)\n",
    "        self.s_block3 = UpConv3DBlock(in_channels=level_4_chnls, res_channels=level_3_chnls)\n",
    "        self.s_block2 = UpConv3DBlock(in_channels=level_3_chnls, res_channels=level_2_chnls)\n",
    "        self.s_block1 = UpConv3DBlock(in_channels=level_2_chnls, res_channels=level_1_chnls, num_classes=num_classes, last_layer=True)\n",
    "\n",
    "    \n",
    "    def forward(self, input):\n",
    "        #Analysis path forward feed\n",
    "        out, residual_level1 = self.a_block1(input)\n",
    "        out, residual_level2 = self.a_block2(out)\n",
    "        out, residual_level3 = self.a_block3(out)\n",
    "        out, residual_level4 = self.a_block4(out)\n",
    "        out, _ = self.bottleNeck(out)\n",
    "\n",
    "        #Synthesis path forward feed\n",
    "        out = self.s_block4(out, residual_level4)\n",
    "        out = self.s_block3(out, residual_level3)\n",
    "        out = self.s_block2(out, residual_level2)\n",
    "        out = self.s_block1(out, residual_level1)\n",
    "        return out\n",
    "model = UNet3D(in_channels=1, num_classes=5, level_channels=[16, 32, 64,128], bottleneck_channel=256)"
   ]
  },
  {
   "cell_type": "code",
   "execution_count": 4,
   "metadata": {},
   "outputs": [
    {
     "name": "stderr",
     "output_type": "stream",
     "text": [
      "ERROR:root:Bad table range: [inf, -inf]\n",
      "\u001b[0m\u001b[31m2025-05-25 07:51:58.240 (   0.875s) [    723241DD0740]     vtkLookupTable.cxx:162    ERR| vtkLookupTable (0x570948d9ebf0): Bad table range: [inf, -inf]\u001b[0m\n",
      "ERROR:root:Bad table range: [inf, -inf]\n",
      "\u001b[0m\u001b[31m2025-05-25 07:51:58.243 (   0.878s) [    723241DD0740]     vtkLookupTable.cxx:162    ERR| vtkLookupTable (0x570948d9ebf0): Bad table range: [inf, -inf]\u001b[0m\n",
      "ERROR:root:Bad table range: [inf, -inf]\n",
      "\u001b[0m\u001b[31m2025-05-25 07:51:58.244 (   0.879s) [    723241DD0740]     vtkLookupTable.cxx:162    ERR| vtkLookupTable (0x570948d9ebf0): Bad table range: [inf, -inf]\u001b[0m\n"
     ]
    },
    {
     "data": {
      "application/vnd.jupyter.widget-view+json": {
       "model_id": "35c1b17553274f839d06f0fa77731d3d",
       "version_major": 2,
       "version_minor": 0
      },
      "text/plain": [
       "Widget(value='<iframe src=\"http://localhost:36019/index.html?ui=P_0x723103309b10_0&reconnect=auto\" class=\"pyvi…"
      ]
     },
     "metadata": {},
     "output_type": "display_data"
    }
   ],
   "source": [
    "from src.pyvista_flow_field_dataset import PyvistaFlowFieldDataset\n",
    "#ds_pv = PyvistaFlowFieldDataset.load_from_huggingface(num_samples=1000, data_dir='datasets/pyvista')\n",
    "ds_pv= PyvistaFlowFieldDataset.try_from_directory(\"datasets/pyvista\",1000)\n",
    "ds_pv[800].plot_surface(\"WallShearStress_0\")"
   ]
  },
  {
   "cell_type": "code",
   "execution_count": 7,
   "metadata": {},
   "outputs": [
    {
     "data": {
      "text/plain": [
       "<src.voxel_flow_field_dataset.VoxelFlowFieldDataset at 0x72315f461d10>"
      ]
     },
     "execution_count": 7,
     "metadata": {},
     "output_type": "execute_result"
    }
   ],
   "source": [
    "from src.voxel_flow_field_dataset import VoxelFlowFieldDataset, VoxelFlowFieldDatasetConfig\n",
    "#ds_voxel = VoxelFlowFieldDataset('datasets/voxels',VoxelFlowFieldDatasetConfig(ds_pv, resolution=(32,16,16)))\n",
    "ds_voxel = VoxelFlowFieldDataset('datasets/voxels')\n",
    "ds_voxel.normalize()"
   ]
  },
  {
   "cell_type": "code",
   "execution_count": 8,
   "metadata": {},
   "outputs": [
    {
     "data": {
      "text/plain": [
       "1000"
      ]
     },
     "execution_count": 8,
     "metadata": {},
     "output_type": "execute_result"
    }
   ],
   "source": [
    "\n",
    "import torch.utils.data as data\n",
    "dataloader = data.DataLoader(ds_voxel.get_default_loadable_dataset(), batch_size=32, shuffle=True)\n",
    "len(ds_voxel)"
   ]
  },
  {
   "cell_type": "code",
   "execution_count": 9,
   "metadata": {},
   "outputs": [
    {
     "name": "stdout",
     "output_type": "stream",
     "text": [
      "Using device: cuda\n",
      "Epoch 1/800, Loss: 3.7795823216438293\n",
      "Epoch 11/800, Loss: 2.9116929341107607\n",
      "Epoch 21/800, Loss: 2.7715360410511494\n",
      "Epoch 31/800, Loss: 2.6550170611590147\n",
      "Epoch 41/800, Loss: 2.5250108931213617\n",
      "Epoch 51/800, Loss: 2.4778123516589403\n",
      "Epoch 61/800, Loss: 2.378725062124431\n",
      "Epoch 71/800, Loss: 2.315716444514692\n",
      "Epoch 81/800, Loss: 2.326054012402892\n",
      "Epoch 91/800, Loss: 2.2277793139219284\n",
      "Epoch 101/800, Loss: 2.259373312816024\n",
      "Epoch 111/800, Loss: 2.053778667934239\n",
      "Epoch 121/800, Loss: 2.0244555538520217\n",
      "Epoch 131/800, Loss: 2.0614625103771687\n",
      "Epoch 141/800, Loss: 1.932064161170274\n",
      "Epoch 151/800, Loss: 1.9272281657904387\n",
      "Epoch 161/800, Loss: 1.8141230186447501\n",
      "Epoch 171/800, Loss: 1.8007109304890037\n",
      "Epoch 181/800, Loss: 1.7831183918751776\n",
      "Epoch 191/800, Loss: 1.7956531131640077\n",
      "Epoch 201/800, Loss: 1.6710085589438677\n",
      "Epoch 211/800, Loss: 1.8671665615402162\n",
      "Epoch 221/800, Loss: 1.7219741004519165\n",
      "Epoch 231/800, Loss: 1.6140766222961247\n",
      "Epoch 241/800, Loss: 1.6161836059764028\n",
      "Epoch 251/800, Loss: 1.5671257418580353\n",
      "Epoch 261/800, Loss: 1.5401082513853908\n",
      "Epoch 271/800, Loss: 1.6919002854265273\n",
      "Epoch 281/800, Loss: 1.4369276440702379\n",
      "Epoch 291/800, Loss: 1.5106194387190044\n",
      "Epoch 301/800, Loss: 1.485349569004029\n",
      "Epoch 311/800, Loss: 1.4164246590808034\n",
      "Epoch 321/800, Loss: 1.3784985085949302\n",
      "Epoch 331/800, Loss: 1.4039887352846563\n",
      "Epoch 341/800, Loss: 1.441069948952645\n",
      "Epoch 351/800, Loss: 1.356870579533279\n",
      "Epoch 361/800, Loss: 1.3648248175159097\n",
      "Epoch 371/800, Loss: 1.4234808422625065\n",
      "Epoch 381/800, Loss: 1.341362846083939\n",
      "Epoch 391/800, Loss: 1.382094363681972\n",
      "Epoch 401/800, Loss: 1.346862894948572\n",
      "Epoch 411/800, Loss: 1.2920676618814468\n",
      "Epoch 421/800, Loss: 1.3077736492268741\n",
      "Epoch 431/800, Loss: 2.8162504341453314\n",
      "Epoch 441/800, Loss: 1.304515358991921\n",
      "Epoch 451/800, Loss: 1.2088386854156852\n",
      "Epoch 461/800, Loss: 1.1988804964348674\n",
      "Epoch 471/800, Loss: 1.270139784552157\n",
      "Epoch 481/800, Loss: 1.1175946784205735\n",
      "Epoch 491/800, Loss: 1.2389134648256004\n",
      "Epoch 501/800, Loss: 1.1980077442713082\n",
      "Epoch 511/800, Loss: 1.1924472623504698\n",
      "Epoch 521/800, Loss: 1.0909532541409135\n",
      "Epoch 531/800, Loss: 1.2335104709491134\n",
      "Epoch 541/800, Loss: 1.112192649859935\n",
      "Epoch 551/800, Loss: 1.1509355013258755\n",
      "Epoch 561/800, Loss: 1.1916495435871184\n",
      "Epoch 571/800, Loss: 1.1641201111488044\n",
      "Epoch 581/800, Loss: 1.0359080266207457\n",
      "Epoch 591/800, Loss: 1.120094049256295\n",
      "Epoch 601/800, Loss: 1.1605295659974217\n",
      "Epoch 611/800, Loss: 1.0495678088627756\n",
      "Epoch 621/800, Loss: 2.318341088015586\n",
      "Epoch 631/800, Loss: 1.4653703295625746\n",
      "Epoch 641/800, Loss: 1.0192155065014958\n",
      "Epoch 651/800, Loss: 1.0660888636484742\n",
      "Epoch 661/800, Loss: 1.0606727981939912\n",
      "Epoch 671/800, Loss: 1.0697422549128532\n",
      "Epoch 681/800, Loss: 1.0160415843129158\n",
      "Epoch 691/800, Loss: 1.0683067375794053\n",
      "Epoch 701/800, Loss: 1.3312943987548351\n",
      "Epoch 711/800, Loss: 0.9542085169814527\n",
      "Epoch 721/800, Loss: 0.9870962160639465\n",
      "Epoch 731/800, Loss: 1.012752610258758\n",
      "Epoch 741/800, Loss: 1.1283959010615945\n",
      "Epoch 751/800, Loss: 0.9741963855922222\n",
      "Epoch 761/800, Loss: 0.9869880098849535\n",
      "Epoch 771/800, Loss: 0.9791213879361749\n",
      "Epoch 781/800, Loss: 0.9317810176871717\n",
      "Epoch 791/800, Loss: 0.9764231878798455\n"
     ]
    }
   ],
   "source": [
    "import torch.optim as optim\n",
    "import torch.optim.lr_scheduler as lr_scheduler\n",
    "from tqdm import tqdm\n",
    "import numpy as np\n",
    "import matplotlib.pyplot as plt\n",
    "device = torch.device(\"cuda\" if torch.cuda.is_available() else \"cpu\")\n",
    "print(f\"Using device: {device}\")\n",
    "model.to(device)\n",
    "criterion = nn.MSELoss()\n",
    "lr=2e-5\n",
    "epochs=800\n",
    "optimizer = optim.Adam(model.parameters(), lr=lr)\n",
    "scheduler = lr_scheduler.ExponentialLR(optimizer, gamma=0.999)\n",
    "\n",
    "losses = []\n",
    "\n",
    "for epoch in range(epochs):\n",
    "    model.train()\n",
    "    epoch_loss = 0\n",
    "\n",
    "    for x,y in dataloader:\n",
    "        x, y = x.to(device), y.to(device)\n",
    "        x=x.float().unsqueeze(-1)\n",
    "        x = x.permute(0, 4, 1, 2, 3)  # (N, D, H, W, C) → (N, C, D, H, W)\n",
    "        y = y.permute(0, 4, 1, 2, 3)\n",
    "        optimizer.zero_grad()\n",
    "        outputs = model(x)\n",
    "        loss = criterion(outputs, y)\n",
    "        loss.backward()\n",
    "        optimizer.step()\n",
    "\n",
    "        epoch_loss += loss.item()\n",
    "    scheduler.step()\n",
    "    losses.append(epoch_loss / len(dataloader))\n",
    "    if (epoch) % 10 == 0:\n",
    "        print(f\"Epoch {epoch+1}/{epochs}, Loss: {epoch_loss / len(dataloader)}\")\n",
    "plt.plot(losses)\n",
    "plt.xlabel('Epoch')\n",
    "plt.ylabel('Loss')\n",
    "plt.yscale('log')\n",
    "plt.show()\n",
    "# Save the model\n",
    "torch.save(model.state_dict(), 'unet3d.pth')"
   ]
  },
  {
   "cell_type": "code",
   "execution_count": 10,
   "metadata": {},
   "outputs": [
    {
     "data": {
      "text/plain": [
       "<All keys matched successfully>"
      ]
     },
     "execution_count": 10,
     "metadata": {},
     "output_type": "execute_result"
    }
   ],
   "source": [
    "model.load_state_dict(torch.load('unet3d.pth'))"
   ]
  },
  {
   "cell_type": "code",
   "execution_count": 11,
   "metadata": {},
   "outputs": [],
   "source": [
    "mask,Y = next(iter(dataloader))\n",
    "mask = mask.to(device)\n",
    "Y = Y.to(device)"
   ]
  },
  {
   "cell_type": "code",
   "execution_count": 12,
   "metadata": {},
   "outputs": [],
   "source": [
    "x=mask.float().unsqueeze(-1)\n",
    "x = x.permute(0, 4, 1, 2, 3)  # (N, D, H, W, C) → (N, C, D, H, W)\n",
    "y = y.permute(0, 4, 1, 2, 3)\n",
    "y_pred = model(x)\n",
    "y_pred = y_pred.permute(0, 2, 3, 4, 1)  # (N, C, D, H, W) → (N, D, H, W, C)\n"
   ]
  },
  {
   "cell_type": "code",
   "execution_count": 13,
   "metadata": {},
   "outputs": [],
   "source": [
    "pred_sample = ds_voxel.prediction_to_sample(mask[0], y_pred[0])"
   ]
  },
  {
   "cell_type": "code",
   "execution_count": 14,
   "metadata": {},
   "outputs": [
    {
     "data": {
      "application/vnd.jupyter.widget-view+json": {
       "model_id": "584b34eb36994fd7a44179365ed5353a",
       "version_major": 2,
       "version_minor": 0
      },
      "text/plain": [
       "Widget(value='<iframe src=\"http://localhost:36019/index.html?ui=P_0x7231062505d0_1&reconnect=auto\" class=\"pyvi…"
      ]
     },
     "metadata": {},
     "output_type": "display_data"
    }
   ],
   "source": [
    "pred_sample.plot(\"Pressure\")"
   ]
  },
  {
   "cell_type": "code",
   "execution_count": 15,
   "metadata": {},
   "outputs": [
    {
     "data": {
      "application/vnd.jupyter.widget-view+json": {
       "model_id": "7e54be46a9d747aaa8af79fd5d44f77e",
       "version_major": 2,
       "version_minor": 0
      },
      "text/plain": [
       "Widget(value='<iframe src=\"http://localhost:36019/index.html?ui=P_0x723006a40710_2&reconnect=auto\" class=\"pyvi…"
      ]
     },
     "metadata": {},
     "output_type": "display_data"
    }
   ],
   "source": [
    "true_sample = ds_voxel.prediction_to_sample(mask[0], Y[0])\n",
    "true_sample.plot(\"Pressure\")"
   ]
  },
  {
   "cell_type": "code",
   "execution_count": null,
   "metadata": {},
   "outputs": [
    {
     "data": {
      "application/vnd.jupyter.widget-view+json": {
       "model_id": "3716d4316b694e9aac73d956a63e5271",
       "version_major": 2,
       "version_minor": 0
      },
      "text/plain": [
       "interactive(children=(IntSlider(value=8, description='slice_idx', max=15), Output()), _dom_classes=('widget-in…"
      ]
     },
     "metadata": {},
     "output_type": "display_data"
    }
   ],
   "source": [
    "pred_sample.plot_slice_interactively(\"Pressure\",axis=\"z\")"
   ]
  },
  {
   "cell_type": "code",
   "execution_count": null,
   "metadata": {},
   "outputs": [
    {
     "data": {
      "application/vnd.jupyter.widget-view+json": {
       "model_id": "2422703776c04d3eac77560ce925f1b4",
       "version_major": 2,
       "version_minor": 0
      },
      "text/plain": [
       "interactive(children=(IntSlider(value=8, description='slice_idx', max=15), Output()), _dom_classes=('widget-in…"
      ]
     },
     "metadata": {},
     "output_type": "display_data"
    }
   ],
   "source": [
    "true_sample.plot_slice_interactively(\"Pressure\", axis=\"z\")"
   ]
  }
 ],
 "metadata": {
  "kernelspec": {
   "display_name": ".venv",
   "language": "python",
   "name": "python3"
  },
  "language_info": {
   "codemirror_mode": {
    "name": "ipython",
    "version": 3
   },
   "file_extension": ".py",
   "mimetype": "text/x-python",
   "name": "python",
   "nbconvert_exporter": "python",
   "pygments_lexer": "ipython3",
   "version": "3.11.11"
  }
 },
 "nbformat": 4,
 "nbformat_minor": 2
}
