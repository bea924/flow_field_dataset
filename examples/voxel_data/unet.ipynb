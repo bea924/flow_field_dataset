{
 "cells": [
  {
   "cell_type": "code",
   "execution_count": 2,
   "metadata": {},
   "outputs": [],
   "source": [
    "%load_ext autoreload\n",
    "%autoreload 2"
   ]
  },
  {
   "cell_type": "code",
   "execution_count": 3,
   "metadata": {},
   "outputs": [],
   "source": [
    "import sys\n",
    "base_path = '../../'\n",
    "sys.path.append(base_path)"
   ]
  },
  {
   "cell_type": "code",
   "execution_count": 4,
   "metadata": {},
   "outputs": [],
   "source": [
    "from torch import nn\n",
    "import torch\n",
    "from flow_field_model import create_flow_field_model\n",
    "\n",
    "\n",
    "model = create_flow_field_model(input_shape=(32, 16, 16), out_channels=5)\n"
   ]
  },
  {
   "cell_type": "code",
   "execution_count": 5,
   "metadata": {},
   "outputs": [
    {
     "name": "stdout",
     "output_type": "stream",
     "text": [
      "Loaded 1000 samples from 'datasets/pyvista-medium'.\n"
     ]
    },
    {
     "name": "stderr",
     "output_type": "stream",
     "text": [
      "\u001b[0m\u001b[33m2025-05-26 12:31:44.762 (   0.505s) [    725D3E3E1740]      vtkCGNSReader.cxx:4268  WARN| vtkCGNSReader (0x561c72c3cd70): Skipping BC_t node: BC_t type 'BCInflow' not supported yet.\u001b[0m\n",
      "\u001b[0m\u001b[33m2025-05-26 12:31:44.762 (   0.505s) [    725D3E3E1740]      vtkCGNSReader.cxx:4268  WARN| vtkCGNSReader (0x561c72c3cd70): Skipping BC_t node: BC_t type 'BCSymmetryPlane' not supported yet.\u001b[0m\n",
      "\u001b[0m\u001b[33m2025-05-26 12:31:44.762 (   0.505s) [    725D3E3E1740]      vtkCGNSReader.cxx:4268  WARN| vtkCGNSReader (0x561c72c3cd70): Skipping BC_t node: BC_t type 'BCTunnelOutflow' not supported yet.\u001b[0m\n"
     ]
    },
    {
     "data": {
      "application/vnd.jupyter.widget-view+json": {
       "model_id": "05156abe254b476c81817fc3ba04d625",
       "version_major": 2,
       "version_minor": 0
      },
      "text/plain": [
       "Widget(value='<iframe src=\"http://localhost:41345/index.html?ui=P_0x725c018c9590_0&reconnect=auto\" class=\"pyvi…"
      ]
     },
     "metadata": {},
     "output_type": "display_data"
    }
   ],
   "source": [
    "from src.pyvista_flow_field_dataset import PyvistaFlowFieldDataset\n",
    "ds_pv = PyvistaFlowFieldDataset.load_from_huggingface(num_samples=1000, data_dir='datasets/pyvista-medium')\n",
    "#ds_pv= PyvistaFlowFieldDataset.try_from_directory(\"datasets/pyvista-small\",1000)\n",
    "ds_pv[8].plot_volume(\"Pressure\")"
   ]
  },
  {
   "cell_type": "code",
   "execution_count": 6,
   "metadata": {},
   "outputs": [
    {
     "name": "stderr",
     "output_type": "stream",
     "text": [
      "Voxelizing samples: 100%|██████████| 1000/1000 [00:00<00:00, 11818.64it/s]\n"
     ]
    },
    {
     "data": {
      "text/plain": [
       "<src.voxel_flow_field_dataset.VoxelFlowFieldDataset at 0x725bd4bc2590>"
      ]
     },
     "execution_count": 6,
     "metadata": {},
     "output_type": "execute_result"
    }
   ],
   "source": [
    "from src.voxel_flow_field_dataset import VoxelFlowFieldDataset, VoxelFlowFieldDatasetConfig\n",
    "import torch.utils.data\n",
    "ds_voxel = VoxelFlowFieldDataset('datasets/voxels-medium',VoxelFlowFieldDatasetConfig(ds_pv, resolution=(32,16,16)))\n",
    "#s_voxel = VoxelFlowFieldDataset('datasets/voxels')\n",
    "ds_voxel.normalize()"
   ]
  },
  {
   "cell_type": "code",
   "execution_count": 7,
   "metadata": {},
   "outputs": [],
   "source": [
    "num_train_samples = int(len(ds_voxel) * 0.8)\n",
    "num_val_samples = len(ds_voxel) - num_train_samples\n",
    "ds_voxel.shuffle()\n",
    "train_dataset = ds_voxel[:num_train_samples]\n",
    "val_dataset = ds_voxel[num_train_samples:]"
   ]
  },
  {
   "cell_type": "code",
   "execution_count": 9,
   "metadata": {},
   "outputs": [
    {
     "data": {
      "image/png": "[encoded data removed]",
      "text/plain": [
       "<Figure size 640x480 with 2 Axes>"
      ]
     },
     "metadata": {},
     "output_type": "display_data"
    }
   ],
   "source": [
    "val_dataset[0].plot_slice(\"Mask\",slice_idx=3)"
   ]
  },
  {
   "cell_type": "code",
   "execution_count": 10,
   "metadata": {},
   "outputs": [
    {
     "data": {
      "text/plain": [
       "(800, 200)"
      ]
     },
     "execution_count": 10,
     "metadata": {},
     "output_type": "execute_result"
    }
   ],
   "source": [
    "\n",
    "import torch.utils.data as data\n",
    "train_dataloader = data.DataLoader(train_dataset.get_default_loadable_dataset(), batch_size=16, shuffle=False, num_workers=0, pin_memory=True)\n",
    "val_dataloader = data.DataLoader(val_dataset.get_default_loadable_dataset(), batch_size=16, shuffle=False, num_workers=0, pin_memory=True)\n",
    "device = torch.device(\"cuda\" if torch.cuda.is_available() else \"cpu\")\n",
    "len(train_dataset), len(val_dataset)"
   ]
  },
  {
   "cell_type": "code",
   "execution_count": 9,
   "metadata": {},
   "outputs": [
    {
     "data": {
      "text/plain": [
       "torch.Size([16, 32, 16, 16])"
      ]
     },
     "execution_count": 9,
     "metadata": {},
     "output_type": "execute_result"
    }
   ],
   "source": [
    "next(iter(train_dataloader))[0].shape"
   ]
  },
  {
   "cell_type": "code",
   "execution_count": null,
   "metadata": {},
   "outputs": [
    {
     "name": "stdout",
     "output_type": "stream",
     "text": [
      "Using device: cuda\n",
      "Epoch 0/300, Loss: 9.733902273178101, Val Loss: 7.972622614640456\n",
      "Epoch 0/300, Loss: 4.189300466775894\n",
      "Epoch 1/300, Loss: 3.5883304077386855\n",
      "Epoch 2/300, Loss: 3.3997200483083727\n",
      "Epoch 3/300, Loss: 3.215679139494896\n",
      "Epoch 4/300, Loss: 3.2052409011125564\n",
      "Epoch 5/300, Loss: 3.16144626557827\n",
      "Epoch 6/300, Loss: 3.0632796835899354\n",
      "Epoch 7/300, Loss: 3.025746574997902\n",
      "Epoch 8/300, Loss: 3.059458538889885\n",
      "Epoch 9/300, Loss: 2.9621386164426804\n",
      "Epoch 10/300, Loss: 2.8630470776557924, Val Loss: 1.7349486075914824\n",
      "Epoch 10/300, Loss: 2.996861384510994\n",
      "Epoch 11/300, Loss: 2.853312212228775\n",
      "Epoch 12/300, Loss: 2.9268410432338716\n",
      "Epoch 13/300, Loss: 2.7389707446098326\n",
      "Epoch 14/300, Loss: 2.802820312976837\n",
      "Epoch 15/300, Loss: 2.6515990179777145\n",
      "Epoch 16/300, Loss: 2.5923105883598327\n",
      "Epoch 17/300, Loss: 2.500311992764473\n",
      "Epoch 18/300, Loss: 2.756461189389229\n",
      "Epoch 19/300, Loss: 2.568961184620857\n",
      "Epoch 20/300, Loss: 2.5184468162059783, Val Loss: 1.5615299435762258\n",
      "Epoch 20/300, Loss: 2.403886765241623\n",
      "Epoch 21/300, Loss: 2.3178561866283416\n",
      "Epoch 22/300, Loss: 2.2360687744617462\n",
      "Epoch 23/300, Loss: 2.1786361396312715\n",
      "Epoch 24/300, Loss: 2.200536367893219\n",
      "Epoch 25/300, Loss: 2.516262593269348\n",
      "Epoch 26/300, Loss: 2.2825650787353515\n",
      "Epoch 27/300, Loss: 2.094680513739586\n",
      "Epoch 28/300, Loss: 2.0918243992328645\n",
      "Epoch 29/300, Loss: 1.9584001886844635\n",
      "Epoch 30/300, Loss: 2.318005211353302, Val Loss: 1.9701453951688914\n",
      "Epoch 30/300, Loss: 2.005098810195923\n",
      "Epoch 31/300, Loss: 1.9610473495721816\n",
      "Epoch 32/300, Loss: 2.0505502873659136\n",
      "Epoch 33/300, Loss: 2.0609525030851366\n",
      "Epoch 34/300, Loss: 1.896008437871933\n",
      "Epoch 35/300, Loss: 2.0233918976783754\n",
      "Epoch 36/300, Loss: 2.1566204410791396\n",
      "Epoch 37/300, Loss: 1.9943887734413146\n",
      "Epoch 38/300, Loss: 1.8228714096546172\n",
      "Epoch 39/300, Loss: 1.9839690154790879\n",
      "Epoch 40/300, Loss: 2.1151691281795504, Val Loss: 1.6837920913329492\n",
      "Epoch 40/300, Loss: 2.0110774451494215\n",
      "Epoch 41/300, Loss: 2.114581738114357\n",
      "Epoch 42/300, Loss: 2.013433657884598\n",
      "Epoch 43/300, Loss: 1.7479656898975373\n",
      "Epoch 44/300, Loss: 1.7061488151550293\n",
      "Epoch 45/300, Loss: 1.6679529017210006\n",
      "Epoch 46/300, Loss: 1.6154048317670822\n",
      "Epoch 47/300, Loss: 1.5795829093456268\n",
      "Epoch 48/300, Loss: 1.5357146233320236\n",
      "Epoch 49/300, Loss: 1.498835362792015\n",
      "Epoch 50/300, Loss: 1.500639647245407, Val Loss: 1.6906886788514943\n",
      "Epoch 50/300, Loss: 1.4183684015274047\n",
      "Epoch 51/300, Loss: 1.352105035185814\n",
      "Epoch 52/300, Loss: 1.302687301635742\n",
      "Epoch 53/300, Loss: 1.333845711350441\n",
      "Epoch 54/300, Loss: 1.3426411300897598\n",
      "Epoch 55/300, Loss: 1.302853491306305\n",
      "Epoch 56/300, Loss: 1.2882335513830185\n",
      "Epoch 57/300, Loss: 1.2190880984067918\n",
      "Epoch 58/300, Loss: 1.2214996790885926\n",
      "Epoch 59/300, Loss: 1.1883846670389175\n",
      "Epoch 60/300, Loss: 1.2022676193714141, Val Loss: 1.4414833050507765\n",
      "Epoch 60/300, Loss: 1.1472113126516341\n",
      "Epoch 61/300, Loss: 1.0733390629291535\n",
      "Epoch 62/300, Loss: 1.0372523140907288\n",
      "Epoch 63/300, Loss: 1.0367209857702255\n",
      "Epoch 64/300, Loss: 1.0147814285755157\n",
      "Epoch 65/300, Loss: 0.9984307169914246\n",
      "Epoch 66/300, Loss: 1.0007827788591386\n",
      "Epoch 67/300, Loss: 0.9865825819969177\n",
      "Epoch 68/300, Loss: 0.9594753986597061\n",
      "Epoch 69/300, Loss: 0.9431731075048446\n",
      "Epoch 70/300, Loss: 0.974607543349266, Val Loss: 1.6758421613619878\n",
      "Epoch 70/300, Loss: 0.9295086294412613\n",
      "Epoch 71/300, Loss: 0.8942841386795044\n",
      "Epoch 72/300, Loss: 0.8795497864484787\n",
      "Epoch 73/300, Loss: 0.8811771363019943\n",
      "Epoch 74/300, Loss: 0.8876639086008072\n",
      "Epoch 75/300, Loss: 0.8951553604006768\n",
      "Epoch 76/300, Loss: 0.8451265698671341\n",
      "Epoch 77/300, Loss: 0.8503065469861031\n",
      "Epoch 78/300, Loss: 0.8350567829608917\n",
      "Epoch 79/300, Loss: 0.8555282384157181\n",
      "Epoch 80/300, Loss: 0.8396267032623291, Val Loss: 1.780694347161513\n",
      "Epoch 80/300, Loss: 0.8365949711203575\n",
      "Epoch 81/300, Loss: 0.818739615380764\n",
      "Epoch 82/300, Loss: 1.120554327070713\n",
      "Epoch 83/300, Loss: 1.020989453792572\n",
      "Epoch 84/300, Loss: 0.8852747714519501\n",
      "Epoch 85/300, Loss: 0.8522852233052254\n",
      "Epoch 86/300, Loss: 0.7742517623305321\n",
      "Epoch 87/300, Loss: 0.7542089056968689\n",
      "Epoch 88/300, Loss: 0.723432602584362\n",
      "Epoch 89/300, Loss: 0.7839425683021546\n",
      "Epoch 90/300, Loss: 0.8088064134120941, Val Loss: 1.6413563306515033\n",
      "Epoch 90/300, Loss: 0.9736451795697212\n",
      "Epoch 91/300, Loss: 0.9100848436355591\n",
      "Epoch 92/300, Loss: 0.8525046035647392\n",
      "Epoch 93/300, Loss: 0.7726581013202667\n",
      "Epoch 94/300, Loss: 0.6981946262717247\n",
      "Epoch 95/300, Loss: 0.6837753903865814\n",
      "Epoch 96/300, Loss: 0.7040891587734223\n",
      "Epoch 97/300, Loss: 0.6944531735777855\n",
      "Epoch 98/300, Loss: 0.6494031420350075\n",
      "Epoch 99/300, Loss: 0.6313306915760041\n",
      "Epoch 100/300, Loss: 0.6636458283662796, Val Loss: 1.9032759849841778\n",
      "Epoch 100/300, Loss: 0.6082460913062095\n",
      "Epoch 101/300, Loss: 0.6036221235990524\n",
      "Epoch 102/300, Loss: 0.5912254282832146\n",
      "Epoch 103/300, Loss: 0.5921252495050431\n",
      "Epoch 104/300, Loss: 0.5894355973601342\n",
      "Epoch 105/300, Loss: 0.5866721734404564\n",
      "Epoch 106/300, Loss: 0.6094827279448509\n",
      "Epoch 107/300, Loss: 0.6437134677171708\n",
      "Epoch 108/300, Loss: 0.6053851681947708\n",
      "Epoch 109/300, Loss: 0.643562541604042\n",
      "Epoch 110/300, Loss: 0.7907422626018524, Val Loss: 2.415096470942864\n",
      "Epoch 110/300, Loss: 0.75091085344553\n",
      "Epoch 111/300, Loss: 0.6874894800782204\n",
      "Epoch 112/300, Loss: 0.549994144141674\n",
      "Epoch 113/300, Loss: 0.5527034202218055\n",
      "Epoch 114/300, Loss: 0.5511805048584938\n",
      "Epoch 115/300, Loss: 0.524757798910141\n",
      "Epoch 116/300, Loss: 0.5179518672823906\n",
      "Epoch 117/300, Loss: 0.5115071561932564\n",
      "Epoch 118/300, Loss: 0.5486699947714806\n",
      "Epoch 119/300, Loss: 0.5681051021814346\n",
      "Epoch 120/300, Loss: 0.6290145128965378, Val Loss: 2.1820167899131775\n",
      "Epoch 120/300, Loss: 0.5584979596734047\n",
      "Epoch 121/300, Loss: 0.6677857765555382\n",
      "Epoch 122/300, Loss: 0.7995841816067696\n",
      "Epoch 123/300, Loss: 0.7155779445171356\n",
      "Epoch 124/300, Loss: 0.587589261829853\n",
      "Epoch 125/300, Loss: 0.561059381365776\n",
      "Epoch 126/300, Loss: 0.5133828696608543\n",
      "Epoch 127/300, Loss: 0.4971646502614021\n",
      "Epoch 128/300, Loss: 0.5624955189228058\n",
      "Epoch 129/300, Loss: 0.7785162156820298\n",
      "Epoch 130/300, Loss: 0.9913886117935181, Val Loss: 2.1429502230424147\n",
      "Epoch 130/300, Loss: 0.6347080770134926\n",
      "Epoch 131/300, Loss: 0.4784698933362961\n",
      "Epoch 132/300, Loss: 0.47829690247774126\n",
      "Epoch 133/300, Loss: 0.4732266166806221\n",
      "Epoch 134/300, Loss: 0.47061591893434523\n",
      "Epoch 135/300, Loss: 0.45651318967342375\n",
      "Epoch 136/300, Loss: 0.4510091072320938\n",
      "Epoch 137/300, Loss: 0.4546901282668114\n",
      "Epoch 138/300, Loss: 0.4724687737226486\n",
      "Epoch 139/300, Loss: 0.4572091618180275\n",
      "Epoch 140/300, Loss: 0.49242662638425827, Val Loss: 1.8767311985676105\n",
      "Epoch 140/300, Loss: 0.44006902068853376\n",
      "Epoch 141/300, Loss: 0.4501906818151474\n",
      "Epoch 142/300, Loss: 0.5502040070295334\n",
      "Epoch 143/300, Loss: 0.4940841290354729\n",
      "Epoch 144/300, Loss: 0.45651574730873107\n",
      "Epoch 145/300, Loss: 0.4629833474755287\n",
      "Epoch 146/300, Loss: 0.4381444227695465\n",
      "Epoch 147/300, Loss: 0.40834788113832476\n",
      "Epoch 148/300, Loss: 0.4000481814146042\n",
      "Epoch 149/300, Loss: 0.4084420865774155\n",
      "Epoch 150/300, Loss: 0.4268979370594025, Val Loss: 1.7779532395876372\n",
      "Epoch 150/300, Loss: 0.4141372227668762\n",
      "Epoch 151/300, Loss: 0.4074611499905586\n",
      "Epoch 152/300, Loss: 0.40897666811943056\n",
      "Epoch 153/300, Loss: 0.41434436619281767\n",
      "Epoch 154/300, Loss: 0.40601896911859514\n",
      "Epoch 155/300, Loss: 0.3949554547667503\n",
      "Epoch 156/300, Loss: 0.40509820222854614\n",
      "Epoch 157/300, Loss: 0.4153571480512619\n",
      "Epoch 158/300, Loss: 0.40682284742593766\n",
      "Epoch 159/300, Loss: 0.39844678848981857\n",
      "Epoch 160/300, Loss: 0.49470793068408964, Val Loss: 2.487443447113037\n",
      "Epoch 160/300, Loss: 0.44131052374839785\n",
      "Epoch 161/300, Loss: 0.5679392424225808\n",
      "Epoch 162/300, Loss: 0.5157766062021255\n",
      "Epoch 163/300, Loss: 0.427562812268734\n",
      "Epoch 164/300, Loss: 0.4219118738174438\n",
      "Epoch 165/300, Loss: 0.3964982283115387\n",
      "Epoch 166/300, Loss: 0.36966004729270935\n",
      "Epoch 167/300, Loss: 0.372584140598774\n",
      "Epoch 168/300, Loss: 0.3779589131474495\n",
      "Epoch 169/300, Loss: 0.3663610616326332\n",
      "Epoch 170/300, Loss: 0.4405594941973686, Val Loss: 2.7473467817673316\n",
      "Epoch 170/300, Loss: 0.35246262907981873\n",
      "Epoch 171/300, Loss: 0.35232048138976096\n",
      "Epoch 172/300, Loss: 0.387682526409626\n",
      "Epoch 173/300, Loss: 0.3767250561714172\n",
      "Epoch 174/300, Loss: 0.3695621877908707\n",
      "Epoch 175/300, Loss: 0.368712545633316\n",
      "Epoch 176/300, Loss: 0.3483493748307228\n",
      "Epoch 177/300, Loss: 0.3348486351966858\n",
      "Epoch 178/300, Loss: 0.34323083952069283\n",
      "Epoch 179/300, Loss: 0.36596178710460664\n",
      "Epoch 180/300, Loss: 0.39692912369966504, Val Loss: 1.7929135927787194\n",
      "Epoch 180/300, Loss: 0.3897852087020874\n",
      "Epoch 181/300, Loss: 0.39041698843240735\n",
      "Epoch 182/300, Loss: 0.3846750888228416\n",
      "Epoch 183/300, Loss: 0.47325389832258224\n",
      "Epoch 184/300, Loss: 0.5393063214421272\n",
      "Epoch 185/300, Loss: 0.49674334943294524\n",
      "Epoch 186/300, Loss: 0.4205058813095093\n",
      "Epoch 187/300, Loss: 0.39849294126033785\n",
      "Epoch 188/300, Loss: 0.351175851225853\n",
      "Epoch 189/300, Loss: 0.33139921993017196\n",
      "Epoch 190/300, Loss: 0.39430861204862594, Val Loss: 1.7186389290369475\n",
      "Epoch 190/300, Loss: 0.3210014744102955\n",
      "Epoch 191/300, Loss: 0.34102797374129296\n",
      "Epoch 192/300, Loss: 0.3291109023988247\n",
      "Epoch 193/300, Loss: 0.31071115031838414\n",
      "Epoch 194/300, Loss: 0.3092420993745327\n",
      "Epoch 195/300, Loss: 0.32718375042080877\n",
      "Epoch 196/300, Loss: 0.32319311767816544\n",
      "Epoch 197/300, Loss: 0.3282887949049473\n",
      "Epoch 198/300, Loss: 0.3562955518066883\n",
      "Epoch 199/300, Loss: 0.45799663946032526\n",
      "Epoch 200/300, Loss: 0.5075759762525558, Val Loss: 2.2259926062363844\n",
      "Epoch 200/300, Loss: 0.44702623948454856\n",
      "Epoch 201/300, Loss: 0.45312566697597506\n",
      "Epoch 202/300, Loss: 0.4276768478751183\n",
      "Epoch 203/300, Loss: 0.36606972604990007\n",
      "Epoch 204/300, Loss: 0.3159123899042606\n",
      "Epoch 205/300, Loss: 0.29946867197752\n"
     ]
    },
    {
     "ename": "KeyboardInterrupt",
     "evalue": "",
     "output_type": "error",
     "traceback": [
      "\u001b[0;31m---------------------------------------------------------------------------\u001b[0m",
      "\u001b[0;31mKeyboardInterrupt\u001b[0m                         Traceback (most recent call last)",
      "Cell \u001b[0;32mIn[10], line 55\u001b[0m\n\u001b[1;32m     53\u001b[0m y \u001b[38;5;241m=\u001b[39m y\u001b[38;5;241m.\u001b[39mpermute(\u001b[38;5;241m0\u001b[39m, \u001b[38;5;241m4\u001b[39m, \u001b[38;5;241m1\u001b[39m, \u001b[38;5;241m2\u001b[39m, \u001b[38;5;241m3\u001b[39m)\n\u001b[1;32m     54\u001b[0m optimizer\u001b[38;5;241m.\u001b[39mzero_grad()\n\u001b[0;32m---> 55\u001b[0m outputs \u001b[38;5;241m=\u001b[39m \u001b[43mmodel\u001b[49m\u001b[43m(\u001b[49m\u001b[43mx\u001b[49m\u001b[43m)\u001b[49m\n\u001b[1;32m     56\u001b[0m loss \u001b[38;5;241m=\u001b[39m criterion(outputs, y)\n\u001b[1;32m     57\u001b[0m loss\u001b[38;5;241m.\u001b[39mbackward()\n",
      "File \u001b[0;32m~/Documents/flow_field_dataset/.venv/lib/python3.11/site-packages/torch/nn/modules/module.py:1553\u001b[0m, in \u001b[0;36mModule._wrapped_call_impl\u001b[0;34m(self, *args, **kwargs)\u001b[0m\n\u001b[1;32m   1551\u001b[0m     \u001b[38;5;28;01mreturn\u001b[39;00m \u001b[38;5;28mself\u001b[39m\u001b[38;5;241m.\u001b[39m_compiled_call_impl(\u001b[38;5;241m*\u001b[39margs, \u001b[38;5;241m*\u001b[39m\u001b[38;5;241m*\u001b[39mkwargs)  \u001b[38;5;66;03m# type: ignore[misc]\u001b[39;00m\n\u001b[1;32m   1552\u001b[0m \u001b[38;5;28;01melse\u001b[39;00m:\n\u001b[0;32m-> 1553\u001b[0m     \u001b[38;5;28;01mreturn\u001b[39;00m \u001b[38;5;28;43mself\u001b[39;49m\u001b[38;5;241;43m.\u001b[39;49m\u001b[43m_call_impl\u001b[49m\u001b[43m(\u001b[49m\u001b[38;5;241;43m*\u001b[39;49m\u001b[43margs\u001b[49m\u001b[43m,\u001b[49m\u001b[43m \u001b[49m\u001b[38;5;241;43m*\u001b[39;49m\u001b[38;5;241;43m*\u001b[39;49m\u001b[43mkwargs\u001b[49m\u001b[43m)\u001b[49m\n",
      "File \u001b[0;32m~/Documents/flow_field_dataset/.venv/lib/python3.11/site-packages/torch/nn/modules/module.py:1562\u001b[0m, in \u001b[0;36mModule._call_impl\u001b[0;34m(self, *args, **kwargs)\u001b[0m\n\u001b[1;32m   1557\u001b[0m \u001b[38;5;66;03m# If we don't have any hooks, we want to skip the rest of the logic in\u001b[39;00m\n\u001b[1;32m   1558\u001b[0m \u001b[38;5;66;03m# this function, and just call forward.\u001b[39;00m\n\u001b[1;32m   1559\u001b[0m \u001b[38;5;28;01mif\u001b[39;00m \u001b[38;5;129;01mnot\u001b[39;00m (\u001b[38;5;28mself\u001b[39m\u001b[38;5;241m.\u001b[39m_backward_hooks \u001b[38;5;129;01mor\u001b[39;00m \u001b[38;5;28mself\u001b[39m\u001b[38;5;241m.\u001b[39m_backward_pre_hooks \u001b[38;5;129;01mor\u001b[39;00m \u001b[38;5;28mself\u001b[39m\u001b[38;5;241m.\u001b[39m_forward_hooks \u001b[38;5;129;01mor\u001b[39;00m \u001b[38;5;28mself\u001b[39m\u001b[38;5;241m.\u001b[39m_forward_pre_hooks\n\u001b[1;32m   1560\u001b[0m         \u001b[38;5;129;01mor\u001b[39;00m _global_backward_pre_hooks \u001b[38;5;129;01mor\u001b[39;00m _global_backward_hooks\n\u001b[1;32m   1561\u001b[0m         \u001b[38;5;129;01mor\u001b[39;00m _global_forward_hooks \u001b[38;5;129;01mor\u001b[39;00m _global_forward_pre_hooks):\n\u001b[0;32m-> 1562\u001b[0m     \u001b[38;5;28;01mreturn\u001b[39;00m \u001b[43mforward_call\u001b[49m\u001b[43m(\u001b[49m\u001b[38;5;241;43m*\u001b[39;49m\u001b[43margs\u001b[49m\u001b[43m,\u001b[49m\u001b[43m \u001b[49m\u001b[38;5;241;43m*\u001b[39;49m\u001b[38;5;241;43m*\u001b[39;49m\u001b[43mkwargs\u001b[49m\u001b[43m)\u001b[49m\n\u001b[1;32m   1564\u001b[0m \u001b[38;5;28;01mtry\u001b[39;00m:\n\u001b[1;32m   1565\u001b[0m     result \u001b[38;5;241m=\u001b[39m \u001b[38;5;28;01mNone\u001b[39;00m\n",
      "File \u001b[0;32m~/Documents/flow_field_dataset/examples/voxel_data/flow_field_model.py:138\u001b[0m, in \u001b[0;36mFlowFieldUNet3D.forward\u001b[0;34m(self, x)\u001b[0m\n\u001b[1;32m    135\u001b[0m skip_connections \u001b[38;5;241m=\u001b[39m []\n\u001b[1;32m    137\u001b[0m \u001b[38;5;66;03m# Initial convolution\u001b[39;00m\n\u001b[0;32m--> 138\u001b[0m x \u001b[38;5;241m=\u001b[39m \u001b[38;5;28;43mself\u001b[39;49m\u001b[38;5;241;43m.\u001b[39;49m\u001b[43minc\u001b[49m\u001b[43m(\u001b[49m\u001b[43mx\u001b[49m\u001b[43m)\u001b[49m\n\u001b[1;32m    139\u001b[0m skip_connections\u001b[38;5;241m.\u001b[39mappend(x)\n\u001b[1;32m    141\u001b[0m \u001b[38;5;66;03m# Downsampling path\u001b[39;00m\n",
      "File \u001b[0;32m~/Documents/flow_field_dataset/.venv/lib/python3.11/site-packages/torch/nn/modules/module.py:1553\u001b[0m, in \u001b[0;36mModule._wrapped_call_impl\u001b[0;34m(self, *args, **kwargs)\u001b[0m\n\u001b[1;32m   1551\u001b[0m     \u001b[38;5;28;01mreturn\u001b[39;00m \u001b[38;5;28mself\u001b[39m\u001b[38;5;241m.\u001b[39m_compiled_call_impl(\u001b[38;5;241m*\u001b[39margs, \u001b[38;5;241m*\u001b[39m\u001b[38;5;241m*\u001b[39mkwargs)  \u001b[38;5;66;03m# type: ignore[misc]\u001b[39;00m\n\u001b[1;32m   1552\u001b[0m \u001b[38;5;28;01melse\u001b[39;00m:\n\u001b[0;32m-> 1553\u001b[0m     \u001b[38;5;28;01mreturn\u001b[39;00m \u001b[38;5;28;43mself\u001b[39;49m\u001b[38;5;241;43m.\u001b[39;49m\u001b[43m_call_impl\u001b[49m\u001b[43m(\u001b[49m\u001b[38;5;241;43m*\u001b[39;49m\u001b[43margs\u001b[49m\u001b[43m,\u001b[49m\u001b[43m \u001b[49m\u001b[38;5;241;43m*\u001b[39;49m\u001b[38;5;241;43m*\u001b[39;49m\u001b[43mkwargs\u001b[49m\u001b[43m)\u001b[49m\n",
      "File \u001b[0;32m~/Documents/flow_field_dataset/.venv/lib/python3.11/site-packages/torch/nn/modules/module.py:1562\u001b[0m, in \u001b[0;36mModule._call_impl\u001b[0;34m(self, *args, **kwargs)\u001b[0m\n\u001b[1;32m   1557\u001b[0m \u001b[38;5;66;03m# If we don't have any hooks, we want to skip the rest of the logic in\u001b[39;00m\n\u001b[1;32m   1558\u001b[0m \u001b[38;5;66;03m# this function, and just call forward.\u001b[39;00m\n\u001b[1;32m   1559\u001b[0m \u001b[38;5;28;01mif\u001b[39;00m \u001b[38;5;129;01mnot\u001b[39;00m (\u001b[38;5;28mself\u001b[39m\u001b[38;5;241m.\u001b[39m_backward_hooks \u001b[38;5;129;01mor\u001b[39;00m \u001b[38;5;28mself\u001b[39m\u001b[38;5;241m.\u001b[39m_backward_pre_hooks \u001b[38;5;129;01mor\u001b[39;00m \u001b[38;5;28mself\u001b[39m\u001b[38;5;241m.\u001b[39m_forward_hooks \u001b[38;5;129;01mor\u001b[39;00m \u001b[38;5;28mself\u001b[39m\u001b[38;5;241m.\u001b[39m_forward_pre_hooks\n\u001b[1;32m   1560\u001b[0m         \u001b[38;5;129;01mor\u001b[39;00m _global_backward_pre_hooks \u001b[38;5;129;01mor\u001b[39;00m _global_backward_hooks\n\u001b[1;32m   1561\u001b[0m         \u001b[38;5;129;01mor\u001b[39;00m _global_forward_hooks \u001b[38;5;129;01mor\u001b[39;00m _global_forward_pre_hooks):\n\u001b[0;32m-> 1562\u001b[0m     \u001b[38;5;28;01mreturn\u001b[39;00m \u001b[43mforward_call\u001b[49m\u001b[43m(\u001b[49m\u001b[38;5;241;43m*\u001b[39;49m\u001b[43margs\u001b[49m\u001b[43m,\u001b[49m\u001b[43m \u001b[49m\u001b[38;5;241;43m*\u001b[39;49m\u001b[38;5;241;43m*\u001b[39;49m\u001b[43mkwargs\u001b[49m\u001b[43m)\u001b[49m\n\u001b[1;32m   1564\u001b[0m \u001b[38;5;28;01mtry\u001b[39;00m:\n\u001b[1;32m   1565\u001b[0m     result \u001b[38;5;241m=\u001b[39m \u001b[38;5;28;01mNone\u001b[39;00m\n",
      "File \u001b[0;32m~/Documents/flow_field_dataset/examples/voxel_data/flow_field_model.py:27\u001b[0m, in \u001b[0;36mDoubleConv3D.forward\u001b[0;34m(self, x)\u001b[0m\n\u001b[1;32m     26\u001b[0m \u001b[38;5;28;01mdef\u001b[39;00m\u001b[38;5;250m \u001b[39m\u001b[38;5;21mforward\u001b[39m(\u001b[38;5;28mself\u001b[39m, x: torch\u001b[38;5;241m.\u001b[39mTensor) \u001b[38;5;241m-\u001b[39m\u001b[38;5;241m>\u001b[39m torch\u001b[38;5;241m.\u001b[39mTensor:\n\u001b[0;32m---> 27\u001b[0m     \u001b[38;5;28;01mreturn\u001b[39;00m \u001b[38;5;28;43mself\u001b[39;49m\u001b[38;5;241;43m.\u001b[39;49m\u001b[43mdouble_conv\u001b[49m\u001b[43m(\u001b[49m\u001b[43mx\u001b[49m\u001b[43m)\u001b[49m\n",
      "File \u001b[0;32m~/Documents/flow_field_dataset/.venv/lib/python3.11/site-packages/torch/nn/modules/module.py:1553\u001b[0m, in \u001b[0;36mModule._wrapped_call_impl\u001b[0;34m(self, *args, **kwargs)\u001b[0m\n\u001b[1;32m   1551\u001b[0m     \u001b[38;5;28;01mreturn\u001b[39;00m \u001b[38;5;28mself\u001b[39m\u001b[38;5;241m.\u001b[39m_compiled_call_impl(\u001b[38;5;241m*\u001b[39margs, \u001b[38;5;241m*\u001b[39m\u001b[38;5;241m*\u001b[39mkwargs)  \u001b[38;5;66;03m# type: ignore[misc]\u001b[39;00m\n\u001b[1;32m   1552\u001b[0m \u001b[38;5;28;01melse\u001b[39;00m:\n\u001b[0;32m-> 1553\u001b[0m     \u001b[38;5;28;01mreturn\u001b[39;00m \u001b[38;5;28;43mself\u001b[39;49m\u001b[38;5;241;43m.\u001b[39;49m\u001b[43m_call_impl\u001b[49m\u001b[43m(\u001b[49m\u001b[38;5;241;43m*\u001b[39;49m\u001b[43margs\u001b[49m\u001b[43m,\u001b[49m\u001b[43m \u001b[49m\u001b[38;5;241;43m*\u001b[39;49m\u001b[38;5;241;43m*\u001b[39;49m\u001b[43mkwargs\u001b[49m\u001b[43m)\u001b[49m\n",
      "File \u001b[0;32m~/Documents/flow_field_dataset/.venv/lib/python3.11/site-packages/torch/nn/modules/module.py:1562\u001b[0m, in \u001b[0;36mModule._call_impl\u001b[0;34m(self, *args, **kwargs)\u001b[0m\n\u001b[1;32m   1557\u001b[0m \u001b[38;5;66;03m# If we don't have any hooks, we want to skip the rest of the logic in\u001b[39;00m\n\u001b[1;32m   1558\u001b[0m \u001b[38;5;66;03m# this function, and just call forward.\u001b[39;00m\n\u001b[1;32m   1559\u001b[0m \u001b[38;5;28;01mif\u001b[39;00m \u001b[38;5;129;01mnot\u001b[39;00m (\u001b[38;5;28mself\u001b[39m\u001b[38;5;241m.\u001b[39m_backward_hooks \u001b[38;5;129;01mor\u001b[39;00m \u001b[38;5;28mself\u001b[39m\u001b[38;5;241m.\u001b[39m_backward_pre_hooks \u001b[38;5;129;01mor\u001b[39;00m \u001b[38;5;28mself\u001b[39m\u001b[38;5;241m.\u001b[39m_forward_hooks \u001b[38;5;129;01mor\u001b[39;00m \u001b[38;5;28mself\u001b[39m\u001b[38;5;241m.\u001b[39m_forward_pre_hooks\n\u001b[1;32m   1560\u001b[0m         \u001b[38;5;129;01mor\u001b[39;00m _global_backward_pre_hooks \u001b[38;5;129;01mor\u001b[39;00m _global_backward_hooks\n\u001b[1;32m   1561\u001b[0m         \u001b[38;5;129;01mor\u001b[39;00m _global_forward_hooks \u001b[38;5;129;01mor\u001b[39;00m _global_forward_pre_hooks):\n\u001b[0;32m-> 1562\u001b[0m     \u001b[38;5;28;01mreturn\u001b[39;00m \u001b[43mforward_call\u001b[49m\u001b[43m(\u001b[49m\u001b[38;5;241;43m*\u001b[39;49m\u001b[43margs\u001b[49m\u001b[43m,\u001b[49m\u001b[43m \u001b[49m\u001b[38;5;241;43m*\u001b[39;49m\u001b[38;5;241;43m*\u001b[39;49m\u001b[43mkwargs\u001b[49m\u001b[43m)\u001b[49m\n\u001b[1;32m   1564\u001b[0m \u001b[38;5;28;01mtry\u001b[39;00m:\n\u001b[1;32m   1565\u001b[0m     result \u001b[38;5;241m=\u001b[39m \u001b[38;5;28;01mNone\u001b[39;00m\n",
      "File \u001b[0;32m~/Documents/flow_field_dataset/.venv/lib/python3.11/site-packages/torch/nn/modules/container.py:219\u001b[0m, in \u001b[0;36mSequential.forward\u001b[0;34m(self, input)\u001b[0m\n\u001b[1;32m    217\u001b[0m \u001b[38;5;28;01mdef\u001b[39;00m\u001b[38;5;250m \u001b[39m\u001b[38;5;21mforward\u001b[39m(\u001b[38;5;28mself\u001b[39m, \u001b[38;5;28minput\u001b[39m):\n\u001b[1;32m    218\u001b[0m     \u001b[38;5;28;01mfor\u001b[39;00m module \u001b[38;5;129;01min\u001b[39;00m \u001b[38;5;28mself\u001b[39m:\n\u001b[0;32m--> 219\u001b[0m         \u001b[38;5;28minput\u001b[39m \u001b[38;5;241m=\u001b[39m \u001b[43mmodule\u001b[49m\u001b[43m(\u001b[49m\u001b[38;5;28;43minput\u001b[39;49m\u001b[43m)\u001b[49m\n\u001b[1;32m    220\u001b[0m     \u001b[38;5;28;01mreturn\u001b[39;00m \u001b[38;5;28minput\u001b[39m\n",
      "File \u001b[0;32m~/Documents/flow_field_dataset/.venv/lib/python3.11/site-packages/torch/nn/modules/module.py:1553\u001b[0m, in \u001b[0;36mModule._wrapped_call_impl\u001b[0;34m(self, *args, **kwargs)\u001b[0m\n\u001b[1;32m   1551\u001b[0m     \u001b[38;5;28;01mreturn\u001b[39;00m \u001b[38;5;28mself\u001b[39m\u001b[38;5;241m.\u001b[39m_compiled_call_impl(\u001b[38;5;241m*\u001b[39margs, \u001b[38;5;241m*\u001b[39m\u001b[38;5;241m*\u001b[39mkwargs)  \u001b[38;5;66;03m# type: ignore[misc]\u001b[39;00m\n\u001b[1;32m   1552\u001b[0m \u001b[38;5;28;01melse\u001b[39;00m:\n\u001b[0;32m-> 1553\u001b[0m     \u001b[38;5;28;01mreturn\u001b[39;00m \u001b[38;5;28;43mself\u001b[39;49m\u001b[38;5;241;43m.\u001b[39;49m\u001b[43m_call_impl\u001b[49m\u001b[43m(\u001b[49m\u001b[38;5;241;43m*\u001b[39;49m\u001b[43margs\u001b[49m\u001b[43m,\u001b[49m\u001b[43m \u001b[49m\u001b[38;5;241;43m*\u001b[39;49m\u001b[38;5;241;43m*\u001b[39;49m\u001b[43mkwargs\u001b[49m\u001b[43m)\u001b[49m\n",
      "File \u001b[0;32m~/Documents/flow_field_dataset/.venv/lib/python3.11/site-packages/torch/nn/modules/module.py:1562\u001b[0m, in \u001b[0;36mModule._call_impl\u001b[0;34m(self, *args, **kwargs)\u001b[0m\n\u001b[1;32m   1557\u001b[0m \u001b[38;5;66;03m# If we don't have any hooks, we want to skip the rest of the logic in\u001b[39;00m\n\u001b[1;32m   1558\u001b[0m \u001b[38;5;66;03m# this function, and just call forward.\u001b[39;00m\n\u001b[1;32m   1559\u001b[0m \u001b[38;5;28;01mif\u001b[39;00m \u001b[38;5;129;01mnot\u001b[39;00m (\u001b[38;5;28mself\u001b[39m\u001b[38;5;241m.\u001b[39m_backward_hooks \u001b[38;5;129;01mor\u001b[39;00m \u001b[38;5;28mself\u001b[39m\u001b[38;5;241m.\u001b[39m_backward_pre_hooks \u001b[38;5;129;01mor\u001b[39;00m \u001b[38;5;28mself\u001b[39m\u001b[38;5;241m.\u001b[39m_forward_hooks \u001b[38;5;129;01mor\u001b[39;00m \u001b[38;5;28mself\u001b[39m\u001b[38;5;241m.\u001b[39m_forward_pre_hooks\n\u001b[1;32m   1560\u001b[0m         \u001b[38;5;129;01mor\u001b[39;00m _global_backward_pre_hooks \u001b[38;5;129;01mor\u001b[39;00m _global_backward_hooks\n\u001b[1;32m   1561\u001b[0m         \u001b[38;5;129;01mor\u001b[39;00m _global_forward_hooks \u001b[38;5;129;01mor\u001b[39;00m _global_forward_pre_hooks):\n\u001b[0;32m-> 1562\u001b[0m     \u001b[38;5;28;01mreturn\u001b[39;00m \u001b[43mforward_call\u001b[49m\u001b[43m(\u001b[49m\u001b[38;5;241;43m*\u001b[39;49m\u001b[43margs\u001b[49m\u001b[43m,\u001b[49m\u001b[43m \u001b[49m\u001b[38;5;241;43m*\u001b[39;49m\u001b[38;5;241;43m*\u001b[39;49m\u001b[43mkwargs\u001b[49m\u001b[43m)\u001b[49m\n\u001b[1;32m   1564\u001b[0m \u001b[38;5;28;01mtry\u001b[39;00m:\n\u001b[1;32m   1565\u001b[0m     result \u001b[38;5;241m=\u001b[39m \u001b[38;5;28;01mNone\u001b[39;00m\n",
      "File \u001b[0;32m~/Documents/flow_field_dataset/.venv/lib/python3.11/site-packages/torch/nn/modules/conv.py:608\u001b[0m, in \u001b[0;36mConv3d.forward\u001b[0;34m(self, input)\u001b[0m\n\u001b[1;32m    607\u001b[0m \u001b[38;5;28;01mdef\u001b[39;00m\u001b[38;5;250m \u001b[39m\u001b[38;5;21mforward\u001b[39m(\u001b[38;5;28mself\u001b[39m, \u001b[38;5;28minput\u001b[39m: Tensor) \u001b[38;5;241m-\u001b[39m\u001b[38;5;241m>\u001b[39m Tensor:\n\u001b[0;32m--> 608\u001b[0m     \u001b[38;5;28;01mreturn\u001b[39;00m \u001b[38;5;28;43mself\u001b[39;49m\u001b[38;5;241;43m.\u001b[39;49m\u001b[43m_conv_forward\u001b[49m\u001b[43m(\u001b[49m\u001b[38;5;28;43minput\u001b[39;49m\u001b[43m,\u001b[49m\u001b[43m \u001b[49m\u001b[38;5;28;43mself\u001b[39;49m\u001b[38;5;241;43m.\u001b[39;49m\u001b[43mweight\u001b[49m\u001b[43m,\u001b[49m\u001b[43m \u001b[49m\u001b[38;5;28;43mself\u001b[39;49m\u001b[38;5;241;43m.\u001b[39;49m\u001b[43mbias\u001b[49m\u001b[43m)\u001b[49m\n",
      "File \u001b[0;32m~/Documents/flow_field_dataset/.venv/lib/python3.11/site-packages/torch/nn/modules/conv.py:603\u001b[0m, in \u001b[0;36mConv3d._conv_forward\u001b[0;34m(self, input, weight, bias)\u001b[0m\n\u001b[1;32m    591\u001b[0m \u001b[38;5;28;01mif\u001b[39;00m \u001b[38;5;28mself\u001b[39m\u001b[38;5;241m.\u001b[39mpadding_mode \u001b[38;5;241m!=\u001b[39m \u001b[38;5;124m\"\u001b[39m\u001b[38;5;124mzeros\u001b[39m\u001b[38;5;124m\"\u001b[39m:\n\u001b[1;32m    592\u001b[0m     \u001b[38;5;28;01mreturn\u001b[39;00m F\u001b[38;5;241m.\u001b[39mconv3d(\n\u001b[1;32m    593\u001b[0m         F\u001b[38;5;241m.\u001b[39mpad(\n\u001b[1;32m    594\u001b[0m             \u001b[38;5;28minput\u001b[39m, \u001b[38;5;28mself\u001b[39m\u001b[38;5;241m.\u001b[39m_reversed_padding_repeated_twice, mode\u001b[38;5;241m=\u001b[39m\u001b[38;5;28mself\u001b[39m\u001b[38;5;241m.\u001b[39mpadding_mode\n\u001b[0;32m   (...)\u001b[0m\n\u001b[1;32m    601\u001b[0m         \u001b[38;5;28mself\u001b[39m\u001b[38;5;241m.\u001b[39mgroups,\n\u001b[1;32m    602\u001b[0m     )\n\u001b[0;32m--> 603\u001b[0m \u001b[38;5;28;01mreturn\u001b[39;00m \u001b[43mF\u001b[49m\u001b[38;5;241;43m.\u001b[39;49m\u001b[43mconv3d\u001b[49m\u001b[43m(\u001b[49m\n\u001b[1;32m    604\u001b[0m \u001b[43m    \u001b[49m\u001b[38;5;28;43minput\u001b[39;49m\u001b[43m,\u001b[49m\u001b[43m \u001b[49m\u001b[43mweight\u001b[49m\u001b[43m,\u001b[49m\u001b[43m \u001b[49m\u001b[43mbias\u001b[49m\u001b[43m,\u001b[49m\u001b[43m \u001b[49m\u001b[38;5;28;43mself\u001b[39;49m\u001b[38;5;241;43m.\u001b[39;49m\u001b[43mstride\u001b[49m\u001b[43m,\u001b[49m\u001b[43m \u001b[49m\u001b[38;5;28;43mself\u001b[39;49m\u001b[38;5;241;43m.\u001b[39;49m\u001b[43mpadding\u001b[49m\u001b[43m,\u001b[49m\u001b[43m \u001b[49m\u001b[38;5;28;43mself\u001b[39;49m\u001b[38;5;241;43m.\u001b[39;49m\u001b[43mdilation\u001b[49m\u001b[43m,\u001b[49m\u001b[43m \u001b[49m\u001b[38;5;28;43mself\u001b[39;49m\u001b[38;5;241;43m.\u001b[39;49m\u001b[43mgroups\u001b[49m\n\u001b[1;32m    605\u001b[0m \u001b[43m\u001b[49m\u001b[43m)\u001b[49m\n",
      "\u001b[0;31mKeyboardInterrupt\u001b[0m: "
     ]
    },
    {
     "ename": "",
     "evalue": "",
     "output_type": "error",
     "traceback": [
      "\u001b[1;31mThe Kernel crashed while executing code in the current cell or a previous cell. \n",
      "\u001b[1;31mPlease review the code in the cell(s) to identify a possible cause of the failure. \n",
      "\u001b[1;31mClick <a href='https://aka.ms/vscodeJupyterKernelCrash'>here</a> for more info. \n",
      "\u001b[1;31mView Jupyter <a href='command:jupyter.viewOutput'>log</a> for further details."
     ]
    }
   ],
   "source": [
    "import torch.optim as optim\n",
    "import torch.optim.lr_scheduler as lr_scheduler\n",
    "from tqdm import tqdm\n",
    "import numpy as np\n",
    "import matplotlib.pyplot as plt\n",
    "print(f\"Using device: {device}\")\n",
    "model.to(device)\n",
    "criterion = nn.MSELoss()\n",
    "lr=5e-4\n",
    "epochs=300\n",
    "optimizer = optim.Adam(model.parameters(), lr=lr)\n",
    "#scheduler = lr_scheduler.ExponentialLR(optimizer, gamma=0.999)\n",
    "\n",
    "training_losses = []\n",
    "validation_losses = []\n",
    "logging_epochs = []\n",
    "\n",
    "    \n",
    "for epoch in range(epochs):\n",
    "    if (epoch) % 10 == 0:\n",
    "        val_loss = 0\n",
    "        train_loss_in_eval = 0\n",
    "        #model.eval()\n",
    "        with torch.no_grad():\n",
    "            for x, y in val_dataloader:\n",
    "                x, y = x.to(device), y.to(device)\n",
    "                x = x.float().unsqueeze(-1)\n",
    "                x = x.permute(0, 4, 1, 2, 3)\n",
    "                y = y.permute(0, 4, 1, 2, 3)\n",
    "                outputs = model(x)\n",
    "                loss = criterion(outputs, y)\n",
    "                val_loss += loss.item()\n",
    "            for x, y in train_dataloader:\n",
    "                x, y = x.to(device), y.to(device)\n",
    "                x = x.float().unsqueeze(-1)\n",
    "                x = x.permute(0, 4, 1, 2, 3)\n",
    "                y = y.permute(0, 4, 1, 2, 3)\n",
    "                outputs = model(x)\n",
    "                loss = criterion(outputs, y)\n",
    "                train_loss_in_eval += loss.item()\n",
    "\n",
    "\n",
    "        print(f\"Epoch {epoch}/{epochs}, Loss: {train_loss_in_eval / len(train_dataloader)}, Val Loss: {val_loss / len(val_dataloader)}\")\n",
    "        training_losses.append(train_loss_in_eval / len(train_dataloader))\n",
    "        validation_losses.append(val_loss / len(val_dataloader))\n",
    "        logging_epochs.append(epoch)\n",
    "    model.train()\n",
    "    epoch_loss = 0\n",
    "    for x,y in train_dataloader:\n",
    "        x, y = x.to(device), y.to(device)\n",
    "        x=x.float().unsqueeze(-1)\n",
    "        x = x.permute(0, 4, 1, 2, 3)  # (N, D, H, W, C) → (N, C, D, H, W)\n",
    "        y = y.permute(0, 4, 1, 2, 3)\n",
    "        optimizer.zero_grad()\n",
    "        outputs = model(x)\n",
    "        loss = criterion(outputs, y)\n",
    "        loss.backward()\n",
    "        optimizer.step()\n",
    "\n",
    "        epoch_loss += loss.item()\n",
    "    #scheduler.step()\n",
    "    print(f\"Epoch {epoch}/{epochs}, Loss: {epoch_loss / len(train_dataloader)}\")\n",
    "plt.plot(logging_epochs, training_losses, label='Training Loss')\n",
    "plt.plot(logging_epochs, validation_losses, label='Validation Loss')\n",
    "plt.legend()\n",
    "plt.xlabel('Epoch')\n",
    "plt.ylabel('Loss')\n",
    "plt.yscale('log')\n",
    "plt.show()\n",
    "# Save the model\n",
    "torch.save(model.state_dict(), 'unet3d.pth')"
   ]
  },
  {
   "cell_type": "code",
   "execution_count": 11,
   "metadata": {},
   "outputs": [
    {
     "data": {
      "text/plain": [
       "FlowFieldUNet3D(\n",
       "  (downs): ModuleList(\n",
       "    (0): Down3D(\n",
       "      (maxpool_conv): Sequential(\n",
       "        (0): MaxPool3d(kernel_size=2, stride=2, padding=0, dilation=1, ceil_mode=False)\n",
       "        (1): DoubleConv3D(\n",
       "          (double_conv): Sequential(\n",
       "            (0): Conv3d(32, 64, kernel_size=(3, 3, 3), stride=(1, 1, 1), padding=(1, 1, 1))\n",
       "            (1): BatchNorm3d(64, eps=1e-05, momentum=0.1, affine=True, track_running_stats=True)\n",
       "            (2): ReLU(inplace=True)\n",
       "            (3): Conv3d(64, 64, kernel_size=(3, 3, 3), stride=(1, 1, 1), padding=(1, 1, 1))\n",
       "            (4): BatchNorm3d(64, eps=1e-05, momentum=0.1, affine=True, track_running_stats=True)\n",
       "            (5): ReLU(inplace=True)\n",
       "          )\n",
       "        )\n",
       "      )\n",
       "    )\n",
       "    (1): Down3D(\n",
       "      (maxpool_conv): Sequential(\n",
       "        (0): MaxPool3d(kernel_size=2, stride=2, padding=0, dilation=1, ceil_mode=False)\n",
       "        (1): DoubleConv3D(\n",
       "          (double_conv): Sequential(\n",
       "            (0): Conv3d(64, 128, kernel_size=(3, 3, 3), stride=(1, 1, 1), padding=(1, 1, 1))\n",
       "            (1): BatchNorm3d(128, eps=1e-05, momentum=0.1, affine=True, track_running_stats=True)\n",
       "            (2): ReLU(inplace=True)\n",
       "            (3): Conv3d(128, 128, kernel_size=(3, 3, 3), stride=(1, 1, 1), padding=(1, 1, 1))\n",
       "            (4): BatchNorm3d(128, eps=1e-05, momentum=0.1, affine=True, track_running_stats=True)\n",
       "            (5): ReLU(inplace=True)\n",
       "          )\n",
       "        )\n",
       "      )\n",
       "    )\n",
       "    (2): Down3D(\n",
       "      (maxpool_conv): Sequential(\n",
       "        (0): MaxPool3d(kernel_size=2, stride=2, padding=0, dilation=1, ceil_mode=False)\n",
       "        (1): DoubleConv3D(\n",
       "          (double_conv): Sequential(\n",
       "            (0): Conv3d(128, 256, kernel_size=(3, 3, 3), stride=(1, 1, 1), padding=(1, 1, 1))\n",
       "            (1): BatchNorm3d(256, eps=1e-05, momentum=0.1, affine=True, track_running_stats=True)\n",
       "            (2): ReLU(inplace=True)\n",
       "            (3): Conv3d(256, 256, kernel_size=(3, 3, 3), stride=(1, 1, 1), padding=(1, 1, 1))\n",
       "            (4): BatchNorm3d(256, eps=1e-05, momentum=0.1, affine=True, track_running_stats=True)\n",
       "            (5): ReLU(inplace=True)\n",
       "          )\n",
       "        )\n",
       "      )\n",
       "    )\n",
       "  )\n",
       "  (ups): ModuleList(\n",
       "    (0): Up3D(\n",
       "      (up): ConvTranspose3d(256, 128, kernel_size=(2, 2, 2), stride=(2, 2, 2))\n",
       "      (conv): DoubleConv3D(\n",
       "        (double_conv): Sequential(\n",
       "          (0): Conv3d(256, 128, kernel_size=(3, 3, 3), stride=(1, 1, 1), padding=(1, 1, 1))\n",
       "          (1): BatchNorm3d(128, eps=1e-05, momentum=0.1, affine=True, track_running_stats=True)\n",
       "          (2): ReLU(inplace=True)\n",
       "          (3): Conv3d(128, 128, kernel_size=(3, 3, 3), stride=(1, 1, 1), padding=(1, 1, 1))\n",
       "          (4): BatchNorm3d(128, eps=1e-05, momentum=0.1, affine=True, track_running_stats=True)\n",
       "          (5): ReLU(inplace=True)\n",
       "        )\n",
       "      )\n",
       "    )\n",
       "    (1): Up3D(\n",
       "      (up): ConvTranspose3d(128, 64, kernel_size=(2, 2, 2), stride=(2, 2, 2))\n",
       "      (conv): DoubleConv3D(\n",
       "        (double_conv): Sequential(\n",
       "          (0): Conv3d(128, 64, kernel_size=(3, 3, 3), stride=(1, 1, 1), padding=(1, 1, 1))\n",
       "          (1): BatchNorm3d(64, eps=1e-05, momentum=0.1, affine=True, track_running_stats=True)\n",
       "          (2): ReLU(inplace=True)\n",
       "          (3): Conv3d(64, 64, kernel_size=(3, 3, 3), stride=(1, 1, 1), padding=(1, 1, 1))\n",
       "          (4): BatchNorm3d(64, eps=1e-05, momentum=0.1, affine=True, track_running_stats=True)\n",
       "          (5): ReLU(inplace=True)\n",
       "        )\n",
       "      )\n",
       "    )\n",
       "    (2): Up3D(\n",
       "      (up): ConvTranspose3d(64, 32, kernel_size=(2, 2, 2), stride=(2, 2, 2))\n",
       "      (conv): DoubleConv3D(\n",
       "        (double_conv): Sequential(\n",
       "          (0): Conv3d(64, 32, kernel_size=(3, 3, 3), stride=(1, 1, 1), padding=(1, 1, 1))\n",
       "          (1): BatchNorm3d(32, eps=1e-05, momentum=0.1, affine=True, track_running_stats=True)\n",
       "          (2): ReLU(inplace=True)\n",
       "          (3): Conv3d(32, 32, kernel_size=(3, 3, 3), stride=(1, 1, 1), padding=(1, 1, 1))\n",
       "          (4): BatchNorm3d(32, eps=1e-05, momentum=0.1, affine=True, track_running_stats=True)\n",
       "          (5): ReLU(inplace=True)\n",
       "        )\n",
       "      )\n",
       "    )\n",
       "    (3): Up3D(\n",
       "      (up): ConvTranspose3d(256, 128, kernel_size=(2, 2, 2), stride=(2, 2, 2))\n",
       "      (conv): DoubleConv3D(\n",
       "        (double_conv): Sequential(\n",
       "          (0): Conv3d(160, 32, kernel_size=(3, 3, 3), stride=(1, 1, 1), padding=(1, 1, 1))\n",
       "          (1): BatchNorm3d(32, eps=1e-05, momentum=0.1, affine=True, track_running_stats=True)\n",
       "          (2): ReLU(inplace=True)\n",
       "          (3): Conv3d(32, 32, kernel_size=(3, 3, 3), stride=(1, 1, 1), padding=(1, 1, 1))\n",
       "          (4): BatchNorm3d(32, eps=1e-05, momentum=0.1, affine=True, track_running_stats=True)\n",
       "          (5): ReLU(inplace=True)\n",
       "        )\n",
       "      )\n",
       "    )\n",
       "  )\n",
       "  (inc): DoubleConv3D(\n",
       "    (double_conv): Sequential(\n",
       "      (0): Conv3d(1, 32, kernel_size=(3, 3, 3), stride=(1, 1, 1), padding=(1, 1, 1))\n",
       "      (1): BatchNorm3d(32, eps=1e-05, momentum=0.1, affine=True, track_running_stats=True)\n",
       "      (2): ReLU(inplace=True)\n",
       "      (3): Conv3d(32, 32, kernel_size=(3, 3, 3), stride=(1, 1, 1), padding=(1, 1, 1))\n",
       "      (4): BatchNorm3d(32, eps=1e-05, momentum=0.1, affine=True, track_running_stats=True)\n",
       "      (5): ReLU(inplace=True)\n",
       "    )\n",
       "  )\n",
       "  (bottleneck): DoubleConv3D(\n",
       "    (double_conv): Sequential(\n",
       "      (0): Conv3d(256, 256, kernel_size=(3, 3, 3), stride=(1, 1, 1), padding=(1, 1, 1))\n",
       "      (1): BatchNorm3d(256, eps=1e-05, momentum=0.1, affine=True, track_running_stats=True)\n",
       "      (2): ReLU(inplace=True)\n",
       "      (3): Conv3d(256, 256, kernel_size=(3, 3, 3), stride=(1, 1, 1), padding=(1, 1, 1))\n",
       "      (4): BatchNorm3d(256, eps=1e-05, momentum=0.1, affine=True, track_running_stats=True)\n",
       "      (5): ReLU(inplace=True)\n",
       "    )\n",
       "  )\n",
       "  (outc): Conv3d(32, 5, kernel_size=(1, 1, 1), stride=(1, 1, 1))\n",
       ")"
      ]
     },
     "execution_count": 11,
     "metadata": {},
     "output_type": "execute_result"
    }
   ],
   "source": [
    "model.load_state_dict(torch.load('unet3d.pth', map_location=device))\n",
    "model.to(device)\n",
    "model.eval()"
   ]
  },
  {
   "cell_type": "code",
   "execution_count": 12,
   "metadata": {},
   "outputs": [],
   "source": [
    "mask,y = next(iter(val_dataloader))\n",
    "mask = mask.to(device)\n",
    "y = y.to(device)"
   ]
  },
  {
   "cell_type": "code",
   "execution_count": 13,
   "metadata": {},
   "outputs": [],
   "source": [
    "x=mask.float().unsqueeze(-1)\n",
    "x = x.permute(0, 4, 1, 2, 3)  # (N, D, H, W, C) → (N, C, D, H, W)\n",
    "#y = y.permute(0, 4, 1, 2, 3)\n",
    "y_pred = model(x)\n",
    "y_pred = y_pred.permute(0, 2, 3, 4, 1)  # (N, C, D, H, W) → (N, D, H, W, C)\n"
   ]
  },
  {
   "cell_type": "code",
   "execution_count": 14,
   "metadata": {},
   "outputs": [],
   "source": [
    "pred_sample = ds_voxel.prediction_to_sample(mask[0], y_pred[0])"
   ]
  },
  {
   "cell_type": "code",
   "execution_count": 15,
   "metadata": {},
   "outputs": [
    {
     "data": {
      "text/plain": [
       "tensor(-0.2570)"
      ]
     },
     "execution_count": 15,
     "metadata": {},
     "output_type": "execute_result"
    }
   ],
   "source": [
    "pred_sample.get_field(\"Pressure\").mean()"
   ]
  },
  {
   "cell_type": "code",
   "execution_count": 16,
   "metadata": {},
   "outputs": [
    {
     "data": {
      "application/vnd.jupyter.widget-view+json": {
       "model_id": "67759d13a343416082926035a6e498fc",
       "version_major": 2,
       "version_minor": 0
      },
      "text/plain": [
       "Widget(value='<iframe src=\"http://localhost:41345/index.html?ui=P_0x725bd41bce10_1&reconnect=auto\" class=\"pyvi…"
      ]
     },
     "metadata": {},
     "output_type": "display_data"
    }
   ],
   "source": [
    "pred_sample.plot(\"Pressure\")"
   ]
  },
  {
   "cell_type": "code",
   "execution_count": 17,
   "metadata": {},
   "outputs": [
    {
     "data": {
      "application/vnd.jupyter.widget-view+json": {
       "model_id": "94c2c333f0184cfbac4e435e64f3c5f0",
       "version_major": 2,
       "version_minor": 0
      },
      "text/plain": [
       "Widget(value='<iframe src=\"http://localhost:41345/index.html?ui=P_0x725bd5963950_2&reconnect=auto\" class=\"pyvi…"
      ]
     },
     "metadata": {},
     "output_type": "display_data"
    }
   ],
   "source": [
    "true_sample = ds_voxel.prediction_to_sample(mask[0], y[0])\n",
    "true_sample.plot(\"Pressure\")"
   ]
  },
  {
   "cell_type": "code",
   "execution_count": 18,
   "metadata": {},
   "outputs": [
    {
     "data": {
      "text/plain": [
       "(tensor(-0.3165), tensor(-0.2570))"
      ]
     },
     "execution_count": 18,
     "metadata": {},
     "output_type": "execute_result"
    }
   ],
   "source": [
    "true_sample.get_field(\"Pressure\").mean(), pred_sample.get_field(\"Pressure\").mean()"
   ]
  },
  {
   "cell_type": "code",
   "execution_count": 19,
   "metadata": {},
   "outputs": [
    {
     "data": {
      "text/plain": [
       "tensor(4.8368)"
      ]
     },
     "execution_count": 19,
     "metadata": {},
     "output_type": "execute_result"
    }
   ],
   "source": [
    "pred_sample.data[\"Pressure\"].std()"
   ]
  },
  {
   "cell_type": "code",
   "execution_count": 20,
   "metadata": {},
   "outputs": [
    {
     "data": {
      "application/vnd.jupyter.widget-view+json": {
       "model_id": "72246a95c0ca4a2c97414932532501bf",
       "version_major": 2,
       "version_minor": 0
      },
      "text/plain": [
       "interactive(children=(IntSlider(value=8, description='slice_idx', max=15), Output()), _dom_classes=('widget-in…"
      ]
     },
     "metadata": {},
     "output_type": "display_data"
    }
   ],
   "source": [
    "pred_sample.plot_slice_interactively(\"Mask\",axis=\"z\")"
   ]
  },
  {
   "cell_type": "code",
   "execution_count": 22,
   "metadata": {},
   "outputs": [
    {
     "data": {
      "application/vnd.jupyter.widget-view+json": {
       "model_id": "9601e6e5564b419e8ce6a62143ad2d9e",
       "version_major": 2,
       "version_minor": 0
      },
      "text/plain": [
       "interactive(children=(IntSlider(value=8, description='slice_idx', max=15), Output()), _dom_classes=('widget-in…"
      ]
     },
     "metadata": {},
     "output_type": "display_data"
    }
   ],
   "source": [
    "true_sample.plot_slice_interactively(\"Mask\", axis=\"z\")"
   ]
  }
 ],
 "metadata": {
  "kernelspec": {
   "display_name": ".venv",
   "language": "python",
   "name": "python3"
  },
  "language_info": {
   "codemirror_mode": {
    "name": "ipython",
    "version": 3
   },
   "file_extension": ".py",
   "mimetype": "text/x-python",
   "name": "python",
   "nbconvert_exporter": "python",
   "pygments_lexer": "ipython3",
   "version": "3.11.11"
  }
 },
 "nbformat": 4,
 "nbformat_minor": 2
}
