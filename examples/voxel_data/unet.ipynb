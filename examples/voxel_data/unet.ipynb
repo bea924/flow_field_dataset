{
 "cells": [
  {
   "cell_type": "code",
   "execution_count": 1,
   "metadata": {},
   "outputs": [],
   "source": [
    "%load_ext autoreload\n",
    "%autoreload 2"
   ]
  },
  {
   "cell_type": "code",
   "execution_count": 2,
   "metadata": {},
   "outputs": [],
   "source": [
    "import sys\n",
    "base_path = '../../'\n",
    "sys.path.append(base_path)"
   ]
  },
  {
   "cell_type": "code",
   "execution_count": 3,
   "metadata": {},
   "outputs": [],
   "source": [
    "from torch import nn\n",
    "import torch\n",
    "from flow_field_model import create_flow_field_model\n",
    "\n",
    "\n",
    "model = create_flow_field_model(input_shape=(32, 16, 16), out_channels=5)\n"
   ]
  },
  {
   "cell_type": "code",
   "execution_count": 4,
   "metadata": {},
   "outputs": [
    {
     "name": "stdout",
     "output_type": "stream",
     "text": [
      "Loaded 10 samples from 'datasets/pyvista'.\n"
     ]
    },
    {
     "name": "stderr",
     "output_type": "stream",
     "text": [
      "\u001b[0m\u001b[33m2025-05-26 10:18:00.036 (   0.700s) [           49D90]      vtkCGNSReader.cxx:4268  WARN| vtkCGNSReader (0x11f7cdc80): Skipping BC_t node: BC_t type 'BCInflow' not supported yet.\u001b[0m\n",
      "\u001b[0m\u001b[33m2025-05-26 10:18:00.036 (   0.700s) [           49D90]      vtkCGNSReader.cxx:4268  WARN| vtkCGNSReader (0x11f7cdc80): Skipping BC_t node: BC_t type 'BCSymmetryPlane' not supported yet.\u001b[0m\n",
      "\u001b[0m\u001b[33m2025-05-26 10:18:00.036 (   0.701s) [           49D90]      vtkCGNSReader.cxx:4268  WARN| vtkCGNSReader (0x11f7cdc80): Skipping BC_t node: BC_t type 'BCTunnelOutflow' not supported yet.\u001b[0m\n"
     ]
    },
    {
     "data": {
      "application/vnd.jupyter.widget-view+json": {
       "model_id": "cc5f084f146a4574aadf318e4b694f47",
       "version_major": 2,
       "version_minor": 0
      },
      "text/plain": [
       "Widget(value='<iframe src=\"http://localhost:59126/index.html?ui=P_0x16c016890_0&reconnect=auto\" class=\"pyvista…"
      ]
     },
     "metadata": {},
     "output_type": "display_data"
    }
   ],
   "source": [
    "from src.pyvista_flow_field_dataset import PyvistaFlowFieldDataset\n",
    "ds_pv = PyvistaFlowFieldDataset.load_from_huggingface(num_samples=10, data_dir='datasets/pyvista')\n",
    "#ds_pv= PyvistnormalizationaFlowFieldDataset.try_from_directory(\"datasets/pyvista\",1000)\n",
    "ds_pv[8].plot_volume(\"Pressure\")"
   ]
  },
  {
   "cell_type": "code",
   "execution_count": 5,
   "metadata": {},
   "outputs": [
    {
     "name": "stderr",
     "output_type": "stream",
     "text": [
      "Voxelizing samples: 100%|██████████| 10/10 [00:06<00:00,  1.55it/s]\n"
     ]
    },
    {
     "data": {
      "text/plain": [
       "<src.voxel_flow_field_dataset.VoxelFlowFieldDataset at 0x30936a2d0>"
      ]
     },
     "execution_count": 5,
     "metadata": {},
     "output_type": "execute_result"
    }
   ],
   "source": [
    "from src.voxel_flow_field_dataset import VoxelFlowFieldDataset, VoxelFlowFieldDatasetConfig\n",
    "import torch.utils.data\n",
    "ds_voxel = VoxelFlowFieldDataset('datasets/voxels',VoxelFlowFieldDatasetConfig(ds_pv, resolution=(32,16,16)))\n",
    "#s_voxel = VoxelFlowFieldDataset('datasets/voxels')\n",
    "ds_voxel.normalize()"
   ]
  },
  {
   "cell_type": "code",
   "execution_count": 6,
   "metadata": {},
   "outputs": [],
   "source": [
    "num_train_samples = int(len(ds_voxel) * 0.8)\n",
    "num_val_samples = len(ds_voxel) - num_train_samples\n",
    "ds_voxel.shuffle()\n",
    "train_dataset = ds_voxel[:num_train_samples]\n",
    "val_dataset = ds_voxel[num_train_samples:]"
   ]
  },
  {
   "cell_type": "code",
   "execution_count": 7,
   "metadata": {},
   "outputs": [
    {
     "data": {
      "image/png": "[encoded data removed]",
      "text/plain": [
       "<Figure size 640x480 with 2 Axes>"
      ]
     },
     "metadata": {},
     "output_type": "display_data"
    }
   ],
   "source": [
    "val_dataset[0].plot_slice(\"Pressure\",slice_idx=3)"
   ]
  },
  {
   "cell_type": "code",
   "execution_count": 8,
   "metadata": {},
   "outputs": [
    {
     "data": {
      "text/plain": [
       "(8, 2)"
      ]
     },
     "execution_count": 8,
     "metadata": {},
     "output_type": "execute_result"
    }
   ],
   "source": [
    "\n",
    "import torch.utils.data as data\n",
    "train_dataloader = data.DataLoader(train_dataset.get_default_loadable_dataset(), batch_size=128, shuffle=True, num_workers=0, pin_memory=True)\n",
    "val_dataloader = data.DataLoader(val_dataset.get_default_loadable_dataset(), batch_size=128, shuffle=False, num_workers=0, pin_memory=True)\n",
    "device = torch.device(\"cuda\" if torch.cuda.is_available() else \"cpu\")\n",
    "len(train_dataset), len(val_dataset)"
   ]
  },
  {
   "cell_type": "code",
   "execution_count": 9,
   "metadata": {},
   "outputs": [
    {
     "data": {
      "text/plain": [
       "torch.Size([8, 32, 16, 16])"
      ]
     },
     "execution_count": 9,
     "metadata": {},
     "output_type": "execute_result"
    }
   ],
   "source": [
    "next(iter(train_dataloader))[0].shape"
   ]
  },
  {
   "cell_type": "code",
   "execution_count": null,
   "metadata": {},
   "outputs": [
    {
     "name": "stdout",
     "output_type": "stream",
     "text": [
      "Using device: cpu\n",
      "Epoch 0/200, Loss: 2.987614154815674, Val Loss: 2.159010410308838\n",
      "Epoch 0/200, Loss: 7.555058479309082\n",
      "Epoch 1/200, Loss: 5.576682090759277\n",
      "Epoch 2/200, Loss: 4.528840065002441\n",
      "Epoch 3/200, Loss: 3.936018466949463\n",
      "Epoch 4/200, Loss: 3.522618055343628\n",
      "Epoch 5/200, Loss: 3.209951877593994\n",
      "Epoch 6/200, Loss: 2.9597458839416504\n",
      "Epoch 7/200, Loss: 2.751896381378174\n",
      "Epoch 8/200, Loss: 2.569530725479126\n",
      "Epoch 9/200, Loss: 2.4031357765197754\n",
      "Epoch 10/200, Loss: 3.363981246948242, Val Loss: 3.062102794647217\n",
      "Epoch 10/200, Loss: 2.2518649101257324\n",
      "Epoch 11/200, Loss: 2.116842031478882\n",
      "Epoch 12/200, Loss: 1.9982036352157593\n",
      "Epoch 13/200, Loss: 1.8933769464492798\n",
      "Epoch 14/200, Loss: 1.7981799840927124\n",
      "Epoch 15/200, Loss: 1.7109549045562744\n",
      "Epoch 16/200, Loss: 1.633634328842163\n",
      "Epoch 17/200, Loss: 1.566684365272522\n",
      "Epoch 18/200, Loss: 1.5053608417510986\n",
      "Epoch 19/200, Loss: 1.446012258529663\n",
      "Epoch 20/200, Loss: 1.7464357614517212, Val Loss: 1.8580560684204102\n",
      "Epoch 20/200, Loss: 1.3898406028747559\n",
      "Epoch 21/200, Loss: 1.3395986557006836\n",
      "Epoch 22/200, Loss: 1.2947986125946045\n",
      "Epoch 23/200, Loss: 1.250887393951416\n",
      "Epoch 24/200, Loss: 1.2059624195098877\n",
      "Epoch 25/200, Loss: 1.1635245084762573\n",
      "Epoch 26/200, Loss: 1.1254327297210693\n",
      "Epoch 27/200, Loss: 1.0893834829330444\n",
      "Epoch 28/200, Loss: 1.0537325143814087\n",
      "Epoch 29/200, Loss: 1.0194035768508911\n",
      "Epoch 30/200, Loss: 1.4779646396636963, Val Loss: 1.794586181640625\n",
      "Epoch 30/200, Loss: 0.9862518310546875\n",
      "Epoch 31/200, Loss: 0.9542393684387207\n",
      "Epoch 32/200, Loss: 0.923568606376648\n",
      "Epoch 33/200, Loss: 0.8940016627311707\n",
      "Epoch 34/200, Loss: 0.8651571273803711\n",
      "Epoch 35/200, Loss: 0.8382962346076965\n",
      "Epoch 36/200, Loss: 0.8124655485153198\n",
      "Epoch 37/200, Loss: 0.7859833240509033\n",
      "Epoch 38/200, Loss: 0.7598263025283813\n",
      "Epoch 39/200, Loss: 0.734379768371582\n",
      "Epoch 40/200, Loss: 0.9303402900695801, Val Loss: 1.5382572412490845\n",
      "Epoch 40/200, Loss: 0.7094573974609375\n",
      "Epoch 41/200, Loss: 0.6856805682182312\n",
      "Epoch 42/200, Loss: 0.6626108884811401\n",
      "Epoch 43/200, Loss: 0.6401575803756714\n",
      "Epoch 44/200, Loss: 0.6184658408164978\n",
      "Epoch 45/200, Loss: 0.5977137088775635\n",
      "Epoch 46/200, Loss: 0.5779979825019836\n",
      "Epoch 47/200, Loss: 0.5592087507247925\n",
      "Epoch 48/200, Loss: 0.5418456792831421\n",
      "Epoch 49/200, Loss: 0.525374174118042\n",
      "Epoch 50/200, Loss: 0.6454121470451355, Val Loss: 1.5003222227096558\n",
      "Epoch 50/200, Loss: 0.5097982287406921\n",
      "Epoch 51/200, Loss: 0.49441710114479065\n",
      "Epoch 52/200, Loss: 0.47947368025779724\n",
      "Epoch 53/200, Loss: 0.465369313955307\n",
      "Epoch 54/200, Loss: 0.45162320137023926\n",
      "Epoch 55/200, Loss: 0.43832626938819885\n",
      "Epoch 56/200, Loss: 0.425563246011734\n",
      "Epoch 57/200, Loss: 0.413160502910614\n",
      "Epoch 58/200, Loss: 0.40139180421829224\n",
      "Epoch 59/200, Loss: 0.38994669914245605\n",
      "Epoch 60/200, Loss: 0.5054214596748352, Val Loss: 1.4470453262329102\n",
      "Epoch 60/200, Loss: 0.37886637449264526\n",
      "Epoch 61/200, Loss: 0.36834079027175903\n",
      "Epoch 62/200, Loss: 0.3583381175994873\n",
      "Epoch 63/200, Loss: 0.34914064407348633\n",
      "Epoch 64/200, Loss: 0.34220805764198303\n",
      "Epoch 65/200, Loss: 0.34533753991127014\n",
      "Epoch 66/200, Loss: 0.3625618815422058\n",
      "Epoch 67/200, Loss: 0.33409395813941956\n",
      "Epoch 68/200, Loss: 0.31738489866256714\n",
      "Epoch 69/200, Loss: 0.315717875957489\n",
      "Epoch 70/200, Loss: 0.4009321331977844, Val Loss: 1.433853268623352\n",
      "Epoch 70/200, Loss: 0.3054024577140808\n",
      "Epoch 71/200, Loss: 0.2953059673309326\n",
      "Epoch 72/200, Loss: 0.2915368974208832\n",
      "Epoch 73/200, Loss: 0.2807578444480896\n",
      "Epoch 74/200, Loss: 0.2786750793457031\n"
     ]
    }
   ],
   "source": [
    "import torch.optim as optim\n",
    "import torch.optim.lr_scheduler as lr_scheduler\n",
    "from tqdm import tqdm\n",
    "import numpy as np\n",
    "import matplotlib.pyplot as plt\n",
    "print(f\"Using device: {device}\")\n",
    "model.to(device)\n",
    "criterion = nn.MSELoss()\n",
    "lr=1e-3\n",
    "epochs=200\n",
    "optimizer = optim.Adam(model.parameters(), lr=lr)\n",
    "scheduler = lr_scheduler.ExponentialLR(optimizer, gamma=0.999)\n",
    "\n",
    "training_losses = []\n",
    "validation_losses = []\n",
    "\n",
    "    \n",
    "for epoch in range(epochs):\n",
    "    if (epoch) % 10 == 0:\n",
    "        val_loss = 0\n",
    "        train_loss_in_eval = 0\n",
    "        model.eval()\n",
    "        with torch.no_grad():\n",
    "            for x, y in val_dataloader:\n",
    "                x, y = x.to(device), y.to(device)\n",
    "                x = x.float().unsqueeze(-1)\n",
    "                x = x.permute(0, 4, 1, 2, 3)\n",
    "                y = y.permute(0, 4, 1, 2, 3)\n",
    "                outputs = model(x)\n",
    "                loss = criterion(outputs, y)\n",
    "                val_loss += loss.item()\n",
    "            for x, y in train_dataloader:\n",
    "                x, y = x.to(device), y.to(device)\n",
    "                x = x.float().unsqueeze(-1)\n",
    "                x = x.permute(0, 4, 1, 2, 3)\n",
    "                y = y.permute(0, 4, 1, 2, 3)\n",
    "                outputs = model(x)\n",
    "                loss = criterion(outputs, y)\n",
    "                train_loss_in_eval += loss.item()\n",
    "\n",
    "\n",
    "        print(f\"Epoch {epoch}/{epochs}, Loss: {train_loss_in_eval / len(train_dataloader)}, Val Loss: {val_loss / len(val_dataloader)}\")\n",
    "        training_losses.append(train_loss_in_eval / len(train_dataloader))\n",
    "        validation_losses.append(val_loss / len(val_dataloader))\n",
    "    model.train()\n",
    "    epoch_loss = 0\n",
    "    for x,y in train_dataloader:\n",
    "        x, y = x.to(device), y.to(device)\n",
    "        x=x.float().unsqueeze(-1)\n",
    "        x = x.permute(0, 4, 1, 2, 3)  # (N, D, H, W, C) → (N, C, D, H, W)\n",
    "        y = y.permute(0, 4, 1, 2, 3)\n",
    "        optimizer.zero_grad()\n",
    "        outputs = model(x)\n",
    "        loss = criterion(outputs, y)\n",
    "        loss.backward()\n",
    "        optimizer.step()\n",
    "\n",
    "        epoch_loss += loss.item()\n",
    "    scheduler.step()\n",
    "    print(f\"Epoch {epoch}/{epochs}, Loss: {epoch_loss / len(train_dataloader)}\")\n",
    "plt.plot(training_losses, label='Training Loss')\n",
    "plt.plot(validation_losses, label='Validation Loss')\n",
    "plt.legend()\n",
    "plt.xlabel('Epoch')\n",
    "plt.ylabel('Loss')\n",
    "plt.yscale('log')\n",
    "plt.show()\n",
    "# Save the model\n",
    "torch.save(model.state_dict(), 'unet3d.pth')"
   ]
  },
  {
   "cell_type": "code",
   "execution_count": 13,
   "metadata": {},
   "outputs": [
    {
     "data": {
      "text/plain": [
       "UNet3D(\n",
       "  (analysis_blocks): ModuleList(\n",
       "    (0): Conv3DBlock(\n",
       "      (conv1): Conv3d(1, 8, kernel_size=(3, 3, 3), stride=(1, 1, 1), padding=(1, 1, 1))\n",
       "      (bn1): BatchNorm3d(8, eps=1e-05, momentum=0.1, affine=True, track_running_stats=True)\n",
       "      (conv2): Conv3d(8, 16, kernel_size=(3, 3, 3), stride=(1, 1, 1), padding=(1, 1, 1))\n",
       "      (bn2): BatchNorm3d(16, eps=1e-05, momentum=0.1, affine=True, track_running_stats=True)\n",
       "      (relu): ReLU()\n",
       "      (pooling): MaxPool3d(kernel_size=(2, 2, 2), stride=2, padding=0, dilation=1, ceil_mode=False)\n",
       "    )\n",
       "    (1): Conv3DBlock(\n",
       "      (conv1): Conv3d(16, 16, kernel_size=(3, 3, 3), stride=(1, 1, 1), padding=(1, 1, 1))\n",
       "      (bn1): BatchNorm3d(16, eps=1e-05, momentum=0.1, affine=True, track_running_stats=True)\n",
       "      (conv2): Conv3d(16, 32, kernel_size=(3, 3, 3), stride=(1, 1, 1), padding=(1, 1, 1))\n",
       "      (bn2): BatchNorm3d(32, eps=1e-05, momentum=0.1, affine=True, track_running_stats=True)\n",
       "      (relu): ReLU()\n",
       "      (pooling): MaxPool3d(kernel_size=(2, 2, 2), stride=2, padding=0, dilation=1, ceil_mode=False)\n",
       "    )\n",
       "    (2): Conv3DBlock(\n",
       "      (conv1): Conv3d(32, 32, kernel_size=(3, 3, 3), stride=(1, 1, 1), padding=(1, 1, 1))\n",
       "      (bn1): BatchNorm3d(32, eps=1e-05, momentum=0.1, affine=True, track_running_stats=True)\n",
       "      (conv2): Conv3d(32, 64, kernel_size=(3, 3, 3), stride=(1, 1, 1), padding=(1, 1, 1))\n",
       "      (bn2): BatchNorm3d(64, eps=1e-05, momentum=0.1, affine=True, track_running_stats=True)\n",
       "      (relu): ReLU()\n",
       "      (pooling): MaxPool3d(kernel_size=(2, 2, 2), stride=2, padding=0, dilation=1, ceil_mode=False)\n",
       "    )\n",
       "  )\n",
       "  (bottleNeck): Conv3DBlock(\n",
       "    (conv1): Conv3d(64, 64, kernel_size=(3, 3, 3), stride=(1, 1, 1), padding=(1, 1, 1))\n",
       "    (bn1): BatchNorm3d(64, eps=1e-05, momentum=0.1, affine=True, track_running_stats=True)\n",
       "    (conv2): Conv3d(64, 128, kernel_size=(3, 3, 3), stride=(1, 1, 1), padding=(1, 1, 1))\n",
       "    (bn2): BatchNorm3d(128, eps=1e-05, momentum=0.1, affine=True, track_running_stats=True)\n",
       "    (relu): ReLU()\n",
       "  )\n",
       "  (synthesis_blocks): ModuleList(\n",
       "    (0): UpConv3DBlock(\n",
       "      (upconv1): ConvTranspose3d(128, 128, kernel_size=(2, 2, 2), stride=(2, 2, 2))\n",
       "      (relu): ReLU()\n",
       "      (bn): BatchNorm3d(64, eps=1e-05, momentum=0.1, affine=True, track_running_stats=True)\n",
       "      (conv1): Conv3d(192, 64, kernel_size=(3, 3, 3), stride=(1, 1, 1), padding=(1, 1, 1))\n",
       "      (conv2): Conv3d(64, 64, kernel_size=(3, 3, 3), stride=(1, 1, 1), padding=(1, 1, 1))\n",
       "    )\n",
       "    (1): UpConv3DBlock(\n",
       "      (upconv1): ConvTranspose3d(64, 64, kernel_size=(2, 2, 2), stride=(2, 2, 2))\n",
       "      (relu): ReLU()\n",
       "      (bn): BatchNorm3d(32, eps=1e-05, momentum=0.1, affine=True, track_running_stats=True)\n",
       "      (conv1): Conv3d(96, 32, kernel_size=(3, 3, 3), stride=(1, 1, 1), padding=(1, 1, 1))\n",
       "      (conv2): Conv3d(32, 32, kernel_size=(3, 3, 3), stride=(1, 1, 1), padding=(1, 1, 1))\n",
       "    )\n",
       "    (2): UpConv3DBlock(\n",
       "      (upconv1): ConvTranspose3d(32, 32, kernel_size=(2, 2, 2), stride=(2, 2, 2))\n",
       "      (relu): ReLU()\n",
       "      (bn): BatchNorm3d(16, eps=1e-05, momentum=0.1, affine=True, track_running_stats=True)\n",
       "      (conv1): Conv3d(48, 16, kernel_size=(3, 3, 3), stride=(1, 1, 1), padding=(1, 1, 1))\n",
       "      (conv2): Conv3d(16, 16, kernel_size=(3, 3, 3), stride=(1, 1, 1), padding=(1, 1, 1))\n",
       "      (conv3): Conv3d(16, 5, kernel_size=(1, 1, 1), stride=(1, 1, 1))\n",
       "    )\n",
       "  )\n",
       ")"
      ]
     },
     "execution_count": 13,
     "metadata": {},
     "output_type": "execute_result"
    }
   ],
   "source": [
    "model.load_state_dict(torch.load('unet3d.pth', map_location=device))\n",
    "model.to(device)\n",
    "model.eval()"
   ]
  },
  {
   "cell_type": "code",
   "execution_count": 242,
   "metadata": {},
   "outputs": [],
   "source": [
    "mask,y = next(iter(train_dataloader))\n",
    "mask = mask.to(device)\n",
    "y = y.to(device)"
   ]
  },
  {
   "cell_type": "code",
   "execution_count": 243,
   "metadata": {},
   "outputs": [],
   "source": [
    "x=mask.float().unsqueeze(-1)\n",
    "x = x.permute(0, 4, 1, 2, 3)  # (N, D, H, W, C) → (N, C, D, H, W)\n",
    "#y = y.permute(0, 4, 1, 2, 3)\n",
    "y_pred = model(x)\n",
    "y_pred = y_pred.permute(0, 2, 3, 4, 1)  # (N, C, D, H, W) → (N, D, H, W, C)\n"
   ]
  },
  {
   "cell_type": "code",
   "execution_count": 244,
   "metadata": {},
   "outputs": [
    {
     "data": {
      "text/plain": [
       "tensor(0.0104, device='cuda:0')"
      ]
     },
     "execution_count": 244,
     "metadata": {},
     "output_type": "execute_result"
    }
   ],
   "source": [
    "y.mean()"
   ]
  },
  {
   "cell_type": "code",
   "execution_count": 245,
   "metadata": {},
   "outputs": [
    {
     "data": {
      "text/plain": [
       "tensor(-0.0105, device='cuda:0', grad_fn=<MeanBackward0>)"
      ]
     },
     "execution_count": 245,
     "metadata": {},
     "output_type": "execute_result"
    }
   ],
   "source": [
    "y_pred.mean()"
   ]
  },
  {
   "cell_type": "code",
   "execution_count": 246,
   "metadata": {},
   "outputs": [],
   "source": [
    "pred_sample = ds_voxel.prediction_to_sample(mask[0], y_pred[0])"
   ]
  },
  {
   "cell_type": "code",
   "execution_count": 247,
   "metadata": {},
   "outputs": [
    {
     "data": {
      "text/plain": [
       "tensor(-0.0820)"
      ]
     },
     "execution_count": 247,
     "metadata": {},
     "output_type": "execute_result"
    }
   ],
   "source": [
    "pred_sample.get_field(\"Pressure\").mean()"
   ]
  },
  {
   "cell_type": "code",
   "execution_count": 248,
   "metadata": {},
   "outputs": [
    {
     "data": {
      "application/vnd.jupyter.widget-view+json": {
       "model_id": "210c96b47d494d8db99cc935bb3bc794",
       "version_major": 2,
       "version_minor": 0
      },
      "text/plain": [
       "Widget(value='<iframe src=\"http://localhost:32959/index.html?ui=P_0x7de79c29af10_39&reconnect=auto\" class=\"pyv…"
      ]
     },
     "metadata": {},
     "output_type": "display_data"
    }
   ],
   "source": [
    "pred_sample.plot(\"Pressure\")"
   ]
  },
  {
   "cell_type": "code",
   "execution_count": 249,
   "metadata": {},
   "outputs": [
    {
     "data": {
      "application/vnd.jupyter.widget-view+json": {
       "model_id": "fbeeec444dbd48b581234772bc9c8c73",
       "version_major": 2,
       "version_minor": 0
      },
      "text/plain": [
       "Widget(value='<iframe src=\"http://localhost:32959/index.html?ui=P_0x7de5846ae710_40&reconnect=auto\" class=\"pyv…"
      ]
     },
     "metadata": {},
     "output_type": "display_data"
    }
   ],
   "source": [
    "true_sample = ds_voxel.prediction_to_sample(mask[0], y[0])\n",
    "true_sample.plot(\"Pressure\")"
   ]
  },
  {
   "cell_type": "code",
   "execution_count": 250,
   "metadata": {},
   "outputs": [
    {
     "data": {
      "text/plain": [
       "(tensor(0.0993), tensor(-0.0820))"
      ]
     },
     "execution_count": 250,
     "metadata": {},
     "output_type": "execute_result"
    }
   ],
   "source": [
    "true_sample.get_field(\"Pressure\").mean(), pred_sample.get_field(\"Pressure\").mean()"
   ]
  },
  {
   "cell_type": "code",
   "execution_count": 251,
   "metadata": {},
   "outputs": [
    {
     "data": {
      "text/plain": [
       "tensor(17.8941)"
      ]
     },
     "execution_count": 251,
     "metadata": {},
     "output_type": "execute_result"
    }
   ],
   "source": [
    "pred_sample.data[\"Pressure\"].std()"
   ]
  },
  {
   "cell_type": "code",
   "execution_count": 252,
   "metadata": {},
   "outputs": [
    {
     "data": {
      "application/vnd.jupyter.widget-view+json": {
       "model_id": "72f5883be39745b6a4ffc1264330ab2e",
       "version_major": 2,
       "version_minor": 0
      },
      "text/plain": [
       "interactive(children=(IntSlider(value=8, description='slice_idx', max=15), Output()), _dom_classes=('widget-in…"
      ]
     },
     "metadata": {},
     "output_type": "display_data"
    }
   ],
   "source": [
    "pred_sample.plot_slice_interactively(\"Pressure\",axis=\"z\")"
   ]
  },
  {
   "cell_type": "code",
   "execution_count": 253,
   "metadata": {},
   "outputs": [
    {
     "data": {
      "text/plain": [
       "tensor(-59.0414)"
      ]
     },
     "execution_count": 253,
     "metadata": {},
     "output_type": "execute_result"
    }
   ],
   "source": [
    "true_sample.data[\"Pressure\"].min()"
   ]
  },
  {
   "cell_type": "code",
   "execution_count": 254,
   "metadata": {},
   "outputs": [
    {
     "data": {
      "application/vnd.jupyter.widget-view+json": {
       "model_id": "36977040f7bd4fdcb2a05dd36ca026a4",
       "version_major": 2,
       "version_minor": 0
      },
      "text/plain": [
       "interactive(children=(IntSlider(value=8, description='slice_idx', max=15), Output()), _dom_classes=('widget-in…"
      ]
     },
     "metadata": {},
     "output_type": "display_data"
    }
   ],
   "source": [
    "true_sample.plot_slice_interactively(\"Pressure\", axis=\"z\")"
   ]
  }
 ],
 "metadata": {
  "kernelspec": {
   "display_name": ".venv",
   "language": "python",
   "name": "python3"
  },
  "language_info": {
   "codemirror_mode": {
    "name": "ipython",
    "version": 3
   },
   "file_extension": ".py",
   "mimetype": "text/x-python",
   "name": "python",
   "nbconvert_exporter": "python",
   "pygments_lexer": "ipython3",
   "version": "3.11.11"
  }
 },
 "nbformat": 4,
 "nbformat_minor": 2
}
