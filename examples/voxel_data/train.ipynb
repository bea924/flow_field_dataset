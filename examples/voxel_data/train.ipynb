{
 "cells": [
  {
   "cell_type": "code",
   "execution_count": 13,
   "id": "45841a9a",
   "metadata": {},
   "outputs": [
    {
     "name": "stdout",
     "output_type": "stream",
     "text": [
      "The autoreload extension is already loaded. To reload it, use:\n",
      "  %reload_ext autoreload\n"
     ]
    }
   ],
   "source": [
    "%load_ext autoreload\n",
    "%autoreload 2"
   ]
  },
  {
   "cell_type": "code",
   "execution_count": 14,
   "id": "37eb975a",
   "metadata": {},
   "outputs": [],
   "source": [
    "import sys\n",
    "base_path = '../../'\n",
    "sys.path.append(base_path)"
   ]
  },
  {
   "cell_type": "code",
   "execution_count": 15,
   "id": "abab4c6a",
   "metadata": {},
   "outputs": [],
   "source": [
    "from datamodule import VoxelDataModule\n",
    "dm = VoxelDataModule(\n",
    "    save_dir='datasets',\n",
    "    batch_size=128,\n",
    "    num_samples=100,\n",
    ")"
   ]
  },
  {
   "cell_type": "code",
   "execution_count": 16,
   "id": "52fce5a0",
   "metadata": {},
   "outputs": [],
   "source": [
    "from flow_field_model import create_flow_field_model\n",
    "\n",
    "model = create_flow_field_model(input_shape=(32, 16, 16), out_channels=5, features=[64,128,256])"
   ]
  },
  {
   "cell_type": "code",
   "execution_count": 17,
   "id": "978e4a8b",
   "metadata": {},
   "outputs": [],
   "source": [
    "from task import VoxelizedFlowFieldPredictionTask\n",
    "\n",
    "task = VoxelizedFlowFieldPredictionTask(\n",
    "    model=model,\n",
    "    learning_rate=1e-3,\n",
    ")"
   ]
  },
  {
   "cell_type": "code",
   "execution_count": 18,
   "id": "9a0b8f95",
   "metadata": {},
   "outputs": [
    {
     "name": "stderr",
     "output_type": "stream",
     "text": [
      "/nfs/homedirs/peo/flow_field_dataset/.venv/lib/python3.11/site-packages/lightning/fabric/plugins/environments/slurm.py:204: The `srun` command is available on your system but is not used. HINT: If your intention is to run Lightning on SLURM, prepend your python command with `srun` like so: srun python /nfs/homedirs/peo/flow_field_dataset/.venv/lib/pytho ...\n",
      "Using default `ModelCheckpoint`. Consider installing `litmodels` package to enable `LitModelCheckpoint` for automatic upload to the Lightning model registry.\n",
      "GPU available: True (cuda), used: True\n",
      "TPU available: False, using: 0 TPU cores\n",
      "HPU available: False, using: 0 HPUs\n"
     ]
    },
    {
     "name": "stdout",
     "output_type": "stream",
     "text": [
      "Loaded 100 samples from '/nfs/homedirs/peo/flow_field_dataset/examples/voxel_data/datasets/pyvista-100'.\n",
      "Loaded 100 samples from 'datasets/pyvista-100'.\n"
     ]
    },
    {
     "name": "stderr",
     "output_type": "stream",
     "text": [
      "Computing bounds:   0%|          | 0/100 [00:00<?, ?it/s]\u001b[0m\u001b[33m2025-06-07 19:43:24.649 ( 124.592s) [    7B5A53DD2740]      vtkCGNSReader.cxx:4267  WARN| vtkCGNSReader (0x556ddfe35b50): Skipping BC_t node: BC_t type 'BCInflow' not supported yet.\u001b[0m\n",
      "\u001b[0m\u001b[33m2025-06-07 19:43:24.651 ( 124.594s) [    7B5A53DD2740]      vtkCGNSReader.cxx:4267  WARN| vtkCGNSReader (0x556ddfe35b50): Skipping BC_t node: BC_t type 'BCSymmetryPlane' not supported yet.\u001b[0m\n",
      "\u001b[0m\u001b[33m2025-06-07 19:43:24.651 ( 124.595s) [    7B5A53DD2740]      vtkCGNSReader.cxx:4267  WARN| vtkCGNSReader (0x556ddfe35b50): Skipping BC_t node: BC_t type 'BCTunnelOutflow' not supported yet.\u001b[0m\n",
      "\u001b[0m\u001b[33m2025-06-07 19:43:25.788 ( 125.731s) [    7B5A53DD2740]      vtkCGNSReader.cxx:4267  WARN| vtkCGNSReader (0x556ddfe35b50): Skipping BC_t node: BC_t type 'BCInflow' not supported yet.\u001b[0m\n",
      "\u001b[0m\u001b[33m2025-06-07 19:43:25.788 ( 125.731s) [    7B5A53DD2740]      vtkCGNSReader.cxx:4267  WARN| vtkCGNSReader (0x556ddfe35b50): Skipping BC_t node: BC_t type 'BCSymmetryPlane' not supported yet.\u001b[0m\n",
      "\u001b[0m\u001b[33m2025-06-07 19:43:25.788 ( 125.731s) [    7B5A53DD2740]      vtkCGNSReader.cxx:4267  WARN| vtkCGNSReader (0x556ddfe35b50): Skipping BC_t node: BC_t type 'BCTunnelOutflow' not supported yet.\u001b[0m\n",
      "\u001b[0m\u001b[33m2025-06-07 19:43:25.795 ( 125.738s) [    7B5A53DD2740]      vtkCGNSReader.cxx:4267  WARN| vtkCGNSReader (0x556ddfe35b50): Skipping BC_t node: BC_t type 'BCInflow' not supported yet.\u001b[0m\n",
      "\u001b[0m\u001b[33m2025-06-07 19:43:25.795 ( 125.738s) [    7B5A53DD2740]      vtkCGNSReader.cxx:4267  WARN| vtkCGNSReader (0x556ddfe35b50): Skipping BC_t node: BC_t type 'BCSymmetryPlane' not supported yet.\u001b[0m\n",
      "\u001b[0m\u001b[33m2025-06-07 19:43:25.795 ( 125.739s) [    7B5A53DD2740]      vtkCGNSReader.cxx:4267  WARN| vtkCGNSReader (0x556ddfe35b50): Skipping BC_t node: BC_t type 'BCTunnelOutflow' not supported yet.\u001b[0m\n",
      "\u001b[0m\u001b[33m2025-06-07 19:43:25.980 ( 125.923s) [    7B5A53DD2740]      vtkCGNSReader.cxx:4267  WARN| vtkCGNSReader (0x556ddfe35b50): Skipping BC_t node: BC_t type 'BCInflow' not supported yet.\u001b[0m\n",
      "\u001b[0m\u001b[33m2025-06-07 19:43:25.984 ( 125.927s) [    7B5A53DD2740]      vtkCGNSReader.cxx:4267  WARN| vtkCGNSReader (0x556ddfe35b50): Skipping BC_t node: BC_t type 'BCSymmetryPlane' not supported yet.\u001b[0m\n",
      "\u001b[0m\u001b[33m2025-06-07 19:43:25.985 ( 125.928s) [    7B5A53DD2740]      vtkCGNSReader.cxx:4267  WARN| vtkCGNSReader (0x556ddfe35b50): Skipping BC_t node: BC_t type 'BCTunnelOutflow' not supported yet.\u001b[0m\n",
      "\u001b[0m\u001b[33m2025-06-07 19:43:26.052 ( 125.995s) [    7B5A53DD2740]      vtkCGNSReader.cxx:4267  WARN| vtkCGNSReader (0x556ddfe35b50): Skipping BC_t node: BC_t type 'BCInflow' not supported yet.\u001b[0m\n",
      "\u001b[0m\u001b[33m2025-06-07 19:43:26.054 ( 125.997s) [    7B5A53DD2740]      vtkCGNSReader.cxx:4267  WARN| vtkCGNSReader (0x556ddfe35b50): Skipping BC_t node: BC_t type 'BCSymmetryPlane' not supported yet.\u001b[0m\n",
      "\u001b[0m\u001b[33m2025-06-07 19:43:26.059 ( 126.002s) [    7B5A53DD2740]      vtkCGNSReader.cxx:4267  WARN| vtkCGNSReader (0x556ddfe35b50): Skipping BC_t node: BC_t type 'BCTunnelOutflow' not supported yet.\u001b[0m\n",
      "\u001b[0m\u001b[33m2025-06-07 19:43:26.126 ( 126.069s) [    7B5A53DD2740]      vtkCGNSReader.cxx:4267  WARN| vtkCGNSReader (0x556ddfe35b50): Skipping BC_t node: BC_t type 'BCInflow' not supported yet.\u001b[0m\n",
      "\u001b[0m\u001b[33m2025-06-07 19:43:26.126 ( 126.069s) [    7B5A53DD2740]      vtkCGNSReader.cxx:4267  WARN| vtkCGNSReader (0x556ddfe35b50): Skipping BC_t node: BC_t type 'BCSymmetryPlane' not supported yet.\u001b[0m\n",
      "\u001b[0m\u001b[33m2025-06-07 19:43:26.126 ( 126.069s) [    7B5A53DD2740]      vtkCGNSReader.cxx:4267  WARN| vtkCGNSReader (0x556ddfe35b50): Skipping BC_t node: BC_t type 'BCTunnelOutflow' not supported yet.\u001b[0m\n",
      "\u001b[0m\u001b[33m2025-06-07 19:43:26.288 ( 126.231s) [    7B5A53DD2740]      vtkCGNSReader.cxx:4267  WARN| vtkCGNSReader (0x556ddfe35b50): Skipping BC_t node: BC_t type 'BCInflow' not supported yet.\u001b[0m\n",
      "\u001b[0m\u001b[33m2025-06-07 19:43:26.291 ( 126.235s) [    7B5A53DD2740]      vtkCGNSReader.cxx:4267  WARN| vtkCGNSReader (0x556ddfe35b50): Skipping BC_t node: BC_t type 'BCSymmetryPlane' not supported yet.\u001b[0m\n",
      "\u001b[0m\u001b[33m2025-06-07 19:43:26.294 ( 126.237s) [    7B5A53DD2740]      vtkCGNSReader.cxx:4267  WARN| vtkCGNSReader (0x556ddfe35b50): Skipping BC_t node: BC_t type 'BCTunnelOutflow' not supported yet.\u001b[0m\n",
      "\u001b[0m\u001b[33m2025-06-07 19:43:26.303 ( 126.246s) [    7B5A53DD2740]      vtkCGNSReader.cxx:4267  WARN| vtkCGNSReader (0x556ddfe35b50): Skipping BC_t node: BC_t type 'BCInflow' not supported yet.\u001b[0m\n",
      "\u001b[0m\u001b[33m2025-06-07 19:43:26.303 ( 126.246s) [    7B5A53DD2740]      vtkCGNSReader.cxx:4267  WARN| vtkCGNSReader (0x556ddfe35b50): Skipping BC_t node: BC_t type 'BCSymmetryPlane' not supported yet.\u001b[0m\n",
      "\u001b[0m\u001b[33m2025-06-07 19:43:26.303 ( 126.246s) [    7B5A53DD2740]      vtkCGNSReader.cxx:4267  WARN| vtkCGNSReader (0x556ddfe35b50): Skipping BC_t node: BC_t type 'BCTunnelOutflow' not supported yet.\u001b[0m\n",
      "\u001b[0m\u001b[33m2025-06-07 19:43:26.777 ( 126.721s) [    7B5A53DD2740]      vtkCGNSReader.cxx:4267  WARN| vtkCGNSReader (0x556ddfe35b50): Skipping BC_t node: BC_t type 'BCInflow' not supported yet.\u001b[0m\n",
      "\u001b[0m\u001b[33m2025-06-07 19:43:26.778 ( 126.721s) [    7B5A53DD2740]      vtkCGNSReader.cxx:4267  WARN| vtkCGNSReader (0x556ddfe35b50): Skipping BC_t node: BC_t type 'BCSymmetryPlane' not supported yet.\u001b[0m\n",
      "\u001b[0m\u001b[33m2025-06-07 19:43:26.778 ( 126.721s) [    7B5A53DD2740]      vtkCGNSReader.cxx:4267  WARN| vtkCGNSReader (0x556ddfe35b50): Skipping BC_t node: BC_t type 'BCTunnelOutflow' not supported yet.\u001b[0m\n",
      "\u001b[0m\u001b[33m2025-06-07 19:43:26.848 ( 126.791s) [    7B5A53DD2740]      vtkCGNSReader.cxx:4267  WARN| vtkCGNSReader (0x556ddfe35b50): Skipping BC_t node: BC_t type 'BCInflow' not supported yet.\u001b[0m\n",
      "\u001b[0m\u001b[33m2025-06-07 19:43:26.848 ( 126.791s) [    7B5A53DD2740]      vtkCGNSReader.cxx:4267  WARN| vtkCGNSReader (0x556ddfe35b50): Skipping BC_t node: BC_t type 'BCSymmetryPlane' not supported yet.\u001b[0m\n",
      "\u001b[0m\u001b[33m2025-06-07 19:43:26.848 ( 126.791s) [    7B5A53DD2740]      vtkCGNSReader.cxx:4267  WARN| vtkCGNSReader (0x556ddfe35b50): Skipping BC_t node: BC_t type 'BCTunnelOutflow' not supported yet.\u001b[0m\n",
      "\u001b[0m\u001b[33m2025-06-07 19:43:26.984 ( 126.927s) [    7B5A53DD2740]      vtkCGNSReader.cxx:4267  WARN| vtkCGNSReader (0x556ddfe35b50): Skipping BC_t node: BC_t type 'BCInflow' not supported yet.\u001b[0m\n",
      "\u001b[0m\u001b[33m2025-06-07 19:43:26.984 ( 126.927s) [    7B5A53DD2740]      vtkCGNSReader.cxx:4267  WARN| vtkCGNSReader (0x556ddfe35b50): Skipping BC_t node: BC_t type 'BCSymmetryPlane' not supported yet.\u001b[0m\n",
      "\u001b[0m\u001b[33m2025-06-07 19:43:26.985 ( 126.928s) [    7B5A53DD2740]      vtkCGNSReader.cxx:4267  WARN| vtkCGNSReader (0x556ddfe35b50): Skipping BC_t node: BC_t type 'BCTunnelOutflow' not supported yet.\u001b[0m\n",
      "\u001b[0m\u001b[33m2025-06-07 19:43:27.033 ( 126.976s) [    7B5A53DD2740]      vtkCGNSReader.cxx:4267  WARN| vtkCGNSReader (0x556ddfe35b50): Skipping BC_t node: BC_t type 'BCInflow' not supported yet.\u001b[0m\n",
      "\u001b[0m\u001b[33m2025-06-07 19:43:27.033 ( 126.976s) [    7B5A53DD2740]      vtkCGNSReader.cxx:4267  WARN| vtkCGNSReader (0x556ddfe35b50): Skipping BC_t node: BC_t type 'BCSymmetryPlane' not supported yet.\u001b[0m\n",
      "\u001b[0m\u001b[33m2025-06-07 19:43:27.033 ( 126.976s) [    7B5A53DD2740]      vtkCGNSReader.cxx:4267  WARN| vtkCGNSReader (0x556ddfe35b50): Skipping BC_t node: BC_t type 'BCTunnelOutflow' not supported yet.\u001b[0m\n",
      "\u001b[0m\u001b[33m2025-06-07 19:43:27.121 ( 127.064s) [    7B5A53DD2740]      vtkCGNSReader.cxx:4267  WARN| vtkCGNSReader (0x556ddfe35b50): Skipping BC_t node: BC_t type 'BCInflow' not supported yet.\u001b[0m\n",
      "\u001b[0m\u001b[33m2025-06-07 19:43:27.121 ( 127.064s) [    7B5A53DD2740]      vtkCGNSReader.cxx:4267  WARN| vtkCGNSReader (0x556ddfe35b50): Skipping BC_t node: BC_t type 'BCSymmetryPlane' not supported yet.\u001b[0m\n",
      "\u001b[0m\u001b[33m2025-06-07 19:43:27.121 ( 127.064s) [    7B5A53DD2740]      vtkCGNSReader.cxx:4267  WARN| vtkCGNSReader (0x556ddfe35b50): Skipping BC_t node: BC_t type 'BCTunnelOutflow' not supported yet.\u001b[0m\n",
      "\u001b[0m\u001b[33m2025-06-07 19:43:27.175 ( 127.118s) [    7B5A53DD2740]      vtkCGNSReader.cxx:4267  WARN| vtkCGNSReader (0x556ddfe35b50): Skipping BC_t node: BC_t type 'BCInflow' not supported yet.\u001b[0m\n",
      "\u001b[0m\u001b[33m2025-06-07 19:43:27.175 ( 127.118s) [    7B5A53DD2740]      vtkCGNSReader.cxx:4267  WARN| vtkCGNSReader (0x556ddfe35b50): Skipping BC_t node: BC_t type 'BCSymmetryPlane' not supported yet.\u001b[0m\n",
      "\u001b[0m\u001b[33m2025-06-07 19:43:27.176 ( 127.119s) [    7B5A53DD2740]      vtkCGNSReader.cxx:4267  WARN| vtkCGNSReader (0x556ddfe35b50): Skipping BC_t node: BC_t type 'BCInflow' not supported yet.\u001b[0m\n",
      "\u001b[0m\u001b[33m2025-06-07 19:43:27.176 ( 127.119s) [    7B5A53DD2740]      vtkCGNSReader.cxx:4267  WARN| vtkCGNSReader (0x556ddfe35b50): Skipping BC_t node: BC_t type 'BCSymmetryPlane' not supported yet.\u001b[0m\n",
      "\u001b[0m\u001b[33m2025-06-07 19:43:27.176 ( 127.119s) [    7B5A53DD2740]      vtkCGNSReader.cxx:4267  WARN| vtkCGNSReader (0x556ddfe35b50): Skipping BC_t node: BC_t type 'BCTunnelOutflow' not supported yet.\u001b[0m\n",
      "\u001b[0m\u001b[33m2025-06-07 19:43:27.184 ( 127.127s) [    7B5A53DD2740]      vtkCGNSReader.cxx:4267  WARN| vtkCGNSReader (0x556ddfe35b50): Skipping BC_t node: BC_t type 'BCTunnelOutflow' not supported yet.\u001b[0m\n",
      "\u001b[0m\u001b[33m2025-06-07 19:43:27.241 ( 127.185s) [    7B5A53DD2740]      vtkCGNSReader.cxx:4267  WARN| vtkCGNSReader (0x556ddfe35b50): Skipping BC_t node: BC_t type 'BCInflow' not supported yet.\u001b[0m\n",
      "\u001b[0m\u001b[33m2025-06-07 19:43:27.242 ( 127.185s) [    7B5A53DD2740]      vtkCGNSReader.cxx:4267  WARN| vtkCGNSReader (0x556ddfe35b50): Skipping BC_t node: BC_t type 'BCSymmetryPlane' not supported yet.\u001b[0m\n",
      "\u001b[0m\u001b[33m2025-06-07 19:43:27.244 ( 127.187s) [    7B5A53DD2740]      vtkCGNSReader.cxx:4267  WARN| vtkCGNSReader (0x556ddfe35b50): Skipping BC_t node: BC_t type 'BCTunnelOutflow' not supported yet.\u001b[0m\n",
      "Computing bounds:   1%|          | 1/100 [00:04<07:28,  4.53s/it]\u001b[0m\u001b[33m2025-06-07 19:43:27.276 ( 127.219s) [    7B5A53DD2740]      vtkCGNSReader.cxx:4267  WARN| vtkCGNSReader (0x556ddfe35b50): Skipping BC_t node: BC_t type 'BCInflow' not supported yet.\u001b[0m\n",
      "\u001b[0m\u001b[33m2025-06-07 19:43:27.276 ( 127.219s) [    7B5A53DD2740]      vtkCGNSReader.cxx:4267  WARN| vtkCGNSReader (0x556ddfe35b50): Skipping BC_t node: BC_t type 'BCSymmetryPlane' not supported yet.\u001b[0m\n",
      "\u001b[0m\u001b[33m2025-06-07 19:43:27.276 ( 127.219s) [    7B5A53DD2740]      vtkCGNSReader.cxx:4267  WARN| vtkCGNSReader (0x556ddfe35b50): Skipping BC_t node: BC_t type 'BCTunnelOutflow' not supported yet.\u001b[0m\n",
      "\u001b[0m\u001b[33m2025-06-07 19:43:27.393 ( 127.336s) [    7B5A53DD2740]      vtkCGNSReader.cxx:4267  WARN| vtkCGNSReader (0x556dec6757f0): Skipping BC_t node: BC_t type 'BCInflow' not supported yet.\u001b[0m\n",
      "\u001b[0m\u001b[33m2025-06-07 19:43:27.393 ( 127.336s) [    7B5A53DD2740]      vtkCGNSReader.cxx:4267  WARN| vtkCGNSReader (0x556dec6757f0): Skipping BC_t node: BC_t type 'BCSymmetryPlane' not supported yet.\u001b[0m\n",
      "\u001b[0m\u001b[33m2025-06-07 19:43:27.393 ( 127.336s) [    7B5A53DD2740]      vtkCGNSReader.cxx:4267  WARN| vtkCGNSReader (0x556dec6757f0): Skipping BC_t node: BC_t type 'BCTunnelOutflow' not supported yet.\u001b[0m\n",
      "\u001b[0m\u001b[33m2025-06-07 19:43:27.497 ( 127.441s) [    7B5A53DD2740]      vtkCGNSReader.cxx:4267  WARN| vtkCGNSReader (0x556ddfe35b50): Skipping BC_t node: BC_t type 'BCInflow' not supported yet.\u001b[0m\n",
      "\u001b[0m\u001b[33m2025-06-07 19:43:27.498 ( 127.441s) [    7B5A53DD2740]      vtkCGNSReader.cxx:4267  WARN| vtkCGNSReader (0x556ddfe35b50): Skipping BC_t node: BC_t type 'BCSymmetryPlane' not supported yet.\u001b[0m\n",
      "\u001b[0m\u001b[33m2025-06-07 19:43:27.498 ( 127.441s) [    7B5A53DD2740]      vtkCGNSReader.cxx:4267  WARN| vtkCGNSReader (0x556ddfe35b50): Skipping BC_t node: BC_t type 'BCTunnelOutflow' not supported yet.\u001b[0m\n",
      "\u001b[0m\u001b[33m2025-06-07 19:43:27.521 ( 127.465s) [    7B5A53DD2740]      vtkCGNSReader.cxx:4267  WARN| vtkCGNSReader (0x556ddfe35b50): Skipping BC_t node: BC_t type 'BCInflow' not supported yet.\u001b[0m\n",
      "\u001b[0m\u001b[33m2025-06-07 19:43:27.522 ( 127.465s) [    7B5A53DD2740]      vtkCGNSReader.cxx:4267  WARN| vtkCGNSReader (0x556ddfe35b50): Skipping BC_t node: BC_t type 'BCSymmetryPlane' not supported yet.\u001b[0m\n",
      "\u001b[0m\u001b[33m2025-06-07 19:43:27.540 ( 127.483s) [    7B5A53DD2740]      vtkCGNSReader.cxx:4267  WARN| vtkCGNSReader (0x556ddfe35b50): Skipping BC_t node: BC_t type 'BCTunnelOutflow' not supported yet.\u001b[0m\n",
      "\u001b[0m\u001b[33m2025-06-07 19:43:27.567 ( 127.510s) [    7B5A53DD2740]      vtkCGNSReader.cxx:4267  WARN| vtkCGNSReader (0x556ddfe35b50): Skipping BC_t node: BC_t type 'BCInflow' not supported yet.\u001b[0m\n",
      "\u001b[0m\u001b[33m2025-06-07 19:43:27.567 ( 127.510s) [    7B5A53DD2740]      vtkCGNSReader.cxx:4267  WARN| vtkCGNSReader (0x556ddfe35b50): Skipping BC_t node: BC_t type 'BCSymmetryPlane' not supported yet.\u001b[0m\n",
      "\u001b[0m\u001b[33m2025-06-07 19:43:27.567 ( 127.510s) [    7B5A53DD2740]      vtkCGNSReader.cxx:4267  WARN| vtkCGNSReader (0x556ddfe35b50): Skipping BC_t node: BC_t type 'BCTunnelOutflow' not supported yet.\u001b[0m\n",
      "Computing bounds:   7%|▋         | 7/100 [00:04<00:50,  1.86it/s]\u001b[0m\u001b[33m2025-06-07 19:43:28.533 ( 128.476s) [    7B5A53DD2740]      vtkCGNSReader.cxx:4267  WARN| vtkCGNSReader (0x556deb1fe0e0): Skipping BC_t node: BC_t type 'BCInflow' not supported yet.\u001b[0m\n",
      "\u001b[0m\u001b[33m2025-06-07 19:43:28.533 ( 128.476s) [    7B5A53DD2740]      vtkCGNSReader.cxx:4267  WARN| vtkCGNSReader (0x556deb1fe0e0): Skipping BC_t node: BC_t type 'BCSymmetryPlane' not supported yet.\u001b[0m\n",
      "\u001b[0m\u001b[33m2025-06-07 19:43:28.534 ( 128.477s) [    7B5A53DD2740]      vtkCGNSReader.cxx:4267  WARN| vtkCGNSReader (0x556deb1fe0e0): Skipping BC_t node: BC_t type 'BCTunnelOutflow' not supported yet.\u001b[0m\n",
      "\u001b[0m\u001b[33m2025-06-07 19:43:28.607 ( 128.550s) [    7B5A53DD2740]      vtkCGNSReader.cxx:4267  WARN| vtkCGNSReader (0x556decc9af10): Skipping BC_t node: BC_t type 'BCInflow' not supported yet.\u001b[0m\n",
      "\u001b[0m\u001b[33m2025-06-07 19:43:28.607 ( 128.550s) [    7B5A53DD2740]      vtkCGNSReader.cxx:4267  WARN| vtkCGNSReader (0x556decc9af10): Skipping BC_t node: BC_t type 'BCSymmetryPlane' not supported yet.\u001b[0m\n",
      "\u001b[0m\u001b[33m2025-06-07 19:43:28.608 ( 128.551s) [    7B5A53DD2740]      vtkCGNSReader.cxx:4267  WARN| vtkCGNSReader (0x556decc9af10): Skipping BC_t node: BC_t type 'BCTunnelOutflow' not supported yet.\u001b[0m\n",
      "Computing bounds:  22%|██▏       | 22/100 [00:05<00:13,  5.73it/s]\u001b[0m\u001b[33m2025-06-07 19:43:28.737 ( 128.680s) [    7B5A53DD2740]      vtkCGNSReader.cxx:4267  WARN| vtkCGNSReader (0x556dea491820): Skipping BC_t node: BC_t type 'BCInflow' not supported yet.\u001b[0m\n",
      "\u001b[0m\u001b[33m2025-06-07 19:43:28.737 ( 128.680s) [    7B5A53DD2740]      vtkCGNSReader.cxx:4267  WARN| vtkCGNSReader (0x556dea491820): Skipping BC_t node: BC_t type 'BCSymmetryPlane' not supported yet.\u001b[0m\n",
      "\u001b[0m\u001b[33m2025-06-07 19:43:28.737 ( 128.680s) [    7B5A53DD2740]      vtkCGNSReader.cxx:4267  WARN| vtkCGNSReader (0x556dea491820): Skipping BC_t node: BC_t type 'BCTunnelOutflow' not supported yet.\u001b[0m\n",
      "\u001b[0m\u001b[33m2025-06-07 19:43:29.131 ( 129.074s) [    7B5A53DD2740]      vtkCGNSReader.cxx:4267  WARN| vtkCGNSReader (0x556dea3d6290): Skipping BC_t node: BC_t type 'BCInflow' not supported yet.\u001b[0m\n",
      "\u001b[0m\u001b[33m2025-06-07 19:43:29.132 ( 129.075s) [    7B5A53DD2740]      vtkCGNSReader.cxx:4267  WARN| vtkCGNSReader (0x556dea3d6290): Skipping BC_t node: BC_t type 'BCSymmetryPlane' not supported yet.\u001b[0m\n",
      "\u001b[0m\u001b[33m2025-06-07 19:43:29.132 ( 129.075s) [    7B5A53DD2740]      vtkCGNSReader.cxx:4267  WARN| vtkCGNSReader (0x556dea3d6290): Skipping BC_t node: BC_t type 'BCTunnelOutflow' not supported yet.\u001b[0m\n",
      "\u001b[0m\u001b[33m2025-06-07 19:43:29.146 ( 129.089s) [    7B5A53DD2740]      vtkCGNSReader.cxx:4267  WARN| vtkCGNSReader (0x556decf1ab30): Skipping BC_t node: BC_t type 'BCInflow' not supported yet.\u001b[0m\n",
      "\u001b[0m\u001b[33m2025-06-07 19:43:29.147 ( 129.090s) [    7B5A53DD2740]      vtkCGNSReader.cxx:4267  WARN| vtkCGNSReader (0x556decf1ab30): Skipping BC_t node: BC_t type 'BCSymmetryPlane' not supported yet.\u001b[0m\n",
      "\u001b[0m\u001b[33m2025-06-07 19:43:29.147 ( 129.091s) [    7B5A53DD2740]      vtkCGNSReader.cxx:4267  WARN| vtkCGNSReader (0x556decf1ab30): Skipping BC_t node: BC_t type 'BCTunnelOutflow' not supported yet.\u001b[0m\n",
      "\u001b[0m\u001b[33m2025-06-07 19:43:29.159 ( 129.102s) [    7B5A53DD2740]      vtkCGNSReader.cxx:4267  WARN| vtkCGNSReader (0x556deafa5480): Skipping BC_t node: BC_t type 'BCInflow' not supported yet.\u001b[0m\n",
      "\u001b[0m\u001b[33m2025-06-07 19:43:29.165 ( 129.108s) [    7B5A53DD2740]      vtkCGNSReader.cxx:4267  WARN| vtkCGNSReader (0x556deafa5480): Skipping BC_t node: BC_t type 'BCSymmetryPlane' not supported yet.\u001b[0m\n",
      "\u001b[0m\u001b[33m2025-06-07 19:43:29.165 ( 129.109s) [    7B5A53DD2740]      vtkCGNSReader.cxx:4267  WARN| vtkCGNSReader (0x556deafa5480): Skipping BC_t node: BC_t type 'BCTunnelOutflow' not supported yet.\u001b[0m\n",
      "Computing bounds:  24%|██▍       | 24/100 [00:06<00:14,  5.18it/s]\u001b[0m\u001b[33m2025-06-07 19:43:29.266 ( 129.209s) [    7B5A53DD2740]      vtkCGNSReader.cxx:4267  WARN| vtkCGNSReader (0x556deaf88200): Skipping BC_t node: BC_t type 'BCInflow' not supported yet.\u001b[0m\n",
      "\u001b[0m\u001b[33m2025-06-07 19:43:29.274 ( 129.217s) [    7B5A53DD2740]      vtkCGNSReader.cxx:4267  WARN| vtkCGNSReader (0x556deaf88200): Skipping BC_t node: BC_t type 'BCSymmetryPlane' not supported yet.\u001b[0m\n",
      "\u001b[0m\u001b[33m2025-06-07 19:43:29.275 ( 129.218s) [    7B5A53DD2740]      vtkCGNSReader.cxx:4267  WARN| vtkCGNSReader (0x556deaf88200): Skipping BC_t node: BC_t type 'BCTunnelOutflow' not supported yet.\u001b[0m\n",
      "Computing bounds:  26%|██▌       | 26/100 [00:06<00:12,  5.77it/s]\u001b[0m\u001b[33m2025-06-07 19:43:30.180 ( 130.123s) [    7B5A53DD2740]      vtkCGNSReader.cxx:4267  WARN| vtkCGNSReader (0x556de81c11d0): Skipping BC_t node: BC_t type 'BCInflow' not supported yet.\u001b[0m\n",
      "\u001b[0m\u001b[33m2025-06-07 19:43:30.180 ( 130.123s) [    7B5A53DD2740]      vtkCGNSReader.cxx:4267  WARN| vtkCGNSReader (0x556de81c11d0): Skipping BC_t node: BC_t type 'BCSymmetryPlane' not supported yet.\u001b[0m\n",
      "\u001b[0m\u001b[33m2025-06-07 19:43:30.180 ( 130.123s) [    7B5A53DD2740]      vtkCGNSReader.cxx:4267  WARN| vtkCGNSReader (0x556de81c11d0): Skipping BC_t node: BC_t type 'BCTunnelOutflow' not supported yet.\u001b[0m\n",
      "\u001b[0m\u001b[33m2025-06-07 19:43:30.776 ( 130.719s) [    7B5A53DD2740]      vtkCGNSReader.cxx:4267  WARN| vtkCGNSReader (0x556de7e6eda0): Skipping BC_t node: BC_t type 'BCInflow' not supported yet.\u001b[0m\n",
      "\u001b[0m\u001b[33m2025-06-07 19:43:30.776 ( 130.719s) [    7B5A53DD2740]      vtkCGNSReader.cxx:4267  WARN| vtkCGNSReader (0x556de7e6eda0): Skipping BC_t node: BC_t type 'BCSymmetryPlane' not supported yet.\u001b[0m\n",
      "\u001b[0m\u001b[33m2025-06-07 19:43:30.776 ( 130.719s) [    7B5A53DD2740]      vtkCGNSReader.cxx:4267  WARN| vtkCGNSReader (0x556de7e6eda0): Skipping BC_t node: BC_t type 'BCTunnelOutflow' not supported yet.\u001b[0m\n",
      "\u001b[0m\u001b[33m2025-06-07 19:43:30.852 ( 130.795s) [    7B5A53DD2740]      vtkCGNSReader.cxx:4267  WARN| vtkCGNSReader (0x556de7e695a0): Skipping BC_t node: BC_t type 'BCInflow' not supported yet.\u001b[0m\n",
      "\u001b[0m\u001b[33m2025-06-07 19:43:30.852 ( 130.795s) [    7B5A53DD2740]      vtkCGNSReader.cxx:4267  WARN| vtkCGNSReader (0x556de7e695a0): Skipping BC_t node: BC_t type 'BCSymmetryPlane' not supported yet.\u001b[0m\n",
      "\u001b[0m\u001b[33m2025-06-07 19:43:30.852 ( 130.795s) [    7B5A53DD2740]      vtkCGNSReader.cxx:4267  WARN| vtkCGNSReader (0x556de7e695a0): Skipping BC_t node: BC_t type 'BCTunnelOutflow' not supported yet.\u001b[0m\n",
      "\u001b[0m\u001b[33m2025-06-07 19:43:31.386 ( 131.329s) [    7B5A53DD2740]      vtkCGNSReader.cxx:4267  WARN| vtkCGNSReader (0x556de7e608f0): Skipping BC_t node: BC_t type 'BCInflow' not supported yet.\u001b[0m\n",
      "\u001b[0m\u001b[33m2025-06-07 19:43:31.388 ( 131.331s) [    7B5A53DD2740]      vtkCGNSReader.cxx:4267  WARN| vtkCGNSReader (0x556de7e608f0): Skipping BC_t node: BC_t type 'BCSymmetryPlane' not supported yet.\u001b[0m\n",
      "\u001b[0m\u001b[33m2025-06-07 19:43:31.388 ( 131.332s) [    7B5A53DD2740]      vtkCGNSReader.cxx:4267  WARN| vtkCGNSReader (0x556de7e608f0): Skipping BC_t node: BC_t type 'BCTunnelOutflow' not supported yet.\u001b[0m\n",
      "\u001b[0m\u001b[33m2025-06-07 19:43:31.505 ( 131.448s) [    7B5A53DD2740]      vtkCGNSReader.cxx:4267  WARN| vtkCGNSReader (0x556deccf6800): Skipping BC_t node: BC_t type 'BCInflow' not supported yet.\u001b[0m\n",
      "\u001b[0m\u001b[33m2025-06-07 19:43:31.505 ( 131.448s) [    7B5A53DD2740]      vtkCGNSReader.cxx:4267  WARN| vtkCGNSReader (0x556deccf6800): Skipping BC_t node: BC_t type 'BCSymmetryPlane' not supported yet.\u001b[0m\n",
      "\u001b[0m\u001b[33m2025-06-07 19:43:31.505 ( 131.448s) [    7B5A53DD2740]      vtkCGNSReader.cxx:4267  WARN| vtkCGNSReader (0x556deccf6800): Skipping BC_t node: BC_t type 'BCTunnelOutflow' not supported yet.\u001b[0m\n",
      "\u001b[0m\u001b[33m2025-06-07 19:43:31.614 ( 131.558s) [    7B5A53DD2740]      vtkCGNSReader.cxx:4267  WARN| vtkCGNSReader (0x556de830cb10): Skipping BC_t node: BC_t type 'BCInflow' not supported yet.\u001b[0m\n",
      "\u001b[0m\u001b[33m2025-06-07 19:43:31.615 ( 131.558s) [    7B5A53DD2740]      vtkCGNSReader.cxx:4267  WARN| vtkCGNSReader (0x556de830cb10): Skipping BC_t node: BC_t type 'BCSymmetryPlane' not supported yet.\u001b[0m\n",
      "\u001b[0m\u001b[33m2025-06-07 19:43:31.615 ( 131.558s) [    7B5A53DD2740]      vtkCGNSReader.cxx:4267  WARN| vtkCGNSReader (0x556de830cb10): Skipping BC_t node: BC_t type 'BCTunnelOutflow' not supported yet.\u001b[0m\n",
      "\u001b[0m\u001b[33m2025-06-07 19:43:31.648 ( 131.591s) [    7B5A53DD2740]      vtkCGNSReader.cxx:4267  WARN| vtkCGNSReader (0x556de8322980): Skipping BC_t node: BC_t type 'BCInflow' not supported yet.\u001b[0m\n",
      "\u001b[0m\u001b[33m2025-06-07 19:43:31.648 ( 131.591s) [    7B5A53DD2740]      vtkCGNSReader.cxx:4267  WARN| vtkCGNSReader (0x556de8322980): Skipping BC_t node: BC_t type 'BCSymmetryPlane' not supported yet.\u001b[0m\n",
      "\u001b[0m\u001b[33m2025-06-07 19:43:31.649 ( 131.592s) [    7B5A53DD2740]      vtkCGNSReader.cxx:4267  WARN| vtkCGNSReader (0x556de8322980): Skipping BC_t node: BC_t type 'BCTunnelOutflow' not supported yet.\u001b[0m\n",
      "\u001b[0m\u001b[33m2025-06-07 19:43:31.685 ( 131.628s) [    7B5A53DD2740]      vtkCGNSReader.cxx:4267  WARN| vtkCGNSReader (0x556dea9e8660): Skipping BC_t node: BC_t type 'BCInflow' not supported yet.\u001b[0m\n",
      "\u001b[0m\u001b[33m2025-06-07 19:43:31.685 ( 131.628s) [    7B5A53DD2740]      vtkCGNSReader.cxx:4267  WARN| vtkCGNSReader (0x556dea9e8660): Skipping BC_t node: BC_t type 'BCSymmetryPlane' not supported yet.\u001b[0m\n",
      "\u001b[0m\u001b[33m2025-06-07 19:43:31.685 ( 131.628s) [    7B5A53DD2740]      vtkCGNSReader.cxx:4267  WARN| vtkCGNSReader (0x556dea9e8660): Skipping BC_t node: BC_t type 'BCTunnelOutflow' not supported yet.\u001b[0m\n",
      "\u001b[0m\u001b[33m2025-06-07 19:43:31.702 ( 131.645s) [    7B5A53DD2740]      vtkCGNSReader.cxx:4267  WARN| vtkCGNSReader (0x556de7e6e5f0): Skipping BC_t node: BC_t type 'BCInflow' not supported yet.\u001b[0m\n",
      "\u001b[0m\u001b[33m2025-06-07 19:43:31.702 ( 131.645s) [    7B5A53DD2740]      vtkCGNSReader.cxx:4267  WARN| vtkCGNSReader (0x556de7e6e5f0): Skipping BC_t node: BC_t type 'BCSymmetryPlane' not supported yet.\u001b[0m\n",
      "\u001b[0m\u001b[33m2025-06-07 19:43:31.702 ( 131.645s) [    7B5A53DD2740]      vtkCGNSReader.cxx:4267  WARN| vtkCGNSReader (0x556de7e6e5f0): Skipping BC_t node: BC_t type 'BCTunnelOutflow' not supported yet.\u001b[0m\n",
      "\u001b[0m\u001b[33m2025-06-07 19:43:31.767 ( 131.710s) [    7B5A53DD2740]      vtkCGNSReader.cxx:4267  WARN| vtkCGNSReader (0x556dea117110): Skipping BC_t node: BC_t type 'BCInflow' not supported yet.\u001b[0m\n",
      "\u001b[0m\u001b[33m2025-06-07 19:43:31.767 ( 131.710s) [    7B5A53DD2740]      vtkCGNSReader.cxx:4267  WARN| vtkCGNSReader (0x556dea117110): Skipping BC_t node: BC_t type 'BCSymmetryPlane' not supported yet.\u001b[0m\n",
      "\u001b[0m\u001b[33m2025-06-07 19:43:31.767 ( 131.710s) [    7B5A53DD2740]      vtkCGNSReader.cxx:4267  WARN| vtkCGNSReader (0x556dea117110): Skipping BC_t node: BC_t type 'BCTunnelOutflow' not supported yet.\u001b[0m\n",
      "\u001b[0m\u001b[33m2025-06-07 19:43:31.785 ( 131.728s) [    7B5A53DD2740]      vtkCGNSReader.cxx:4267  WARN| vtkCGNSReader (0x556dea331270): Skipping BC_t node: BC_t type 'BCInflow' not supported yet.\u001b[0m\n",
      "\u001b[0m\u001b[33m2025-06-07 19:43:31.785 ( 131.728s) [    7B5A53DD2740]      vtkCGNSReader.cxx:4267  WARN| vtkCGNSReader (0x556dea331270): Skipping BC_t node: BC_t type 'BCSymmetryPlane' not supported yet.\u001b[0m\n",
      "\u001b[0m\u001b[33m2025-06-07 19:43:31.785 ( 131.728s) [    7B5A53DD2740]      vtkCGNSReader.cxx:4267  WARN| vtkCGNSReader (0x556dea331270): Skipping BC_t node: BC_t type 'BCTunnelOutflow' not supported yet.\u001b[0m\n",
      "\u001b[0m\u001b[33m2025-06-07 19:43:31.791 ( 131.734s) [    7B5A53DD2740]      vtkCGNSReader.cxx:4267  WARN| vtkCGNSReader (0x556dea3f2c70): Skipping BC_t node: BC_t type 'BCInflow' not supported yet.\u001b[0m\n",
      "\u001b[0m\u001b[33m2025-06-07 19:43:31.791 ( 131.734s) [    7B5A53DD2740]      vtkCGNSReader.cxx:4267  WARN| vtkCGNSReader (0x556dea3f2c70): Skipping BC_t node: BC_t type 'BCSymmetryPlane' not supported yet.\u001b[0m\n",
      "\u001b[0m\u001b[33m2025-06-07 19:43:31.791 ( 131.734s) [    7B5A53DD2740]      vtkCGNSReader.cxx:4267  WARN| vtkCGNSReader (0x556dea3f2c70): Skipping BC_t node: BC_t type 'BCTunnelOutflow' not supported yet.\u001b[0m\n",
      "\u001b[0m\u001b[33m2025-06-07 19:43:31.876 ( 131.819s) [    7B5A53DD2740]      vtkCGNSReader.cxx:4267  WARN| vtkCGNSReader (0x556dea140530): Skipping BC_t node: BC_t type 'BCInflow' not supported yet.\u001b[0m\n",
      "\u001b[0m\u001b[33m2025-06-07 19:43:31.876 ( 131.819s) [    7B5A53DD2740]      vtkCGNSReader.cxx:4267  WARN| vtkCGNSReader (0x556dea140530): Skipping BC_t node: BC_t type 'BCSymmetryPlane' not supported yet.\u001b[0m\n",
      "\u001b[0m\u001b[33m2025-06-07 19:43:31.876 ( 131.819s) [    7B5A53DD2740]      vtkCGNSReader.cxx:4267  WARN| vtkCGNSReader (0x556dea140530): Skipping BC_t node: BC_t type 'BCTunnelOutflow' not supported yet.\u001b[0m\n",
      "Computing bounds:  29%|██▉       | 29/100 [00:09<00:24,  2.93it/s]\u001b[0m\u001b[33m2025-06-07 19:43:31.968 ( 131.911s) [    7B5A53DD2740]      vtkCGNSReader.cxx:4267  WARN| vtkCGNSReader (0x556dea7eb6d0): Skipping BC_t node: BC_t type 'BCInflow' not supported yet.\u001b[0m\n",
      "\u001b[0m\u001b[33m2025-06-07 19:43:31.968 ( 131.911s) [    7B5A53DD2740]      vtkCGNSReader.cxx:4267  WARN| vtkCGNSReader (0x556dea7eb6d0): Skipping BC_t node: BC_t type 'BCSymmetryPlane' not supported yet.\u001b[0m\n",
      "\u001b[0m\u001b[33m2025-06-07 19:43:31.972 ( 131.916s) [    7B5A53DD2740]      vtkCGNSReader.cxx:4267  WARN| vtkCGNSReader (0x556dea7eb6d0): Skipping BC_t node: BC_t type 'BCTunnelOutflow' not supported yet.\u001b[0m\n",
      "\u001b[0m\u001b[33m2025-06-07 19:43:32.143 ( 132.086s) [    7B5A53DD2740]      vtkCGNSReader.cxx:4267  WARN| vtkCGNSReader (0x556dea57de20): Skipping BC_t node: BC_t type 'BCInflow' not supported yet.\u001b[0m\n",
      "\u001b[0m\u001b[33m2025-06-07 19:43:32.147 ( 132.090s) [    7B5A53DD2740]      vtkCGNSReader.cxx:4267  WARN| vtkCGNSReader (0x556dea57de20): Skipping BC_t node: BC_t type 'BCSymmetryPlane' not supported yet.\u001b[0m\n",
      "\u001b[0m\u001b[33m2025-06-07 19:43:32.147 ( 132.091s) [    7B5A53DD2740]      vtkCGNSReader.cxx:4267  WARN| vtkCGNSReader (0x556dea57de20): Skipping BC_t node: BC_t type 'BCTunnelOutflow' not supported yet.\u001b[0m\n",
      "\u001b[0m\u001b[33m2025-06-07 19:43:32.225 ( 132.168s) [    7B5A53DD2740]      vtkCGNSReader.cxx:4267  WARN| vtkCGNSReader (0x556debc726b0): Skipping BC_t node: BC_t type 'BCInflow' not supported yet.\u001b[0m\n",
      "\u001b[0m\u001b[33m2025-06-07 19:43:32.225 ( 132.168s) [    7B5A53DD2740]      vtkCGNSReader.cxx:4267  WARN| vtkCGNSReader (0x556debc726b0): Skipping BC_t node: BC_t type 'BCSymmetryPlane' not supported yet.\u001b[0m\n",
      "\u001b[0m\u001b[33m2025-06-07 19:43:32.225 ( 132.168s) [    7B5A53DD2740]      vtkCGNSReader.cxx:4267  WARN| vtkCGNSReader (0x556debc726b0): Skipping BC_t node: BC_t type 'BCTunnelOutflow' not supported yet.\u001b[0m\n",
      "\u001b[0m\u001b[33m2025-06-07 19:43:32.251 ( 132.194s) [    7B5A53DD2740]      vtkCGNSReader.cxx:4267  WARN| vtkCGNSReader (0x556de7e6e5f0): Skipping BC_t node: BC_t type 'BCInflow' not supported yet.\u001b[0m\n",
      "\u001b[0m\u001b[33m2025-06-07 19:43:32.251 ( 132.194s) [    7B5A53DD2740]      vtkCGNSReader.cxx:4267  WARN| vtkCGNSReader (0x556de7e6e5f0): Skipping BC_t node: BC_t type 'BCSymmetryPlane' not supported yet.\u001b[0m\n",
      "\u001b[0m\u001b[33m2025-06-07 19:43:32.251 ( 132.194s) [    7B5A53DD2740]      vtkCGNSReader.cxx:4267  WARN| vtkCGNSReader (0x556de7e6e5f0): Skipping BC_t node: BC_t type 'BCTunnelOutflow' not supported yet.\u001b[0m\n",
      "Computing bounds:  32%|███▏      | 32/100 [00:09<00:19,  3.50it/s]\u001b[0m\u001b[33m2025-06-07 19:43:32.433 ( 132.377s) [    7B5A53DD2740]      vtkCGNSReader.cxx:4267  WARN| vtkCGNSReader (0x556de59a4890): Skipping BC_t node: BC_t type 'BCInflow' not supported yet.\u001b[0m\n",
      "\u001b[0m\u001b[33m2025-06-07 19:43:32.434 ( 132.377s) [    7B5A53DD2740]      vtkCGNSReader.cxx:4267  WARN| vtkCGNSReader (0x556de59a4890): Skipping BC_t node: BC_t type 'BCSymmetryPlane' not supported yet.\u001b[0m\n",
      "\u001b[0m\u001b[33m2025-06-07 19:43:32.434 ( 132.377s) [    7B5A53DD2740]      vtkCGNSReader.cxx:4267  WARN| vtkCGNSReader (0x556de59a4890): Skipping BC_t node: BC_t type 'BCTunnelOutflow' not supported yet.\u001b[0m\n",
      "\u001b[0m\u001b[33m2025-06-07 19:43:32.542 ( 132.485s) [    7B5A53DD2740]      vtkCGNSReader.cxx:4267  WARN| vtkCGNSReader (0x556decf62140): Skipping BC_t node: BC_t type 'BCInflow' not supported yet.\u001b[0m\n",
      "\u001b[0m\u001b[33m2025-06-07 19:43:32.542 ( 132.485s) [    7B5A53DD2740]      vtkCGNSReader.cxx:4267  WARN| vtkCGNSReader (0x556decf62140): Skipping BC_t node: BC_t type 'BCSymmetryPlane' not supported yet.\u001b[0m\n",
      "\u001b[0m\u001b[33m2025-06-07 19:43:32.542 ( 132.485s) [    7B5A53DD2740]      vtkCGNSReader.cxx:4267  WARN| vtkCGNSReader (0x556decf62140): Skipping BC_t node: BC_t type 'BCTunnelOutflow' not supported yet.\u001b[0m\n",
      "\u001b[0m\u001b[33m2025-06-07 19:43:33.066 ( 133.009s) [    7B5A53DD2740]      vtkCGNSReader.cxx:4267  WARN| vtkCGNSReader (0x556dea577b50): Skipping BC_t node: BC_t type 'BCInflow' not supported yet.\u001b[0m\n",
      "\u001b[0m\u001b[33m2025-06-07 19:43:33.066 ( 133.009s) [    7B5A53DD2740]      vtkCGNSReader.cxx:4267  WARN| vtkCGNSReader (0x556dea577b50): Skipping BC_t node: BC_t type 'BCSymmetryPlane' not supported yet.\u001b[0m\n",
      "\u001b[0m\u001b[33m2025-06-07 19:43:33.066 ( 133.009s) [    7B5A53DD2740]      vtkCGNSReader.cxx:4267  WARN| vtkCGNSReader (0x556dea577b50): Skipping BC_t node: BC_t type 'BCTunnelOutflow' not supported yet.\u001b[0m\n",
      "Computing bounds:  39%|███▉      | 39/100 [00:10<00:13,  4.67it/s]\u001b[0m\u001b[33m2025-06-07 19:43:33.574 ( 133.517s) [    7B5A53DD2740]      vtkCGNSReader.cxx:4267  WARN| vtkCGNSReader (0x556de7e537b0): Skipping BC_t node: BC_t type 'BCInflow' not supported yet.\u001b[0m\n",
      "\u001b[0m\u001b[33m2025-06-07 19:43:33.574 ( 133.517s) [    7B5A53DD2740]      vtkCGNSReader.cxx:4267  WARN| vtkCGNSReader (0x556de7e537b0): Skipping BC_t node: BC_t type 'BCSymmetryPlane' not supported yet.\u001b[0m\n",
      "\u001b[0m\u001b[33m2025-06-07 19:43:33.575 ( 133.518s) [    7B5A53DD2740]      vtkCGNSReader.cxx:4267  WARN| vtkCGNSReader (0x556de7e537b0): Skipping BC_t node: BC_t type 'BCTunnelOutflow' not supported yet.\u001b[0m\n",
      "\u001b[0m\u001b[33m2025-06-07 19:43:33.749 ( 133.692s) [    7B5A53DD2740]      vtkCGNSReader.cxx:4267  WARN| vtkCGNSReader (0x556dea9776c0): Skipping BC_t node: BC_t type 'BCInflow' not supported yet.\u001b[0m\n",
      "\u001b[0m\u001b[33m2025-06-07 19:43:33.749 ( 133.692s) [    7B5A53DD2740]      vtkCGNSReader.cxx:4267  WARN| vtkCGNSReader (0x556dea9776c0): Skipping BC_t node: BC_t type 'BCSymmetryPlane' not supported yet.\u001b[0m\n",
      "\u001b[0m\u001b[33m2025-06-07 19:43:33.749 ( 133.693s) [    7B5A53DD2740]      vtkCGNSReader.cxx:4267  WARN| vtkCGNSReader (0x556dea9776c0): Skipping BC_t node: BC_t type 'BCTunnelOutflow' not supported yet.\u001b[0m\n",
      "\u001b[0m\u001b[33m2025-06-07 19:43:33.898 ( 133.841s) [    7B5A53DD2740]      vtkCGNSReader.cxx:4267  WARN| vtkCGNSReader (0x556de7e62b40): Skipping BC_t node: BC_t type 'BCInflow' not supported yet.\u001b[0m\n",
      "\u001b[0m\u001b[33m2025-06-07 19:43:33.898 ( 133.841s) [    7B5A53DD2740]      vtkCGNSReader.cxx:4267  WARN| vtkCGNSReader (0x556de7e62b40): Skipping BC_t node: BC_t type 'BCSymmetryPlane' not supported yet.\u001b[0m\n",
      "\u001b[0m\u001b[33m2025-06-07 19:43:33.898 ( 133.841s) [    7B5A53DD2740]      vtkCGNSReader.cxx:4267  WARN| vtkCGNSReader (0x556de7e62b40): Skipping BC_t node: BC_t type 'BCTunnelOutflow' not supported yet.\u001b[0m\n",
      "\u001b[0m\u001b[33m2025-06-07 19:43:34.054 ( 133.997s) [    7B5A53DD2740]      vtkCGNSReader.cxx:4267  WARN| vtkCGNSReader (0x556de7e6f450): Skipping BC_t node: BC_t type 'BCInflow' not supported yet.\u001b[0m\n",
      "\u001b[0m\u001b[33m2025-06-07 19:43:34.054 ( 133.997s) [    7B5A53DD2740]      vtkCGNSReader.cxx:4267  WARN| vtkCGNSReader (0x556de7e6f450): Skipping BC_t node: BC_t type 'BCSymmetryPlane' not supported yet.\u001b[0m\n",
      "\u001b[0m\u001b[33m2025-06-07 19:43:34.054 ( 133.997s) [    7B5A53DD2740]      vtkCGNSReader.cxx:4267  WARN| vtkCGNSReader (0x556de7e6f450): Skipping BC_t node: BC_t type 'BCTunnelOutflow' not supported yet.\u001b[0m\n",
      "Computing bounds:  47%|████▋     | 47/100 [00:11<00:08,  5.98it/s]\u001b[0m\u001b[33m2025-06-07 19:43:34.161 ( 134.104s) [    7B5A53DD2740]      vtkCGNSReader.cxx:4267  WARN| vtkCGNSReader (0x556dea472750): Skipping BC_t node: BC_t type 'BCInflow' not supported yet.\u001b[0m\n",
      "\u001b[0m\u001b[33m2025-06-07 19:43:34.161 ( 134.104s) [    7B5A53DD2740]      vtkCGNSReader.cxx:4267  WARN| vtkCGNSReader (0x556dea472750): Skipping BC_t node: BC_t type 'BCSymmetryPlane' not supported yet.\u001b[0m\n",
      "\u001b[0m\u001b[33m2025-06-07 19:43:34.161 ( 134.104s) [    7B5A53DD2740]      vtkCGNSReader.cxx:4267  WARN| vtkCGNSReader (0x556dea472750): Skipping BC_t node: BC_t type 'BCTunnelOutflow' not supported yet.\u001b[0m\n",
      "\u001b[0m\u001b[33m2025-06-07 19:43:34.295 ( 134.238s) [    7B5A53DD2740]      vtkCGNSReader.cxx:4267  WARN| vtkCGNSReader (0x556de81c1b10): Skipping BC_t node: BC_t type 'BCInflow' not supported yet.\u001b[0m\n",
      "\u001b[0m\u001b[33m2025-06-07 19:43:34.298 ( 134.241s) [    7B5A53DD2740]      vtkCGNSReader.cxx:4267  WARN| vtkCGNSReader (0x556de81c1b10): Skipping BC_t node: BC_t type 'BCSymmetryPlane' not supported yet.\u001b[0m\n",
      "\u001b[0m\u001b[33m2025-06-07 19:43:34.298 ( 134.241s) [    7B5A53DD2740]      vtkCGNSReader.cxx:4267  WARN| vtkCGNSReader (0x556de81c1b10): Skipping BC_t node: BC_t type 'BCTunnelOutflow' not supported yet.\u001b[0m\n",
      "\u001b[0m\u001b[33m2025-06-07 19:43:34.496 ( 134.439s) [    7B5A53DD2740]      vtkCGNSReader.cxx:4267  WARN| vtkCGNSReader (0x556de7e66e00): Skipping BC_t node: BC_t type 'BCInflow' not supported yet.\u001b[0m\n",
      "\u001b[0m\u001b[33m2025-06-07 19:43:34.496 ( 134.439s) [    7B5A53DD2740]      vtkCGNSReader.cxx:4267  WARN| vtkCGNSReader (0x556de7e66e00): Skipping BC_t node: BC_t type 'BCSymmetryPlane' not supported yet.\u001b[0m\n",
      "\u001b[0m\u001b[33m2025-06-07 19:43:34.496 ( 134.439s) [    7B5A53DD2740]      vtkCGNSReader.cxx:4267  WARN| vtkCGNSReader (0x556de7e66e00): Skipping BC_t node: BC_t type 'BCTunnelOutflow' not supported yet.\u001b[0m\n",
      "\u001b[0m\u001b[33m2025-06-07 19:43:35.135 ( 135.078s) [    7B5A53DD2740]      vtkCGNSReader.cxx:4267  WARN| vtkCGNSReader (0x556de83bcd00): Skipping BC_t node: BC_t type 'BCInflow' not supported yet.\u001b[0m\n",
      "\u001b[0m\u001b[33m2025-06-07 19:43:35.135 ( 135.078s) [    7B5A53DD2740]      vtkCGNSReader.cxx:4267  WARN| vtkCGNSReader (0x556de83bcd00): Skipping BC_t node: BC_t type 'BCSymmetryPlane' not supported yet.\u001b[0m\n",
      "\u001b[0m\u001b[33m2025-06-07 19:43:35.135 ( 135.078s) [    7B5A53DD2740]      vtkCGNSReader.cxx:4267  WARN| vtkCGNSReader (0x556de83bcd00): Skipping BC_t node: BC_t type 'BCTunnelOutflow' not supported yet.\u001b[0m\n",
      "\u001b[0m\u001b[33m2025-06-07 19:43:35.447 ( 135.390s) [    7B5A53DD2740]      vtkCGNSReader.cxx:4267  WARN| vtkCGNSReader (0x556dec8c4b00): Skipping BC_t node: BC_t type 'BCInflow' not supported yet.\u001b[0m\n",
      "\u001b[0m\u001b[33m2025-06-07 19:43:35.447 ( 135.390s) [    7B5A53DD2740]      vtkCGNSReader.cxx:4267  WARN| vtkCGNSReader (0x556dec8c4b00): Skipping BC_t node: BC_t type 'BCSymmetryPlane' not supported yet.\u001b[0m\n",
      "\u001b[0m\u001b[33m2025-06-07 19:43:35.447 ( 135.390s) [    7B5A53DD2740]      vtkCGNSReader.cxx:4267  WARN| vtkCGNSReader (0x556dec8c4b00): Skipping BC_t node: BC_t type 'BCTunnelOutflow' not supported yet.\u001b[0m\n",
      "Computing bounds:  52%|█████▏    | 52/100 [00:12<00:09,  4.95it/s]\u001b[0m\u001b[33m2025-06-07 19:43:35.623 ( 135.566s) [    7B5A53DD2740]      vtkCGNSReader.cxx:4267  WARN| vtkCGNSReader (0x556de7e67b80): Skipping BC_t node: BC_t type 'BCInflow' not supported yet.\u001b[0m\n",
      "\u001b[0m\u001b[33m2025-06-07 19:43:35.623 ( 135.566s) [    7B5A53DD2740]      vtkCGNSReader.cxx:4267  WARN| vtkCGNSReader (0x556de7e67b80): Skipping BC_t node: BC_t type 'BCSymmetryPlane' not supported yet.\u001b[0m\n",
      "\u001b[0m\u001b[33m2025-06-07 19:43:35.623 ( 135.567s) [    7B5A53DD2740]      vtkCGNSReader.cxx:4267  WARN| vtkCGNSReader (0x556de7e67b80): Skipping BC_t node: BC_t type 'BCTunnelOutflow' not supported yet.\u001b[0m\n",
      "\u001b[0m\u001b[33m2025-06-07 19:43:35.684 ( 135.627s) [    7B5A53DD2740]      vtkCGNSReader.cxx:4267  WARN| vtkCGNSReader (0x556de7e6f450): Skipping BC_t node: BC_t type 'BCInflow' not supported yet.\u001b[0m\n",
      "\u001b[0m\u001b[33m2025-06-07 19:43:35.684 ( 135.627s) [    7B5A53DD2740]      vtkCGNSReader.cxx:4267  WARN| vtkCGNSReader (0x556de7e6f450): Skipping BC_t node: BC_t type 'BCSymmetryPlane' not supported yet.\u001b[0m\n",
      "\u001b[0m\u001b[33m2025-06-07 19:43:35.690 ( 135.633s) [    7B5A53DD2740]      vtkCGNSReader.cxx:4267  WARN| vtkCGNSReader (0x556de7e6f450): Skipping BC_t node: BC_t type 'BCTunnelOutflow' not supported yet.\u001b[0m\n",
      "\u001b[0m\u001b[33m2025-06-07 19:43:35.804 ( 135.747s) [    7B5A53DD2740]      vtkCGNSReader.cxx:4267  WARN| vtkCGNSReader (0x556de9905bc0): Skipping BC_t node: BC_t type 'BCInflow' not supported yet.\u001b[0m\n",
      "\u001b[0m\u001b[33m2025-06-07 19:43:35.804 ( 135.747s) [    7B5A53DD2740]      vtkCGNSReader.cxx:4267  WARN| vtkCGNSReader (0x556de9905bc0): Skipping BC_t node: BC_t type 'BCSymmetryPlane' not supported yet.\u001b[0m\n",
      "\u001b[0m\u001b[33m2025-06-07 19:43:35.804 ( 135.747s) [    7B5A53DD2740]      vtkCGNSReader.cxx:4267  WARN| vtkCGNSReader (0x556de9905bc0): Skipping BC_t node: BC_t type 'BCTunnelOutflow' not supported yet.\u001b[0m\n",
      "\u001b[0m\u001b[33m2025-06-07 19:43:36.076 ( 136.020s) [    7B5A53DD2740]      vtkCGNSReader.cxx:4267  WARN| vtkCGNSReader (0x556de83e2130): Skipping BC_t node: BC_t type 'BCInflow' not supported yet.\u001b[0m\n",
      "\u001b[0m\u001b[33m2025-06-07 19:43:36.077 ( 136.020s) [    7B5A53DD2740]      vtkCGNSReader.cxx:4267  WARN| vtkCGNSReader (0x556de83e2130): Skipping BC_t node: BC_t type 'BCSymmetryPlane' not supported yet.\u001b[0m\n",
      "\u001b[0m\u001b[33m2025-06-07 19:43:36.077 ( 136.020s) [    7B5A53DD2740]      vtkCGNSReader.cxx:4267  WARN| vtkCGNSReader (0x556de83e2130): Skipping BC_t node: BC_t type 'BCTunnelOutflow' not supported yet.\u001b[0m\n",
      "\u001b[0m\u001b[33m2025-06-07 19:43:36.184 ( 136.127s) [    7B5A53DD2740]      vtkCGNSReader.cxx:4267  WARN| vtkCGNSReader (0x556de59cbf00): Skipping BC_t node: BC_t type 'BCInflow' not supported yet.\u001b[0m\n",
      "\u001b[0m\u001b[33m2025-06-07 19:43:36.184 ( 136.127s) [    7B5A53DD2740]      vtkCGNSReader.cxx:4267  WARN| vtkCGNSReader (0x556de59cbf00): Skipping BC_t node: BC_t type 'BCSymmetryPlane' not supported yet.\u001b[0m\n",
      "\u001b[0m\u001b[33m2025-06-07 19:43:36.186 ( 136.129s) [    7B5A53DD2740]      vtkCGNSReader.cxx:4267  WARN| vtkCGNSReader (0x556de59cbf00): Skipping BC_t node: BC_t type 'BCTunnelOutflow' not supported yet.\u001b[0m\n",
      "\u001b[0m\u001b[33m2025-06-07 19:43:36.385 ( 136.328s) [    7B5A53DD2740]      vtkCGNSReader.cxx:4267  WARN| vtkCGNSReader (0x556de7e66d30): Skipping BC_t node: BC_t type 'BCInflow' not supported yet.\u001b[0m\n",
      "\u001b[0m\u001b[33m2025-06-07 19:43:36.385 ( 136.328s) [    7B5A53DD2740]      vtkCGNSReader.cxx:4267  WARN| vtkCGNSReader (0x556de7e66d30): Skipping BC_t node: BC_t type 'BCSymmetryPlane' not supported yet.\u001b[0m\n",
      "\u001b[0m\u001b[33m2025-06-07 19:43:36.389 ( 136.332s) [    7B5A53DD2740]      vtkCGNSReader.cxx:4267  WARN| vtkCGNSReader (0x556de7e66d30): Skipping BC_t node: BC_t type 'BCTunnelOutflow' not supported yet.\u001b[0m\n",
      "\u001b[0m\u001b[33m2025-06-07 19:43:36.510 ( 136.453s) [    7B5A53DD2740]      vtkCGNSReader.cxx:4267  WARN| vtkCGNSReader (0x556de7e6f450): Skipping BC_t node: BC_t type 'BCInflow' not supported yet.\u001b[0m\n",
      "\u001b[0m\u001b[33m2025-06-07 19:43:36.511 ( 136.454s) [    7B5A53DD2740]      vtkCGNSReader.cxx:4267  WARN| vtkCGNSReader (0x556de7e6f450): Skipping BC_t node: BC_t type 'BCSymmetryPlane' not supported yet.\u001b[0m\n",
      "\u001b[0m\u001b[33m2025-06-07 19:43:36.511 ( 136.454s) [    7B5A53DD2740]      vtkCGNSReader.cxx:4267  WARN| vtkCGNSReader (0x556de7e6f450): Skipping BC_t node: BC_t type 'BCTunnelOutflow' not supported yet.\u001b[0m\n",
      "\u001b[0m\u001b[33m2025-06-07 19:43:36.538 ( 136.481s) [    7B5A53DD2740]      vtkCGNSReader.cxx:4267  WARN| vtkCGNSReader (0x556de7e66d30): Skipping BC_t node: BC_t type 'BCInflow' not supported yet.\u001b[0m\n",
      "\u001b[0m\u001b[33m2025-06-07 19:43:36.538 ( 136.481s) [    7B5A53DD2740]      vtkCGNSReader.cxx:4267  WARN| vtkCGNSReader (0x556de7e66d30): Skipping BC_t node: BC_t type 'BCSymmetryPlane' not supported yet.\u001b[0m\n",
      "\u001b[0m\u001b[33m2025-06-07 19:43:36.549 ( 136.492s) [    7B5A53DD2740]      vtkCGNSReader.cxx:4267  WARN| vtkCGNSReader (0x556de7e66d30): Skipping BC_t node: BC_t type 'BCTunnelOutflow' not supported yet.\u001b[0m\n",
      "Computing bounds:  57%|█████▋    | 57/100 [00:13<00:09,  4.78it/s]\u001b[0m\u001b[33m2025-06-07 19:43:36.771 ( 136.714s) [    7B5A53DD2740]      vtkCGNSReader.cxx:4267  WARN| vtkCGNSReader (0x556dea07d8c0): Skipping BC_t node: BC_t type 'BCInflow' not supported yet.\u001b[0m\n",
      "\u001b[0m\u001b[33m2025-06-07 19:43:36.771 ( 136.715s) [    7B5A53DD2740]      vtkCGNSReader.cxx:4267  WARN| vtkCGNSReader (0x556dea07d8c0): Skipping BC_t node: BC_t type 'BCSymmetryPlane' not supported yet.\u001b[0m\n",
      "\u001b[0m\u001b[33m2025-06-07 19:43:36.782 ( 136.725s) [    7B5A53DD2740]      vtkCGNSReader.cxx:4267  WARN| vtkCGNSReader (0x556dea07d8c0): Skipping BC_t node: BC_t type 'BCTunnelOutflow' not supported yet.\u001b[0m\n",
      "\u001b[0m\u001b[33m2025-06-07 19:43:36.801 ( 136.744s) [    7B5A53DD2740]      vtkCGNSReader.cxx:4267  WARN| vtkCGNSReader (0x556de7e6f450): Skipping BC_t node: BC_t type 'BCInflow' not supported yet.\u001b[0m\n",
      "\u001b[0m\u001b[33m2025-06-07 19:43:36.801 ( 136.744s) [    7B5A53DD2740]      vtkCGNSReader.cxx:4267  WARN| vtkCGNSReader (0x556de7e6f450): Skipping BC_t node: BC_t type 'BCSymmetryPlane' not supported yet.\u001b[0m\n",
      "\u001b[0m\u001b[33m2025-06-07 19:43:36.801 ( 136.745s) [    7B5A53DD2740]      vtkCGNSReader.cxx:4267  WARN| vtkCGNSReader (0x556de7e6f450): Skipping BC_t node: BC_t type 'BCTunnelOutflow' not supported yet.\u001b[0m\n",
      "\u001b[0m\u001b[33m2025-06-07 19:43:36.949 ( 136.892s) [    7B5A53DD2740]      vtkCGNSReader.cxx:4267  WARN| vtkCGNSReader (0x556de7e62b40): Skipping BC_t node: BC_t type 'BCInflow' not supported yet.\u001b[0m\n",
      "\u001b[0m\u001b[33m2025-06-07 19:43:36.949 ( 136.892s) [    7B5A53DD2740]      vtkCGNSReader.cxx:4267  WARN| vtkCGNSReader (0x556de7e62b40): Skipping BC_t node: BC_t type 'BCSymmetryPlane' not supported yet.\u001b[0m\n",
      "\u001b[0m\u001b[33m2025-06-07 19:43:36.958 ( 136.901s) [    7B5A53DD2740]      vtkCGNSReader.cxx:4267  WARN| vtkCGNSReader (0x556de82eec60\u001b[0m\u001b[33m2025-06-07 19:43:36.963 ( 136.906s) [    7B5A53DD2740]      vtkCGNSReader.cxx:4267  WARN| vtkCGNSReader (0x556de7e62b40): Skipping BC_t node: BC_t type 'BCTunnelOutflow' not supported yet.\u001b[0m\n",
      "): Skipping BC_t node: BC_t type 'BCInflow' not supported yet.\u001b[0m\n",
      "\u001b[0m\u001b[33m2025-06-07 19:43:36.966 ( 136.909s) [    7B5A53DD2740]      vtkCGNSReader.cxx:4267  WARN| vtkCGNSReader (0x556de82eec60): Skipping BC_t node: BC_t type 'BCSymmetryPlane' not supported yet.\u001b[0m\n",
      "\u001b[0m\u001b[33m2025-06-07 19:43:36.967 ( 136.910s) [    7B5A53DD2740]      vtkCGNSReader.cxx:4267  WARN| vtkCGNSReader (0x556de82eec60): Skipping BC_t node: BC_t type 'BCTunnelOutflow' not supported yet.\u001b[0m\n",
      "Computing bounds:  61%|██████    | 61/100 [00:14<00:07,  5.29it/s]\u001b[0m\u001b[33m2025-06-07 19:43:37.430 ( 137.373s) [    7B5A53DD2740]      vtkCGNSReader.cxx:4267  WARN| vtkCGNSReader (0x556de7e67d90): Skipping BC_t node: BC_t type 'BCInflow' not supported yet.\u001b[0m\n",
      "\u001b[0m\u001b[33m2025-06-07 19:43:37.430 ( 137.373s) [    7B5A53DD2740]      vtkCGNSReader.cxx:4267  WARN| vtkCGNSReader (0x556de7e67d90): Skipping BC_t node: BC_t type 'BCSymmetryPlane' not supported yet.\u001b[0m\n",
      "\u001b[0m\u001b[33m2025-06-07 19:43:37.431 ( 137.374s) [    7B5A53DD2740]      vtkCGNSReader.cxx:4267  WARN| vtkCGNSReader (0x556de7e67d90): Skipping BC_t node: BC_t type 'BCTunnelOutflow' not supported yet.\u001b[0m\n",
      "Computing bounds:  69%|██████▉   | 69/100 [00:14<00:03,  8.29it/s]\u001b[0m\u001b[33m2025-06-07 19:43:37.707 ( 137.650s) [    7B5A53DD2740]      vtkCGNSReader.cxx:4267  WARN| vtkCGNSReader (0x556de822d0c0): Skipping BC_t node: BC_t type 'BCInflow' not supported yet.\u001b[0m\n",
      "\u001b[0m\u001b[33m2025-06-07 19:43:37.710 ( 137.653s) [    7B5A53DD2740]      vtkCGNSReader.cxx:4267  WARN| vtkCGNSReader (0x556de822d0c0): Skipping BC_t node: BC_t type 'BCSymmetryPlane' not supported yet.\u001b[0m\n",
      "\u001b[0m\u001b[33m2025-06-07 19:43:37.710 ( 137.653s) [    7B5A53DD2740]      vtkCGNSReader.cxx:4267  WARN| vtkCGNSReader (0x556de822d0c0): Skipping BC_t node: BC_t type 'BCTunnelOutflow' not supported yet.\u001b[0m\n",
      "\u001b[0m\u001b[33m2025-06-07 19:43:37.806 ( 137.749s) [    7B5A53DD2740]      vtkCGNSReader.cxx:4267  WARN| vtkCGNSReader (0x556de993c3f0): Skipping BC_t node: BC_t type 'BCInflow' not supported yet.\u001b[0m\n",
      "\u001b[0m\u001b[33m2025-06-07 19:43:37.806 ( 137.749s) [    7B5A53DD2740]      vtkCGNSReader.cxx:4267  WARN| vtkCGNSReader (0x556de993c3f0): Skipping BC_t node: BC_t type 'BCSymmetryPlane' not supported yet.\u001b[0m\n",
      "\u001b[0m\u001b[33m2025-06-07 19:43:37.806 ( 137.749s) [    7B5A53DD2740]      vtkCGNSReader.cxx:4267  WARN| vtkCGNSReader (0x556de993c3f0): Skipping BC_t node: BC_t type 'BCTunnelOutflow' not supported yet.\u001b[0m\n",
      "\u001b[0m\u001b[33m2025-06-07 19:43:38.038 ( 137.981s) [    7B5A53DD2740]      vtkCGNSReader.cxx:4267  WARN| vtkCGNSReader (0x556de7e5af00): Skipping BC_t node: BC_t type 'BCInflow' not supported yet.\u001b[0m\n",
      "\u001b[0m\u001b[33m2025-06-07 19:43:38.038 ( 137.981s) [    7B5A53DD2740]      vtkCGNSReader.cxx:4267  WARN| vtkCGNSReader (0x556de7e5af00): Skipping BC_t node: BC_t type 'BCSymmetryPlane' not supported yet.\u001b[0m\n",
      "\u001b[0m\u001b[33m2025-06-07 19:43:38.038 ( 137.981s) [    7B5A53DD2740]      vtkCGNSReader.cxx:4267  WARN| vtkCGNSReader (0x556de7e5af00): Skipping BC_t node: BC_t type 'BCTunnelOutflow' not supported yet.\u001b[0m\n",
      "\u001b[0m\u001b[33m2025-06-07 19:43:38.188 ( 138.131s) [    7B5A53DD2740]      vtkCGNSReader.cxx:4267  WARN| vtkCGNSReader (0x556de831a560): Skipping BC_t node: BC_t type 'BCInflow' not supported yet.\u001b[0m\n",
      "\u001b[0m\u001b[33m2025-06-07 19:43:38.188 ( 138.131s) [    7B5A53DD2740]      vtkCGNSReader.cxx:4267  WARN| vtkCGNSReader (0x556de831a560): Skipping BC_t node: BC_t type 'BCSymmetryPlane' not supported yet.\u001b[0m\n",
      "\u001b[0m\u001b[33m2025-06-07 19:43:38.188 ( 138.131s) [    7B5A53DD2740]      vtkCGNSReader.cxx:4267  WARN| vtkCGNSReader (0x556de831a560): Skipping BC_t node: BC_t type 'BCTunnelOutflow' not supported yet.\u001b[0m\n",
      "\u001b[0m\u001b[33m2025-06-07 19:43:38.504 ( 138.447s) [    7B5A53DD2740]      vtkCGNSReader.cxx:4267  WARN| vtkCGNSReader (0x556de83029e0): Skipping BC_t node: BC_t type 'BCInflow' not supported yet.\u001b[0m\n",
      "\u001b[0m\u001b[33m2025-06-07 19:43:38.504 ( 138.447s) [    7B5A53DD2740]      vtkCGNSReader.cxx:4267  WARN| vtkCGNSReader (0x556de83029e0): Skipping BC_t node: BC_t type 'BCSymmetryPlane' not supported yet.\u001b[0m\n",
      "\u001b[0m\u001b[33m2025-06-07 19:43:38.504 ( 138.447s) [    7B5A53DD2740]      vtkCGNSReader.cxx:4267  WARN| vtkCGNSReader (0x556de83029e0): Skipping BC_t node: BC_t type 'BCTunnelOutflow' not supported yet.\u001b[0m\n",
      "\u001b[0m\u001b[33m2025-06-07 19:43:39.034 ( 138.977s) [    7B5A53DD2740]      vtkCGNSReader.cxx:4267  WARN| vtkCGNSReader (0x556dea330140): Skipping BC_t node: BC_t type 'BCInflow' not supported yet.\u001b[0m\n",
      "\u001b[0m\u001b[33m2025-06-07 19:43:39.035 ( 138.979s) [    7B5A53DD2740]      vtkCGNSReader.cxx:4267  WARN| vtkCGNSReader (0x556dea330140): Skipping BC_t node: BC_t type 'BCSymmetryPlane' not supported yet.\u001b[0m\n",
      "\u001b[0m\u001b[33m2025-06-07 19:43:39.036 ( 138.979s) [    7B5A53DD2740]      vtkCGNSReader.cxx:4267  WARN| vtkCGNSReader (0x556dea330140): Skipping BC_t node: BC_t type 'BCTunnelOutflow' not supported yet.\u001b[0m\n",
      "\u001b[0m\u001b[33m2025-06-07 19:43:39.100 ( 139.043s) [    7B5A53DD2740]      vtkCGNSReader.cxx:4267  WARN| vtkCGNSReader (0x556dea3cedc0): Skipping BC_t node: BC_t type 'BCInflow' not supported yet.\u001b[0m\n",
      "\u001b[0m\u001b[33m2025-06-07 19:43:39.101 ( 139.044s) [    7B5A53DD2740]      vtkCGNSReader.cxx:4267  WARN| vtkCGNSReader (0x556dea3cedc0): Skipping BC_t node: BC_t type 'BCSymmetryPlane' not supported yet.\u001b[0m\n",
      "\u001b[0m\u001b[33m2025-06-07 19:43:39.101 ( 139.044s) [    7B5A53DD2740]      vtkCGNSReader.cxx:4267  WARN| vtkCGNSReader (0x556dea3cedc0): Skipping BC_t node: BC_t type 'BCTunnelOutflow' not supported yet.\u001b[0m\n",
      "Computing bounds:  71%|███████   | 71/100 [00:16<00:06,  4.42it/s]\u001b[0m\u001b[33m2025-06-07 19:43:39.645 ( 139.588s) [    7B5A53DD2740]      vtkCGNSReader.cxx:4267  WARN| vtkCGNSReader (0x556de83b5340): Skipping BC_t node: BC_t type 'BCInflow' not supported yet.\u001b[0m\n",
      "\u001b[0m\u001b[33m2025-06-07 19:43:39.649 ( 139.592s) [    7B5A53DD2740]      vtkCGNSReader.cxx:4267  WARN| vtkCGNSReader (0x556de83b5340): Skipping BC_t node: BC_t type 'BCSymmetryPlane' not supported yet.\u001b[0m\n",
      "\u001b[0m\u001b[33m2025-06-07 19:43:39.649 ( 139.593s) [    7B5A53DD2740]      vtkCGNSReader.cxx:4267  WARN| vtkCGNSReader (0x556de83b5340): Skipping BC_t node: BC_t type 'BCTunnelOutflow' not supported yet.\u001b[0m\n",
      "\u001b[0m\u001b[33m2025-06-07 19:43:39.651 ( 139.594s) [    7B5A53DD2740]      vtkCGNSReader.cxx:4267  WARN| vtkCGNSReader (0x556de835eb70): Skipping BC_t node: BC_t type 'BCInflow' not supported yet.\u001b[0m\n",
      "\u001b[0m\u001b[33m2025-06-07 19:43:39.651 ( 139.594s) [    7B5A53DD2740]      vtkCGNSReader.cxx:4267  WARN| vtkCGNSReader (0x556de835eb70): Skipping BC_t node: BC_t type 'BCSymmetryPlane' not supported yet.\u001b[0m\n",
      "\u001b[0m\u001b[33m2025-06-07 19:43:39.651 ( 139.594s) [    7B5A53DD2740]      vtkCGNSReader.cxx:4267  WARN| vtkCGNSReader (0x556de835eb70): Skipping BC_t node: BC_t type 'BCTunnelOutflow' not supported yet.\u001b[0m\n",
      "\u001b[0m\u001b[33m2025-06-07 19:43:39.820 ( 139.763s) [    7B5A53DD2740]      vtkCGNSReader.cxx:4267  WARN| vtkCGNSReader (0x556dea2b33d0): Skipping BC_t node: BC_t type 'BCInflow' not supported yet.\u001b[0m\n",
      "\u001b[0m\u001b[33m2025-06-07 19:43:39.820 ( 139.763s) [    7B5A53DD2740]      vtkCGNSReader.cxx:4267  WARN| vtkCGNSReader (0x556dea2b33d0): Skipping BC_t node: BC_t type 'BCSymmetryPlane' not supported yet.\u001b[0m\n",
      "\u001b[0m\u001b[33m2025-06-07 19:43:39.820 ( 139.763s) [    7B5A53DD2740]      vtkCGNSReader.cxx:4267  WARN| vtkCGNSReader (0x556dea2b33d0): Skipping BC_t node: BC_t type 'BCTunnelOutflow' not supported yet.\u001b[0m\n",
      "\u001b[0m\u001b[33m2025-06-07 19:43:39.906 ( 139.849s) [    7B5A53DD2740]      vtkCGNSReader.cxx:4267  WARN| vtkCGNSReader (0x556de59e66d0): Skipping BC_t node: BC_t type 'BCInflow' not supported yet.\u001b[0m\n",
      "\u001b[0m\u001b[33m2025-06-07 19:43:39.906 ( 139.849s) [    7B5A53DD2740]      vtkCGNSReader.cxx:4267  WARN| vtkCGNSReader (0x556de59e66d0): Skipping BC_t node: BC_t type 'BCSymmetryPlane' not supported yet.\u001b[0m\n",
      "\u001b[0m\u001b[33m2025-06-07 19:43:39.920 ( 139.863s) [    7B5A53DD2740]      vtkCGNSReader.cxx:4267  WARN| vtkCGNSReader (0x556de59e66d0): Skipping BC_t node: BC_t type 'BCTunnelOutflow' not supported yet.\u001b[0m\n",
      "Computing bounds:  77%|███████▋  | 77/100 [00:17<00:04,  5.30it/s]\u001b[0m\u001b[33m2025-06-07 19:43:40.113 ( 140.056s) [    7B5A53DD2740]      vtkCGNSReader.cxx:4267  WARN| vtkCGNSReader (0x556deb111d20): Skipping BC_t node: BC_t type 'BCInflow' not supported yet.\u001b[0m\n",
      "\u001b[0m\u001b[33m2025-06-07 19:43:40.113 ( 140.056s) [    7B5A53DD2740]      vtkCGNSReader.cxx:4267  WARN| vtkCGNSReader (0x556deb111d20): Skipping BC_t node: BC_t type 'BCSymmetryPlane' not supported yet.\u001b[0m\n",
      "\u001b[0m\u001b[33m2025-06-07 19:43:40.113 ( 140.056s) [    7B5A53DD2740]      vtkCGNSReader.cxx:4267  WARN| vtkCGNSReader (0x556deb111d20): Skipping BC_t node: BC_t type 'BCTunnelOutflow' not supported yet.\u001b[0m\n",
      "\u001b[0m\u001b[33m2025-06-07 19:43:40.133 ( 140.076s) [    7B5A53DD2740]      vtkCGNSReader.cxx:4267  WARN| vtkCGNSReader (0x556de8302f60): Skipping BC_t node: BC_t type 'BCInflow' not supported yet.\u001b[0m\n",
      "\u001b[0m\u001b[33m2025-06-07 19:43:40.133 ( 140.077s) [    7B5A53DD2740]      vtkCGNSReader.cxx:4267  WARN| vtkCGNSReader (0x556de8302f60): Skipping BC_t node: BC_t type 'BCSymmetryPlane' not supported yet.\u001b[0m\n",
      "\u001b[0m\u001b[33m2025-06-07 19:43:40.144 ( 140.087s) [    7B5A53DD2740]      vtkCGNSReader.cxx:4267  WARN| vtkCGNSReader (0x556de8302f60): Skipping BC_t node: BC_t type 'BCTunnelOutflow' not supported yet.\u001b[0m\n",
      "Computing bounds:  79%|███████▉  | 79/100 [00:17<00:03,  5.62it/s]\u001b[0m\u001b[33m2025-06-07 19:43:40.483 ( 140.426s) [    7B5A53DD2740]      vtkCGNSReader.cxx:4267  WARN| vtkCGNSReader (0x556de59de7d0): Skipping BC_t node: BC_t type 'BCInflow' not supported yet.\u001b[0m\n",
      "\u001b[0m\u001b[33m2025-06-07 19:43:40.483 ( 140.426s) [    7B5A53DD2740]      vtkCGNSReader.cxx:4267  WARN| vtkCGNSReader (0x556de59de7d0): Skipping BC_t node: BC_t type 'BCSymmetryPlane' not supported yet.\u001b[0m\n",
      "\u001b[0m\u001b[33m2025-06-07 19:43:40.493 ( 140.436s) [    7B5A53DD2740]      vtkCGNSReader.cxx:4267  WARN| vtkCGNSReader (0x556de59de7d0): Skipping BC_t node: BC_t type 'BCTunnelOutflow' not supported yet.\u001b[0m\n",
      "\u001b[0m\u001b[33m2025-06-07 19:43:40.595 ( 140.538s) [    7B5A53DD2740]      vtkCGNSReader.cxx:4267  WARN| vtkCGNSReader (0x556de81899f0): Skipping BC_t node: BC_t type 'BCInflow' not supported yet.\u001b[0m\n",
      "\u001b[0m\u001b[33m2025-06-07 19:43:40.595 ( 140.538s) [    7B5A53DD2740]      vtkCGNSReader.cxx:4267  WARN| vtkCGNSReader (0x556de81899f0): Skipping BC_t node: BC_t type 'BCSymmetryPlane' not supported yet.\u001b[0m\n",
      "\u001b[0m\u001b[33m2025-06-07 19:43:40.595 ( 140.538s) [    7B5A53DD2740]      vtkCGNSReader.cxx:4267  WARN| vtkCGNSReader (0x556de81899f0): Skipping BC_t node: BC_t type 'BCTunnelOutflow' not supported yet.\u001b[0m\n",
      "\u001b[0m\u001b[33m2025-06-07 19:43:40.702 ( 140.645s) [    7B5A53DD2740]      vtkCGNSReader.cxx:4267  WARN| vtkCGNSReader (0x556de59a4910): Skipping BC_t node: BC_t type 'BCInflow' not supported yet.\u001b[0m\n",
      "\u001b[0m\u001b[33m2025-06-07 19:43:40.702 ( 140.645s) [    7B5A53DD2740]      vtkCGNSReader.cxx:4267  WARN| vtkCGNSReader (0x556de59a4910): Skipping BC_t node: BC_t type 'BCSymmetryPlane' not supported yet.\u001b[0m\n",
      "\u001b[0m\u001b[33m2025-06-07 19:43:40.709 ( 140.652s) [    7B5A53DD2740]      vtkCGNSReader.cxx:4267  WARN| vtkCGNSReader (0x556de59a4910): Skipping BC_t node: BC_t type 'BCTunnelOutflow' not supported yet.\u001b[0m\n",
      "\u001b[0m\u001b[33m2025-06-07 19:43:40.772 ( 140.715s) [    7B5A53DD2740]      vtkCGNSReader.cxx:4267  WARN| vtkCGNSReader (0x556de7e67d90): Skipping BC_t node: BC_t type 'BCInflow' not supported yet.\u001b[0m\n",
      "\u001b[0m\u001b[33m2025-06-07 19:43:40.773 ( 140.716s) [    7B5A53DD2740]      vtkCGNSReader.cxx:4267  WARN| vtkCGNSReader (0x556de7e67d90): Skipping BC_t node: BC_t type 'BCSymmetryPlane' not supported yet.\u001b[0m\n",
      "\u001b[0m\u001b[33m2025-06-07 19:43:40.773 ( 140.716s) [    7B5A53DD2740]      vtkCGNSReader.cxx:4267  WARN| vtkCGNSReader (0x556de7e67d90): Skipping BC_t node: BC_t type 'BCTunnelOutflow' not supported yet.\u001b[0m\n",
      "\u001b[0m\u001b[33m2025-06-07 19:43:40.826 ( 140.769s) [    7B5A53DD2740]      vtkCGNSReader.cxx:4267  WARN| vtkCGNSReader (0x556de98531a0): Skipping BC_t node: BC_t type 'BCInflow' not supported yet.\u001b[0m\n",
      "\u001b[0m\u001b[33m2025-06-07 19:43:40.826 ( 140.769s) [    7B5A53DD2740]      vtkCGNSReader.cxx:4267  WARN| vtkCGNSReader (0x556de98531a0): Skipping BC_t node: BC_t type 'BCSymmetryPlane' not supported yet.\u001b[0m\n",
      "\u001b[0m\u001b[33m2025-06-07 19:43:40.826 ( 140.769s) [    7B5A53DD2740]      vtkCGNSReader.cxx:4267  WARN| vtkCGNSReader (0x556de98531a0): Skipping BC_t node: BC_t type 'BCTunnelOutflow' not supported yet.\u001b[0m\n",
      "\u001b[0m\u001b[33m2025-06-07 19:43:40.884 ( 140.827s) [    7B5A53DD2740]      vtkCGNSReader.cxx:4267  WARN| vtkCGNSReader (0x556deccfba40): Skipping BC_t node: BC_t type 'BCInflow' not supported yet.\u001b[0m\n",
      "\u001b[0m\u001b[33m2025-06-07 19:43:40.884 ( 140.828s) [    7B5A53DD2740]      vtkCGNSReader.cxx:4267  WARN| vtkCGNSReader (0x556deccfba40): Skipping BC_t node: BC_t type 'BCSymmetryPlane' not supported yet.\u001b[0m\n",
      "\u001b[0m\u001b[33m2025-06-07 19:43:40.885 ( 140.828s) [    7B5A53DD2740]      vtkCGNSReader.cxx:4267  WARN| vtkCGNSReader (0x556deccfba40): Skipping BC_t node: BC_t type 'BCTunnelOutflow' not supported yet.\u001b[0m\n",
      "Computing bounds:  82%|████████▏ | 82/100 [00:18<00:03,  5.32it/s]\u001b[0m\u001b[33m2025-06-07 19:43:40.947 ( 140.890s) [    7B5A53DD2740]      vtkCGNSReader.cxx:4267  WARN| vtkCGNSReader (0x556de83c8d90): Skipping BC_t node: BC_t type 'BCInflow' not supported yet.\u001b[0m\n",
      "\u001b[0m\u001b[33m2025-06-07 19:43:40.947 ( 140.890s) [    7B5A53DD2740]      vtkCGNSReader.cxx:4267  WARN| vtkCGNSReader (0x556de83c8d90): Skipping BC_t node: BC_t type 'BCSymmetryPlane' not supported yet.\u001b[0m\n",
      "\u001b[0m\u001b[33m2025-06-07 19:43:40.947 ( 140.891s) [    7B5A53DD2740]      vtkCGNSReader.cxx:4267  WARN| vtkCGNSReader (0x556de83c8d90): Skipping BC_t node: BC_t type 'BCTunnelOutflow' not supported yet.\u001b[0m\n",
      "\u001b[0m\u001b[33m2025-06-07 19:43:41.019 ( 140.962s) [    7B5A53DD2740]      vtkCGNSReader.cxx:4267  WARN| vtkCGNSReader (0x556dea2e3a20): Skipping BC_t node: BC_t type 'BCInflow' not supported yet.\u001b[0m\n",
      "\u001b[0m\u001b[33m2025-06-07 19:43:41.019 ( 140.962s) [    7B5A53DD2740]      vtkCGNSReader.cxx:4267  WARN| vtkCGNSReader (0x556dea2e3a20): Skipping BC_t node: BC_t type 'BCSymmetryPlane' not supported yet.\u001b[0m\n",
      "\u001b[0m\u001b[33m2025-06-07 19:43:41.019 ( 140.962s) [    7B5A53DD2740]      vtkCGNSReader.cxx:4267  WARN| vtkCGNSReader (0x556dea2e3a20): Skipping BC_t node: BC_t type 'BCTunnelOutflow' not supported yet.\u001b[0m\n",
      "\u001b[0m\u001b[33m2025-06-07 19:43:41.026 ( 140.969s) [    7B5A53DD2740]      vtkCGNSReader.cxx:4267  WARN| vtkCGNSReader (0x556de7e70d70): Skipping BC_t node: BC_t type 'BCInflow' not supported yet.\u001b[0m\n",
      "\u001b[0m\u001b[33m2025-06-07 19:43:41.026 ( 140.969s) [    7B5A53DD2740]      vtkCGNSReader.cxx:4267  WARN| vtkCGNSReader (0x556de7e70d70): Skipping BC_t node: BC_t type 'BCSymmetryPlane' not supported yet.\u001b[0m\n",
      "\u001b[0m\u001b[33m2025-06-07 19:43:41.026 ( 140.969s) [    7B5A53DD2740]      vtkCGNSReader.cxx:4267  WARN| vtkCGNSReader (0x556de7e70d70): Skipping BC_t node: BC_t type 'BCTunnelOutflow' not supported yet.\u001b[0m\n",
      "Computing bounds:  84%|████████▍ | 84/100 [00:18<00:02,  6.05it/s]\u001b[0m\u001b[33m2025-06-07 19:43:41.093 ( 141.036s) [    7B5A53DD2740]      vtkCGNSReader.cxx:4267  WARN| vtkCGNSReader (0x556de7e6f850): Skipping BC_t node: BC_t type 'BCInflow' not supported yet.\u001b[0m\n",
      "\u001b[0m\u001b[33m2025-06-07 19:43:41.093 ( 141.037s) [    7B5A53DD2740]      vtkCGNSReader.cxx:4267  WARN| vtkCGNSReader (0x556de7e6f850): Skipping BC_t node: BC_t type 'BCSymmetryPlane' not supported yet.\u001b[0m\n",
      "\u001b[0m\u001b[33m2025-06-07 19:43:41.094 ( 141.037s) [    7B5A53DD2740]      vtkCGNSReader.cxx:4267  WARN| vtkCGNSReader (0x556de7e6f850): Skipping BC_t node: BC_t type 'BCTunnelOutflow' not supported yet.\u001b[0m\n",
      "\u001b[0m\u001b[33m2025-06-07 19:43:41.274 ( 141.217s) [    7B5A53DD2740]      vtkCGNSReader.cxx:4267  WARN| vtkCGNSReader (0x556de59a4890): Skipping BC_t node: BC_t type 'BCInflow' not supported yet.\u001b[0m\n",
      "\u001b[0m\u001b[33m2025-06-07 19:43:41.274 ( 141.217s) [    7B5A53DD2740]      vtkCGNSReader.cxx:4267  WARN| vtkCGNSReader (0x556de59a4890): Skipping BC_t node: BC_t type 'BCSymmetryPlane' not supported yet.\u001b[0m\n",
      "\u001b[0m\u001b[33m2025-06-07 19:43:41.274 ( 141.217s) [    7B5A53DD2740]      vtkCGNSReader.cxx:4267  WARN| vtkCGNSReader (0x556de59a4890): Skipping BC_t node: BC_t type 'BCTunnelOutflow' not supported yet.\u001b[0m\n",
      "\u001b[0m\u001b[33m2025-06-07 19:43:41.275 ( 141.218s) [    7B5A53DD2740]      vtkCGNSReader.cxx:4267  WARN| vtkCGNSReader (0x556de97cb040): Skipping BC_t node: BC_t type 'BCInflow' not supported yet.\u001b[0m\n",
      "\u001b[0m\u001b[33m2025-06-07 19:43:41.275 ( 141.219s) [    7B5A53DD2740]      vtkCGNSReader.cxx:4267  WARN| vtkCGNSReader (0x556de97cb040): Skipping BC_t node: BC_t type 'BCSymmetryPlane' not supported yet.\u001b[0m\n",
      "\u001b[0m\u001b[33m2025-06-07 19:43:41.276 ( 141.219s) [    7B5A53DD2740]      vtkCGNSReader.cxx:4267  WARN| vtkCGNSReader (0x556de97cb040): Skipping BC_t node: BC_t type 'BCTunnelOutflow' not supported yet.\u001b[0m\n",
      "\u001b[0m\u001b[33m2025-06-07 19:43:41.308 ( 141.251s) [    7B5A53DD2740]      vtkCGNSReader.cxx:4267  WARN| vtkCGNSReader (0x556de95d1200): Skipping BC_t node: BC_t type 'BCInflow' not supported yet.\u001b[0m\n",
      "\u001b[0m\u001b[33m2025-06-07 19:43:41.308 ( 141.251s) [    7B5A53DD2740]      vtkCGNSReader.cxx:4267  WARN| vtkCGNSReader (0x556de95d1200): Skipping BC_t node: BC_t type 'BCSymmetryPlane' not supported yet.\u001b[0m\n",
      "\u001b[0m\u001b[33m2025-06-07 19:43:41.308 ( 141.251s) [    7B5A53DD2740]      vtkCGNSReader.cxx:4267  WARN| vtkCGNSReader (0x556de95d1200): Skipping BC_t node: BC_t type 'BCTunnelOutflow' not supported yet.\u001b[0m\n",
      "\u001b[0m\u001b[33m2025-06-07 19:43:41.341 ( 141.284s) [    7B5A53DD2740]      vtkCGNSReader.cxx:4267  WARN| vtkCGNSReader (0x556de59e0970): Skipping BC_t node: BC_t type 'BCInflow' not supported yet.\u001b[0m\n",
      "\u001b[0m\u001b[33m2025-06-07 19:43:41.341 ( 141.284s) [    7B5A53DD2740]      vtkCGNSReader.cxx:4267  WARN| vtkCGNSReader (0x556de59e0970): Skipping BC_t node: BC_t type 'BCSymmetryPlane' not supported yet.\u001b[0m\n",
      "\u001b[0m\u001b[33m2025-06-07 19:43:41.341 ( 141.284s) [    7B5A53DD2740]      vtkCGNSReader.cxx:4267  WARN| vtkCGNSReader (0x556de59e0970): Skipping BC_t node: BC_t type 'BCTunnelOutflow' not supported yet.\u001b[0m\n",
      "Computing bounds:  87%|████████▋ | 87/100 [00:18<00:01,  6.93it/s]\u001b[0m\u001b[33m2025-06-07 19:43:41.417 ( 141.360s) [    7B5A53DD2740]      vtkCGNSReader.cxx:4267  WARN| vtkCGNSReader (0x556de833b3d0): Skipping BC_t node: BC_t type 'BCInflow' not supported yet.\u001b[0m\n",
      "\u001b[0m\u001b[33m2025-06-07 19:43:41.417 ( 141.360s) [    7B5A53DD2740]      vtkCGNSReader.cxx:4267  WARN| vtkCGNSReader (0x556de833b3d0): Skipping BC_t node: BC_t type 'BCSymmetryPlane' not supported yet.\u001b[0m\n",
      "\u001b[0m\u001b[33m2025-06-07 19:43:41.417 ( 141.360s) [    7B5A53DD2740]      vtkCGNSReader.cxx:4267  WARN| vtkCGNSReader (0x556de833b3d0): Skipping BC_t node: BC_t type 'BCTunnelOutflow' not supported yet.\u001b[0m\n",
      "\u001b[0m\u001b[33m2025-06-07 19:43:41.473 ( 141.417s) [    7B5A53DD2740]      vtkCGNSReader.cxx:4267  WARN| vtkCGNSReader (0x556de830ca40): Skipping BC_t node: BC_t type 'BCInflow' not supported yet.\u001b[0m\n",
      "\u001b[0m\u001b[33m2025-06-07 19:43:41.474 ( 141.417s) [    7B5A53DD2740]      vtkCGNSReader.cxx:4267  WARN| vtkCGNSReader (0x556de830ca40): Skipping BC_t node: BC_t type 'BCSymmetryPlane' not supported yet.\u001b[0m\n",
      "\u001b[0m\u001b[33m2025-06-07 19:43:41.475 ( 141.418s) [    7B5A53DD2740]      vtkCGNSReader.cxx:4267  WARN| vtkCGNSReader (0x556de830ca40): Skipping BC_t node: BC_t type 'BCTunnelOutflow' not supported yet.\u001b[0m\n",
      "Computing bounds:  97%|█████████▋| 97/100 [00:18<00:00, 14.51it/s]\u001b[0m\u001b[33m2025-06-07 19:43:41.563 ( 141.506s) [    7B5A53DD2740]      vtkCGNSReader.cxx:4267  WARN| vtkCGNSReader (0x556de98f4d60): Skipping BC_t node: BC_t type 'BCInflow' not supported yet.\u001b[0m\n",
      "\u001b[0m\u001b[33m2025-06-07 19:43:41.563 ( 141.506s) [    7B5A53DD2740]      vtkCGNSReader.cxx:4267  WARN| vtkCGNSReader (0x556de98f4d60): Skipping BC_t node: BC_t type 'BCSymmetryPlane' not supported yet.\u001b[0m\n",
      "\u001b[0m\u001b[33m2025-06-07 19:43:41.563 ( 141.506s) [    7B5A53DD2740]      vtkCGNSReader.cxx:4267  WARN| vtkCGNSReader (0x556de98f4d60): Skipping BC_t node: BC_t type 'BCTunnelOutflow' not supported yet.\u001b[0m\n",
      "Computing bounds: 100%|██████████| 100/100 [00:18<00:00,  5.31it/s]\n",
      "Voxelizing samples:   0%|          | 0/100 [00:00<?, ?it/s]\u001b[0m\u001b[33m2025-06-07 19:43:45.378 ( 145.321s) [    7B5A53DD2740]      vtkCGNSReader.cxx:4267  WARN| vtkCGNSReader (0x556ddfe35b50): Skipping BC_t node: BC_t type 'BCInflow' not supported yet.\u001b[0m\n",
      "\u001b[0m\u001b[33m2025-06-07 19:43:45.378 ( 145.321s) [    7B5A53DD2740]      vtkCGNSReader.cxx:4267  WARN| vtkCGNSReader (0x556ddfe35b50): Skipping BC_t node: BC_t type 'BCSymmetryPlane' not supported yet.\u001b[0m\n",
      "\u001b[0m\u001b[33m2025-06-07 19:43:45.378 ( 145.321s) [    7B5A53DD2740]      vtkCGNSReader.cxx:4267  WARN| vtkCGNSReader (0x556ddfe35b50): Skipping BC_t node: BC_t type 'BCTunnelOutflow' not supported yet.\u001b[0m\n",
      "\u001b[0m\u001b[33m2025-06-07 19:43:45.704 ( 145.647s) [    7B5A53DD2740]      vtkCGNSReader.cxx:4267  WARN| vtkCGNSReader (0x556ddfe35b50): Skipping BC_t node: BC_t type 'BCInflow' not supported yet.\u001b[0m\n",
      "\u001b[0m\u001b[33m2025-06-07 19:43:45.704 ( 145.647s) [    7B5A53DD2740]      vtkCGNSReader.cxx:4267  WARN| vtkCGNSReader (0x556ddfe35b50): Skipping BC_t node: BC_t type 'BCSymmetryPlane' not supported yet.\u001b[0m\n",
      "\u001b[0m\u001b[33m2025-06-07 19:43:45.704 ( 145.648s) [    7B5A53DD2740]      vtkCGNSReader.cxx:4267  WARN| vtkCGNSReader (0x556ddfe35b50): Skipping BC_t node: BC_t type 'BCTunnelOutflow' not supported yet.\u001b[0m\n",
      "\u001b[0m\u001b[33m2025-06-07 19:43:45.896 ( 145.839s) [    7B5A53DD2740]      vtkCGNSReader.cxx:4267  WARN| vtkCGNSReader (0x556ddfe35b50): Skipping BC_t node: BC_t type 'BCInflow' not supported yet.\u001b[0m\n",
      "\u001b[0m\u001b[33m2025-06-07 19:43:45.896 ( 145.839s) [    7B5A53DD2740]      vtkCGNSReader.cxx:4267  WARN| vtkCGNSReader (0x556ddfe35b50): Skipping BC_t node: BC_t type 'BCSymmetryPlane' not supported yet.\u001b[0m\n",
      "\u001b[0m\u001b[33m2025-06-07 19:43:45.896 ( 145.839s) [    7B5A53DD2740]      vtkCGNSReader.cxx:4267  WARN| vtkCGNSReader (0x556ddfe35b50): Skipping BC_t node: BC_t type 'BCTunnelOutflow' not supported yet.\u001b[0m\n",
      "\u001b[0m\u001b[33m2025-06-07 19:43:46.054 ( 145.997s) [    7B5A53DD2740]      vtkCGNSReader.cxx:4267  WARN| vtkCGNSReader (0x556ddfe35b50): Skipping BC_t node: BC_t type 'BCInflow' not supported yet.\u001b[0m\n",
      "\u001b[0m\u001b[33m2025-06-07 19:43:46.054 ( 145.997s) [    7B5A53DD2740]      vtkCGNSReader.cxx:4267  WARN| vtkCGNSReader (0x556ddfe35b50): Skipping BC_t node: BC_t type 'BCSymmetryPlane' not supported yet.\u001b[0m\n",
      "\u001b[0m\u001b[33m2025-06-07 19:43:46.054 ( 145.998s) [    7B5A53DD2740]      vtkCGNSReader.cxx:4267  WARN| vtkCGNSReader (0x556ddfe35b50): Skipping BC_t node: BC_t type 'BCTunnelOutflow' not supported yet.\u001b[0m\n",
      "\u001b[0m\u001b[33m2025-06-07 19:43:46.167 ( 146.110s) [    7B5A53DD2740]      vtkCGNSReader.cxx:4267  WARN| vtkCGNSReader (0x556ddfe35b50): Skipping BC_t node: BC_t type 'BCInflow' not supported yet.\u001b[0m\n",
      "\u001b[0m\u001b[33m2025-06-07 19:43:46.167 ( 146.110s) [    7B5A53DD2740]      vtkCGNSReader.cxx:4267  WARN| vtkCGNSReader (0x556ddfe35b50): Skipping BC_t node: BC_t type 'BCSymmetryPlane' not supported yet.\u001b[0m\n",
      "\u001b[0m\u001b[33m2025-06-07 19:43:46.167 ( 146.110s) [    7B5A53DD2740]      vtkCGNSReader.cxx:4267  WARN| vtkCGNSReader (0x556ddfe35b50): Skipping BC_t node: BC_t type 'BCTunnelOutflow' not supported yet.\u001b[0m\n",
      "\u001b[0m\u001b[33m2025-06-07 19:43:46.258 ( 146.201s) [    7B5A53DD2740]      vtkCGNSReader.cxx:4267  WARN| vtkCGNSReader (0x556ddfe35b50): Skipping BC_t node: BC_t type 'BCInflow' not supported yet.\u001b[0m\n",
      "\u001b[0m\u001b[33m2025-06-07 19:43:46.258 ( 146.201s) [    7B5A53DD2740]      vtkCGNSReader.cxx:4267  WARN| vtkCGNSReader (0x556ddfe35b50): Skipping BC_t node: BC_t type 'BCSymmetryPlane' not supported yet.\u001b[0m\n",
      "\u001b[0m\u001b[33m2025-06-07 19:43:46.258 ( 146.201s) [    7B5A53DD2740]      vtkCGNSReader.cxx:4267  WARN| vtkCGNSReader (0x556ddfe35b50): Skipping BC_t node: BC_t type 'BCTunnelOutflow' not supported yet.\u001b[0m\n",
      "\u001b[0m\u001b[33m2025-06-07 19:43:46.364 ( 146.307s) [    7B5A53DD2740]      vtkCGNSReader.cxx:4267  WARN| vtkCGNSReader (0x556ddfe35b50): Skipping BC_t node: BC_t type 'BCInflow' not supported yet.\u001b[0m\n",
      "\u001b[0m\u001b[33m2025-06-07 19:43:46.364 ( 146.308s) [    7B5A53DD2740]      vtkCGNSReader.cxx:4267  WARN| vtkCGNSReader (0x556ddfe35b50): Skipping BC_t node: BC_t type 'BCSymmetryPlane' not supported yet.\u001b[0m\n",
      "\u001b[0m\u001b[33m2025-06-07 19:43:46.365 ( 146.308s) [    7B5A53DD2740]      vtkCGNSReader.cxx:4267  WARN| vtkCGNSReader (0x556ddfe35b50): Skipping BC_t node: BC_t type 'BCTunnelOutflow' not supported yet.\u001b[0m\n",
      "\u001b[0m\u001b[33m2025-06-07 19:43:46.424 ( 146.367s) [    7B5A53DD2740]      vtkCGNSReader.cxx:4267  WARN| vtkCGNSReader (0x556ddfe35b50): Skipping BC_t node: BC_t type 'BCInflow' not supported yet.\u001b[0m\n",
      "\u001b[0m\u001b[33m2025-06-07 19:43:46.424 ( 146.367s) [    7B5A53DD2740]      vtkCGNSReader.cxx:4267  WARN| vtkCGNSReader (0x556ddfe35b50): Skipping BC_t node: BC_t type 'BCSymmetryPlane' not supported yet.\u001b[0m\n",
      "\u001b[0m\u001b[33m2025-06-07 19:43:46.431 ( 146.374s) [    7B5A53DD2740]      vtkCGNSReader.cxx:4267  WARN| vtkCGNSReader (0x556ddfe35b50): Skipping BC_t node: BC_t type 'BCTunnelOutflow' not supported yet.\u001b[0m\n",
      "\u001b[0m\u001b[33m2025-06-07 19:43:46.509 ( 146.452s) [    7B5A53DD2740]      vtkCGNSReader.cxx:4267  WARN| vtkCGNSReader (0x556ddfe35b50): Skipping BC_t node: BC_t type 'BCInflow' not supported yet.\u001b[0m\n",
      "\u001b[0m\u001b[33m2025-06-07 19:43:46.509 ( 146.452s) [    7B5A53DD2740]      vtkCGNSReader.cxx:4267  WARN| vtkCGNSReader (0x556ddfe35b50): Skipping BC_t node: BC_t type 'BCSymmetryPlane' not supported yet.\u001b[0m\n",
      "\u001b[0m\u001b[33m2025-06-07 19:43:46.511 ( 146.454s) [    7B5A53DD2740]      vtkCGNSReader.cxx:4267  WARN| vtkCGNSReader (0x556ddfe35b50): Skipping BC_t node: BC_t type 'BCInflow' not supported yet.\u001b[0m\n",
      "\u001b[0m\u001b[33m2025-06-07 19:43:46.511 ( 146.454s) [    7B5A53DD2740]      vtkCGNSReader.cxx:4267  WARN| vtkCGNSReader (0x556ddfe35b50): Skipping BC_t node: BC_t type 'BCSymmetryPlane' not supported yet.\u001b[0m\n",
      "\u001b[0m\u001b[33m2025-06-07 19:43:46.511 ( 146.454s) [    7B5A53DD2740]      vtkCGNSReader.cxx:4267  WARN| vtkCGNSReader (0x556ddfe35b50): Skipping BC_t node: BC_t type 'BCTunnelOutflow' not supported yet.\u001b[0m\n",
      "\u001b[0m\u001b[33m2025-06-07 19:43:46.513 ( 146.456s) [    7B5A53DD2740]      vtkCGNSReader.cxx:4267  WARN| vtkCGNSReader (0x556ddfe35b50): Skipping BC_t node: BC_t type 'BCTunnelOutflow' not supported yet.\u001b[0m\n",
      "\u001b[0m\u001b[33m2025-06-07 19:43:46.550 ( 146.493s) [    7B5A53DD2740]      vtkCGNSReader.cxx:4267  WARN| vtkCGNSReader (0x556ddfe35b50): Skipping BC_t node: BC_t type 'BCInflow' not supported yet.\u001b[0m\n",
      "\u001b[0m\u001b[33m2025-06-07 19:43:46.550 ( 146.493s) [    7B5A53DD2740]      vtkCGNSReader.cxx:4267  WARN| vtkCGNSReader (0x556ddfe35b50): Skipping BC_t node: BC_t type 'BCSymmetryPlane' not supported yet.\u001b[0m\n",
      "\u001b[0m\u001b[33m2025-06-07 19:43:46.552 ( 146.495s) [    7B5A53DD2740]      vtkCGNSReader.cxx:4267  WARN| vtkCGNSReader (0x556ddfe35b50): Skipping BC_t node: BC_t type 'BCInflow' not supported yet.\u001b[0m\n",
      "\u001b[0m\u001b[33m2025-06-07 19:43:46.552 ( 146.495s) [    7B5A53DD2740]      vtkCGNSReader.cxx:4267  WARN| vtkCGNSReader (0x556ddfe35b50): Skipping BC_t node: BC_t type 'BCSymmetryPlane' not supported yet.\u001b[0m\n",
      "\u001b[0m\u001b[33m2025-06-07 19:43:46.552 ( 146.495s) [    7B5A53DD2740]      vtkCGNSReader.cxx:4267  WARN| vtkCGNSReader (0x556ddfe35b50): Skipping BC_t node: BC_t type 'BCTunnelOutflow' not supported yet.\u001b[0m\n",
      "\u001b[0m\u001b[33m2025-06-07 19:43:46.561 ( 146.504s) [    7B5A53DD2740]      vtkCGNSReader.cxx:4267  WARN| vtkCGNSReader (0x556ddfe35b50): Skipping BC_t node: BC_t type 'BCTunnelOutflow' not supported yet.\u001b[0m\n",
      "\u001b[0m\u001b[33m2025-06-07 19:43:46.600 ( 146.543s) [    7B5A53DD2740]      vtkCGNSReader.cxx:4267  WARN| vtkCGNSReader (0x556ddfe35b50): Skipping BC_t node: BC_t type 'BCInflow' not supported yet.\u001b[0m\n",
      "\u001b[0m\u001b[33m2025-06-07 19:43:46.600 ( 146.543s) [    7B5A53DD2740]      vtkCGNSReader.cxx:4267  WARN| vtkCGNSReader (0x556ddfe35b50): Skipping BC_t node: BC_t type 'BCSymmetryPlane' not supported yet.\u001b[0m\n",
      "\u001b[0m\u001b[33m2025-06-07 19:43:46.600 ( 146.543s) [    7B5A53DD2740]      vtkCGNSReader.cxx:4267  WARN| vtkCGNSReader (0x556ddfe35b50): Skipping BC_t node: BC_t type 'BCTunnelOutflow' not supported yet.\u001b[0m\n",
      "\u001b[0m\u001b[33m2025-06-07 19:43:46.719 ( 146.662s) [    7B5A53DD2740]      vtkCGNSReader.cxx:4267  WARN| vtkCGNSReader (0x556ddfe35b50): Skipping BC_t node: BC_t type 'BCInflow' not supported yet.\u001b[0m\n",
      "\u001b[0m\u001b[33m2025-06-07 19:43:46.720 ( 146.663s) [    7B5A53DD2740]      vtkCGNSReader.cxx:4267  WARN| vtkCGNSReader (0x556ddfe35b50): Skipping BC_t node: BC_t type 'BCSymmetryPlane' not supported yet.\u001b[0m\n",
      "\u001b[0m\u001b[33m2025-06-07 19:43:46.721 ( 146.664s) [    7B5A53DD2740]      vtkCGNSReader.cxx:4267  WARN| vtkCGNSReader (0x556ddfe35b50): Skipping BC_t node: BC_t type 'BCTunnelOutflow' not supported yet.\u001b[0m\n",
      "\u001b[0m\u001b[33m2025-06-07 19:43:46.766 ( 146.709s) [    7B5A53DD2740]      vtkCGNSReader.cxx:4267  WARN| vtkCGNSReader (0x556ddfe35b50): Skipping BC_t node: BC_t type 'BCInflow' not supported yet.\u001b[0m\n",
      "\u001b[0m\u001b[33m2025-06-07 19:43:46.766 ( 146.710s) [    7B5A53DD2740]      vtkCGNSReader.cxx:4267  WARN| vtkCGNSReader (0x556ddfe35b50): Skipping BC_t node: BC_t type 'BCSymmetryPlane' not supported yet.\u001b[0m\n",
      "\u001b[0m\u001b[33m2025-06-07 19:43:46.767 ( 146.710s) [    7B5A53DD2740]      vtkCGNSReader.cxx:4267  WARN| vtkCGNSReader (0x556ddfe35b50): Skipping BC_t node: BC_t type 'BCTunnelOutflow' not supported yet.\u001b[0m\n",
      "\u001b[0m\u001b[33m2025-06-07 19:43:46.809 ( 146.752s) [    7B5A53DD2740]      vtkCGNSReader.cxx:4267  WARN| vtkCGNSReader (0x556ddfe35b50): Skipping BC_t node: BC_t type 'BCInflow' not supported yet.\u001b[0m\n",
      "\u001b[0m\u001b[33m2025-06-07 19:43:46.809 ( 146.752s) [    7B5A53DD2740]      vtkCGNSReader.cxx:4267  WARN| vtkCGNSReader (0x556ddfe35b50): Skipping BC_t node: BC_t type 'BCSymmetryPlane' not supported yet.\u001b[0m\n",
      "\u001b[0m\u001b[33m2025-06-07 19:43:46.823 ( 146.766s) [    7B5A53DD2740]      vtkCGNSReader.cxx:4267  WARN| vtkCGNSReader (0x556ddfe35b50): Skipping BC_t node: BC_t type 'BCTunnelOutflow' not supported yet.\u001b[0m\n",
      "\u001b[0m\u001b[33m2025-06-07 19:43:46.830 ( 146.774s) [    7B5A53DD2740]      vtkCGNSReader.cxx:4267  WARN| vtkCGNSReader (0x556ddfe35b50): Skipping BC_t node: BC_t type 'BCInflow' not supported yet.\u001b[0m\n",
      "\u001b[0m\u001b[33m2025-06-07 19:43:46.831 ( 146.774s) [    7B5A53DD2740]      vtkCGNSReader.cxx:4267  WARN| vtkCGNSReader (0x556ddfe35b50): Skipping BC_t node: BC_t type 'BCSymmetryPlane' not supported yet.\u001b[0m\n",
      "\u001b[0m\u001b[33m2025-06-07 19:43:46.831 ( 146.774s) [    7B5A53DD2740]      vtkCGNSReader.cxx:4267  WARN| vtkCGNSReader (0x556ddfe35b50): Skipping BC_t node: BC_t type 'BCTunnelOutflow' not supported yet.\u001b[0m\n",
      "\u001b[0m\u001b[33m2025-06-07 19:43:46.849 ( 146.792s) [    7B5A53DD2740]      vtkCGNSReader.cxx:4267  WARN| vtkCGNSReader (0x556ddfe35b50): Skipping BC_t node: BC_t type 'BCInflow' not supported yet.\u001b[0m\n",
      "\u001b[0m\u001b[33m2025-06-07 19:43:46.849 ( 146.792s) [    7B5A53DD2740]      vtkCGNSReader.cxx:4267  WARN| vtkCGNSReader (0x556ddfe35b50): Skipping BC_t node: BC_t type 'BCSymmetryPlane' not supported yet.\u001b[0m\n",
      "\u001b[0m\u001b[33m2025-06-07 19:43:46.849 ( 146.792s) [    7B5A53DD2740]      vtkCGNSReader.cxx:4267  WARN| vtkCGNSReader (0x556ddfe35b50): Skipping BC_t node: BC_t type 'BCTunnelOutflow' not supported yet.\u001b[0m\n",
      "\u001b[0m\u001b[33m2025-06-07 19:43:46.886 ( 146.829s) [    7B5A53DD2740]      vtkCGNSReader.cxx:4267  WARN| vtkCGNSReader (0x556ddfe35b50): Skipping BC_t node: BC_t type 'BCInflow' not supported yet.\u001b[0m\n",
      "\u001b[0m\u001b[33m2025-06-07 19:43:46.886 ( 146.829s) [    7B5A53DD2740]      vtkCGNSReader.cxx:4267  WARN| vtkCGNSReader (0x556ddfe35b50): Skipping BC_t node: BC_t type 'BCSymmetryPlane' not supported yet.\u001b[0m\n",
      "\u001b[0m\u001b[33m2025-06-07 19:43:46.886 ( 146.829s) [    7B5A53DD2740]      vtkCGNSReader.cxx:4267  WARN| vtkCGNSReader (0x556ddfe35b50): Skipping BC_t node: BC_t type 'BCTunnelOutflow' not supported yet.\u001b[0m\n",
      "\u001b[0m\u001b[33m2025-06-07 19:43:46.890 ( 146.833s) [    7B5A53DD2740]      vtkCGNSReader.cxx:4267  WARN| vtkCGNSReader (0x556ddfe35b50): Skipping BC_t node: BC_t type 'BCInflow' not supported yet.\u001b[0m\n",
      "\u001b[0m\u001b[33m2025-06-07 19:43:46.891 ( 146.834s) [    7B5A53DD2740]      vtkCGNSReader.cxx:4267  WARN| vtkCGNSReader (0x556ddfe35b50): Skipping BC_t node: BC_t type 'BCSymmetryPlane' not supported yet.\u001b[0m\n",
      "\u001b[0m\u001b[33m2025-06-07 19:43:46.891 ( 146.834s) [    7B5A53DD2740]      vtkCGNSReader.cxx:4267  WARN| vtkCGNSReader (0x556ddfe35b50): Skipping BC_t node: BC_t type 'BCTunnelOutflow' not supported yet.\u001b[0m\n",
      "Voxelizing samples:   2%|▏         | 2/100 [00:09<06:09,  3.77s/it]\u001b[0m\u001b[33m2025-06-07 19:43:51.533 ( 151.476s) [    7B5A53DD2740]      vtkCGNSReader.cxx:4267  WARN| vtkCGNSReader (0x556deaa69160): Skipping BC_t node: BC_t type 'BCInflow' not supported yet.\u001b[0m\n",
      "\u001b[0m\u001b[33m2025-06-07 19:43:51.533 ( 151.476s) [    7B5A53DD2740]      vtkCGNSReader.cxx:4267  WARN| vtkCGNSReader (0x556deaa69160): Skipping BC_t node: BC_t type 'BCSymmetryPlane' not supported yet.\u001b[0m\n",
      "\u001b[0m\u001b[33m2025-06-07 19:43:51.533 ( 151.476s) [    7B5A53DD2740]      vtkCGNSReader.cxx:4267  WARN| vtkCGNSReader (0x556deaa69160): Skipping BC_t node: BC_t type 'BCTunnelOutflow' not supported yet.\u001b[0m\n",
      "\u001b[0m\u001b[33m2025-06-07 19:43:51.789 ( 151.732s) [    7B5A53DD2740]      vtkCGNSReader.cxx:4267  WARN| vtkCGNSReader (0x556dec6f6140): Skipping BC_t node: BC_t type 'BCInflow' not supported yet.\u001b[0m\n",
      "\u001b[0m\u001b[33m2025-06-07 19:43:51.795 ( 151.738s) [    7B5A53DD2740]      vtkCGNSReader.cxx:4267  WARN| vtkCGNSReader (0x556dec6f6140): Skipping BC_t node: BC_t type 'BCSymmetryPlane' not supported yet.\u001b[0m\n",
      "\u001b[0m\u001b[33m2025-06-07 19:43:51.795 ( 151.738s) [    7B5A53DD2740]      vtkCGNSReader.cxx:4267  WARN| vtkCGNSReader (0x556dec6f6140): Skipping BC_t node: BC_t type 'BCTunnelOutflow' not supported yet.\u001b[0m\n",
      "\u001b[0m\u001b[33m2025-06-07 19:43:52.853 ( 152.796s) [    7B5A53DD2740]      vtkCGNSReader.cxx:4267  WARN| vtkCGNSReader (0x556dea472e50): Skipping BC_t node: BC_t type 'BCInflow' not supported yet.\u001b[0m\n",
      "\u001b[0m\u001b[33m2025-06-07 19:43:52.854 ( 152.797s) [    7B5A53DD2740]      vtkCGNSReader.cxx:4267  WARN| vtkCGNSReader (0x556dea472e50): Skipping BC_t node: BC_t type 'BCSymmetryPlane' not supported yet.\u001b[0m\n",
      "\u001b[0m\u001b[33m2025-06-07 19:43:52.854 ( 152.797s) [    7B5A53DD2740]      vtkCGNSReader.cxx:4267  WARN| vtkCGNSReader (0x556dea472e50): Skipping BC_t node: BC_t type 'BCTunnelOutflow' not supported yet.\u001b[0m\n",
      "\u001b[0m\u001b[33m2025-06-07 19:43:52.955 ( 152.898s) [    7B5A53DD2740]      vtkCGNSReader.cxx:4267  WARN| vtkCGNSReader (0x556deb27ea10): Skipping BC_t node: BC_t type 'BCInflow' not supported yet.\u001b[0m\n",
      "\u001b[0m\u001b[33m2025-06-07 19:43:52.955 ( 152.898s) [    7B5A53DD2740]      vtkCGNSReader.cxx:4267  WARN| vtkCGNSReader (0x556deb27ea10): Skipping BC_t node: BC_t type 'BCSymmetryPlane' not supported yet.\u001b[0m\n",
      "\u001b[0m\u001b[33m2025-06-07 19:43:52.955 ( 152.898s) [    7B5A53DD2740]      vtkCGNSReader.cxx:4267  WARN| vtkCGNSReader (0x556deb27ea10): Skipping BC_t node: BC_t type 'BCTunnelOutflow' not supported yet.\u001b[0m\n",
      "\u001b[0m\u001b[33m2025-06-07 19:43:52.988 ( 152.931s) [    7B5A53DD2740]      vtkCGNSReader.cxx:4267  WARN| vtkCGNSReader (0x556dea512160): Skipping BC_t node: BC_t type 'BCInflow' not supported yet.\u001b[0m\n",
      "\u001b[0m\u001b[33m2025-06-07 19:43:52.988 ( 152.931s) [    7B5A53DD2740]      vtkCGNSReader.cxx:4267  WARN| vtkCGNSReader (0x556dea512160): Skipping BC_t node: BC_t type 'BCSymmetryPlane' not supported yet.\u001b[0m\n",
      "\u001b[0m\u001b[33m2025-06-07 19:43:52.988 ( 152.931s) [    7B5A53DD2740]      vtkCGNSReader.cxx:4267  WARN| vtkCGNSReader (0x556dea512160): Skipping BC_t node: BC_t type 'BCTunnelOutflow' not supported yet.\u001b[0m\n",
      "\u001b[0m\u001b[33m2025-06-07 19:43:53.249 ( 153.192s) [    7B5A53DD2740]      vtkCGNSReader.cxx:4267  WARN| vtkCGNSReader (0x556dea3b1b90): Skipping BC_t node: BC_t type 'BCInflow' not supported yet.\u001b[0m\n",
      "\u001b[0m\u001b[33m2025-06-07 19:43:53.249 ( 153.192s) [    7B5A53DD2740]      vtkCGNSReader.cxx:4267  WARN| vtkCGNSReader (0x556dea3b1b90): Skipping BC_t node: BC_t type 'BCSymmetryPlane' not supported yet.\u001b[0m\n",
      "\u001b[0m\u001b[33m2025-06-07 19:43:53.249 ( 153.192s) [    7B5A53DD2740]      vtkCGNSReader.cxx:4267  WARN| vtkCGNSReader (0x556dea3b1b90): Skipping BC_t node: BC_t type 'BCTunnelOutflow' not supported yet.\u001b[0m\n",
      "\u001b[0m\u001b[33m2025-06-07 19:43:53.271 ( 153.214s) [    7B5A53DD2740]      vtkCGNSReader.cxx:4267  WARN| vtkCGNSReader (0x556decd773a0): Skipping BC_t node: BC_t type 'BCInflow' not supported yet.\u001b[0m\n",
      "\u001b[0m\u001b[33m2025-06-07 19:43:53.271 ( 153.214s) [    7B5A53DD2740]      vtkCGNSReader.cxx:4267  WARN| vtkCGNSReader (0x556decd773a0): Skipping BC_t node: BC_t type 'BCSymmetryPlane' not supported yet.\u001b[0m\n",
      "\u001b[0m\u001b[33m2025-06-07 19:43:53.271 ( 153.214s) [    7B5A53DD2740]      vtkCGNSReader.cxx:4267  WARN| vtkCGNSReader (0x556decd773a0): Skipping BC_t node: BC_t type 'BCTunnelOutflow' not supported yet.\u001b[0m\n",
      "\u001b[0m\u001b[33m2025-06-07 19:43:53.651 ( 153.594s) [    7B5A53DD2740]      vtkCGNSReader.cxx:4267  WARN| vtkCGNSReader (0x556dea610a40): Skipping BC_t node: BC_t type 'BCInflow' not supported yet.\u001b[0m\n",
      "\u001b[0m\u001b[33m2025-06-07 19:43:53.654 ( 153.597s) [    7B5A53DD2740]      vtkCGNSReader.cxx:4267  WARN| vtkCGNSReader (0x556dea610a40): Skipping BC_t node: BC_t type 'BCSymmetryPlane' not supported yet.\u001b[0m\n",
      "\u001b[0m\u001b[33m2025-06-07 19:43:53.662 ( 153.605s) [    7B5A53DD2740]      vtkCGNSReader.cxx:4267  WARN| vtkCGNSReader (0x556dea610a40): Skipping BC_t node: BC_t type 'BCTunnelOutflow' not supported yet.\u001b[0m\n",
      "\u001b[0m\u001b[33m2025-06-07 19:43:53.665 ( 153.608s) [    7B5A53DD2740]      vtkCGNSReader.cxx:4267  WARN| vtkCGNSReader (0x556dea197a50): Skipping BC_t node: BC_t type 'BCInflow' not supported yet.\u001b[0m\n",
      "\u001b[0m\u001b[33m2025-06-07 19:43:53.665 ( 153.608s) [    7B5A53DD2740]      vtkCGNSReader.cxx:4267  WARN| vtkCGNSReader (0x556dea197a50): Skipping BC_t node: BC_t type 'BCSymmetryPlane' not supported yet.\u001b[0m\n",
      "\u001b[0m\u001b[33m2025-06-07 19:43:53.665 ( 153.608s) [    7B5A53DD2740]      vtkCGNSReader.cxx:4267  WARN| vtkCGNSReader (0x556dea197a50): Skipping BC_t node: BC_t type 'BCTunnelOutflow' not supported yet.\u001b[0m\n",
      "\u001b[0m\u001b[33m2025-06-07 19:43:53.832 ( 153.775s) [    7B5A53DD2740]      vtkCGNSReader.cxx:4267  WARN| vtkCGNSReader (0x556deb025da0): Skipping BC_t node: BC_t type 'BCInflow' not supported yet.\u001b[0m\n",
      "\u001b[0m\u001b[33m2025-06-07 19:43:53.832 ( 153.775s) [    7B5A53DD2740]      vtkCGNSReader.cxx:4267  WARN| vtkCGNSReader (0x556deb025da0): Skipping BC_t node: BC_t type 'BCSymmetryPlane' not supported yet.\u001b[0m\n",
      "\u001b[0m\u001b[33m2025-06-07 19:43:53.832 ( 153.775s) [    7B5A53DD2740]      vtkCGNSReader.cxx:4267  WARN| vtkCGNSReader (0x556deb025da0): Skipping BC_t node: BC_t type 'BCTunnelOutflow' not supported yet.\u001b[0m\n",
      "\u001b[0m\u001b[33m2025-06-07 19:43:53.962 ( 153.905s) [    7B5A53DD2740]      vtkCGNSReader.cxx:4267  WARN| vtkCGNSReader (0x556dea1c0de0): Skipping BC_t node: BC_t type 'BCInflow' not supported yet.\u001b[0m\n",
      "\u001b[0m\u001b[33m2025-06-07 19:43:53.962 ( 153.905s) [    7B5A53DD2740]      vtkCGNSReader.cxx:4267  WARN| vtkCGNSReader (0x556dea1c0de0): Skipping BC_t node: BC_t type 'BCSymmetryPlane' not supported yet.\u001b[0m\n",
      "\u001b[0m\u001b[33m2025-06-07 19:43:53.962 ( 153.905s) [    7B5A53DD2740]      vtkCGNSReader.cxx:4267  WARN| vtkCGNSReader (0x556dea1c0de0): Skipping BC_t node: BC_t type 'BCTunnelOutflow' not supported yet.\u001b[0m\n",
      "\u001b[0m\u001b[33m2025-06-07 19:43:53.999 ( 153.942s) [    7B5A53DD2740]      vtkCGNSReader.cxx:4267  WARN| vtkCGNSReader (0x556dea456bb0): Skipping BC_t node: BC_t type 'BCInflow' not supported yet.\u001b[0m\n",
      "\u001b[0m\u001b[33m2025-06-07 19:43:53.999 ( 153.942s) [    7B5A53DD2740]      vtkCGNSReader.cxx:4267  WARN| vtkCGNSReader (0x556dea456bb0): Skipping BC_t node: BC_t type 'BCSymmetryPlane' not supported yet.\u001b[0m\n",
      "\u001b[0m\u001b[33m2025-06-07 19:43:53.999 ( 153.942s) [    7B5A53DD2740]      vtkCGNSReader.cxx:4267  WARN| vtkCGNSReader (0x556dea456bb0): Skipping BC_t node: BC_t type 'BCTunnelOutflow' not supported yet.\u001b[0m\n",
      "\u001b[0m\u001b[33m2025-06-07 19:43:54.091 ( 154.035s) [    7B5A53DD2740]      vtkCGNSReader.cxx:4267  WARN| vtkCGNSReader (0x556dea86c210): Skipping BC_t node: BC_t type 'BCInflow' not supported yet.\u001b[0m\n",
      "\u001b[0m\u001b[33m2025-06-07 19:43:54.092 ( 154.035s) [    7B5A53DD2740]      vtkCGNSReader.cxx:4267  WARN| vtkCGNSReader (0x556dea86c210): Skipping BC_t node: BC_t type 'BCSymmetryPlane' not supported yet.\u001b[0m\n",
      "\u001b[0m\u001b[33m2025-06-07 19:43:54.092 ( 154.035s) [    7B5A53DD2740]      vtkCGNSReader.cxx:4267  WARN| vtkCGNSReader (0x556dea86c210): Skipping BC_t node: BC_t type 'BCTunnelOutflow' not supported yet.\u001b[0m\n",
      "\u001b[0m\u001b[33m2025-06-07 19:43:54.225 ( 154.168s) [    7B5A53DD2740]      vtkCGNSReader.cxx:4267  WARN| vtkCGNSReader (0x556decd1b420): Skipping BC_t node: BC_t type 'BCInflow' not supported yet.\u001b[0m\n",
      "\u001b[0m\u001b[33m2025-06-07 19:43:54.225 ( 154.168s) [    7B5A53DD2740]      vtkCGNSReader.cxx:4267  WARN| vtkCGNSReader (0x556decd1b420): Skipping BC_t node: BC_t type 'BCSymmetryPlane' not supported yet.\u001b[0m\n",
      "\u001b[0m\u001b[33m2025-06-07 19:43:54.225 ( 154.168s) [    7B5A53DD2740]      vtkCGNSReader.cxx:4267  WARN| vtkCGNSReader (0x556decd1b420): Skipping BC_t node: BC_t type 'BCTunnelOutflow' not supported yet.\u001b[0m\n",
      "\u001b[0m\u001b[33m2025-06-07 19:43:54.290 ( 154.233s) [    7B5A53DD2740]      vtkCGNSReader.cxx:4267  WARN| vtkCGNSReader (0x556decfe2c70): Skipping BC_t node: BC_t type 'BCInflow' not supported yet.\u001b[0m\n",
      "\u001b[0m\u001b[33m2025-06-07 19:43:54.290 ( 154.233s) [    7B5A53DD2740]      vtkCGNSReader.cxx:4267  WARN| vtkCGNSReader (0x556decfe2c70): Skipping BC_t node: BC_t type 'BCSymmetryPlane' not supported yet.\u001b[0m\n",
      "\u001b[0m\u001b[33m2025-06-07 19:43:54.290 ( 154.233s) [    7B5A53DD2740]      vtkCGNSReader.cxx:4267  WARN| vtkCGNSReader (0x556decfe2c70): Skipping BC_t node: BC_t type 'BCTunnelOutflow' not supported yet.\u001b[0m\n",
      "\u001b[0m\u001b[33m2025-06-07 19:43:54.475 ( 154.418s) [    7B5A53DD2740]      vtkCGNSReader.cxx:4267  WARN| vtkCGNSReader (0x556de7ee1240): Skipping BC_t node: BC_t type 'BCInflow' not supported yet.\u001b[0m\n",
      "\u001b[0m\u001b[33m2025-06-07 19:43:54.475 ( 154.418s) [    7B5A53DD2740]      vtkCGNSReader.cxx:4267  WARN| vtkCGNSReader (0x556de7ee1240): Skipping BC_t node: BC_t type 'BCSymmetryPlane' not supported yet.\u001b[0m\n",
      "\u001b[0m\u001b[33m2025-06-07 19:43:54.475 ( 154.418s) [    7B5A53DD2740]      vtkCGNSReader.cxx:4267  WARN| vtkCGNSReader (0x556de7ee1240): Skipping BC_t node: BC_t type 'BCTunnelOutflow' not supported yet.\u001b[0m\n",
      "\u001b[0m\u001b[33m2025-06-07 19:43:54.567 ( 154.510s) [    7B5A53DD2740]      vtkCGNSReader.cxx:4267  WARN| vtkCGNSReader (0x556debcf2fe0): Skipping BC_t node: BC_t type 'BCInflow' not supported yet.\u001b[0m\n",
      "\u001b[0m\u001b[33m2025-06-07 19:43:54.573 ( 154.516s) [    7B5A53DD2740]      vtkCGNSReader.cxx:4267  WARN| vtkCGNSReader (0x556debcf2fe0): Skipping BC_t node: BC_t type 'BCSymmetryPlane' not supported yet.\u001b[0m\n",
      "\u001b[0m\u001b[33m2025-06-07 19:43:54.576 ( 154.519s) [    7B5A53DD2740]      vtkCGNSReader.cxx:4267  WARN| vtkCGNSReader (0x556debcf2fe0): Skipping BC_t node: BC_t type 'BCTunnelOutflow' not supported yet.\u001b[0m\n",
      "Voxelizing samples:  21%|██        | 21/100 [00:12<00:30,  2.55it/s]\u001b[0m\u001b[33m2025-06-07 19:43:54.885 ( 154.828s) [    7B5A53DD2740]      vtkCGNSReader.cxx:4267  WARN| vtkCGNSReader (0x556deb008990): Skipping BC_t node: BC_t type 'BCInflow' not supported yet.\u001b[0m\n",
      "\u001b[0m\u001b[33m2025-06-07 19:43:54.885 ( 154.828s) [    7B5A53DD2740]      vtkCGNSReader.cxx:4267  WARN| vtkCGNSReader (0x556deb008990): Skipping BC_t node: BC_t type 'BCSymmetryPlane' not supported yet.\u001b[0m\n",
      "\u001b[0m\u001b[33m2025-06-07 19:43:54.885 ( 154.828s) [    7B5A53DD2740]      vtkCGNSReader.cxx:4267  WARN| vtkCGNSReader (0x556deb008990): Skipping BC_t node: BC_t type 'BCTunnelOutflow' not supported yet.\u001b[0m\n",
      "Voxelizing samples:  22%|██▏       | 22/100 [00:12<00:29,  2.63it/s]\u001b[0m\u001b[33m2025-06-07 19:43:55.223 ( 155.166s) [    7B5A53DD2740]      vtkCGNSReader.cxx:4267  WARN| vtkCGNSReader (0x556decf9b2a0): Skipping BC_t node: BC_t type 'BCInflow' not supported yet.\u001b[0m\n",
      "\u001b[0m\u001b[33m2025-06-07 19:43:55.223 ( 155.166s) [    7B5A53DD2740]      vtkCGNSReader.cxx:4267  WARN| vtkCGNSReader (0x556decf9b2a0): Skipping BC_t node: BC_t type 'BCSymmetryPlane' not supported yet.\u001b[0m\n",
      "\u001b[0m\u001b[33m2025-06-07 19:43:55.223 ( 155.166s) [    7B5A53DD2740]      vtkCGNSReader.cxx:4267  WARN| vtkCGNSReader (0x556decf9b2a0): Skipping BC_t node: BC_t type 'BCTunnelOutflow' not supported yet.\u001b[0m\n",
      "\u001b[0m\u001b[33m2025-06-07 19:43:55.590 ( 155.533s) [    7B5A53DD2740]      vtkCGNSReader.cxx:4267  WARN| vtkCGNSReader (0x556dea5fe940): Skipping BC_t node: BC_t type 'BCInflow' not supported yet.\u001b[0m\n",
      "\u001b[0m\u001b[33m2025-06-07 19:43:55.590 ( 155.533s) [    7B5A53DD2740]      vtkCGNSReader.cxx:4267  WARN| vtkCGNSReader (0x556dea5fe940): Skipping BC_t node: BC_t type 'BCSymmetryPlane' not supported yet.\u001b[0m\n",
      "\u001b[0m\u001b[33m2025-06-07 19:43:55.590 ( 155.534s) [    7B5A53DD2740]      vtkCGNSReader.cxx:4267  WARN| vtkCGNSReader (0x556dea5fe940): Skipping BC_t node: BC_t type 'BCTunnelOutflow' not supported yet.\u001b[0m\n",
      "Voxelizing samples:  26%|██▌       | 26/100 [00:16<00:38,  1.90it/s]\u001b[0m\u001b[33m2025-06-07 19:43:58.695 ( 158.638s) [    7B5A53DD2740]      vtkCGNSReader.cxx:4267  WARN| vtkCGNSReader (0x556de82b1860): Skipping BC_t node: BC_t type 'BCInflow' not supported yet.\u001b[0m\n",
      "\u001b[0m\u001b[33m2025-06-07 19:43:58.702 ( 158.645s) [    7B5A53DD2740]      vtkCGNSReader.cxx:4267  WARN| vtkCGNSReader (0x556de82b1860): Skipping BC_t node: BC_t type 'BCSymmetryPlane' not supported yet.\u001b[0m\n",
      "\u001b[0m\u001b[33m2025-06-07 19:43:58.702 ( 158.645s) [    7B5A53DD2740]      vtkCGNSReader.cxx:4267  WARN| vtkCGNSReader (0x556de82b1860): Skipping BC_t node: BC_t type 'BCTunnelOutflow' not supported yet.\u001b[0m\n",
      "Voxelizing samples:  34%|███▍      | 34/100 [00:16<00:16,  4.02it/s]\u001b[0m\u001b[33m2025-06-07 19:43:59.008 ( 158.951s) [    7B5A53DD2740]      vtkCGNSReader.cxx:4267  WARN| vtkCGNSReader (0x556de7dd9080): Skipping BC_t node: BC_t type 'BCInflow' not supported yet.\u001b[0m\n",
      "\u001b[0m\u001b[33m2025-06-07 19:43:59.009 ( 158.952s) [    7B5A53DD2740]      vtkCGNSReader.cxx:4267  WARN| vtkCGNSReader (0x556de7dd9080): Skipping BC_t node: BC_t type 'BCSymmetryPlane' not supported yet.\u001b[0m\n",
      "\u001b[0m\u001b[33m2025-06-07 19:43:59.009 ( 158.952s) [    7B5A53DD2740]      vtkCGNSReader.cxx:4267  WARN| vtkCGNSReader (0x556de7dd9080): Skipping BC_t node: BC_t type 'BCTunnelOutflow' not supported yet.\u001b[0m\n",
      "Voxelizing samples:  39%|███▉      | 39/100 [00:17<00:12,  5.04it/s]\u001b[0m\u001b[33m2025-06-07 19:43:59.987 ( 159.930s) [    7B5A53DD2740]      vtkCGNSReader.cxx:4267  WARN| vtkCGNSReader (0x556de9f93690): Skipping BC_t node: BC_t type 'BCInflow' not supported yet.\u001b[0m\n",
      "\u001b[0m\u001b[33m2025-06-07 19:43:59.987 ( 159.930s) [    7B5A53DD2740]      vtkCGNSReader.cxx:4267  WARN| vtkCGNSReader (0x556de9f93690): Skipping BC_t node: BC_t type 'BCSymmetryPlane' not supported yet.\u001b[0m\n",
      "\u001b[0m\u001b[33m2025-06-07 19:43:59.987 ( 159.930s) [    7B5A53DD2740]      vtkCGNSReader.cxx:4267  WARN| vtkCGNSReader (0x556de9f93690): Skipping BC_t node: BC_t type 'BCTunnelOutflow' not supported yet.\u001b[0m\n",
      "Voxelizing samples:  40%|████      | 40/100 [00:17<00:14,  4.03it/s]\u001b[0m\u001b[33m2025-06-07 19:44:00.396 ( 160.339s) [    7B5A53DD2740]      vtkCGNSReader.cxx:4267  WARN| vtkCGNSReader (0x556de7ec92b0): Skipping BC_t node: BC_t type 'BCInflow' not supported yet.\u001b[0m\n",
      "\u001b[0m\u001b[33m2025-06-07 19:44:00.396 ( 160.339s) [    7B5A53DD2740]      vtkCGNSReader.cxx:4267  WARN| vtkCGNSReader (0x556de7ec92b0): Skipping BC_t node: BC_t type 'BCSymmetryPlane' not supported yet.\u001b[0m\n",
      "\u001b[0m\u001b[33m2025-06-07 19:44:00.396 ( 160.339s) [    7B5A53DD2740]      vtkCGNSReader.cxx:4267  WARN| vtkCGNSReader (0x556de7ec92b0): Skipping BC_t node: BC_t type 'BCTunnelOutflow' not supported yet.\u001b[0m\n",
      "\u001b[0m\u001b[33m2025-06-07 19:44:00.688 ( 160.631s) [    7B5A53DD2740]      vtkCGNSReader.cxx:4267  WARN| vtkCGNSReader (0x556de7dd91d0): Skipping BC_t node: BC_t type 'BCInflow' not supported yet.\u001b[0m\n",
      "\u001b[0m\u001b[33m2025-06-07 19:44:00.688 ( 160.631s) [    7B5A53DD2740]      vtkCGNSReader.cxx:4267  WARN| vtkCGNSReader (0x556de7dd91d0): Skipping BC_t node: BC_t type 'BCSymmetryPlane' not supported yet.\u001b[0m\n",
      "\u001b[0m\u001b[33m2025-06-07 19:44:00.688 ( 160.632s) [    7B5A53DD2740]      vtkCGNSReader.cxx:4267  WARN| vtkCGNSReader (0x556de7dd91d0): Skipping BC_t node: BC_t type 'BCTunnelOutflow' not supported yet.\u001b[0m\n",
      "\u001b[0m\u001b[33m2025-06-07 19:44:00.831 ( 160.774s) [    7B5A53DD2740]      vtkCGNSReader.cxx:4267  WARN| vtkCGNSReader (0x556de7df0660): Skipping BC_t node: BC_t type 'BCInflow' not supported yet.\u001b[0m\n",
      "\u001b[0m\u001b[33m2025-06-07 19:44:00.831 ( 160.774s) [    7B5A53DD2740]      vtkCGNSReader.cxx:4267  WARN| vtkCGNSReader (0x556de7df0660): Skipping BC_t node: BC_t type 'BCSymmetryPlane' not supported yet.\u001b[0m\n",
      "\u001b[0m\u001b[33m2025-06-07 19:44:00.831 ( 160.774s) [    7B5A53DD2740]      vtkCGNSReader.cxx:4267  WARN| vtkCGNSReader (0x556de7df0660): Skipping BC_t node: BC_t type 'BCTunnelOutflow' not supported yet.\u001b[0m\n",
      "\u001b[0m\u001b[33m2025-06-07 19:44:01.082 ( 161.025s) [    7B5A53DD2740]      vtkCGNSReader.cxx:4267  WARN| vtkCGNSReader (0x556de8349b20): Skipping BC_t node: BC_t type 'BCInflow' not supported yet.\u001b[0m\n",
      "\u001b[0m\u001b[33m2025-06-07 19:44:01.082 ( 161.025s) [    7B5A53DD2740]      vtkCGNSReader.cxx:4267  WARN| vtkCGNSReader (0x556de8349b20): Skipping BC_t node: BC_t type 'BCSymmetryPlane' not supported yet.\u001b[0m\n",
      "\u001b[0m\u001b[33m2025-06-07 19:44:01.082 ( 161.025s) [    7B5A53DD2740]      vtkCGNSReader.cxx:4267  WARN| vtkCGNSReader (0x556de8349b20): Skipping BC_t node: BC_t type 'BCTunnelOutflow' not supported yet.\u001b[0m\n",
      "\u001b[0m\u001b[33m2025-06-07 19:44:01.234 ( 161.177s) [    7B5A53DD2740]      vtkCGNSReader.cxx:4267  WARN| vtkCGNSReader (0x556de7dd9060): Skipping BC_t node: BC_t type 'BCInflow' not supported yet.\u001b[0m\n",
      "\u001b[0m\u001b[33m2025-06-07 19:44:01.234 ( 161.177s) [    7B5A53DD2740]      vtkCGNSReader.cxx:4267  WARN| vtkCGNSReader (0x556de7dd9060): Skipping BC_t node: BC_t type 'BCSymmetryPlane' not supported yet.\u001b[0m\n",
      "\u001b[0m\u001b[33m2025-06-07 19:44:01.234 ( 161.177s) [    7B5A53DD2740]      vtkCGNSReader.cxx:4267  WARN| vtkCGNSReader (0x556de7dd9060): Skipping BC_t node: BC_t type 'BCTunnelOutflow' not supported yet.\u001b[0m\n",
      "\u001b[0m\u001b[33m2025-06-07 19:44:01.420 ( 161.363s) [    7B5A53DD2740]      vtkCGNSReader.cxx:4267  WARN| vtkCGNSReader (0x556de7dd9080): Skipping BC_t node: BC_t type 'BCInflow' not supported yet.\u001b[0m\n",
      "\u001b[0m\u001b[33m2025-06-07 19:44:01.421 ( 161.364s) [    7B5A53DD2740]      vtkCGNSReader.cxx:4267  WARN| vtkCGNSReader (0x556de7dd9080): Skipping BC_t node: BC_t type 'BCSymmetryPlane' not supported yet.\u001b[0m\n",
      "\u001b[0m\u001b[33m2025-06-07 19:44:01.424 ( 161.367s) [    7B5A53DD2740]      vtkCGNSReader.cxx:4267  WARN| vtkCGNSReader (0x556de7dd9080): Skipping BC_t node: BC_t type 'BCTunnelOutflow' not supported yet.\u001b[0m\n",
      "\u001b[0m\u001b[33m2025-06-07 19:44:01.467 ( 161.410s) [    7B5A53DD2740]      vtkCGNSReader.cxx:4267  WARN| vtkCGNSReader (0x556dea2defd0): Skipping BC_t node: BC_t type 'BCInflow' not supported yet.\u001b[0m\n",
      "\u001b[0m\u001b[33m2025-06-07 19:44:01.467 ( 161.410s) [    7B5A53DD2740]      vtkCGNSReader.cxx:4267  WARN| vtkCGNSReader (0x556dea2defd0): Skipping BC_t node: BC_t type 'BCSymmetryPlane' not supported yet.\u001b[0m\n",
      "\u001b[0m\u001b[33m2025-06-07 19:44:01.467 ( 161.410s) [    7B5A53DD2740]      vtkCGNSReader.cxx:4267  WARN| vtkCGNSReader (0x556dea2defd0): Skipping BC_t node: BC_t type 'BCTunnelOutflow' not supported yet.\u001b[0m\n",
      "\u001b[0m\u001b[33m2025-06-07 19:44:01.500 ( 161.443s) [    7B5A53DD2740]      vtkCGNSReader.cxx:4267  WARN| vtkCGNSReader (0x556de7dd91f0): Skipping BC_t node: BC_t type 'BCInflow' not supported yet.\u001b[0m\n",
      "\u001b[0m\u001b[33m2025-06-07 19:44:01.500 ( 161.443s) [    7B5A53DD2740]      vtkCGNSReader.cxx:4267  WARN| vtkCGNSReader (0x556de7dd91f0): Skipping BC_t node: BC_t type 'BCSymmetryPlane' not supported yet.\u001b[0m\n",
      "\u001b[0m\u001b[33m2025-06-07 19:44:01.500 ( 161.443s) [    7B5A53DD2740]      vtkCGNSReader.cxx:4267  WARN| vtkCGNSReader (0x556de7dd91f0): Skipping BC_t node: BC_t type 'BCTunnelOutflow' not supported yet.\u001b[0m\n",
      "\u001b[0m\u001b[33m2025-06-07 19:44:01.649 ( 161.592s) [    7B5A53DD2740]      vtkCGNSReader.cxx:4267  WARN| vtkCGNSReader (0x556de7dd9330): Skipping BC_t node: BC_t type 'BCInflow' not supported yet.\u001b[0m\n",
      "\u001b[0m\u001b[33m2025-06-07 19:44:01.649 ( 161.592s) [    7B5A53DD2740]      vtkCGNSReader.cxx:4267  WARN| vtkCGNSReader (0x556de7dd9330): Skipping BC_t node: BC_t type 'BCSymmetryPlane' not supported yet.\u001b[0m\n",
      "\u001b[0m\u001b[33m2025-06-07 19:44:01.649 ( 161.592s) [    7B5A53DD2740]      vtkCGNSReader.cxx:4267  WARN| vtkCGNSReader (0x556de7dd9330): Skipping BC_t node: BC_t type 'BCTunnelOutflow' not supported yet.\u001b[0m\n",
      "\u001b[0m\u001b[33m2025-06-07 19:44:01.985 ( 161.928s) [    7B5A53DD2740]      vtkCGNSReader.cxx:4267  WARN| vtkCGNSReader (0x556de7dd9080): Skipping BC_t node: BC_t type 'BCInflow' not supported yet.\u001b[0m\n",
      "\u001b[0m\u001b[33m2025-06-07 19:44:01.985 ( 161.928s) [    7B5A53DD2740]      vtkCGNSReader.cxx:4267  WARN| vtkCGNSReader (0x556de7dd9080): Skipping BC_t node: BC_t type 'BCSymmetryPlane' not supported yet.\u001b[0m\n",
      "\u001b[0m\u001b[33m2025-06-07 19:44:01.985 ( 161.928s) [    7B5A53DD2740]      vtkCGNSReader.cxx:4267  WARN| vtkCGNSReader (0x556de7dd9080): Skipping BC_t node: BC_t type 'BCTunnelOutflow' not supported yet.\u001b[0m\n",
      "\u001b[0m\u001b[33m2025-06-07 19:44:02.117 ( 162.060s) [    7B5A53DD2740]      vtkCGNSReader.cxx:4267  WARN| vtkCGNSReader (0x556de7dd91d0): Skipping BC_t node: BC_t type 'BCInflow' not supported yet.\u001b[0m\n",
      "\u001b[0m\u001b[33m2025-06-07 19:44:02.117 ( 162.060s) [    7B5A53DD2740]      vtkCGNSReader.cxx:4267  WARN| vtkCGNSReader (0x556de7dd91d0): Skipping BC_t node: BC_t type 'BCSymmetryPlane' not supported yet.\u001b[0m\n",
      "\u001b[0m\u001b[33m2025-06-07 19:44:02.117 ( 162.060s) [    7B5A53DD2740]      vtkCGNSReader.cxx:4267  WARN| vtkCGNSReader (0x556de7dd91d0): Skipping BC_t node: BC_t type 'BCTunnelOutflow' not supported yet.\u001b[0m\n",
      "\u001b[0m\u001b[33m2025-06-07 19:44:02.158 ( 162.101s) [    7B5A53DD2740]      vtkCGNSReader.cxx:4267  WARN| vtkCGNSReader (0x556de7dd91f0): Skipping BC_t node: BC_t type 'BCInflow' not supported yet.\u001b[0m\n",
      "\u001b[0m\u001b[33m2025-06-07 19:44:02.158 ( 162.101s) [    7B5A53DD2740]      vtkCGNSReader.cxx:4267  WARN| vtkCGNSReader (0x556de7dd91f0): Skipping BC_t node: BC_t type 'BCSymmetryPlane' not supported yet.\u001b[0m\n",
      "\u001b[0m\u001b[33m2025-06-07 19:44:02.158 ( 162.101s) [    7B5A53DD2740]      vtkCGNSReader.cxx:4267  WARN| vtkCGNSReader (0x556de7dd91f0): Skipping BC_t node: BC_t type 'BCTunnelOutflow' not supported yet.\u001b[0m\n",
      "\u001b[0m\u001b[33m2025-06-07 19:44:02.322 ( 162.265s) [    7B5A53DD2740]      vtkCGNSReader.cxx:4267  WARN| vtkCGNSReader (0x556de7dd9330): Skipping BC_t node: BC_t type 'BCInflow' not supported yet.\u001b[0m\n",
      "\u001b[0m\u001b[33m2025-06-07 19:44:02.322 ( 162.265s) [    7B5A53DD2740]      vtkCGNSReader.cxx:4267  WARN| vtkCGNSReader (0x556de7dd9330): Skipping BC_t node: BC_t type 'BCSymmetryPlane' not supported yet.\u001b[0m\n",
      "\u001b[0m\u001b[33m2025-06-07 19:44:02.322 ( 162.265s) [    7B5A53DD2740]      vtkCGNSReader.cxx:4267  WARN| vtkCGNSReader (0x556de7dd9330): Skipping BC_t node: BC_t type 'BCTunnelOutflow' not supported yet.\u001b[0m\n",
      "\u001b[0m\u001b[33m2025-06-07 19:44:02.367 ( 162.310s) [    7B5A53DD2740]      vtkCGNSReader.cxx:4267  WARN| vtkCGNSReader (0x556de98f25f0): Skipping BC_t node: BC_t type 'BCInflow' not supported yet.\u001b[0m\n",
      "\u001b[0m\u001b[33m2025-06-07 19:44:02.368 ( 162.311s) [    7B5A53DD2740]      vtkCGNSReader.cxx:4267  WARN| vtkCGNSReader (0x556de98f25f0): Skipping BC_t node: BC_t type 'BCSymmetryPlane' not supported yet.\u001b[0m\n",
      "\u001b[0m\u001b[33m2025-06-07 19:44:02.368 ( 162.312s) [    7B5A53DD2740]      vtkCGNSReader.cxx:4267  WARN| vtkCGNSReader (0x556de98f25f0): Skipping BC_t node: BC_t type 'BCTunnelOutflow' not supported yet.\u001b[0m\n",
      "\u001b[0m\u001b[33m2025-06-07 19:44:02.555 ( 162.498s) [    7B5A53DD2740]      vtkCGNSReader.cxx:4267  WARN| vtkCGNSReader (0x556de7ec4f90): Skipping BC_t node: BC_t type 'BCInflow' not supported yet.\u001b[0m\n",
      "\u001b[0m\u001b[33m2025-06-07 19:44:02.555 ( 162.498s) [    7B5A53DD2740]      vtkCGNSReader.cxx:4267  WARN| vtkCGNSReader (0x556de7ec4f90): Skipping BC_t node: BC_t type 'BCSymmetryPlane' not supported yet.\u001b[0m\n",
      "\u001b[0m\u001b[33m2025-06-07 19:44:02.555 ( 162.498s) [    7B5A53DD2740]      vtkCGNSReader.cxx:4267  WARN| vtkCGNSReader (0x556de7ec4f90): Skipping BC_t node: BC_t type 'BCTunnelOutflow' not supported yet.\u001b[0m\n",
      "\u001b[0m\u001b[33m2025-06-07 19:44:03.047 ( 162.990s) [    7B5A53DD2740]      vtkCGNSReader.cxx:4267  WARN| vtkCGNSReader (0x556de83691d0): Skipping BC_t node: BC_t type 'BCInflow' not supported yet.\u001b[0m\n",
      "\u001b[0m\u001b[33m2025-06-07 19:44:03.047 ( 162.990s) [    7B5A53DD2740]      vtkCGNSReader.cxx:4267  WARN| vtkCGNSReader (0x556de83691d0): Skipping BC_t node: BC_t type 'BCSymmetryPlane' not supported yet.\u001b[0m\n",
      "\u001b[0m\u001b[33m2025-06-07 19:44:03.047 ( 162.990s) [    7B5A53DD2740]      vtkCGNSReader.cxx:4267  WARN| vtkCGNSReader (0x556de83691d0): Skipping BC_t node: BC_t type 'BCTunnelOutflow' not supported yet.\u001b[0m\n",
      "Voxelizing samples:  41%|████      | 41/100 [00:20<00:33,  1.76it/s]\u001b[0m\u001b[33m2025-06-07 19:44:04.129 ( 164.072s) [    7B5A53DD2740]      vtkCGNSReader.cxx:4267  WARN| vtkCGNSReader (0x556de7dd91d0): Skipping BC_t node: BC_t type 'BCInflow' not supported yet.\u001b[0m\n",
      "\u001b[0m\u001b[33m2025-06-07 19:44:04.129 ( 164.072s) [    7B5A53DD2740]      vtkCGNSReader.cxx:4267  WARN| vtkCGNSReader (0x556de7dd91d0): Skipping BC_t node: BC_t type 'BCSymmetryPlane' not supported yet.\u001b[0m\n",
      "\u001b[0m\u001b[33m2025-06-07 19:44:04.129 ( 164.072s) [    7B5A53DD2740]      vtkCGNSReader.cxx:4267  WARN| vtkCGNSReader (0x556de7dd91d0): Skipping BC_t node: BC_t type 'BCTunnelOutflow' not supported yet.\u001b[0m\n",
      "Voxelizing samples:  44%|████▍     | 44/100 [00:22<00:32,  1.73it/s]\u001b[0m\u001b[33m2025-06-07 19:44:05.634 ( 165.577s) [    7B5A53DD2740]      vtkCGNSReader.cxx:4267  WARN| vtkCGNSReader (0x556dec6fb600): Skipping BC_t node: BC_t type 'BCInflow' not supported yet.\u001b[0m\n",
      "\u001b[0m\u001b[33m2025-06-07 19:44:05.643 ( 165.587s) [    7B5A53DD2740]      vtkCGNSReader.cxx:4267  WARN| vtkCGNSReader (0x556dec6fb600): Skipping BC_t node: BC_t type 'BCSymmetryPlane' not supported yet.\u001b[0m\n",
      "\u001b[0m\u001b[33m2025-06-07 19:44:05.644 ( 165.587s) [    7B5A53DD2740]      vtkCGNSReader.cxx:4267  WARN| vtkCGNSReader (0x556dec6fb600): Skipping BC_t node: BC_t type 'BCTunnelOutflow' not supported yet.\u001b[0m\n",
      "Voxelizing samples:  47%|████▋     | 47/100 [00:23<00:25,  2.09it/s]\u001b[0m\u001b[33m2025-06-07 19:44:06.126 ( 166.069s) [    7B5A53DD2740]      vtkCGNSReader.cxx:4267  WARN| vtkCGNSReader (0x556de9f4f100): Skipping BC_t node: BC_t type 'BCInflow' not supported yet.\u001b[0m\n",
      "\u001b[0m\u001b[33m2025-06-07 19:44:06.126 ( 166.070s) [    7B5A53DD2740]      vtkCGNSReader.cxx:4267  WARN| vtkCGNSReader (0x556de9f4f100): Skipping BC_t node: BC_t type 'BCSymmetryPlane' not supported yet.\u001b[0m\n",
      "\u001b[0m\u001b[33m2025-06-07 19:44:06.127 ( 166.070s) [    7B5A53DD2740]      vtkCGNSReader.cxx:4267  WARN| vtkCGNSReader (0x556de9f4f100): Skipping BC_t node: BC_t type 'BCTunnelOutflow' not supported yet.\u001b[0m\n",
      "Voxelizing samples:  52%|█████▏    | 52/100 [00:23<00:15,  3.19it/s]\u001b[0m\u001b[33m2025-06-07 19:44:06.584 ( 166.527s) [    7B5A53DD2740]      vtkCGNSReader.cxx:4267  WARN| vtkCGNSReader (0x556de7dd8f10): Skipping BC_t node: BC_t type 'BCInflow' not supported yet.\u001b[0m\n",
      "\u001b[0m\u001b[33m2025-06-07 19:44:06.584 ( 166.527s) [    7B5A53DD2740]      vtkCGNSReader.cxx:4267  WARN| vtkCGNSReader (0x556de7dd8f10): Skipping BC_t node: BC_t type 'BCSymmetryPlane' not supported yet.\u001b[0m\n",
      "\u001b[0m\u001b[33m2025-06-07 19:44:06.584 ( 166.527s) [    7B5A53DD2740]      vtkCGNSReader.cxx:4267  WARN| vtkCGNSReader (0x556de7dd8f10): Skipping BC_t node: BC_t type 'BCTunnelOutflow' not supported yet.\u001b[0m\n",
      "Voxelizing samples:  54%|█████▍    | 54/100 [00:24<00:14,  3.24it/s]\u001b[0m\u001b[33m2025-06-07 19:44:07.088 ( 167.031s) [    7B5A53DD2740]      vtkCGNSReader.cxx:4267  WARN| vtkCGNSReader (0x556de82e1640): Skipping BC_t node: BC_t type 'BCInflow' not supported yet.\u001b[0m\n",
      "\u001b[0m\u001b[33m2025-06-07 19:44:07.088 ( 167.031s) [    7B5A53DD2740]      vtkCGNSReader.cxx:4267  WARN| vtkCGNSReader (0x556de82e1640): Skipping BC_t node: BC_t type 'BCSymmetryPlane' not supported yet.\u001b[0m\n",
      "\u001b[0m\u001b[33m2025-06-07 19:44:07.088 ( 167.031s) [    7B5A53DD2740]      vtkCGNSReader.cxx:4267  WARN| vtkCGNSReader (0x556de82e1640): Skipping BC_t node: BC_t type 'BCTunnelOutflow' not supported yet.\u001b[0m\n",
      "\u001b[0m\u001b[33m2025-06-07 19:44:07.458 ( 167.401s) [    7B5A53DD2740]      vtkCGNSReader.cxx:4267  WARN| vtkCGNSReader (0x556de7ed1700): Skipping BC_t node: BC_t type 'BCInflow' not supported yet.\u001b[0m\n",
      "\u001b[0m\u001b[33m2025-06-07 19:44:07.458 ( 167.401s) [    7B5A53DD2740]      vtkCGNSReader.cxx:4267  WARN| vtkCGNSReader (0x556de7ed1700): Skipping BC_t node: BC_t type 'BCSymmetryPlane' not supported yet.\u001b[0m\n",
      "\u001b[0m\u001b[33m2025-06-07 19:44:07.459 ( 167.402s) [    7B5A53DD2740]      vtkCGNSReader.cxx:4267  WARN| vtkCGNSReader (0x556de7ed1700): Skipping BC_t node: BC_t type 'BCTunnelOutflow' not supported yet.\u001b[0m\n",
      "Voxelizing samples:  59%|█████▉    | 59/100 [00:25<00:09,  4.36it/s]\u001b[0m\u001b[33m2025-06-07 19:44:07.768 ( 167.711s) [    7B5A53DD2740]      vtkCGNSReader.cxx:4267  WARN| vtkCGNSReader (0x556dea4f3090): Skipping BC_t node: BC_t type 'BCInflow' not supported yet.\u001b[0m\n",
      "\u001b[0m\u001b[33m2025-06-07 19:44:07.768 ( 167.711s) [    7B5A53DD2740]      vtkCGNSReader.cxx:4267  WARN| vtkCGNSReader (0x556dea4f3090): Skipping BC_t node: BC_t type 'BCSymmetryPlane' not supported yet.\u001b[0m\n",
      "\u001b[0m\u001b[33m2025-06-07 19:44:07.768 ( 167.711s) [    7B5A53DD2740]      vtkCGNSReader.cxx:4267  WARN| vtkCGNSReader (0x556dea4f3090): Skipping BC_t node: BC_t type 'BCTunnelOutflow' not supported yet.\u001b[0m\n",
      "\u001b[0m\u001b[33m2025-06-07 19:44:07.799 ( 167.742s) [    7B5A53DD2740]      vtkCGNSReader.cxx:4267  WARN| vtkCGNSReader (0x556dea871450): Skipping BC_t node: BC_t type 'BCInflow' not supported yet.\u001b[0m\n",
      "\u001b[0m\u001b[33m2025-06-07 19:44:07.799 ( 167.742s) [    7B5A53DD2740]      vtkCGNSReader.cxx:4267  WARN| vtkCGNSReader (0x556dea871450): Skipping BC_t node: BC_t type 'BCSymmetryPlane' not supported yet.\u001b[0m\n",
      "\u001b[0m\u001b[33m2025-06-07 19:44:07.799 ( 167.742s) [    7B5A53DD2740]      vtkCGNSReader.cxx:4267  WARN| vtkCGNSReader (0x556dea871450): Skipping BC_t node: BC_t type 'BCTunnelOutflow' not supported yet.\u001b[0m\n",
      "\u001b[0m\u001b[33m2025-06-07 19:44:08.091 ( 168.034s) [    7B5A53DD2740]      vtkCGNSReader.cxx:4267  WARN| vtkCGNSReader (0x556dea45c0c0): Skipping BC_t node: BC_t type 'BCInflow' not supported yet.\u001b[0m\n",
      "\u001b[0m\u001b[33m2025-06-07 19:44:08.092 ( 168.035s) [    7B5A53DD2740]      vtkCGNSReader.cxx:4267  WARN| vtkCGNSReader (0x556dea45c0c0): Skipping BC_t node: BC_t type 'BCSymmetryPlane' not supported yet.\u001b[0m\n",
      "\u001b[0m\u001b[33m2025-06-07 19:44:08.095 ( 168.038s) [    7B5A53DD2740]      vtkCGNSReader.cxx:4267  WARN| vtkCGNSReader (0x556dea45c0c0): Skipping BC_t node: BC_t type 'BCTunnelOutflow' not supported yet.\u001b[0m\n",
      "\u001b[0m\u001b[33m2025-06-07 19:44:08.182 ( 168.125s) [    7B5A53DD2740]      vtkCGNSReader.cxx:4267  WARN| vtkCGNSReader (0x556de7dd8f10): Skipping BC_t node: BC_t type 'BCInflow' not supported yet.\u001b[0m\n",
      "\u001b[0m\u001b[33m2025-06-07 19:44:08.182 ( 168.125s) [    7B5A53DD2740]      vtkCGNSReader.cxx:4267  WARN| vtkCGNSReader (0x556de7dd8f10): Skipping BC_t node: BC_t type 'BCSymmetryPlane' not supported yet.\u001b[0m\n",
      "\u001b[0m\u001b[33m2025-06-07 19:44:08.182 ( 168.125s) [    7B5A53DD2740]      vtkCGNSReader.cxx:4267  WARN| vtkCGNSReader (0x556de7dd8f10): Skipping BC_t node: BC_t type 'BCTunnelOutflow' not supported yet.\u001b[0m\n",
      "Voxelizing samples:  60%|██████    | 60/100 [00:25<00:11,  3.34it/s]\u001b[0m\u001b[33m2025-06-07 19:44:08.580 ( 168.523s) [    7B5A53DD2740]      vtkCGNSReader.cxx:4267  WARN| vtkCGNSReader (0x556ded008060): Skipping BC_t node: BC_t type 'BCInflow' not supported yet.\u001b[0m\n",
      "\u001b[0m\u001b[33m2025-06-07 19:44:08.580 ( 168.523s) [    7B5A53DD2740]      vtkCGNSReader.cxx:4267  WARN| vtkCGNSReader (0x556ded008060): Skipping BC_t node: BC_t type 'BCSymmetryPlane' not supported yet.\u001b[0m\n",
      "\u001b[0m\u001b[33m2025-06-07 19:44:08.580 ( 168.523s) [    7B5A53DD2740]      vtkCGNSReader.cxx:4267  WARN| vtkCGNSReader (0x556ded008060): Skipping BC_t node: BC_t type 'BCTunnelOutflow' not supported yet.\u001b[0m\n",
      "\u001b[0m\u001b[33m2025-06-07 19:44:08.745 ( 168.688s) [    7B5A53DD2740]      vtkCGNSReader.cxx:4267  WARN| vtkCGNSReader (0x556dea0b3170): Skipping BC_t node: BC_t type 'BCInflow' not supported yet.\u001b[0m\n",
      "\u001b[0m\u001b[33m2025-06-07 19:44:08.745 ( 168.688s) [    7B5A53DD2740]      vtkCGNSReader.cxx:4267  WARN| vtkCGNSReader (0x556dea0b3170): Skipping BC_t node: BC_t type 'BCSymmetryPlane' not supported yet.\u001b[0m\n",
      "\u001b[0m\u001b[33m2025-06-07 19:44:08.745 ( 168.688s) [    7B5A53DD2740]      vtkCGNSReader.cxx:4267  WARN| vtkCGNSReader (0x556dea0b3170): Skipping BC_t node: BC_t type 'BCTunnelOutflow' not supported yet.\u001b[0m\n",
      "\u001b[0m\u001b[33m2025-06-07 19:44:08.832 ( 168.775s) [    7B5A53DD2740]      vtkCGNSReader.cxx:4267  WARN| vtkCGNSReader (0x556decd20660): Skipping BC_t node: BC_t type 'BCInflow' not supported yet.\u001b[0m\n",
      "\u001b[0m\u001b[33m2025-06-07 19:44:08.832 ( 168.775s) [    7B5A53DD2740]      vtkCGNSReader.cxx:4267  WARN| vtkCGNSReader (0x556decd20660): Skipping BC_t node: BC_t type 'BCSymmetryPlane' not supported yet.\u001b[0m\n",
      "\u001b[0m\u001b[33m2025-06-07 19:44:08.832 ( 168.775s) [    7B5A53DD2740]      vtkCGNSReader.cxx:4267  WARN| vtkCGNSReader (0x556decd20660): Skipping BC_t node: BC_t type 'BCTunnelOutflow' not supported yet.\u001b[0m\n",
      "\u001b[0m\u001b[33m2025-06-07 19:44:09.201 ( 169.144s) [    7B5A53DD2740]      vtkCGNSReader.cxx:4267  WARN| vtkCGNSReader (0x556de7ef0d20): Skipping BC_t node: BC_t type 'BCInflow' not supported yet.\u001b[0m\n",
      "\u001b[0m\u001b[33m2025-06-07 19:44:09.201 ( 169.144s) [    7B5A53DD2740]      vtkCGNSReader.cxx:4267  WARN| vtkCGNSReader (0x556de7ef0d20): Skipping BC_t node: BC_t type 'BCSymmetryPlane' not supported yet.\u001b[0m\n",
      "\u001b[0m\u001b[33m2025-06-07 19:44:09.201 ( 169.144s) [    7B5A53DD2740]      vtkCGNSReader.cxx:4267  WARN| vtkCGNSReader (0x556de7ef0d20): Skipping BC_t node: BC_t type 'BCTunnelOutflow' not supported yet.\u001b[0m\n",
      "\u001b[0m\u001b[33m2025-06-07 19:44:09.228 ( 169.171s) [    7B5A53DD2740]      vtkCGNSReader.cxx:4267  WARN| vtkCGNSReader (0x556de83fee50): Skipping BC_t node: BC_t type 'BCInflow' not supported yet.\u001b[0m\n",
      "\u001b[0m\u001b[33m2025-06-07 19:44:09.228 ( 169.171s) [    7B5A53DD2740]      vtkCGNSReader.cxx:4267  WARN| vtkCGNSReader (0x556de83fee50): Skipping BC_t node: BC_t type 'BCSymmetryPlane' not supported yet.\u001b[0m\n",
      "\u001b[0m\u001b[33m2025-06-07 19:44:09.228 ( 169.171s) [    7B5A53DD2740]      vtkCGNSReader.cxx:4267  WARN| vtkCGNSReader (0x556de83fee50): Skipping BC_t node: BC_t type 'BCTunnelOutflow' not supported yet.\u001b[0m\n",
      "\u001b[0m\u001b[33m2025-06-07 19:44:09.245 ( 169.188s) [    7B5A53DD2740]      vtkCGNSReader.cxx:4267  WARN| vtkCGNSReader (0x556de7dee210): Skipping BC_t node: BC_t type 'BCInflow' not supported yet.\u001b[0m\n",
      "\u001b[0m\u001b[33m2025-06-07 19:44:09.245 ( 169.188s) [    7B5A53DD2740]      vtkCGNSReader.cxx:4267  WARN| vtkCGNSReader (0x556de7dee210): Skipping BC_t node: BC_t type 'BCSymmetryPlane' not supported yet.\u001b[0m\n",
      "\u001b[0m\u001b[33m2025-06-07 19:44:09.245 ( 169.188s) [    7B5A53DD2740]      vtkCGNSReader.cxx:4267  WARN| vtkCGNSReader (0x556de7dee210): Skipping BC_t node: BC_t type 'BCTunnelOutflow' not supported yet.\u001b[0m\n",
      "\u001b[0m\u001b[33m2025-06-07 19:44:09.776 ( 169.719s) [    7B5A53DD2740]      vtkCGNSReader.cxx:4267  WARN| vtkCGNSReader (0x556dea392d50): Skipping BC_t node: BC_t type 'BCInflow' not supported yet.\u001b[0m\n",
      "\u001b[0m\u001b[33m2025-06-07 19:44:09.777 ( 169.720s) [    7B5A53DD2740]      vtkCGNSReader.cxx:4267  WARN| vtkCGNSReader (0x556dea392d50): Skipping BC_t node: BC_t type 'BCSymmetryPlane' not supported yet.\u001b[0m\n",
      "\u001b[0m\u001b[33m2025-06-07 19:44:09.777 ( 169.720s) [    7B5A53DD2740]      vtkCGNSReader.cxx:4267  WARN| vtkCGNSReader (0x556dea392d50): Skipping BC_t node: BC_t type 'BCTunnelOutflow' not supported yet.\u001b[0m\n",
      "Voxelizing samples:  61%|██████    | 61/100 [00:27<00:18,  2.09it/s]\u001b[0m\u001b[33m2025-06-07 19:44:10.488 ( 170.431s) [    7B5A53DD2740]      vtkCGNSReader.cxx:4267  WARN| vtkCGNSReader (0x556de7ef0d20): Skipping BC_t node: BC_t type 'BCInflow' not supported yet.\u001b[0m\n",
      "\u001b[0m\u001b[33m2025-06-07 19:44:10.489 ( 170.432s) [    7B5A53DD2740]      vtkCGNSReader.cxx:4267  WARN| vtkCGNSReader (0x556de7ef0d20): Skipping BC_t node: BC_t type 'BCSymmetryPlane' not supported yet.\u001b[0m\n",
      "\u001b[0m\u001b[33m2025-06-07 19:44:10.489 ( 170.432s) [    7B5A53DD2740]      vtkCGNSReader.cxx:4267  WARN| vtkCGNSReader (0x556de7ef0d20): Skipping BC_t node: BC_t type 'BCTunnelOutflow' not supported yet.\u001b[0m\n",
      "\u001b[0m\u001b[33m2025-06-07 19:44:10.570 ( 170.513s) [    7B5A53DD2740]      vtkCGNSReader.cxx:4267  WARN| vtkCGNSReader (0x556de7ecbfe0): Skipping BC_t node: BC_t type 'BCInflow' not supported yet.\u001b[0m\n",
      "\u001b[0m\u001b[33m2025-06-07 19:44:10.570 ( 170.513s) [    7B5A53DD2740]      vtkCGNSReader.cxx:4267  WARN| vtkCGNSReader (0x556de7ecbfe0): Skipping BC_t node: BC_t type 'BCSymmetryPlane' not supported yet.\u001b[0m\n",
      "\u001b[0m\u001b[33m2025-06-07 19:44:10.570 ( 170.513s) [    7B5A53DD2740]      vtkCGNSReader.cxx:4267  WARN| vtkCGNSReader (0x556de7ecbfe0): Skipping BC_t node: BC_t type 'BCTunnelOutflow' not supported yet.\u001b[0m\n",
      "\u001b[0m\u001b[33m2025-06-07 19:44:11.295 ( 171.238s) [    7B5A53DD2740]      vtkCGNSReader.cxx:4267  WARN| vtkCGNSReader (0x556de7ee7760): Skipping BC_t node: BC_t type 'BCInflow' not supported yet.\u001b[0m\n",
      "\u001b[0m\u001b[33m2025-06-07 19:44:11.295 ( 171.238s) [    7B5A53DD2740]      vtkCGNSReader.cxx:4267  WARN| vtkCGNSReader (0x556de7ee7760): Skipping BC_t node: BC_t type 'BCSymmetryPlane' not supported yet.\u001b[0m\n",
      "\u001b[0m\u001b[33m2025-06-07 19:44:11.295 ( 171.238s) [    7B5A53DD2740]      vtkCGNSReader.cxx:4267  WARN| vtkCGNSReader (0x556de7ee7760): Skipping BC_t node: BC_t type 'BCTunnelOutflow' not supported yet.\u001b[0m\n",
      "\u001b[0m\u001b[33m2025-06-07 19:44:11.837 ( 171.780s) [    7B5A53DD2740]      vtkCGNSReader.cxx:4267  WARN| vtkCGNSReader (0x556dea61ba40): Skipping BC_t node: BC_t type 'BCInflow' not supported yet.\u001b[0m\n",
      "\u001b[0m\u001b[33m2025-06-07 19:44:11.837 ( 171.780s) [    7B5A53DD2740]      vtkCGNSReader.cxx:4267  WARN| vtkCGNSReader (0x556dea61ba40): Skipping BC_t node: BC_t type 'BCSymmetryPlane' not supported yet.\u001b[0m\n",
      "\u001b[0m\u001b[33m2025-06-07 19:44:11.837 ( 171.780s) [    7B5A53DD2740]      vtkCGNSReader.cxx:4267  WARN| vtkCGNSReader (0x556dea61ba40): Skipping BC_t node: BC_t type 'BCTunnelOutflow' not supported yet.\u001b[0m\n",
      "Voxelizing samples:  64%|██████▍   | 64/100 [00:30<00:21,  1.69it/s]\u001b[0m\u001b[33m2025-06-07 19:44:12.897 ( 172.840s) [    7B5A53DD2740]      vtkCGNSReader.cxx:4267  WARN| vtkCGNSReader (0x556de9f953c0): Skipping BC_t node: BC_t type 'BCInflow' not supported yet.\u001b[0m\n",
      "\u001b[0m\u001b[33m2025-06-07 19:44:12.897 ( 172.841s) [    7B5A53DD2740]      vtkCGNSReader.cxx:4267  WARN| vtkCGNSReader (0x556de9f953c0): Skipping BC_t node: BC_t type 'BCSymmetryPlane' not supported yet.\u001b[0m\n",
      "\u001b[0m\u001b[33m2025-06-07 19:44:12.898 ( 172.841s) [    7B5A53DD2740]      vtkCGNSReader.cxx:4267  WARN| vtkCGNSReader (0x556de9f953c0): Skipping BC_t node: BC_t type 'BCTunnelOutflow' not supported yet.\u001b[0m\n",
      "Voxelizing samples:  72%|███████▏  | 72/100 [00:30<00:07,  3.82it/s]\u001b[0m\u001b[33m2025-06-07 19:44:13.575 ( 173.518s) [    7B5A53DD2740]      vtkCGNSReader.cxx:4267  WARN| vtkCGNSReader (0x556de7eaaa90): Skipping BC_t node: BC_t type 'BCInflow' not supported yet.\u001b[0m\n",
      "\u001b[0m\u001b[33m2025-06-07 19:44:13.575 ( 173.518s) [    7B5A53DD2740]      vtkCGNSReader.cxx:4267  WARN| vtkCGNSReader (0x556de7eaaa90): Skipping BC_t node: BC_t type 'BCSymmetryPlane' not supported yet.\u001b[0m\n",
      "\u001b[0m\u001b[33m2025-06-07 19:44:13.575 ( 173.518s) [    7B5A53DD2740]      vtkCGNSReader.cxx:4267  WARN| vtkCGNSReader (0x556de7eaaa90): Skipping BC_t node: BC_t type 'BCTunnelOutflow' not supported yet.\u001b[0m\n",
      "\u001b[0m\u001b[33m2025-06-07 19:44:13.584 ( 173.527s) [    7B5A53DD2740]      vtkCGNSReader.cxx:4267  WARN| vtkCGNSReader (0x556de7ece570): Skipping BC_t node: BC_t type 'BCInflow' not supported yet.\u001b[0m\n",
      "\u001b[0m\u001b[33m2025-06-07 19:44:13.584 ( 173.528s) [    7B5A53DD2740]      vtkCGNSReader.cxx:4267  WARN| vtkCGNSReader (0x556de7ece570): Skipping BC_t node: BC_t type 'BCSymmetryPlane' not supported yet.\u001b[0m\n",
      "\u001b[0m\u001b[33m2025-06-07 19:44:13.585 ( 173.528s) [    7B5A53DD2740]      vtkCGNSReader.cxx:4267  WARN| vtkCGNSReader (0x556de7ece570): Skipping BC_t node: BC_t type 'BCTunnelOutflow' not supported yet.\u001b[0m\n",
      "Voxelizing samples:  74%|███████▍  | 74/100 [00:31<00:07,  3.34it/s]\u001b[0m\u001b[33m2025-06-07 19:44:14.301 ( 174.244s) [    7B5A53DD2740]      vtkCGNSReader.cxx:4267  WARN| vtkCGNSReader (0x556de277df50): Skipping BC_t node: BC_t type 'BCInflow' not supported yet.\u001b[0m\n",
      "\u001b[0m\u001b[33m2025-06-07 19:44:14.301 ( 174.244s) [    7B5A53DD2740]      vtkCGNSReader.cxx:4267  WARN| vtkCGNSReader (0x556de277df50): Skipping BC_t node: BC_t type 'BCSymmetryPlane' not supported yet.\u001b[0m\n",
      "\u001b[0m\u001b[33m2025-06-07 19:44:14.301 ( 174.244s) [    7B5A53DD2740]      vtkCGNSReader.cxx:4267  WARN| vtkCGNSReader (0x556de277df50): Skipping BC_t node: BC_t type 'BCTunnelOutflow' not supported yet.\u001b[0m\n",
      "\u001b[0m\u001b[33m2025-06-07 19:44:14.845 ( 174.788s) [    7B5A53DD2740]      vtkCGNSReader.cxx:4267  WARN| vtkCGNSReader (0x556de7ee9a90): Skipping BC_t node: BC_t type 'BCInflow' not supported yet.\u001b[0m\n",
      "\u001b[0m\u001b[33m2025-06-07 19:44:14.846 ( 174.789s) [    7B5A53DD2740]      vtkCGNSReader.cxx:4267  WARN| vtkCGNSReader (0x556de7ee9a90): Skipping BC_t node: BC_t type 'BCSymmetryPlane' not supported yet.\u001b[0m\n",
      "\u001b[0m\u001b[33m2025-06-07 19:44:14.846 ( 174.789s) [    7B5A53DD2740]      vtkCGNSReader.cxx:4267  WARN| vtkCGNSReader (0x556de7ee9a90): Skipping BC_t node: BC_t type 'BCTunnelOutflow' not supported yet.\u001b[0m\n",
      "Voxelizing samples:  77%|███████▋  | 77/100 [00:32<00:06,  3.31it/s]\u001b[0m\u001b[33m2025-06-07 19:44:14.924 ( 174.867s) [    7B5A53DD2740]      vtkCGNSReader.cxx:4267  WARN| vtkCGNSReader (0x556de26b3a00): Skipping BC_t node: BC_t type 'BCInflow' not supported yet.\u001b[0m\n",
      "\u001b[0m\u001b[33m2025-06-07 19:44:14.924 ( 174.867s) [    7B5A53DD2740]      vtkCGNSReader.cxx:4267  WARN| vtkCGNSReader (0x556de26b3a00): Skipping BC_t node: BC_t type 'BCSymmetryPlane' not supported yet.\u001b[0m\n",
      "\u001b[0m\u001b[33m2025-06-07 19:44:14.924 ( 174.867s) [    7B5A53DD2740]      vtkCGNSReader.cxx:4267  WARN| vtkCGNSReader (0x556de26b3a00): Skipping BC_t node: BC_t type 'BCTunnelOutflow' not supported yet.\u001b[0m\n",
      "\u001b[0m\u001b[33m2025-06-07 19:44:14.944 ( 174.887s) [    7B5A53DD2740]      vtkCGNSReader.cxx:4267  WARN| vtkCGNSReader (0x556de7eb4080): Skipping BC_t node: BC_t type 'BCInflow' not supported yet.\u001b[0m\n",
      "\u001b[0m\u001b[33m2025-06-07 19:44:14.944 ( 174.887s) [    7B5A53DD2740]      vtkCGNSReader.cxx:4267  WARN| vtkCGNSReader (0x556de7eb4080): Skipping BC_t node: BC_t type 'BCSymmetryPlane' not supported yet.\u001b[0m\n",
      "\u001b[0m\u001b[33m2025-06-07 19:44:14.944 ( 174.887s) [    7B5A53DD2740]      vtkCGNSReader.cxx:4267  WARN| vtkCGNSReader (0x556de7eb4080): Skipping BC_t node: BC_t type 'BCTunnelOutflow' not supported yet.\u001b[0m\n",
      "\u001b[0m\u001b[33m2025-06-07 19:44:15.294 ( 175.237s) [    7B5A53DD2740]      vtkCGNSReader.cxx:4267  WARN| vtkCGNSReader (0x556dea1b94b0): Skipping BC_t node: BC_t type 'BCInflow' not supported yet.\u001b[0m\n",
      "\u001b[0m\u001b[33m2025-06-07 19:44:15.294 ( 175.238s) [    7B5A53DD2740]      vtkCGNSReader.cxx:4267  WARN| vtkCGNSReader (0x556dea1b94b0): Skipping BC_t node: BC_t type 'BCSymmetryPlane' not supported yet.\u001b[0m\n",
      "\u001b[0m\u001b[33m2025-06-07 19:44:15.295 ( 175.238s) [    7B5A53DD2740]      vtkCGNSReader.cxx:4267  WARN| vtkCGNSReader (0x556dea1b94b0): Skipping BC_t node: BC_t type 'BCTunnelOutflow' not supported yet.\u001b[0m\n",
      "Voxelizing samples:  79%|███████▉  | 79/100 [00:32<00:05,  3.55it/s]\u001b[0m\u001b[33m2025-06-07 19:44:15.413 ( 175.356s) [    7B5A53DD2740]      vtkCGNSReader.cxx:4267  WARN| vtkCGNSReader (0x556de83793e0): Skipping BC_t node: BC_t type 'BCInflow' not supported yet.\u001b[0m\n",
      "\u001b[0m\u001b[33m2025-06-07 19:44:15.413 ( 175.356s) [    7B5A53DD2740]      vtkCGNSReader.cxx:4267  WARN| vtkCGNSReader (0x556de83793e0): Skipping BC_t node: BC_t type 'BCSymmetryPlane' not supported yet.\u001b[0m\n",
      "\u001b[0m\u001b[33m2025-06-07 19:44:15.413 ( 175.356s) [    7B5A53DD2740]      vtkCGNSReader.cxx:4267  WARN| vtkCGNSReader (0x556de83793e0): Skipping BC_t node: BC_t type 'BCTunnelOutflow' not supported yet.\u001b[0m\n",
      "\u001b[0m\u001b[33m2025-06-07 19:44:15.837 ( 175.780s) [    7B5A53DD2740]      vtkCGNSReader.cxx:4267  WARN| vtkCGNSReader (0x556de9fa33f0): Skipping BC_t node: BC_t type 'BCInflow' not supported yet.\u001b[0m\n",
      "\u001b[0m\u001b[33m2025-06-07 19:44:15.837 ( 175.780s) [    7B5A53DD2740]      vtkCGNSReader.cxx:4267  WARN| vtkCGNSReader (0x556de9fa33f0): Skipping BC_t node: BC_t type 'BCSymmetryPlane' not supported yet.\u001b[0m\n",
      "\u001b[0m\u001b[33m2025-06-07 19:44:15.837 ( 175.780s) [    7B5A53DD2740]      vtkCGNSReader.cxx:4267  WARN| vtkCGNSReader (0x556de9fa33f0): Skipping BC_t node: BC_t type 'BCTunnelOutflow' not supported yet.\u001b[0m\n",
      "\u001b[0m\u001b[33m2025-06-07 19:44:16.163 ( 176.106s) [    7B5A53DD2740]      vtkCGNSReader.cxx:4267  WARN| vtkCGNSReader (0x556dea485930): Skipping BC_t node: BC_t type 'BCInflow' not supported yet.\u001b[0m\n",
      "\u001b[0m\u001b[33m2025-06-07 19:44:16.163 ( 176.106s) [    7B5A53DD2740]      vtkCGNSReader.cxx:4267  WARN| vtkCGNSReader (0x556dea485930): Skipping BC_t node: BC_t type 'BCSymmetryPlane' not supported yet.\u001b[0m\n",
      "\u001b[0m\u001b[33m2025-06-07 19:44:16.164 ( 176.107s) [    7B5A53DD2740]      vtkCGNSReader.cxx:4267  WARN| vtkCGNSReader (0x556dea485930): Skipping BC_t node: BC_t type 'BCTunnelOutflow' not supported yet.\u001b[0m\n",
      "\u001b[0m\u001b[33m2025-06-07 19:44:16.254 ( 176.197s) [    7B5A53DD2740]      vtkCGNSReader.cxx:4267  WARN| vtkCGNSReader (0x556de7ea7410): Skipping BC_t node: BC_t type 'BCInflow' not supported yet.\u001b[0m\n",
      "\u001b[0m\u001b[33m2025-06-07 19:44:16.254 ( 176.197s) [    7B5A53DD2740]      vtkCGNSReader.cxx:4267  WARN| vtkCGNSReader (0x556de7ea7410): Skipping BC_t node: BC_t type 'BCSymmetryPlane' not supported yet.\u001b[0m\n",
      "\u001b[0m\u001b[33m2025-06-07 19:44:16.255 ( 176.198s) [    7B5A53DD2740]      vtkCGNSReader.cxx:4267  WARN| vtkCGNSReader (0x556de7ea7410): Skipping BC_t node: BC_t type 'BCTunnelOutflow' not supported yet.\u001b[0m\n",
      "\u001b[0m\u001b[33m2025-06-07 19:44:16.360 ( 176.303s) [    7B5A53DD2740]      vtkCGNSReader.cxx:4267  WARN| vtkCGNSReader (0x556de9ab6f50): Skipping BC_t node: BC_t type 'BCInflow' not supported yet.\u001b[0m\n",
      "\u001b[0m\u001b[33m2025-06-07 19:44:16.388 ( 176.331s) [    7B5A53DD2740]      vtkCGNSReader.cxx:4267  WARN| vtkCGNSReader (0x556de9ab6f50): Skipping BC_t node: BC_t type 'BCSymmetryPlane' not supported yet.\u001b[0m\n",
      "\u001b[0m\u001b[33m2025-06-07 19:44:16.389 ( 176.332s) [    7B5A53DD2740]      vtkCGNSReader.cxx:4267  WARN| vtkCGNSReader (0x556de9ab6f50): Skipping BC_t node: BC_t type 'BCTunnelOutflow' not supported yet.\u001b[0m\n",
      "\u001b[0m\u001b[33m2025-06-07 19:44:16.400 ( 176.343s) [    7B5A53DD2740]      vtkCGNSReader.cxx:4267  WARN| vtkCGNSReader (0x556de7ecf350): Skipping BC_t node: BC_t type 'BCInflow' not supported yet.\u001b[0m\n",
      "\u001b[0m\u001b[33m2025-06-07 19:44:16.400 ( 176.343s) [    7B5A53DD2740]      vtkCGNSReader.cxx:4267  WARN| vtkCGNSReader (0x556de7ecf350): Skipping BC_t node: BC_t type 'BCSymmetryPlane' not supported yet.\u001b[0m\n",
      "\u001b[0m\u001b[33m2025-06-07 19:44:16.400 ( 176.343s) [    7B5A53DD2740]      vtkCGNSReader.cxx:4267  WARN| vtkCGNSReader (0x556de7ecf350): Skipping BC_t node: BC_t type 'BCTunnelOutflow' not supported yet.\u001b[0m\n",
      "\u001b[0m\u001b[33m2025-06-07 19:44:16.767 ( 176.710s) [    7B5A53DD2740]      vtkCGNSReader.cxx:4267  WARN| vtkCGNSReader (0x556de7e2c200): Skipping BC_t node: BC_t type 'BCInflow' not supported yet.\u001b[0m\n",
      "\u001b[0m\u001b[33m2025-06-07 19:44:16.767 ( 176.710s) [    7B5A53DD2740]      vtkCGNSReader.cxx:4267  WARN| vtkCGNSReader (0x556de7e2c200): Skipping BC_t node: BC_t type 'BCSymmetryPlane' not supported yet.\u001b[0m\n",
      "\u001b[0m\u001b[33m2025-06-07 19:44:16.767 ( 176.710s) [    7B5A53DD2740]      vtkCGNSReader.cxx:4267  WARN| vtkCGNSReader (0x556de7e2c200): Skipping BC_t node: BC_t type 'BCTunnelOutflow' not supported yet.\u001b[0m\n",
      "Voxelizing samples:  82%|████████▏ | 82/100 [00:35<00:07,  2.29it/s]\u001b[0m\u001b[33m2025-06-07 19:44:17.760 ( 177.703s) [    7B5A53DD2740]      vtkCGNSReader.cxx:4267  WARN| vtkCGNSReader (0x556dea2d1f30): Skipping BC_t node: BC_t type 'BCInflow' not supported yet.\u001b[0m\n",
      "\u001b[0m\u001b[33m2025-06-07 19:44:17.761 ( 177.704s) [    7B5A53DD2740]      vtkCGNSReader.cxx:4267  WARN| vtkCGNSReader (0x556dea2d1f30): Skipping BC_t node: BC_t type 'BCSymmetryPlane' not supported yet.\u001b[0m\n",
      "\u001b[0m\u001b[33m2025-06-07 19:44:17.761 ( 177.704s) [    7B5A53DD2740]      vtkCGNSReader.cxx:4267  WARN| vtkCGNSReader (0x556dea2d1f30): Skipping BC_t node: BC_t type 'BCTunnelOutflow' not supported yet.\u001b[0m\n",
      "Voxelizing samples:  83%|████████▎ | 83/100 [00:35<00:06,  2.64it/s]\u001b[0m\u001b[33m2025-06-07 19:44:17.869 ( 177.812s) [    7B5A53DD2740]      vtkCGNSReader.cxx:4267  WARN| vtkCGNSReader (0x556dea5e9ed0): Skipping BC_t node: BC_t type 'BCInflow' not supported yet.\u001b[0m\n",
      "\u001b[0m\u001b[33m2025-06-07 19:44:17.869 ( 177.812s) [    7B5A53DD2740]      vtkCGNSReader.cxx:4267  WARN| vtkCGNSReader (0x556dea5e9ed0): Skipping BC_t node: BC_t type 'BCSymmetryPlane' not supported yet.\u001b[0m\n",
      "\u001b[0m\u001b[33m2025-06-07 19:44:17.869 ( 177.812s) [    7B5A53DD2740]      vtkCGNSReader.cxx:4267  WARN| vtkCGNSReader (0x556dea5e9ed0): Skipping BC_t node: BC_t type 'BCTunnelOutflow' not supported yet.\u001b[0m\n",
      "Voxelizing samples:  84%|████████▍ | 84/100 [00:35<00:05,  2.82it/s]\u001b[0m\u001b[33m2025-06-07 19:44:18.079 ( 178.022s) [    7B5A53DD2740]      vtkCGNSReader.cxx:4267  WARN| vtkCGNSReader (0x556deb033a60): Skipping BC_t node: BC_t type 'BCInflow' not supported yet.\u001b[0m\n",
      "\u001b[0m\u001b[33m2025-06-07 19:44:18.079 ( 178.022s) [    7B5A53DD2740]      vtkCGNSReader.cxx:4267  WARN| vtkCGNSReader (0x556deb033a60): Skipping BC_t node: BC_t type 'BCSymmetryPlane' not supported yet.\u001b[0m\n",
      "\u001b[0m\u001b[33m2025-06-07 19:44:18.088 ( 178.031s) [    7B5A53DD2740]      vtkCGNSReader.cxx:4267  WARN| vtkCGNSReader (0x556deb033a60): Skipping BC_t node: BC_t type 'BCTunnelOutflow' not supported yet.\u001b[0m\n",
      "\u001b[0m\u001b[33m2025-06-07 19:44:18.284 ( 178.227s) [    7B5A53DD2740]      vtkCGNSReader.cxx:4267  WARN| vtkCGNSReader (0x556de98ebaf0): Skipping BC_t node: BC_t type 'BCInflow' not supported yet.\u001b[0m\n",
      "\u001b[0m\u001b[33m2025-06-07 19:44:18.284 ( 178.227s) [    7B5A53DD2740]      vtkCGNSReader.cxx:4267  WARN| vtkCGNSReader (0x556de98ebaf0): Skipping BC_t node: BC_t type 'BCSymmetryPlane' not supported yet.\u001b[0m\n",
      "\u001b[0m\u001b[33m2025-06-07 19:44:18.293 ( 178.236s) [    7B5A53DD2740]      vtkCGNSReader.cxx:4267  WARN| vtkCGNSReader (0x556de98ebaf0): Skipping BC_t node: BC_t type 'BCTunnelOutflow' not supported yet.\u001b[0m\n",
      "\u001b[0m\u001b[33m2025-06-07 19:44:18.743 ( 178.686s) [    7B5A53DD2740]      vtkCGNSReader.cxx:4267  WARN| vtkCGNSReader (0x556de84026d0): Skipping BC_t node: BC_t type 'BCInflow' not supported yet.\u001b[0m\n",
      "\u001b[0m\u001b[33m2025-06-07 19:44:18.743 ( 178.686s) [    7B5A53DD2740]      vtkCGNSReader.cxx:4267  WARN| vtkCGNSReader (0x556de84026d0): Skipping BC_t node: BC_t type 'BCSymmetryPlane' not supported yet.\u001b[0m\n",
      "\u001b[0m\u001b[33m2025-06-07 19:44:18.743 ( 178.687s) [    7B5A53DD2740]      vtkCGNSReader.cxx:4267  WARN| vtkCGNSReader (0x556de84026d0): Skipping BC_t node: BC_t type 'BCTunnelOutflow' not supported yet.\u001b[0m\n",
      "Voxelizing samples: 100%|██████████| 100/100 [00:37<00:00,  2.66it/s]\n",
      "LOCAL_RANK: 0 - CUDA_VISIBLE_DEVICES: [0]\n",
      "\n",
      "  | Name  | Type            | Params | Mode \n",
      "--------------------------------------------------\n",
      "0 | model | FlowFieldUNet3D | 9.7 M  | train\n",
      "--------------------------------------------------\n",
      "9.7 M     Trainable params\n",
      "0         Non-trainable params\n",
      "9.7 M     Total params\n",
      "38.666    Total estimated model params size (MB)\n",
      "72        Modules in train mode\n",
      "0         Modules in eval mode\n"
     ]
    },
    {
     "data": {
      "application/vnd.jupyter.widget-view+json": {
       "model_id": "a792c221bd7944fa8b959baac58e7064",
       "version_major": 2,
       "version_minor": 0
      },
      "text/plain": [
       "Sanity Checking: |          | 0/? [00:00<?, ?it/s]"
      ]
     },
     "metadata": {},
     "output_type": "display_data"
    },
    {
     "data": {
      "application/vnd.jupyter.widget-view+json": {
       "model_id": "95cf7faad4b54f9dba3c6f80c07b96b6",
       "version_major": 2,
       "version_minor": 0
      },
      "text/plain": [
       "Training: |          | 0/? [00:00<?, ?it/s]"
      ]
     },
     "metadata": {},
     "output_type": "display_data"
    },
    {
     "data": {
      "application/vnd.jupyter.widget-view+json": {
       "model_id": "fa273fb4452541c18f65f88c7c1e350d",
       "version_major": 2,
       "version_minor": 0
      },
      "text/plain": [
       "Validation: |          | 0/? [00:00<?, ?it/s]"
      ]
     },
     "metadata": {},
     "output_type": "display_data"
    },
    {
     "data": {
      "application/vnd.jupyter.widget-view+json": {
       "model_id": "75af3df1e332497b9207a69bd6ed55bf",
       "version_major": 2,
       "version_minor": 0
      },
      "text/plain": [
       "Validation: |          | 0/? [00:00<?, ?it/s]"
      ]
     },
     "metadata": {},
     "output_type": "display_data"
    },
    {
     "data": {
      "application/vnd.jupyter.widget-view+json": {
       "model_id": "96b1ecb3638e4b929b6f729d0b3d68c9",
       "version_major": 2,
       "version_minor": 0
      },
      "text/plain": [
       "Validation: |          | 0/? [00:00<?, ?it/s]"
      ]
     },
     "metadata": {},
     "output_type": "display_data"
    },
    {
     "data": {
      "application/vnd.jupyter.widget-view+json": {
       "model_id": "e6b851526b6947a6bf9bf62664395482",
       "version_major": 2,
       "version_minor": 0
      },
      "text/plain": [
       "Validation: |          | 0/? [00:00<?, ?it/s]"
      ]
     },
     "metadata": {},
     "output_type": "display_data"
    },
    {
     "data": {
      "application/vnd.jupyter.widget-view+json": {
       "model_id": "c510966a1a844575b32de3ab967690d1",
       "version_major": 2,
       "version_minor": 0
      },
      "text/plain": [
       "Validation: |          | 0/? [00:00<?, ?it/s]"
      ]
     },
     "metadata": {},
     "output_type": "display_data"
    },
    {
     "data": {
      "application/vnd.jupyter.widget-view+json": {
       "model_id": "2bb7cc8dfd394b19b79f385735674544",
       "version_major": 2,
       "version_minor": 0
      },
      "text/plain": [
       "Validation: |          | 0/? [00:00<?, ?it/s]"
      ]
     },
     "metadata": {},
     "output_type": "display_data"
    },
    {
     "data": {
      "application/vnd.jupyter.widget-view+json": {
       "model_id": "56bc1522def040f1b34abfb70eacef74",
       "version_major": 2,
       "version_minor": 0
      },
      "text/plain": [
       "Validation: |          | 0/? [00:00<?, ?it/s]"
      ]
     },
     "metadata": {},
     "output_type": "display_data"
    },
    {
     "data": {
      "application/vnd.jupyter.widget-view+json": {
       "model_id": "0a1bdb99e4564ed19a1ddbf50dceb550",
       "version_major": 2,
       "version_minor": 0
      },
      "text/plain": [
       "Validation: |          | 0/? [00:00<?, ?it/s]"
      ]
     },
     "metadata": {},
     "output_type": "display_data"
    },
    {
     "data": {
      "application/vnd.jupyter.widget-view+json": {
       "model_id": "a9d47b2b11604fb091a0508612683af0",
       "version_major": 2,
       "version_minor": 0
      },
      "text/plain": [
       "Validation: |          | 0/? [00:00<?, ?it/s]"
      ]
     },
     "metadata": {},
     "output_type": "display_data"
    },
    {
     "data": {
      "application/vnd.jupyter.widget-view+json": {
       "model_id": "4a8ebe4039504f6981ec4e64ac2a3173",
       "version_major": 2,
       "version_minor": 0
      },
      "text/plain": [
       "Validation: |          | 0/? [00:00<?, ?it/s]"
      ]
     },
     "metadata": {},
     "output_type": "display_data"
    },
    {
     "data": {
      "application/vnd.jupyter.widget-view+json": {
       "model_id": "1202e73a62ab4fefb30d31f593506489",
       "version_major": 2,
       "version_minor": 0
      },
      "text/plain": [
       "Validation: |          | 0/? [00:00<?, ?it/s]"
      ]
     },
     "metadata": {},
     "output_type": "display_data"
    },
    {
     "data": {
      "application/vnd.jupyter.widget-view+json": {
       "model_id": "a762272700d441a3b8261321a4ec812b",
       "version_major": 2,
       "version_minor": 0
      },
      "text/plain": [
       "Validation: |          | 0/? [00:00<?, ?it/s]"
      ]
     },
     "metadata": {},
     "output_type": "display_data"
    },
    {
     "data": {
      "application/vnd.jupyter.widget-view+json": {
       "model_id": "46ad52b5f5c648788d7594506a2966a3",
       "version_major": 2,
       "version_minor": 0
      },
      "text/plain": [
       "Validation: |          | 0/? [00:00<?, ?it/s]"
      ]
     },
     "metadata": {},
     "output_type": "display_data"
    },
    {
     "data": {
      "application/vnd.jupyter.widget-view+json": {
       "model_id": "a1b5f47589564277881bd944519f096a",
       "version_major": 2,
       "version_minor": 0
      },
      "text/plain": [
       "Validation: |          | 0/? [00:00<?, ?it/s]"
      ]
     },
     "metadata": {},
     "output_type": "display_data"
    },
    {
     "data": {
      "application/vnd.jupyter.widget-view+json": {
       "model_id": "7ab6bc7af1044b55a8d9064855ead69b",
       "version_major": 2,
       "version_minor": 0
      },
      "text/plain": [
       "Validation: |          | 0/? [00:00<?, ?it/s]"
      ]
     },
     "metadata": {},
     "output_type": "display_data"
    },
    {
     "data": {
      "application/vnd.jupyter.widget-view+json": {
       "model_id": "0ff3e59edfa64898b1bedb651c23ec6a",
       "version_major": 2,
       "version_minor": 0
      },
      "text/plain": [
       "Validation: |          | 0/? [00:00<?, ?it/s]"
      ]
     },
     "metadata": {},
     "output_type": "display_data"
    },
    {
     "data": {
      "application/vnd.jupyter.widget-view+json": {
       "model_id": "fffc484d417741b385c9b9554fd4452d",
       "version_major": 2,
       "version_minor": 0
      },
      "text/plain": [
       "Validation: |          | 0/? [00:00<?, ?it/s]"
      ]
     },
     "metadata": {},
     "output_type": "display_data"
    },
    {
     "data": {
      "application/vnd.jupyter.widget-view+json": {
       "model_id": "bf15eef2247d4c22a31e39827891bed9",
       "version_major": 2,
       "version_minor": 0
      },
      "text/plain": [
       "Validation: |          | 0/? [00:00<?, ?it/s]"
      ]
     },
     "metadata": {},
     "output_type": "display_data"
    },
    {
     "data": {
      "application/vnd.jupyter.widget-view+json": {
       "model_id": "ce2ec28963194a739ea53ab74da012c3",
       "version_major": 2,
       "version_minor": 0
      },
      "text/plain": [
       "Validation: |          | 0/? [00:00<?, ?it/s]"
      ]
     },
     "metadata": {},
     "output_type": "display_data"
    },
    {
     "data": {
      "application/vnd.jupyter.widget-view+json": {
       "model_id": "76880b0130534092bada38e3eea55595",
       "version_major": 2,
       "version_minor": 0
      },
      "text/plain": [
       "Validation: |          | 0/? [00:00<?, ?it/s]"
      ]
     },
     "metadata": {},
     "output_type": "display_data"
    },
    {
     "data": {
      "application/vnd.jupyter.widget-view+json": {
       "model_id": "9f93ee9fa1da402397cf71ea107b52b3",
       "version_major": 2,
       "version_minor": 0
      },
      "text/plain": [
       "Validation: |          | 0/? [00:00<?, ?it/s]"
      ]
     },
     "metadata": {},
     "output_type": "display_data"
    },
    {
     "data": {
      "application/vnd.jupyter.widget-view+json": {
       "model_id": "6e7a0636824d48c6868e91e4f7fd7d45",
       "version_major": 2,
       "version_minor": 0
      },
      "text/plain": [
       "Validation: |          | 0/? [00:00<?, ?it/s]"
      ]
     },
     "metadata": {},
     "output_type": "display_data"
    },
    {
     "data": {
      "application/vnd.jupyter.widget-view+json": {
       "model_id": "d9a32c2d72d14821bce221871242d060",
       "version_major": 2,
       "version_minor": 0
      },
      "text/plain": [
       "Validation: |          | 0/? [00:00<?, ?it/s]"
      ]
     },
     "metadata": {},
     "output_type": "display_data"
    },
    {
     "data": {
      "application/vnd.jupyter.widget-view+json": {
       "model_id": "4ea0ce166440401881020a52a22f7c57",
       "version_major": 2,
       "version_minor": 0
      },
      "text/plain": [
       "Validation: |          | 0/? [00:00<?, ?it/s]"
      ]
     },
     "metadata": {},
     "output_type": "display_data"
    },
    {
     "data": {
      "application/vnd.jupyter.widget-view+json": {
       "model_id": "b87e2d609fbc4bc2ae760c4a13b5c655",
       "version_major": 2,
       "version_minor": 0
      },
      "text/plain": [
       "Validation: |          | 0/? [00:00<?, ?it/s]"
      ]
     },
     "metadata": {},
     "output_type": "display_data"
    },
    {
     "data": {
      "application/vnd.jupyter.widget-view+json": {
       "model_id": "28b623585dcc470abdd8ca204d25f2b3",
       "version_major": 2,
       "version_minor": 0
      },
      "text/plain": [
       "Validation: |          | 0/? [00:00<?, ?it/s]"
      ]
     },
     "metadata": {},
     "output_type": "display_data"
    },
    {
     "data": {
      "application/vnd.jupyter.widget-view+json": {
       "model_id": "4b43fde5c774456789eac87b001f5798",
       "version_major": 2,
       "version_minor": 0
      },
      "text/plain": [
       "Validation: |          | 0/? [00:00<?, ?it/s]"
      ]
     },
     "metadata": {},
     "output_type": "display_data"
    },
    {
     "data": {
      "application/vnd.jupyter.widget-view+json": {
       "model_id": "b25ceff033404c60aba6b66d2380b326",
       "version_major": 2,
       "version_minor": 0
      },
      "text/plain": [
       "Validation: |          | 0/? [00:00<?, ?it/s]"
      ]
     },
     "metadata": {},
     "output_type": "display_data"
    },
    {
     "data": {
      "application/vnd.jupyter.widget-view+json": {
       "model_id": "4893d7c771fa4917bbe743943da20885",
       "version_major": 2,
       "version_minor": 0
      },
      "text/plain": [
       "Validation: |          | 0/? [00:00<?, ?it/s]"
      ]
     },
     "metadata": {},
     "output_type": "display_data"
    },
    {
     "data": {
      "application/vnd.jupyter.widget-view+json": {
       "model_id": "c8862a3c5f044f3d9339f93d5cf5ed91",
       "version_major": 2,
       "version_minor": 0
      },
      "text/plain": [
       "Validation: |          | 0/? [00:00<?, ?it/s]"
      ]
     },
     "metadata": {},
     "output_type": "display_data"
    },
    {
     "data": {
      "application/vnd.jupyter.widget-view+json": {
       "model_id": "52bc1367d59a4dd7b255868703133594",
       "version_major": 2,
       "version_minor": 0
      },
      "text/plain": [
       "Validation: |          | 0/? [00:00<?, ?it/s]"
      ]
     },
     "metadata": {},
     "output_type": "display_data"
    },
    {
     "data": {
      "application/vnd.jupyter.widget-view+json": {
       "model_id": "c6c91261554c4b86bd6097a0fde47733",
       "version_major": 2,
       "version_minor": 0
      },
      "text/plain": [
       "Validation: |          | 0/? [00:00<?, ?it/s]"
      ]
     },
     "metadata": {},
     "output_type": "display_data"
    },
    {
     "data": {
      "application/vnd.jupyter.widget-view+json": {
       "model_id": "9bf3315793a744f5806d4d137ca2c1da",
       "version_major": 2,
       "version_minor": 0
      },
      "text/plain": [
       "Validation: |          | 0/? [00:00<?, ?it/s]"
      ]
     },
     "metadata": {},
     "output_type": "display_data"
    },
    {
     "data": {
      "application/vnd.jupyter.widget-view+json": {
       "model_id": "06b095cf97394ed9b32ed4f6dc976164",
       "version_major": 2,
       "version_minor": 0
      },
      "text/plain": [
       "Validation: |          | 0/? [00:00<?, ?it/s]"
      ]
     },
     "metadata": {},
     "output_type": "display_data"
    },
    {
     "data": {
      "application/vnd.jupyter.widget-view+json": {
       "model_id": "5e82815f7bc44a2984a981486478e6ec",
       "version_major": 2,
       "version_minor": 0
      },
      "text/plain": [
       "Validation: |          | 0/? [00:00<?, ?it/s]"
      ]
     },
     "metadata": {},
     "output_type": "display_data"
    },
    {
     "data": {
      "application/vnd.jupyter.widget-view+json": {
       "model_id": "bef35f0b431c499ba9b0552fcd3bd829",
       "version_major": 2,
       "version_minor": 0
      },
      "text/plain": [
       "Validation: |          | 0/? [00:00<?, ?it/s]"
      ]
     },
     "metadata": {},
     "output_type": "display_data"
    },
    {
     "data": {
      "application/vnd.jupyter.widget-view+json": {
       "model_id": "dd1e51fdea4940dc95a1be1799772b9e",
       "version_major": 2,
       "version_minor": 0
      },
      "text/plain": [
       "Validation: |          | 0/? [00:00<?, ?it/s]"
      ]
     },
     "metadata": {},
     "output_type": "display_data"
    },
    {
     "data": {
      "application/vnd.jupyter.widget-view+json": {
       "model_id": "747fd498b57a4796bca0206a35cac539",
       "version_major": 2,
       "version_minor": 0
      },
      "text/plain": [
       "Validation: |          | 0/? [00:00<?, ?it/s]"
      ]
     },
     "metadata": {},
     "output_type": "display_data"
    },
    {
     "data": {
      "application/vnd.jupyter.widget-view+json": {
       "model_id": "d3347c7f473e4ef582beeb62be40a998",
       "version_major": 2,
       "version_minor": 0
      },
      "text/plain": [
       "Validation: |          | 0/? [00:00<?, ?it/s]"
      ]
     },
     "metadata": {},
     "output_type": "display_data"
    },
    {
     "data": {
      "application/vnd.jupyter.widget-view+json": {
       "model_id": "74f2b1ea8990441db23d698afeb5cca7",
       "version_major": 2,
       "version_minor": 0
      },
      "text/plain": [
       "Validation: |          | 0/? [00:00<?, ?it/s]"
      ]
     },
     "metadata": {},
     "output_type": "display_data"
    },
    {
     "data": {
      "application/vnd.jupyter.widget-view+json": {
       "model_id": "eea3aad198d24145b5c364905835fccb",
       "version_major": 2,
       "version_minor": 0
      },
      "text/plain": [
       "Validation: |          | 0/? [00:00<?, ?it/s]"
      ]
     },
     "metadata": {},
     "output_type": "display_data"
    },
    {
     "data": {
      "application/vnd.jupyter.widget-view+json": {
       "model_id": "afc1076245314fa5af9b6a4cf39520e8",
       "version_major": 2,
       "version_minor": 0
      },
      "text/plain": [
       "Validation: |          | 0/? [00:00<?, ?it/s]"
      ]
     },
     "metadata": {},
     "output_type": "display_data"
    },
    {
     "data": {
      "application/vnd.jupyter.widget-view+json": {
       "model_id": "57a6b8db5a3a47df9ea95bd1af680cb4",
       "version_major": 2,
       "version_minor": 0
      },
      "text/plain": [
       "Validation: |          | 0/? [00:00<?, ?it/s]"
      ]
     },
     "metadata": {},
     "output_type": "display_data"
    },
    {
     "data": {
      "application/vnd.jupyter.widget-view+json": {
       "model_id": "4cff058ac76e49ceae4b1d1ad1bc9cec",
       "version_major": 2,
       "version_minor": 0
      },
      "text/plain": [
       "Validation: |          | 0/? [00:00<?, ?it/s]"
      ]
     },
     "metadata": {},
     "output_type": "display_data"
    },
    {
     "data": {
      "application/vnd.jupyter.widget-view+json": {
       "model_id": "b59a3e1043344611bee34b3e5a6fc39c",
       "version_major": 2,
       "version_minor": 0
      },
      "text/plain": [
       "Validation: |          | 0/? [00:00<?, ?it/s]"
      ]
     },
     "metadata": {},
     "output_type": "display_data"
    },
    {
     "data": {
      "application/vnd.jupyter.widget-view+json": {
       "model_id": "9a00f90dae2c44e0a4a571b38adbc6a7",
       "version_major": 2,
       "version_minor": 0
      },
      "text/plain": [
       "Validation: |          | 0/? [00:00<?, ?it/s]"
      ]
     },
     "metadata": {},
     "output_type": "display_data"
    },
    {
     "data": {
      "application/vnd.jupyter.widget-view+json": {
       "model_id": "3efd1995fb954ad6b7dc7af255cc28af",
       "version_major": 2,
       "version_minor": 0
      },
      "text/plain": [
       "Validation: |          | 0/? [00:00<?, ?it/s]"
      ]
     },
     "metadata": {},
     "output_type": "display_data"
    },
    {
     "data": {
      "application/vnd.jupyter.widget-view+json": {
       "model_id": "a6f9c23708c74ff1856e1cb7a0010f97",
       "version_major": 2,
       "version_minor": 0
      },
      "text/plain": [
       "Validation: |          | 0/? [00:00<?, ?it/s]"
      ]
     },
     "metadata": {},
     "output_type": "display_data"
    },
    {
     "data": {
      "application/vnd.jupyter.widget-view+json": {
       "model_id": "25abdf6f3e034d1aaad670d1fb168cbe",
       "version_major": 2,
       "version_minor": 0
      },
      "text/plain": [
       "Validation: |          | 0/? [00:00<?, ?it/s]"
      ]
     },
     "metadata": {},
     "output_type": "display_data"
    },
    {
     "data": {
      "application/vnd.jupyter.widget-view+json": {
       "model_id": "7e5b67fee67b4b9587efa7cb48df16f7",
       "version_major": 2,
       "version_minor": 0
      },
      "text/plain": [
       "Validation: |          | 0/? [00:00<?, ?it/s]"
      ]
     },
     "metadata": {},
     "output_type": "display_data"
    },
    {
     "data": {
      "application/vnd.jupyter.widget-view+json": {
       "model_id": "9a674155a6b64ee6bc0373d4cfc02e6d",
       "version_major": 2,
       "version_minor": 0
      },
      "text/plain": [
       "Validation: |          | 0/? [00:00<?, ?it/s]"
      ]
     },
     "metadata": {},
     "output_type": "display_data"
    },
    {
     "data": {
      "application/vnd.jupyter.widget-view+json": {
       "model_id": "951f81fd8cc74a2d814e7d3604d43931",
       "version_major": 2,
       "version_minor": 0
      },
      "text/plain": [
       "Validation: |          | 0/? [00:00<?, ?it/s]"
      ]
     },
     "metadata": {},
     "output_type": "display_data"
    },
    {
     "data": {
      "application/vnd.jupyter.widget-view+json": {
       "model_id": "2d768be24d8843309d58422c2b8327fa",
       "version_major": 2,
       "version_minor": 0
      },
      "text/plain": [
       "Validation: |          | 0/? [00:00<?, ?it/s]"
      ]
     },
     "metadata": {},
     "output_type": "display_data"
    },
    {
     "data": {
      "application/vnd.jupyter.widget-view+json": {
       "model_id": "c9a4cd7fb5b84cf1b4d88ad25c0917fe",
       "version_major": 2,
       "version_minor": 0
      },
      "text/plain": [
       "Validation: |          | 0/? [00:00<?, ?it/s]"
      ]
     },
     "metadata": {},
     "output_type": "display_data"
    },
    {
     "data": {
      "application/vnd.jupyter.widget-view+json": {
       "model_id": "903b208ee94b4cdebc78abb5ede1083f",
       "version_major": 2,
       "version_minor": 0
      },
      "text/plain": [
       "Validation: |          | 0/? [00:00<?, ?it/s]"
      ]
     },
     "metadata": {},
     "output_type": "display_data"
    },
    {
     "data": {
      "application/vnd.jupyter.widget-view+json": {
       "model_id": "081e805aa9014db0832e92117bf955c5",
       "version_major": 2,
       "version_minor": 0
      },
      "text/plain": [
       "Validation: |          | 0/? [00:00<?, ?it/s]"
      ]
     },
     "metadata": {},
     "output_type": "display_data"
    },
    {
     "data": {
      "application/vnd.jupyter.widget-view+json": {
       "model_id": "04ac01bfc0f1482ea700f465263e8abe",
       "version_major": 2,
       "version_minor": 0
      },
      "text/plain": [
       "Validation: |          | 0/? [00:00<?, ?it/s]"
      ]
     },
     "metadata": {},
     "output_type": "display_data"
    },
    {
     "data": {
      "application/vnd.jupyter.widget-view+json": {
       "model_id": "3fe1cd410f0d42abbc27efa7d82aff92",
       "version_major": 2,
       "version_minor": 0
      },
      "text/plain": [
       "Validation: |          | 0/? [00:00<?, ?it/s]"
      ]
     },
     "metadata": {},
     "output_type": "display_data"
    },
    {
     "data": {
      "application/vnd.jupyter.widget-view+json": {
       "model_id": "6919bc73f7fc441d96f7245e5ec05340",
       "version_major": 2,
       "version_minor": 0
      },
      "text/plain": [
       "Validation: |          | 0/? [00:00<?, ?it/s]"
      ]
     },
     "metadata": {},
     "output_type": "display_data"
    },
    {
     "data": {
      "application/vnd.jupyter.widget-view+json": {
       "model_id": "8f3e2059d50345acaa3ea59381cb9e2b",
       "version_major": 2,
       "version_minor": 0
      },
      "text/plain": [
       "Validation: |          | 0/? [00:00<?, ?it/s]"
      ]
     },
     "metadata": {},
     "output_type": "display_data"
    },
    {
     "data": {
      "application/vnd.jupyter.widget-view+json": {
       "model_id": "0c1a027ee1e84207a867a73861034696",
       "version_major": 2,
       "version_minor": 0
      },
      "text/plain": [
       "Validation: |          | 0/? [00:00<?, ?it/s]"
      ]
     },
     "metadata": {},
     "output_type": "display_data"
    },
    {
     "data": {
      "application/vnd.jupyter.widget-view+json": {
       "model_id": "113adb1a0d704f528029077ec1dce8db",
       "version_major": 2,
       "version_minor": 0
      },
      "text/plain": [
       "Validation: |          | 0/? [00:00<?, ?it/s]"
      ]
     },
     "metadata": {},
     "output_type": "display_data"
    },
    {
     "data": {
      "application/vnd.jupyter.widget-view+json": {
       "model_id": "3b45bddc01884cb1887358114ab8156b",
       "version_major": 2,
       "version_minor": 0
      },
      "text/plain": [
       "Validation: |          | 0/? [00:00<?, ?it/s]"
      ]
     },
     "metadata": {},
     "output_type": "display_data"
    },
    {
     "data": {
      "application/vnd.jupyter.widget-view+json": {
       "model_id": "2e68530667fd4226ba94189b15d048a8",
       "version_major": 2,
       "version_minor": 0
      },
      "text/plain": [
       "Validation: |          | 0/? [00:00<?, ?it/s]"
      ]
     },
     "metadata": {},
     "output_type": "display_data"
    },
    {
     "data": {
      "application/vnd.jupyter.widget-view+json": {
       "model_id": "d82aa6a33d6e4fb9975d3c724972b277",
       "version_major": 2,
       "version_minor": 0
      },
      "text/plain": [
       "Validation: |          | 0/? [00:00<?, ?it/s]"
      ]
     },
     "metadata": {},
     "output_type": "display_data"
    },
    {
     "data": {
      "application/vnd.jupyter.widget-view+json": {
       "model_id": "4c252a11659748679f6691b2ded29a8f",
       "version_major": 2,
       "version_minor": 0
      },
      "text/plain": [
       "Validation: |          | 0/? [00:00<?, ?it/s]"
      ]
     },
     "metadata": {},
     "output_type": "display_data"
    },
    {
     "data": {
      "application/vnd.jupyter.widget-view+json": {
       "model_id": "4cb0a93f59d24a7cac661bfd9bc7bd2d",
       "version_major": 2,
       "version_minor": 0
      },
      "text/plain": [
       "Validation: |          | 0/? [00:00<?, ?it/s]"
      ]
     },
     "metadata": {},
     "output_type": "display_data"
    },
    {
     "data": {
      "application/vnd.jupyter.widget-view+json": {
       "model_id": "8e9a669890c04806b0bb3f958ef359eb",
       "version_major": 2,
       "version_minor": 0
      },
      "text/plain": [
       "Validation: |          | 0/? [00:00<?, ?it/s]"
      ]
     },
     "metadata": {},
     "output_type": "display_data"
    },
    {
     "data": {
      "application/vnd.jupyter.widget-view+json": {
       "model_id": "d94e452b494e495ea8786b8ab080ab19",
       "version_major": 2,
       "version_minor": 0
      },
      "text/plain": [
       "Validation: |          | 0/? [00:00<?, ?it/s]"
      ]
     },
     "metadata": {},
     "output_type": "display_data"
    },
    {
     "data": {
      "application/vnd.jupyter.widget-view+json": {
       "model_id": "0b07cacfb9b145e18669ec3df21352a7",
       "version_major": 2,
       "version_minor": 0
      },
      "text/plain": [
       "Validation: |          | 0/? [00:00<?, ?it/s]"
      ]
     },
     "metadata": {},
     "output_type": "display_data"
    },
    {
     "data": {
      "application/vnd.jupyter.widget-view+json": {
       "model_id": "b51ca37ce83b4373b8a4414576949ca6",
       "version_major": 2,
       "version_minor": 0
      },
      "text/plain": [
       "Validation: |          | 0/? [00:00<?, ?it/s]"
      ]
     },
     "metadata": {},
     "output_type": "display_data"
    },
    {
     "data": {
      "application/vnd.jupyter.widget-view+json": {
       "model_id": "d293dc6d624e4a90b51ae82f90be1862",
       "version_major": 2,
       "version_minor": 0
      },
      "text/plain": [
       "Validation: |          | 0/? [00:00<?, ?it/s]"
      ]
     },
     "metadata": {},
     "output_type": "display_data"
    },
    {
     "data": {
      "application/vnd.jupyter.widget-view+json": {
       "model_id": "38047a856c064cbd92927a2101095948",
       "version_major": 2,
       "version_minor": 0
      },
      "text/plain": [
       "Validation: |          | 0/? [00:00<?, ?it/s]"
      ]
     },
     "metadata": {},
     "output_type": "display_data"
    },
    {
     "data": {
      "application/vnd.jupyter.widget-view+json": {
       "model_id": "15f6143d9f8d4c99b3d1c4410f6d89da",
       "version_major": 2,
       "version_minor": 0
      },
      "text/plain": [
       "Validation: |          | 0/? [00:00<?, ?it/s]"
      ]
     },
     "metadata": {},
     "output_type": "display_data"
    },
    {
     "data": {
      "application/vnd.jupyter.widget-view+json": {
       "model_id": "d98efc7f3d5541eaa122b7546a17e21e",
       "version_major": 2,
       "version_minor": 0
      },
      "text/plain": [
       "Validation: |          | 0/? [00:00<?, ?it/s]"
      ]
     },
     "metadata": {},
     "output_type": "display_data"
    },
    {
     "data": {
      "application/vnd.jupyter.widget-view+json": {
       "model_id": "529bc114e165485889ab071a90fe8241",
       "version_major": 2,
       "version_minor": 0
      },
      "text/plain": [
       "Validation: |          | 0/? [00:00<?, ?it/s]"
      ]
     },
     "metadata": {},
     "output_type": "display_data"
    },
    {
     "data": {
      "application/vnd.jupyter.widget-view+json": {
       "model_id": "81a18b70541144068fa304f583f633ef",
       "version_major": 2,
       "version_minor": 0
      },
      "text/plain": [
       "Validation: |          | 0/? [00:00<?, ?it/s]"
      ]
     },
     "metadata": {},
     "output_type": "display_data"
    },
    {
     "data": {
      "application/vnd.jupyter.widget-view+json": {
       "model_id": "9634324c2ce74a4390489e32836b7082",
       "version_major": 2,
       "version_minor": 0
      },
      "text/plain": [
       "Validation: |          | 0/? [00:00<?, ?it/s]"
      ]
     },
     "metadata": {},
     "output_type": "display_data"
    },
    {
     "data": {
      "application/vnd.jupyter.widget-view+json": {
       "model_id": "7ab4db4987fd4fd398f7f37184cf4d3f",
       "version_major": 2,
       "version_minor": 0
      },
      "text/plain": [
       "Validation: |          | 0/? [00:00<?, ?it/s]"
      ]
     },
     "metadata": {},
     "output_type": "display_data"
    },
    {
     "data": {
      "application/vnd.jupyter.widget-view+json": {
       "model_id": "21cfac8543a641288c2795613aa3713d",
       "version_major": 2,
       "version_minor": 0
      },
      "text/plain": [
       "Validation: |          | 0/? [00:00<?, ?it/s]"
      ]
     },
     "metadata": {},
     "output_type": "display_data"
    },
    {
     "data": {
      "application/vnd.jupyter.widget-view+json": {
       "model_id": "7bc50510bf9a487da39b04238fbe005a",
       "version_major": 2,
       "version_minor": 0
      },
      "text/plain": [
       "Validation: |          | 0/? [00:00<?, ?it/s]"
      ]
     },
     "metadata": {},
     "output_type": "display_data"
    },
    {
     "data": {
      "application/vnd.jupyter.widget-view+json": {
       "model_id": "64851e9587c8425a853e8ddb1343063e",
       "version_major": 2,
       "version_minor": 0
      },
      "text/plain": [
       "Validation: |          | 0/? [00:00<?, ?it/s]"
      ]
     },
     "metadata": {},
     "output_type": "display_data"
    },
    {
     "data": {
      "application/vnd.jupyter.widget-view+json": {
       "model_id": "edc3e466a47b40248bbf927d2d5a0e43",
       "version_major": 2,
       "version_minor": 0
      },
      "text/plain": [
       "Validation: |          | 0/? [00:00<?, ?it/s]"
      ]
     },
     "metadata": {},
     "output_type": "display_data"
    },
    {
     "data": {
      "application/vnd.jupyter.widget-view+json": {
       "model_id": "ee1cde4de16346a5bf81a723633b939f",
       "version_major": 2,
       "version_minor": 0
      },
      "text/plain": [
       "Validation: |          | 0/? [00:00<?, ?it/s]"
      ]
     },
     "metadata": {},
     "output_type": "display_data"
    },
    {
     "data": {
      "application/vnd.jupyter.widget-view+json": {
       "model_id": "d8da0a0881b44dfcb40e23b2752b4cd9",
       "version_major": 2,
       "version_minor": 0
      },
      "text/plain": [
       "Validation: |          | 0/? [00:00<?, ?it/s]"
      ]
     },
     "metadata": {},
     "output_type": "display_data"
    },
    {
     "data": {
      "application/vnd.jupyter.widget-view+json": {
       "model_id": "975248001bae46528be60b804999cc5c",
       "version_major": 2,
       "version_minor": 0
      },
      "text/plain": [
       "Validation: |          | 0/? [00:00<?, ?it/s]"
      ]
     },
     "metadata": {},
     "output_type": "display_data"
    },
    {
     "data": {
      "application/vnd.jupyter.widget-view+json": {
       "model_id": "e7dabf97f1cd4550a66f8a4c20c33746",
       "version_major": 2,
       "version_minor": 0
      },
      "text/plain": [
       "Validation: |          | 0/? [00:00<?, ?it/s]"
      ]
     },
     "metadata": {},
     "output_type": "display_data"
    },
    {
     "data": {
      "application/vnd.jupyter.widget-view+json": {
       "model_id": "3048269277ba4d2cabfd014ce4185082",
       "version_major": 2,
       "version_minor": 0
      },
      "text/plain": [
       "Validation: |          | 0/? [00:00<?, ?it/s]"
      ]
     },
     "metadata": {},
     "output_type": "display_data"
    },
    {
     "data": {
      "application/vnd.jupyter.widget-view+json": {
       "model_id": "add17967b07346c4947536f7da78b998",
       "version_major": 2,
       "version_minor": 0
      },
      "text/plain": [
       "Validation: |          | 0/? [00:00<?, ?it/s]"
      ]
     },
     "metadata": {},
     "output_type": "display_data"
    },
    {
     "data": {
      "application/vnd.jupyter.widget-view+json": {
       "model_id": "c86a3f16a8df4ebb86b445080ef0b0ef",
       "version_major": 2,
       "version_minor": 0
      },
      "text/plain": [
       "Validation: |          | 0/? [00:00<?, ?it/s]"
      ]
     },
     "metadata": {},
     "output_type": "display_data"
    },
    {
     "data": {
      "application/vnd.jupyter.widget-view+json": {
       "model_id": "96d297a987d74052917fa8131e425fef",
       "version_major": 2,
       "version_minor": 0
      },
      "text/plain": [
       "Validation: |          | 0/? [00:00<?, ?it/s]"
      ]
     },
     "metadata": {},
     "output_type": "display_data"
    },
    {
     "data": {
      "application/vnd.jupyter.widget-view+json": {
       "model_id": "d5f728dd2f214d3ab82f33c53e7df26d",
       "version_major": 2,
       "version_minor": 0
      },
      "text/plain": [
       "Validation: |          | 0/? [00:00<?, ?it/s]"
      ]
     },
     "metadata": {},
     "output_type": "display_data"
    },
    {
     "data": {
      "application/vnd.jupyter.widget-view+json": {
       "model_id": "00d5f6073c084eacb08da23800343cdd",
       "version_major": 2,
       "version_minor": 0
      },
      "text/plain": [
       "Validation: |          | 0/? [00:00<?, ?it/s]"
      ]
     },
     "metadata": {},
     "output_type": "display_data"
    },
    {
     "data": {
      "application/vnd.jupyter.widget-view+json": {
       "model_id": "34e254195599433399acb074de8610d0",
       "version_major": 2,
       "version_minor": 0
      },
      "text/plain": [
       "Validation: |          | 0/? [00:00<?, ?it/s]"
      ]
     },
     "metadata": {},
     "output_type": "display_data"
    },
    {
     "data": {
      "application/vnd.jupyter.widget-view+json": {
       "model_id": "60fbb5476f244f598ae666ba52eb0f03",
       "version_major": 2,
       "version_minor": 0
      },
      "text/plain": [
       "Validation: |          | 0/? [00:00<?, ?it/s]"
      ]
     },
     "metadata": {},
     "output_type": "display_data"
    },
    {
     "data": {
      "application/vnd.jupyter.widget-view+json": {
       "model_id": "d8d4f62135c847d3a72086938e4e579c",
       "version_major": 2,
       "version_minor": 0
      },
      "text/plain": [
       "Validation: |          | 0/? [00:00<?, ?it/s]"
      ]
     },
     "metadata": {},
     "output_type": "display_data"
    },
    {
     "data": {
      "application/vnd.jupyter.widget-view+json": {
       "model_id": "e2b6cf2918f74f59893cde581c2dd047",
       "version_major": 2,
       "version_minor": 0
      },
      "text/plain": [
       "Validation: |          | 0/? [00:00<?, ?it/s]"
      ]
     },
     "metadata": {},
     "output_type": "display_data"
    },
    {
     "data": {
      "application/vnd.jupyter.widget-view+json": {
       "model_id": "106554d486434b449390f510f87bc35f",
       "version_major": 2,
       "version_minor": 0
      },
      "text/plain": [
       "Validation: |          | 0/? [00:00<?, ?it/s]"
      ]
     },
     "metadata": {},
     "output_type": "display_data"
    },
    {
     "data": {
      "application/vnd.jupyter.widget-view+json": {
       "model_id": "f16dec7bbe444f519722004b59e9ef1c",
       "version_major": 2,
       "version_minor": 0
      },
      "text/plain": [
       "Validation: |          | 0/? [00:00<?, ?it/s]"
      ]
     },
     "metadata": {},
     "output_type": "display_data"
    },
    {
     "data": {
      "application/vnd.jupyter.widget-view+json": {
       "model_id": "150cff2a961944f6aa4a161d478245fa",
       "version_major": 2,
       "version_minor": 0
      },
      "text/plain": [
       "Validation: |          | 0/? [00:00<?, ?it/s]"
      ]
     },
     "metadata": {},
     "output_type": "display_data"
    },
    {
     "data": {
      "application/vnd.jupyter.widget-view+json": {
       "model_id": "c33b496474c94e73a5a992eece2a82b2",
       "version_major": 2,
       "version_minor": 0
      },
      "text/plain": [
       "Validation: |          | 0/? [00:00<?, ?it/s]"
      ]
     },
     "metadata": {},
     "output_type": "display_data"
    },
    {
     "data": {
      "application/vnd.jupyter.widget-view+json": {
       "model_id": "d4c4548d9af84b9082ed6b892764166a",
       "version_major": 2,
       "version_minor": 0
      },
      "text/plain": [
       "Validation: |          | 0/? [00:00<?, ?it/s]"
      ]
     },
     "metadata": {},
     "output_type": "display_data"
    },
    {
     "data": {
      "application/vnd.jupyter.widget-view+json": {
       "model_id": "53789e367a264882bc9a795baaa619e3",
       "version_major": 2,
       "version_minor": 0
      },
      "text/plain": [
       "Validation: |          | 0/? [00:00<?, ?it/s]"
      ]
     },
     "metadata": {},
     "output_type": "display_data"
    },
    {
     "data": {
      "application/vnd.jupyter.widget-view+json": {
       "model_id": "348fad041a57452d9617fc6dc3f2aa29",
       "version_major": 2,
       "version_minor": 0
      },
      "text/plain": [
       "Validation: |          | 0/? [00:00<?, ?it/s]"
      ]
     },
     "metadata": {},
     "output_type": "display_data"
    },
    {
     "data": {
      "application/vnd.jupyter.widget-view+json": {
       "model_id": "4c8b300df5b34c398f961b245a3339d4",
       "version_major": 2,
       "version_minor": 0
      },
      "text/plain": [
       "Validation: |          | 0/? [00:00<?, ?it/s]"
      ]
     },
     "metadata": {},
     "output_type": "display_data"
    },
    {
     "data": {
      "application/vnd.jupyter.widget-view+json": {
       "model_id": "2a55dc9133fa4590955b55e9cd2de046",
       "version_major": 2,
       "version_minor": 0
      },
      "text/plain": [
       "Validation: |          | 0/? [00:00<?, ?it/s]"
      ]
     },
     "metadata": {},
     "output_type": "display_data"
    },
    {
     "data": {
      "application/vnd.jupyter.widget-view+json": {
       "model_id": "cbe84a41c233413fb4fcb6773fa698aa",
       "version_major": 2,
       "version_minor": 0
      },
      "text/plain": [
       "Validation: |          | 0/? [00:00<?, ?it/s]"
      ]
     },
     "metadata": {},
     "output_type": "display_data"
    },
    {
     "data": {
      "application/vnd.jupyter.widget-view+json": {
       "model_id": "b3bb0b9dad234423b2e424f980c5f6cd",
       "version_major": 2,
       "version_minor": 0
      },
      "text/plain": [
       "Validation: |          | 0/? [00:00<?, ?it/s]"
      ]
     },
     "metadata": {},
     "output_type": "display_data"
    },
    {
     "data": {
      "application/vnd.jupyter.widget-view+json": {
       "model_id": "ee7fd73f941f4000bbadeaa4f42ba4ea",
       "version_major": 2,
       "version_minor": 0
      },
      "text/plain": [
       "Validation: |          | 0/? [00:00<?, ?it/s]"
      ]
     },
     "metadata": {},
     "output_type": "display_data"
    },
    {
     "data": {
      "application/vnd.jupyter.widget-view+json": {
       "model_id": "db284a4773874ae9b0669a2c4e74841e",
       "version_major": 2,
       "version_minor": 0
      },
      "text/plain": [
       "Validation: |          | 0/? [00:00<?, ?it/s]"
      ]
     },
     "metadata": {},
     "output_type": "display_data"
    },
    {
     "data": {
      "application/vnd.jupyter.widget-view+json": {
       "model_id": "cdbe2b735830403fa9c6027268653f85",
       "version_major": 2,
       "version_minor": 0
      },
      "text/plain": [
       "Validation: |          | 0/? [00:00<?, ?it/s]"
      ]
     },
     "metadata": {},
     "output_type": "display_data"
    },
    {
     "data": {
      "application/vnd.jupyter.widget-view+json": {
       "model_id": "850f8582ce9a4772870dc88b1a2a8990",
       "version_major": 2,
       "version_minor": 0
      },
      "text/plain": [
       "Validation: |          | 0/? [00:00<?, ?it/s]"
      ]
     },
     "metadata": {},
     "output_type": "display_data"
    },
    {
     "data": {
      "application/vnd.jupyter.widget-view+json": {
       "model_id": "3e48e4131efa451c9d48dde1459fe4ee",
       "version_major": 2,
       "version_minor": 0
      },
      "text/plain": [
       "Validation: |          | 0/? [00:00<?, ?it/s]"
      ]
     },
     "metadata": {},
     "output_type": "display_data"
    },
    {
     "data": {
      "application/vnd.jupyter.widget-view+json": {
       "model_id": "8c08ddca177b48a1b2f03c011eff50a6",
       "version_major": 2,
       "version_minor": 0
      },
      "text/plain": [
       "Validation: |          | 0/? [00:00<?, ?it/s]"
      ]
     },
     "metadata": {},
     "output_type": "display_data"
    },
    {
     "data": {
      "application/vnd.jupyter.widget-view+json": {
       "model_id": "9ce2d62b895e45c6acb59048a3ba5194",
       "version_major": 2,
       "version_minor": 0
      },
      "text/plain": [
       "Validation: |          | 0/? [00:00<?, ?it/s]"
      ]
     },
     "metadata": {},
     "output_type": "display_data"
    },
    {
     "data": {
      "application/vnd.jupyter.widget-view+json": {
       "model_id": "d701a105eab149e79b6aa2b5572209ef",
       "version_major": 2,
       "version_minor": 0
      },
      "text/plain": [
       "Validation: |          | 0/? [00:00<?, ?it/s]"
      ]
     },
     "metadata": {},
     "output_type": "display_data"
    },
    {
     "data": {
      "application/vnd.jupyter.widget-view+json": {
       "model_id": "7cd3d6a31caa45ce895612d905c6e2a2",
       "version_major": 2,
       "version_minor": 0
      },
      "text/plain": [
       "Validation: |          | 0/? [00:00<?, ?it/s]"
      ]
     },
     "metadata": {},
     "output_type": "display_data"
    },
    {
     "data": {
      "application/vnd.jupyter.widget-view+json": {
       "model_id": "22966f418d7f483392a58316a75cdb17",
       "version_major": 2,
       "version_minor": 0
      },
      "text/plain": [
       "Validation: |          | 0/? [00:00<?, ?it/s]"
      ]
     },
     "metadata": {},
     "output_type": "display_data"
    },
    {
     "data": {
      "application/vnd.jupyter.widget-view+json": {
       "model_id": "4d54f3a47f70413692bb9c4b2f807862",
       "version_major": 2,
       "version_minor": 0
      },
      "text/plain": [
       "Validation: |          | 0/? [00:00<?, ?it/s]"
      ]
     },
     "metadata": {},
     "output_type": "display_data"
    },
    {
     "data": {
      "application/vnd.jupyter.widget-view+json": {
       "model_id": "081aaf34b1be4e5caf70918f5fa65c49",
       "version_major": 2,
       "version_minor": 0
      },
      "text/plain": [
       "Validation: |          | 0/? [00:00<?, ?it/s]"
      ]
     },
     "metadata": {},
     "output_type": "display_data"
    },
    {
     "data": {
      "application/vnd.jupyter.widget-view+json": {
       "model_id": "102a3ae251034a0aa952081aded36501",
       "version_major": 2,
       "version_minor": 0
      },
      "text/plain": [
       "Validation: |          | 0/? [00:00<?, ?it/s]"
      ]
     },
     "metadata": {},
     "output_type": "display_data"
    },
    {
     "data": {
      "application/vnd.jupyter.widget-view+json": {
       "model_id": "6c3afd30e36f4b44b8b43bf0774d95fb",
       "version_major": 2,
       "version_minor": 0
      },
      "text/plain": [
       "Validation: |          | 0/? [00:00<?, ?it/s]"
      ]
     },
     "metadata": {},
     "output_type": "display_data"
    },
    {
     "data": {
      "application/vnd.jupyter.widget-view+json": {
       "model_id": "c47602bc90f94839a73407b86d8a107d",
       "version_major": 2,
       "version_minor": 0
      },
      "text/plain": [
       "Validation: |          | 0/? [00:00<?, ?it/s]"
      ]
     },
     "metadata": {},
     "output_type": "display_data"
    },
    {
     "data": {
      "application/vnd.jupyter.widget-view+json": {
       "model_id": "0aeb7127d77e4663a443ea2bb752f3f3",
       "version_major": 2,
       "version_minor": 0
      },
      "text/plain": [
       "Validation: |          | 0/? [00:00<?, ?it/s]"
      ]
     },
     "metadata": {},
     "output_type": "display_data"
    },
    {
     "data": {
      "application/vnd.jupyter.widget-view+json": {
       "model_id": "2cf1ceb10e044052ab7815171fc6676a",
       "version_major": 2,
       "version_minor": 0
      },
      "text/plain": [
       "Validation: |          | 0/? [00:00<?, ?it/s]"
      ]
     },
     "metadata": {},
     "output_type": "display_data"
    },
    {
     "data": {
      "application/vnd.jupyter.widget-view+json": {
       "model_id": "cbd0b6f6f4104295a10a0944518cd634",
       "version_major": 2,
       "version_minor": 0
      },
      "text/plain": [
       "Validation: |          | 0/? [00:00<?, ?it/s]"
      ]
     },
     "metadata": {},
     "output_type": "display_data"
    },
    {
     "data": {
      "application/vnd.jupyter.widget-view+json": {
       "model_id": "4f4aa500dab847eea4d6551c1cb4ee77",
       "version_major": 2,
       "version_minor": 0
      },
      "text/plain": [
       "Validation: |          | 0/? [00:00<?, ?it/s]"
      ]
     },
     "metadata": {},
     "output_type": "display_data"
    },
    {
     "data": {
      "application/vnd.jupyter.widget-view+json": {
       "model_id": "c21b7df9c60147599ecbcdc90365a687",
       "version_major": 2,
       "version_minor": 0
      },
      "text/plain": [
       "Validation: |          | 0/? [00:00<?, ?it/s]"
      ]
     },
     "metadata": {},
     "output_type": "display_data"
    },
    {
     "data": {
      "application/vnd.jupyter.widget-view+json": {
       "model_id": "45b5cd1c988b4ac28056d6455a6886eb",
       "version_major": 2,
       "version_minor": 0
      },
      "text/plain": [
       "Validation: |          | 0/? [00:00<?, ?it/s]"
      ]
     },
     "metadata": {},
     "output_type": "display_data"
    },
    {
     "data": {
      "application/vnd.jupyter.widget-view+json": {
       "model_id": "c41b7f188674409284cece50fd5a5ed2",
       "version_major": 2,
       "version_minor": 0
      },
      "text/plain": [
       "Validation: |          | 0/? [00:00<?, ?it/s]"
      ]
     },
     "metadata": {},
     "output_type": "display_data"
    },
    {
     "data": {
      "application/vnd.jupyter.widget-view+json": {
       "model_id": "9ddf975bf24745c0979de6a996923967",
       "version_major": 2,
       "version_minor": 0
      },
      "text/plain": [
       "Validation: |          | 0/? [00:00<?, ?it/s]"
      ]
     },
     "metadata": {},
     "output_type": "display_data"
    },
    {
     "data": {
      "application/vnd.jupyter.widget-view+json": {
       "model_id": "2d1a9e102f0c4d479e9f8de551327f00",
       "version_major": 2,
       "version_minor": 0
      },
      "text/plain": [
       "Validation: |          | 0/? [00:00<?, ?it/s]"
      ]
     },
     "metadata": {},
     "output_type": "display_data"
    },
    {
     "data": {
      "application/vnd.jupyter.widget-view+json": {
       "model_id": "b1acbd486f8d4f47a38d0ae83402bc16",
       "version_major": 2,
       "version_minor": 0
      },
      "text/plain": [
       "Validation: |          | 0/? [00:00<?, ?it/s]"
      ]
     },
     "metadata": {},
     "output_type": "display_data"
    },
    {
     "data": {
      "application/vnd.jupyter.widget-view+json": {
       "model_id": "df9b171e98a24153be72f03de95d9fe3",
       "version_major": 2,
       "version_minor": 0
      },
      "text/plain": [
       "Validation: |          | 0/? [00:00<?, ?it/s]"
      ]
     },
     "metadata": {},
     "output_type": "display_data"
    },
    {
     "data": {
      "application/vnd.jupyter.widget-view+json": {
       "model_id": "9ea13196c46044a2973b3501cbdf62ed",
       "version_major": 2,
       "version_minor": 0
      },
      "text/plain": [
       "Validation: |          | 0/? [00:00<?, ?it/s]"
      ]
     },
     "metadata": {},
     "output_type": "display_data"
    },
    {
     "data": {
      "application/vnd.jupyter.widget-view+json": {
       "model_id": "994f950900be4b17b0060d57b6f8c355",
       "version_major": 2,
       "version_minor": 0
      },
      "text/plain": [
       "Validation: |          | 0/? [00:00<?, ?it/s]"
      ]
     },
     "metadata": {},
     "output_type": "display_data"
    },
    {
     "data": {
      "application/vnd.jupyter.widget-view+json": {
       "model_id": "94703b84fd8c42c9ba9c45aa5eaa90ba",
       "version_major": 2,
       "version_minor": 0
      },
      "text/plain": [
       "Validation: |          | 0/? [00:00<?, ?it/s]"
      ]
     },
     "metadata": {},
     "output_type": "display_data"
    },
    {
     "data": {
      "application/vnd.jupyter.widget-view+json": {
       "model_id": "7035386a842f476f9dff430dea906536",
       "version_major": 2,
       "version_minor": 0
      },
      "text/plain": [
       "Validation: |          | 0/? [00:00<?, ?it/s]"
      ]
     },
     "metadata": {},
     "output_type": "display_data"
    },
    {
     "data": {
      "application/vnd.jupyter.widget-view+json": {
       "model_id": "bd2d449c215e4729996025d9a51b3a1b",
       "version_major": 2,
       "version_minor": 0
      },
      "text/plain": [
       "Validation: |          | 0/? [00:00<?, ?it/s]"
      ]
     },
     "metadata": {},
     "output_type": "display_data"
    },
    {
     "data": {
      "application/vnd.jupyter.widget-view+json": {
       "model_id": "5cb07b70969d4e51a033c843ea38ac75",
       "version_major": 2,
       "version_minor": 0
      },
      "text/plain": [
       "Validation: |          | 0/? [00:00<?, ?it/s]"
      ]
     },
     "metadata": {},
     "output_type": "display_data"
    },
    {
     "data": {
      "application/vnd.jupyter.widget-view+json": {
       "model_id": "f184442e91b4480782bc639c31e05552",
       "version_major": 2,
       "version_minor": 0
      },
      "text/plain": [
       "Validation: |          | 0/? [00:00<?, ?it/s]"
      ]
     },
     "metadata": {},
     "output_type": "display_data"
    },
    {
     "data": {
      "application/vnd.jupyter.widget-view+json": {
       "model_id": "94c633f6872646899e968857712306db",
       "version_major": 2,
       "version_minor": 0
      },
      "text/plain": [
       "Validation: |          | 0/? [00:00<?, ?it/s]"
      ]
     },
     "metadata": {},
     "output_type": "display_data"
    },
    {
     "data": {
      "application/vnd.jupyter.widget-view+json": {
       "model_id": "916b9f23d16f4b9790eb02c2a9c69dde",
       "version_major": 2,
       "version_minor": 0
      },
      "text/plain": [
       "Validation: |          | 0/? [00:00<?, ?it/s]"
      ]
     },
     "metadata": {},
     "output_type": "display_data"
    },
    {
     "data": {
      "application/vnd.jupyter.widget-view+json": {
       "model_id": "ee0dfec025444fc7a7b572cc9a916457",
       "version_major": 2,
       "version_minor": 0
      },
      "text/plain": [
       "Validation: |          | 0/? [00:00<?, ?it/s]"
      ]
     },
     "metadata": {},
     "output_type": "display_data"
    },
    {
     "data": {
      "application/vnd.jupyter.widget-view+json": {
       "model_id": "f58feff3f7e641a1abcec2855c37de14",
       "version_major": 2,
       "version_minor": 0
      },
      "text/plain": [
       "Validation: |          | 0/? [00:00<?, ?it/s]"
      ]
     },
     "metadata": {},
     "output_type": "display_data"
    },
    {
     "data": {
      "application/vnd.jupyter.widget-view+json": {
       "model_id": "b6a8b6f304d34ea7ace0d22491900883",
       "version_major": 2,
       "version_minor": 0
      },
      "text/plain": [
       "Validation: |          | 0/? [00:00<?, ?it/s]"
      ]
     },
     "metadata": {},
     "output_type": "display_data"
    },
    {
     "data": {
      "application/vnd.jupyter.widget-view+json": {
       "model_id": "4996ede326cb49529d85f087e01b7f23",
       "version_major": 2,
       "version_minor": 0
      },
      "text/plain": [
       "Validation: |          | 0/? [00:00<?, ?it/s]"
      ]
     },
     "metadata": {},
     "output_type": "display_data"
    },
    {
     "data": {
      "application/vnd.jupyter.widget-view+json": {
       "model_id": "1b045a1572f44f80addd9900f378dd49",
       "version_major": 2,
       "version_minor": 0
      },
      "text/plain": [
       "Validation: |          | 0/? [00:00<?, ?it/s]"
      ]
     },
     "metadata": {},
     "output_type": "display_data"
    },
    {
     "data": {
      "application/vnd.jupyter.widget-view+json": {
       "model_id": "0408a12d40ae4489975da7a53a7401f6",
       "version_major": 2,
       "version_minor": 0
      },
      "text/plain": [
       "Validation: |          | 0/? [00:00<?, ?it/s]"
      ]
     },
     "metadata": {},
     "output_type": "display_data"
    },
    {
     "data": {
      "application/vnd.jupyter.widget-view+json": {
       "model_id": "81cf69c6bda743ee9e0c421693d49be8",
       "version_major": 2,
       "version_minor": 0
      },
      "text/plain": [
       "Validation: |          | 0/? [00:00<?, ?it/s]"
      ]
     },
     "metadata": {},
     "output_type": "display_data"
    },
    {
     "data": {
      "application/vnd.jupyter.widget-view+json": {
       "model_id": "7efb2c622e6e4b609738650a7b9d414b",
       "version_major": 2,
       "version_minor": 0
      },
      "text/plain": [
       "Validation: |          | 0/? [00:00<?, ?it/s]"
      ]
     },
     "metadata": {},
     "output_type": "display_data"
    },
    {
     "data": {
      "application/vnd.jupyter.widget-view+json": {
       "model_id": "90023d0b621c425d826bdfa84506dc6a",
       "version_major": 2,
       "version_minor": 0
      },
      "text/plain": [
       "Validation: |          | 0/? [00:00<?, ?it/s]"
      ]
     },
     "metadata": {},
     "output_type": "display_data"
    },
    {
     "data": {
      "application/vnd.jupyter.widget-view+json": {
       "model_id": "6effe31608bd44aea488ea6ae99cf6f4",
       "version_major": 2,
       "version_minor": 0
      },
      "text/plain": [
       "Validation: |          | 0/? [00:00<?, ?it/s]"
      ]
     },
     "metadata": {},
     "output_type": "display_data"
    },
    {
     "data": {
      "application/vnd.jupyter.widget-view+json": {
       "model_id": "5d284b68a5524810b84e4b68a30fdf47",
       "version_major": 2,
       "version_minor": 0
      },
      "text/plain": [
       "Validation: |          | 0/? [00:00<?, ?it/s]"
      ]
     },
     "metadata": {},
     "output_type": "display_data"
    },
    {
     "data": {
      "application/vnd.jupyter.widget-view+json": {
       "model_id": "a030f2f298aa4cba94230450b56eec7c",
       "version_major": 2,
       "version_minor": 0
      },
      "text/plain": [
       "Validation: |          | 0/? [00:00<?, ?it/s]"
      ]
     },
     "metadata": {},
     "output_type": "display_data"
    },
    {
     "data": {
      "application/vnd.jupyter.widget-view+json": {
       "model_id": "529f9f5d061c44d29392109646c25d63",
       "version_major": 2,
       "version_minor": 0
      },
      "text/plain": [
       "Validation: |          | 0/? [00:00<?, ?it/s]"
      ]
     },
     "metadata": {},
     "output_type": "display_data"
    },
    {
     "data": {
      "application/vnd.jupyter.widget-view+json": {
       "model_id": "11f2bdb767f142349d1bb3f8b469e93b",
       "version_major": 2,
       "version_minor": 0
      },
      "text/plain": [
       "Validation: |          | 0/? [00:00<?, ?it/s]"
      ]
     },
     "metadata": {},
     "output_type": "display_data"
    },
    {
     "data": {
      "application/vnd.jupyter.widget-view+json": {
       "model_id": "12a6fa34add54092aa933a94b040bcfe",
       "version_major": 2,
       "version_minor": 0
      },
      "text/plain": [
       "Validation: |          | 0/? [00:00<?, ?it/s]"
      ]
     },
     "metadata": {},
     "output_type": "display_data"
    },
    {
     "data": {
      "application/vnd.jupyter.widget-view+json": {
       "model_id": "7ede4b09622a4750815ecbb264bfcd2a",
       "version_major": 2,
       "version_minor": 0
      },
      "text/plain": [
       "Validation: |          | 0/? [00:00<?, ?it/s]"
      ]
     },
     "metadata": {},
     "output_type": "display_data"
    },
    {
     "data": {
      "application/vnd.jupyter.widget-view+json": {
       "model_id": "69b69af7b86b4bbf9cc29b1ec7af16fc",
       "version_major": 2,
       "version_minor": 0
      },
      "text/plain": [
       "Validation: |          | 0/? [00:00<?, ?it/s]"
      ]
     },
     "metadata": {},
     "output_type": "display_data"
    },
    {
     "data": {
      "application/vnd.jupyter.widget-view+json": {
       "model_id": "bf0323aa0d124f98842b646d6c44b72b",
       "version_major": 2,
       "version_minor": 0
      },
      "text/plain": [
       "Validation: |          | 0/? [00:00<?, ?it/s]"
      ]
     },
     "metadata": {},
     "output_type": "display_data"
    },
    {
     "data": {
      "application/vnd.jupyter.widget-view+json": {
       "model_id": "ab314dbc6c0e42dfb0e0b11dd5488c24",
       "version_major": 2,
       "version_minor": 0
      },
      "text/plain": [
       "Validation: |          | 0/? [00:00<?, ?it/s]"
      ]
     },
     "metadata": {},
     "output_type": "display_data"
    },
    {
     "data": {
      "application/vnd.jupyter.widget-view+json": {
       "model_id": "1ed2869205bb468085edb32eb07cc90b",
       "version_major": 2,
       "version_minor": 0
      },
      "text/plain": [
       "Validation: |          | 0/? [00:00<?, ?it/s]"
      ]
     },
     "metadata": {},
     "output_type": "display_data"
    },
    {
     "data": {
      "application/vnd.jupyter.widget-view+json": {
       "model_id": "96ccc7a5151e465ea311c3482b6e88b2",
       "version_major": 2,
       "version_minor": 0
      },
      "text/plain": [
       "Validation: |          | 0/? [00:00<?, ?it/s]"
      ]
     },
     "metadata": {},
     "output_type": "display_data"
    },
    {
     "data": {
      "application/vnd.jupyter.widget-view+json": {
       "model_id": "59d12dcb50964923b02592a26829b3cb",
       "version_major": 2,
       "version_minor": 0
      },
      "text/plain": [
       "Validation: |          | 0/? [00:00<?, ?it/s]"
      ]
     },
     "metadata": {},
     "output_type": "display_data"
    },
    {
     "data": {
      "application/vnd.jupyter.widget-view+json": {
       "model_id": "9cf8f5813cad4b05a69c062cd77f61e1",
       "version_major": 2,
       "version_minor": 0
      },
      "text/plain": [
       "Validation: |          | 0/? [00:00<?, ?it/s]"
      ]
     },
     "metadata": {},
     "output_type": "display_data"
    },
    {
     "data": {
      "application/vnd.jupyter.widget-view+json": {
       "model_id": "7237767239d94122bcca13e24608c319",
       "version_major": 2,
       "version_minor": 0
      },
      "text/plain": [
       "Validation: |          | 0/? [00:00<?, ?it/s]"
      ]
     },
     "metadata": {},
     "output_type": "display_data"
    },
    {
     "data": {
      "application/vnd.jupyter.widget-view+json": {
       "model_id": "f73bed75776746609aadc97742e1e571",
       "version_major": 2,
       "version_minor": 0
      },
      "text/plain": [
       "Validation: |          | 0/? [00:00<?, ?it/s]"
      ]
     },
     "metadata": {},
     "output_type": "display_data"
    },
    {
     "data": {
      "application/vnd.jupyter.widget-view+json": {
       "model_id": "8b27298170684f9d88b1f34a95068157",
       "version_major": 2,
       "version_minor": 0
      },
      "text/plain": [
       "Validation: |          | 0/? [00:00<?, ?it/s]"
      ]
     },
     "metadata": {},
     "output_type": "display_data"
    },
    {
     "data": {
      "application/vnd.jupyter.widget-view+json": {
       "model_id": "494bdd027cb44a79a69e2d3c3bd20fbb",
       "version_major": 2,
       "version_minor": 0
      },
      "text/plain": [
       "Validation: |          | 0/? [00:00<?, ?it/s]"
      ]
     },
     "metadata": {},
     "output_type": "display_data"
    },
    {
     "data": {
      "application/vnd.jupyter.widget-view+json": {
       "model_id": "3ce80f65abcd4c0c9bd4032e176f3106",
       "version_major": 2,
       "version_minor": 0
      },
      "text/plain": [
       "Validation: |          | 0/? [00:00<?, ?it/s]"
      ]
     },
     "metadata": {},
     "output_type": "display_data"
    },
    {
     "data": {
      "application/vnd.jupyter.widget-view+json": {
       "model_id": "ccbf3d7530ea4819ac15458edce82007",
       "version_major": 2,
       "version_minor": 0
      },
      "text/plain": [
       "Validation: |          | 0/? [00:00<?, ?it/s]"
      ]
     },
     "metadata": {},
     "output_type": "display_data"
    },
    {
     "data": {
      "application/vnd.jupyter.widget-view+json": {
       "model_id": "92953befc56a4578be93523e0b569317",
       "version_major": 2,
       "version_minor": 0
      },
      "text/plain": [
       "Validation: |          | 0/? [00:00<?, ?it/s]"
      ]
     },
     "metadata": {},
     "output_type": "display_data"
    },
    {
     "data": {
      "application/vnd.jupyter.widget-view+json": {
       "model_id": "b95bb8a789414837929de6c4ed943628",
       "version_major": 2,
       "version_minor": 0
      },
      "text/plain": [
       "Validation: |          | 0/? [00:00<?, ?it/s]"
      ]
     },
     "metadata": {},
     "output_type": "display_data"
    },
    {
     "data": {
      "application/vnd.jupyter.widget-view+json": {
       "model_id": "bdda0506527a4eceb7e23e58b39e7b11",
       "version_major": 2,
       "version_minor": 0
      },
      "text/plain": [
       "Validation: |          | 0/? [00:00<?, ?it/s]"
      ]
     },
     "metadata": {},
     "output_type": "display_data"
    },
    {
     "data": {
      "application/vnd.jupyter.widget-view+json": {
       "model_id": "f23965acd013488c8ab815595db74c93",
       "version_major": 2,
       "version_minor": 0
      },
      "text/plain": [
       "Validation: |          | 0/? [00:00<?, ?it/s]"
      ]
     },
     "metadata": {},
     "output_type": "display_data"
    },
    {
     "data": {
      "application/vnd.jupyter.widget-view+json": {
       "model_id": "b1741516ba4e4faeb9989a60032223d4",
       "version_major": 2,
       "version_minor": 0
      },
      "text/plain": [
       "Validation: |          | 0/? [00:00<?, ?it/s]"
      ]
     },
     "metadata": {},
     "output_type": "display_data"
    },
    {
     "data": {
      "application/vnd.jupyter.widget-view+json": {
       "model_id": "9ceca88ad3234900a11d1930868e59bc",
       "version_major": 2,
       "version_minor": 0
      },
      "text/plain": [
       "Validation: |          | 0/? [00:00<?, ?it/s]"
      ]
     },
     "metadata": {},
     "output_type": "display_data"
    },
    {
     "data": {
      "application/vnd.jupyter.widget-view+json": {
       "model_id": "dce1c99e152a454aa2cc96034b8ae73f",
       "version_major": 2,
       "version_minor": 0
      },
      "text/plain": [
       "Validation: |          | 0/? [00:00<?, ?it/s]"
      ]
     },
     "metadata": {},
     "output_type": "display_data"
    },
    {
     "data": {
      "application/vnd.jupyter.widget-view+json": {
       "model_id": "185a354800f649a9b6aea9e200066539",
       "version_major": 2,
       "version_minor": 0
      },
      "text/plain": [
       "Validation: |          | 0/? [00:00<?, ?it/s]"
      ]
     },
     "metadata": {},
     "output_type": "display_data"
    },
    {
     "data": {
      "application/vnd.jupyter.widget-view+json": {
       "model_id": "35191049cefc4d9a8585166c48825444",
       "version_major": 2,
       "version_minor": 0
      },
      "text/plain": [
       "Validation: |          | 0/? [00:00<?, ?it/s]"
      ]
     },
     "metadata": {},
     "output_type": "display_data"
    },
    {
     "data": {
      "application/vnd.jupyter.widget-view+json": {
       "model_id": "b1c9eb52a840404ba8f00437af865093",
       "version_major": 2,
       "version_minor": 0
      },
      "text/plain": [
       "Validation: |          | 0/? [00:00<?, ?it/s]"
      ]
     },
     "metadata": {},
     "output_type": "display_data"
    },
    {
     "data": {
      "application/vnd.jupyter.widget-view+json": {
       "model_id": "1f033ff622834044bcc67c6418418d8e",
       "version_major": 2,
       "version_minor": 0
      },
      "text/plain": [
       "Validation: |          | 0/? [00:00<?, ?it/s]"
      ]
     },
     "metadata": {},
     "output_type": "display_data"
    },
    {
     "data": {
      "application/vnd.jupyter.widget-view+json": {
       "model_id": "f91785de220b40189e7ab1806b3e2f31",
       "version_major": 2,
       "version_minor": 0
      },
      "text/plain": [
       "Validation: |          | 0/? [00:00<?, ?it/s]"
      ]
     },
     "metadata": {},
     "output_type": "display_data"
    },
    {
     "data": {
      "application/vnd.jupyter.widget-view+json": {
       "model_id": "e177f926758c4ec8841fdadb5b6a2092",
       "version_major": 2,
       "version_minor": 0
      },
      "text/plain": [
       "Validation: |          | 0/? [00:00<?, ?it/s]"
      ]
     },
     "metadata": {},
     "output_type": "display_data"
    },
    {
     "data": {
      "application/vnd.jupyter.widget-view+json": {
       "model_id": "d1bff67d7549480ea99b661763aaddd0",
       "version_major": 2,
       "version_minor": 0
      },
      "text/plain": [
       "Validation: |          | 0/? [00:00<?, ?it/s]"
      ]
     },
     "metadata": {},
     "output_type": "display_data"
    },
    {
     "data": {
      "application/vnd.jupyter.widget-view+json": {
       "model_id": "3d4e4517110d47ed851339b1e1c9e349",
       "version_major": 2,
       "version_minor": 0
      },
      "text/plain": [
       "Validation: |          | 0/? [00:00<?, ?it/s]"
      ]
     },
     "metadata": {},
     "output_type": "display_data"
    },
    {
     "data": {
      "application/vnd.jupyter.widget-view+json": {
       "model_id": "9a999d6fa9c74e29bd4dfcc3fa925d66",
       "version_major": 2,
       "version_minor": 0
      },
      "text/plain": [
       "Validation: |          | 0/? [00:00<?, ?it/s]"
      ]
     },
     "metadata": {},
     "output_type": "display_data"
    },
    {
     "data": {
      "application/vnd.jupyter.widget-view+json": {
       "model_id": "d844f8ebcbd34543abcc6b7a72b4a717",
       "version_major": 2,
       "version_minor": 0
      },
      "text/plain": [
       "Validation: |          | 0/? [00:00<?, ?it/s]"
      ]
     },
     "metadata": {},
     "output_type": "display_data"
    },
    {
     "data": {
      "application/vnd.jupyter.widget-view+json": {
       "model_id": "0ed235dc69a744ad9557f5b9d8e62626",
       "version_major": 2,
       "version_minor": 0
      },
      "text/plain": [
       "Validation: |          | 0/? [00:00<?, ?it/s]"
      ]
     },
     "metadata": {},
     "output_type": "display_data"
    },
    {
     "data": {
      "application/vnd.jupyter.widget-view+json": {
       "model_id": "39b23d86c814401994f8cdeb6df5efc9",
       "version_major": 2,
       "version_minor": 0
      },
      "text/plain": [
       "Validation: |          | 0/? [00:00<?, ?it/s]"
      ]
     },
     "metadata": {},
     "output_type": "display_data"
    },
    {
     "data": {
      "application/vnd.jupyter.widget-view+json": {
       "model_id": "4a210aef048a4cc5a01e02029e970a27",
       "version_major": 2,
       "version_minor": 0
      },
      "text/plain": [
       "Validation: |          | 0/? [00:00<?, ?it/s]"
      ]
     },
     "metadata": {},
     "output_type": "display_data"
    },
    {
     "data": {
      "application/vnd.jupyter.widget-view+json": {
       "model_id": "5bbd3422e86e402fa68baabbfdd7458f",
       "version_major": 2,
       "version_minor": 0
      },
      "text/plain": [
       "Validation: |          | 0/? [00:00<?, ?it/s]"
      ]
     },
     "metadata": {},
     "output_type": "display_data"
    },
    {
     "data": {
      "application/vnd.jupyter.widget-view+json": {
       "model_id": "1de622797dc7444ab575b0a6d088f474",
       "version_major": 2,
       "version_minor": 0
      },
      "text/plain": [
       "Validation: |          | 0/? [00:00<?, ?it/s]"
      ]
     },
     "metadata": {},
     "output_type": "display_data"
    },
    {
     "data": {
      "application/vnd.jupyter.widget-view+json": {
       "model_id": "fe564222fb9f48cf83a1e6b053943104",
       "version_major": 2,
       "version_minor": 0
      },
      "text/plain": [
       "Validation: |          | 0/? [00:00<?, ?it/s]"
      ]
     },
     "metadata": {},
     "output_type": "display_data"
    },
    {
     "data": {
      "application/vnd.jupyter.widget-view+json": {
       "model_id": "5e8458f7ddd6451ba14d9e2cf9340bd7",
       "version_major": 2,
       "version_minor": 0
      },
      "text/plain": [
       "Validation: |          | 0/? [00:00<?, ?it/s]"
      ]
     },
     "metadata": {},
     "output_type": "display_data"
    },
    {
     "data": {
      "application/vnd.jupyter.widget-view+json": {
       "model_id": "222068363206411a9b4c6e989f847e04",
       "version_major": 2,
       "version_minor": 0
      },
      "text/plain": [
       "Validation: |          | 0/? [00:00<?, ?it/s]"
      ]
     },
     "metadata": {},
     "output_type": "display_data"
    },
    {
     "data": {
      "application/vnd.jupyter.widget-view+json": {
       "model_id": "b2af1bf6fa98493397882949cbf529a2",
       "version_major": 2,
       "version_minor": 0
      },
      "text/plain": [
       "Validation: |          | 0/? [00:00<?, ?it/s]"
      ]
     },
     "metadata": {},
     "output_type": "display_data"
    },
    {
     "data": {
      "application/vnd.jupyter.widget-view+json": {
       "model_id": "28997b80d049408bbb11eae486e2354f",
       "version_major": 2,
       "version_minor": 0
      },
      "text/plain": [
       "Validation: |          | 0/? [00:00<?, ?it/s]"
      ]
     },
     "metadata": {},
     "output_type": "display_data"
    },
    {
     "data": {
      "application/vnd.jupyter.widget-view+json": {
       "model_id": "57d141b58e1047d885ab834feb803f7d",
       "version_major": 2,
       "version_minor": 0
      },
      "text/plain": [
       "Validation: |          | 0/? [00:00<?, ?it/s]"
      ]
     },
     "metadata": {},
     "output_type": "display_data"
    },
    {
     "data": {
      "application/vnd.jupyter.widget-view+json": {
       "model_id": "042ff3ef5883424583615abdda1f48f6",
       "version_major": 2,
       "version_minor": 0
      },
      "text/plain": [
       "Validation: |          | 0/? [00:00<?, ?it/s]"
      ]
     },
     "metadata": {},
     "output_type": "display_data"
    },
    {
     "data": {
      "application/vnd.jupyter.widget-view+json": {
       "model_id": "cd345abb7d8a4f6a9d178f4cd580d113",
       "version_major": 2,
       "version_minor": 0
      },
      "text/plain": [
       "Validation: |          | 0/? [00:00<?, ?it/s]"
      ]
     },
     "metadata": {},
     "output_type": "display_data"
    },
    {
     "data": {
      "application/vnd.jupyter.widget-view+json": {
       "model_id": "1546707c20374300a74a42cf86a94b65",
       "version_major": 2,
       "version_minor": 0
      },
      "text/plain": [
       "Validation: |          | 0/? [00:00<?, ?it/s]"
      ]
     },
     "metadata": {},
     "output_type": "display_data"
    },
    {
     "data": {
      "application/vnd.jupyter.widget-view+json": {
       "model_id": "80273e0cab3f4005aeafc5699af24ec3",
       "version_major": 2,
       "version_minor": 0
      },
      "text/plain": [
       "Validation: |          | 0/? [00:00<?, ?it/s]"
      ]
     },
     "metadata": {},
     "output_type": "display_data"
    },
    {
     "data": {
      "application/vnd.jupyter.widget-view+json": {
       "model_id": "4cf16dac13874c45b0017a99790c5359",
       "version_major": 2,
       "version_minor": 0
      },
      "text/plain": [
       "Validation: |          | 0/? [00:00<?, ?it/s]"
      ]
     },
     "metadata": {},
     "output_type": "display_data"
    },
    {
     "data": {
      "application/vnd.jupyter.widget-view+json": {
       "model_id": "f0d3681d3c584680b289c9530d133ee9",
       "version_major": 2,
       "version_minor": 0
      },
      "text/plain": [
       "Validation: |          | 0/? [00:00<?, ?it/s]"
      ]
     },
     "metadata": {},
     "output_type": "display_data"
    },
    {
     "data": {
      "application/vnd.jupyter.widget-view+json": {
       "model_id": "0ac92a02753049c1b2f5a82a8d81f3ef",
       "version_major": 2,
       "version_minor": 0
      },
      "text/plain": [
       "Validation: |          | 0/? [00:00<?, ?it/s]"
      ]
     },
     "metadata": {},
     "output_type": "display_data"
    },
    {
     "data": {
      "application/vnd.jupyter.widget-view+json": {
       "model_id": "4037e4e7b2a0406fba64567bd465a879",
       "version_major": 2,
       "version_minor": 0
      },
      "text/plain": [
       "Validation: |          | 0/? [00:00<?, ?it/s]"
      ]
     },
     "metadata": {},
     "output_type": "display_data"
    },
    {
     "data": {
      "application/vnd.jupyter.widget-view+json": {
       "model_id": "9844e8f994d8422a9bfa2525dce9c109",
       "version_major": 2,
       "version_minor": 0
      },
      "text/plain": [
       "Validation: |          | 0/? [00:00<?, ?it/s]"
      ]
     },
     "metadata": {},
     "output_type": "display_data"
    },
    {
     "data": {
      "application/vnd.jupyter.widget-view+json": {
       "model_id": "99cdeb3150e246f3ade4cddae1be42a2",
       "version_major": 2,
       "version_minor": 0
      },
      "text/plain": [
       "Validation: |          | 0/? [00:00<?, ?it/s]"
      ]
     },
     "metadata": {},
     "output_type": "display_data"
    },
    {
     "data": {
      "application/vnd.jupyter.widget-view+json": {
       "model_id": "5ea6b42bdb1d426dac324f86ba35b1df",
       "version_major": 2,
       "version_minor": 0
      },
      "text/plain": [
       "Validation: |          | 0/? [00:00<?, ?it/s]"
      ]
     },
     "metadata": {},
     "output_type": "display_data"
    },
    {
     "data": {
      "application/vnd.jupyter.widget-view+json": {
       "model_id": "4b8f912d2c4c417d9446642559fc3eb4",
       "version_major": 2,
       "version_minor": 0
      },
      "text/plain": [
       "Validation: |          | 0/? [00:00<?, ?it/s]"
      ]
     },
     "metadata": {},
     "output_type": "display_data"
    },
    {
     "data": {
      "application/vnd.jupyter.widget-view+json": {
       "model_id": "ba9584b4dd13405ca1f15250ec08b468",
       "version_major": 2,
       "version_minor": 0
      },
      "text/plain": [
       "Validation: |          | 0/? [00:00<?, ?it/s]"
      ]
     },
     "metadata": {},
     "output_type": "display_data"
    },
    {
     "data": {
      "application/vnd.jupyter.widget-view+json": {
       "model_id": "0717ca6f3ae1411b99194b1ec6935519",
       "version_major": 2,
       "version_minor": 0
      },
      "text/plain": [
       "Validation: |          | 0/? [00:00<?, ?it/s]"
      ]
     },
     "metadata": {},
     "output_type": "display_data"
    },
    {
     "data": {
      "application/vnd.jupyter.widget-view+json": {
       "model_id": "c3aa9876849144698582ece52f5b9d1f",
       "version_major": 2,
       "version_minor": 0
      },
      "text/plain": [
       "Validation: |          | 0/? [00:00<?, ?it/s]"
      ]
     },
     "metadata": {},
     "output_type": "display_data"
    },
    {
     "data": {
      "application/vnd.jupyter.widget-view+json": {
       "model_id": "8bf4dcb7399f4ad692e85c049fe96fb1",
       "version_major": 2,
       "version_minor": 0
      },
      "text/plain": [
       "Validation: |          | 0/? [00:00<?, ?it/s]"
      ]
     },
     "metadata": {},
     "output_type": "display_data"
    },
    {
     "data": {
      "application/vnd.jupyter.widget-view+json": {
       "model_id": "29cd2e35ddcc4718822859eea9309c8a",
       "version_major": 2,
       "version_minor": 0
      },
      "text/plain": [
       "Validation: |          | 0/? [00:00<?, ?it/s]"
      ]
     },
     "metadata": {},
     "output_type": "display_data"
    },
    {
     "data": {
      "application/vnd.jupyter.widget-view+json": {
       "model_id": "249d1d9e87824e88888548eeed86dfac",
       "version_major": 2,
       "version_minor": 0
      },
      "text/plain": [
       "Validation: |          | 0/? [00:00<?, ?it/s]"
      ]
     },
     "metadata": {},
     "output_type": "display_data"
    },
    {
     "data": {
      "application/vnd.jupyter.widget-view+json": {
       "model_id": "148cba7788254a2992a5e37aa2a4f728",
       "version_major": 2,
       "version_minor": 0
      },
      "text/plain": [
       "Validation: |          | 0/? [00:00<?, ?it/s]"
      ]
     },
     "metadata": {},
     "output_type": "display_data"
    },
    {
     "data": {
      "application/vnd.jupyter.widget-view+json": {
       "model_id": "7ae63a2ec42f41d78ab90ac7257053fe",
       "version_major": 2,
       "version_minor": 0
      },
      "text/plain": [
       "Validation: |          | 0/? [00:00<?, ?it/s]"
      ]
     },
     "metadata": {},
     "output_type": "display_data"
    },
    {
     "data": {
      "application/vnd.jupyter.widget-view+json": {
       "model_id": "ccb4b3ea52d44d9da014db7ff3325ff7",
       "version_major": 2,
       "version_minor": 0
      },
      "text/plain": [
       "Validation: |          | 0/? [00:00<?, ?it/s]"
      ]
     },
     "metadata": {},
     "output_type": "display_data"
    },
    {
     "data": {
      "application/vnd.jupyter.widget-view+json": {
       "model_id": "8cc9465f3e8841ba89812c40a4ba0a46",
       "version_major": 2,
       "version_minor": 0
      },
      "text/plain": [
       "Validation: |          | 0/? [00:00<?, ?it/s]"
      ]
     },
     "metadata": {},
     "output_type": "display_data"
    },
    {
     "data": {
      "application/vnd.jupyter.widget-view+json": {
       "model_id": "80f58a74e00144098b1e60aa9a6661d7",
       "version_major": 2,
       "version_minor": 0
      },
      "text/plain": [
       "Validation: |          | 0/? [00:00<?, ?it/s]"
      ]
     },
     "metadata": {},
     "output_type": "display_data"
    },
    {
     "data": {
      "application/vnd.jupyter.widget-view+json": {
       "model_id": "69c2899d0ad7459796c22d107c13ff5a",
       "version_major": 2,
       "version_minor": 0
      },
      "text/plain": [
       "Validation: |          | 0/? [00:00<?, ?it/s]"
      ]
     },
     "metadata": {},
     "output_type": "display_data"
    },
    {
     "data": {
      "application/vnd.jupyter.widget-view+json": {
       "model_id": "a72285e4c8d14c7f824f88a5b08094b0",
       "version_major": 2,
       "version_minor": 0
      },
      "text/plain": [
       "Validation: |          | 0/? [00:00<?, ?it/s]"
      ]
     },
     "metadata": {},
     "output_type": "display_data"
    },
    {
     "data": {
      "application/vnd.jupyter.widget-view+json": {
       "model_id": "fb9e7be8bcdb48148f432be49a4092ca",
       "version_major": 2,
       "version_minor": 0
      },
      "text/plain": [
       "Validation: |          | 0/? [00:00<?, ?it/s]"
      ]
     },
     "metadata": {},
     "output_type": "display_data"
    },
    {
     "data": {
      "application/vnd.jupyter.widget-view+json": {
       "model_id": "6f550cb1ca4c436dabb08bedce2bb1b9",
       "version_major": 2,
       "version_minor": 0
      },
      "text/plain": [
       "Validation: |          | 0/? [00:00<?, ?it/s]"
      ]
     },
     "metadata": {},
     "output_type": "display_data"
    },
    {
     "data": {
      "application/vnd.jupyter.widget-view+json": {
       "model_id": "7c1c8eb750ef424aa6c01ca398cbfe2f",
       "version_major": 2,
       "version_minor": 0
      },
      "text/plain": [
       "Validation: |          | 0/? [00:00<?, ?it/s]"
      ]
     },
     "metadata": {},
     "output_type": "display_data"
    },
    {
     "data": {
      "application/vnd.jupyter.widget-view+json": {
       "model_id": "a6fa2eeeba534fab8289b75c4a40851b",
       "version_major": 2,
       "version_minor": 0
      },
      "text/plain": [
       "Validation: |          | 0/? [00:00<?, ?it/s]"
      ]
     },
     "metadata": {},
     "output_type": "display_data"
    },
    {
     "data": {
      "application/vnd.jupyter.widget-view+json": {
       "model_id": "d4e4970e344c4ecdaa7c0bb5aa983d3f",
       "version_major": 2,
       "version_minor": 0
      },
      "text/plain": [
       "Validation: |          | 0/? [00:00<?, ?it/s]"
      ]
     },
     "metadata": {},
     "output_type": "display_data"
    },
    {
     "data": {
      "application/vnd.jupyter.widget-view+json": {
       "model_id": "f7fa041b35d646e5b9d00db90c2d2bbc",
       "version_major": 2,
       "version_minor": 0
      },
      "text/plain": [
       "Validation: |          | 0/? [00:00<?, ?it/s]"
      ]
     },
     "metadata": {},
     "output_type": "display_data"
    },
    {
     "data": {
      "application/vnd.jupyter.widget-view+json": {
       "model_id": "ff827a9e8dd9461b834c6bb829863619",
       "version_major": 2,
       "version_minor": 0
      },
      "text/plain": [
       "Validation: |          | 0/? [00:00<?, ?it/s]"
      ]
     },
     "metadata": {},
     "output_type": "display_data"
    },
    {
     "data": {
      "application/vnd.jupyter.widget-view+json": {
       "model_id": "4a7ada4392c8465eb17fe22de3eeb366",
       "version_major": 2,
       "version_minor": 0
      },
      "text/plain": [
       "Validation: |          | 0/? [00:00<?, ?it/s]"
      ]
     },
     "metadata": {},
     "output_type": "display_data"
    },
    {
     "data": {
      "application/vnd.jupyter.widget-view+json": {
       "model_id": "72dac8993e35412cbe99f9f8c5b7d68f",
       "version_major": 2,
       "version_minor": 0
      },
      "text/plain": [
       "Validation: |          | 0/? [00:00<?, ?it/s]"
      ]
     },
     "metadata": {},
     "output_type": "display_data"
    },
    {
     "data": {
      "application/vnd.jupyter.widget-view+json": {
       "model_id": "69cc7d61f6e246d9955a87fbb624649c",
       "version_major": 2,
       "version_minor": 0
      },
      "text/plain": [
       "Validation: |          | 0/? [00:00<?, ?it/s]"
      ]
     },
     "metadata": {},
     "output_type": "display_data"
    },
    {
     "data": {
      "application/vnd.jupyter.widget-view+json": {
       "model_id": "b16d4669e05f47e0b0de53a27687abdb",
       "version_major": 2,
       "version_minor": 0
      },
      "text/plain": [
       "Validation: |          | 0/? [00:00<?, ?it/s]"
      ]
     },
     "metadata": {},
     "output_type": "display_data"
    },
    {
     "data": {
      "application/vnd.jupyter.widget-view+json": {
       "model_id": "738930cc44d145809307554c56b20a69",
       "version_major": 2,
       "version_minor": 0
      },
      "text/plain": [
       "Validation: |          | 0/? [00:00<?, ?it/s]"
      ]
     },
     "metadata": {},
     "output_type": "display_data"
    },
    {
     "data": {
      "application/vnd.jupyter.widget-view+json": {
       "model_id": "921d4182624742bc87e72bead7be832b",
       "version_major": 2,
       "version_minor": 0
      },
      "text/plain": [
       "Validation: |          | 0/? [00:00<?, ?it/s]"
      ]
     },
     "metadata": {},
     "output_type": "display_data"
    },
    {
     "data": {
      "application/vnd.jupyter.widget-view+json": {
       "model_id": "ba634d16f6db42e180395d68cba0d10d",
       "version_major": 2,
       "version_minor": 0
      },
      "text/plain": [
       "Validation: |          | 0/? [00:00<?, ?it/s]"
      ]
     },
     "metadata": {},
     "output_type": "display_data"
    },
    {
     "data": {
      "application/vnd.jupyter.widget-view+json": {
       "model_id": "43d2057bb19f4c88aa0a458530b78621",
       "version_major": 2,
       "version_minor": 0
      },
      "text/plain": [
       "Validation: |          | 0/? [00:00<?, ?it/s]"
      ]
     },
     "metadata": {},
     "output_type": "display_data"
    },
    {
     "data": {
      "application/vnd.jupyter.widget-view+json": {
       "model_id": "695e3638d8484ab995f6e3c646ee3046",
       "version_major": 2,
       "version_minor": 0
      },
      "text/plain": [
       "Validation: |          | 0/? [00:00<?, ?it/s]"
      ]
     },
     "metadata": {},
     "output_type": "display_data"
    },
    {
     "data": {
      "application/vnd.jupyter.widget-view+json": {
       "model_id": "1e7d7c8160234316b1a86cf5ca005b85",
       "version_major": 2,
       "version_minor": 0
      },
      "text/plain": [
       "Validation: |          | 0/? [00:00<?, ?it/s]"
      ]
     },
     "metadata": {},
     "output_type": "display_data"
    },
    {
     "data": {
      "application/vnd.jupyter.widget-view+json": {
       "model_id": "e7c88b3136104a45a4cacb7922f406c0",
       "version_major": 2,
       "version_minor": 0
      },
      "text/plain": [
       "Validation: |          | 0/? [00:00<?, ?it/s]"
      ]
     },
     "metadata": {},
     "output_type": "display_data"
    },
    {
     "data": {
      "application/vnd.jupyter.widget-view+json": {
       "model_id": "8af02293262a49f8b6d290688553aec7",
       "version_major": 2,
       "version_minor": 0
      },
      "text/plain": [
       "Validation: |          | 0/? [00:00<?, ?it/s]"
      ]
     },
     "metadata": {},
     "output_type": "display_data"
    },
    {
     "data": {
      "application/vnd.jupyter.widget-view+json": {
       "model_id": "f04ab2f707bc41a3af9aa04b734bc781",
       "version_major": 2,
       "version_minor": 0
      },
      "text/plain": [
       "Validation: |          | 0/? [00:00<?, ?it/s]"
      ]
     },
     "metadata": {},
     "output_type": "display_data"
    },
    {
     "data": {
      "application/vnd.jupyter.widget-view+json": {
       "model_id": "32e6b7e5ac01486e9149ed680da9adc6",
       "version_major": 2,
       "version_minor": 0
      },
      "text/plain": [
       "Validation: |          | 0/? [00:00<?, ?it/s]"
      ]
     },
     "metadata": {},
     "output_type": "display_data"
    },
    {
     "data": {
      "application/vnd.jupyter.widget-view+json": {
       "model_id": "b507abb42f48496a80fa328395eae532",
       "version_major": 2,
       "version_minor": 0
      },
      "text/plain": [
       "Validation: |          | 0/? [00:00<?, ?it/s]"
      ]
     },
     "metadata": {},
     "output_type": "display_data"
    },
    {
     "data": {
      "application/vnd.jupyter.widget-view+json": {
       "model_id": "d9316f95bc2043029edb3e14fee5be0e",
       "version_major": 2,
       "version_minor": 0
      },
      "text/plain": [
       "Validation: |          | 0/? [00:00<?, ?it/s]"
      ]
     },
     "metadata": {},
     "output_type": "display_data"
    },
    {
     "data": {
      "application/vnd.jupyter.widget-view+json": {
       "model_id": "2551f7bc922a48c787ddcc5fbc0d08c1",
       "version_major": 2,
       "version_minor": 0
      },
      "text/plain": [
       "Validation: |          | 0/? [00:00<?, ?it/s]"
      ]
     },
     "metadata": {},
     "output_type": "display_data"
    },
    {
     "data": {
      "application/vnd.jupyter.widget-view+json": {
       "model_id": "b5abf763534c4cbfbdb9ca37b52c281e",
       "version_major": 2,
       "version_minor": 0
      },
      "text/plain": [
       "Validation: |          | 0/? [00:00<?, ?it/s]"
      ]
     },
     "metadata": {},
     "output_type": "display_data"
    },
    {
     "data": {
      "application/vnd.jupyter.widget-view+json": {
       "model_id": "111206dc2d244146a86ed386b1227d76",
       "version_major": 2,
       "version_minor": 0
      },
      "text/plain": [
       "Validation: |          | 0/? [00:00<?, ?it/s]"
      ]
     },
     "metadata": {},
     "output_type": "display_data"
    },
    {
     "data": {
      "application/vnd.jupyter.widget-view+json": {
       "model_id": "2ab8c69d4ce9460cae2da7e8827c8cff",
       "version_major": 2,
       "version_minor": 0
      },
      "text/plain": [
       "Validation: |          | 0/? [00:00<?, ?it/s]"
      ]
     },
     "metadata": {},
     "output_type": "display_data"
    },
    {
     "data": {
      "application/vnd.jupyter.widget-view+json": {
       "model_id": "07dcbc1fcd3b40e09c18df182260c4f0",
       "version_major": 2,
       "version_minor": 0
      },
      "text/plain": [
       "Validation: |          | 0/? [00:00<?, ?it/s]"
      ]
     },
     "metadata": {},
     "output_type": "display_data"
    },
    {
     "data": {
      "application/vnd.jupyter.widget-view+json": {
       "model_id": "11cea782bbca4a55b8a74ba2664cb2df",
       "version_major": 2,
       "version_minor": 0
      },
      "text/plain": [
       "Validation: |          | 0/? [00:00<?, ?it/s]"
      ]
     },
     "metadata": {},
     "output_type": "display_data"
    },
    {
     "data": {
      "application/vnd.jupyter.widget-view+json": {
       "model_id": "a1c5ca616cc74bf58a538c625d5379cd",
       "version_major": 2,
       "version_minor": 0
      },
      "text/plain": [
       "Validation: |          | 0/? [00:00<?, ?it/s]"
      ]
     },
     "metadata": {},
     "output_type": "display_data"
    },
    {
     "data": {
      "application/vnd.jupyter.widget-view+json": {
       "model_id": "23224aaae9964c6194ccbc46152c0f00",
       "version_major": 2,
       "version_minor": 0
      },
      "text/plain": [
       "Validation: |          | 0/? [00:00<?, ?it/s]"
      ]
     },
     "metadata": {},
     "output_type": "display_data"
    },
    {
     "data": {
      "application/vnd.jupyter.widget-view+json": {
       "model_id": "08d996ed5f484a39a147a1961be39128",
       "version_major": 2,
       "version_minor": 0
      },
      "text/plain": [
       "Validation: |          | 0/? [00:00<?, ?it/s]"
      ]
     },
     "metadata": {},
     "output_type": "display_data"
    },
    {
     "data": {
      "application/vnd.jupyter.widget-view+json": {
       "model_id": "b180c942030745cead6838247ad828c6",
       "version_major": 2,
       "version_minor": 0
      },
      "text/plain": [
       "Validation: |          | 0/? [00:00<?, ?it/s]"
      ]
     },
     "metadata": {},
     "output_type": "display_data"
    },
    {
     "data": {
      "application/vnd.jupyter.widget-view+json": {
       "model_id": "be8bbac07120480a9d67d18bb762378c",
       "version_major": 2,
       "version_minor": 0
      },
      "text/plain": [
       "Validation: |          | 0/? [00:00<?, ?it/s]"
      ]
     },
     "metadata": {},
     "output_type": "display_data"
    },
    {
     "data": {
      "application/vnd.jupyter.widget-view+json": {
       "model_id": "255146fbd3634351a8b294124fa81033",
       "version_major": 2,
       "version_minor": 0
      },
      "text/plain": [
       "Validation: |          | 0/? [00:00<?, ?it/s]"
      ]
     },
     "metadata": {},
     "output_type": "display_data"
    },
    {
     "data": {
      "application/vnd.jupyter.widget-view+json": {
       "model_id": "51b29dd0cbdc43e4ac45a4010a417c6a",
       "version_major": 2,
       "version_minor": 0
      },
      "text/plain": [
       "Validation: |          | 0/? [00:00<?, ?it/s]"
      ]
     },
     "metadata": {},
     "output_type": "display_data"
    },
    {
     "data": {
      "application/vnd.jupyter.widget-view+json": {
       "model_id": "19a6c3d4bdde495eaf7245d4c58fb5e4",
       "version_major": 2,
       "version_minor": 0
      },
      "text/plain": [
       "Validation: |          | 0/? [00:00<?, ?it/s]"
      ]
     },
     "metadata": {},
     "output_type": "display_data"
    },
    {
     "data": {
      "application/vnd.jupyter.widget-view+json": {
       "model_id": "9c19c5822a11422c88646c5e697d5cea",
       "version_major": 2,
       "version_minor": 0
      },
      "text/plain": [
       "Validation: |          | 0/? [00:00<?, ?it/s]"
      ]
     },
     "metadata": {},
     "output_type": "display_data"
    },
    {
     "data": {
      "application/vnd.jupyter.widget-view+json": {
       "model_id": "c61f4051ba6744bd81da7871334c2719",
       "version_major": 2,
       "version_minor": 0
      },
      "text/plain": [
       "Validation: |          | 0/? [00:00<?, ?it/s]"
      ]
     },
     "metadata": {},
     "output_type": "display_data"
    },
    {
     "name": "stderr",
     "output_type": "stream",
     "text": [
      "\n",
      "Detected KeyboardInterrupt, attempting graceful shutdown ...\n"
     ]
    },
    {
     "ename": "NameError",
     "evalue": "name 'exit' is not defined",
     "output_type": "error",
     "traceback": [
      "\u001b[31m---------------------------------------------------------------------------\u001b[39m",
      "\u001b[31mKeyboardInterrupt\u001b[39m                         Traceback (most recent call last)",
      "\u001b[36mFile \u001b[39m\u001b[32m~/flow_field_dataset/.venv/lib/python3.11/site-packages/lightning/pytorch/trainer/call.py:48\u001b[39m, in \u001b[36m_call_and_handle_interrupt\u001b[39m\u001b[34m(trainer, trainer_fn, *args, **kwargs)\u001b[39m\n\u001b[32m     47\u001b[39m         \u001b[38;5;28;01mreturn\u001b[39;00m trainer.strategy.launcher.launch(trainer_fn, *args, trainer=trainer, **kwargs)\n\u001b[32m---> \u001b[39m\u001b[32m48\u001b[39m     \u001b[38;5;28;01mreturn\u001b[39;00m \u001b[43mtrainer_fn\u001b[49m\u001b[43m(\u001b[49m\u001b[43m*\u001b[49m\u001b[43margs\u001b[49m\u001b[43m,\u001b[49m\u001b[43m \u001b[49m\u001b[43m*\u001b[49m\u001b[43m*\u001b[49m\u001b[43mkwargs\u001b[49m\u001b[43m)\u001b[49m\n\u001b[32m     50\u001b[39m \u001b[38;5;28;01mexcept\u001b[39;00m _TunerExitException:\n",
      "\u001b[36mFile \u001b[39m\u001b[32m~/flow_field_dataset/.venv/lib/python3.11/site-packages/lightning/pytorch/trainer/trainer.py:599\u001b[39m, in \u001b[36mTrainer._fit_impl\u001b[39m\u001b[34m(self, model, train_dataloaders, val_dataloaders, datamodule, ckpt_path)\u001b[39m\n\u001b[32m    593\u001b[39m ckpt_path = \u001b[38;5;28mself\u001b[39m._checkpoint_connector._select_ckpt_path(\n\u001b[32m    594\u001b[39m     \u001b[38;5;28mself\u001b[39m.state.fn,\n\u001b[32m    595\u001b[39m     ckpt_path,\n\u001b[32m    596\u001b[39m     model_provided=\u001b[38;5;28;01mTrue\u001b[39;00m,\n\u001b[32m    597\u001b[39m     model_connected=\u001b[38;5;28mself\u001b[39m.lightning_module \u001b[38;5;129;01mis\u001b[39;00m \u001b[38;5;129;01mnot\u001b[39;00m \u001b[38;5;28;01mNone\u001b[39;00m,\n\u001b[32m    598\u001b[39m )\n\u001b[32m--> \u001b[39m\u001b[32m599\u001b[39m \u001b[38;5;28;43mself\u001b[39;49m\u001b[43m.\u001b[49m\u001b[43m_run\u001b[49m\u001b[43m(\u001b[49m\u001b[43mmodel\u001b[49m\u001b[43m,\u001b[49m\u001b[43m \u001b[49m\u001b[43mckpt_path\u001b[49m\u001b[43m=\u001b[49m\u001b[43mckpt_path\u001b[49m\u001b[43m)\u001b[49m\n\u001b[32m    601\u001b[39m \u001b[38;5;28;01massert\u001b[39;00m \u001b[38;5;28mself\u001b[39m.state.stopped\n",
      "\u001b[36mFile \u001b[39m\u001b[32m~/flow_field_dataset/.venv/lib/python3.11/site-packages/lightning/pytorch/trainer/trainer.py:1012\u001b[39m, in \u001b[36mTrainer._run\u001b[39m\u001b[34m(self, model, ckpt_path)\u001b[39m\n\u001b[32m   1009\u001b[39m \u001b[38;5;66;03m# ----------------------------\u001b[39;00m\n\u001b[32m   1010\u001b[39m \u001b[38;5;66;03m# RUN THE TRAINER\u001b[39;00m\n\u001b[32m   1011\u001b[39m \u001b[38;5;66;03m# ----------------------------\u001b[39;00m\n\u001b[32m-> \u001b[39m\u001b[32m1012\u001b[39m results = \u001b[38;5;28;43mself\u001b[39;49m\u001b[43m.\u001b[49m\u001b[43m_run_stage\u001b[49m\u001b[43m(\u001b[49m\u001b[43m)\u001b[49m\n\u001b[32m   1014\u001b[39m \u001b[38;5;66;03m# ----------------------------\u001b[39;00m\n\u001b[32m   1015\u001b[39m \u001b[38;5;66;03m# POST-Training CLEAN UP\u001b[39;00m\n\u001b[32m   1016\u001b[39m \u001b[38;5;66;03m# ----------------------------\u001b[39;00m\n",
      "\u001b[36mFile \u001b[39m\u001b[32m~/flow_field_dataset/.venv/lib/python3.11/site-packages/lightning/pytorch/trainer/trainer.py:1056\u001b[39m, in \u001b[36mTrainer._run_stage\u001b[39m\u001b[34m(self)\u001b[39m\n\u001b[32m   1055\u001b[39m \u001b[38;5;28;01mwith\u001b[39;00m torch.autograd.set_detect_anomaly(\u001b[38;5;28mself\u001b[39m._detect_anomaly):\n\u001b[32m-> \u001b[39m\u001b[32m1056\u001b[39m     \u001b[38;5;28;43mself\u001b[39;49m\u001b[43m.\u001b[49m\u001b[43mfit_loop\u001b[49m\u001b[43m.\u001b[49m\u001b[43mrun\u001b[49m\u001b[43m(\u001b[49m\u001b[43m)\u001b[49m\n\u001b[32m   1057\u001b[39m \u001b[38;5;28;01mreturn\u001b[39;00m \u001b[38;5;28;01mNone\u001b[39;00m\n",
      "\u001b[36mFile \u001b[39m\u001b[32m~/flow_field_dataset/.venv/lib/python3.11/site-packages/lightning/pytorch/loops/fit_loop.py:217\u001b[39m, in \u001b[36m_FitLoop.run\u001b[39m\u001b[34m(self)\u001b[39m\n\u001b[32m    216\u001b[39m     \u001b[38;5;28mself\u001b[39m.advance()\n\u001b[32m--> \u001b[39m\u001b[32m217\u001b[39m     \u001b[38;5;28;43mself\u001b[39;49m\u001b[43m.\u001b[49m\u001b[43mon_advance_end\u001b[49m\u001b[43m(\u001b[49m\u001b[43m)\u001b[49m\n\u001b[32m    218\u001b[39m \u001b[38;5;28;01mexcept\u001b[39;00m \u001b[38;5;167;01mStopIteration\u001b[39;00m:\n",
      "\u001b[36mFile \u001b[39m\u001b[32m~/flow_field_dataset/.venv/lib/python3.11/site-packages/lightning/pytorch/loops/fit_loop.py:470\u001b[39m, in \u001b[36m_FitLoop.on_advance_end\u001b[39m\u001b[34m(self)\u001b[39m\n\u001b[32m    469\u001b[39m call._call_lightning_module_hook(trainer, \u001b[33m\"\u001b[39m\u001b[33mon_train_epoch_end\u001b[39m\u001b[33m\"\u001b[39m)\n\u001b[32m--> \u001b[39m\u001b[32m470\u001b[39m \u001b[43mcall\u001b[49m\u001b[43m.\u001b[49m\u001b[43m_call_callback_hooks\u001b[49m\u001b[43m(\u001b[49m\u001b[43mtrainer\u001b[49m\u001b[43m,\u001b[49m\u001b[43m \u001b[49m\u001b[33;43m\"\u001b[39;49m\u001b[33;43mon_train_epoch_end\u001b[39;49m\u001b[33;43m\"\u001b[39;49m\u001b[43m,\u001b[49m\u001b[43m \u001b[49m\u001b[43mmonitoring_callbacks\u001b[49m\u001b[43m=\u001b[49m\u001b[38;5;28;43;01mTrue\u001b[39;49;00m\u001b[43m)\u001b[49m\n\u001b[32m    472\u001b[39m trainer._logger_connector.on_epoch_end()\n",
      "\u001b[36mFile \u001b[39m\u001b[32m~/flow_field_dataset/.venv/lib/python3.11/site-packages/lightning/pytorch/trainer/call.py:227\u001b[39m, in \u001b[36m_call_callback_hooks\u001b[39m\u001b[34m(trainer, hook_name, monitoring_callbacks, *args, **kwargs)\u001b[39m\n\u001b[32m    226\u001b[39m         \u001b[38;5;28;01mwith\u001b[39;00m trainer.profiler.profile(\u001b[33mf\u001b[39m\u001b[33m\"\u001b[39m\u001b[33m[Callback]\u001b[39m\u001b[38;5;132;01m{\u001b[39;00mcallback.state_key\u001b[38;5;132;01m}\u001b[39;00m\u001b[33m.\u001b[39m\u001b[38;5;132;01m{\u001b[39;00mhook_name\u001b[38;5;132;01m}\u001b[39;00m\u001b[33m\"\u001b[39m):\n\u001b[32m--> \u001b[39m\u001b[32m227\u001b[39m             \u001b[43mfn\u001b[49m\u001b[43m(\u001b[49m\u001b[43mtrainer\u001b[49m\u001b[43m,\u001b[49m\u001b[43m \u001b[49m\u001b[43mtrainer\u001b[49m\u001b[43m.\u001b[49m\u001b[43mlightning_module\u001b[49m\u001b[43m,\u001b[49m\u001b[43m \u001b[49m\u001b[43m*\u001b[49m\u001b[43margs\u001b[49m\u001b[43m,\u001b[49m\u001b[43m \u001b[49m\u001b[43m*\u001b[49m\u001b[43m*\u001b[49m\u001b[43mkwargs\u001b[49m\u001b[43m)\u001b[49m\n\u001b[32m    229\u001b[39m \u001b[38;5;28;01mif\u001b[39;00m pl_module:\n\u001b[32m    230\u001b[39m     \u001b[38;5;66;03m# restore current_fx when nested context\u001b[39;00m\n",
      "\u001b[36mFile \u001b[39m\u001b[32m~/flow_field_dataset/.venv/lib/python3.11/site-packages/lightning/pytorch/callbacks/model_checkpoint.py:325\u001b[39m, in \u001b[36mModelCheckpoint.on_train_epoch_end\u001b[39m\u001b[34m(self, trainer, pl_module)\u001b[39m\n\u001b[32m    324\u001b[39m \u001b[38;5;28;01mif\u001b[39;00m \u001b[38;5;28mself\u001b[39m._every_n_epochs >= \u001b[32m1\u001b[39m \u001b[38;5;129;01mand\u001b[39;00m (trainer.current_epoch + \u001b[32m1\u001b[39m) % \u001b[38;5;28mself\u001b[39m._every_n_epochs == \u001b[32m0\u001b[39m:\n\u001b[32m--> \u001b[39m\u001b[32m325\u001b[39m     \u001b[38;5;28;43mself\u001b[39;49m\u001b[43m.\u001b[49m\u001b[43m_save_topk_checkpoint\u001b[49m\u001b[43m(\u001b[49m\u001b[43mtrainer\u001b[49m\u001b[43m,\u001b[49m\u001b[43m \u001b[49m\u001b[43mmonitor_candidates\u001b[49m\u001b[43m)\u001b[49m\n\u001b[32m    326\u001b[39m \u001b[38;5;28mself\u001b[39m._save_last_checkpoint(trainer, monitor_candidates)\n",
      "\u001b[36mFile \u001b[39m\u001b[32m~/flow_field_dataset/.venv/lib/python3.11/site-packages/lightning/pytorch/callbacks/model_checkpoint.py:387\u001b[39m, in \u001b[36mModelCheckpoint._save_topk_checkpoint\u001b[39m\u001b[34m(self, trainer, monitor_candidates)\u001b[39m\n\u001b[32m    386\u001b[39m \u001b[38;5;28;01melse\u001b[39;00m:\n\u001b[32m--> \u001b[39m\u001b[32m387\u001b[39m     \u001b[38;5;28;43mself\u001b[39;49m\u001b[43m.\u001b[49m\u001b[43m_save_none_monitor_checkpoint\u001b[49m\u001b[43m(\u001b[49m\u001b[43mtrainer\u001b[49m\u001b[43m,\u001b[49m\u001b[43m \u001b[49m\u001b[43mmonitor_candidates\u001b[49m\u001b[43m)\u001b[49m\n",
      "\u001b[36mFile \u001b[39m\u001b[32m~/flow_field_dataset/.venv/lib/python3.11/site-packages/lightning/pytorch/callbacks/model_checkpoint.py:715\u001b[39m, in \u001b[36mModelCheckpoint._save_none_monitor_checkpoint\u001b[39m\u001b[34m(self, trainer, monitor_candidates)\u001b[39m\n\u001b[32m    714\u001b[39m previous, \u001b[38;5;28mself\u001b[39m.best_model_path = \u001b[38;5;28mself\u001b[39m.best_model_path, filepath\n\u001b[32m--> \u001b[39m\u001b[32m715\u001b[39m \u001b[38;5;28;43mself\u001b[39;49m\u001b[43m.\u001b[49m\u001b[43m_save_checkpoint\u001b[49m\u001b[43m(\u001b[49m\u001b[43mtrainer\u001b[49m\u001b[43m,\u001b[49m\u001b[43m \u001b[49m\u001b[43mfilepath\u001b[49m\u001b[43m)\u001b[49m\n\u001b[32m    717\u001b[39m \u001b[38;5;28;01mif\u001b[39;00m \u001b[38;5;28mself\u001b[39m.save_top_k == \u001b[32m1\u001b[39m \u001b[38;5;129;01mand\u001b[39;00m previous \u001b[38;5;129;01mand\u001b[39;00m \u001b[38;5;28mself\u001b[39m._should_remove_checkpoint(trainer, previous, filepath):\n",
      "\u001b[36mFile \u001b[39m\u001b[32m~/flow_field_dataset/.venv/lib/python3.11/site-packages/lightning/pytorch/callbacks/model_checkpoint.py:390\u001b[39m, in \u001b[36mModelCheckpoint._save_checkpoint\u001b[39m\u001b[34m(self, trainer, filepath)\u001b[39m\n\u001b[32m    389\u001b[39m \u001b[38;5;28;01mdef\u001b[39;00m\u001b[38;5;250m \u001b[39m\u001b[34m_save_checkpoint\u001b[39m(\u001b[38;5;28mself\u001b[39m, trainer: \u001b[33m\"\u001b[39m\u001b[33mpl.Trainer\u001b[39m\u001b[33m\"\u001b[39m, filepath: \u001b[38;5;28mstr\u001b[39m) -> \u001b[38;5;28;01mNone\u001b[39;00m:\n\u001b[32m--> \u001b[39m\u001b[32m390\u001b[39m     \u001b[43mtrainer\u001b[49m\u001b[43m.\u001b[49m\u001b[43msave_checkpoint\u001b[49m\u001b[43m(\u001b[49m\u001b[43mfilepath\u001b[49m\u001b[43m,\u001b[49m\u001b[43m \u001b[49m\u001b[38;5;28;43mself\u001b[39;49m\u001b[43m.\u001b[49m\u001b[43msave_weights_only\u001b[49m\u001b[43m)\u001b[49m\n\u001b[32m    392\u001b[39m     \u001b[38;5;28mself\u001b[39m._last_global_step_saved = trainer.global_step\n",
      "\u001b[36mFile \u001b[39m\u001b[32m~/flow_field_dataset/.venv/lib/python3.11/site-packages/lightning/pytorch/trainer/trainer.py:1397\u001b[39m, in \u001b[36mTrainer.save_checkpoint\u001b[39m\u001b[34m(self, filepath, weights_only, storage_options)\u001b[39m\n\u001b[32m   1396\u001b[39m checkpoint = \u001b[38;5;28mself\u001b[39m._checkpoint_connector.dump_checkpoint(weights_only)\n\u001b[32m-> \u001b[39m\u001b[32m1397\u001b[39m \u001b[38;5;28;43mself\u001b[39;49m\u001b[43m.\u001b[49m\u001b[43mstrategy\u001b[49m\u001b[43m.\u001b[49m\u001b[43msave_checkpoint\u001b[49m\u001b[43m(\u001b[49m\u001b[43mcheckpoint\u001b[49m\u001b[43m,\u001b[49m\u001b[43m \u001b[49m\u001b[43mfilepath\u001b[49m\u001b[43m,\u001b[49m\u001b[43m \u001b[49m\u001b[43mstorage_options\u001b[49m\u001b[43m=\u001b[49m\u001b[43mstorage_options\u001b[49m\u001b[43m)\u001b[49m\n\u001b[32m   1398\u001b[39m \u001b[38;5;28mself\u001b[39m.strategy.barrier(\u001b[33m\"\u001b[39m\u001b[33mTrainer.save_checkpoint\u001b[39m\u001b[33m\"\u001b[39m)\n",
      "\u001b[36mFile \u001b[39m\u001b[32m~/flow_field_dataset/.venv/lib/python3.11/site-packages/lightning/pytorch/strategies/strategy.py:491\u001b[39m, in \u001b[36mStrategy.save_checkpoint\u001b[39m\u001b[34m(self, checkpoint, filepath, storage_options)\u001b[39m\n\u001b[32m    490\u001b[39m \u001b[38;5;28;01mif\u001b[39;00m \u001b[38;5;28mself\u001b[39m.is_global_zero:\n\u001b[32m--> \u001b[39m\u001b[32m491\u001b[39m     \u001b[38;5;28;43mself\u001b[39;49m\u001b[43m.\u001b[49m\u001b[43mcheckpoint_io\u001b[49m\u001b[43m.\u001b[49m\u001b[43msave_checkpoint\u001b[49m\u001b[43m(\u001b[49m\u001b[43mcheckpoint\u001b[49m\u001b[43m,\u001b[49m\u001b[43m \u001b[49m\u001b[43mfilepath\u001b[49m\u001b[43m,\u001b[49m\u001b[43m \u001b[49m\u001b[43mstorage_options\u001b[49m\u001b[43m=\u001b[49m\u001b[43mstorage_options\u001b[49m\u001b[43m)\u001b[49m\n",
      "\u001b[36mFile \u001b[39m\u001b[32m~/flow_field_dataset/.venv/lib/python3.11/site-packages/lightning/fabric/plugins/io/torch_io.py:58\u001b[39m, in \u001b[36mTorchCheckpointIO.save_checkpoint\u001b[39m\u001b[34m(self, checkpoint, path, storage_options)\u001b[39m\n\u001b[32m     57\u001b[39m fs.makedirs(os.path.dirname(path), exist_ok=\u001b[38;5;28;01mTrue\u001b[39;00m)\n\u001b[32m---> \u001b[39m\u001b[32m58\u001b[39m \u001b[43m_atomic_save\u001b[49m\u001b[43m(\u001b[49m\u001b[43mcheckpoint\u001b[49m\u001b[43m,\u001b[49m\u001b[43m \u001b[49m\u001b[43mpath\u001b[49m\u001b[43m)\u001b[49m\n",
      "\u001b[36mFile \u001b[39m\u001b[32m~/flow_field_dataset/.venv/lib/python3.11/site-packages/lightning/fabric/utilities/cloud_io.py:89\u001b[39m, in \u001b[36m_atomic_save\u001b[39m\u001b[34m(checkpoint, filepath)\u001b[39m\n\u001b[32m     88\u001b[39m fs, urlpath = fsspec.core.url_to_fs(\u001b[38;5;28mstr\u001b[39m(filepath))\n\u001b[32m---> \u001b[39m\u001b[32m89\u001b[39m \u001b[43m\u001b[49m\u001b[38;5;28;43;01mwith\u001b[39;49;00m\u001b[43m \u001b[49m\u001b[43mfs\u001b[49m\u001b[43m.\u001b[49m\u001b[43mtransaction\u001b[49m\u001b[43m,\u001b[49m\u001b[43m \u001b[49m\u001b[43mfs\u001b[49m\u001b[43m.\u001b[49m\u001b[43mopen\u001b[49m\u001b[43m(\u001b[49m\u001b[43murlpath\u001b[49m\u001b[43m,\u001b[49m\u001b[43m \u001b[49m\u001b[33;43m\"\u001b[39;49m\u001b[33;43mwb\u001b[39;49m\u001b[33;43m\"\u001b[39;49m\u001b[43m)\u001b[49m\u001b[43m \u001b[49m\u001b[38;5;28;43;01mas\u001b[39;49;00m\u001b[43m \u001b[49m\u001b[43mf\u001b[49m\u001b[43m:\u001b[49m\n\u001b[32m     90\u001b[39m \u001b[43m    \u001b[49m\u001b[43mf\u001b[49m\u001b[43m.\u001b[49m\u001b[43mwrite\u001b[49m\u001b[43m(\u001b[49m\u001b[43mbytesbuffer\u001b[49m\u001b[43m.\u001b[49m\u001b[43mgetvalue\u001b[49m\u001b[43m(\u001b[49m\u001b[43m)\u001b[49m\u001b[43m)\u001b[49m\n",
      "\u001b[36mFile \u001b[39m\u001b[32m~/flow_field_dataset/.venv/lib/python3.11/site-packages/fsspec/implementations/local.py:476\u001b[39m, in \u001b[36mLocalFileOpener.__exit__\u001b[39m\u001b[34m(self, exc_type, exc_value, traceback)\u001b[39m\n\u001b[32m    475\u001b[39m \u001b[38;5;28mself\u001b[39m._incontext = \u001b[38;5;28;01mFalse\u001b[39;00m\n\u001b[32m--> \u001b[39m\u001b[32m476\u001b[39m \u001b[38;5;28;43mself\u001b[39;49m\u001b[43m.\u001b[49m\u001b[43mf\u001b[49m\u001b[43m.\u001b[49m\u001b[34;43m__exit__\u001b[39;49m\u001b[43m(\u001b[49m\u001b[43mexc_type\u001b[49m\u001b[43m,\u001b[49m\u001b[43m \u001b[49m\u001b[43mexc_value\u001b[49m\u001b[43m,\u001b[49m\u001b[43m \u001b[49m\u001b[43mtraceback\u001b[49m\u001b[43m)\u001b[49m\n",
      "\u001b[31mKeyboardInterrupt\u001b[39m: ",
      "\nDuring handling of the above exception, another exception occurred:\n",
      "\u001b[31mNameError\u001b[39m                                 Traceback (most recent call last)",
      "\u001b[36mCell\u001b[39m\u001b[36m \u001b[39m\u001b[32mIn[18]\u001b[39m\u001b[32m, line 14\u001b[39m\n\u001b[32m      4\u001b[39m tb_logger = pl_loggers.TensorBoardLogger(save_dir=\u001b[33m\"\u001b[39m\u001b[33mlogs/\u001b[39m\u001b[33m\"\u001b[39m)\n\u001b[32m      5\u001b[39m trainer = pl.Trainer(\n\u001b[32m      6\u001b[39m     max_epochs=\u001b[32m500\u001b[39m,\n\u001b[32m      7\u001b[39m     accelerator=\u001b[33m'\u001b[39m\u001b[33mauto\u001b[39m\u001b[33m'\u001b[39m,\n\u001b[32m   (...)\u001b[39m\u001b[32m     12\u001b[39m     log_every_n_steps=\u001b[32m1\u001b[39m,\n\u001b[32m     13\u001b[39m )\n\u001b[32m---> \u001b[39m\u001b[32m14\u001b[39m \u001b[43mtrainer\u001b[49m\u001b[43m.\u001b[49m\u001b[43mfit\u001b[49m\u001b[43m(\u001b[49m\n\u001b[32m     15\u001b[39m \u001b[43m    \u001b[49m\u001b[43mmodel\u001b[49m\u001b[43m=\u001b[49m\u001b[43mtask\u001b[49m\u001b[43m,\u001b[49m\n\u001b[32m     16\u001b[39m \u001b[43m    \u001b[49m\u001b[43mdatamodule\u001b[49m\u001b[43m=\u001b[49m\u001b[43mdm\u001b[49m\u001b[43m,\u001b[49m\n\u001b[32m     17\u001b[39m \u001b[43m)\u001b[49m\n",
      "\u001b[36mFile \u001b[39m\u001b[32m~/flow_field_dataset/.venv/lib/python3.11/site-packages/lightning/pytorch/trainer/trainer.py:561\u001b[39m, in \u001b[36mTrainer.fit\u001b[39m\u001b[34m(self, model, train_dataloaders, val_dataloaders, datamodule, ckpt_path)\u001b[39m\n\u001b[32m    559\u001b[39m \u001b[38;5;28mself\u001b[39m.training = \u001b[38;5;28;01mTrue\u001b[39;00m\n\u001b[32m    560\u001b[39m \u001b[38;5;28mself\u001b[39m.should_stop = \u001b[38;5;28;01mFalse\u001b[39;00m\n\u001b[32m--> \u001b[39m\u001b[32m561\u001b[39m \u001b[43mcall\u001b[49m\u001b[43m.\u001b[49m\u001b[43m_call_and_handle_interrupt\u001b[49m\u001b[43m(\u001b[49m\n\u001b[32m    562\u001b[39m \u001b[43m    \u001b[49m\u001b[38;5;28;43mself\u001b[39;49m\u001b[43m,\u001b[49m\u001b[43m \u001b[49m\u001b[38;5;28;43mself\u001b[39;49m\u001b[43m.\u001b[49m\u001b[43m_fit_impl\u001b[49m\u001b[43m,\u001b[49m\u001b[43m \u001b[49m\u001b[43mmodel\u001b[49m\u001b[43m,\u001b[49m\u001b[43m \u001b[49m\u001b[43mtrain_dataloaders\u001b[49m\u001b[43m,\u001b[49m\u001b[43m \u001b[49m\u001b[43mval_dataloaders\u001b[49m\u001b[43m,\u001b[49m\u001b[43m \u001b[49m\u001b[43mdatamodule\u001b[49m\u001b[43m,\u001b[49m\u001b[43m \u001b[49m\u001b[43mckpt_path\u001b[49m\n\u001b[32m    563\u001b[39m \u001b[43m\u001b[49m\u001b[43m)\u001b[49m\n",
      "\u001b[36mFile \u001b[39m\u001b[32m~/flow_field_dataset/.venv/lib/python3.11/site-packages/lightning/pytorch/trainer/call.py:65\u001b[39m, in \u001b[36m_call_and_handle_interrupt\u001b[39m\u001b[34m(trainer, trainer_fn, *args, **kwargs)\u001b[39m\n\u001b[32m     63\u001b[39m     \u001b[38;5;28;01mif\u001b[39;00m \u001b[38;5;28misinstance\u001b[39m(launcher, _SubprocessScriptLauncher):\n\u001b[32m     64\u001b[39m         launcher.kill(_get_sigkill_signal())\n\u001b[32m---> \u001b[39m\u001b[32m65\u001b[39m     \u001b[43mexit\u001b[49m(\u001b[32m1\u001b[39m)\n\u001b[32m     67\u001b[39m \u001b[38;5;28;01mexcept\u001b[39;00m \u001b[38;5;167;01mBaseException\u001b[39;00m \u001b[38;5;28;01mas\u001b[39;00m exception:\n\u001b[32m     68\u001b[39m     _interrupt(trainer, exception)\n",
      "\u001b[31mNameError\u001b[39m: name 'exit' is not defined"
     ]
    }
   ],
   "source": [
    "import lightning.pytorch as pl\n",
    "from lightning.pytorch import loggers as pl_loggers\n",
    "\n",
    "tb_logger = pl_loggers.TensorBoardLogger(save_dir=\"logs/\")\n",
    "trainer = pl.Trainer(\n",
    "    max_epochs=500,\n",
    "    accelerator='auto',\n",
    "    devices=1,\n",
    "    logger=tb_logger,\n",
    "    enable_progress_bar=True,\n",
    "    enable_model_summary=True,\n",
    "    log_every_n_steps=1,\n",
    ")\n",
    "trainer.fit(\n",
    "    model=task,\n",
    "    datamodule=dm,\n",
    ")"
   ]
  }
 ],
 "metadata": {
  "kernelspec": {
   "display_name": ".venv",
   "language": "python",
   "name": "python3"
  },
  "language_info": {
   "codemirror_mode": {
    "name": "ipython",
    "version": 3
   },
   "file_extension": ".py",
   "mimetype": "text/x-python",
   "name": "python",
   "nbconvert_exporter": "python",
   "pygments_lexer": "ipython3",
   "version": "3.11.12"
  }
 },
 "nbformat": 4,
 "nbformat_minor": 5
}
