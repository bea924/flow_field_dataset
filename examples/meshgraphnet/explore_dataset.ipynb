{
 "cells": [
  {
   "cell_type": "code",
   "execution_count": 1,
   "id": "5f3e4094",
   "metadata": {},
   "outputs": [],
   "source": [
    "%load_ext autoreload\n",
    "%autoreload 2"
   ]
  },
  {
   "cell_type": "code",
   "execution_count": 2,
   "id": "6d220d42",
   "metadata": {},
   "outputs": [],
   "source": [
    "import sys\n",
    "import os\n",
    "base_path = '../../'\n",
    "sys.path.append(base_path)"
   ]
  },
  {
   "cell_type": "code",
   "execution_count": null,
   "id": "7a9c99cf",
   "metadata": {},
   "outputs": [
    {
     "name": "stdout",
     "output_type": "stream",
     "text": [
      "Loaded 3 samples from '/nfs/homedirs/peo/flow_field_dataset/examples/meshgraphnet/datasets/pyvista_s'.\n",
      "Loaded 3 samples from 'datasets/pyvista_s'.\n"
     ]
    },
    {
     "name": "stderr",
     "output_type": "stream",
     "text": [
      "Converting Pyvista dataset to DGLGraphs (surface):   0%|          | 0/3 [00:00<?, ?it/s]"
     ]
    }
   ],
   "source": [
    "from cooldata.dgl_flow_field_dataset import DGLSurfaceFlowFieldDataset\n",
    "from cooldata.pyvista_flow_field_dataset import PyvistaFlowFieldDataset\n",
    "ds_pv = PyvistaFlowFieldDataset.load_from_huggingface(\"datasets/pyvista_s\",num_samples=3)\n",
    "ds_dgl = DGLSurfaceFlowFieldDataset(os.path.join(base_path,'datasets/dgl_surface_s'),ds_pv)\n",
    "#ds_dgl = DGLSurfaceFlowFieldDataset(os.path.join(base_path,'datasets/dgl_surface'))\n",
    "pos= ds_dgl[0].ndata['Position']\n",
    "ds_dgl[0]"
   ]
  },
  {
   "cell_type": "code",
   "execution_count": 7,
   "id": "6559456d",
   "metadata": {},
   "outputs": [
    {
     "data": {
      "text/html": [
       "<table style='width: 100%;'><tr><th>Header</th><th>Data Arrays</th></tr><tr><td>\n",
       "<table style='width: 100%;'>\n",
       "<tr><th>UnstructuredGrid</th><th>Information</th></tr>\n",
       "<tr><td>N Cells</td><td>35771</td></tr>\n",
       "<tr><td>N Points</td><td>37371</td></tr>\n",
       "<tr><td>X Bounds</td><td>-4.337e-19, 5.000e-01</td></tr>\n",
       "<tr><td>Y Bounds</td><td>0.000e+00, 1.000e-01</td></tr>\n",
       "<tr><td>Z Bounds</td><td>0.000e+00, 2.000e-02</td></tr>\n",
       "<tr><td>N Arrays</td><td>9</td></tr>\n",
       "</table>\n",
       "\n",
       "</td><td>\n",
       "<table style='width: 100%;'>\n",
       "<tr><th>Name</th><th>Field</th><th>Type</th><th>N Comp</th><th>Min</th><th>Max</th></tr>\n",
       "<tr><td>AreaMagnitude</td><td>Cells</td><td>float64</td><td>1</td><td>9.118e-08</td><td>5.088e-06</td></tr>\n",
       "<tr><td>HeatTransferCoefficient</td><td>Cells</td><td>float64</td><td>1</td><td>-3.309e+02</td><td>1.583e+03</td></tr>\n",
       "<tr><td>Normal_0</td><td>Cells</td><td>float64</td><td>1</td><td>-1.000e+00</td><td>1.000e+00</td></tr>\n",
       "<tr><td>Normal_1</td><td>Cells</td><td>float64</td><td>1</td><td>-1.000e+00</td><td>1.000e+00</td></tr>\n",
       "<tr><td>Normal_2</td><td>Cells</td><td>float64</td><td>1</td><td>-1.000e+00</td><td>1.000e+00</td></tr>\n",
       "<tr><td>Pressure</td><td>Cells</td><td>float64</td><td>1</td><td>-1.000e+01</td><td>1.036e+01</td></tr>\n",
       "<tr><td>Temperature</td><td>Cells</td><td>float64</td><td>1</td><td>2.931e+02</td><td>3.453e+02</td></tr>\n",
       "<tr><td>Base/Zone</td><td>Fields</td><td><U14</td><td>1</td><td>nan</td><td>nan</td></tr>\n",
       "<tr><td>ispatch</td><td>Fields</td><td>int32</td><td>1</td><td>0.000e+00</td><td>0.000e+00</td></tr>\n",
       "</table>\n",
       "\n",
       "</td></tr> </table>"
      ],
      "text/plain": [
       "UnstructuredGrid (0x7046bc7d1ea0)\n",
       "  N Cells:    35771\n",
       "  N Points:   37371\n",
       "  X Bounds:   -4.337e-19, 5.000e-01\n",
       "  Y Bounds:   0.000e+00, 1.000e-01\n",
       "  Z Bounds:   0.000e+00, 2.000e-02\n",
       "  N Arrays:   9"
      ]
     },
     "execution_count": 7,
     "metadata": {},
     "output_type": "execute_result"
    }
   ],
   "source": [
    "ds_pv[0].surface_data[0].combine()"
   ]
  },
  {
   "cell_type": "code",
   "execution_count": null,
   "id": "8aea78eb",
   "metadata": {},
   "outputs": [],
   "source": [
    "edges_from, edges_to = find_k_nearest_neighbors(pos.to(\"cuda\"),k=10)"
   ]
  },
  {
   "cell_type": "code",
   "execution_count": null,
   "id": "e80c007d",
   "metadata": {},
   "outputs": [],
   "source": [
    "graph = dgl.graph((edges_from, edges_to), num_nodes=pos.shape[0]).to(\"cpu\")\n",
    "graph.ndata['Position'] = pos\n",
    "for key in ds_dgl[0].ndata:\n",
    "    graph.ndata[key] = ds_dgl[0].ndata[key]\n",
    "graph.edata[\"dx\"] = graph.ndata['Position'][graph.edges()[1]] - graph.ndata['Position'][graph.edges()[0]]"
   ]
  },
  {
   "cell_type": "code",
   "execution_count": null,
   "id": "4d2321f2",
   "metadata": {},
   "outputs": [
    {
     "data": {
      "text/plain": [
       "Graph(num_nodes=34829, num_edges=362546,\n",
       "      ndata_schemes={'Position': Scheme(shape=(3,), dtype=torch.float32), 'BodyID': Scheme(shape=(), dtype=torch.int32), 'CellArea': Scheme(shape=(), dtype=torch.float32), 'Normal': Scheme(shape=(3,), dtype=torch.float32), 'ShearStress': Scheme(shape=(3,), dtype=torch.float32), 'Temperature': Scheme(shape=(), dtype=torch.float32), 'Pressure': Scheme(shape=(), dtype=torch.float32)}\n",
       "      edata_schemes={'dx': Scheme(shape=(3,), dtype=torch.float32)})"
      ]
     },
     "execution_count": 34,
     "metadata": {},
     "output_type": "execute_result"
    }
   ],
   "source": [
    "graph"
   ]
  },
  {
   "cell_type": "code",
   "execution_count": null,
   "id": "5e143e92",
   "metadata": {},
   "outputs": [],
   "source": []
  },
  {
   "cell_type": "code",
   "execution_count": 9,
   "id": "e2801fc3",
   "metadata": {},
   "outputs": [
    {
     "data": {
      "application/vnd.jupyter.widget-view+json": {
       "model_id": "43c09c0ceb8246f98de0e33a5f3b9d75",
       "version_major": 2,
       "version_minor": 0
      },
      "text/plain": [
       "Widget(value='<iframe src=\"http://localhost:42461/index.html?ui=P_0x751995137f10_1&reconnect=auto\" class=\"pyvi…"
      ]
     },
     "metadata": {},
     "output_type": "display_data"
    }
   ],
   "source": [
    "import pyvista as pv\n",
    "pv.set_jupyter_backend('trame')\n",
    "ds_dgl.plot_surface(ds_dgl[0],\"Pressure\")"
   ]
  }
 ],
 "metadata": {
  "kernelspec": {
   "display_name": ".venv",
   "language": "python",
   "name": "python3"
  },
  "language_info": {
   "codemirror_mode": {
    "name": "ipython",
    "version": 3
   },
   "file_extension": ".py",
   "mimetype": "text/x-python",
   "name": "python",
   "nbconvert_exporter": "python",
   "pygments_lexer": "ipython3",
   "version": "3.11.12"
  }
 },
 "nbformat": 4,
 "nbformat_minor": 5
}
