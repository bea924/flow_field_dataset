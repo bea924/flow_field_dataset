{
 "cells": [
  {
   "cell_type": "code",
   "execution_count": 1,
   "id": "2b2b23c6",
   "metadata": {},
   "outputs": [],
   "source": [
    "%load_ext autoreload\n",
    "%autoreload 2"
   ]
  },
  {
   "cell_type": "code",
   "execution_count": 2,
   "id": "acb9e480",
   "metadata": {},
   "outputs": [],
   "source": [
    "import sys\n",
    "import os\n",
    "base_path = '../../'\n",
    "sys.path.append(base_path)"
   ]
  },
  {
   "cell_type": "code",
   "execution_count": 12,
   "id": "2d3043de",
   "metadata": {},
   "outputs": [
    {
     "name": "stdout",
     "output_type": "stream",
     "text": [
      "Loaded 9 samples from 'datasets/pyvista-small'.\n"
     ]
    }
   ],
   "source": [
    "from src.dgl_flow_field_dataset import DGLVolumeFlowFieldDataset\n",
    "from src.pyvista_flow_field_dataset import PyvistaFlowFieldDataset\n",
    "ds_pv = PyvistaFlowFieldDataset.load_from_huggingface(\"datasets/pyvista-small\",num_samples=9)"
   ]
  },
  {
   "cell_type": "code",
   "execution_count": 13,
   "id": "d149043a",
   "metadata": {},
   "outputs": [
    {
     "name": "stderr",
     "output_type": "stream",
     "text": [
      "Converting Pyvista dataset to DGLGraphs:   0%|          | 0/9 [00:00<?, ?it/s]\u001b[0m\u001b[33m2025-05-26 14:41:06.054 ( 298.229s) [    77706D739740]      vtkCGNSReader.cxx:4268  WARN| vtkCGNSReader (0x5d9f9bd29f40): Skipping BC_t node: BC_t type 'BCInflow' not supported yet.\u001b[0m\n",
      "\u001b[0m\u001b[33m2025-05-26 14:41:06.054 ( 298.229s) [    77706D739740]      vtkCGNSReader.cxx:4268  WARN| vtkCGNSReader (0x5d9f9bd29f40): Skipping BC_t node: BC_t type 'BCSymmetryPlane' not supported yet.\u001b[0m\n",
      "\u001b[0m\u001b[33m2025-05-26 14:41:06.054 ( 298.229s) [    77706D739740]      vtkCGNSReader.cxx:4268  WARN| vtkCGNSReader (0x5d9f9bd29f40): Skipping BC_t node: BC_t type 'BCTunnelOutflow' not supported yet.\u001b[0m\n",
      "\u001b[0m\u001b[33m2025-05-26 14:41:06.075 ( 298.250s) [    77706D739740]      vtkCGNSReader.cxx:4268  WARN| vtkCGNSReader (0x5d9f9bd29f40): Skipping BC_t node: BC_t type 'BCInflow' not supported yet.\u001b[0m\n",
      "\u001b[0m\u001b[33m2025-05-26 14:41:06.075 ( 298.250s) [    77706D739740]      vtkCGNSReader.cxx:4268  WARN| vtkCGNSReader (0x5d9f9bd29f40): Skipping BC_t node: BC_t type 'BCSymmetryPlane' not supported yet.\u001b[0m\n",
      "\u001b[0m\u001b[33m2025-05-26 14:41:06.075 ( 298.250s) [    77706D739740]      vtkCGNSReader.cxx:4268  WARN| vtkCGNSReader (0x5d9f9bd29f40): Skipping BC_t node: BC_t type 'BCTunnelOutflow' not supported yet.\u001b[0m\n",
      "\u001b[0m\u001b[33m2025-05-26 14:41:06.090 ( 298.264s) [    77706D739740]      vtkCGNSReader.cxx:4268  WARN| vtkCGNSReader (0x5d9f9bd29f40): Skipping BC_t node: BC_t type 'BCInflow' not supported yet.\u001b[0m\n",
      "\u001b[0m\u001b[33m2025-05-26 14:41:06.090 ( 298.264s) [    77706D739740]      vtkCGNSReader.cxx:4268  WARN| vtkCGNSReader (0x5d9f9bd29f40): Skipping BC_t node: BC_t type 'BCSymmetryPlane' not supported yet.\u001b[0m\n",
      "\u001b[0m\u001b[33m2025-05-26 14:41:06.090 ( 298.264s) [    77706D739740]      vtkCGNSReader.cxx:4268  WARN| vtkCGNSReader (0x5d9f9bd29f40): Skipping BC_t node: BC_t type 'BCTunnelOutflow' not supported yet.\u001b[0m\n",
      "\u001b[0m\u001b[33m2025-05-26 14:41:06.097 ( 298.272s) [    77706D739740]      vtkCGNSReader.cxx:4268  WARN| vtkCGNSReader (0x5d9f9bd29f40): Skipping BC_t node: BC_t type 'BCInflow' not supported yet.\u001b[0m\n",
      "\u001b[0m\u001b[33m2025-05-26 14:41:06.098 ( 298.272s) [    77706D739740]      vtkCGNSReader.cxx:4268  WARN| vtkCGNSReader (0x5d9f9bd29f40): Skipping BC_t node: BC_t type 'BCSymmetryPlane' not supported yet.\u001b[0m\n",
      "\u001b[0m\u001b[33m2025-05-26 14:41:06.098 ( 298.272s) [    77706D739740]      vtkCGNSReader.cxx:4268  WARN| vtkCGNSReader (0x5d9f9bd29f40): Skipping BC_t node: BC_t type 'BCTunnelOutflow' not supported yet.\u001b[0m\n",
      "\u001b[0m\u001b[33m2025-05-26 14:41:06.100 ( 298.275s) [    77706D739740]      vtkCGNSReader.cxx:4268  WARN| vtkCGNSReader (0x5d9f9bd29f40): Skipping BC_t node: BC_t type 'BCInflow' not supported yet.\u001b[0m\n",
      "\u001b[0m\u001b[33m2025-05-26 14:41:06.100 ( 298.275s) [    77706D739740]      vtkCGNSReader.cxx:4268  WARN| vtkCGNSReader (0x5d9f9bd29f40): Skipping BC_t node: BC_t type 'BCSymmetryPlane' not supported yet.\u001b[0m\n",
      "\u001b[0m\u001b[33m2025-05-26 14:41:06.100 ( 298.275s) [    77706D739740]      vtkCGNSReader.cxx:4268  WARN| vtkCGNSReader (0x5d9f9bd29f40): Skipping BC_t node: BC_t type 'BCTunnelOutflow' not supported yet.\u001b[0m\n",
      "\u001b[0m\u001b[33m2025-05-26 14:41:06.103 ( 298.278s) [    77706D739740]      vtkCGNSReader.cxx:4268  WARN| vtkCGNSReader (0x5d9f9bd29f40): Skipping BC_t node: BC_t type 'BCInflow' not supported yet.\u001b[0m\n",
      "\u001b[0m\u001b[33m2025-05-26 14:41:06.103 ( 298.278s) [    77706D739740]      vtkCGNSReader.cxx:4268  WARN| vtkCGNSReader (0x5d9f9bd29f40): Skipping BC_t node: BC_t type 'BCSymmetryPlane' not supported yet.\u001b[0m\n",
      "\u001b[0m\u001b[33m2025-05-26 14:41:06.103 ( 298.278s) [    77706D739740]      vtkCGNSReader.cxx:4268  WARN| vtkCGNSReader (0x5d9f9bd29f40): Skipping BC_t node: BC_t type 'BCTunnelOutflow' not supported yet.\u001b[0m\n",
      "\u001b[0m\u001b[33m2025-05-26 14:41:06.105 ( 298.280s) [    77706D739740]      vtkCGNSReader.cxx:4268  WARN| vtkCGNSReader (0x5d9f9bd29f40): Skipping BC_t node: BC_t type 'BCInflow' not supported yet.\u001b[0m\n",
      "\u001b[0m\u001b[33m2025-05-26 14:41:06.105 ( 298.280s) [    77706D739740]      vtkCGNSReader.cxx:4268  WARN| vtkCGNSReader (0x5d9f9bd29f40): Skipping BC_t node: BC_t type 'BCSymmetryPlane' not supported yet.\u001b[0m\n",
      "\u001b[0m\u001b[33m2025-05-26 14:41:06.106 ( 298.280s) [    77706D739740]      vtkCGNSReader.cxx:4268  WARN| vtkCGNSReader (0x5d9f9bd29f40): Skipping BC_t node: BC_t type 'BCTunnelOutflow' not supported yet.\u001b[0m\n",
      "\u001b[0m\u001b[33m2025-05-26 14:41:06.153 ( 298.328s) [    77706D739740]      vtkCGNSReader.cxx:4268  WARN| vtkCGNSReader (0x5d9f9bd29f40): Skipping BC_t node: BC_t type 'BCInflow' not supported yet.\u001b[0m\n",
      "\u001b[0m\u001b[33m2025-05-26 14:41:06.153 ( 298.328s) [    77706D739740]      vtkCGNSReader.cxx:4268  WARN| vtkCGNSReader (0x5d9f9bd29f40): Skipping BC_t node: BC_t type 'BCSymmetryPlane' not supported yet.\u001b[0m\n",
      "\u001b[0m\u001b[33m2025-05-26 14:41:06.153 ( 298.328s) [    77706D739740]      vtkCGNSReader.cxx:4268  WARN| vtkCGNSReader (0x5d9f9bd29f40): Skipping BC_t node: BC_t type 'BCTunnelOutflow' not supported yet.\u001b[0m\n",
      "\u001b[0m\u001b[33m2025-05-26 14:41:06.160 ( 298.335s) [    77706D739740]      vtkCGNSReader.cxx:4268  WARN| vtkCGNSReader (0x5d9f9bd29f40): Skipping BC_t node: BC_t type 'BCInflow' not supported yet.\u001b[0m\n",
      "\u001b[0m\u001b[33m2025-05-26 14:41:06.160 ( 298.335s) [    77706D739740]      vtkCGNSReader.cxx:4268  WARN| vtkCGNSReader (0x5d9f9bd29f40): Skipping BC_t node: BC_t type 'BCSymmetryPlane' not supported yet.\u001b[0m\n",
      "\u001b[0m\u001b[33m2025-05-26 14:41:06.160 ( 298.335s) [    77706D739740]      vtkCGNSReader.cxx:4268  WARN| vtkCGNSReader (0x5d9f9bd29f40): Skipping BC_t node: BC_t type 'BCTunnelOutflow' not supported yet.\u001b[0m\n",
      "Converting Pyvista dataset to DGLGraphs: 100%|██████████| 9/9 [00:21<00:00,  2.38s/it]\n"
     ]
    }
   ],
   "source": [
    "ds_volume = DGLVolumeFlowFieldDataset(\"datasets/dgl_volume\", ds_pv)"
   ]
  },
  {
   "cell_type": "code",
   "execution_count": 16,
   "id": "2be66c54",
   "metadata": {},
   "outputs": [
    {
     "data": {
      "text/plain": [
       "Graph(num_nodes=170149, num_edges=4113572,\n",
       "      ndata_schemes={'Volume': Scheme(shape=(), dtype=torch.float32), 'TurbulentKineticEnergy': Scheme(shape=(), dtype=torch.float32), 'TurbulentDissipationRate': Scheme(shape=(), dtype=torch.float32), 'Velocity': Scheme(shape=(3,), dtype=torch.float32), 'Position': Scheme(shape=(3,), dtype=torch.float32), 'Temperature': Scheme(shape=(), dtype=torch.float32), 'Pressure': Scheme(shape=(), dtype=torch.float32)}\n",
       "      edata_schemes={'dx': Scheme(shape=(3,), dtype=torch.float32)})"
      ]
     },
     "execution_count": 16,
     "metadata": {},
     "output_type": "execute_result"
    }
   ],
   "source": [
    "ds_volume[0]"
   ]
  }
 ],
 "metadata": {
  "kernelspec": {
   "display_name": ".venv",
   "language": "python",
   "name": "python3"
  },
  "language_info": {
   "codemirror_mode": {
    "name": "ipython",
    "version": 3
   },
   "file_extension": ".py",
   "mimetype": "text/x-python",
   "name": "python",
   "nbconvert_exporter": "python",
   "pygments_lexer": "ipython3",
   "version": "3.11.11"
  }
 },
 "nbformat": 4,
 "nbformat_minor": 5
}
