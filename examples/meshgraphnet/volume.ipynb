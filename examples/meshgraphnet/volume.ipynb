{
 "cells": [
  {
   "cell_type": "code",
   "execution_count": 1,
   "id": "2b2b23c6",
   "metadata": {},
   "outputs": [],
   "source": [
    "%load_ext autoreload\n",
    "%autoreload 2"
   ]
  },
  {
   "cell_type": "code",
   "execution_count": 2,
   "id": "acb9e480",
   "metadata": {},
   "outputs": [],
   "source": [
    "import sys\n",
    "import os\n",
    "base_path = '../../'\n",
    "sys.path.append(base_path)"
   ]
  },
  {
   "cell_type": "code",
   "execution_count": null,
   "id": "2d3043de",
   "metadata": {},
   "outputs": [
    {
     "name": "stdout",
     "output_type": "stream",
     "text": [
      "Loaded 9 samples from 'datasets/pyvista-small'.\n"
     ]
    }
   ],
   "source": [
    "from cooldata.dgl_flow_field_dataset import DGLVolumeFlowFieldDataset\n",
    "from cooldata.pyvista_flow_field_dataset import PyvistaFlowFieldDataset\n",
    "ds_pv = PyvistaFlowFieldDataset.load_from_huggingface(\"datasets/pyvista-small\",num_samples=9)"
   ]
  },
  {
   "cell_type": "code",
   "execution_count": 30,
   "id": "d149043a",
   "metadata": {},
   "outputs": [],
   "source": [
    "ds_volume = DGLVolumeFlowFieldDataset(\"datasets/dgl_volume\", ds_pv)"
   ]
  },
  {
   "cell_type": "code",
   "execution_count": 43,
   "id": "3f63fd0d",
   "metadata": {},
   "outputs": [],
   "source": [
    "ds_volume.normalize()"
   ]
  },
  {
   "cell_type": "code",
   "execution_count": 46,
   "id": "2be66c54",
   "metadata": {},
   "outputs": [
    {
     "data": {
      "text/plain": [
       "(tensor(0.5505), tensor(2.4571))"
      ]
     },
     "execution_count": 46,
     "metadata": {},
     "output_type": "execute_result"
    }
   ],
   "source": [
    "ds_volume[2].ndata[\"Pressure\"].mean(), ds_volume[2].ndata[\"Pressure\"].std()"
   ]
  },
  {
   "cell_type": "code",
   "execution_count": 47,
   "id": "d547c087",
   "metadata": {},
   "outputs": [
    {
     "data": {
      "text/plain": [
       "Graph(num_nodes=170149, num_edges=4113572,\n",
       "      ndata_schemes={'Volume': Scheme(shape=(), dtype=torch.float32), 'TurbulentKineticEnergy': Scheme(shape=(), dtype=torch.float32), 'TurbulentDissipationRate': Scheme(shape=(), dtype=torch.float32), 'Velocity': Scheme(shape=(3,), dtype=torch.float32), 'Position': Scheme(shape=(3,), dtype=torch.float32), 'Temperature': Scheme(shape=(), dtype=torch.float32), 'Pressure': Scheme(shape=(), dtype=torch.float32)}\n",
       "      edata_schemes={'dx': Scheme(shape=(3,), dtype=torch.float32)})"
      ]
     },
     "execution_count": 47,
     "metadata": {},
     "output_type": "execute_result"
    }
   ],
   "source": [
    "ds_volume[0]"
   ]
  }
 ],
 "metadata": {
  "kernelspec": {
   "display_name": ".venv",
   "language": "python",
   "name": "python3"
  },
  "language_info": {
   "codemirror_mode": {
    "name": "ipython",
    "version": 3
   },
   "file_extension": ".py",
   "mimetype": "text/x-python",
   "name": "python",
   "nbconvert_exporter": "python",
   "pygments_lexer": "ipython3",
   "version": "3.11.11"
  }
 },
 "nbformat": 4,
 "nbformat_minor": 5
}
