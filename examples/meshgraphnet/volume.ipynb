{
 "cells": [
  {
   "cell_type": "code",
   "execution_count": 1,
   "id": "2b2b23c6",
   "metadata": {},
   "outputs": [],
   "source": [
    "%load_ext autoreload\n",
    "%autoreload 2"
   ]
  },
  {
   "cell_type": "code",
   "execution_count": 2,
   "id": "acb9e480",
   "metadata": {},
   "outputs": [],
   "source": [
    "import sys\n",
    "import os\n",
    "base_path = '../../'\n",
    "sys.path.append(base_path)"
   ]
  },
  {
   "cell_type": "code",
   "execution_count": 4,
   "id": "2d3043de",
   "metadata": {},
   "outputs": [
    {
     "data": {
      "application/vnd.jupyter.widget-view+json": {
       "model_id": "09ca15de52694cd28780833ef3d6eb6f",
       "version_major": 2,
       "version_minor": 0
      },
      "text/plain": [
       "(…)/bgce/cooldata-v2/runs/run_1/batch_0.zip:   0%|          | 0.00/137M [00:00<?, ?B/s]"
      ]
     },
     "metadata": {},
     "output_type": "display_data"
    }
   ],
   "source": [
    "from src.dgl_flow_field_dataset import DGLVolumeFlowFieldDataset\n",
    "from src.pyvista_flow_field_dataset import PyvistaFlowFieldDataset\n",
    "ds_pv = PyvistaFlowFieldDataset.load_from_huggingface(\"datasets/pyvista-small\",num_samples=2)"
   ]
  },
  {
   "cell_type": "code",
   "execution_count": 19,
   "id": "d149043a",
   "metadata": {},
   "outputs": [
    {
     "name": "stderr",
     "output_type": "stream",
     "text": [
      "Converting Pyvista to DGLGraph: 100%|██████████| 187194/187194 [00:10<00:00, 17393.88it/s]\n",
      "Converting Pyvista to DGLGraph: 100%|██████████| 192498/192498 [00:10<00:00, 17832.30it/s]\n"
     ]
    }
   ],
   "source": [
    "ds_volume = DGLVolumeFlowFieldDataset(\"datasets/dgl_volume\", ds_pv)"
   ]
  },
  {
   "cell_type": "code",
   "execution_count": 20,
   "id": "2be66c54",
   "metadata": {},
   "outputs": [
    {
     "data": {
      "text/plain": [
       "Graph(num_nodes=187194, num_edges=4550210,\n",
       "      ndata_schemes={'Volume': Scheme(shape=(), dtype=torch.float32), 'TurbulentKineticEnergy': Scheme(shape=(), dtype=torch.float32), 'TurbulentDissipationRate': Scheme(shape=(), dtype=torch.float32), 'Velocity': Scheme(shape=(3,), dtype=torch.float32), 'Position': Scheme(shape=(3,), dtype=torch.float32), 'Temperature': Scheme(shape=(), dtype=torch.float32), 'Pressure': Scheme(shape=(), dtype=torch.float32)}\n",
       "      edata_schemes={'dx': Scheme(shape=(3,), dtype=torch.float32)})"
      ]
     },
     "execution_count": 20,
     "metadata": {},
     "output_type": "execute_result"
    }
   ],
   "source": [
    "ds_volume[0]"
   ]
  }
 ],
 "metadata": {
  "kernelspec": {
   "display_name": ".venv",
   "language": "python",
   "name": "python3"
  },
  "language_info": {
   "codemirror_mode": {
    "name": "ipython",
    "version": 3
   },
   "file_extension": ".py",
   "mimetype": "text/x-python",
   "name": "python",
   "nbconvert_exporter": "python",
   "pygments_lexer": "ipython3",
   "version": "3.11.11"
  }
 },
 "nbformat": 4,
 "nbformat_minor": 5
}
