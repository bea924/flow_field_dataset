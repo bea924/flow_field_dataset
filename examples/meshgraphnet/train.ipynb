{
 "cells": [
  {
   "cell_type": "code",
   "execution_count": 1,
   "metadata": {},
   "outputs": [],
   "source": [
    "%load_ext autoreload\n",
    "%autoreload 2"
   ]
  },
  {
   "cell_type": "code",
   "execution_count": 2,
   "metadata": {},
   "outputs": [],
   "source": [
    "import sys\n",
    "import os\n",
    "base_path = '../../'\n",
    "sys.path.append(base_path)"
   ]
  },
  {
   "cell_type": "code",
   "execution_count": 5,
   "metadata": {},
   "outputs": [
    {
     "name": "stdout",
     "output_type": "stream",
     "text": [
      "Found 333 files in repository 'peteole/CoolMucSmall'.\n",
      "Downloading 666 files from repository 'peteole/CoolMucSmall' to 'datasets/ds_huggingface'.\n",
      "Downloading file 1/6: volume_design_1.cgns\n"
     ]
    },
    {
     "data": {
      "application/vnd.jupyter.widget-view+json": {
       "model_id": "8136c196cddb41aa8985b73dddfe860a",
       "version_major": 2,
       "version_minor": 0
      },
      "text/plain": [
       "volume_design_1.cgns:   0%|          | 0.00/44.8M [00:00<?, ?B/s]"
      ]
     },
     "metadata": {},
     "output_type": "display_data"
    },
    {
     "name": "stdout",
     "output_type": "stream",
     "text": [
      "Downloading file 2/6: volume_design_10.cgns\n"
     ]
    },
    {
     "data": {
      "application/vnd.jupyter.widget-view+json": {
       "model_id": "bb996c1a5f50418b90619d3be5489baa",
       "version_major": 2,
       "version_minor": 0
      },
      "text/plain": [
       "volume_design_10.cgns:   0%|          | 0.00/44.3M [00:00<?, ?B/s]"
      ]
     },
     "metadata": {},
     "output_type": "display_data"
    },
    {
     "name": "stdout",
     "output_type": "stream",
     "text": [
      "Downloading file 3/6: volume_design_1001.cgns\n"
     ]
    },
    {
     "data": {
      "application/vnd.jupyter.widget-view+json": {
       "model_id": "2ee31cf7c99d43fca32d5e6381170c7e",
       "version_major": 2,
       "version_minor": 0
      },
      "text/plain": [
       "volume_design_1001.cgns:   0%|          | 0.00/46.3M [00:00<?, ?B/s]"
      ]
     },
     "metadata": {},
     "output_type": "display_data"
    },
    {
     "name": "stdout",
     "output_type": "stream",
     "text": [
      "Downloading file 4/6: surface_design_1.cgns\n"
     ]
    },
    {
     "data": {
      "application/vnd.jupyter.widget-view+json": {
       "model_id": "d53bc80f12324892821e5bbb47cfa738",
       "version_major": 2,
       "version_minor": 0
      },
      "text/plain": [
       "surface_design_1.cgns:   0%|          | 0.00/3.24M [00:00<?, ?B/s]"
      ]
     },
     "metadata": {},
     "output_type": "display_data"
    },
    {
     "name": "stdout",
     "output_type": "stream",
     "text": [
      "Downloading file 5/6: surface_design_10.cgns\n"
     ]
    },
    {
     "data": {
      "application/vnd.jupyter.widget-view+json": {
       "model_id": "c78b60ca22924cff949e2848cccac4f0",
       "version_major": 2,
       "version_minor": 0
      },
      "text/plain": [
       "surface_design_10.cgns:   0%|          | 0.00/3.17M [00:00<?, ?B/s]"
      ]
     },
     "metadata": {},
     "output_type": "display_data"
    },
    {
     "name": "stdout",
     "output_type": "stream",
     "text": [
      "Downloading file 6/6: surface_design_1001.cgns\n"
     ]
    },
    {
     "data": {
      "application/vnd.jupyter.widget-view+json": {
       "model_id": "d2a85ba088f64574aa97602f34182244",
       "version_major": 2,
       "version_minor": 0
      },
      "text/plain": [
       "surface_design_1001.cgns:   0%|          | 0.00/3.34M [00:00<?, ?B/s]"
      ]
     },
     "metadata": {},
     "output_type": "display_data"
    },
    {
     "name": "stdout",
     "output_type": "stream",
     "text": [
      "All files have been downloaded to 'datasets/ds_huggingface'.\n"
     ]
    }
   ],
   "source": [
    "from src.dgl_flow_field_dataset import DGLSurfaceFlowFieldDataset\n",
    "from src.pyvista_flow_field_dataset import PyvistaFlowFieldDataset\n",
    "ds_pv = PyvistaFlowFieldDataset.load_from_huggingface(num_samples=3)\n",
    "ds_dgl = DGLSurfaceFlowFieldDataset(os.path.join(base_path,'datasets/dgl_surface'),ds_pv)\n",
    "#ds_dgl = DGLSurfaceFlowFieldDataset(os.path.join(base_path,'datasets/dgl_surface'))"
   ]
  },
  {
   "cell_type": "code",
   "execution_count": 18,
   "metadata": {},
   "outputs": [
    {
     "data": {
      "text/plain": [
       "pyvista_ndarray([[ 0.4       , -0.0655799 ,  0.02      ],\n",
       "                 [ 0.398     , -0.0635799 ,  0.02      ],\n",
       "                 [ 0.4       , -0.0615799 ,  0.02      ],\n",
       "                 ...,\n",
       "                 [ 0.184     , -0.0355799 ,  0.02      ],\n",
       "                 [ 0.16574037, -0.03541487,  0.        ],\n",
       "                 [ 0.18      , -0.0395799 ,  0.02      ]],\n",
       "                shape=(17957, 3))"
      ]
     },
     "execution_count": 18,
     "metadata": {},
     "output_type": "execute_result"
    }
   ],
   "source": [
    "ds_pv[0].get_surface_points(block_index=0)"
   ]
  },
  {
   "cell_type": "code",
   "execution_count": 22,
   "metadata": {},
   "outputs": [
    {
     "data": {
      "application/vnd.jupyter.widget-view+json": {
       "model_id": "b5cfaa59dc5a4fbabed96fe923744d8d",
       "version_major": 2,
       "version_minor": 0
      },
      "text/plain": [
       "Widget(value='<iframe src=\"http://localhost:65163/index.html?ui=P_0x34898f950_9&reconnect=auto\" class=\"pyvista…"
      ]
     },
     "metadata": {},
     "output_type": "display_data"
    }
   ],
   "source": [
    "ds_pv[1].plot_volume(\"Pressure\")"
   ]
  },
  {
   "cell_type": "code",
   "execution_count": 6,
   "metadata": {},
   "outputs": [
    {
     "data": {
      "text/plain": [
       "Graph(num_nodes=21428, num_edges=84248,\n",
       "      ndata_schemes={'BodyID': Scheme(shape=(), dtype=torch.int32), 'CellArea': Scheme(shape=(), dtype=torch.float32), 'Normal': Scheme(shape=(3,), dtype=torch.float32), 'ShearStress': Scheme(shape=(3,), dtype=torch.float32), 'Position': Scheme(shape=(3,), dtype=torch.float32), 'Temperature': Scheme(shape=(), dtype=torch.float32), 'Pressure': Scheme(shape=(), dtype=torch.float32)}\n",
       "      edata_schemes={'dx': Scheme(shape=(3,), dtype=torch.float32)})"
      ]
     },
     "execution_count": 6,
     "metadata": {},
     "output_type": "execute_result"
    }
   ],
   "source": [
    "ds_dgl[0]"
   ]
  },
  {
   "cell_type": "code",
   "execution_count": 7,
   "metadata": {},
   "outputs": [
    {
     "name": "stdout",
     "output_type": "stream",
     "text": [
      "Graph(num_nodes=22474, num_edges=88136,\n",
      "      ndata_schemes={'BodyID': Scheme(shape=(), dtype=torch.int32), 'CellArea': Scheme(shape=(), dtype=torch.float32), 'Normal': Scheme(shape=(3,), dtype=torch.float32), 'ShearStress': Scheme(shape=(3,), dtype=torch.float32), 'Position': Scheme(shape=(3,), dtype=torch.float32), 'Temperature': Scheme(shape=(), dtype=torch.float32), 'Pressure': Scheme(shape=(), dtype=torch.float32)}\n",
      "      edata_schemes={'dx': Scheme(shape=(3,), dtype=torch.float32)})\n",
      "Graph(num_nodes=21460, num_edges=84374,\n",
      "      ndata_schemes={'BodyID': Scheme(shape=(), dtype=torch.int32), 'CellArea': Scheme(shape=(), dtype=torch.float32), 'Normal': Scheme(shape=(3,), dtype=torch.float32), 'ShearStress': Scheme(shape=(3,), dtype=torch.float32), 'Position': Scheme(shape=(3,), dtype=torch.float32), 'Temperature': Scheme(shape=(), dtype=torch.float32), 'Pressure': Scheme(shape=(), dtype=torch.float32)}\n",
      "      edata_schemes={'dx': Scheme(shape=(3,), dtype=torch.float32)})\n",
      "Graph(num_nodes=21428, num_edges=84248,\n",
      "      ndata_schemes={'BodyID': Scheme(shape=(), dtype=torch.int32), 'CellArea': Scheme(shape=(), dtype=torch.float32), 'Normal': Scheme(shape=(3,), dtype=torch.float32), 'ShearStress': Scheme(shape=(3,), dtype=torch.float32), 'Position': Scheme(shape=(3,), dtype=torch.float32), 'Temperature': Scheme(shape=(), dtype=torch.float32), 'Pressure': Scheme(shape=(), dtype=torch.float32)}\n",
      "      edata_schemes={'dx': Scheme(shape=(3,), dtype=torch.float32)})\n"
     ]
    }
   ],
   "source": [
    "from dgl.dataloading import GraphDataLoader\n",
    "import torch\n",
    "\n",
    "device = torch.device('cuda' if torch.cuda.is_available() else 'cpu')\n",
    "dataloader = GraphDataLoader(ds_dgl, batch_size=1, shuffle=True)\n",
    "for batch in dataloader:\n",
    "    print(batch)\n",
    "    "
   ]
  },
  {
   "cell_type": "code",
   "execution_count": 8,
   "metadata": {},
   "outputs": [
    {
     "name": "stdout",
     "output_type": "stream",
     "text": [
      "Node X:  tensor([[-1.7375e+00,  1.7359e+00, -1.1969e+00, -7.7721e-03, -1.5141e-02,\n",
      "         -1.0316e+00],\n",
      "        [-1.7201e+00,  1.7360e+00, -1.1969e+00, -7.7721e-03, -1.5141e-02,\n",
      "         -1.0316e+00],\n",
      "        [-1.7374e+00,  1.6648e+00, -1.1969e+00, -7.7721e-03, -1.5141e-02,\n",
      "         -1.0316e+00],\n",
      "        ...,\n",
      "        [ 1.6292e+00, -3.5846e-03, -1.3716e-01, -6.3510e+00, -1.5141e-02,\n",
      "          7.7114e-03],\n",
      "        [ 1.6228e+00, -3.5846e-03, -9.1087e-02, -7.7721e-03, -1.5141e-02,\n",
      "         -1.0316e+00],\n",
      "        [ 1.6228e+00, -2.2674e-02, -1.3716e-01, -7.7721e-03,  4.4902e+00,\n",
      "          7.7114e-03]]) torch.Size([21428, 6])\n",
      "Edge X:  tensor([[ 1.4280e+00,  1.7693e-04,  2.7578e-10],\n",
      "        [ 6.6880e-03, -1.4613e+00,  2.7578e-10],\n",
      "        [-1.4280e+00, -1.7693e-04,  2.7578e-10],\n",
      "        ...,\n",
      "        [ 5.2391e-01,  3.9186e-01,  2.7578e-10],\n",
      "        [-9.1376e-10,  3.9186e-01,  1.2818e+00],\n",
      "        [-9.1376e-10,  1.3555e-09, -4.3580e+00]]) torch.Size([84248, 3])\n",
      "Node Y:  tensor([[ 2.2599, -0.5342,  4.4705,  0.0617, -0.0493],\n",
      "        [ 2.1293, -0.5341,  2.3999,  0.0657, -0.0493],\n",
      "        [ 2.2630, -0.5342,  4.4901,  0.0657, -0.0493],\n",
      "        ...,\n",
      "        [-1.8993,  0.8132, -1.2482,  1.4703, -0.9507],\n",
      "        [-0.9672,  0.8132,  1.6408,  0.3792, -0.0493],\n",
      "        [-0.9295,  0.8132,  1.3667,  0.0559,  0.5256]]) torch.Size([21428, 5])\n"
     ]
    }
   ],
   "source": [
    "import dgl\n",
    "\n",
    "\n",
    "def get_node_edge_X(graph: dgl.DGLGraph):\n",
    "    node_X = torch.cat([graph.ndata[\"Position\"], graph.ndata[\"Normal\"]],dim=1)\n",
    "    edge_X = torch.cat([graph.edata[\"dx\"]],dim=1)\n",
    "    return node_X, edge_X\n",
    "\n",
    "def get_node_Y(graph: dgl.DGLGraph):\n",
    "    return torch.cat([graph.ndata[\"Pressure\"].unsqueeze(1),graph.ndata[\"Temperature\"].unsqueeze(1),graph.ndata['ShearStress']],dim=1)\n",
    "\n",
    "def set_graph_features(graph: dgl.DGLGraph, node_X, edge_X, node_Y):\n",
    "    graph.ndata[\"Position\"] = node_X[:,:3]\n",
    "    graph.ndata[\"Normal\"] = node_X[:,3:]\n",
    "    graph.edata[\"dx\"] = edge_X\n",
    "    graph.ndata[\"Pressure\"] = node_Y[:,0]\n",
    "    graph.ndata[\"Temperature\"] = node_Y[:,1]\n",
    "    graph.ndata[\"ShearStress\"] = node_Y[:,2:]\n",
    "g=ds_dgl[0]\n",
    "g_cp=g.clone()\n",
    "ndx, edx = get_node_edge_X(g)\n",
    "ndy = get_node_Y(g)\n",
    "set_graph_features(g_cp, ndx, edx, ndy)\n",
    "assert torch.allclose(g_cp.ndata[\"Position\"], g.ndata[\"Position\"])\n",
    "assert torch.allclose(g_cp.ndata[\"Normal\"], g.ndata[\"Normal\"])\n",
    "assert torch.allclose(g_cp.edata[\"dx\"], g.edata[\"dx\"])\n",
    "assert torch.allclose(g_cp.ndata[\"Pressure\"], g.ndata[\"Pressure\"])\n",
    "assert torch.allclose(g_cp.ndata[\"Temperature\"], g.ndata[\"Temperature\"])\n",
    "assert torch.allclose(g_cp.ndata[\"ShearStress\"], g.ndata[\"ShearStress\"])\n",
    "num_node_features = ndx.shape[1]\n",
    "num_edge_features = edx.shape[1]\n",
    "num_node_labels = ndy.shape[1]\n",
    "print(\"Node X: \",ndx, ndx.shape)\n",
    "print(\"Edge X: \",edx, edx.shape)\n",
    "print(\"Node Y: \",ndy, ndy.shape)"
   ]
  },
  {
   "cell_type": "code",
   "execution_count": 9,
   "metadata": {},
   "outputs": [],
   "source": [
    "from modulus.models.meshgraphnet import MeshGraphNet\n",
    "model = MeshGraphNet(\n",
    "    input_dim_nodes=num_node_features,\n",
    "    input_dim_edges=num_edge_features,\n",
    "    output_dim=num_node_labels,\n",
    "    aggregation='sum',\n",
    "    hidden_dim_edge_encoder=64,\n",
    "    hidden_dim_node_encoder=64,\n",
    "    hidden_dim_processor=64,\n",
    "    hidden_dim_node_decoder=64\n",
    ")\n",
    "model=model.to(device)\n",
    "from torch.optim import Adam\n",
    "from torch.optim.lr_scheduler import LambdaLR\n",
    "from torch.amp import GradScaler\n",
    "optimizer = Adam(model.parameters(), lr=1e-4)\n",
    "scheduler = LambdaLR(optimizer, lr_lambda=lambda epoch: 0.99985 ** epoch)\n",
    "scaler = GradScaler(device=device)"
   ]
  },
  {
   "cell_type": "code",
   "execution_count": null,
   "metadata": {},
   "outputs": [
    {
     "name": "stdout",
     "output_type": "stream",
     "text": [
      "Epoch 300 loss: 1.3478957563638687\n",
      "Epoch 301 loss: 1.374155730009079\n",
      "Epoch 302 loss: 1.3570579588413239\n",
      "Epoch 303 loss: 1.3635932803153992\n",
      "Epoch 304 loss: 1.3247084468603134\n",
      "Epoch 305 loss: 1.356018304824829\n",
      "Epoch 306 loss: 1.3977064192295074\n",
      "Epoch 307 loss: 1.392484426498413\n",
      "Epoch 308 loss: 1.3638753145933151\n",
      "Epoch 309 loss: 1.3507467359304428\n",
      "Epoch 310 loss: 1.352421686053276\n",
      "Epoch 311 loss: 1.3406947553157806\n",
      "Epoch 312 loss: 1.3524826765060425\n",
      "Epoch 313 loss: 1.3624065518379211\n",
      "Epoch 314 loss: 1.3322982341051102\n",
      "Epoch 315 loss: 1.3381107598543167\n",
      "Epoch 316 loss: 1.338989645242691\n",
      "Epoch 317 loss: 1.352041557431221\n",
      "Epoch 318 loss: 1.3522373288869858\n",
      "Epoch 319 loss: 1.3334715366363525\n",
      "Epoch 320 loss: 1.3245503455400467\n",
      "Epoch 321 loss: 1.352649301290512\n",
      "Epoch 322 loss: 1.3409426659345627\n",
      "Epoch 323 loss: 1.3170555979013443\n",
      "Epoch 324 loss: 1.3337657153606415\n",
      "Epoch 325 loss: 1.3333241194486618\n",
      "Epoch 326 loss: 1.3390883803367615\n",
      "Epoch 327 loss: 1.3376052677631378\n",
      "Epoch 328 loss: 1.3212721049785614\n",
      "Epoch 329 loss: 1.3355681896209717\n",
      "Epoch 330 loss: 1.3233636319637299\n",
      "Epoch 331 loss: 1.3248859196901321\n",
      "Epoch 332 loss: 1.3043352663516998\n",
      "Epoch 333 loss: 1.3141060769557953\n",
      "Epoch 334 loss: 1.330831691622734\n",
      "Epoch 335 loss: 1.3303237557411194\n",
      "Epoch 336 loss: 1.350703552365303\n",
      "Epoch 337 loss: 1.3792043626308441\n",
      "Epoch 338 loss: 1.369248241186142\n",
      "Epoch 339 loss: 1.4375522583723068\n",
      "Epoch 340 loss: 1.3633264005184174\n",
      "Epoch 341 loss: 1.3671550303697586\n",
      "Epoch 342 loss: 1.3637875467538834\n",
      "Epoch 343 loss: 1.348820522427559\n",
      "Epoch 344 loss: 1.3373743146657944\n",
      "Epoch 345 loss: 1.3312521278858185\n",
      "Epoch 346 loss: 1.3408684730529785\n",
      "Epoch 347 loss: 1.3141582161188126\n",
      "Epoch 348 loss: 1.2963715195655823\n"
     ]
    }
   ],
   "source": [
    "\n",
    "from modulus.launch.utils import save_checkpoint, load_checkpoint\n",
    "checkpoint_path = 'checkpoints'\n",
    "os.makedirs(checkpoint_path,exist_ok=True)\n",
    "epoch_init = load_checkpoint(checkpoint_path,model,optimizer,scheduler,scaler,device=device)\n",
    "num_epochs = 400\n",
    "model.to(device)\n",
    "for epoch in range(epoch_init,num_epochs):\n",
    "    total_loss = 0\n",
    "    for batch in dataloader:\n",
    "        batch = batch.to(device)\n",
    "        node_X, edge_X = get_node_edge_X(batch)\n",
    "        node_Y = get_node_Y(batch)\n",
    "        node_Y_pred = model(node_X,edge_X,batch)\n",
    "        batch_pred_graph = batch.clone()\n",
    "        set_graph_features(batch_pred_graph, node_X, edge_X, node_Y_pred)\n",
    "        agg_force_pred = ds_dgl.compute_aggregate_force(batch_pred_graph)\n",
    "        agg_force = ds_dgl.compute_aggregate_force(batch)\n",
    "        #print('Agg force pred: ',format_vector(agg_force_pred.tolist()),' Agg force: ',format_vector(agg_force.tolist()))\n",
    "        loss = torch.nn.functional.mse_loss(node_Y_pred,node_Y) + 5* torch.nn.functional.mse_loss(agg_force_pred,agg_force)\n",
    "        total_loss += loss.item()\n",
    "        optimizer.zero_grad()\n",
    "        scaler.scale(loss).backward()\n",
    "        scaler.step(optimizer)\n",
    "        scaler.update()\n",
    "    print(f'Epoch {epoch} loss: {total_loss}')\n",
    "    scheduler.step()\n",
    "    if epoch % 10 == 0:\n",
    "        save_checkpoint(checkpoint_path,model,optimizer,scheduler,scaler,epoch)\n",
    "save_checkpoint(checkpoint_path,model,optimizer,scheduler,scaler,num_epochs)"
   ]
  },
  {
   "cell_type": "code",
   "execution_count": 35,
   "metadata": {},
   "outputs": [
    {
     "data": {
      "application/vnd.jupyter.widget-view+json": {
       "model_id": "28360c180df140f3b4f85b467c5b6fe0",
       "version_major": 2,
       "version_minor": 0
      },
      "text/plain": [
       "Widget(value='<iframe src=\"http://localhost:43085/index.html?ui=P_0x7ef9a6f13c50_18&reconnect=auto\" class=\"pyv…"
      ]
     },
     "metadata": {},
     "output_type": "display_data"
    }
   ],
   "source": [
    "model.to(device)\n",
    "g=ds_dgl[0].to(device)\n",
    "g_pred = g.clone().to(device)\n",
    "ndx, edx = get_node_edge_X(g)\n",
    "with torch.no_grad():\n",
    "    y_pred = model(ndx,edx,g)\n",
    "set_graph_features(g_pred, ndx, edx, y_pred)\n",
    "ds_dgl.plot_surface(g_pred,\"Pressure\")"
   ]
  },
  {
   "cell_type": "code",
   "execution_count": 36,
   "metadata": {},
   "outputs": [
    {
     "data": {
      "application/vnd.jupyter.widget-view+json": {
       "model_id": "655004a5ba4c4f5d81de8746e9dd4f52",
       "version_major": 2,
       "version_minor": 0
      },
      "text/plain": [
       "Widget(value='<iframe src=\"http://localhost:43085/index.html?ui=P_0x7ef9a17fa450_19&reconnect=auto\" class=\"pyv…"
      ]
     },
     "metadata": {},
     "output_type": "display_data"
    }
   ],
   "source": [
    "ds_dgl.plot_surface(g,\"Pressure\")"
   ]
  },
  {
   "cell_type": "code",
   "execution_count": 37,
   "metadata": {},
   "outputs": [
    {
     "data": {
      "text/plain": [
       "tensor([ 0.0140, -0.0021, -0.0022], device='cuda:0')"
      ]
     },
     "execution_count": 37,
     "metadata": {},
     "output_type": "execute_result"
    }
   ],
   "source": [
    "ds_dgl.compute_aggregate_force(g, 1)"
   ]
  },
  {
   "cell_type": "code",
   "execution_count": 38,
   "metadata": {},
   "outputs": [
    {
     "data": {
      "text/plain": [
       "tensor([ 0.0089, -0.0023, -0.0045], device='cuda:0')"
      ]
     },
     "execution_count": 38,
     "metadata": {},
     "output_type": "execute_result"
    }
   ],
   "source": [
    "ds_dgl.compute_aggregate_force(g_pred,1)"
   ]
  }
 ],
 "metadata": {
  "kernelspec": {
   "display_name": ".venv",
   "language": "python",
   "name": "python3"
  },
  "language_info": {
   "codemirror_mode": {
    "name": "ipython",
    "version": 3
   },
   "file_extension": ".py",
   "mimetype": "text/x-python",
   "name": "python",
   "nbconvert_exporter": "python",
   "pygments_lexer": "ipython3",
   "version": "3.11.11"
  }
 },
 "nbformat": 4,
 "nbformat_minor": 2
}
