{
 "cells": [
  {
   "cell_type": "code",
   "execution_count": 1,
   "metadata": {},
   "outputs": [],
   "source": [
    "%load_ext autoreload\n",
    "%autoreload 2"
   ]
  },
  {
   "cell_type": "code",
   "execution_count": 2,
   "metadata": {},
   "outputs": [],
   "source": [
    "\n",
    "import sys\n",
    "import os\n",
    "base_path = '../../'\n",
    "sys.path.append(base_path)\n",
    "from src.dgl_flow_field_dataset import DGLSurfaceFlowFieldDataset\n",
    "from src.pyvista_flow_field_dataset import PyvistaFlowFieldDataset\n",
    "from modulus.models.meshgraphnet import MeshGraphNet"
   ]
  },
  {
   "cell_type": "code",
   "execution_count": 3,
   "metadata": {},
   "outputs": [],
   "source": [
    "ds_pv = PyvistaFlowFieldDataset(os.path.join(base_path,'datasets/Example cgns volume + surface'))\n",
    "ds_dgl = DGLSurfaceFlowFieldDataset(os.path.join(base_path,'datasets/dgl_surface'),ds_pv)"
   ]
  },
  {
   "cell_type": "code",
   "execution_count": 4,
   "metadata": {},
   "outputs": [
    {
     "data": {
      "text/plain": [
       "Graph(num_nodes=21293, num_edges=83778,\n",
       "      ndata_schemes={'BodyID': Scheme(shape=(), dtype=torch.int32), 'CellArea': Scheme(shape=(), dtype=torch.float32), 'Normal': Scheme(shape=(3,), dtype=torch.float32), 'ShearStress': Scheme(shape=(3,), dtype=torch.float32), 'Position': Scheme(shape=(3,), dtype=torch.float32), 'Temperature': Scheme(shape=(), dtype=torch.float32), 'Pressure': Scheme(shape=(), dtype=torch.float32)}\n",
       "      edata_schemes={'dx': Scheme(shape=(3,), dtype=torch.float32)})"
      ]
     },
     "execution_count": 4,
     "metadata": {},
     "output_type": "execute_result"
    }
   ],
   "source": [
    "ds_dgl[0]"
   ]
  },
  {
   "cell_type": "code",
   "execution_count": 5,
   "metadata": {},
   "outputs": [
    {
     "name": "stdout",
     "output_type": "stream",
     "text": [
      "New batch\n",
      "Graph(num_nodes=22337, num_edges=87616,\n",
      "      ndata_schemes={'BodyID': Scheme(shape=(), dtype=torch.int32), 'CellArea': Scheme(shape=(), dtype=torch.float32), 'Normal': Scheme(shape=(3,), dtype=torch.float32), 'ShearStress': Scheme(shape=(3,), dtype=torch.float32), 'Position': Scheme(shape=(3,), dtype=torch.float32), 'Temperature': Scheme(shape=(), dtype=torch.float32), 'Pressure': Scheme(shape=(), dtype=torch.float32)}\n",
      "      edata_schemes={'dx': Scheme(shape=(3,), dtype=torch.float32)})\n",
      "New batch\n",
      "Graph(num_nodes=22292, num_edges=87534,\n",
      "      ndata_schemes={'BodyID': Scheme(shape=(), dtype=torch.int32), 'CellArea': Scheme(shape=(), dtype=torch.float32), 'Normal': Scheme(shape=(3,), dtype=torch.float32), 'ShearStress': Scheme(shape=(3,), dtype=torch.float32), 'Position': Scheme(shape=(3,), dtype=torch.float32), 'Temperature': Scheme(shape=(), dtype=torch.float32), 'Pressure': Scheme(shape=(), dtype=torch.float32)}\n",
      "      edata_schemes={'dx': Scheme(shape=(3,), dtype=torch.float32)})\n",
      "New batch\n",
      "Graph(num_nodes=21293, num_edges=83778,\n",
      "      ndata_schemes={'BodyID': Scheme(shape=(), dtype=torch.int32), 'CellArea': Scheme(shape=(), dtype=torch.float32), 'Normal': Scheme(shape=(3,), dtype=torch.float32), 'ShearStress': Scheme(shape=(3,), dtype=torch.float32), 'Position': Scheme(shape=(3,), dtype=torch.float32), 'Temperature': Scheme(shape=(), dtype=torch.float32), 'Pressure': Scheme(shape=(), dtype=torch.float32)}\n",
      "      edata_schemes={'dx': Scheme(shape=(3,), dtype=torch.float32)})\n"
     ]
    }
   ],
   "source": [
    "from dgl.dataloading import GraphDataLoader\n",
    "import torch\n",
    "\n",
    "device = torch.device('cuda' if torch.cuda.is_available() else 'cpu')\n",
    "dataloader = GraphDataLoader(ds_dgl, batch_size=1, shuffle=True)\n",
    "for batch in dataloader:\n",
    "    print('New batch')\n",
    "    print(batch)\n",
    "    "
   ]
  },
  {
   "cell_type": "code",
   "execution_count": 21,
   "metadata": {},
   "outputs": [
    {
     "name": "stdout",
     "output_type": "stream",
     "text": [
      "Node X:  tensor([[ 1.2582e+00, -1.7498e+00, -1.0662e+00, -2.0974e-03, -3.8745e-03,\n",
      "         -1.0238e+00],\n",
      "        [ 1.2585e+00, -1.6781e+00, -1.0662e+00, -2.0974e-03, -3.8745e-03,\n",
      "         -1.0238e+00],\n",
      "        [ 1.2408e+00, -1.7498e+00, -1.0662e+00, -2.0974e-03, -3.8745e-03,\n",
      "         -1.0238e+00],\n",
      "        ...,\n",
      "        [ 5.1143e-01, -3.1371e-02, -2.3643e-01, -2.0974e-03,  4.0907e+00,\n",
      "          1.5715e-02],\n",
      "        [ 4.9444e-01, -1.3117e-02, -6.9371e-03, -2.0974e-03, -3.8745e-03,\n",
      "         -1.0238e+00],\n",
      "        [ 4.9444e-01, -3.1371e-02, -6.8725e-02, -2.0974e-03,  4.0907e+00,\n",
      "          1.5715e-02]]) torch.Size([21293, 6])\n",
      "Edge X:  tensor([[ 1.9371e-02,  1.4985e+00, -5.3246e-10],\n",
      "        [-1.4207e+00,  6.2623e-11, -5.3246e-10],\n",
      "        [ 1.4207e+00,  6.2623e-11, -5.3246e-10],\n",
      "        ...,\n",
      "        [ 1.3838e+00,  6.2623e-11, -5.3246e-10],\n",
      "        [ 6.4081e-10,  6.2623e-11, -4.8453e+00],\n",
      "        [-1.3838e+00,  6.2623e-11, -5.3246e-10]]) torch.Size([83778, 3])\n",
      "Node Y:  tensor([[-0.5311,  0.4214, -0.1142,  0.0482, -0.0453],\n",
      "        [-0.5308,  0.4232, -0.1160,  0.0547, -0.0453],\n",
      "        [-0.5373,  0.4249, -0.1070,  0.0487, -0.0453],\n",
      "        ...,\n",
      "        [-1.5844, -1.8851, -1.3489,  0.0449, -1.2691],\n",
      "        [-1.5927, -1.8851,  0.1489, -0.4215, -0.0453],\n",
      "        [-1.6967, -1.8851,  0.1174,  0.0449, -1.8960]]) torch.Size([21293, 5])\n"
     ]
    }
   ],
   "source": [
    "import dgl\n",
    "\n",
    "\n",
    "def get_node_edge_X(graph: dgl.DGLGraph):\n",
    "    node_X = torch.cat([graph.ndata[\"Position\"], graph.ndata[\"Normal\"]],dim=1)\n",
    "    edge_X = torch.cat([graph.edata[\"dx\"]],dim=1)\n",
    "    return node_X, edge_X\n",
    "\n",
    "def get_node_Y(graph: dgl.DGLGraph):\n",
    "    return torch.cat([graph.ndata[\"Pressure\"].unsqueeze(1),graph.ndata[\"Temperature\"].unsqueeze(1),graph.ndata['ShearStress']],dim=1)\n",
    "\n",
    "def set_graph_features(graph: dgl.DGLGraph, node_X, edge_X, node_Y):\n",
    "    graph.ndata[\"Position\"] = node_X[:,:3]\n",
    "    graph.ndata[\"Normal\"] = node_X[:,3:]\n",
    "    graph.edata[\"dx\"] = edge_X\n",
    "    graph.ndata[\"Pressure\"] = node_Y[:,0]\n",
    "    graph.ndata[\"Temperature\"] = node_Y[:,1]\n",
    "    graph.ndata[\"ShearStress\"] = node_Y[:,2:]\n",
    "g=ds_dgl[0]\n",
    "g_cp=g.clone()\n",
    "ndx, edx = get_node_edge_X(g)\n",
    "ndy = get_node_Y(g)\n",
    "set_graph_features(g_cp, ndx, edx, ndy)\n",
    "assert torch.allclose(g_cp.ndata[\"Position\"], g.ndata[\"Position\"])\n",
    "assert torch.allclose(g_cp.ndata[\"Normal\"], g.ndata[\"Normal\"])\n",
    "assert torch.allclose(g_cp.edata[\"dx\"], g.edata[\"dx\"])\n",
    "assert torch.allclose(g_cp.ndata[\"Pressure\"], g.ndata[\"Pressure\"])\n",
    "assert torch.allclose(g_cp.ndata[\"Temperature\"], g.ndata[\"Temperature\"])\n",
    "assert torch.allclose(g_cp.ndata[\"ShearStress\"], g.ndata[\"ShearStress\"])\n",
    "num_node_features = ndx.shape[1]\n",
    "num_edge_features = edx.shape[1]\n",
    "num_node_labels = ndy.shape[1]\n",
    "print(\"Node X: \",ndx, ndx.shape)\n",
    "print(\"Edge X: \",edx, edx.shape)\n",
    "print(\"Node Y: \",ndy, ndy.shape)"
   ]
  },
  {
   "cell_type": "code",
   "execution_count": 7,
   "metadata": {},
   "outputs": [
    {
     "data": {
      "text/plain": [
       "tensor([[ 0.1367,  0.2204, -0.3147, -0.1320,  0.0310],\n",
       "        [ 0.0825,  0.2339, -0.3496, -0.0940,  0.0605],\n",
       "        [ 0.1362,  0.2204, -0.3151, -0.1312,  0.0303],\n",
       "        ...,\n",
       "        [-0.2571, -0.0057, -0.0835, -0.0238,  0.0883],\n",
       "        [-0.0122,  0.1083, -0.1325, -0.0696, -0.1092],\n",
       "        [-0.2686, -0.0280, -0.1199, -0.0435,  0.0595]],\n",
       "       grad_fn=<AddmmBackward0>)"
      ]
     },
     "execution_count": 7,
     "metadata": {},
     "output_type": "execute_result"
    }
   ],
   "source": [
    "model = MeshGraphNet(\n",
    "    input_dim_nodes=num_node_features,\n",
    "    input_dim_edges=num_edge_features,\n",
    "    output_dim=num_node_labels,\n",
    "    aggregation='sum',\n",
    "    hidden_dim_edge_encoder=64,\n",
    "    hidden_dim_node_encoder=64,\n",
    "    hidden_dim_processor=64,\n",
    "    hidden_dim_node_decoder=64\n",
    ")\n",
    "model\n",
    "model\n",
    "model(ndx,edx,ds_dgl[0])"
   ]
  },
  {
   "cell_type": "code",
   "execution_count": 8,
   "metadata": {},
   "outputs": [],
   "source": [
    "from torch.optim import Adam\n",
    "from torch.optim.lr_scheduler import LambdaLR\n",
    "from torch.amp import GradScaler\n",
    "optimizer = Adam(model.parameters(), lr=1e-4)\n",
    "scheduler = LambdaLR(optimizer, lr_lambda=lambda epoch: 0.99985 ** epoch)\n",
    "scaler = GradScaler()"
   ]
  },
  {
   "cell_type": "code",
   "execution_count": null,
   "metadata": {},
   "outputs": [
    {
     "name": "stdout",
     "output_type": "stream",
     "text": [
      "Epoch 99 loss: 1.3939292132854462\n",
      "Epoch 100 loss: 1.3848245590925217\n",
      "Epoch 101 loss: 1.365472212433815\n",
      "Epoch 102 loss: 1.3364130407571793\n",
      "Epoch 103 loss: 1.299078643321991\n",
      "Epoch 104 loss: 1.2961855828762054\n",
      "Epoch 105 loss: 1.2715221047401428\n",
      "Epoch 106 loss: 1.2447074800729752\n",
      "Epoch 107 loss: 1.2232197970151901\n",
      "Epoch 108 loss: 1.231067880988121\n",
      "Epoch 109 loss: 1.2336003929376602\n",
      "Epoch 110 loss: 1.2381902188062668\n",
      "Epoch 111 loss: 1.2243427485227585\n",
      "Epoch 112 loss: 1.220887079834938\n",
      "Epoch 113 loss: 1.2255081236362457\n",
      "Epoch 114 loss: 1.1968663036823273\n",
      "Epoch 115 loss: 1.1802183240652084\n",
      "Epoch 116 loss: 1.1788102835416794\n",
      "Epoch 117 loss: 1.1712919622659683\n",
      "Epoch 118 loss: 1.1729488223791122\n",
      "Epoch 119 loss: 1.163592666387558\n",
      "Epoch 120 loss: 1.1399722695350647\n",
      "Epoch 121 loss: 1.14089697599411\n",
      "Epoch 122 loss: 1.1419382244348526\n",
      "Epoch 123 loss: 1.2568971514701843\n",
      "Epoch 124 loss: 1.3026102036237717\n",
      "Epoch 125 loss: 1.2419874966144562\n",
      "Epoch 126 loss: 1.2218234837055206\n",
      "Epoch 127 loss: 1.229385107755661\n",
      "Epoch 128 loss: 1.2120121270418167\n",
      "Epoch 129 loss: 1.2179035246372223\n",
      "Epoch 130 loss: 1.1950526535511017\n",
      "Epoch 131 loss: 1.172392576932907\n",
      "Epoch 132 loss: 1.1812510192394257\n",
      "Epoch 133 loss: 1.157970517873764\n",
      "Epoch 134 loss: 1.173440933227539\n",
      "Epoch 135 loss: 1.141938254237175\n",
      "Epoch 136 loss: 1.1627083718776703\n",
      "Epoch 137 loss: 1.148051917552948\n",
      "Epoch 138 loss: 1.1278431713581085\n",
      "Epoch 139 loss: 1.1489256769418716\n",
      "Epoch 140 loss: 1.1182086020708084\n",
      "Epoch 141 loss: 1.1247091442346573\n",
      "Epoch 142 loss: 1.1465875208377838\n",
      "Epoch 143 loss: 1.126674547791481\n",
      "Epoch 144 loss: 1.1090191006660461\n",
      "Epoch 145 loss: 1.0916108787059784\n",
      "Epoch 146 loss: 1.0993621200323105\n",
      "Epoch 147 loss: 1.0788028538227081\n",
      "Epoch 148 loss: 1.070285752415657\n",
      "Epoch 149 loss: 1.1194593757390976\n",
      "Epoch 150 loss: 1.0981646031141281\n",
      "Epoch 151 loss: 1.0601564645767212\n",
      "Epoch 152 loss: 1.0830505192279816\n",
      "Epoch 153 loss: 1.0554337799549103\n",
      "Epoch 154 loss: 1.0987025797367096\n",
      "Epoch 155 loss: 1.1031322181224823\n",
      "Epoch 156 loss: 1.1033706665039062\n",
      "Epoch 157 loss: 1.0760582983493805\n",
      "Epoch 158 loss: 1.072317436337471\n",
      "Epoch 159 loss: 1.0400267094373703\n",
      "Epoch 160 loss: 1.0441473871469498\n",
      "Epoch 161 loss: 1.0286733955144882\n",
      "Epoch 162 loss: 1.0321582108736038\n",
      "Epoch 163 loss: 1.028717041015625\n",
      "Epoch 164 loss: 1.039112150669098\n",
      "Epoch 165 loss: 1.0062639564275742\n",
      "Epoch 166 loss: 1.0231969952583313\n",
      "Epoch 167 loss: 1.015725925564766\n",
      "Epoch 168 loss: 0.9962908327579498\n",
      "Epoch 169 loss: 1.004943385720253\n",
      "Epoch 170 loss: 1.0196041017770767\n",
      "Epoch 171 loss: 1.029835194349289\n",
      "Epoch 172 loss: 1.0363515466451645\n",
      "Epoch 173 loss: 1.0184133648872375\n",
      "Epoch 174 loss: 1.0369310975074768\n",
      "Epoch 175 loss: 1.0381257683038712\n",
      "Epoch 176 loss: 1.137838676571846\n",
      "Epoch 177 loss: 1.098692923784256\n",
      "Epoch 178 loss: 1.0380172431468964\n",
      "Epoch 179 loss: 1.0796509832143784\n",
      "Epoch 180 loss: 1.0094048976898193\n",
      "Epoch 181 loss: 1.0108064413070679\n",
      "Epoch 182 loss: 1.0106217414140701\n",
      "Epoch 183 loss: 0.9927065372467041\n",
      "Epoch 184 loss: 0.9720452576875687\n",
      "Epoch 185 loss: 0.9911037683486938\n",
      "Epoch 186 loss: 0.9788952469825745\n",
      "Epoch 187 loss: 0.9825022518634796\n",
      "Epoch 188 loss: 1.003178358078003\n",
      "Epoch 189 loss: 1.0320659428834915\n",
      "Epoch 190 loss: 1.0708087384700775\n",
      "Epoch 191 loss: 1.0149185955524445\n",
      "Epoch 192 loss: 1.0314309895038605\n",
      "Epoch 193 loss: 1.0159946978092194\n",
      "Epoch 194 loss: 1.031166523694992\n",
      "Epoch 195 loss: 0.9959759265184402\n",
      "Epoch 196 loss: 1.0155615359544754\n",
      "Epoch 197 loss: 1.0015952438116074\n",
      "Epoch 198 loss: 0.9945211857557297\n",
      "Epoch 199 loss: 1.0263606905937195\n"
     ]
    }
   ],
   "source": [
    "\n",
    "from modulus.launch.utils import save_checkpoint, load_checkpoint\n",
    "checkpoint_path = 'checkpoints'\n",
    "os.makedirs(checkpoint_path,exist_ok=True)\n",
    "epoch_init = load_checkpoint(checkpoint_path,model,optimizer,scheduler,scaler,device=device)\n",
    "num_epochs = 200\n",
    "model.to(device)\n",
    "for epoch in range(epoch_init,num_epochs):\n",
    "    total_loss = 0\n",
    "    for batch in dataloader:\n",
    "        batch = batch.to(device)\n",
    "        node_X, edge_X = get_node_edge_X(batch)\n",
    "        node_Y = get_node_Y(batch)\n",
    "        node_Y_pred = model(node_X,edge_X,batch)\n",
    "        loss = torch.nn.functional.mse_loss(node_Y_pred,node_Y)\n",
    "        total_loss += loss.item()\n",
    "        optimizer.zero_grad()\n",
    "        scaler.scale(loss).backward()\n",
    "        scaler.step(optimizer)\n",
    "        scaler.update()\n",
    "    print(f'Epoch {epoch} loss: {total_loss}')\n",
    "    scheduler.step()\n",
    "    if epoch % 10 == 0:\n",
    "        save_checkpoint(checkpoint_path,model,optimizer,scheduler,scaler,epoch)\n",
    "save_checkpoint(checkpoint_path,model,optimizer,scheduler,scaler,epoch)"
   ]
  },
  {
   "cell_type": "code",
   "execution_count": 30,
   "metadata": {},
   "outputs": [
    {
     "data": {
      "application/vnd.jupyter.widget-view+json": {
       "model_id": "50e60dbd3e5447dbb6147fe3ff3a1cc0",
       "version_major": 2,
       "version_minor": 0
      },
      "text/plain": [
       "Widget(value='<iframe src=\"http://localhost:40415/index.html?ui=P_0x7fd8c02b7290_0&reconnect=auto\" class=\"pyvi…"
      ]
     },
     "metadata": {},
     "output_type": "display_data"
    }
   ],
   "source": [
    "device = \"cpu\"\n",
    "model.to(device)\n",
    "g=ds_dgl[0].to(device)\n",
    "g_pred = g.clone().to(device)\n",
    "ndx, edx = get_node_edge_X(g)\n",
    "y_pred = model(ndx,edx,g)\n",
    "set_graph_features(g_pred, ndx, edx, y_pred)\n",
    "ds_dgl.plot_surface(g_pred,\"Pressure\")"
   ]
  },
  {
   "cell_type": "code",
   "execution_count": 32,
   "metadata": {},
   "outputs": [
    {
     "data": {
      "application/vnd.jupyter.widget-view+json": {
       "model_id": "29bc9f2c3b9e44f7bf19483a11a3ab33",
       "version_major": 2,
       "version_minor": 0
      },
      "text/plain": [
       "Widget(value='<iframe src=\"http://localhost:40415/index.html?ui=P_0x7fd8a42de4d0_2&reconnect=auto\" class=\"pyvi…"
      ]
     },
     "metadata": {},
     "output_type": "display_data"
    }
   ],
   "source": [
    "ds_dgl.plot_surface(g,\"Pressure\")"
   ]
  },
  {
   "cell_type": "code",
   "execution_count": 28,
   "metadata": {},
   "outputs": [
    {
     "ename": "AttributeError",
     "evalue": "'HeteroNodeDataView' object has no attribute 'detach'",
     "output_type": "error",
     "traceback": [
      "\u001b[0;31m---------------------------------------------------------------------------\u001b[0m",
      "\u001b[0;31mAttributeError\u001b[0m                            Traceback (most recent call last)",
      "Cell \u001b[0;32mIn[28], line 1\u001b[0m\n\u001b[0;32m----> 1\u001b[0m \u001b[43mg\u001b[49m\u001b[38;5;241;43m.\u001b[39;49m\u001b[43mndata\u001b[49m\u001b[38;5;241;43m.\u001b[39;49m\u001b[43mdetach\u001b[49m()\n",
      "\u001b[0;31mAttributeError\u001b[0m: 'HeteroNodeDataView' object has no attribute 'detach'"
     ]
    }
   ],
   "source": [
    "g.ndata.detach()"
   ]
  }
 ],
 "metadata": {
  "kernelspec": {
   "display_name": ".venv",
   "language": "python",
   "name": "python3"
  },
  "language_info": {
   "codemirror_mode": {
    "name": "ipython",
    "version": 3
   },
   "file_extension": ".py",
   "mimetype": "text/x-python",
   "name": "python",
   "nbconvert_exporter": "python",
   "pygments_lexer": "ipython3",
   "version": "3.11.11"
  }
 },
 "nbformat": 4,
 "nbformat_minor": 2
}
