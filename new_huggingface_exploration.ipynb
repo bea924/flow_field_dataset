{
 "cells": [
  {
   "cell_type": "code",
   "execution_count": 1,
   "id": "42aeab20",
   "metadata": {},
   "outputs": [],
   "source": [
    "%config IPCompleter.use_jedi = False\n",
    "%load_ext autoreload\n",
    "%autoreload 2\n",
    "import huggingface_hub as hf"
   ]
  },
  {
   "cell_type": "code",
   "execution_count": 20,
   "id": "180e9ae3",
   "metadata": {},
   "outputs": [
    {
     "data": {
      "application/vnd.jupyter.widget-view+json": {
       "model_id": "589fab561e8043a3a23c296139e5882e",
       "version_major": 2,
       "version_minor": 0
      },
      "text/plain": [
       "(…)gce/cooldata/production_run1/batch_0.zip:   0%|          | 0.00/113M [00:00<?, ?B/s]"
      ]
     },
     "metadata": {},
     "output_type": "display_data"
    }
   ],
   "source": [
    "from pathlib import Path\n",
    "repo_id = \"datasets/bgce/cooldata\"\n",
    "fs = hf.HfFileSystem()\n",
    "runs =fs.glob(f\"{repo_id}/production_run*\", detail=False)\n",
    "runs\n",
    "run = runs[0]\n",
    "files_in_run = fs.glob(f\"{run}/*.zip\", detail=False)\n",
    "files_in_run[:10]\n",
    "data_dir = \"data\"\n",
    "file = files_in_run[0]\n",
    "filename = file.split(\"/\")[-1]\n",
    "fs.download(rpath=file,lpath=f\"{data_dir}/{filename}\")"
   ]
  },
  {
   "cell_type": "code",
   "execution_count": 31,
   "id": "a0318fde",
   "metadata": {},
   "outputs": [
    {
     "data": {
      "application/vnd.jupyter.widget-view+json": {
       "model_id": "7918dabff27849e3bcd4eda63b69249c",
       "version_major": 2,
       "version_minor": 0
      },
      "text/plain": [
       "(…)e/cooldata/production_run1/batch_691.zip:   0%|          | 0.00/44.5M [00:00<?, ?B/s]"
      ]
     },
     "metadata": {},
     "output_type": "display_data"
    }
   ],
   "source": [
    "batches = [int(f.split(\"/\")[-1].removeprefix(\"batch_\").removesuffix(\".zip\")) for f in files_in_run]\n",
    "files_in_run = sorted(files_in_run, key=lambda x: int(x.split(\"/\")[-1].removeprefix(\"batch_\").removesuffix(\".zip\")))\n",
    "files_in_run[-1]\n",
    "fs.download(rpath=files_in_run[-1],lpath=f\"{data_dir}/{files_in_run[-1].split('/')[-1]}\")"
   ]
  },
  {
   "cell_type": "code",
   "execution_count": 5,
   "id": "491a33b1",
   "metadata": {},
   "outputs": [
    {
     "data": {
      "application/vnd.jupyter.widget-view+json": {
       "model_id": "5e50e9da6f204d7d9455dde6eb563e20",
       "version_major": 2,
       "version_minor": 0
      },
      "text/plain": [
       "(…)gce/cooldata/production_run1/batch_0.zip:   0%|          | 0.00/113M [00:00<?, ?B/s]"
      ]
     },
     "metadata": {},
     "output_type": "display_data"
    },
    {
     "data": {
      "application/vnd.jupyter.widget-view+json": {
       "model_id": "0bab9da6258942fe9af4e5dab5521d09",
       "version_major": 2,
       "version_minor": 0
      },
      "text/plain": [
       "(…)gce/cooldata/production_run1/batch_1.zip:   0%|          | 0.00/111M [00:00<?, ?B/s]"
      ]
     },
     "metadata": {},
     "output_type": "display_data"
    }
   ],
   "source": [
    "from src.pyvista_flow_field_dataset import PyvistaFlowFieldDataset\n",
    "\n",
    "ds = PyvistaFlowFieldDataset.load_from_huggingface(\"datasets/cooldata\",num_samples=12)\n"
   ]
  },
  {
   "cell_type": "code",
   "execution_count": 7,
   "id": "0e75bd8d",
   "metadata": {},
   "outputs": [
    {
     "name": "stderr",
     "output_type": "stream",
     "text": [
      "\u001b[0m\u001b[33m2025-05-19 07:36:03.922 ( 126.670s) [          21DD9A]      vtkCGNSReader.cxx:4268  WARN| vtkCGNSReader (0x321384e60): Skipping BC_t node: BC_t type 'BCInflow' not supported yet.\u001b[0m\n",
      "\u001b[0m\u001b[33m2025-05-19 07:36:03.923 ( 126.670s) [          21DD9A]      vtkCGNSReader.cxx:4268  WARN| vtkCGNSReader (0x321384e60): Skipping BC_t node: BC_t type 'BCSymmetryPlane' not supported yet.\u001b[0m\n",
      "\u001b[0m\u001b[33m2025-05-19 07:36:03.923 ( 126.671s) [          21DD9A]      vtkCGNSReader.cxx:4268  WARN| vtkCGNSReader (0x321384e60): Skipping BC_t node: BC_t type 'BCTunnelOutflow' not supported yet.\u001b[0m\n"
     ]
    },
    {
     "data": {
      "application/vnd.jupyter.widget-view+json": {
       "model_id": "544586fcccfc4c92b5f33cffeffc9758",
       "version_major": 2,
       "version_minor": 0
      },
      "text/plain": [
       "Widget(value='<iframe src=\"http://localhost:56070/index.html?ui=P_0x30a94a890_3&reconnect=auto\" class=\"pyvista…"
      ]
     },
     "metadata": {},
     "output_type": "display_data"
    }
   ],
   "source": [
    "ds[11].plot_volume(\"Temperature\")"
   ]
  }
 ],
 "metadata": {
  "kernelspec": {
   "display_name": ".venv",
   "language": "python",
   "name": "python3"
  },
  "language_info": {
   "codemirror_mode": {
    "name": "ipython",
    "version": 3
   },
   "file_extension": ".py",
   "mimetype": "text/x-python",
   "name": "python",
   "nbconvert_exporter": "python",
   "pygments_lexer": "ipython3",
   "version": "3.11.12"
  }
 },
 "nbformat": 4,
 "nbformat_minor": 5
}
